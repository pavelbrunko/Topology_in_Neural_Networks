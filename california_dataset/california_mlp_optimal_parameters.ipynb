{
 "cells": [
  {
   "cell_type": "markdown",
   "metadata": {},
   "source": [
    "# Setting optimal MLP's hiperparameters for California Housing dataset"
   ]
  },
  {
   "cell_type": "code",
   "execution_count": 2,
   "metadata": {},
   "outputs": [],
   "source": [
    "# Importing all necessary libraries\n",
    "import torch\n",
    "import torch.nn as nn\n",
    "import torch.optim as optim\n",
    "import optuna\n",
    "import pandas as pd\n",
    "\n",
    "from torch.utils.data import DataLoader, TensorDataset\n",
    "from sklearn.model_selection import train_test_split\n",
    "from sklearn.preprocessing import MinMaxScaler\n",
    "\n",
    "pd.set_option('display.max_columns', 70)"
   ]
  },
  {
   "cell_type": "code",
   "execution_count": 3,
   "metadata": {},
   "outputs": [
    {
     "data": {
      "text/html": [
       "<div>\n",
       "<style scoped>\n",
       "    .dataframe tbody tr th:only-of-type {\n",
       "        vertical-align: middle;\n",
       "    }\n",
       "\n",
       "    .dataframe tbody tr th {\n",
       "        vertical-align: top;\n",
       "    }\n",
       "\n",
       "    .dataframe thead th {\n",
       "        text-align: right;\n",
       "    }\n",
       "</style>\n",
       "<table border=\"1\" class=\"dataframe\">\n",
       "  <thead>\n",
       "    <tr style=\"text-align: right;\">\n",
       "      <th></th>\n",
       "      <th>longitude</th>\n",
       "      <th>latitude</th>\n",
       "      <th>housing_median_age</th>\n",
       "      <th>total_rooms</th>\n",
       "      <th>total_bedrooms</th>\n",
       "      <th>population</th>\n",
       "      <th>households</th>\n",
       "      <th>median_income</th>\n",
       "      <th>median_house_value</th>\n",
       "    </tr>\n",
       "  </thead>\n",
       "  <tbody>\n",
       "    <tr>\n",
       "      <th>0</th>\n",
       "      <td>-122.23</td>\n",
       "      <td>37.88</td>\n",
       "      <td>41.0</td>\n",
       "      <td>880.0</td>\n",
       "      <td>129.0</td>\n",
       "      <td>322.0</td>\n",
       "      <td>126.0</td>\n",
       "      <td>8.3252</td>\n",
       "      <td>452600.0</td>\n",
       "    </tr>\n",
       "    <tr>\n",
       "      <th>1</th>\n",
       "      <td>-122.22</td>\n",
       "      <td>37.86</td>\n",
       "      <td>21.0</td>\n",
       "      <td>7099.0</td>\n",
       "      <td>1106.0</td>\n",
       "      <td>2401.0</td>\n",
       "      <td>1138.0</td>\n",
       "      <td>8.3014</td>\n",
       "      <td>358500.0</td>\n",
       "    </tr>\n",
       "    <tr>\n",
       "      <th>2</th>\n",
       "      <td>-122.24</td>\n",
       "      <td>37.85</td>\n",
       "      <td>52.0</td>\n",
       "      <td>1467.0</td>\n",
       "      <td>190.0</td>\n",
       "      <td>496.0</td>\n",
       "      <td>177.0</td>\n",
       "      <td>7.2574</td>\n",
       "      <td>352100.0</td>\n",
       "    </tr>\n",
       "    <tr>\n",
       "      <th>3</th>\n",
       "      <td>-122.25</td>\n",
       "      <td>37.85</td>\n",
       "      <td>52.0</td>\n",
       "      <td>1274.0</td>\n",
       "      <td>235.0</td>\n",
       "      <td>558.0</td>\n",
       "      <td>219.0</td>\n",
       "      <td>5.6431</td>\n",
       "      <td>341300.0</td>\n",
       "    </tr>\n",
       "    <tr>\n",
       "      <th>4</th>\n",
       "      <td>-122.25</td>\n",
       "      <td>37.85</td>\n",
       "      <td>52.0</td>\n",
       "      <td>1627.0</td>\n",
       "      <td>280.0</td>\n",
       "      <td>565.0</td>\n",
       "      <td>259.0</td>\n",
       "      <td>3.8462</td>\n",
       "      <td>342200.0</td>\n",
       "    </tr>\n",
       "    <tr>\n",
       "      <th>...</th>\n",
       "      <td>...</td>\n",
       "      <td>...</td>\n",
       "      <td>...</td>\n",
       "      <td>...</td>\n",
       "      <td>...</td>\n",
       "      <td>...</td>\n",
       "      <td>...</td>\n",
       "      <td>...</td>\n",
       "      <td>...</td>\n",
       "    </tr>\n",
       "    <tr>\n",
       "      <th>20428</th>\n",
       "      <td>-121.09</td>\n",
       "      <td>39.48</td>\n",
       "      <td>25.0</td>\n",
       "      <td>1665.0</td>\n",
       "      <td>374.0</td>\n",
       "      <td>845.0</td>\n",
       "      <td>330.0</td>\n",
       "      <td>1.5603</td>\n",
       "      <td>78100.0</td>\n",
       "    </tr>\n",
       "    <tr>\n",
       "      <th>20429</th>\n",
       "      <td>-121.21</td>\n",
       "      <td>39.49</td>\n",
       "      <td>18.0</td>\n",
       "      <td>697.0</td>\n",
       "      <td>150.0</td>\n",
       "      <td>356.0</td>\n",
       "      <td>114.0</td>\n",
       "      <td>2.5568</td>\n",
       "      <td>77100.0</td>\n",
       "    </tr>\n",
       "    <tr>\n",
       "      <th>20430</th>\n",
       "      <td>-121.22</td>\n",
       "      <td>39.43</td>\n",
       "      <td>17.0</td>\n",
       "      <td>2254.0</td>\n",
       "      <td>485.0</td>\n",
       "      <td>1007.0</td>\n",
       "      <td>433.0</td>\n",
       "      <td>1.7000</td>\n",
       "      <td>92300.0</td>\n",
       "    </tr>\n",
       "    <tr>\n",
       "      <th>20431</th>\n",
       "      <td>-121.32</td>\n",
       "      <td>39.43</td>\n",
       "      <td>18.0</td>\n",
       "      <td>1860.0</td>\n",
       "      <td>409.0</td>\n",
       "      <td>741.0</td>\n",
       "      <td>349.0</td>\n",
       "      <td>1.8672</td>\n",
       "      <td>84700.0</td>\n",
       "    </tr>\n",
       "    <tr>\n",
       "      <th>20432</th>\n",
       "      <td>-121.24</td>\n",
       "      <td>39.37</td>\n",
       "      <td>16.0</td>\n",
       "      <td>2785.0</td>\n",
       "      <td>616.0</td>\n",
       "      <td>1387.0</td>\n",
       "      <td>530.0</td>\n",
       "      <td>2.3886</td>\n",
       "      <td>89400.0</td>\n",
       "    </tr>\n",
       "  </tbody>\n",
       "</table>\n",
       "<p>20433 rows × 9 columns</p>\n",
       "</div>"
      ],
      "text/plain": [
       "       longitude  latitude  housing_median_age  total_rooms  total_bedrooms  \\\n",
       "0        -122.23     37.88                41.0        880.0           129.0   \n",
       "1        -122.22     37.86                21.0       7099.0          1106.0   \n",
       "2        -122.24     37.85                52.0       1467.0           190.0   \n",
       "3        -122.25     37.85                52.0       1274.0           235.0   \n",
       "4        -122.25     37.85                52.0       1627.0           280.0   \n",
       "...          ...       ...                 ...          ...             ...   \n",
       "20428    -121.09     39.48                25.0       1665.0           374.0   \n",
       "20429    -121.21     39.49                18.0        697.0           150.0   \n",
       "20430    -121.22     39.43                17.0       2254.0           485.0   \n",
       "20431    -121.32     39.43                18.0       1860.0           409.0   \n",
       "20432    -121.24     39.37                16.0       2785.0           616.0   \n",
       "\n",
       "       population  households  median_income  median_house_value  \n",
       "0           322.0       126.0         8.3252            452600.0  \n",
       "1          2401.0      1138.0         8.3014            358500.0  \n",
       "2           496.0       177.0         7.2574            352100.0  \n",
       "3           558.0       219.0         5.6431            341300.0  \n",
       "4           565.0       259.0         3.8462            342200.0  \n",
       "...           ...         ...            ...                 ...  \n",
       "20428       845.0       330.0         1.5603             78100.0  \n",
       "20429       356.0       114.0         2.5568             77100.0  \n",
       "20430      1007.0       433.0         1.7000             92300.0  \n",
       "20431       741.0       349.0         1.8672             84700.0  \n",
       "20432      1387.0       530.0         2.3886             89400.0  \n",
       "\n",
       "[20433 rows x 9 columns]"
      ]
     },
     "execution_count": 3,
     "metadata": {},
     "output_type": "execute_result"
    }
   ],
   "source": [
    "# Read preprocessed california dataset\n",
    "news_df = pd.read_csv('./prep_california_housing.csv')\n",
    "news_df"
   ]
  },
  {
   "cell_type": "code",
   "execution_count": 4,
   "metadata": {},
   "outputs": [],
   "source": [
    "# Create a Neural Network class with flexible settings\n",
    "class FlexibleRegressionNN(nn.Module):\n",
    "    def __init__(self, input_size: int, hidden_layers_sizes: list, dropout_rate: float) -> None:\n",
    "        super(FlexibleRegressionNN, self).__init__()\n",
    "        layers = list()\n",
    "\n",
    "        # Define first and n-1 hidden layers\n",
    "        neuron_num = input_size\n",
    "        for size in hidden_layers_sizes:\n",
    "            layers.append(nn.Linear(neuron_num, size))\n",
    "            layers.append(nn.ReLU())\n",
    "            layers.append(nn.Dropout(dropout_rate))\n",
    "            neuron_num = size\n",
    "\n",
    "        layers.append(nn.Linear(neuron_num, 1))\n",
    "        self.model = nn.Sequential(*layers)\n",
    "\n",
    "    # Define forward loop for NN\n",
    "    def forward(self, x):\n",
    "        return self.model(x)"
   ]
  },
  {
   "cell_type": "code",
   "execution_count": 5,
   "metadata": {},
   "outputs": [
    {
     "name": "stderr",
     "output_type": "stream",
     "text": [
      "[I 2025-03-19 11:14:29,568] A new study created in memory with name: no-name-133dea9b-1fda-4c18-bd64-28816f774ee0\n",
      "/var/folders/nd/fsmv2lz93k3_cjwz_1lx75j80000gn/T/ipykernel_10068/679006939.py:36: FutureWarning: suggest_uniform has been deprecated in v3.0.0. This feature will be removed in v6.0.0. See https://github.com/optuna/optuna/releases/tag/v3.0.0. Use suggest_float instead.\n",
      "  dropout_rate = trial.suggest_uniform('dropout_rate', 0.1, 0.5)\n",
      "/var/folders/nd/fsmv2lz93k3_cjwz_1lx75j80000gn/T/ipykernel_10068/679006939.py:37: FutureWarning: suggest_loguniform has been deprecated in v3.0.0. This feature will be removed in v6.0.0. See https://github.com/optuna/optuna/releases/tag/v3.0.0. Use suggest_float(..., log=True) instead.\n",
      "  learning_rate = trial.suggest_loguniform('learning_rate', 1e-5, 1e-2)\n"
     ]
    },
    {
     "name": "stdout",
     "output_type": "stream",
     "text": [
      "Epoch 1/8, Train Loss: 0.0869, Test Loss: 0.0489\n",
      "Epoch 2/8, Train Loss: 0.0431, Test Loss: 0.0287\n",
      "Epoch 3/8, Train Loss: 0.0350, Test Loss: 0.0308\n",
      "Epoch 4/8, Train Loss: 0.0315, Test Loss: 0.0288\n",
      "Epoch 5/8, Train Loss: 0.0297, Test Loss: 0.0297\n",
      "Epoch 6/8, Train Loss: 0.0278, Test Loss: 0.0261\n"
     ]
    },
    {
     "name": "stderr",
     "output_type": "stream",
     "text": [
      "[I 2025-03-19 11:14:31,507] Trial 0 finished with value: 0.02268604829441756 and parameters: {'num_hidden_layers': 4, 'layer_0_size': 62, 'layer_1_size': 17, 'layer_2_size': 45, 'layer_3_size': 33, 'dropout_rate': 0.3328181767271602, 'learning_rate': 0.0053230161747420505, 'batch_size': 256, 'epochs': 8}. Best is trial 0 with value: 0.02268604829441756.\n"
     ]
    },
    {
     "name": "stdout",
     "output_type": "stream",
     "text": [
      "Epoch 7/8, Train Loss: 0.0261, Test Loss: 0.0256\n",
      "Epoch 8/8, Train Loss: 0.0248, Test Loss: 0.0227\n"
     ]
    },
    {
     "name": "stderr",
     "output_type": "stream",
     "text": [
      "/var/folders/nd/fsmv2lz93k3_cjwz_1lx75j80000gn/T/ipykernel_10068/679006939.py:36: FutureWarning: suggest_uniform has been deprecated in v3.0.0. This feature will be removed in v6.0.0. See https://github.com/optuna/optuna/releases/tag/v3.0.0. Use suggest_float instead.\n",
      "  dropout_rate = trial.suggest_uniform('dropout_rate', 0.1, 0.5)\n",
      "/var/folders/nd/fsmv2lz93k3_cjwz_1lx75j80000gn/T/ipykernel_10068/679006939.py:37: FutureWarning: suggest_loguniform has been deprecated in v3.0.0. This feature will be removed in v6.0.0. See https://github.com/optuna/optuna/releases/tag/v3.0.0. Use suggest_float(..., log=True) instead.\n",
      "  learning_rate = trial.suggest_loguniform('learning_rate', 1e-5, 1e-2)\n"
     ]
    },
    {
     "name": "stdout",
     "output_type": "stream",
     "text": [
      "Epoch 1/19, Train Loss: 0.1334, Test Loss: 0.1107\n",
      "Epoch 2/19, Train Loss: 0.0923, Test Loss: 0.0706\n",
      "Epoch 3/19, Train Loss: 0.0672, Test Loss: 0.0597\n",
      "Epoch 4/19, Train Loss: 0.0646, Test Loss: 0.0594\n",
      "Epoch 5/19, Train Loss: 0.0635, Test Loss: 0.0588\n",
      "Epoch 6/19, Train Loss: 0.0626, Test Loss: 0.0587\n",
      "Epoch 7/19, Train Loss: 0.0630, Test Loss: 0.0589\n",
      "Epoch 8/19, Train Loss: 0.0618, Test Loss: 0.0584\n",
      "Epoch 9/19, Train Loss: 0.0609, Test Loss: 0.0578\n",
      "Epoch 10/19, Train Loss: 0.0598, Test Loss: 0.0549\n",
      "Epoch 11/19, Train Loss: 0.0552, Test Loss: 0.0471\n",
      "Epoch 12/19, Train Loss: 0.0509, Test Loss: 0.0432\n",
      "Epoch 13/19, Train Loss: 0.0499, Test Loss: 0.0426\n",
      "Epoch 14/19, Train Loss: 0.0478, Test Loss: 0.0418\n",
      "Epoch 15/19, Train Loss: 0.0473, Test Loss: 0.0406\n",
      "Epoch 16/19, Train Loss: 0.0460, Test Loss: 0.0394\n",
      "Epoch 17/19, Train Loss: 0.0452, Test Loss: 0.0400\n",
      "Epoch 18/19, Train Loss: 0.0447, Test Loss: 0.0389\n"
     ]
    },
    {
     "name": "stderr",
     "output_type": "stream",
     "text": [
      "[I 2025-03-19 11:14:35,431] Trial 1 finished with value: 0.03870326862670481 and parameters: {'num_hidden_layers': 10, 'layer_0_size': 45, 'layer_1_size': 38, 'layer_2_size': 51, 'layer_3_size': 28, 'layer_4_size': 17, 'layer_5_size': 37, 'layer_6_size': 24, 'layer_7_size': 26, 'layer_8_size': 54, 'layer_9_size': 28, 'dropout_rate': 0.35775922061266174, 'learning_rate': 8.36277294832309e-05, 'batch_size': 128, 'epochs': 19}. Best is trial 0 with value: 0.02268604829441756.\n"
     ]
    },
    {
     "name": "stdout",
     "output_type": "stream",
     "text": [
      "Epoch 19/19, Train Loss: 0.0443, Test Loss: 0.0387\n"
     ]
    },
    {
     "name": "stderr",
     "output_type": "stream",
     "text": [
      "/var/folders/nd/fsmv2lz93k3_cjwz_1lx75j80000gn/T/ipykernel_10068/679006939.py:36: FutureWarning: suggest_uniform has been deprecated in v3.0.0. This feature will be removed in v6.0.0. See https://github.com/optuna/optuna/releases/tag/v3.0.0. Use suggest_float instead.\n",
      "  dropout_rate = trial.suggest_uniform('dropout_rate', 0.1, 0.5)\n",
      "/var/folders/nd/fsmv2lz93k3_cjwz_1lx75j80000gn/T/ipykernel_10068/679006939.py:37: FutureWarning: suggest_loguniform has been deprecated in v3.0.0. This feature will be removed in v6.0.0. See https://github.com/optuna/optuna/releases/tag/v3.0.0. Use suggest_float(..., log=True) instead.\n",
      "  learning_rate = trial.suggest_loguniform('learning_rate', 1e-5, 1e-2)\n"
     ]
    },
    {
     "name": "stdout",
     "output_type": "stream",
     "text": [
      "Epoch 1/19, Train Loss: 0.0516, Test Loss: 0.0261\n",
      "Epoch 2/19, Train Loss: 0.0293, Test Loss: 0.0227\n",
      "Epoch 3/19, Train Loss: 0.0260, Test Loss: 0.0211\n",
      "Epoch 4/19, Train Loss: 0.0245, Test Loss: 0.0208\n",
      "Epoch 5/19, Train Loss: 0.0234, Test Loss: 0.0207\n",
      "Epoch 6/19, Train Loss: 0.0223, Test Loss: 0.0197\n",
      "Epoch 7/19, Train Loss: 0.0218, Test Loss: 0.0191\n",
      "Epoch 8/19, Train Loss: 0.0214, Test Loss: 0.0187\n",
      "Epoch 9/19, Train Loss: 0.0210, Test Loss: 0.0185\n",
      "Epoch 10/19, Train Loss: 0.0207, Test Loss: 0.0183\n",
      "Epoch 11/19, Train Loss: 0.0200, Test Loss: 0.0183\n",
      "Epoch 12/19, Train Loss: 0.0199, Test Loss: 0.0182\n",
      "Epoch 13/19, Train Loss: 0.0197, Test Loss: 0.0177\n",
      "Epoch 14/19, Train Loss: 0.0193, Test Loss: 0.0179\n",
      "Epoch 15/19, Train Loss: 0.0191, Test Loss: 0.0174\n",
      "Epoch 16/19, Train Loss: 0.0190, Test Loss: 0.0172\n",
      "Epoch 17/19, Train Loss: 0.0185, Test Loss: 0.0170\n",
      "Epoch 18/19, Train Loss: 0.0185, Test Loss: 0.0170\n"
     ]
    },
    {
     "name": "stderr",
     "output_type": "stream",
     "text": [
      "[I 2025-03-19 11:14:41,441] Trial 2 finished with value: 0.016762876592110842 and parameters: {'num_hidden_layers': 4, 'layer_0_size': 33, 'layer_1_size': 57, 'layer_2_size': 22, 'layer_3_size': 39, 'dropout_rate': 0.1122662595668861, 'learning_rate': 0.00028400106276934553, 'batch_size': 32, 'epochs': 19}. Best is trial 2 with value: 0.016762876592110842.\n"
     ]
    },
    {
     "name": "stdout",
     "output_type": "stream",
     "text": [
      "Epoch 19/19, Train Loss: 0.0184, Test Loss: 0.0168\n"
     ]
    },
    {
     "name": "stderr",
     "output_type": "stream",
     "text": [
      "/var/folders/nd/fsmv2lz93k3_cjwz_1lx75j80000gn/T/ipykernel_10068/679006939.py:36: FutureWarning: suggest_uniform has been deprecated in v3.0.0. This feature will be removed in v6.0.0. See https://github.com/optuna/optuna/releases/tag/v3.0.0. Use suggest_float instead.\n",
      "  dropout_rate = trial.suggest_uniform('dropout_rate', 0.1, 0.5)\n",
      "/var/folders/nd/fsmv2lz93k3_cjwz_1lx75j80000gn/T/ipykernel_10068/679006939.py:37: FutureWarning: suggest_loguniform has been deprecated in v3.0.0. This feature will be removed in v6.0.0. See https://github.com/optuna/optuna/releases/tag/v3.0.0. Use suggest_float(..., log=True) instead.\n",
      "  learning_rate = trial.suggest_loguniform('learning_rate', 1e-5, 1e-2)\n"
     ]
    },
    {
     "name": "stdout",
     "output_type": "stream",
     "text": [
      "Epoch 1/7, Train Loss: 0.0377, Test Loss: 0.0218\n",
      "Epoch 2/7, Train Loss: 0.0239, Test Loss: 0.0201\n",
      "Epoch 3/7, Train Loss: 0.0215, Test Loss: 0.0203\n",
      "Epoch 4/7, Train Loss: 0.0201, Test Loss: 0.0184\n",
      "Epoch 5/7, Train Loss: 0.0194, Test Loss: 0.0172\n",
      "Epoch 6/7, Train Loss: 0.0190, Test Loss: 0.0172\n"
     ]
    },
    {
     "name": "stderr",
     "output_type": "stream",
     "text": [
      "[I 2025-03-19 11:14:43,160] Trial 3 finished with value: 0.017685927225102205 and parameters: {'num_hidden_layers': 2, 'layer_0_size': 53, 'layer_1_size': 45, 'dropout_rate': 0.24199647039549457, 'learning_rate': 0.0012816126183912541, 'batch_size': 32, 'epochs': 7}. Best is trial 2 with value: 0.016762876592110842.\n"
     ]
    },
    {
     "name": "stdout",
     "output_type": "stream",
     "text": [
      "Epoch 7/7, Train Loss: 0.0187, Test Loss: 0.0177\n"
     ]
    },
    {
     "name": "stderr",
     "output_type": "stream",
     "text": [
      "/var/folders/nd/fsmv2lz93k3_cjwz_1lx75j80000gn/T/ipykernel_10068/679006939.py:36: FutureWarning: suggest_uniform has been deprecated in v3.0.0. This feature will be removed in v6.0.0. See https://github.com/optuna/optuna/releases/tag/v3.0.0. Use suggest_float instead.\n",
      "  dropout_rate = trial.suggest_uniform('dropout_rate', 0.1, 0.5)\n",
      "/var/folders/nd/fsmv2lz93k3_cjwz_1lx75j80000gn/T/ipykernel_10068/679006939.py:37: FutureWarning: suggest_loguniform has been deprecated in v3.0.0. This feature will be removed in v6.0.0. See https://github.com/optuna/optuna/releases/tag/v3.0.0. Use suggest_float(..., log=True) instead.\n",
      "  learning_rate = trial.suggest_loguniform('learning_rate', 1e-5, 1e-2)\n"
     ]
    },
    {
     "name": "stdout",
     "output_type": "stream",
     "text": [
      "Epoch 1/5, Train Loss: 0.0964, Test Loss: 0.0602\n",
      "Epoch 2/5, Train Loss: 0.0548, Test Loss: 0.0354\n",
      "Epoch 3/5, Train Loss: 0.0418, Test Loss: 0.0332\n",
      "Epoch 4/5, Train Loss: 0.0371, Test Loss: 0.0314\n"
     ]
    },
    {
     "name": "stderr",
     "output_type": "stream",
     "text": [
      "[I 2025-03-19 11:14:44,912] Trial 4 finished with value: 0.024782669483101927 and parameters: {'num_hidden_layers': 10, 'layer_0_size': 52, 'layer_1_size': 47, 'layer_2_size': 33, 'layer_3_size': 26, 'layer_4_size': 62, 'layer_5_size': 45, 'layer_6_size': 47, 'layer_7_size': 26, 'layer_8_size': 24, 'layer_9_size': 24, 'dropout_rate': 0.29763719907128094, 'learning_rate': 0.00047838705510399405, 'batch_size': 64, 'epochs': 5}. Best is trial 2 with value: 0.016762876592110842.\n"
     ]
    },
    {
     "name": "stdout",
     "output_type": "stream",
     "text": [
      "Epoch 5/5, Train Loss: 0.0348, Test Loss: 0.0248\n",
      "Epoch 1/13, Train Loss: 0.1561, Test Loss: 0.1387\n"
     ]
    },
    {
     "name": "stderr",
     "output_type": "stream",
     "text": [
      "/var/folders/nd/fsmv2lz93k3_cjwz_1lx75j80000gn/T/ipykernel_10068/679006939.py:36: FutureWarning: suggest_uniform has been deprecated in v3.0.0. This feature will be removed in v6.0.0. See https://github.com/optuna/optuna/releases/tag/v3.0.0. Use suggest_float instead.\n",
      "  dropout_rate = trial.suggest_uniform('dropout_rate', 0.1, 0.5)\n",
      "/var/folders/nd/fsmv2lz93k3_cjwz_1lx75j80000gn/T/ipykernel_10068/679006939.py:37: FutureWarning: suggest_loguniform has been deprecated in v3.0.0. This feature will be removed in v6.0.0. See https://github.com/optuna/optuna/releases/tag/v3.0.0. Use suggest_float(..., log=True) instead.\n",
      "  learning_rate = trial.suggest_loguniform('learning_rate', 1e-5, 1e-2)\n"
     ]
    },
    {
     "name": "stdout",
     "output_type": "stream",
     "text": [
      "Epoch 2/13, Train Loss: 0.1181, Test Loss: 0.0996\n",
      "Epoch 3/13, Train Loss: 0.0777, Test Loss: 0.0605\n",
      "Epoch 4/13, Train Loss: 0.0600, Test Loss: 0.0579\n",
      "Epoch 5/13, Train Loss: 0.0589, Test Loss: 0.0570\n",
      "Epoch 6/13, Train Loss: 0.0570, Test Loss: 0.0545\n",
      "Epoch 7/13, Train Loss: 0.0538, Test Loss: 0.0489\n",
      "Epoch 8/13, Train Loss: 0.0474, Test Loss: 0.0391\n",
      "Epoch 9/13, Train Loss: 0.0407, Test Loss: 0.0321\n",
      "Epoch 10/13, Train Loss: 0.0378, Test Loss: 0.0297\n",
      "Epoch 11/13, Train Loss: 0.0368, Test Loss: 0.0293\n"
     ]
    },
    {
     "name": "stderr",
     "output_type": "stream",
     "text": [
      "[I 2025-03-19 11:14:46,617] Trial 5 finished with value: 0.027965056127868593 and parameters: {'num_hidden_layers': 6, 'layer_0_size': 27, 'layer_1_size': 60, 'layer_2_size': 40, 'layer_3_size': 40, 'layer_4_size': 40, 'layer_5_size': 58, 'dropout_rate': 0.12900589256900297, 'learning_rate': 0.0001152576958564152, 'batch_size': 256, 'epochs': 13}. Best is trial 2 with value: 0.016762876592110842.\n"
     ]
    },
    {
     "name": "stdout",
     "output_type": "stream",
     "text": [
      "Epoch 12/13, Train Loss: 0.0352, Test Loss: 0.0280\n",
      "Epoch 13/13, Train Loss: 0.0341, Test Loss: 0.0280\n"
     ]
    },
    {
     "name": "stderr",
     "output_type": "stream",
     "text": [
      "/var/folders/nd/fsmv2lz93k3_cjwz_1lx75j80000gn/T/ipykernel_10068/679006939.py:36: FutureWarning: suggest_uniform has been deprecated in v3.0.0. This feature will be removed in v6.0.0. See https://github.com/optuna/optuna/releases/tag/v3.0.0. Use suggest_float instead.\n",
      "  dropout_rate = trial.suggest_uniform('dropout_rate', 0.1, 0.5)\n",
      "/var/folders/nd/fsmv2lz93k3_cjwz_1lx75j80000gn/T/ipykernel_10068/679006939.py:37: FutureWarning: suggest_loguniform has been deprecated in v3.0.0. This feature will be removed in v6.0.0. See https://github.com/optuna/optuna/releases/tag/v3.0.0. Use suggest_float(..., log=True) instead.\n",
      "  learning_rate = trial.suggest_loguniform('learning_rate', 1e-5, 1e-2)\n"
     ]
    },
    {
     "name": "stdout",
     "output_type": "stream",
     "text": [
      "Epoch 1/12, Train Loss: 0.1534, Test Loss: 0.1269\n",
      "Epoch 2/12, Train Loss: 0.1043, Test Loss: 0.0715\n",
      "Epoch 3/12, Train Loss: 0.0750, Test Loss: 0.0598\n",
      "Epoch 4/12, Train Loss: 0.0709, Test Loss: 0.0573\n",
      "Epoch 5/12, Train Loss: 0.0676, Test Loss: 0.0544\n",
      "Epoch 6/12, Train Loss: 0.0638, Test Loss: 0.0499\n",
      "Epoch 7/12, Train Loss: 0.0588, Test Loss: 0.0441\n",
      "Epoch 8/12, Train Loss: 0.0518, Test Loss: 0.0367\n",
      "Epoch 9/12, Train Loss: 0.0475, Test Loss: 0.0319\n",
      "Epoch 10/12, Train Loss: 0.0453, Test Loss: 0.0306\n"
     ]
    },
    {
     "name": "stderr",
     "output_type": "stream",
     "text": [
      "[I 2025-03-19 11:14:48,168] Trial 6 finished with value: 0.028207169263623655 and parameters: {'num_hidden_layers': 5, 'layer_0_size': 64, 'layer_1_size': 30, 'layer_2_size': 25, 'layer_3_size': 16, 'layer_4_size': 20, 'dropout_rate': 0.28113276559447553, 'learning_rate': 9.370047249090441e-05, 'batch_size': 128, 'epochs': 12}. Best is trial 2 with value: 0.016762876592110842.\n"
     ]
    },
    {
     "name": "stdout",
     "output_type": "stream",
     "text": [
      "Epoch 11/12, Train Loss: 0.0439, Test Loss: 0.0294\n",
      "Epoch 12/12, Train Loss: 0.0422, Test Loss: 0.0282\n"
     ]
    },
    {
     "name": "stderr",
     "output_type": "stream",
     "text": [
      "/var/folders/nd/fsmv2lz93k3_cjwz_1lx75j80000gn/T/ipykernel_10068/679006939.py:36: FutureWarning: suggest_uniform has been deprecated in v3.0.0. This feature will be removed in v6.0.0. See https://github.com/optuna/optuna/releases/tag/v3.0.0. Use suggest_float instead.\n",
      "  dropout_rate = trial.suggest_uniform('dropout_rate', 0.1, 0.5)\n",
      "/var/folders/nd/fsmv2lz93k3_cjwz_1lx75j80000gn/T/ipykernel_10068/679006939.py:37: FutureWarning: suggest_loguniform has been deprecated in v3.0.0. This feature will be removed in v6.0.0. See https://github.com/optuna/optuna/releases/tag/v3.0.0. Use suggest_float(..., log=True) instead.\n",
      "  learning_rate = trial.suggest_loguniform('learning_rate', 1e-5, 1e-2)\n"
     ]
    },
    {
     "name": "stdout",
     "output_type": "stream",
     "text": [
      "Epoch 1/9, Train Loss: 0.3865, Test Loss: 0.3039\n",
      "Epoch 2/9, Train Loss: 0.2169, Test Loss: 0.0904\n",
      "Epoch 3/9, Train Loss: 0.1382, Test Loss: 0.0795\n",
      "Epoch 4/9, Train Loss: 0.1195, Test Loss: 0.0751\n",
      "Epoch 5/9, Train Loss: 0.1058, Test Loss: 0.0651\n",
      "Epoch 6/9, Train Loss: 0.0963, Test Loss: 0.0618\n",
      "Epoch 7/9, Train Loss: 0.0869, Test Loss: 0.0496\n"
     ]
    },
    {
     "name": "stderr",
     "output_type": "stream",
     "text": [
      "[I 2025-03-19 11:14:49,470] Trial 7 finished with value: 0.052316430024802685 and parameters: {'num_hidden_layers': 6, 'layer_0_size': 61, 'layer_1_size': 58, 'layer_2_size': 38, 'layer_3_size': 42, 'layer_4_size': 24, 'layer_5_size': 18, 'dropout_rate': 0.43752830077700866, 'learning_rate': 0.00028166140154060404, 'batch_size': 256, 'epochs': 9}. Best is trial 2 with value: 0.016762876592110842.\n"
     ]
    },
    {
     "name": "stdout",
     "output_type": "stream",
     "text": [
      "Epoch 8/9, Train Loss: 0.0815, Test Loss: 0.0520\n",
      "Epoch 9/9, Train Loss: 0.0781, Test Loss: 0.0523\n"
     ]
    },
    {
     "name": "stderr",
     "output_type": "stream",
     "text": [
      "/var/folders/nd/fsmv2lz93k3_cjwz_1lx75j80000gn/T/ipykernel_10068/679006939.py:36: FutureWarning: suggest_uniform has been deprecated in v3.0.0. This feature will be removed in v6.0.0. See https://github.com/optuna/optuna/releases/tag/v3.0.0. Use suggest_float instead.\n",
      "  dropout_rate = trial.suggest_uniform('dropout_rate', 0.1, 0.5)\n",
      "/var/folders/nd/fsmv2lz93k3_cjwz_1lx75j80000gn/T/ipykernel_10068/679006939.py:37: FutureWarning: suggest_loguniform has been deprecated in v3.0.0. This feature will be removed in v6.0.0. See https://github.com/optuna/optuna/releases/tag/v3.0.0. Use suggest_float(..., log=True) instead.\n",
      "  learning_rate = trial.suggest_loguniform('learning_rate', 1e-5, 1e-2)\n"
     ]
    },
    {
     "name": "stdout",
     "output_type": "stream",
     "text": [
      "Epoch 1/8, Train Loss: 0.0474, Test Loss: 0.0246\n",
      "Epoch 2/8, Train Loss: 0.0280, Test Loss: 0.0235\n",
      "Epoch 3/8, Train Loss: 0.0258, Test Loss: 0.0229\n",
      "Epoch 4/8, Train Loss: 0.0251, Test Loss: 0.0223\n",
      "Epoch 5/8, Train Loss: 0.0241, Test Loss: 0.0236\n",
      "Epoch 6/8, Train Loss: 0.0245, Test Loss: 0.0199\n",
      "Epoch 7/8, Train Loss: 0.0239, Test Loss: 0.0204\n"
     ]
    },
    {
     "name": "stderr",
     "output_type": "stream",
     "text": [
      "[I 2025-03-19 11:14:54,287] Trial 8 finished with value: 0.020605321755283512 and parameters: {'num_hidden_layers': 10, 'layer_0_size': 32, 'layer_1_size': 44, 'layer_2_size': 23, 'layer_3_size': 24, 'layer_4_size': 61, 'layer_5_size': 50, 'layer_6_size': 26, 'layer_7_size': 55, 'layer_8_size': 39, 'layer_9_size': 38, 'dropout_rate': 0.21284457902672826, 'learning_rate': 0.00451711817022326, 'batch_size': 32, 'epochs': 8}. Best is trial 2 with value: 0.016762876592110842.\n"
     ]
    },
    {
     "name": "stdout",
     "output_type": "stream",
     "text": [
      "Epoch 8/8, Train Loss: 0.0241, Test Loss: 0.0206\n"
     ]
    },
    {
     "name": "stderr",
     "output_type": "stream",
     "text": [
      "/var/folders/nd/fsmv2lz93k3_cjwz_1lx75j80000gn/T/ipykernel_10068/679006939.py:36: FutureWarning: suggest_uniform has been deprecated in v3.0.0. This feature will be removed in v6.0.0. See https://github.com/optuna/optuna/releases/tag/v3.0.0. Use suggest_float instead.\n",
      "  dropout_rate = trial.suggest_uniform('dropout_rate', 0.1, 0.5)\n",
      "/var/folders/nd/fsmv2lz93k3_cjwz_1lx75j80000gn/T/ipykernel_10068/679006939.py:37: FutureWarning: suggest_loguniform has been deprecated in v3.0.0. This feature will be removed in v6.0.0. See https://github.com/optuna/optuna/releases/tag/v3.0.0. Use suggest_float(..., log=True) instead.\n",
      "  learning_rate = trial.suggest_loguniform('learning_rate', 1e-5, 1e-2)\n"
     ]
    },
    {
     "name": "stdout",
     "output_type": "stream",
     "text": [
      "Epoch 1/5, Train Loss: 0.0444, Test Loss: 0.0240\n",
      "Epoch 2/5, Train Loss: 0.0279, Test Loss: 0.0224\n",
      "Epoch 3/5, Train Loss: 0.0250, Test Loss: 0.0210\n",
      "Epoch 4/5, Train Loss: 0.0237, Test Loss: 0.0208\n"
     ]
    },
    {
     "name": "stderr",
     "output_type": "stream",
     "text": [
      "[I 2025-03-19 11:14:55,289] Trial 9 finished with value: 0.0193791995261563 and parameters: {'num_hidden_layers': 4, 'layer_0_size': 34, 'layer_1_size': 58, 'layer_2_size': 64, 'layer_3_size': 28, 'dropout_rate': 0.18546552997821153, 'learning_rate': 0.0008772282154629212, 'batch_size': 64, 'epochs': 5}. Best is trial 2 with value: 0.016762876592110842.\n"
     ]
    },
    {
     "name": "stdout",
     "output_type": "stream",
     "text": [
      "Epoch 5/5, Train Loss: 0.0224, Test Loss: 0.0194\n"
     ]
    },
    {
     "name": "stderr",
     "output_type": "stream",
     "text": [
      "/var/folders/nd/fsmv2lz93k3_cjwz_1lx75j80000gn/T/ipykernel_10068/679006939.py:36: FutureWarning: suggest_uniform has been deprecated in v3.0.0. This feature will be removed in v6.0.0. See https://github.com/optuna/optuna/releases/tag/v3.0.0. Use suggest_float instead.\n",
      "  dropout_rate = trial.suggest_uniform('dropout_rate', 0.1, 0.5)\n",
      "/var/folders/nd/fsmv2lz93k3_cjwz_1lx75j80000gn/T/ipykernel_10068/679006939.py:37: FutureWarning: suggest_loguniform has been deprecated in v3.0.0. This feature will be removed in v6.0.0. See https://github.com/optuna/optuna/releases/tag/v3.0.0. Use suggest_float(..., log=True) instead.\n",
      "  learning_rate = trial.suggest_loguniform('learning_rate', 1e-5, 1e-2)\n"
     ]
    },
    {
     "name": "stdout",
     "output_type": "stream",
     "text": [
      "Epoch 1/20, Train Loss: 0.1291, Test Loss: 0.1093\n",
      "Epoch 2/20, Train Loss: 0.0919, Test Loss: 0.0787\n",
      "Epoch 3/20, Train Loss: 0.0688, Test Loss: 0.0625\n",
      "Epoch 4/20, Train Loss: 0.0588, Test Loss: 0.0564\n",
      "Epoch 5/20, Train Loss: 0.0555, Test Loss: 0.0542\n",
      "Epoch 6/20, Train Loss: 0.0540, Test Loss: 0.0529\n",
      "Epoch 7/20, Train Loss: 0.0530, Test Loss: 0.0515\n",
      "Epoch 8/20, Train Loss: 0.0515, Test Loss: 0.0501\n",
      "Epoch 9/20, Train Loss: 0.0500, Test Loss: 0.0487\n",
      "Epoch 10/20, Train Loss: 0.0490, Test Loss: 0.0474\n",
      "Epoch 11/20, Train Loss: 0.0479, Test Loss: 0.0460\n",
      "Epoch 12/20, Train Loss: 0.0464, Test Loss: 0.0447\n",
      "Epoch 13/20, Train Loss: 0.0454, Test Loss: 0.0435\n",
      "Epoch 14/20, Train Loss: 0.0446, Test Loss: 0.0422\n",
      "Epoch 15/20, Train Loss: 0.0436, Test Loss: 0.0409\n",
      "Epoch 16/20, Train Loss: 0.0424, Test Loss: 0.0397\n",
      "Epoch 17/20, Train Loss: 0.0411, Test Loss: 0.0384\n",
      "Epoch 18/20, Train Loss: 0.0400, Test Loss: 0.0371\n",
      "Epoch 19/20, Train Loss: 0.0395, Test Loss: 0.0361\n"
     ]
    },
    {
     "name": "stderr",
     "output_type": "stream",
     "text": [
      "[I 2025-03-19 11:14:59,562] Trial 10 finished with value: 0.035092967525997665 and parameters: {'num_hidden_layers': 2, 'layer_0_size': 19, 'layer_1_size': 64, 'dropout_rate': 0.10254385099430607, 'learning_rate': 1.3131756070476458e-05, 'batch_size': 32, 'epochs': 20}. Best is trial 2 with value: 0.016762876592110842.\n"
     ]
    },
    {
     "name": "stdout",
     "output_type": "stream",
     "text": [
      "Epoch 20/20, Train Loss: 0.0381, Test Loss: 0.0351\n"
     ]
    },
    {
     "name": "stderr",
     "output_type": "stream",
     "text": [
      "/var/folders/nd/fsmv2lz93k3_cjwz_1lx75j80000gn/T/ipykernel_10068/679006939.py:36: FutureWarning: suggest_uniform has been deprecated in v3.0.0. This feature will be removed in v6.0.0. See https://github.com/optuna/optuna/releases/tag/v3.0.0. Use suggest_float instead.\n",
      "  dropout_rate = trial.suggest_uniform('dropout_rate', 0.1, 0.5)\n",
      "/var/folders/nd/fsmv2lz93k3_cjwz_1lx75j80000gn/T/ipykernel_10068/679006939.py:37: FutureWarning: suggest_loguniform has been deprecated in v3.0.0. This feature will be removed in v6.0.0. See https://github.com/optuna/optuna/releases/tag/v3.0.0. Use suggest_float(..., log=True) instead.\n",
      "  learning_rate = trial.suggest_loguniform('learning_rate', 1e-5, 1e-2)\n"
     ]
    },
    {
     "name": "stdout",
     "output_type": "stream",
     "text": [
      "Epoch 1/16, Train Loss: 0.0500, Test Loss: 0.0256\n",
      "Epoch 2/16, Train Loss: 0.0280, Test Loss: 0.0229\n",
      "Epoch 3/16, Train Loss: 0.0250, Test Loss: 0.0221\n",
      "Epoch 4/16, Train Loss: 0.0228, Test Loss: 0.0205\n",
      "Epoch 5/16, Train Loss: 0.0216, Test Loss: 0.0199\n",
      "Epoch 6/16, Train Loss: 0.0210, Test Loss: 0.0193\n",
      "Epoch 7/16, Train Loss: 0.0200, Test Loss: 0.0188\n",
      "Epoch 8/16, Train Loss: 0.0195, Test Loss: 0.0181\n",
      "Epoch 9/16, Train Loss: 0.0192, Test Loss: 0.0178\n",
      "Epoch 10/16, Train Loss: 0.0186, Test Loss: 0.0175\n",
      "Epoch 11/16, Train Loss: 0.0186, Test Loss: 0.0174\n",
      "Epoch 12/16, Train Loss: 0.0182, Test Loss: 0.0173\n",
      "Epoch 13/16, Train Loss: 0.0184, Test Loss: 0.0175\n",
      "Epoch 14/16, Train Loss: 0.0181, Test Loss: 0.0170\n"
     ]
    },
    {
     "name": "stderr",
     "output_type": "stream",
     "text": [
      "[I 2025-03-19 11:15:02,274] Trial 11 finished with value: 0.01680031739306287 and parameters: {'num_hidden_layers': 1, 'layer_0_size': 44, 'dropout_rate': 0.21536477912811477, 'learning_rate': 0.0015054539883959592, 'batch_size': 32, 'epochs': 16}. Best is trial 2 with value: 0.016762876592110842.\n"
     ]
    },
    {
     "name": "stdout",
     "output_type": "stream",
     "text": [
      "Epoch 15/16, Train Loss: 0.0178, Test Loss: 0.0171\n",
      "Epoch 16/16, Train Loss: 0.0180, Test Loss: 0.0168\n"
     ]
    },
    {
     "name": "stderr",
     "output_type": "stream",
     "text": [
      "/var/folders/nd/fsmv2lz93k3_cjwz_1lx75j80000gn/T/ipykernel_10068/679006939.py:36: FutureWarning: suggest_uniform has been deprecated in v3.0.0. This feature will be removed in v6.0.0. See https://github.com/optuna/optuna/releases/tag/v3.0.0. Use suggest_float instead.\n",
      "  dropout_rate = trial.suggest_uniform('dropout_rate', 0.1, 0.5)\n",
      "/var/folders/nd/fsmv2lz93k3_cjwz_1lx75j80000gn/T/ipykernel_10068/679006939.py:37: FutureWarning: suggest_loguniform has been deprecated in v3.0.0. This feature will be removed in v6.0.0. See https://github.com/optuna/optuna/releases/tag/v3.0.0. Use suggest_float(..., log=True) instead.\n",
      "  learning_rate = trial.suggest_loguniform('learning_rate', 1e-5, 1e-2)\n"
     ]
    },
    {
     "name": "stdout",
     "output_type": "stream",
     "text": [
      "Epoch 1/17, Train Loss: 0.0447, Test Loss: 0.0232\n",
      "Epoch 2/17, Train Loss: 0.0250, Test Loss: 0.0213\n",
      "Epoch 3/17, Train Loss: 0.0228, Test Loss: 0.0197\n",
      "Epoch 4/17, Train Loss: 0.0218, Test Loss: 0.0201\n",
      "Epoch 5/17, Train Loss: 0.0208, Test Loss: 0.0189\n",
      "Epoch 6/17, Train Loss: 0.0200, Test Loss: 0.0189\n",
      "Epoch 7/17, Train Loss: 0.0195, Test Loss: 0.0180\n",
      "Epoch 8/17, Train Loss: 0.0191, Test Loss: 0.0178\n",
      "Epoch 9/17, Train Loss: 0.0186, Test Loss: 0.0178\n",
      "Epoch 10/17, Train Loss: 0.0185, Test Loss: 0.0182\n",
      "Epoch 11/17, Train Loss: 0.0182, Test Loss: 0.0178\n",
      "Epoch 12/17, Train Loss: 0.0181, Test Loss: 0.0173\n",
      "Epoch 13/17, Train Loss: 0.0179, Test Loss: 0.0174\n",
      "Epoch 14/17, Train Loss: 0.0178, Test Loss: 0.0180\n",
      "Epoch 15/17, Train Loss: 0.0177, Test Loss: 0.0168\n",
      "Epoch 16/17, Train Loss: 0.0177, Test Loss: 0.0177\n"
     ]
    },
    {
     "name": "stderr",
     "output_type": "stream",
     "text": [
      "[I 2025-03-19 11:15:05,341] Trial 12 finished with value: 0.016852753167768242 and parameters: {'num_hidden_layers': 1, 'layer_0_size': 40, 'dropout_rate': 0.158021715703998, 'learning_rate': 0.001916213807148313, 'batch_size': 32, 'epochs': 17}. Best is trial 2 with value: 0.016762876592110842.\n"
     ]
    },
    {
     "name": "stdout",
     "output_type": "stream",
     "text": [
      "Epoch 17/17, Train Loss: 0.0176, Test Loss: 0.0169\n"
     ]
    },
    {
     "name": "stderr",
     "output_type": "stream",
     "text": [
      "/var/folders/nd/fsmv2lz93k3_cjwz_1lx75j80000gn/T/ipykernel_10068/679006939.py:36: FutureWarning: suggest_uniform has been deprecated in v3.0.0. This feature will be removed in v6.0.0. See https://github.com/optuna/optuna/releases/tag/v3.0.0. Use suggest_float instead.\n",
      "  dropout_rate = trial.suggest_uniform('dropout_rate', 0.1, 0.5)\n",
      "/var/folders/nd/fsmv2lz93k3_cjwz_1lx75j80000gn/T/ipykernel_10068/679006939.py:37: FutureWarning: suggest_loguniform has been deprecated in v3.0.0. This feature will be removed in v6.0.0. See https://github.com/optuna/optuna/releases/tag/v3.0.0. Use suggest_float(..., log=True) instead.\n",
      "  learning_rate = trial.suggest_loguniform('learning_rate', 1e-5, 1e-2)\n"
     ]
    },
    {
     "name": "stdout",
     "output_type": "stream",
     "text": [
      "Epoch 1/16, Train Loss: 0.0670, Test Loss: 0.0278\n",
      "Epoch 2/16, Train Loss: 0.0348, Test Loss: 0.0262\n",
      "Epoch 3/16, Train Loss: 0.0304, Test Loss: 0.0252\n",
      "Epoch 4/16, Train Loss: 0.0284, Test Loss: 0.0253\n",
      "Epoch 5/16, Train Loss: 0.0271, Test Loss: 0.0216\n",
      "Epoch 6/16, Train Loss: 0.0264, Test Loss: 0.0236\n",
      "Epoch 7/16, Train Loss: 0.0253, Test Loss: 0.0238\n",
      "Epoch 8/16, Train Loss: 0.0246, Test Loss: 0.0232\n",
      "Epoch 9/16, Train Loss: 0.0237, Test Loss: 0.0200\n",
      "Epoch 10/16, Train Loss: 0.0228, Test Loss: 0.0217\n",
      "Epoch 11/16, Train Loss: 0.0227, Test Loss: 0.0214\n",
      "Epoch 12/16, Train Loss: 0.0221, Test Loss: 0.0212\n",
      "Epoch 13/16, Train Loss: 0.0218, Test Loss: 0.0206\n",
      "Epoch 14/16, Train Loss: 0.0214, Test Loss: 0.0232\n",
      "Epoch 15/16, Train Loss: 0.0210, Test Loss: 0.0182\n"
     ]
    },
    {
     "name": "stderr",
     "output_type": "stream",
     "text": [
      "[I 2025-03-19 11:15:14,291] Trial 13 finished with value: 0.02010892271573539 and parameters: {'num_hidden_layers': 8, 'layer_0_size': 44, 'layer_1_size': 52, 'layer_2_size': 18, 'layer_3_size': 61, 'layer_4_size': 44, 'layer_5_size': 18, 'layer_6_size': 59, 'layer_7_size': 64, 'dropout_rate': 0.17672787386446703, 'learning_rate': 0.000299481106684534, 'batch_size': 32, 'epochs': 16}. Best is trial 2 with value: 0.016762876592110842.\n"
     ]
    },
    {
     "name": "stdout",
     "output_type": "stream",
     "text": [
      "Epoch 16/16, Train Loss: 0.0209, Test Loss: 0.0201\n"
     ]
    },
    {
     "name": "stderr",
     "output_type": "stream",
     "text": [
      "/var/folders/nd/fsmv2lz93k3_cjwz_1lx75j80000gn/T/ipykernel_10068/679006939.py:36: FutureWarning: suggest_uniform has been deprecated in v3.0.0. This feature will be removed in v6.0.0. See https://github.com/optuna/optuna/releases/tag/v3.0.0. Use suggest_float instead.\n",
      "  dropout_rate = trial.suggest_uniform('dropout_rate', 0.1, 0.5)\n",
      "/var/folders/nd/fsmv2lz93k3_cjwz_1lx75j80000gn/T/ipykernel_10068/679006939.py:37: FutureWarning: suggest_loguniform has been deprecated in v3.0.0. This feature will be removed in v6.0.0. See https://github.com/optuna/optuna/releases/tag/v3.0.0. Use suggest_float(..., log=True) instead.\n",
      "  learning_rate = trial.suggest_loguniform('learning_rate', 1e-5, 1e-2)\n"
     ]
    },
    {
     "name": "stdout",
     "output_type": "stream",
     "text": [
      "Epoch 1/16, Train Loss: 0.2455, Test Loss: 0.1744\n",
      "Epoch 2/16, Train Loss: 0.1242, Test Loss: 0.0714\n",
      "Epoch 3/16, Train Loss: 0.0829, Test Loss: 0.0557\n",
      "Epoch 4/16, Train Loss: 0.0759, Test Loss: 0.0520\n",
      "Epoch 5/16, Train Loss: 0.0711, Test Loss: 0.0496\n",
      "Epoch 6/16, Train Loss: 0.0671, Test Loss: 0.0473\n",
      "Epoch 7/16, Train Loss: 0.0631, Test Loss: 0.0445\n",
      "Epoch 8/16, Train Loss: 0.0592, Test Loss: 0.0415\n",
      "Epoch 9/16, Train Loss: 0.0568, Test Loss: 0.0388\n",
      "Epoch 10/16, Train Loss: 0.0540, Test Loss: 0.0373\n",
      "Epoch 11/16, Train Loss: 0.0510, Test Loss: 0.0354\n",
      "Epoch 12/16, Train Loss: 0.0502, Test Loss: 0.0347\n",
      "Epoch 13/16, Train Loss: 0.0483, Test Loss: 0.0331\n",
      "Epoch 14/16, Train Loss: 0.0471, Test Loss: 0.0320\n",
      "Epoch 15/16, Train Loss: 0.0461, Test Loss: 0.0310\n"
     ]
    },
    {
     "name": "stderr",
     "output_type": "stream",
     "text": [
      "[I 2025-03-19 11:15:18,589] Trial 14 finished with value: 0.030602342267229687 and parameters: {'num_hidden_layers': 3, 'layer_0_size': 22, 'layer_1_size': 32, 'layer_2_size': 16, 'dropout_rate': 0.2396328681264977, 'learning_rate': 3.4459838710825166e-05, 'batch_size': 32, 'epochs': 16}. Best is trial 2 with value: 0.016762876592110842.\n"
     ]
    },
    {
     "name": "stdout",
     "output_type": "stream",
     "text": [
      "Epoch 16/16, Train Loss: 0.0447, Test Loss: 0.0306\n"
     ]
    },
    {
     "name": "stderr",
     "output_type": "stream",
     "text": [
      "/var/folders/nd/fsmv2lz93k3_cjwz_1lx75j80000gn/T/ipykernel_10068/679006939.py:36: FutureWarning: suggest_uniform has been deprecated in v3.0.0. This feature will be removed in v6.0.0. See https://github.com/optuna/optuna/releases/tag/v3.0.0. Use suggest_float instead.\n",
      "  dropout_rate = trial.suggest_uniform('dropout_rate', 0.1, 0.5)\n",
      "/var/folders/nd/fsmv2lz93k3_cjwz_1lx75j80000gn/T/ipykernel_10068/679006939.py:37: FutureWarning: suggest_loguniform has been deprecated in v3.0.0. This feature will be removed in v6.0.0. See https://github.com/optuna/optuna/releases/tag/v3.0.0. Use suggest_float(..., log=True) instead.\n",
      "  learning_rate = trial.suggest_loguniform('learning_rate', 1e-5, 1e-2)\n"
     ]
    },
    {
     "name": "stdout",
     "output_type": "stream",
     "text": [
      "Epoch 1/13, Train Loss: 0.0286, Test Loss: 0.0211\n",
      "Epoch 2/13, Train Loss: 0.0204, Test Loss: 0.0184\n",
      "Epoch 3/13, Train Loss: 0.0198, Test Loss: 0.0205\n",
      "Epoch 4/13, Train Loss: 0.0193, Test Loss: 0.0187\n",
      "Epoch 5/13, Train Loss: 0.0188, Test Loss: 0.0182\n",
      "Epoch 6/13, Train Loss: 0.0182, Test Loss: 0.0185\n",
      "Epoch 7/13, Train Loss: 0.0183, Test Loss: 0.0172\n",
      "Epoch 8/13, Train Loss: 0.0183, Test Loss: 0.0176\n",
      "Epoch 9/13, Train Loss: 0.0182, Test Loss: 0.0175\n",
      "Epoch 10/13, Train Loss: 0.0181, Test Loss: 0.0168\n",
      "Epoch 11/13, Train Loss: 0.0181, Test Loss: 0.0172\n",
      "Epoch 12/13, Train Loss: 0.0181, Test Loss: 0.0176\n"
     ]
    },
    {
     "name": "stderr",
     "output_type": "stream",
     "text": [
      "[I 2025-03-19 11:15:20,706] Trial 15 finished with value: 0.01762419651277014 and parameters: {'num_hidden_layers': 1, 'layer_0_size': 37, 'dropout_rate': 0.11241018838514187, 'learning_rate': 0.009934162584772855, 'batch_size': 32, 'epochs': 13}. Best is trial 2 with value: 0.016762876592110842.\n"
     ]
    },
    {
     "name": "stdout",
     "output_type": "stream",
     "text": [
      "Epoch 13/13, Train Loss: 0.0180, Test Loss: 0.0176\n"
     ]
    },
    {
     "name": "stderr",
     "output_type": "stream",
     "text": [
      "/var/folders/nd/fsmv2lz93k3_cjwz_1lx75j80000gn/T/ipykernel_10068/679006939.py:36: FutureWarning: suggest_uniform has been deprecated in v3.0.0. This feature will be removed in v6.0.0. See https://github.com/optuna/optuna/releases/tag/v3.0.0. Use suggest_float instead.\n",
      "  dropout_rate = trial.suggest_uniform('dropout_rate', 0.1, 0.5)\n",
      "/var/folders/nd/fsmv2lz93k3_cjwz_1lx75j80000gn/T/ipykernel_10068/679006939.py:37: FutureWarning: suggest_loguniform has been deprecated in v3.0.0. This feature will be removed in v6.0.0. See https://github.com/optuna/optuna/releases/tag/v3.0.0. Use suggest_float(..., log=True) instead.\n",
      "  learning_rate = trial.suggest_loguniform('learning_rate', 1e-5, 1e-2)\n"
     ]
    },
    {
     "name": "stdout",
     "output_type": "stream",
     "text": [
      "Epoch 1/18, Train Loss: 0.0582, Test Loss: 0.0350\n",
      "Epoch 2/18, Train Loss: 0.0372, Test Loss: 0.0285\n",
      "Epoch 3/18, Train Loss: 0.0331, Test Loss: 0.0283\n",
      "Epoch 4/18, Train Loss: 0.0301, Test Loss: 0.0237\n",
      "Epoch 5/18, Train Loss: 0.0294, Test Loss: 0.0241\n",
      "Epoch 6/18, Train Loss: 0.0282, Test Loss: 0.0233\n",
      "Epoch 7/18, Train Loss: 0.0283, Test Loss: 0.0230\n",
      "Epoch 8/18, Train Loss: 0.0274, Test Loss: 0.0236\n",
      "Epoch 9/18, Train Loss: 0.0269, Test Loss: 0.0249\n",
      "Epoch 10/18, Train Loss: 0.0268, Test Loss: 0.0211\n",
      "Epoch 11/18, Train Loss: 0.0271, Test Loss: 0.0227\n",
      "Epoch 12/18, Train Loss: 0.0271, Test Loss: 0.0211\n",
      "Epoch 13/18, Train Loss: 0.0268, Test Loss: 0.0225\n",
      "Epoch 14/18, Train Loss: 0.0271, Test Loss: 0.0221\n",
      "Epoch 15/18, Train Loss: 0.0269, Test Loss: 0.0217\n",
      "Epoch 16/18, Train Loss: 0.0265, Test Loss: 0.0215\n",
      "Epoch 17/18, Train Loss: 0.0265, Test Loss: 0.0222\n"
     ]
    },
    {
     "name": "stderr",
     "output_type": "stream",
     "text": [
      "[I 2025-03-19 11:15:29,152] Trial 16 finished with value: 0.02299986279103905 and parameters: {'num_hidden_layers': 7, 'layer_0_size': 26, 'layer_1_size': 23, 'layer_2_size': 28, 'layer_3_size': 54, 'layer_4_size': 35, 'layer_5_size': 34, 'layer_6_size': 64, 'dropout_rate': 0.46493575512318586, 'learning_rate': 0.0024222006992787965, 'batch_size': 32, 'epochs': 18}. Best is trial 2 with value: 0.016762876592110842.\n"
     ]
    },
    {
     "name": "stdout",
     "output_type": "stream",
     "text": [
      "Epoch 18/18, Train Loss: 0.0267, Test Loss: 0.0230\n",
      "Epoch 1/15, Train Loss: 0.0766, Test Loss: 0.0326\n"
     ]
    },
    {
     "name": "stderr",
     "output_type": "stream",
     "text": [
      "/var/folders/nd/fsmv2lz93k3_cjwz_1lx75j80000gn/T/ipykernel_10068/679006939.py:36: FutureWarning: suggest_uniform has been deprecated in v3.0.0. This feature will be removed in v6.0.0. See https://github.com/optuna/optuna/releases/tag/v3.0.0. Use suggest_float instead.\n",
      "  dropout_rate = trial.suggest_uniform('dropout_rate', 0.1, 0.5)\n",
      "/var/folders/nd/fsmv2lz93k3_cjwz_1lx75j80000gn/T/ipykernel_10068/679006939.py:37: FutureWarning: suggest_loguniform has been deprecated in v3.0.0. This feature will be removed in v6.0.0. See https://github.com/optuna/optuna/releases/tag/v3.0.0. Use suggest_float(..., log=True) instead.\n",
      "  learning_rate = trial.suggest_loguniform('learning_rate', 1e-5, 1e-2)\n"
     ]
    },
    {
     "name": "stdout",
     "output_type": "stream",
     "text": [
      "Epoch 2/15, Train Loss: 0.0297, Test Loss: 0.0225\n",
      "Epoch 3/15, Train Loss: 0.0262, Test Loss: 0.0231\n",
      "Epoch 4/15, Train Loss: 0.0242, Test Loss: 0.0200\n",
      "Epoch 5/15, Train Loss: 0.0235, Test Loss: 0.0198\n",
      "Epoch 6/15, Train Loss: 0.0220, Test Loss: 0.0189\n",
      "Epoch 7/15, Train Loss: 0.0219, Test Loss: 0.0184\n",
      "Epoch 8/15, Train Loss: 0.0215, Test Loss: 0.0185\n",
      "Epoch 9/15, Train Loss: 0.0207, Test Loss: 0.0178\n",
      "Epoch 10/15, Train Loss: 0.0205, Test Loss: 0.0182\n",
      "Epoch 11/15, Train Loss: 0.0199, Test Loss: 0.0176\n",
      "Epoch 12/15, Train Loss: 0.0194, Test Loss: 0.0174\n",
      "Epoch 13/15, Train Loss: 0.0191, Test Loss: 0.0172\n"
     ]
    },
    {
     "name": "stderr",
     "output_type": "stream",
     "text": [
      "[I 2025-03-19 11:15:31,006] Trial 17 finished with value: 0.01709987747017294 and parameters: {'num_hidden_layers': 3, 'layer_0_size': 49, 'layer_1_size': 52, 'layer_2_size': 55, 'dropout_rate': 0.15182162796669832, 'learning_rate': 0.0006676727545712652, 'batch_size': 128, 'epochs': 15}. Best is trial 2 with value: 0.016762876592110842.\n"
     ]
    },
    {
     "name": "stdout",
     "output_type": "stream",
     "text": [
      "Epoch 14/15, Train Loss: 0.0192, Test Loss: 0.0185\n",
      "Epoch 15/15, Train Loss: 0.0188, Test Loss: 0.0171\n"
     ]
    },
    {
     "name": "stderr",
     "output_type": "stream",
     "text": [
      "/var/folders/nd/fsmv2lz93k3_cjwz_1lx75j80000gn/T/ipykernel_10068/679006939.py:36: FutureWarning: suggest_uniform has been deprecated in v3.0.0. This feature will be removed in v6.0.0. See https://github.com/optuna/optuna/releases/tag/v3.0.0. Use suggest_float instead.\n",
      "  dropout_rate = trial.suggest_uniform('dropout_rate', 0.1, 0.5)\n",
      "/var/folders/nd/fsmv2lz93k3_cjwz_1lx75j80000gn/T/ipykernel_10068/679006939.py:37: FutureWarning: suggest_loguniform has been deprecated in v3.0.0. This feature will be removed in v6.0.0. See https://github.com/optuna/optuna/releases/tag/v3.0.0. Use suggest_float(..., log=True) instead.\n",
      "  learning_rate = trial.suggest_loguniform('learning_rate', 1e-5, 1e-2)\n"
     ]
    },
    {
     "name": "stdout",
     "output_type": "stream",
     "text": [
      "Epoch 1/20, Train Loss: 0.1252, Test Loss: 0.0597\n",
      "Epoch 2/20, Train Loss: 0.0677, Test Loss: 0.0503\n",
      "Epoch 3/20, Train Loss: 0.0552, Test Loss: 0.0363\n",
      "Epoch 4/20, Train Loss: 0.0480, Test Loss: 0.0330\n",
      "Epoch 5/20, Train Loss: 0.0438, Test Loss: 0.0299\n",
      "Epoch 6/20, Train Loss: 0.0407, Test Loss: 0.0275\n",
      "Epoch 7/20, Train Loss: 0.0382, Test Loss: 0.0271\n",
      "Epoch 8/20, Train Loss: 0.0368, Test Loss: 0.0248\n",
      "Epoch 9/20, Train Loss: 0.0347, Test Loss: 0.0255\n",
      "Epoch 10/20, Train Loss: 0.0337, Test Loss: 0.0242\n",
      "Epoch 11/20, Train Loss: 0.0323, Test Loss: 0.0245\n",
      "Epoch 12/20, Train Loss: 0.0314, Test Loss: 0.0238\n",
      "Epoch 13/20, Train Loss: 0.0307, Test Loss: 0.0228\n",
      "Epoch 14/20, Train Loss: 0.0300, Test Loss: 0.0234\n",
      "Epoch 15/20, Train Loss: 0.0293, Test Loss: 0.0230\n",
      "Epoch 16/20, Train Loss: 0.0288, Test Loss: 0.0229\n",
      "Epoch 17/20, Train Loss: 0.0276, Test Loss: 0.0225\n",
      "Epoch 18/20, Train Loss: 0.0276, Test Loss: 0.0218\n"
     ]
    },
    {
     "name": "stderr",
     "output_type": "stream",
     "text": [
      "[I 2025-03-19 11:15:34,584] Trial 18 finished with value: 0.021556115258135833 and parameters: {'num_hidden_layers': 4, 'layer_0_size': 31, 'layer_1_size': 36, 'layer_2_size': 31, 'layer_3_size': 46, 'dropout_rate': 0.38917441643361766, 'learning_rate': 0.0002708956931036366, 'batch_size': 64, 'epochs': 20}. Best is trial 2 with value: 0.016762876592110842.\n"
     ]
    },
    {
     "name": "stdout",
     "output_type": "stream",
     "text": [
      "Epoch 19/20, Train Loss: 0.0276, Test Loss: 0.0220\n",
      "Epoch 20/20, Train Loss: 0.0266, Test Loss: 0.0216\n"
     ]
    },
    {
     "name": "stderr",
     "output_type": "stream",
     "text": [
      "/var/folders/nd/fsmv2lz93k3_cjwz_1lx75j80000gn/T/ipykernel_10068/679006939.py:36: FutureWarning: suggest_uniform has been deprecated in v3.0.0. This feature will be removed in v6.0.0. See https://github.com/optuna/optuna/releases/tag/v3.0.0. Use suggest_float instead.\n",
      "  dropout_rate = trial.suggest_uniform('dropout_rate', 0.1, 0.5)\n",
      "/var/folders/nd/fsmv2lz93k3_cjwz_1lx75j80000gn/T/ipykernel_10068/679006939.py:37: FutureWarning: suggest_loguniform has been deprecated in v3.0.0. This feature will be removed in v6.0.0. See https://github.com/optuna/optuna/releases/tag/v3.0.0. Use suggest_float(..., log=True) instead.\n",
      "  learning_rate = trial.suggest_loguniform('learning_rate', 1e-5, 1e-2)\n"
     ]
    },
    {
     "name": "stdout",
     "output_type": "stream",
     "text": [
      "Epoch 1/14, Train Loss: 0.0796, Test Loss: 0.0563\n",
      "Epoch 2/14, Train Loss: 0.0484, Test Loss: 0.0284\n",
      "Epoch 3/14, Train Loss: 0.0390, Test Loss: 0.0271\n",
      "Epoch 4/14, Train Loss: 0.0356, Test Loss: 0.0266\n",
      "Epoch 5/14, Train Loss: 0.0334, Test Loss: 0.0267\n",
      "Epoch 6/14, Train Loss: 0.0314, Test Loss: 0.0256\n",
      "Epoch 7/14, Train Loss: 0.0306, Test Loss: 0.0245\n",
      "Epoch 8/14, Train Loss: 0.0297, Test Loss: 0.0253\n",
      "Epoch 9/14, Train Loss: 0.0292, Test Loss: 0.0253\n",
      "Epoch 10/14, Train Loss: 0.0283, Test Loss: 0.0239\n",
      "Epoch 11/14, Train Loss: 0.0277, Test Loss: 0.0253\n",
      "Epoch 12/14, Train Loss: 0.0271, Test Loss: 0.0241\n",
      "Epoch 13/14, Train Loss: 0.0270, Test Loss: 0.0231\n"
     ]
    },
    {
     "name": "stderr",
     "output_type": "stream",
     "text": [
      "[I 2025-03-19 11:15:42,300] Trial 19 finished with value: 0.023952471710799728 and parameters: {'num_hidden_layers': 8, 'layer_0_size': 43, 'layer_1_size': 53, 'layer_2_size': 21, 'layer_3_size': 51, 'layer_4_size': 50, 'layer_5_size': 63, 'layer_6_size': 37, 'layer_7_size': 44, 'dropout_rate': 0.25161890495631895, 'learning_rate': 0.00015262157383423512, 'batch_size': 32, 'epochs': 14}. Best is trial 2 with value: 0.016762876592110842.\n"
     ]
    },
    {
     "name": "stdout",
     "output_type": "stream",
     "text": [
      "Epoch 14/14, Train Loss: 0.0260, Test Loss: 0.0240\n"
     ]
    },
    {
     "name": "stderr",
     "output_type": "stream",
     "text": [
      "/var/folders/nd/fsmv2lz93k3_cjwz_1lx75j80000gn/T/ipykernel_10068/679006939.py:36: FutureWarning: suggest_uniform has been deprecated in v3.0.0. This feature will be removed in v6.0.0. See https://github.com/optuna/optuna/releases/tag/v3.0.0. Use suggest_float instead.\n",
      "  dropout_rate = trial.suggest_uniform('dropout_rate', 0.1, 0.5)\n",
      "/var/folders/nd/fsmv2lz93k3_cjwz_1lx75j80000gn/T/ipykernel_10068/679006939.py:37: FutureWarning: suggest_loguniform has been deprecated in v3.0.0. This feature will be removed in v6.0.0. See https://github.com/optuna/optuna/releases/tag/v3.0.0. Use suggest_float(..., log=True) instead.\n",
      "  learning_rate = trial.suggest_loguniform('learning_rate', 1e-5, 1e-2)\n"
     ]
    },
    {
     "name": "stdout",
     "output_type": "stream",
     "text": [
      "Epoch 1/11, Train Loss: 0.0682, Test Loss: 0.0507\n",
      "Epoch 2/11, Train Loss: 0.0490, Test Loss: 0.0434\n",
      "Epoch 3/11, Train Loss: 0.0422, Test Loss: 0.0354\n",
      "Epoch 4/11, Train Loss: 0.0362, Test Loss: 0.0292\n",
      "Epoch 5/11, Train Loss: 0.0318, Test Loss: 0.0256\n",
      "Epoch 6/11, Train Loss: 0.0302, Test Loss: 0.0240\n",
      "Epoch 7/11, Train Loss: 0.0290, Test Loss: 0.0233\n",
      "Epoch 8/11, Train Loss: 0.0277, Test Loss: 0.0228\n",
      "Epoch 9/11, Train Loss: 0.0270, Test Loss: 0.0225\n",
      "Epoch 10/11, Train Loss: 0.0261, Test Loss: 0.0224\n"
     ]
    },
    {
     "name": "stderr",
     "output_type": "stream",
     "text": [
      "[I 2025-03-19 11:15:44,933] Trial 20 finished with value: 0.021914310949796345 and parameters: {'num_hidden_layers': 2, 'layer_0_size': 57, 'layer_1_size': 63, 'dropout_rate': 0.20396688020343207, 'learning_rate': 4.3112688963026505e-05, 'batch_size': 32, 'epochs': 11}. Best is trial 2 with value: 0.016762876592110842.\n"
     ]
    },
    {
     "name": "stdout",
     "output_type": "stream",
     "text": [
      "Epoch 11/11, Train Loss: 0.0259, Test Loss: 0.0219\n"
     ]
    },
    {
     "name": "stderr",
     "output_type": "stream",
     "text": [
      "/var/folders/nd/fsmv2lz93k3_cjwz_1lx75j80000gn/T/ipykernel_10068/679006939.py:36: FutureWarning: suggest_uniform has been deprecated in v3.0.0. This feature will be removed in v6.0.0. See https://github.com/optuna/optuna/releases/tag/v3.0.0. Use suggest_float instead.\n",
      "  dropout_rate = trial.suggest_uniform('dropout_rate', 0.1, 0.5)\n",
      "/var/folders/nd/fsmv2lz93k3_cjwz_1lx75j80000gn/T/ipykernel_10068/679006939.py:37: FutureWarning: suggest_loguniform has been deprecated in v3.0.0. This feature will be removed in v6.0.0. See https://github.com/optuna/optuna/releases/tag/v3.0.0. Use suggest_float(..., log=True) instead.\n",
      "  learning_rate = trial.suggest_loguniform('learning_rate', 1e-5, 1e-2)\n"
     ]
    },
    {
     "name": "stdout",
     "output_type": "stream",
     "text": [
      "Epoch 1/17, Train Loss: 0.0433, Test Loss: 0.0225\n",
      "Epoch 2/17, Train Loss: 0.0245, Test Loss: 0.0198\n",
      "Epoch 3/17, Train Loss: 0.0216, Test Loss: 0.0188\n",
      "Epoch 4/17, Train Loss: 0.0201, Test Loss: 0.0185\n",
      "Epoch 5/17, Train Loss: 0.0193, Test Loss: 0.0177\n",
      "Epoch 6/17, Train Loss: 0.0186, Test Loss: 0.0169\n",
      "Epoch 7/17, Train Loss: 0.0184, Test Loss: 0.0164\n",
      "Epoch 8/17, Train Loss: 0.0179, Test Loss: 0.0172\n",
      "Epoch 9/17, Train Loss: 0.0180, Test Loss: 0.0192\n",
      "Epoch 10/17, Train Loss: 0.0177, Test Loss: 0.0166\n",
      "Epoch 11/17, Train Loss: 0.0175, Test Loss: 0.0176\n",
      "Epoch 12/17, Train Loss: 0.0172, Test Loss: 0.0159\n",
      "Epoch 13/17, Train Loss: 0.0172, Test Loss: 0.0168\n",
      "Epoch 14/17, Train Loss: 0.0172, Test Loss: 0.0157\n",
      "Epoch 15/17, Train Loss: 0.0172, Test Loss: 0.0167\n",
      "Epoch 16/17, Train Loss: 0.0170, Test Loss: 0.0157\n"
     ]
    },
    {
     "name": "stderr",
     "output_type": "stream",
     "text": [
      "[I 2025-03-19 11:15:48,657] Trial 21 finished with value: 0.015407396742375568 and parameters: {'num_hidden_layers': 2, 'layer_0_size': 39, 'layer_1_size': 24, 'dropout_rate': 0.15237558217584266, 'learning_rate': 0.0017741116732703877, 'batch_size': 32, 'epochs': 17}. Best is trial 21 with value: 0.015407396742375568.\n"
     ]
    },
    {
     "name": "stdout",
     "output_type": "stream",
     "text": [
      "Epoch 17/17, Train Loss: 0.0167, Test Loss: 0.0154\n",
      "Epoch 1/18, Train Loss: 0.0345, Test Loss: 0.0223\n"
     ]
    },
    {
     "name": "stderr",
     "output_type": "stream",
     "text": [
      "/var/folders/nd/fsmv2lz93k3_cjwz_1lx75j80000gn/T/ipykernel_10068/679006939.py:36: FutureWarning: suggest_uniform has been deprecated in v3.0.0. This feature will be removed in v6.0.0. See https://github.com/optuna/optuna/releases/tag/v3.0.0. Use suggest_float instead.\n",
      "  dropout_rate = trial.suggest_uniform('dropout_rate', 0.1, 0.5)\n",
      "/var/folders/nd/fsmv2lz93k3_cjwz_1lx75j80000gn/T/ipykernel_10068/679006939.py:37: FutureWarning: suggest_loguniform has been deprecated in v3.0.0. This feature will be removed in v6.0.0. See https://github.com/optuna/optuna/releases/tag/v3.0.0. Use suggest_float(..., log=True) instead.\n",
      "  learning_rate = trial.suggest_loguniform('learning_rate', 1e-5, 1e-2)\n"
     ]
    },
    {
     "name": "stdout",
     "output_type": "stream",
     "text": [
      "Epoch 2/18, Train Loss: 0.0224, Test Loss: 0.0204\n",
      "Epoch 3/18, Train Loss: 0.0208, Test Loss: 0.0194\n",
      "Epoch 4/18, Train Loss: 0.0197, Test Loss: 0.0188\n",
      "Epoch 5/18, Train Loss: 0.0192, Test Loss: 0.0182\n",
      "Epoch 6/18, Train Loss: 0.0189, Test Loss: 0.0177\n",
      "Epoch 7/18, Train Loss: 0.0188, Test Loss: 0.0185\n",
      "Epoch 8/18, Train Loss: 0.0186, Test Loss: 0.0175\n",
      "Epoch 9/18, Train Loss: 0.0186, Test Loss: 0.0175\n",
      "Epoch 10/18, Train Loss: 0.0184, Test Loss: 0.0174\n",
      "Epoch 11/18, Train Loss: 0.0185, Test Loss: 0.0178\n",
      "Epoch 12/18, Train Loss: 0.0182, Test Loss: 0.0169\n",
      "Epoch 13/18, Train Loss: 0.0180, Test Loss: 0.0168\n",
      "Epoch 14/18, Train Loss: 0.0179, Test Loss: 0.0167\n",
      "Epoch 15/18, Train Loss: 0.0178, Test Loss: 0.0168\n",
      "Epoch 16/18, Train Loss: 0.0179, Test Loss: 0.0167\n",
      "Epoch 17/18, Train Loss: 0.0178, Test Loss: 0.0168\n"
     ]
    },
    {
     "name": "stderr",
     "output_type": "stream",
     "text": [
      "[I 2025-03-19 11:15:51,455] Trial 22 finished with value: 0.01681514907249948 and parameters: {'num_hidden_layers': 1, 'layer_0_size': 38, 'dropout_rate': 0.14033074306738166, 'learning_rate': 0.002487009901146933, 'batch_size': 32, 'epochs': 18}. Best is trial 21 with value: 0.015407396742375568.\n"
     ]
    },
    {
     "name": "stdout",
     "output_type": "stream",
     "text": [
      "Epoch 18/18, Train Loss: 0.0176, Test Loss: 0.0168\n"
     ]
    },
    {
     "name": "stderr",
     "output_type": "stream",
     "text": [
      "/var/folders/nd/fsmv2lz93k3_cjwz_1lx75j80000gn/T/ipykernel_10068/679006939.py:36: FutureWarning: suggest_uniform has been deprecated in v3.0.0. This feature will be removed in v6.0.0. See https://github.com/optuna/optuna/releases/tag/v3.0.0. Use suggest_float instead.\n",
      "  dropout_rate = trial.suggest_uniform('dropout_rate', 0.1, 0.5)\n",
      "/var/folders/nd/fsmv2lz93k3_cjwz_1lx75j80000gn/T/ipykernel_10068/679006939.py:37: FutureWarning: suggest_loguniform has been deprecated in v3.0.0. This feature will be removed in v6.0.0. See https://github.com/optuna/optuna/releases/tag/v3.0.0. Use suggest_float(..., log=True) instead.\n",
      "  learning_rate = trial.suggest_loguniform('learning_rate', 1e-5, 1e-2)\n"
     ]
    },
    {
     "name": "stdout",
     "output_type": "stream",
     "text": [
      "Epoch 1/17, Train Loss: 0.0362, Test Loss: 0.0213\n",
      "Epoch 2/17, Train Loss: 0.0245, Test Loss: 0.0207\n",
      "Epoch 3/17, Train Loss: 0.0225, Test Loss: 0.0198\n",
      "Epoch 4/17, Train Loss: 0.0210, Test Loss: 0.0189\n",
      "Epoch 5/17, Train Loss: 0.0202, Test Loss: 0.0180\n",
      "Epoch 6/17, Train Loss: 0.0197, Test Loss: 0.0174\n",
      "Epoch 7/17, Train Loss: 0.0193, Test Loss: 0.0192\n",
      "Epoch 8/17, Train Loss: 0.0189, Test Loss: 0.0172\n",
      "Epoch 9/17, Train Loss: 0.0186, Test Loss: 0.0167\n",
      "Epoch 10/17, Train Loss: 0.0184, Test Loss: 0.0162\n",
      "Epoch 11/17, Train Loss: 0.0181, Test Loss: 0.0167\n",
      "Epoch 12/17, Train Loss: 0.0182, Test Loss: 0.0161\n",
      "Epoch 13/17, Train Loss: 0.0177, Test Loss: 0.0158\n",
      "Epoch 14/17, Train Loss: 0.0177, Test Loss: 0.0169\n",
      "Epoch 15/17, Train Loss: 0.0175, Test Loss: 0.0159\n",
      "Epoch 16/17, Train Loss: 0.0174, Test Loss: 0.0161\n"
     ]
    },
    {
     "name": "stderr",
     "output_type": "stream",
     "text": [
      "[I 2025-03-19 11:15:55,888] Trial 23 finished with value: 0.016007859288947657 and parameters: {'num_hidden_layers': 3, 'layer_0_size': 47, 'layer_1_size': 25, 'layer_2_size': 34, 'dropout_rate': 0.20696667244683611, 'learning_rate': 0.001095765938601112, 'batch_size': 32, 'epochs': 17}. Best is trial 21 with value: 0.015407396742375568.\n"
     ]
    },
    {
     "name": "stdout",
     "output_type": "stream",
     "text": [
      "Epoch 17/17, Train Loss: 0.0175, Test Loss: 0.0160\n"
     ]
    },
    {
     "name": "stderr",
     "output_type": "stream",
     "text": [
      "/var/folders/nd/fsmv2lz93k3_cjwz_1lx75j80000gn/T/ipykernel_10068/679006939.py:36: FutureWarning: suggest_uniform has been deprecated in v3.0.0. This feature will be removed in v6.0.0. See https://github.com/optuna/optuna/releases/tag/v3.0.0. Use suggest_float instead.\n",
      "  dropout_rate = trial.suggest_uniform('dropout_rate', 0.1, 0.5)\n",
      "/var/folders/nd/fsmv2lz93k3_cjwz_1lx75j80000gn/T/ipykernel_10068/679006939.py:37: FutureWarning: suggest_loguniform has been deprecated in v3.0.0. This feature will be removed in v6.0.0. See https://github.com/optuna/optuna/releases/tag/v3.0.0. Use suggest_float(..., log=True) instead.\n",
      "  learning_rate = trial.suggest_loguniform('learning_rate', 1e-5, 1e-2)\n"
     ]
    },
    {
     "name": "stdout",
     "output_type": "stream",
     "text": [
      "Epoch 1/19, Train Loss: 0.0534, Test Loss: 0.0230\n",
      "Epoch 2/19, Train Loss: 0.0281, Test Loss: 0.0211\n",
      "Epoch 3/19, Train Loss: 0.0244, Test Loss: 0.0197\n",
      "Epoch 4/19, Train Loss: 0.0231, Test Loss: 0.0192\n",
      "Epoch 5/19, Train Loss: 0.0218, Test Loss: 0.0188\n",
      "Epoch 6/19, Train Loss: 0.0212, Test Loss: 0.0183\n",
      "Epoch 7/19, Train Loss: 0.0207, Test Loss: 0.0182\n",
      "Epoch 8/19, Train Loss: 0.0203, Test Loss: 0.0183\n",
      "Epoch 9/19, Train Loss: 0.0196, Test Loss: 0.0176\n",
      "Epoch 10/19, Train Loss: 0.0194, Test Loss: 0.0173\n",
      "Epoch 11/19, Train Loss: 0.0190, Test Loss: 0.0174\n",
      "Epoch 12/19, Train Loss: 0.0187, Test Loss: 0.0172\n",
      "Epoch 13/19, Train Loss: 0.0187, Test Loss: 0.0175\n",
      "Epoch 14/19, Train Loss: 0.0183, Test Loss: 0.0170\n",
      "Epoch 15/19, Train Loss: 0.0181, Test Loss: 0.0169\n",
      "Epoch 16/19, Train Loss: 0.0177, Test Loss: 0.0165\n",
      "Epoch 17/19, Train Loss: 0.0175, Test Loss: 0.0166\n",
      "Epoch 18/19, Train Loss: 0.0175, Test Loss: 0.0160\n"
     ]
    },
    {
     "name": "stderr",
     "output_type": "stream",
     "text": [
      "[I 2025-03-19 11:16:00,745] Trial 24 finished with value: 0.015900008475000504 and parameters: {'num_hidden_layers': 3, 'layer_0_size': 49, 'layer_1_size': 24, 'layer_2_size': 36, 'dropout_rate': 0.17039022896428724, 'learning_rate': 0.000631973360412394, 'batch_size': 32, 'epochs': 19}. Best is trial 21 with value: 0.015407396742375568.\n"
     ]
    },
    {
     "name": "stdout",
     "output_type": "stream",
     "text": [
      "Epoch 19/19, Train Loss: 0.0175, Test Loss: 0.0159\n"
     ]
    },
    {
     "name": "stderr",
     "output_type": "stream",
     "text": [
      "/var/folders/nd/fsmv2lz93k3_cjwz_1lx75j80000gn/T/ipykernel_10068/679006939.py:36: FutureWarning: suggest_uniform has been deprecated in v3.0.0. This feature will be removed in v6.0.0. See https://github.com/optuna/optuna/releases/tag/v3.0.0. Use suggest_float instead.\n",
      "  dropout_rate = trial.suggest_uniform('dropout_rate', 0.1, 0.5)\n",
      "/var/folders/nd/fsmv2lz93k3_cjwz_1lx75j80000gn/T/ipykernel_10068/679006939.py:37: FutureWarning: suggest_loguniform has been deprecated in v3.0.0. This feature will be removed in v6.0.0. See https://github.com/optuna/optuna/releases/tag/v3.0.0. Use suggest_float(..., log=True) instead.\n",
      "  learning_rate = trial.suggest_loguniform('learning_rate', 1e-5, 1e-2)\n"
     ]
    },
    {
     "name": "stdout",
     "output_type": "stream",
     "text": [
      "Epoch 1/18, Train Loss: 0.0454, Test Loss: 0.0221\n",
      "Epoch 2/18, Train Loss: 0.0257, Test Loss: 0.0204\n",
      "Epoch 3/18, Train Loss: 0.0234, Test Loss: 0.0210\n",
      "Epoch 4/18, Train Loss: 0.0220, Test Loss: 0.0184\n",
      "Epoch 5/18, Train Loss: 0.0211, Test Loss: 0.0181\n",
      "Epoch 6/18, Train Loss: 0.0202, Test Loss: 0.0179\n",
      "Epoch 7/18, Train Loss: 0.0195, Test Loss: 0.0174\n",
      "Epoch 8/18, Train Loss: 0.0193, Test Loss: 0.0171\n",
      "Epoch 9/18, Train Loss: 0.0190, Test Loss: 0.0171\n",
      "Epoch 10/18, Train Loss: 0.0183, Test Loss: 0.0169\n",
      "Epoch 11/18, Train Loss: 0.0182, Test Loss: 0.0164\n",
      "Epoch 12/18, Train Loss: 0.0181, Test Loss: 0.0165\n",
      "Epoch 13/18, Train Loss: 0.0180, Test Loss: 0.0174\n",
      "Epoch 14/18, Train Loss: 0.0177, Test Loss: 0.0161\n",
      "Epoch 15/18, Train Loss: 0.0175, Test Loss: 0.0175\n",
      "Epoch 16/18, Train Loss: 0.0175, Test Loss: 0.0160\n",
      "Epoch 17/18, Train Loss: 0.0172, Test Loss: 0.0160\n"
     ]
    },
    {
     "name": "stderr",
     "output_type": "stream",
     "text": [
      "[I 2025-03-19 11:16:05,454] Trial 25 finished with value: 0.015485940701182699 and parameters: {'num_hidden_layers': 3, 'layer_0_size': 49, 'layer_1_size': 24, 'layer_2_size': 36, 'dropout_rate': 0.17471782899135316, 'learning_rate': 0.0008416532512344366, 'batch_size': 32, 'epochs': 18}. Best is trial 21 with value: 0.015407396742375568.\n"
     ]
    },
    {
     "name": "stdout",
     "output_type": "stream",
     "text": [
      "Epoch 18/18, Train Loss: 0.0173, Test Loss: 0.0155\n",
      "Epoch 1/18, Train Loss: 0.0670, Test Loss: 0.0475\n"
     ]
    },
    {
     "name": "stderr",
     "output_type": "stream",
     "text": [
      "/var/folders/nd/fsmv2lz93k3_cjwz_1lx75j80000gn/T/ipykernel_10068/679006939.py:36: FutureWarning: suggest_uniform has been deprecated in v3.0.0. This feature will be removed in v6.0.0. See https://github.com/optuna/optuna/releases/tag/v3.0.0. Use suggest_float instead.\n",
      "  dropout_rate = trial.suggest_uniform('dropout_rate', 0.1, 0.5)\n",
      "/var/folders/nd/fsmv2lz93k3_cjwz_1lx75j80000gn/T/ipykernel_10068/679006939.py:37: FutureWarning: suggest_loguniform has been deprecated in v3.0.0. This feature will be removed in v6.0.0. See https://github.com/optuna/optuna/releases/tag/v3.0.0. Use suggest_float(..., log=True) instead.\n",
      "  learning_rate = trial.suggest_loguniform('learning_rate', 1e-5, 1e-2)\n"
     ]
    },
    {
     "name": "stdout",
     "output_type": "stream",
     "text": [
      "Epoch 2/18, Train Loss: 0.0361, Test Loss: 0.0243\n",
      "Epoch 3/18, Train Loss: 0.0298, Test Loss: 0.0232\n",
      "Epoch 4/18, Train Loss: 0.0277, Test Loss: 0.0219\n",
      "Epoch 5/18, Train Loss: 0.0260, Test Loss: 0.0215\n",
      "Epoch 6/18, Train Loss: 0.0254, Test Loss: 0.0215\n",
      "Epoch 7/18, Train Loss: 0.0246, Test Loss: 0.0229\n",
      "Epoch 8/18, Train Loss: 0.0236, Test Loss: 0.0224\n",
      "Epoch 9/18, Train Loss: 0.0232, Test Loss: 0.0194\n",
      "Epoch 10/18, Train Loss: 0.0227, Test Loss: 0.0195\n",
      "Epoch 11/18, Train Loss: 0.0222, Test Loss: 0.0200\n",
      "Epoch 12/18, Train Loss: 0.0215, Test Loss: 0.0186\n",
      "Epoch 13/18, Train Loss: 0.0214, Test Loss: 0.0201\n",
      "Epoch 14/18, Train Loss: 0.0211, Test Loss: 0.0185\n",
      "Epoch 15/18, Train Loss: 0.0208, Test Loss: 0.0191\n",
      "Epoch 16/18, Train Loss: 0.0204, Test Loss: 0.0177\n",
      "Epoch 17/18, Train Loss: 0.0202, Test Loss: 0.0197\n"
     ]
    },
    {
     "name": "stderr",
     "output_type": "stream",
     "text": [
      "[I 2025-03-19 11:16:08,154] Trial 26 finished with value: 0.019094276445684955 and parameters: {'num_hidden_layers': 5, 'layer_0_size': 54, 'layer_1_size': 18, 'layer_2_size': 45, 'layer_3_size': 64, 'layer_4_size': 30, 'dropout_rate': 0.16770889320986593, 'learning_rate': 0.0005126375072123003, 'batch_size': 128, 'epochs': 18}. Best is trial 21 with value: 0.015407396742375568.\n"
     ]
    },
    {
     "name": "stdout",
     "output_type": "stream",
     "text": [
      "Epoch 18/18, Train Loss: 0.0201, Test Loss: 0.0191\n",
      "Epoch 1/20, Train Loss: 0.0417, Test Loss: 0.0244\n"
     ]
    },
    {
     "name": "stderr",
     "output_type": "stream",
     "text": [
      "/var/folders/nd/fsmv2lz93k3_cjwz_1lx75j80000gn/T/ipykernel_10068/679006939.py:36: FutureWarning: suggest_uniform has been deprecated in v3.0.0. This feature will be removed in v6.0.0. See https://github.com/optuna/optuna/releases/tag/v3.0.0. Use suggest_float instead.\n",
      "  dropout_rate = trial.suggest_uniform('dropout_rate', 0.1, 0.5)\n",
      "/var/folders/nd/fsmv2lz93k3_cjwz_1lx75j80000gn/T/ipykernel_10068/679006939.py:37: FutureWarning: suggest_loguniform has been deprecated in v3.0.0. This feature will be removed in v6.0.0. See https://github.com/optuna/optuna/releases/tag/v3.0.0. Use suggest_float(..., log=True) instead.\n",
      "  learning_rate = trial.suggest_loguniform('learning_rate', 1e-5, 1e-2)\n"
     ]
    },
    {
     "name": "stdout",
     "output_type": "stream",
     "text": [
      "Epoch 2/20, Train Loss: 0.0258, Test Loss: 0.0203\n",
      "Epoch 3/20, Train Loss: 0.0228, Test Loss: 0.0220\n",
      "Epoch 4/20, Train Loss: 0.0218, Test Loss: 0.0176\n",
      "Epoch 5/20, Train Loss: 0.0210, Test Loss: 0.0174\n",
      "Epoch 6/20, Train Loss: 0.0202, Test Loss: 0.0173\n",
      "Epoch 7/20, Train Loss: 0.0198, Test Loss: 0.0175\n",
      "Epoch 8/20, Train Loss: 0.0197, Test Loss: 0.0183\n",
      "Epoch 9/20, Train Loss: 0.0195, Test Loss: 0.0169\n",
      "Epoch 10/20, Train Loss: 0.0195, Test Loss: 0.0174\n",
      "Epoch 11/20, Train Loss: 0.0195, Test Loss: 0.0171\n",
      "Epoch 12/20, Train Loss: 0.0192, Test Loss: 0.0163\n",
      "Epoch 13/20, Train Loss: 0.0189, Test Loss: 0.0167\n",
      "Epoch 14/20, Train Loss: 0.0190, Test Loss: 0.0162\n",
      "Epoch 15/20, Train Loss: 0.0191, Test Loss: 0.0167\n",
      "Epoch 16/20, Train Loss: 0.0190, Test Loss: 0.0173\n",
      "Epoch 17/20, Train Loss: 0.0188, Test Loss: 0.0159\n",
      "Epoch 18/20, Train Loss: 0.0185, Test Loss: 0.0168\n",
      "Epoch 19/20, Train Loss: 0.0188, Test Loss: 0.0180\n"
     ]
    },
    {
     "name": "stderr",
     "output_type": "stream",
     "text": [
      "[I 2025-03-19 11:16:11,183] Trial 27 finished with value: 0.016555502894334495 and parameters: {'num_hidden_layers': 3, 'layer_0_size': 57, 'layer_1_size': 23, 'layer_2_size': 41, 'dropout_rate': 0.26849850454589075, 'learning_rate': 0.0037947128860068777, 'batch_size': 64, 'epochs': 20}. Best is trial 21 with value: 0.015407396742375568.\n"
     ]
    },
    {
     "name": "stdout",
     "output_type": "stream",
     "text": [
      "Epoch 20/20, Train Loss: 0.0182, Test Loss: 0.0166\n",
      "Epoch 1/15, Train Loss: 0.1435, Test Loss: 0.0542\n",
      "Epoch 2/15, Train Loss: 0.0571, Test Loss: 0.0474\n"
     ]
    },
    {
     "name": "stderr",
     "output_type": "stream",
     "text": [
      "/var/folders/nd/fsmv2lz93k3_cjwz_1lx75j80000gn/T/ipykernel_10068/679006939.py:36: FutureWarning: suggest_uniform has been deprecated in v3.0.0. This feature will be removed in v6.0.0. See https://github.com/optuna/optuna/releases/tag/v3.0.0. Use suggest_float instead.\n",
      "  dropout_rate = trial.suggest_uniform('dropout_rate', 0.1, 0.5)\n",
      "/var/folders/nd/fsmv2lz93k3_cjwz_1lx75j80000gn/T/ipykernel_10068/679006939.py:37: FutureWarning: suggest_loguniform has been deprecated in v3.0.0. This feature will be removed in v6.0.0. See https://github.com/optuna/optuna/releases/tag/v3.0.0. Use suggest_float(..., log=True) instead.\n",
      "  learning_rate = trial.suggest_loguniform('learning_rate', 1e-5, 1e-2)\n"
     ]
    },
    {
     "name": "stdout",
     "output_type": "stream",
     "text": [
      "Epoch 3/15, Train Loss: 0.0471, Test Loss: 0.0354\n",
      "Epoch 4/15, Train Loss: 0.0372, Test Loss: 0.0282\n",
      "Epoch 5/15, Train Loss: 0.0336, Test Loss: 0.0257\n",
      "Epoch 6/15, Train Loss: 0.0321, Test Loss: 0.0244\n",
      "Epoch 7/15, Train Loss: 0.0308, Test Loss: 0.0241\n",
      "Epoch 8/15, Train Loss: 0.0294, Test Loss: 0.0232\n",
      "Epoch 9/15, Train Loss: 0.0290, Test Loss: 0.0228\n",
      "Epoch 10/15, Train Loss: 0.0277, Test Loss: 0.0223\n",
      "Epoch 11/15, Train Loss: 0.0274, Test Loss: 0.0218\n",
      "Epoch 12/15, Train Loss: 0.0270, Test Loss: 0.0214\n",
      "Epoch 13/15, Train Loss: 0.0258, Test Loss: 0.0210\n",
      "Epoch 14/15, Train Loss: 0.0258, Test Loss: 0.0208\n"
     ]
    },
    {
     "name": "stderr",
     "output_type": "stream",
     "text": [
      "[I 2025-03-19 11:16:12,330] Trial 28 finished with value: 0.020376662781927735 and parameters: {'num_hidden_layers': 2, 'layer_0_size': 51, 'layer_1_size': 29, 'dropout_rate': 0.19176103910832318, 'learning_rate': 0.000786982617719815, 'batch_size': 256, 'epochs': 15}. Best is trial 21 with value: 0.015407396742375568.\n"
     ]
    },
    {
     "name": "stdout",
     "output_type": "stream",
     "text": [
      "Epoch 15/15, Train Loss: 0.0251, Test Loss: 0.0204\n"
     ]
    },
    {
     "name": "stderr",
     "output_type": "stream",
     "text": [
      "/var/folders/nd/fsmv2lz93k3_cjwz_1lx75j80000gn/T/ipykernel_10068/679006939.py:36: FutureWarning: suggest_uniform has been deprecated in v3.0.0. This feature will be removed in v6.0.0. See https://github.com/optuna/optuna/releases/tag/v3.0.0. Use suggest_float instead.\n",
      "  dropout_rate = trial.suggest_uniform('dropout_rate', 0.1, 0.5)\n",
      "/var/folders/nd/fsmv2lz93k3_cjwz_1lx75j80000gn/T/ipykernel_10068/679006939.py:37: FutureWarning: suggest_loguniform has been deprecated in v3.0.0. This feature will be removed in v6.0.0. See https://github.com/optuna/optuna/releases/tag/v3.0.0. Use suggest_float(..., log=True) instead.\n",
      "  learning_rate = trial.suggest_loguniform('learning_rate', 1e-5, 1e-2)\n"
     ]
    },
    {
     "name": "stdout",
     "output_type": "stream",
     "text": [
      "Epoch 1/19, Train Loss: 0.0537, Test Loss: 0.0290\n",
      "Epoch 2/19, Train Loss: 0.0323, Test Loss: 0.0233\n",
      "Epoch 3/19, Train Loss: 0.0278, Test Loss: 0.0256\n",
      "Epoch 4/19, Train Loss: 0.0263, Test Loss: 0.0229\n",
      "Epoch 5/19, Train Loss: 0.0247, Test Loss: 0.0217\n",
      "Epoch 6/19, Train Loss: 0.0240, Test Loss: 0.0222\n",
      "Epoch 7/19, Train Loss: 0.0235, Test Loss: 0.0206\n",
      "Epoch 8/19, Train Loss: 0.0232, Test Loss: 0.0230\n",
      "Epoch 9/19, Train Loss: 0.0228, Test Loss: 0.0216\n",
      "Epoch 10/19, Train Loss: 0.0228, Test Loss: 0.0220\n",
      "Epoch 11/19, Train Loss: 0.0226, Test Loss: 0.0196\n",
      "Epoch 12/19, Train Loss: 0.0224, Test Loss: 0.0201\n",
      "Epoch 13/19, Train Loss: 0.0222, Test Loss: 0.0195\n",
      "Epoch 14/19, Train Loss: 0.0215, Test Loss: 0.0207\n",
      "Epoch 15/19, Train Loss: 0.0218, Test Loss: 0.0187\n",
      "Epoch 16/19, Train Loss: 0.0224, Test Loss: 0.0191\n",
      "Epoch 17/19, Train Loss: 0.0222, Test Loss: 0.0187\n",
      "Epoch 18/19, Train Loss: 0.0214, Test Loss: 0.0194\n"
     ]
    },
    {
     "name": "stderr",
     "output_type": "stream",
     "text": [
      "[I 2025-03-19 11:16:14,887] Trial 29 finished with value: 0.019255217630416155 and parameters: {'num_hidden_layers': 5, 'layer_0_size': 40, 'layer_1_size': 20, 'layer_2_size': 51, 'layer_3_size': 56, 'layer_4_size': 53, 'dropout_rate': 0.33731193545629884, 'learning_rate': 0.007133025312768023, 'batch_size': 256, 'epochs': 19}. Best is trial 21 with value: 0.015407396742375568.\n"
     ]
    },
    {
     "name": "stdout",
     "output_type": "stream",
     "text": [
      "Epoch 19/19, Train Loss: 0.0214, Test Loss: 0.0193\n"
     ]
    },
    {
     "name": "stderr",
     "output_type": "stream",
     "text": [
      "/var/folders/nd/fsmv2lz93k3_cjwz_1lx75j80000gn/T/ipykernel_10068/679006939.py:36: FutureWarning: suggest_uniform has been deprecated in v3.0.0. This feature will be removed in v6.0.0. See https://github.com/optuna/optuna/releases/tag/v3.0.0. Use suggest_float instead.\n",
      "  dropout_rate = trial.suggest_uniform('dropout_rate', 0.1, 0.5)\n",
      "/var/folders/nd/fsmv2lz93k3_cjwz_1lx75j80000gn/T/ipykernel_10068/679006939.py:37: FutureWarning: suggest_loguniform has been deprecated in v3.0.0. This feature will be removed in v6.0.0. See https://github.com/optuna/optuna/releases/tag/v3.0.0. Use suggest_float(..., log=True) instead.\n",
      "  learning_rate = trial.suggest_loguniform('learning_rate', 1e-5, 1e-2)\n"
     ]
    },
    {
     "name": "stdout",
     "output_type": "stream",
     "text": [
      "Epoch 1/17, Train Loss: 0.0391, Test Loss: 0.0267\n",
      "Epoch 2/17, Train Loss: 0.0252, Test Loss: 0.0207\n",
      "Epoch 3/17, Train Loss: 0.0237, Test Loss: 0.0191\n",
      "Epoch 4/17, Train Loss: 0.0225, Test Loss: 0.0206\n",
      "Epoch 5/17, Train Loss: 0.0224, Test Loss: 0.0185\n",
      "Epoch 6/17, Train Loss: 0.0214, Test Loss: 0.0178\n",
      "Epoch 7/17, Train Loss: 0.0213, Test Loss: 0.0193\n",
      "Epoch 8/17, Train Loss: 0.0215, Test Loss: 0.0174\n",
      "Epoch 9/17, Train Loss: 0.0211, Test Loss: 0.0174\n",
      "Epoch 10/17, Train Loss: 0.0207, Test Loss: 0.0183\n",
      "Epoch 11/17, Train Loss: 0.0204, Test Loss: 0.0190\n",
      "Epoch 12/17, Train Loss: 0.0208, Test Loss: 0.0164\n",
      "Epoch 13/17, Train Loss: 0.0205, Test Loss: 0.0174\n",
      "Epoch 14/17, Train Loss: 0.0204, Test Loss: 0.0163\n",
      "Epoch 15/17, Train Loss: 0.0205, Test Loss: 0.0185\n",
      "Epoch 16/17, Train Loss: 0.0198, Test Loss: 0.0163\n"
     ]
    },
    {
     "name": "stderr",
     "output_type": "stream",
     "text": [
      "[I 2025-03-19 11:16:19,414] Trial 30 finished with value: 0.017617611829336965 and parameters: {'num_hidden_layers': 3, 'layer_0_size': 48, 'layer_1_size': 27, 'layer_2_size': 37, 'dropout_rate': 0.3183885123590512, 'learning_rate': 0.0037637264233011188, 'batch_size': 32, 'epochs': 17}. Best is trial 21 with value: 0.015407396742375568.\n"
     ]
    },
    {
     "name": "stdout",
     "output_type": "stream",
     "text": [
      "Epoch 17/17, Train Loss: 0.0201, Test Loss: 0.0176\n"
     ]
    },
    {
     "name": "stderr",
     "output_type": "stream",
     "text": [
      "/var/folders/nd/fsmv2lz93k3_cjwz_1lx75j80000gn/T/ipykernel_10068/679006939.py:36: FutureWarning: suggest_uniform has been deprecated in v3.0.0. This feature will be removed in v6.0.0. See https://github.com/optuna/optuna/releases/tag/v3.0.0. Use suggest_float instead.\n",
      "  dropout_rate = trial.suggest_uniform('dropout_rate', 0.1, 0.5)\n",
      "/var/folders/nd/fsmv2lz93k3_cjwz_1lx75j80000gn/T/ipykernel_10068/679006939.py:37: FutureWarning: suggest_loguniform has been deprecated in v3.0.0. This feature will be removed in v6.0.0. See https://github.com/optuna/optuna/releases/tag/v3.0.0. Use suggest_float(..., log=True) instead.\n",
      "  learning_rate = trial.suggest_loguniform('learning_rate', 1e-5, 1e-2)\n"
     ]
    },
    {
     "name": "stdout",
     "output_type": "stream",
     "text": [
      "Epoch 1/17, Train Loss: 0.0446, Test Loss: 0.0225\n",
      "Epoch 2/17, Train Loss: 0.0260, Test Loss: 0.0201\n",
      "Epoch 3/17, Train Loss: 0.0230, Test Loss: 0.0190\n",
      "Epoch 4/17, Train Loss: 0.0212, Test Loss: 0.0181\n",
      "Epoch 5/17, Train Loss: 0.0205, Test Loss: 0.0178\n",
      "Epoch 6/17, Train Loss: 0.0198, Test Loss: 0.0177\n",
      "Epoch 7/17, Train Loss: 0.0192, Test Loss: 0.0170\n",
      "Epoch 8/17, Train Loss: 0.0191, Test Loss: 0.0170\n",
      "Epoch 9/17, Train Loss: 0.0187, Test Loss: 0.0163\n",
      "Epoch 10/17, Train Loss: 0.0185, Test Loss: 0.0164\n",
      "Epoch 11/17, Train Loss: 0.0182, Test Loss: 0.0162\n",
      "Epoch 12/17, Train Loss: 0.0181, Test Loss: 0.0163\n",
      "Epoch 13/17, Train Loss: 0.0180, Test Loss: 0.0158\n",
      "Epoch 14/17, Train Loss: 0.0177, Test Loss: 0.0159\n",
      "Epoch 15/17, Train Loss: 0.0178, Test Loss: 0.0161\n",
      "Epoch 16/17, Train Loss: 0.0174, Test Loss: 0.0159\n"
     ]
    },
    {
     "name": "stderr",
     "output_type": "stream",
     "text": [
      "[I 2025-03-19 11:16:24,035] Trial 31 finished with value: 0.016233181342613534 and parameters: {'num_hidden_layers': 3, 'layer_0_size': 47, 'layer_1_size': 23, 'layer_2_size': 30, 'dropout_rate': 0.22432565514812092, 'learning_rate': 0.0011620529138527075, 'batch_size': 32, 'epochs': 17}. Best is trial 21 with value: 0.015407396742375568.\n"
     ]
    },
    {
     "name": "stdout",
     "output_type": "stream",
     "text": [
      "Epoch 17/17, Train Loss: 0.0173, Test Loss: 0.0162\n"
     ]
    },
    {
     "name": "stderr",
     "output_type": "stream",
     "text": [
      "/var/folders/nd/fsmv2lz93k3_cjwz_1lx75j80000gn/T/ipykernel_10068/679006939.py:36: FutureWarning: suggest_uniform has been deprecated in v3.0.0. This feature will be removed in v6.0.0. See https://github.com/optuna/optuna/releases/tag/v3.0.0. Use suggest_float instead.\n",
      "  dropout_rate = trial.suggest_uniform('dropout_rate', 0.1, 0.5)\n",
      "/var/folders/nd/fsmv2lz93k3_cjwz_1lx75j80000gn/T/ipykernel_10068/679006939.py:37: FutureWarning: suggest_loguniform has been deprecated in v3.0.0. This feature will be removed in v6.0.0. See https://github.com/optuna/optuna/releases/tag/v3.0.0. Use suggest_float(..., log=True) instead.\n",
      "  learning_rate = trial.suggest_loguniform('learning_rate', 1e-5, 1e-2)\n"
     ]
    },
    {
     "name": "stdout",
     "output_type": "stream",
     "text": [
      "Epoch 1/18, Train Loss: 0.0415, Test Loss: 0.0239\n",
      "Epoch 2/18, Train Loss: 0.0272, Test Loss: 0.0225\n",
      "Epoch 3/18, Train Loss: 0.0246, Test Loss: 0.0209\n",
      "Epoch 4/18, Train Loss: 0.0235, Test Loss: 0.0197\n",
      "Epoch 5/18, Train Loss: 0.0225, Test Loss: 0.0190\n",
      "Epoch 6/18, Train Loss: 0.0217, Test Loss: 0.0186\n",
      "Epoch 7/18, Train Loss: 0.0209, Test Loss: 0.0193\n",
      "Epoch 8/18, Train Loss: 0.0207, Test Loss: 0.0182\n",
      "Epoch 9/18, Train Loss: 0.0201, Test Loss: 0.0178\n",
      "Epoch 10/18, Train Loss: 0.0198, Test Loss: 0.0174\n",
      "Epoch 11/18, Train Loss: 0.0194, Test Loss: 0.0172\n",
      "Epoch 12/18, Train Loss: 0.0191, Test Loss: 0.0167\n",
      "Epoch 13/18, Train Loss: 0.0189, Test Loss: 0.0166\n",
      "Epoch 14/18, Train Loss: 0.0186, Test Loss: 0.0166\n",
      "Epoch 15/18, Train Loss: 0.0187, Test Loss: 0.0166\n",
      "Epoch 16/18, Train Loss: 0.0183, Test Loss: 0.0164\n",
      "Epoch 17/18, Train Loss: 0.0183, Test Loss: 0.0160\n"
     ]
    },
    {
     "name": "stderr",
     "output_type": "stream",
     "text": [
      "[I 2025-03-19 11:16:29,878] Trial 32 finished with value: 0.016023826519813156 and parameters: {'num_hidden_layers': 4, 'layer_0_size': 57, 'layer_1_size': 26, 'layer_2_size': 34, 'layer_3_size': 16, 'dropout_rate': 0.14275215422157012, 'learning_rate': 0.0004669385642831243, 'batch_size': 32, 'epochs': 18}. Best is trial 21 with value: 0.015407396742375568.\n"
     ]
    },
    {
     "name": "stdout",
     "output_type": "stream",
     "text": [
      "Epoch 18/18, Train Loss: 0.0182, Test Loss: 0.0160\n"
     ]
    },
    {
     "name": "stderr",
     "output_type": "stream",
     "text": [
      "/var/folders/nd/fsmv2lz93k3_cjwz_1lx75j80000gn/T/ipykernel_10068/679006939.py:36: FutureWarning: suggest_uniform has been deprecated in v3.0.0. This feature will be removed in v6.0.0. See https://github.com/optuna/optuna/releases/tag/v3.0.0. Use suggest_float instead.\n",
      "  dropout_rate = trial.suggest_uniform('dropout_rate', 0.1, 0.5)\n",
      "/var/folders/nd/fsmv2lz93k3_cjwz_1lx75j80000gn/T/ipykernel_10068/679006939.py:37: FutureWarning: suggest_loguniform has been deprecated in v3.0.0. This feature will be removed in v6.0.0. See https://github.com/optuna/optuna/releases/tag/v3.0.0. Use suggest_float(..., log=True) instead.\n",
      "  learning_rate = trial.suggest_loguniform('learning_rate', 1e-5, 1e-2)\n"
     ]
    },
    {
     "name": "stdout",
     "output_type": "stream",
     "text": [
      "Epoch 1/15, Train Loss: 0.0383, Test Loss: 0.0221\n",
      "Epoch 2/15, Train Loss: 0.0251, Test Loss: 0.0199\n",
      "Epoch 3/15, Train Loss: 0.0229, Test Loss: 0.0196\n",
      "Epoch 4/15, Train Loss: 0.0218, Test Loss: 0.0206\n",
      "Epoch 5/15, Train Loss: 0.0206, Test Loss: 0.0197\n",
      "Epoch 6/15, Train Loss: 0.0195, Test Loss: 0.0179\n",
      "Epoch 7/15, Train Loss: 0.0193, Test Loss: 0.0169\n",
      "Epoch 8/15, Train Loss: 0.0183, Test Loss: 0.0168\n",
      "Epoch 9/15, Train Loss: 0.0180, Test Loss: 0.0173\n",
      "Epoch 10/15, Train Loss: 0.0176, Test Loss: 0.0163\n",
      "Epoch 11/15, Train Loss: 0.0172, Test Loss: 0.0166\n",
      "Epoch 12/15, Train Loss: 0.0173, Test Loss: 0.0171\n",
      "Epoch 13/15, Train Loss: 0.0172, Test Loss: 0.0166\n",
      "Epoch 14/15, Train Loss: 0.0169, Test Loss: 0.0163\n"
     ]
    },
    {
     "name": "stderr",
     "output_type": "stream",
     "text": [
      "[I 2025-03-19 11:16:33,125] Trial 33 finished with value: 0.015422696840687422 and parameters: {'num_hidden_layers': 2, 'layer_0_size': 46, 'layer_1_size': 34, 'dropout_rate': 0.17992620364089917, 'learning_rate': 0.001084273626394099, 'batch_size': 32, 'epochs': 15}. Best is trial 21 with value: 0.015407396742375568.\n"
     ]
    },
    {
     "name": "stdout",
     "output_type": "stream",
     "text": [
      "Epoch 15/15, Train Loss: 0.0167, Test Loss: 0.0154\n"
     ]
    },
    {
     "name": "stderr",
     "output_type": "stream",
     "text": [
      "/var/folders/nd/fsmv2lz93k3_cjwz_1lx75j80000gn/T/ipykernel_10068/679006939.py:36: FutureWarning: suggest_uniform has been deprecated in v3.0.0. This feature will be removed in v6.0.0. See https://github.com/optuna/optuna/releases/tag/v3.0.0. Use suggest_float instead.\n",
      "  dropout_rate = trial.suggest_uniform('dropout_rate', 0.1, 0.5)\n",
      "/var/folders/nd/fsmv2lz93k3_cjwz_1lx75j80000gn/T/ipykernel_10068/679006939.py:37: FutureWarning: suggest_loguniform has been deprecated in v3.0.0. This feature will be removed in v6.0.0. See https://github.com/optuna/optuna/releases/tag/v3.0.0. Use suggest_float(..., log=True) instead.\n",
      "  learning_rate = trial.suggest_loguniform('learning_rate', 1e-5, 1e-2)\n"
     ]
    },
    {
     "name": "stdout",
     "output_type": "stream",
     "text": [
      "Epoch 1/15, Train Loss: 0.0392, Test Loss: 0.0217\n",
      "Epoch 2/15, Train Loss: 0.0229, Test Loss: 0.0193\n",
      "Epoch 3/15, Train Loss: 0.0211, Test Loss: 0.0181\n",
      "Epoch 4/15, Train Loss: 0.0203, Test Loss: 0.0197\n",
      "Epoch 5/15, Train Loss: 0.0190, Test Loss: 0.0170\n",
      "Epoch 6/15, Train Loss: 0.0183, Test Loss: 0.0171\n",
      "Epoch 7/15, Train Loss: 0.0179, Test Loss: 0.0164\n",
      "Epoch 8/15, Train Loss: 0.0176, Test Loss: 0.0164\n",
      "Epoch 9/15, Train Loss: 0.0174, Test Loss: 0.0164\n",
      "Epoch 10/15, Train Loss: 0.0171, Test Loss: 0.0157\n",
      "Epoch 11/15, Train Loss: 0.0170, Test Loss: 0.0158\n",
      "Epoch 12/15, Train Loss: 0.0169, Test Loss: 0.0169\n",
      "Epoch 13/15, Train Loss: 0.0166, Test Loss: 0.0157\n",
      "Epoch 14/15, Train Loss: 0.0161, Test Loss: 0.0148\n"
     ]
    },
    {
     "name": "stderr",
     "output_type": "stream",
     "text": [
      "[I 2025-03-19 11:16:36,619] Trial 34 finished with value: 0.015182892417215044 and parameters: {'num_hidden_layers': 2, 'layer_0_size': 42, 'layer_1_size': 33, 'dropout_rate': 0.12719768798085485, 'learning_rate': 0.002047756891161362, 'batch_size': 32, 'epochs': 15}. Best is trial 34 with value: 0.015182892417215044.\n"
     ]
    },
    {
     "name": "stdout",
     "output_type": "stream",
     "text": [
      "Epoch 15/15, Train Loss: 0.0160, Test Loss: 0.0152\n"
     ]
    },
    {
     "name": "stderr",
     "output_type": "stream",
     "text": [
      "/var/folders/nd/fsmv2lz93k3_cjwz_1lx75j80000gn/T/ipykernel_10068/679006939.py:36: FutureWarning: suggest_uniform has been deprecated in v3.0.0. This feature will be removed in v6.0.0. See https://github.com/optuna/optuna/releases/tag/v3.0.0. Use suggest_float instead.\n",
      "  dropout_rate = trial.suggest_uniform('dropout_rate', 0.1, 0.5)\n",
      "/var/folders/nd/fsmv2lz93k3_cjwz_1lx75j80000gn/T/ipykernel_10068/679006939.py:37: FutureWarning: suggest_loguniform has been deprecated in v3.0.0. This feature will be removed in v6.0.0. See https://github.com/optuna/optuna/releases/tag/v3.0.0. Use suggest_float(..., log=True) instead.\n",
      "  learning_rate = trial.suggest_loguniform('learning_rate', 1e-5, 1e-2)\n"
     ]
    },
    {
     "name": "stdout",
     "output_type": "stream",
     "text": [
      "Epoch 1/14, Train Loss: 0.0328, Test Loss: 0.0222\n",
      "Epoch 2/14, Train Loss: 0.0224, Test Loss: 0.0190\n",
      "Epoch 3/14, Train Loss: 0.0201, Test Loss: 0.0197\n",
      "Epoch 4/14, Train Loss: 0.0190, Test Loss: 0.0172\n",
      "Epoch 5/14, Train Loss: 0.0187, Test Loss: 0.0170\n",
      "Epoch 6/14, Train Loss: 0.0179, Test Loss: 0.0176\n",
      "Epoch 7/14, Train Loss: 0.0179, Test Loss: 0.0167\n",
      "Epoch 8/14, Train Loss: 0.0178, Test Loss: 0.0164\n",
      "Epoch 9/14, Train Loss: 0.0173, Test Loss: 0.0159\n",
      "Epoch 10/14, Train Loss: 0.0171, Test Loss: 0.0156\n",
      "Epoch 11/14, Train Loss: 0.0167, Test Loss: 0.0163\n",
      "Epoch 12/14, Train Loss: 0.0166, Test Loss: 0.0158\n",
      "Epoch 13/14, Train Loss: 0.0167, Test Loss: 0.0157\n"
     ]
    },
    {
     "name": "stderr",
     "output_type": "stream",
     "text": [
      "[I 2025-03-19 11:16:39,552] Trial 35 finished with value: 0.01620802436809754 and parameters: {'num_hidden_layers': 2, 'layer_0_size': 37, 'layer_1_size': 33, 'dropout_rate': 0.12544222469232216, 'learning_rate': 0.0026030341789493113, 'batch_size': 32, 'epochs': 14}. Best is trial 34 with value: 0.015182892417215044.\n"
     ]
    },
    {
     "name": "stdout",
     "output_type": "stream",
     "text": [
      "Epoch 14/14, Train Loss: 0.0164, Test Loss: 0.0162\n",
      "Epoch 1/15, Train Loss: 0.0768, Test Loss: 0.0368\n",
      "Epoch 2/15, Train Loss: 0.0321, Test Loss: 0.0247\n"
     ]
    },
    {
     "name": "stderr",
     "output_type": "stream",
     "text": [
      "/var/folders/nd/fsmv2lz93k3_cjwz_1lx75j80000gn/T/ipykernel_10068/679006939.py:36: FutureWarning: suggest_uniform has been deprecated in v3.0.0. This feature will be removed in v6.0.0. See https://github.com/optuna/optuna/releases/tag/v3.0.0. Use suggest_float instead.\n",
      "  dropout_rate = trial.suggest_uniform('dropout_rate', 0.1, 0.5)\n",
      "/var/folders/nd/fsmv2lz93k3_cjwz_1lx75j80000gn/T/ipykernel_10068/679006939.py:37: FutureWarning: suggest_loguniform has been deprecated in v3.0.0. This feature will be removed in v6.0.0. See https://github.com/optuna/optuna/releases/tag/v3.0.0. Use suggest_float(..., log=True) instead.\n",
      "  learning_rate = trial.suggest_loguniform('learning_rate', 1e-5, 1e-2)\n"
     ]
    },
    {
     "name": "stdout",
     "output_type": "stream",
     "text": [
      "Epoch 3/15, Train Loss: 0.0272, Test Loss: 0.0234\n",
      "Epoch 4/15, Train Loss: 0.0254, Test Loss: 0.0222\n",
      "Epoch 5/15, Train Loss: 0.0243, Test Loss: 0.0213\n",
      "Epoch 6/15, Train Loss: 0.0229, Test Loss: 0.0204\n",
      "Epoch 7/15, Train Loss: 0.0218, Test Loss: 0.0197\n",
      "Epoch 8/15, Train Loss: 0.0211, Test Loss: 0.0194\n",
      "Epoch 9/15, Train Loss: 0.0205, Test Loss: 0.0189\n",
      "Epoch 10/15, Train Loss: 0.0200, Test Loss: 0.0185\n",
      "Epoch 11/15, Train Loss: 0.0196, Test Loss: 0.0182\n",
      "Epoch 12/15, Train Loss: 0.0194, Test Loss: 0.0181\n",
      "Epoch 13/15, Train Loss: 0.0191, Test Loss: 0.0178\n",
      "Epoch 14/15, Train Loss: 0.0192, Test Loss: 0.0181\n"
     ]
    },
    {
     "name": "stderr",
     "output_type": "stream",
     "text": [
      "[I 2025-03-19 11:16:40,719] Trial 36 finished with value: 0.017814377672038972 and parameters: {'num_hidden_layers': 1, 'layer_0_size': 41, 'dropout_rate': 0.10216501319725418, 'learning_rate': 0.0016498440429369824, 'batch_size': 128, 'epochs': 15}. Best is trial 34 with value: 0.015182892417215044.\n"
     ]
    },
    {
     "name": "stdout",
     "output_type": "stream",
     "text": [
      "Epoch 15/15, Train Loss: 0.0189, Test Loss: 0.0178\n"
     ]
    },
    {
     "name": "stderr",
     "output_type": "stream",
     "text": [
      "/var/folders/nd/fsmv2lz93k3_cjwz_1lx75j80000gn/T/ipykernel_10068/679006939.py:36: FutureWarning: suggest_uniform has been deprecated in v3.0.0. This feature will be removed in v6.0.0. See https://github.com/optuna/optuna/releases/tag/v3.0.0. Use suggest_float instead.\n",
      "  dropout_rate = trial.suggest_uniform('dropout_rate', 0.1, 0.5)\n",
      "/var/folders/nd/fsmv2lz93k3_cjwz_1lx75j80000gn/T/ipykernel_10068/679006939.py:37: FutureWarning: suggest_loguniform has been deprecated in v3.0.0. This feature will be removed in v6.0.0. See https://github.com/optuna/optuna/releases/tag/v3.0.0. Use suggest_float(..., log=True) instead.\n",
      "  learning_rate = trial.suggest_loguniform('learning_rate', 1e-5, 1e-2)\n"
     ]
    },
    {
     "name": "stdout",
     "output_type": "stream",
     "text": [
      "Epoch 1/12, Train Loss: 0.0290, Test Loss: 0.0192\n",
      "Epoch 2/12, Train Loss: 0.0207, Test Loss: 0.0229\n",
      "Epoch 3/12, Train Loss: 0.0196, Test Loss: 0.0199\n",
      "Epoch 4/12, Train Loss: 0.0196, Test Loss: 0.0178\n",
      "Epoch 5/12, Train Loss: 0.0185, Test Loss: 0.0181\n",
      "Epoch 6/12, Train Loss: 0.0188, Test Loss: 0.0193\n",
      "Epoch 7/12, Train Loss: 0.0184, Test Loss: 0.0194\n",
      "Epoch 8/12, Train Loss: 0.0180, Test Loss: 0.0167\n",
      "Epoch 9/12, Train Loss: 0.0180, Test Loss: 0.0189\n",
      "Epoch 10/12, Train Loss: 0.0179, Test Loss: 0.0162\n",
      "Epoch 11/12, Train Loss: 0.0179, Test Loss: 0.0181\n"
     ]
    },
    {
     "name": "stderr",
     "output_type": "stream",
     "text": [
      "[I 2025-03-19 11:16:43,306] Trial 37 finished with value: 0.017022136780724395 and parameters: {'num_hidden_layers': 2, 'layer_0_size': 35, 'layer_1_size': 35, 'dropout_rate': 0.12586744198509864, 'learning_rate': 0.0062789542266575545, 'batch_size': 32, 'epochs': 12}. Best is trial 34 with value: 0.015182892417215044.\n"
     ]
    },
    {
     "name": "stdout",
     "output_type": "stream",
     "text": [
      "Epoch 12/12, Train Loss: 0.0179, Test Loss: 0.0170\n",
      "Epoch 1/14, Train Loss: 0.0320, Test Loss: 0.0219\n"
     ]
    },
    {
     "name": "stderr",
     "output_type": "stream",
     "text": [
      "/var/folders/nd/fsmv2lz93k3_cjwz_1lx75j80000gn/T/ipykernel_10068/679006939.py:36: FutureWarning: suggest_uniform has been deprecated in v3.0.0. This feature will be removed in v6.0.0. See https://github.com/optuna/optuna/releases/tag/v3.0.0. Use suggest_float instead.\n",
      "  dropout_rate = trial.suggest_uniform('dropout_rate', 0.1, 0.5)\n",
      "/var/folders/nd/fsmv2lz93k3_cjwz_1lx75j80000gn/T/ipykernel_10068/679006939.py:37: FutureWarning: suggest_loguniform has been deprecated in v3.0.0. This feature will be removed in v6.0.0. See https://github.com/optuna/optuna/releases/tag/v3.0.0. Use suggest_float(..., log=True) instead.\n",
      "  learning_rate = trial.suggest_loguniform('learning_rate', 1e-5, 1e-2)\n"
     ]
    },
    {
     "name": "stdout",
     "output_type": "stream",
     "text": [
      "Epoch 2/14, Train Loss: 0.0220, Test Loss: 0.0193\n",
      "Epoch 3/14, Train Loss: 0.0199, Test Loss: 0.0180\n",
      "Epoch 4/14, Train Loss: 0.0192, Test Loss: 0.0181\n",
      "Epoch 5/14, Train Loss: 0.0187, Test Loss: 0.0168\n",
      "Epoch 6/14, Train Loss: 0.0178, Test Loss: 0.0173\n",
      "Epoch 7/14, Train Loss: 0.0177, Test Loss: 0.0173\n",
      "Epoch 8/14, Train Loss: 0.0175, Test Loss: 0.0167\n",
      "Epoch 9/14, Train Loss: 0.0175, Test Loss: 0.0168\n",
      "Epoch 10/14, Train Loss: 0.0175, Test Loss: 0.0160\n",
      "Epoch 11/14, Train Loss: 0.0172, Test Loss: 0.0167\n",
      "Epoch 12/14, Train Loss: 0.0169, Test Loss: 0.0160\n",
      "Epoch 13/14, Train Loss: 0.0168, Test Loss: 0.0154\n"
     ]
    },
    {
     "name": "stderr",
     "output_type": "stream",
     "text": [
      "[I 2025-03-19 11:16:45,119] Trial 38 finished with value: 0.01567416147008771 and parameters: {'num_hidden_layers': 2, 'layer_0_size': 29, 'layer_1_size': 41, 'dropout_rate': 0.15342313457377021, 'learning_rate': 0.0031824901037968123, 'batch_size': 64, 'epochs': 14}. Best is trial 34 with value: 0.015182892417215044.\n"
     ]
    },
    {
     "name": "stdout",
     "output_type": "stream",
     "text": [
      "Epoch 14/14, Train Loss: 0.0170, Test Loss: 0.0157\n",
      "Epoch 1/10, Train Loss: 0.0702, Test Loss: 0.0564\n"
     ]
    },
    {
     "name": "stderr",
     "output_type": "stream",
     "text": [
      "/var/folders/nd/fsmv2lz93k3_cjwz_1lx75j80000gn/T/ipykernel_10068/679006939.py:36: FutureWarning: suggest_uniform has been deprecated in v3.0.0. This feature will be removed in v6.0.0. See https://github.com/optuna/optuna/releases/tag/v3.0.0. Use suggest_float instead.\n",
      "  dropout_rate = trial.suggest_uniform('dropout_rate', 0.1, 0.5)\n",
      "/var/folders/nd/fsmv2lz93k3_cjwz_1lx75j80000gn/T/ipykernel_10068/679006939.py:37: FutureWarning: suggest_loguniform has been deprecated in v3.0.0. This feature will be removed in v6.0.0. See https://github.com/optuna/optuna/releases/tag/v3.0.0. Use suggest_float(..., log=True) instead.\n",
      "  learning_rate = trial.suggest_loguniform('learning_rate', 1e-5, 1e-2)\n"
     ]
    },
    {
     "name": "stdout",
     "output_type": "stream",
     "text": [
      "Epoch 2/10, Train Loss: 0.0531, Test Loss: 0.0440\n",
      "Epoch 3/10, Train Loss: 0.0417, Test Loss: 0.0325\n",
      "Epoch 4/10, Train Loss: 0.0376, Test Loss: 0.0314\n",
      "Epoch 5/10, Train Loss: 0.0345, Test Loss: 0.0271\n",
      "Epoch 6/10, Train Loss: 0.0322, Test Loss: 0.0253\n",
      "Epoch 7/10, Train Loss: 0.0316, Test Loss: 0.0250\n",
      "Epoch 8/10, Train Loss: 0.0304, Test Loss: 0.0259\n",
      "Epoch 9/10, Train Loss: 0.0288, Test Loss: 0.0229\n"
     ]
    },
    {
     "name": "stderr",
     "output_type": "stream",
     "text": [
      "[I 2025-03-19 11:16:46,437] Trial 39 finished with value: 0.022773765958845615 and parameters: {'num_hidden_layers': 4, 'layer_0_size': 42, 'layer_1_size': 40, 'layer_2_size': 58, 'layer_3_size': 48, 'dropout_rate': 0.3760184131049056, 'learning_rate': 0.0010241024583868663, 'batch_size': 256, 'epochs': 10}. Best is trial 34 with value: 0.015182892417215044.\n"
     ]
    },
    {
     "name": "stdout",
     "output_type": "stream",
     "text": [
      "Epoch 10/10, Train Loss: 0.0278, Test Loss: 0.0228\n"
     ]
    },
    {
     "name": "stderr",
     "output_type": "stream",
     "text": [
      "/var/folders/nd/fsmv2lz93k3_cjwz_1lx75j80000gn/T/ipykernel_10068/679006939.py:36: FutureWarning: suggest_uniform has been deprecated in v3.0.0. This feature will be removed in v6.0.0. See https://github.com/optuna/optuna/releases/tag/v3.0.0. Use suggest_float instead.\n",
      "  dropout_rate = trial.suggest_uniform('dropout_rate', 0.1, 0.5)\n",
      "/var/folders/nd/fsmv2lz93k3_cjwz_1lx75j80000gn/T/ipykernel_10068/679006939.py:37: FutureWarning: suggest_loguniform has been deprecated in v3.0.0. This feature will be removed in v6.0.0. See https://github.com/optuna/optuna/releases/tag/v3.0.0. Use suggest_float(..., log=True) instead.\n",
      "  learning_rate = trial.suggest_loguniform('learning_rate', 1e-5, 1e-2)\n"
     ]
    },
    {
     "name": "stdout",
     "output_type": "stream",
     "text": [
      "Epoch 1/16, Train Loss: 0.1561, Test Loss: 0.0435\n",
      "Epoch 2/16, Train Loss: 0.0514, Test Loss: 0.0284\n",
      "Epoch 3/16, Train Loss: 0.0416, Test Loss: 0.0251\n",
      "Epoch 4/16, Train Loss: 0.0383, Test Loss: 0.0239\n",
      "Epoch 5/16, Train Loss: 0.0370, Test Loss: 0.0238\n",
      "Epoch 6/16, Train Loss: 0.0350, Test Loss: 0.0224\n",
      "Epoch 7/16, Train Loss: 0.0335, Test Loss: 0.0220\n",
      "Epoch 8/16, Train Loss: 0.0314, Test Loss: 0.0217\n",
      "Epoch 9/16, Train Loss: 0.0297, Test Loss: 0.0213\n",
      "Epoch 10/16, Train Loss: 0.0284, Test Loss: 0.0207\n",
      "Epoch 11/16, Train Loss: 0.0275, Test Loss: 0.0204\n",
      "Epoch 12/16, Train Loss: 0.0267, Test Loss: 0.0204\n",
      "Epoch 13/16, Train Loss: 0.0255, Test Loss: 0.0199\n",
      "Epoch 14/16, Train Loss: 0.0245, Test Loss: 0.0202\n"
     ]
    },
    {
     "name": "stderr",
     "output_type": "stream",
     "text": [
      "[I 2025-03-19 11:16:49,648] Trial 40 finished with value: 0.019613225776993204 and parameters: {'num_hidden_layers': 2, 'layer_0_size': 53, 'layer_1_size': 16, 'dropout_rate': 0.1865981822263731, 'learning_rate': 0.00018371425055083377, 'batch_size': 32, 'epochs': 16}. Best is trial 34 with value: 0.015182892417215044.\n"
     ]
    },
    {
     "name": "stdout",
     "output_type": "stream",
     "text": [
      "Epoch 15/16, Train Loss: 0.0241, Test Loss: 0.0196\n",
      "Epoch 16/16, Train Loss: 0.0234, Test Loss: 0.0196\n"
     ]
    },
    {
     "name": "stderr",
     "output_type": "stream",
     "text": [
      "/var/folders/nd/fsmv2lz93k3_cjwz_1lx75j80000gn/T/ipykernel_10068/679006939.py:36: FutureWarning: suggest_uniform has been deprecated in v3.0.0. This feature will be removed in v6.0.0. See https://github.com/optuna/optuna/releases/tag/v3.0.0. Use suggest_float instead.\n",
      "  dropout_rate = trial.suggest_uniform('dropout_rate', 0.1, 0.5)\n",
      "/var/folders/nd/fsmv2lz93k3_cjwz_1lx75j80000gn/T/ipykernel_10068/679006939.py:37: FutureWarning: suggest_loguniform has been deprecated in v3.0.0. This feature will be removed in v6.0.0. See https://github.com/optuna/optuna/releases/tag/v3.0.0. Use suggest_float(..., log=True) instead.\n",
      "  learning_rate = trial.suggest_loguniform('learning_rate', 1e-5, 1e-2)\n"
     ]
    },
    {
     "name": "stdout",
     "output_type": "stream",
     "text": [
      "Epoch 1/14, Train Loss: 0.0396, Test Loss: 0.0218\n",
      "Epoch 2/14, Train Loss: 0.0236, Test Loss: 0.0195\n",
      "Epoch 3/14, Train Loss: 0.0216, Test Loss: 0.0183\n",
      "Epoch 4/14, Train Loss: 0.0200, Test Loss: 0.0184\n",
      "Epoch 5/14, Train Loss: 0.0196, Test Loss: 0.0176\n",
      "Epoch 6/14, Train Loss: 0.0190, Test Loss: 0.0171\n",
      "Epoch 7/14, Train Loss: 0.0185, Test Loss: 0.0176\n",
      "Epoch 8/14, Train Loss: 0.0181, Test Loss: 0.0167\n",
      "Epoch 9/14, Train Loss: 0.0184, Test Loss: 0.0174\n",
      "Epoch 10/14, Train Loss: 0.0180, Test Loss: 0.0164\n",
      "Epoch 11/14, Train Loss: 0.0177, Test Loss: 0.0167\n",
      "Epoch 12/14, Train Loss: 0.0174, Test Loss: 0.0171\n"
     ]
    },
    {
     "name": "stderr",
     "output_type": "stream",
     "text": [
      "[I 2025-03-19 11:16:51,583] Trial 41 finished with value: 0.01640589820453897 and parameters: {'num_hidden_layers': 2, 'layer_0_size': 28, 'layer_1_size': 41, 'dropout_rate': 0.15233894125018377, 'learning_rate': 0.0030264586692813045, 'batch_size': 64, 'epochs': 14}. Best is trial 34 with value: 0.015182892417215044.\n"
     ]
    },
    {
     "name": "stdout",
     "output_type": "stream",
     "text": [
      "Epoch 13/14, Train Loss: 0.0175, Test Loss: 0.0162\n",
      "Epoch 14/14, Train Loss: 0.0173, Test Loss: 0.0164\n"
     ]
    },
    {
     "name": "stderr",
     "output_type": "stream",
     "text": [
      "/var/folders/nd/fsmv2lz93k3_cjwz_1lx75j80000gn/T/ipykernel_10068/679006939.py:36: FutureWarning: suggest_uniform has been deprecated in v3.0.0. This feature will be removed in v6.0.0. See https://github.com/optuna/optuna/releases/tag/v3.0.0. Use suggest_float instead.\n",
      "  dropout_rate = trial.suggest_uniform('dropout_rate', 0.1, 0.5)\n",
      "/var/folders/nd/fsmv2lz93k3_cjwz_1lx75j80000gn/T/ipykernel_10068/679006939.py:37: FutureWarning: suggest_loguniform has been deprecated in v3.0.0. This feature will be removed in v6.0.0. See https://github.com/optuna/optuna/releases/tag/v3.0.0. Use suggest_float(..., log=True) instead.\n",
      "  learning_rate = trial.suggest_loguniform('learning_rate', 1e-5, 1e-2)\n"
     ]
    },
    {
     "name": "stdout",
     "output_type": "stream",
     "text": [
      "Epoch 1/13, Train Loss: 0.0642, Test Loss: 0.0294\n",
      "Epoch 2/13, Train Loss: 0.0308, Test Loss: 0.0246\n",
      "Epoch 3/13, Train Loss: 0.0273, Test Loss: 0.0227\n",
      "Epoch 4/13, Train Loss: 0.0248, Test Loss: 0.0217\n",
      "Epoch 5/13, Train Loss: 0.0235, Test Loss: 0.0205\n",
      "Epoch 6/13, Train Loss: 0.0223, Test Loss: 0.0197\n",
      "Epoch 7/13, Train Loss: 0.0210, Test Loss: 0.0193\n",
      "Epoch 8/13, Train Loss: 0.0201, Test Loss: 0.0186\n",
      "Epoch 9/13, Train Loss: 0.0195, Test Loss: 0.0184\n",
      "Epoch 10/13, Train Loss: 0.0193, Test Loss: 0.0180\n",
      "Epoch 11/13, Train Loss: 0.0186, Test Loss: 0.0182\n"
     ]
    },
    {
     "name": "stderr",
     "output_type": "stream",
     "text": [
      "[I 2025-03-19 11:16:52,922] Trial 42 finished with value: 0.017491634498583153 and parameters: {'num_hidden_layers': 1, 'layer_0_size': 29, 'dropout_rate': 0.13432307724811465, 'learning_rate': 0.0018433769424115614, 'batch_size': 64, 'epochs': 13}. Best is trial 34 with value: 0.015182892417215044.\n"
     ]
    },
    {
     "name": "stdout",
     "output_type": "stream",
     "text": [
      "Epoch 12/13, Train Loss: 0.0186, Test Loss: 0.0188\n",
      "Epoch 13/13, Train Loss: 0.0185, Test Loss: 0.0175\n"
     ]
    },
    {
     "name": "stderr",
     "output_type": "stream",
     "text": [
      "/var/folders/nd/fsmv2lz93k3_cjwz_1lx75j80000gn/T/ipykernel_10068/679006939.py:36: FutureWarning: suggest_uniform has been deprecated in v3.0.0. This feature will be removed in v6.0.0. See https://github.com/optuna/optuna/releases/tag/v3.0.0. Use suggest_float instead.\n",
      "  dropout_rate = trial.suggest_uniform('dropout_rate', 0.1, 0.5)\n",
      "/var/folders/nd/fsmv2lz93k3_cjwz_1lx75j80000gn/T/ipykernel_10068/679006939.py:37: FutureWarning: suggest_loguniform has been deprecated in v3.0.0. This feature will be removed in v6.0.0. See https://github.com/optuna/optuna/releases/tag/v3.0.0. Use suggest_float(..., log=True) instead.\n",
      "  learning_rate = trial.suggest_loguniform('learning_rate', 1e-5, 1e-2)\n"
     ]
    },
    {
     "name": "stdout",
     "output_type": "stream",
     "text": [
      "Epoch 1/15, Train Loss: 0.0680, Test Loss: 0.0271\n",
      "Epoch 2/15, Train Loss: 0.0317, Test Loss: 0.0236\n",
      "Epoch 3/15, Train Loss: 0.0271, Test Loss: 0.0213\n",
      "Epoch 4/15, Train Loss: 0.0242, Test Loss: 0.0193\n",
      "Epoch 5/15, Train Loss: 0.0225, Test Loss: 0.0189\n",
      "Epoch 6/15, Train Loss: 0.0213, Test Loss: 0.0185\n",
      "Epoch 7/15, Train Loss: 0.0205, Test Loss: 0.0182\n",
      "Epoch 8/15, Train Loss: 0.0199, Test Loss: 0.0175\n",
      "Epoch 9/15, Train Loss: 0.0197, Test Loss: 0.0174\n",
      "Epoch 10/15, Train Loss: 0.0189, Test Loss: 0.0174\n",
      "Epoch 11/15, Train Loss: 0.0188, Test Loss: 0.0174\n",
      "Epoch 12/15, Train Loss: 0.0184, Test Loss: 0.0171\n",
      "Epoch 13/15, Train Loss: 0.0183, Test Loss: 0.0169\n",
      "Epoch 14/15, Train Loss: 0.0181, Test Loss: 0.0165\n"
     ]
    },
    {
     "name": "stderr",
     "output_type": "stream",
     "text": [
      "[I 2025-03-19 11:16:54,808] Trial 43 finished with value: 0.01658402572502382 and parameters: {'num_hidden_layers': 2, 'layer_0_size': 24, 'layer_1_size': 38, 'dropout_rate': 0.16082859958377282, 'learning_rate': 0.0015385598152036892, 'batch_size': 64, 'epochs': 15}. Best is trial 34 with value: 0.015182892417215044.\n"
     ]
    },
    {
     "name": "stdout",
     "output_type": "stream",
     "text": [
      "Epoch 15/15, Train Loss: 0.0180, Test Loss: 0.0166\n",
      "Epoch 1/14, Train Loss: 0.0389, Test Loss: 0.0232\n"
     ]
    },
    {
     "name": "stderr",
     "output_type": "stream",
     "text": [
      "/var/folders/nd/fsmv2lz93k3_cjwz_1lx75j80000gn/T/ipykernel_10068/679006939.py:36: FutureWarning: suggest_uniform has been deprecated in v3.0.0. This feature will be removed in v6.0.0. See https://github.com/optuna/optuna/releases/tag/v3.0.0. Use suggest_float instead.\n",
      "  dropout_rate = trial.suggest_uniform('dropout_rate', 0.1, 0.5)\n",
      "/var/folders/nd/fsmv2lz93k3_cjwz_1lx75j80000gn/T/ipykernel_10068/679006939.py:37: FutureWarning: suggest_loguniform has been deprecated in v3.0.0. This feature will be removed in v6.0.0. See https://github.com/optuna/optuna/releases/tag/v3.0.0. Use suggest_float(..., log=True) instead.\n",
      "  learning_rate = trial.suggest_loguniform('learning_rate', 1e-5, 1e-2)\n"
     ]
    },
    {
     "name": "stdout",
     "output_type": "stream",
     "text": [
      "Epoch 2/14, Train Loss: 0.0240, Test Loss: 0.0226\n",
      "Epoch 3/14, Train Loss: 0.0221, Test Loss: 0.0215\n",
      "Epoch 4/14, Train Loss: 0.0211, Test Loss: 0.0197\n",
      "Epoch 5/14, Train Loss: 0.0202, Test Loss: 0.0186\n",
      "Epoch 6/14, Train Loss: 0.0196, Test Loss: 0.0190\n",
      "Epoch 7/14, Train Loss: 0.0194, Test Loss: 0.0178\n",
      "Epoch 8/14, Train Loss: 0.0189, Test Loss: 0.0176\n",
      "Epoch 9/14, Train Loss: 0.0190, Test Loss: 0.0175\n",
      "Epoch 10/14, Train Loss: 0.0187, Test Loss: 0.0192\n",
      "Epoch 11/14, Train Loss: 0.0185, Test Loss: 0.0172\n",
      "Epoch 12/14, Train Loss: 0.0187, Test Loss: 0.0171\n"
     ]
    },
    {
     "name": "stderr",
     "output_type": "stream",
     "text": [
      "[I 2025-03-19 11:16:56,277] Trial 44 finished with value: 0.018477688645361923 and parameters: {'num_hidden_layers': 1, 'layer_0_size': 45, 'dropout_rate': 0.1954661029316364, 'learning_rate': 0.00495349043530819, 'batch_size': 64, 'epochs': 14}. Best is trial 34 with value: 0.015182892417215044.\n"
     ]
    },
    {
     "name": "stdout",
     "output_type": "stream",
     "text": [
      "Epoch 13/14, Train Loss: 0.0184, Test Loss: 0.0172\n",
      "Epoch 14/14, Train Loss: 0.0184, Test Loss: 0.0185\n"
     ]
    },
    {
     "name": "stderr",
     "output_type": "stream",
     "text": [
      "/var/folders/nd/fsmv2lz93k3_cjwz_1lx75j80000gn/T/ipykernel_10068/679006939.py:36: FutureWarning: suggest_uniform has been deprecated in v3.0.0. This feature will be removed in v6.0.0. See https://github.com/optuna/optuna/releases/tag/v3.0.0. Use suggest_float instead.\n",
      "  dropout_rate = trial.suggest_uniform('dropout_rate', 0.1, 0.5)\n",
      "/var/folders/nd/fsmv2lz93k3_cjwz_1lx75j80000gn/T/ipykernel_10068/679006939.py:37: FutureWarning: suggest_loguniform has been deprecated in v3.0.0. This feature will be removed in v6.0.0. See https://github.com/optuna/optuna/releases/tag/v3.0.0. Use suggest_float(..., log=True) instead.\n",
      "  learning_rate = trial.suggest_loguniform('learning_rate', 1e-5, 1e-2)\n"
     ]
    },
    {
     "name": "stdout",
     "output_type": "stream",
     "text": [
      "Epoch 1/12, Train Loss: 0.0628, Test Loss: 0.0348\n",
      "Epoch 2/12, Train Loss: 0.0344, Test Loss: 0.0247\n",
      "Epoch 3/12, Train Loss: 0.0289, Test Loss: 0.0225\n",
      "Epoch 4/12, Train Loss: 0.0267, Test Loss: 0.0221\n",
      "Epoch 5/12, Train Loss: 0.0255, Test Loss: 0.0212\n",
      "Epoch 6/12, Train Loss: 0.0242, Test Loss: 0.0207\n",
      "Epoch 7/12, Train Loss: 0.0239, Test Loss: 0.0203\n",
      "Epoch 8/12, Train Loss: 0.0228, Test Loss: 0.0197\n",
      "Epoch 9/12, Train Loss: 0.0226, Test Loss: 0.0195\n",
      "Epoch 10/12, Train Loss: 0.0215, Test Loss: 0.0192\n"
     ]
    },
    {
     "name": "stderr",
     "output_type": "stream",
     "text": [
      "[I 2025-03-19 11:16:57,924] Trial 45 finished with value: 0.01900922166532837 and parameters: {'num_hidden_layers': 2, 'layer_0_size': 35, 'layer_1_size': 29, 'dropout_rate': 0.22928370505990553, 'learning_rate': 0.0004452585026012667, 'batch_size': 64, 'epochs': 12}. Best is trial 34 with value: 0.015182892417215044.\n"
     ]
    },
    {
     "name": "stdout",
     "output_type": "stream",
     "text": [
      "Epoch 11/12, Train Loss: 0.0213, Test Loss: 0.0188\n",
      "Epoch 12/12, Train Loss: 0.0209, Test Loss: 0.0190\n"
     ]
    },
    {
     "name": "stderr",
     "output_type": "stream",
     "text": [
      "/var/folders/nd/fsmv2lz93k3_cjwz_1lx75j80000gn/T/ipykernel_10068/679006939.py:36: FutureWarning: suggest_uniform has been deprecated in v3.0.0. This feature will be removed in v6.0.0. See https://github.com/optuna/optuna/releases/tag/v3.0.0. Use suggest_float instead.\n",
      "  dropout_rate = trial.suggest_uniform('dropout_rate', 0.1, 0.5)\n",
      "/var/folders/nd/fsmv2lz93k3_cjwz_1lx75j80000gn/T/ipykernel_10068/679006939.py:37: FutureWarning: suggest_loguniform has been deprecated in v3.0.0. This feature will be removed in v6.0.0. See https://github.com/optuna/optuna/releases/tag/v3.0.0. Use suggest_float(..., log=True) instead.\n",
      "  learning_rate = trial.suggest_loguniform('learning_rate', 1e-5, 1e-2)\n"
     ]
    },
    {
     "name": "stdout",
     "output_type": "stream",
     "text": [
      "Epoch 1/16, Train Loss: 0.0327, Test Loss: 0.0212\n",
      "Epoch 2/16, Train Loss: 0.0222, Test Loss: 0.0199\n",
      "Epoch 3/16, Train Loss: 0.0211, Test Loss: 0.0181\n",
      "Epoch 4/16, Train Loss: 0.0198, Test Loss: 0.0179\n",
      "Epoch 5/16, Train Loss: 0.0190, Test Loss: 0.0170\n",
      "Epoch 6/16, Train Loss: 0.0185, Test Loss: 0.0177\n",
      "Epoch 7/16, Train Loss: 0.0182, Test Loss: 0.0165\n",
      "Epoch 8/16, Train Loss: 0.0179, Test Loss: 0.0173\n",
      "Epoch 9/16, Train Loss: 0.0175, Test Loss: 0.0170\n",
      "Epoch 10/16, Train Loss: 0.0173, Test Loss: 0.0165\n",
      "Epoch 11/16, Train Loss: 0.0170, Test Loss: 0.0156\n",
      "Epoch 12/16, Train Loss: 0.0168, Test Loss: 0.0159\n",
      "Epoch 13/16, Train Loss: 0.0168, Test Loss: 0.0157\n",
      "Epoch 14/16, Train Loss: 0.0164, Test Loss: 0.0161\n",
      "Epoch 15/16, Train Loss: 0.0163, Test Loss: 0.0176\n"
     ]
    },
    {
     "name": "stderr",
     "output_type": "stream",
     "text": [
      "[I 2025-03-19 11:17:02,335] Trial 46 finished with value: 0.015283388147508958 and parameters: {'num_hidden_layers': 3, 'layer_0_size': 51, 'layer_1_size': 43, 'layer_2_size': 48, 'dropout_rate': 0.12080694751467784, 'learning_rate': 0.002104263740577672, 'batch_size': 32, 'epochs': 16}. Best is trial 34 with value: 0.015182892417215044.\n"
     ]
    },
    {
     "name": "stdout",
     "output_type": "stream",
     "text": [
      "Epoch 16/16, Train Loss: 0.0161, Test Loss: 0.0153\n"
     ]
    },
    {
     "name": "stderr",
     "output_type": "stream",
     "text": [
      "/var/folders/nd/fsmv2lz93k3_cjwz_1lx75j80000gn/T/ipykernel_10068/679006939.py:36: FutureWarning: suggest_uniform has been deprecated in v3.0.0. This feature will be removed in v6.0.0. See https://github.com/optuna/optuna/releases/tag/v3.0.0. Use suggest_float instead.\n",
      "  dropout_rate = trial.suggest_uniform('dropout_rate', 0.1, 0.5)\n",
      "/var/folders/nd/fsmv2lz93k3_cjwz_1lx75j80000gn/T/ipykernel_10068/679006939.py:37: FutureWarning: suggest_loguniform has been deprecated in v3.0.0. This feature will be removed in v6.0.0. See https://github.com/optuna/optuna/releases/tag/v3.0.0. Use suggest_float(..., log=True) instead.\n",
      "  learning_rate = trial.suggest_loguniform('learning_rate', 1e-5, 1e-2)\n"
     ]
    },
    {
     "name": "stdout",
     "output_type": "stream",
     "text": [
      "Epoch 1/16, Train Loss: 0.0319, Test Loss: 0.0202\n",
      "Epoch 2/16, Train Loss: 0.0216, Test Loss: 0.0191\n",
      "Epoch 3/16, Train Loss: 0.0202, Test Loss: 0.0178\n",
      "Epoch 4/16, Train Loss: 0.0195, Test Loss: 0.0184\n",
      "Epoch 5/16, Train Loss: 0.0186, Test Loss: 0.0169\n",
      "Epoch 6/16, Train Loss: 0.0184, Test Loss: 0.0171\n",
      "Epoch 7/16, Train Loss: 0.0178, Test Loss: 0.0169\n",
      "Epoch 8/16, Train Loss: 0.0173, Test Loss: 0.0164\n",
      "Epoch 9/16, Train Loss: 0.0172, Test Loss: 0.0157\n",
      "Epoch 10/16, Train Loss: 0.0169, Test Loss: 0.0152\n",
      "Epoch 11/16, Train Loss: 0.0168, Test Loss: 0.0165\n",
      "Epoch 12/16, Train Loss: 0.0164, Test Loss: 0.0172\n",
      "Epoch 13/16, Train Loss: 0.0166, Test Loss: 0.0151\n",
      "Epoch 14/16, Train Loss: 0.0163, Test Loss: 0.0145\n",
      "Epoch 15/16, Train Loss: 0.0161, Test Loss: 0.0171\n"
     ]
    },
    {
     "name": "stderr",
     "output_type": "stream",
     "text": [
      "[I 2025-03-19 11:17:07,595] Trial 47 finished with value: 0.015053838622407056 and parameters: {'num_hidden_layers': 4, 'layer_0_size': 51, 'layer_1_size': 47, 'layer_2_size': 43, 'layer_3_size': 34, 'dropout_rate': 0.11709388260326281, 'learning_rate': 0.0013774489979049395, 'batch_size': 32, 'epochs': 16}. Best is trial 47 with value: 0.015053838622407056.\n"
     ]
    },
    {
     "name": "stdout",
     "output_type": "stream",
     "text": [
      "Epoch 16/16, Train Loss: 0.0163, Test Loss: 0.0151\n"
     ]
    },
    {
     "name": "stderr",
     "output_type": "stream",
     "text": [
      "/var/folders/nd/fsmv2lz93k3_cjwz_1lx75j80000gn/T/ipykernel_10068/679006939.py:36: FutureWarning: suggest_uniform has been deprecated in v3.0.0. This feature will be removed in v6.0.0. See https://github.com/optuna/optuna/releases/tag/v3.0.0. Use suggest_float instead.\n",
      "  dropout_rate = trial.suggest_uniform('dropout_rate', 0.1, 0.5)\n",
      "/var/folders/nd/fsmv2lz93k3_cjwz_1lx75j80000gn/T/ipykernel_10068/679006939.py:37: FutureWarning: suggest_loguniform has been deprecated in v3.0.0. This feature will be removed in v6.0.0. See https://github.com/optuna/optuna/releases/tag/v3.0.0. Use suggest_float(..., log=True) instead.\n",
      "  learning_rate = trial.suggest_loguniform('learning_rate', 1e-5, 1e-2)\n"
     ]
    },
    {
     "name": "stdout",
     "output_type": "stream",
     "text": [
      "Epoch 1/16, Train Loss: 0.0309, Test Loss: 0.0211\n",
      "Epoch 2/16, Train Loss: 0.0222, Test Loss: 0.0187\n",
      "Epoch 3/16, Train Loss: 0.0207, Test Loss: 0.0183\n",
      "Epoch 4/16, Train Loss: 0.0196, Test Loss: 0.0175\n",
      "Epoch 5/16, Train Loss: 0.0187, Test Loss: 0.0171\n",
      "Epoch 6/16, Train Loss: 0.0184, Test Loss: 0.0168\n",
      "Epoch 7/16, Train Loss: 0.0180, Test Loss: 0.0171\n",
      "Epoch 8/16, Train Loss: 0.0178, Test Loss: 0.0167\n",
      "Epoch 9/16, Train Loss: 0.0175, Test Loss: 0.0180\n",
      "Epoch 10/16, Train Loss: 0.0174, Test Loss: 0.0160\n",
      "Epoch 11/16, Train Loss: 0.0175, Test Loss: 0.0161\n",
      "Epoch 12/16, Train Loss: 0.0172, Test Loss: 0.0161\n",
      "Epoch 13/16, Train Loss: 0.0169, Test Loss: 0.0158\n",
      "Epoch 14/16, Train Loss: 0.0168, Test Loss: 0.0161\n",
      "Epoch 15/16, Train Loss: 0.0168, Test Loss: 0.0169\n"
     ]
    },
    {
     "name": "stderr",
     "output_type": "stream",
     "text": [
      "[I 2025-03-19 11:17:13,501] Trial 48 finished with value: 0.01647352443251293 and parameters: {'num_hidden_layers': 5, 'layer_0_size': 55, 'layer_1_size': 49, 'layer_2_size': 49, 'layer_3_size': 33, 'layer_4_size': 30, 'dropout_rate': 0.11410895998112078, 'learning_rate': 0.002038656009146593, 'batch_size': 32, 'epochs': 16}. Best is trial 47 with value: 0.015053838622407056.\n"
     ]
    },
    {
     "name": "stdout",
     "output_type": "stream",
     "text": [
      "Epoch 16/16, Train Loss: 0.0166, Test Loss: 0.0165\n"
     ]
    },
    {
     "name": "stderr",
     "output_type": "stream",
     "text": [
      "/var/folders/nd/fsmv2lz93k3_cjwz_1lx75j80000gn/T/ipykernel_10068/679006939.py:36: FutureWarning: suggest_uniform has been deprecated in v3.0.0. This feature will be removed in v6.0.0. See https://github.com/optuna/optuna/releases/tag/v3.0.0. Use suggest_float instead.\n",
      "  dropout_rate = trial.suggest_uniform('dropout_rate', 0.1, 0.5)\n",
      "/var/folders/nd/fsmv2lz93k3_cjwz_1lx75j80000gn/T/ipykernel_10068/679006939.py:37: FutureWarning: suggest_loguniform has been deprecated in v3.0.0. This feature will be removed in v6.0.0. See https://github.com/optuna/optuna/releases/tag/v3.0.0. Use suggest_float(..., log=True) instead.\n",
      "  learning_rate = trial.suggest_loguniform('learning_rate', 1e-5, 1e-2)\n"
     ]
    },
    {
     "name": "stdout",
     "output_type": "stream",
     "text": [
      "Epoch 1/15, Train Loss: 0.0354, Test Loss: 0.0211\n",
      "Epoch 2/15, Train Loss: 0.0233, Test Loss: 0.0208\n",
      "Epoch 3/15, Train Loss: 0.0204, Test Loss: 0.0182\n",
      "Epoch 4/15, Train Loss: 0.0197, Test Loss: 0.0176\n",
      "Epoch 5/15, Train Loss: 0.0191, Test Loss: 0.0168\n",
      "Epoch 6/15, Train Loss: 0.0183, Test Loss: 0.0175\n",
      "Epoch 7/15, Train Loss: 0.0179, Test Loss: 0.0169\n",
      "Epoch 8/15, Train Loss: 0.0176, Test Loss: 0.0158\n",
      "Epoch 9/15, Train Loss: 0.0171, Test Loss: 0.0157\n",
      "Epoch 10/15, Train Loss: 0.0169, Test Loss: 0.0160\n",
      "Epoch 11/15, Train Loss: 0.0168, Test Loss: 0.0153\n",
      "Epoch 12/15, Train Loss: 0.0165, Test Loss: 0.0149\n",
      "Epoch 13/15, Train Loss: 0.0162, Test Loss: 0.0153\n",
      "Epoch 14/15, Train Loss: 0.0163, Test Loss: 0.0153\n"
     ]
    },
    {
     "name": "stderr",
     "output_type": "stream",
     "text": [
      "[I 2025-03-19 11:17:18,262] Trial 49 finished with value: 0.014869256414385745 and parameters: {'num_hidden_layers': 4, 'layer_0_size': 60, 'layer_1_size': 45, 'layer_2_size': 45, 'layer_3_size': 35, 'dropout_rate': 0.11890275178397386, 'learning_rate': 0.00131903180661836, 'batch_size': 32, 'epochs': 15}. Best is trial 49 with value: 0.014869256414385745.\n"
     ]
    },
    {
     "name": "stdout",
     "output_type": "stream",
     "text": [
      "Epoch 15/15, Train Loss: 0.0161, Test Loss: 0.0149\n"
     ]
    },
    {
     "name": "stderr",
     "output_type": "stream",
     "text": [
      "/var/folders/nd/fsmv2lz93k3_cjwz_1lx75j80000gn/T/ipykernel_10068/679006939.py:36: FutureWarning: suggest_uniform has been deprecated in v3.0.0. This feature will be removed in v6.0.0. See https://github.com/optuna/optuna/releases/tag/v3.0.0. Use suggest_float instead.\n",
      "  dropout_rate = trial.suggest_uniform('dropout_rate', 0.1, 0.5)\n",
      "/var/folders/nd/fsmv2lz93k3_cjwz_1lx75j80000gn/T/ipykernel_10068/679006939.py:37: FutureWarning: suggest_loguniform has been deprecated in v3.0.0. This feature will be removed in v6.0.0. See https://github.com/optuna/optuna/releases/tag/v3.0.0. Use suggest_float(..., log=True) instead.\n",
      "  learning_rate = trial.suggest_loguniform('learning_rate', 1e-5, 1e-2)\n"
     ]
    },
    {
     "name": "stdout",
     "output_type": "stream",
     "text": [
      "Epoch 1/16, Train Loss: 0.0336, Test Loss: 0.0233\n",
      "Epoch 2/16, Train Loss: 0.0228, Test Loss: 0.0206\n",
      "Epoch 3/16, Train Loss: 0.0208, Test Loss: 0.0189\n",
      "Epoch 4/16, Train Loss: 0.0197, Test Loss: 0.0190\n",
      "Epoch 5/16, Train Loss: 0.0192, Test Loss: 0.0184\n",
      "Epoch 6/16, Train Loss: 0.0183, Test Loss: 0.0174\n",
      "Epoch 7/16, Train Loss: 0.0182, Test Loss: 0.0164\n",
      "Epoch 8/16, Train Loss: 0.0179, Test Loss: 0.0168\n",
      "Epoch 9/16, Train Loss: 0.0173, Test Loss: 0.0158\n",
      "Epoch 10/16, Train Loss: 0.0172, Test Loss: 0.0159\n",
      "Epoch 11/16, Train Loss: 0.0173, Test Loss: 0.0161\n",
      "Epoch 12/16, Train Loss: 0.0169, Test Loss: 0.0156\n",
      "Epoch 13/16, Train Loss: 0.0168, Test Loss: 0.0155\n",
      "Epoch 14/16, Train Loss: 0.0165, Test Loss: 0.0152\n",
      "Epoch 15/16, Train Loss: 0.0162, Test Loss: 0.0150\n"
     ]
    },
    {
     "name": "stderr",
     "output_type": "stream",
     "text": [
      "[I 2025-03-19 11:17:24,962] Trial 50 finished with value: 0.015151566116401227 and parameters: {'num_hidden_layers': 6, 'layer_0_size': 61, 'layer_1_size': 43, 'layer_2_size': 44, 'layer_3_size': 35, 'layer_4_size': 53, 'layer_5_size': 28, 'dropout_rate': 0.10151311291334245, 'learning_rate': 0.0013801684371535726, 'batch_size': 32, 'epochs': 16}. Best is trial 49 with value: 0.014869256414385745.\n"
     ]
    },
    {
     "name": "stdout",
     "output_type": "stream",
     "text": [
      "Epoch 16/16, Train Loss: 0.0164, Test Loss: 0.0152\n"
     ]
    },
    {
     "name": "stderr",
     "output_type": "stream",
     "text": [
      "/var/folders/nd/fsmv2lz93k3_cjwz_1lx75j80000gn/T/ipykernel_10068/679006939.py:36: FutureWarning: suggest_uniform has been deprecated in v3.0.0. This feature will be removed in v6.0.0. See https://github.com/optuna/optuna/releases/tag/v3.0.0. Use suggest_float instead.\n",
      "  dropout_rate = trial.suggest_uniform('dropout_rate', 0.1, 0.5)\n",
      "/var/folders/nd/fsmv2lz93k3_cjwz_1lx75j80000gn/T/ipykernel_10068/679006939.py:37: FutureWarning: suggest_loguniform has been deprecated in v3.0.0. This feature will be removed in v6.0.0. See https://github.com/optuna/optuna/releases/tag/v3.0.0. Use suggest_float(..., log=True) instead.\n",
      "  learning_rate = trial.suggest_loguniform('learning_rate', 1e-5, 1e-2)\n"
     ]
    },
    {
     "name": "stdout",
     "output_type": "stream",
     "text": [
      "Epoch 1/16, Train Loss: 0.0396, Test Loss: 0.0212\n",
      "Epoch 2/16, Train Loss: 0.0239, Test Loss: 0.0199\n",
      "Epoch 3/16, Train Loss: 0.0217, Test Loss: 0.0186\n",
      "Epoch 4/16, Train Loss: 0.0203, Test Loss: 0.0179\n",
      "Epoch 5/16, Train Loss: 0.0191, Test Loss: 0.0186\n",
      "Epoch 6/16, Train Loss: 0.0186, Test Loss: 0.0165\n",
      "Epoch 7/16, Train Loss: 0.0181, Test Loss: 0.0177\n",
      "Epoch 8/16, Train Loss: 0.0178, Test Loss: 0.0169\n",
      "Epoch 9/16, Train Loss: 0.0173, Test Loss: 0.0173\n",
      "Epoch 10/16, Train Loss: 0.0174, Test Loss: 0.0179\n",
      "Epoch 11/16, Train Loss: 0.0172, Test Loss: 0.0188\n",
      "Epoch 12/16, Train Loss: 0.0169, Test Loss: 0.0154\n",
      "Epoch 13/16, Train Loss: 0.0171, Test Loss: 0.0152\n",
      "Epoch 14/16, Train Loss: 0.0166, Test Loss: 0.0148\n",
      "Epoch 15/16, Train Loss: 0.0169, Test Loss: 0.0151\n"
     ]
    },
    {
     "name": "stderr",
     "output_type": "stream",
     "text": [
      "[I 2025-03-19 11:17:31,863] Trial 51 finished with value: 0.01536880176354316 and parameters: {'num_hidden_layers': 6, 'layer_0_size': 61, 'layer_1_size': 45, 'layer_2_size': 44, 'layer_3_size': 35, 'layer_4_size': 54, 'layer_5_size': 28, 'dropout_rate': 0.120789637750267, 'learning_rate': 0.001416210708434972, 'batch_size': 32, 'epochs': 16}. Best is trial 49 with value: 0.014869256414385745.\n"
     ]
    },
    {
     "name": "stdout",
     "output_type": "stream",
     "text": [
      "Epoch 16/16, Train Loss: 0.0165, Test Loss: 0.0154\n"
     ]
    },
    {
     "name": "stderr",
     "output_type": "stream",
     "text": [
      "/var/folders/nd/fsmv2lz93k3_cjwz_1lx75j80000gn/T/ipykernel_10068/679006939.py:36: FutureWarning: suggest_uniform has been deprecated in v3.0.0. This feature will be removed in v6.0.0. See https://github.com/optuna/optuna/releases/tag/v3.0.0. Use suggest_float instead.\n",
      "  dropout_rate = trial.suggest_uniform('dropout_rate', 0.1, 0.5)\n",
      "/var/folders/nd/fsmv2lz93k3_cjwz_1lx75j80000gn/T/ipykernel_10068/679006939.py:37: FutureWarning: suggest_loguniform has been deprecated in v3.0.0. This feature will be removed in v6.0.0. See https://github.com/optuna/optuna/releases/tag/v3.0.0. Use suggest_float(..., log=True) instead.\n",
      "  learning_rate = trial.suggest_loguniform('learning_rate', 1e-5, 1e-2)\n"
     ]
    },
    {
     "name": "stdout",
     "output_type": "stream",
     "text": [
      "Epoch 1/16, Train Loss: 0.0324, Test Loss: 0.0216\n",
      "Epoch 2/16, Train Loss: 0.0224, Test Loss: 0.0189\n",
      "Epoch 3/16, Train Loss: 0.0209, Test Loss: 0.0187\n",
      "Epoch 4/16, Train Loss: 0.0199, Test Loss: 0.0176\n",
      "Epoch 5/16, Train Loss: 0.0190, Test Loss: 0.0182\n",
      "Epoch 6/16, Train Loss: 0.0184, Test Loss: 0.0173\n",
      "Epoch 7/16, Train Loss: 0.0181, Test Loss: 0.0161\n",
      "Epoch 8/16, Train Loss: 0.0177, Test Loss: 0.0181\n",
      "Epoch 9/16, Train Loss: 0.0176, Test Loss: 0.0161\n",
      "Epoch 10/16, Train Loss: 0.0173, Test Loss: 0.0159\n",
      "Epoch 11/16, Train Loss: 0.0170, Test Loss: 0.0153\n",
      "Epoch 12/16, Train Loss: 0.0171, Test Loss: 0.0156\n",
      "Epoch 13/16, Train Loss: 0.0167, Test Loss: 0.0155\n",
      "Epoch 14/16, Train Loss: 0.0165, Test Loss: 0.0154\n",
      "Epoch 15/16, Train Loss: 0.0166, Test Loss: 0.0159\n"
     ]
    },
    {
     "name": "stderr",
     "output_type": "stream",
     "text": [
      "[I 2025-03-19 11:17:38,472] Trial 52 finished with value: 0.015865019346165354 and parameters: {'num_hidden_layers': 6, 'layer_0_size': 62, 'layer_1_size': 44, 'layer_2_size': 45, 'layer_3_size': 35, 'layer_4_size': 55, 'layer_5_size': 28, 'dropout_rate': 0.10675540240127157, 'learning_rate': 0.0013463974175900108, 'batch_size': 32, 'epochs': 16}. Best is trial 49 with value: 0.014869256414385745.\n"
     ]
    },
    {
     "name": "stdout",
     "output_type": "stream",
     "text": [
      "Epoch 16/16, Train Loss: 0.0163, Test Loss: 0.0159\n"
     ]
    },
    {
     "name": "stderr",
     "output_type": "stream",
     "text": [
      "/var/folders/nd/fsmv2lz93k3_cjwz_1lx75j80000gn/T/ipykernel_10068/679006939.py:36: FutureWarning: suggest_uniform has been deprecated in v3.0.0. This feature will be removed in v6.0.0. See https://github.com/optuna/optuna/releases/tag/v3.0.0. Use suggest_float instead.\n",
      "  dropout_rate = trial.suggest_uniform('dropout_rate', 0.1, 0.5)\n",
      "/var/folders/nd/fsmv2lz93k3_cjwz_1lx75j80000gn/T/ipykernel_10068/679006939.py:37: FutureWarning: suggest_loguniform has been deprecated in v3.0.0. This feature will be removed in v6.0.0. See https://github.com/optuna/optuna/releases/tag/v3.0.0. Use suggest_float(..., log=True) instead.\n",
      "  learning_rate = trial.suggest_loguniform('learning_rate', 1e-5, 1e-2)\n"
     ]
    },
    {
     "name": "stdout",
     "output_type": "stream",
     "text": [
      "Epoch 1/15, Train Loss: 0.0406, Test Loss: 0.0215\n",
      "Epoch 2/15, Train Loss: 0.0251, Test Loss: 0.0210\n",
      "Epoch 3/15, Train Loss: 0.0220, Test Loss: 0.0179\n",
      "Epoch 4/15, Train Loss: 0.0207, Test Loss: 0.0183\n",
      "Epoch 5/15, Train Loss: 0.0197, Test Loss: 0.0176\n",
      "Epoch 6/15, Train Loss: 0.0191, Test Loss: 0.0171\n",
      "Epoch 7/15, Train Loss: 0.0185, Test Loss: 0.0163\n",
      "Epoch 8/15, Train Loss: 0.0181, Test Loss: 0.0171\n",
      "Epoch 9/15, Train Loss: 0.0181, Test Loss: 0.0174\n",
      "Epoch 10/15, Train Loss: 0.0182, Test Loss: 0.0161\n",
      "Epoch 11/15, Train Loss: 0.0178, Test Loss: 0.0159\n",
      "Epoch 12/15, Train Loss: 0.0174, Test Loss: 0.0164\n",
      "Epoch 13/15, Train Loss: 0.0174, Test Loss: 0.0175\n",
      "Epoch 14/15, Train Loss: 0.0174, Test Loss: 0.0155\n"
     ]
    },
    {
     "name": "stderr",
     "output_type": "stream",
     "text": [
      "[I 2025-03-19 11:17:45,795] Trial 53 finished with value: 0.015601312232320197 and parameters: {'num_hidden_layers': 7, 'layer_0_size': 60, 'layer_1_size': 47, 'layer_2_size': 43, 'layer_3_size': 35, 'layer_4_size': 47, 'layer_5_size': 28, 'layer_6_size': 44, 'dropout_rate': 0.12269397782446823, 'learning_rate': 0.0021459892834698713, 'batch_size': 32, 'epochs': 15}. Best is trial 49 with value: 0.014869256414385745.\n"
     ]
    },
    {
     "name": "stdout",
     "output_type": "stream",
     "text": [
      "Epoch 15/15, Train Loss: 0.0172, Test Loss: 0.0156\n"
     ]
    },
    {
     "name": "stderr",
     "output_type": "stream",
     "text": [
      "/var/folders/nd/fsmv2lz93k3_cjwz_1lx75j80000gn/T/ipykernel_10068/679006939.py:36: FutureWarning: suggest_uniform has been deprecated in v3.0.0. This feature will be removed in v6.0.0. See https://github.com/optuna/optuna/releases/tag/v3.0.0. Use suggest_float instead.\n",
      "  dropout_rate = trial.suggest_uniform('dropout_rate', 0.1, 0.5)\n",
      "/var/folders/nd/fsmv2lz93k3_cjwz_1lx75j80000gn/T/ipykernel_10068/679006939.py:37: FutureWarning: suggest_loguniform has been deprecated in v3.0.0. This feature will be removed in v6.0.0. See https://github.com/optuna/optuna/releases/tag/v3.0.0. Use suggest_float(..., log=True) instead.\n",
      "  learning_rate = trial.suggest_loguniform('learning_rate', 1e-5, 1e-2)\n"
     ]
    },
    {
     "name": "stdout",
     "output_type": "stream",
     "text": [
      "Epoch 1/16, Train Loss: 0.0435, Test Loss: 0.0247\n",
      "Epoch 2/16, Train Loss: 0.0262, Test Loss: 0.0211\n",
      "Epoch 3/16, Train Loss: 0.0234, Test Loss: 0.0197\n",
      "Epoch 4/16, Train Loss: 0.0222, Test Loss: 0.0195\n",
      "Epoch 5/16, Train Loss: 0.0210, Test Loss: 0.0189\n",
      "Epoch 6/16, Train Loss: 0.0204, Test Loss: 0.0179\n",
      "Epoch 7/16, Train Loss: 0.0195, Test Loss: 0.0184\n",
      "Epoch 8/16, Train Loss: 0.0194, Test Loss: 0.0171\n",
      "Epoch 9/16, Train Loss: 0.0194, Test Loss: 0.0172\n",
      "Epoch 10/16, Train Loss: 0.0188, Test Loss: 0.0166\n",
      "Epoch 11/16, Train Loss: 0.0187, Test Loss: 0.0167\n",
      "Epoch 12/16, Train Loss: 0.0182, Test Loss: 0.0176\n",
      "Epoch 13/16, Train Loss: 0.0180, Test Loss: 0.0158\n",
      "Epoch 14/16, Train Loss: 0.0179, Test Loss: 0.0159\n",
      "Epoch 15/16, Train Loss: 0.0182, Test Loss: 0.0172\n"
     ]
    },
    {
     "name": "stderr",
     "output_type": "stream",
     "text": [
      "[I 2025-03-19 11:17:53,328] Trial 54 finished with value: 0.015381120676465798 and parameters: {'num_hidden_layers': 7, 'layer_0_size': 59, 'layer_1_size': 46, 'layer_2_size': 49, 'layer_3_size': 38, 'layer_4_size': 57, 'layer_5_size': 25, 'layer_6_size': 16, 'dropout_rate': 0.13497227926738528, 'learning_rate': 0.0013818296921357717, 'batch_size': 32, 'epochs': 16}. Best is trial 49 with value: 0.014869256414385745.\n"
     ]
    },
    {
     "name": "stdout",
     "output_type": "stream",
     "text": [
      "Epoch 16/16, Train Loss: 0.0177, Test Loss: 0.0154\n"
     ]
    },
    {
     "name": "stderr",
     "output_type": "stream",
     "text": [
      "/var/folders/nd/fsmv2lz93k3_cjwz_1lx75j80000gn/T/ipykernel_10068/679006939.py:36: FutureWarning: suggest_uniform has been deprecated in v3.0.0. This feature will be removed in v6.0.0. See https://github.com/optuna/optuna/releases/tag/v3.0.0. Use suggest_float instead.\n",
      "  dropout_rate = trial.suggest_uniform('dropout_rate', 0.1, 0.5)\n",
      "/var/folders/nd/fsmv2lz93k3_cjwz_1lx75j80000gn/T/ipykernel_10068/679006939.py:37: FutureWarning: suggest_loguniform has been deprecated in v3.0.0. This feature will be removed in v6.0.0. See https://github.com/optuna/optuna/releases/tag/v3.0.0. Use suggest_float(..., log=True) instead.\n",
      "  learning_rate = trial.suggest_loguniform('learning_rate', 1e-5, 1e-2)\n"
     ]
    },
    {
     "name": "stdout",
     "output_type": "stream",
     "text": [
      "Epoch 1/16, Train Loss: 0.0292, Test Loss: 0.0198\n",
      "Epoch 2/16, Train Loss: 0.0222, Test Loss: 0.0194\n",
      "Epoch 3/16, Train Loss: 0.0205, Test Loss: 0.0176\n",
      "Epoch 4/16, Train Loss: 0.0202, Test Loss: 0.0197\n",
      "Epoch 5/16, Train Loss: 0.0197, Test Loss: 0.0177\n",
      "Epoch 6/16, Train Loss: 0.0195, Test Loss: 0.0174\n",
      "Epoch 7/16, Train Loss: 0.0189, Test Loss: 0.0221\n",
      "Epoch 8/16, Train Loss: 0.0190, Test Loss: 0.0168\n",
      "Epoch 9/16, Train Loss: 0.0191, Test Loss: 0.0189\n",
      "Epoch 10/16, Train Loss: 0.0188, Test Loss: 0.0167\n",
      "Epoch 11/16, Train Loss: 0.0187, Test Loss: 0.0180\n",
      "Epoch 12/16, Train Loss: 0.0183, Test Loss: 0.0180\n",
      "Epoch 13/16, Train Loss: 0.0184, Test Loss: 0.0167\n",
      "Epoch 14/16, Train Loss: 0.0180, Test Loss: 0.0160\n",
      "Epoch 15/16, Train Loss: 0.0184, Test Loss: 0.0165\n"
     ]
    },
    {
     "name": "stderr",
     "output_type": "stream",
     "text": [
      "[I 2025-03-19 11:18:00,058] Trial 55 finished with value: 0.017490380385424942 and parameters: {'num_hidden_layers': 6, 'layer_0_size': 62, 'layer_1_size': 49, 'layer_2_size': 47, 'layer_3_size': 31, 'layer_4_size': 64, 'layer_5_size': 33, 'dropout_rate': 0.11606128173187265, 'learning_rate': 0.004016575547068356, 'batch_size': 32, 'epochs': 16}. Best is trial 49 with value: 0.014869256414385745.\n"
     ]
    },
    {
     "name": "stdout",
     "output_type": "stream",
     "text": [
      "Epoch 16/16, Train Loss: 0.0182, Test Loss: 0.0175\n",
      "Epoch 1/13, Train Loss: 0.0806, Test Loss: 0.0378\n"
     ]
    },
    {
     "name": "stderr",
     "output_type": "stream",
     "text": [
      "/var/folders/nd/fsmv2lz93k3_cjwz_1lx75j80000gn/T/ipykernel_10068/679006939.py:36: FutureWarning: suggest_uniform has been deprecated in v3.0.0. This feature will be removed in v6.0.0. See https://github.com/optuna/optuna/releases/tag/v3.0.0. Use suggest_float instead.\n",
      "  dropout_rate = trial.suggest_uniform('dropout_rate', 0.1, 0.5)\n",
      "/var/folders/nd/fsmv2lz93k3_cjwz_1lx75j80000gn/T/ipykernel_10068/679006939.py:37: FutureWarning: suggest_loguniform has been deprecated in v3.0.0. This feature will be removed in v6.0.0. See https://github.com/optuna/optuna/releases/tag/v3.0.0. Use suggest_float(..., log=True) instead.\n",
      "  learning_rate = trial.suggest_loguniform('learning_rate', 1e-5, 1e-2)\n"
     ]
    },
    {
     "name": "stdout",
     "output_type": "stream",
     "text": [
      "Epoch 2/13, Train Loss: 0.0309, Test Loss: 0.0224\n",
      "Epoch 3/13, Train Loss: 0.0262, Test Loss: 0.0210\n",
      "Epoch 4/13, Train Loss: 0.0242, Test Loss: 0.0205\n",
      "Epoch 5/13, Train Loss: 0.0229, Test Loss: 0.0189\n",
      "Epoch 6/13, Train Loss: 0.0217, Test Loss: 0.0200\n",
      "Epoch 7/13, Train Loss: 0.0211, Test Loss: 0.0182\n",
      "Epoch 8/13, Train Loss: 0.0203, Test Loss: 0.0175\n",
      "Epoch 9/13, Train Loss: 0.0199, Test Loss: 0.0174\n",
      "Epoch 10/13, Train Loss: 0.0194, Test Loss: 0.0174\n",
      "Epoch 11/13, Train Loss: 0.0192, Test Loss: 0.0181\n"
     ]
    },
    {
     "name": "stderr",
     "output_type": "stream",
     "text": [
      "[I 2025-03-19 11:18:01,842] Trial 56 finished with value: 0.01677811553236097 and parameters: {'num_hidden_layers': 4, 'layer_0_size': 64, 'layer_1_size': 42, 'layer_2_size': 42, 'layer_3_size': 44, 'dropout_rate': 0.10798862455607723, 'learning_rate': 0.0006169491243021769, 'batch_size': 128, 'epochs': 13}. Best is trial 49 with value: 0.014869256414385745.\n"
     ]
    },
    {
     "name": "stdout",
     "output_type": "stream",
     "text": [
      "Epoch 12/13, Train Loss: 0.0190, Test Loss: 0.0164\n",
      "Epoch 13/13, Train Loss: 0.0185, Test Loss: 0.0168\n"
     ]
    },
    {
     "name": "stderr",
     "output_type": "stream",
     "text": [
      "/var/folders/nd/fsmv2lz93k3_cjwz_1lx75j80000gn/T/ipykernel_10068/679006939.py:36: FutureWarning: suggest_uniform has been deprecated in v3.0.0. This feature will be removed in v6.0.0. See https://github.com/optuna/optuna/releases/tag/v3.0.0. Use suggest_float instead.\n",
      "  dropout_rate = trial.suggest_uniform('dropout_rate', 0.1, 0.5)\n",
      "/var/folders/nd/fsmv2lz93k3_cjwz_1lx75j80000gn/T/ipykernel_10068/679006939.py:37: FutureWarning: suggest_loguniform has been deprecated in v3.0.0. This feature will be removed in v6.0.0. See https://github.com/optuna/optuna/releases/tag/v3.0.0. Use suggest_float(..., log=True) instead.\n",
      "  learning_rate = trial.suggest_loguniform('learning_rate', 1e-5, 1e-2)\n"
     ]
    },
    {
     "name": "stdout",
     "output_type": "stream",
     "text": [
      "Epoch 1/17, Train Loss: 0.0301, Test Loss: 0.0212\n",
      "Epoch 2/17, Train Loss: 0.0214, Test Loss: 0.0180\n",
      "Epoch 3/17, Train Loss: 0.0196, Test Loss: 0.0196\n",
      "Epoch 4/17, Train Loss: 0.0188, Test Loss: 0.0213\n",
      "Epoch 5/17, Train Loss: 0.0183, Test Loss: 0.0163\n",
      "Epoch 6/17, Train Loss: 0.0176, Test Loss: 0.0172\n",
      "Epoch 7/17, Train Loss: 0.0180, Test Loss: 0.0159\n",
      "Epoch 8/17, Train Loss: 0.0178, Test Loss: 0.0155\n",
      "Epoch 9/17, Train Loss: 0.0173, Test Loss: 0.0159\n",
      "Epoch 10/17, Train Loss: 0.0169, Test Loss: 0.0166\n",
      "Epoch 11/17, Train Loss: 0.0168, Test Loss: 0.0152\n",
      "Epoch 12/17, Train Loss: 0.0168, Test Loss: 0.0154\n",
      "Epoch 13/17, Train Loss: 0.0171, Test Loss: 0.0162\n",
      "Epoch 14/17, Train Loss: 0.0167, Test Loss: 0.0172\n",
      "Epoch 15/17, Train Loss: 0.0166, Test Loss: 0.0159\n",
      "Epoch 16/17, Train Loss: 0.0164, Test Loss: 0.0158\n"
     ]
    },
    {
     "name": "stderr",
     "output_type": "stream",
     "text": [
      "[I 2025-03-19 11:18:08,281] Trial 57 finished with value: 0.015504577117098961 and parameters: {'num_hidden_layers': 5, 'layer_0_size': 64, 'layer_1_size': 38, 'layer_2_size': 54, 'layer_3_size': 37, 'layer_4_size': 43, 'dropout_rate': 0.10139957268771319, 'learning_rate': 0.0028827188459610493, 'batch_size': 32, 'epochs': 17}. Best is trial 49 with value: 0.014869256414385745.\n"
     ]
    },
    {
     "name": "stdout",
     "output_type": "stream",
     "text": [
      "Epoch 17/17, Train Loss: 0.0166, Test Loss: 0.0155\n"
     ]
    },
    {
     "name": "stderr",
     "output_type": "stream",
     "text": [
      "/var/folders/nd/fsmv2lz93k3_cjwz_1lx75j80000gn/T/ipykernel_10068/679006939.py:36: FutureWarning: suggest_uniform has been deprecated in v3.0.0. This feature will be removed in v6.0.0. See https://github.com/optuna/optuna/releases/tag/v3.0.0. Use suggest_float instead.\n",
      "  dropout_rate = trial.suggest_uniform('dropout_rate', 0.1, 0.5)\n",
      "/var/folders/nd/fsmv2lz93k3_cjwz_1lx75j80000gn/T/ipykernel_10068/679006939.py:37: FutureWarning: suggest_loguniform has been deprecated in v3.0.0. This feature will be removed in v6.0.0. See https://github.com/optuna/optuna/releases/tag/v3.0.0. Use suggest_float(..., log=True) instead.\n",
      "  learning_rate = trial.suggest_loguniform('learning_rate', 1e-5, 1e-2)\n"
     ]
    },
    {
     "name": "stdout",
     "output_type": "stream",
     "text": [
      "Epoch 1/6, Train Loss: 0.1311, Test Loss: 0.1155\n",
      "Epoch 2/6, Train Loss: 0.0946, Test Loss: 0.0782\n",
      "Epoch 3/6, Train Loss: 0.0658, Test Loss: 0.0583\n",
      "Epoch 4/6, Train Loss: 0.0577, Test Loss: 0.0567\n",
      "Epoch 5/6, Train Loss: 0.0570, Test Loss: 0.0563\n"
     ]
    },
    {
     "name": "stderr",
     "output_type": "stream",
     "text": [
      "[I 2025-03-19 11:18:10,883] Trial 58 finished with value: 0.0559575717052212 and parameters: {'num_hidden_layers': 6, 'layer_0_size': 51, 'layer_1_size': 43, 'layer_2_size': 46, 'layer_3_size': 23, 'layer_4_size': 50, 'layer_5_size': 42, 'dropout_rate': 0.12400527130394193, 'learning_rate': 1.2115451699606374e-05, 'batch_size': 32, 'epochs': 6}. Best is trial 49 with value: 0.014869256414385745.\n"
     ]
    },
    {
     "name": "stdout",
     "output_type": "stream",
     "text": [
      "Epoch 6/6, Train Loss: 0.0566, Test Loss: 0.0560\n"
     ]
    },
    {
     "name": "stderr",
     "output_type": "stream",
     "text": [
      "/var/folders/nd/fsmv2lz93k3_cjwz_1lx75j80000gn/T/ipykernel_10068/679006939.py:36: FutureWarning: suggest_uniform has been deprecated in v3.0.0. This feature will be removed in v6.0.0. See https://github.com/optuna/optuna/releases/tag/v3.0.0. Use suggest_float instead.\n",
      "  dropout_rate = trial.suggest_uniform('dropout_rate', 0.1, 0.5)\n",
      "/var/folders/nd/fsmv2lz93k3_cjwz_1lx75j80000gn/T/ipykernel_10068/679006939.py:37: FutureWarning: suggest_loguniform has been deprecated in v3.0.0. This feature will be removed in v6.0.0. See https://github.com/optuna/optuna/releases/tag/v3.0.0. Use suggest_float(..., log=True) instead.\n",
      "  learning_rate = trial.suggest_loguniform('learning_rate', 1e-5, 1e-2)\n"
     ]
    },
    {
     "name": "stdout",
     "output_type": "stream",
     "text": [
      "Epoch 1/15, Train Loss: 0.0860, Test Loss: 0.0323\n",
      "Epoch 2/15, Train Loss: 0.0359, Test Loss: 0.0282\n",
      "Epoch 3/15, Train Loss: 0.0316, Test Loss: 0.0233\n",
      "Epoch 4/15, Train Loss: 0.0289, Test Loss: 0.0239\n",
      "Epoch 5/15, Train Loss: 0.0276, Test Loss: 0.0218\n",
      "Epoch 6/15, Train Loss: 0.0260, Test Loss: 0.0211\n",
      "Epoch 7/15, Train Loss: 0.0250, Test Loss: 0.0191\n",
      "Epoch 8/15, Train Loss: 0.0244, Test Loss: 0.0212\n",
      "Epoch 9/15, Train Loss: 0.0238, Test Loss: 0.0190\n",
      "Epoch 10/15, Train Loss: 0.0225, Test Loss: 0.0185\n",
      "Epoch 11/15, Train Loss: 0.0224, Test Loss: 0.0183\n",
      "Epoch 12/15, Train Loss: 0.0217, Test Loss: 0.0192\n",
      "Epoch 13/15, Train Loss: 0.0214, Test Loss: 0.0201\n",
      "Epoch 14/15, Train Loss: 0.0209, Test Loss: 0.0177\n"
     ]
    },
    {
     "name": "stderr",
     "output_type": "stream",
     "text": [
      "[I 2025-03-19 11:18:18,524] Trial 59 finished with value: 0.017342032784654293 and parameters: {'num_hidden_layers': 8, 'layer_0_size': 59, 'layer_1_size': 49, 'layer_2_size': 43, 'layer_3_size': 31, 'layer_4_size': 57, 'layer_5_size': 23, 'layer_6_size': 56, 'layer_7_size': 17, 'dropout_rate': 0.14476128550584538, 'learning_rate': 0.0003488356031084476, 'batch_size': 32, 'epochs': 15}. Best is trial 49 with value: 0.014869256414385745.\n"
     ]
    },
    {
     "name": "stdout",
     "output_type": "stream",
     "text": [
      "Epoch 15/15, Train Loss: 0.0199, Test Loss: 0.0173\n"
     ]
    },
    {
     "name": "stderr",
     "output_type": "stream",
     "text": [
      "/var/folders/nd/fsmv2lz93k3_cjwz_1lx75j80000gn/T/ipykernel_10068/679006939.py:36: FutureWarning: suggest_uniform has been deprecated in v3.0.0. This feature will be removed in v6.0.0. See https://github.com/optuna/optuna/releases/tag/v3.0.0. Use suggest_float instead.\n",
      "  dropout_rate = trial.suggest_uniform('dropout_rate', 0.1, 0.5)\n",
      "/var/folders/nd/fsmv2lz93k3_cjwz_1lx75j80000gn/T/ipykernel_10068/679006939.py:37: FutureWarning: suggest_loguniform has been deprecated in v3.0.0. This feature will be removed in v6.0.0. See https://github.com/optuna/optuna/releases/tag/v3.0.0. Use suggest_float(..., log=True) instead.\n",
      "  learning_rate = trial.suggest_loguniform('learning_rate', 1e-5, 1e-2)\n"
     ]
    },
    {
     "name": "stdout",
     "output_type": "stream",
     "text": [
      "Epoch 1/17, Train Loss: 0.0405, Test Loss: 0.0214\n",
      "Epoch 2/17, Train Loss: 0.0248, Test Loss: 0.0207\n",
      "Epoch 3/17, Train Loss: 0.0226, Test Loss: 0.0208\n",
      "Epoch 4/17, Train Loss: 0.0213, Test Loss: 0.0182\n",
      "Epoch 5/17, Train Loss: 0.0206, Test Loss: 0.0182\n",
      "Epoch 6/17, Train Loss: 0.0199, Test Loss: 0.0175\n",
      "Epoch 7/17, Train Loss: 0.0195, Test Loss: 0.0181\n",
      "Epoch 8/17, Train Loss: 0.0189, Test Loss: 0.0169\n",
      "Epoch 9/17, Train Loss: 0.0186, Test Loss: 0.0171\n",
      "Epoch 10/17, Train Loss: 0.0185, Test Loss: 0.0165\n",
      "Epoch 11/17, Train Loss: 0.0182, Test Loss: 0.0161\n",
      "Epoch 12/17, Train Loss: 0.0177, Test Loss: 0.0163\n",
      "Epoch 13/17, Train Loss: 0.0176, Test Loss: 0.0158\n",
      "Epoch 14/17, Train Loss: 0.0173, Test Loss: 0.0159\n",
      "Epoch 15/17, Train Loss: 0.0174, Test Loss: 0.0161\n",
      "Epoch 16/17, Train Loss: 0.0171, Test Loss: 0.0166\n"
     ]
    },
    {
     "name": "stderr",
     "output_type": "stream",
     "text": [
      "[I 2025-03-19 11:18:26,543] Trial 60 finished with value: 0.015414506702654762 and parameters: {'num_hidden_layers': 7, 'layer_0_size': 55, 'layer_1_size': 54, 'layer_2_size': 39, 'layer_3_size': 31, 'layer_4_size': 38, 'layer_5_size': 31, 'layer_6_size': 32, 'dropout_rate': 0.13650519001229736, 'learning_rate': 0.0008426670262622343, 'batch_size': 32, 'epochs': 17}. Best is trial 49 with value: 0.014869256414385745.\n"
     ]
    },
    {
     "name": "stdout",
     "output_type": "stream",
     "text": [
      "Epoch 17/17, Train Loss: 0.0168, Test Loss: 0.0154\n"
     ]
    },
    {
     "name": "stderr",
     "output_type": "stream",
     "text": [
      "/var/folders/nd/fsmv2lz93k3_cjwz_1lx75j80000gn/T/ipykernel_10068/679006939.py:36: FutureWarning: suggest_uniform has been deprecated in v3.0.0. This feature will be removed in v6.0.0. See https://github.com/optuna/optuna/releases/tag/v3.0.0. Use suggest_float instead.\n",
      "  dropout_rate = trial.suggest_uniform('dropout_rate', 0.1, 0.5)\n",
      "/var/folders/nd/fsmv2lz93k3_cjwz_1lx75j80000gn/T/ipykernel_10068/679006939.py:37: FutureWarning: suggest_loguniform has been deprecated in v3.0.0. This feature will be removed in v6.0.0. See https://github.com/optuna/optuna/releases/tag/v3.0.0. Use suggest_float(..., log=True) instead.\n",
      "  learning_rate = trial.suggest_loguniform('learning_rate', 1e-5, 1e-2)\n"
     ]
    },
    {
     "name": "stdout",
     "output_type": "stream",
     "text": [
      "Epoch 1/16, Train Loss: 0.0353, Test Loss: 0.0220\n",
      "Epoch 2/16, Train Loss: 0.0244, Test Loss: 0.0205\n",
      "Epoch 3/16, Train Loss: 0.0222, Test Loss: 0.0187\n",
      "Epoch 4/16, Train Loss: 0.0210, Test Loss: 0.0181\n",
      "Epoch 5/16, Train Loss: 0.0201, Test Loss: 0.0177\n",
      "Epoch 6/16, Train Loss: 0.0198, Test Loss: 0.0179\n",
      "Epoch 7/16, Train Loss: 0.0195, Test Loss: 0.0169\n",
      "Epoch 8/16, Train Loss: 0.0192, Test Loss: 0.0164\n",
      "Epoch 9/16, Train Loss: 0.0190, Test Loss: 0.0166\n",
      "Epoch 10/16, Train Loss: 0.0187, Test Loss: 0.0187\n",
      "Epoch 11/16, Train Loss: 0.0186, Test Loss: 0.0167\n",
      "Epoch 12/16, Train Loss: 0.0186, Test Loss: 0.0170\n",
      "Epoch 13/16, Train Loss: 0.0181, Test Loss: 0.0158\n",
      "Epoch 14/16, Train Loss: 0.0181, Test Loss: 0.0161\n",
      "Epoch 15/16, Train Loss: 0.0179, Test Loss: 0.0184\n"
     ]
    },
    {
     "name": "stderr",
     "output_type": "stream",
     "text": [
      "[I 2025-03-19 11:18:34,195] Trial 61 finished with value: 0.015426832615048625 and parameters: {'num_hidden_layers': 7, 'layer_0_size': 58, 'layer_1_size': 46, 'layer_2_size': 50, 'layer_3_size': 38, 'layer_4_size': 58, 'layer_5_size': 23, 'layer_6_size': 16, 'dropout_rate': 0.13472573416826095, 'learning_rate': 0.0015434886824830679, 'batch_size': 32, 'epochs': 16}. Best is trial 49 with value: 0.014869256414385745.\n"
     ]
    },
    {
     "name": "stdout",
     "output_type": "stream",
     "text": [
      "Epoch 16/16, Train Loss: 0.0181, Test Loss: 0.0154\n"
     ]
    },
    {
     "name": "stderr",
     "output_type": "stream",
     "text": [
      "/var/folders/nd/fsmv2lz93k3_cjwz_1lx75j80000gn/T/ipykernel_10068/679006939.py:36: FutureWarning: suggest_uniform has been deprecated in v3.0.0. This feature will be removed in v6.0.0. See https://github.com/optuna/optuna/releases/tag/v3.0.0. Use suggest_float instead.\n",
      "  dropout_rate = trial.suggest_uniform('dropout_rate', 0.1, 0.5)\n",
      "/var/folders/nd/fsmv2lz93k3_cjwz_1lx75j80000gn/T/ipykernel_10068/679006939.py:37: FutureWarning: suggest_loguniform has been deprecated in v3.0.0. This feature will be removed in v6.0.0. See https://github.com/optuna/optuna/releases/tag/v3.0.0. Use suggest_float(..., log=True) instead.\n",
      "  learning_rate = trial.suggest_loguniform('learning_rate', 1e-5, 1e-2)\n"
     ]
    },
    {
     "name": "stdout",
     "output_type": "stream",
     "text": [
      "Epoch 1/16, Train Loss: 0.0483, Test Loss: 0.0245\n",
      "Epoch 2/16, Train Loss: 0.0257, Test Loss: 0.0200\n",
      "Epoch 3/16, Train Loss: 0.0225, Test Loss: 0.0199\n",
      "Epoch 4/16, Train Loss: 0.0211, Test Loss: 0.0178\n",
      "Epoch 5/16, Train Loss: 0.0199, Test Loss: 0.0175\n",
      "Epoch 6/16, Train Loss: 0.0193, Test Loss: 0.0175\n",
      "Epoch 7/16, Train Loss: 0.0189, Test Loss: 0.0183\n",
      "Epoch 8/16, Train Loss: 0.0185, Test Loss: 0.0167\n",
      "Epoch 9/16, Train Loss: 0.0181, Test Loss: 0.0162\n",
      "Epoch 10/16, Train Loss: 0.0181, Test Loss: 0.0165\n",
      "Epoch 11/16, Train Loss: 0.0177, Test Loss: 0.0159\n",
      "Epoch 12/16, Train Loss: 0.0175, Test Loss: 0.0173\n",
      "Epoch 13/16, Train Loss: 0.0174, Test Loss: 0.0162\n",
      "Epoch 14/16, Train Loss: 0.0175, Test Loss: 0.0163\n",
      "Epoch 15/16, Train Loss: 0.0169, Test Loss: 0.0177\n"
     ]
    },
    {
     "name": "stderr",
     "output_type": "stream",
     "text": [
      "[I 2025-03-19 11:18:42,715] Trial 62 finished with value: 0.016334272168023745 and parameters: {'num_hidden_layers': 9, 'layer_0_size': 60, 'layer_1_size': 47, 'layer_2_size': 48, 'layer_3_size': 35, 'layer_4_size': 51, 'layer_5_size': 23, 'layer_6_size': 18, 'layer_7_size': 42, 'layer_8_size': 16, 'dropout_rate': 0.10005381222285285, 'learning_rate': 0.0013564481618519202, 'batch_size': 32, 'epochs': 16}. Best is trial 49 with value: 0.014869256414385745.\n"
     ]
    },
    {
     "name": "stdout",
     "output_type": "stream",
     "text": [
      "Epoch 16/16, Train Loss: 0.0168, Test Loss: 0.0163\n"
     ]
    },
    {
     "name": "stderr",
     "output_type": "stream",
     "text": [
      "/var/folders/nd/fsmv2lz93k3_cjwz_1lx75j80000gn/T/ipykernel_10068/679006939.py:36: FutureWarning: suggest_uniform has been deprecated in v3.0.0. This feature will be removed in v6.0.0. See https://github.com/optuna/optuna/releases/tag/v3.0.0. Use suggest_float instead.\n",
      "  dropout_rate = trial.suggest_uniform('dropout_rate', 0.1, 0.5)\n",
      "/var/folders/nd/fsmv2lz93k3_cjwz_1lx75j80000gn/T/ipykernel_10068/679006939.py:37: FutureWarning: suggest_loguniform has been deprecated in v3.0.0. This feature will be removed in v6.0.0. See https://github.com/optuna/optuna/releases/tag/v3.0.0. Use suggest_float(..., log=True) instead.\n",
      "  learning_rate = trial.suggest_loguniform('learning_rate', 1e-5, 1e-2)\n"
     ]
    },
    {
     "name": "stdout",
     "output_type": "stream",
     "text": [
      "Epoch 1/14, Train Loss: 0.0403, Test Loss: 0.0249\n",
      "Epoch 2/14, Train Loss: 0.0248, Test Loss: 0.0195\n",
      "Epoch 3/14, Train Loss: 0.0222, Test Loss: 0.0187\n",
      "Epoch 4/14, Train Loss: 0.0205, Test Loss: 0.0182\n",
      "Epoch 5/14, Train Loss: 0.0199, Test Loss: 0.0181\n",
      "Epoch 6/14, Train Loss: 0.0193, Test Loss: 0.0168\n",
      "Epoch 7/14, Train Loss: 0.0185, Test Loss: 0.0186\n",
      "Epoch 8/14, Train Loss: 0.0183, Test Loss: 0.0163\n",
      "Epoch 9/14, Train Loss: 0.0175, Test Loss: 0.0158\n",
      "Epoch 10/14, Train Loss: 0.0174, Test Loss: 0.0156\n",
      "Epoch 11/14, Train Loss: 0.0172, Test Loss: 0.0155\n",
      "Epoch 12/14, Train Loss: 0.0171, Test Loss: 0.0151\n",
      "Epoch 13/14, Train Loss: 0.0167, Test Loss: 0.0154\n"
     ]
    },
    {
     "name": "stderr",
     "output_type": "stream",
     "text": [
      "[I 2025-03-19 11:18:48,735] Trial 63 finished with value: 0.014728515408933163 and parameters: {'num_hidden_layers': 6, 'layer_0_size': 56, 'layer_1_size': 45, 'layer_2_size': 53, 'layer_3_size': 42, 'layer_4_size': 58, 'layer_5_size': 27, 'dropout_rate': 0.12038586547533278, 'learning_rate': 0.0009504392681198422, 'batch_size': 32, 'epochs': 14}. Best is trial 63 with value: 0.014728515408933163.\n"
     ]
    },
    {
     "name": "stdout",
     "output_type": "stream",
     "text": [
      "Epoch 14/14, Train Loss: 0.0166, Test Loss: 0.0147\n"
     ]
    },
    {
     "name": "stderr",
     "output_type": "stream",
     "text": [
      "/var/folders/nd/fsmv2lz93k3_cjwz_1lx75j80000gn/T/ipykernel_10068/679006939.py:36: FutureWarning: suggest_uniform has been deprecated in v3.0.0. This feature will be removed in v6.0.0. See https://github.com/optuna/optuna/releases/tag/v3.0.0. Use suggest_float instead.\n",
      "  dropout_rate = trial.suggest_uniform('dropout_rate', 0.1, 0.5)\n",
      "/var/folders/nd/fsmv2lz93k3_cjwz_1lx75j80000gn/T/ipykernel_10068/679006939.py:37: FutureWarning: suggest_loguniform has been deprecated in v3.0.0. This feature will be removed in v6.0.0. See https://github.com/optuna/optuna/releases/tag/v3.0.0. Use suggest_float(..., log=True) instead.\n",
      "  learning_rate = trial.suggest_loguniform('learning_rate', 1e-5, 1e-2)\n"
     ]
    },
    {
     "name": "stdout",
     "output_type": "stream",
     "text": [
      "Epoch 1/14, Train Loss: 0.0379, Test Loss: 0.0242\n",
      "Epoch 2/14, Train Loss: 0.0236, Test Loss: 0.0194\n",
      "Epoch 3/14, Train Loss: 0.0211, Test Loss: 0.0177\n",
      "Epoch 4/14, Train Loss: 0.0196, Test Loss: 0.0172\n",
      "Epoch 5/14, Train Loss: 0.0195, Test Loss: 0.0175\n",
      "Epoch 6/14, Train Loss: 0.0186, Test Loss: 0.0185\n",
      "Epoch 7/14, Train Loss: 0.0186, Test Loss: 0.0172\n",
      "Epoch 8/14, Train Loss: 0.0185, Test Loss: 0.0162\n",
      "Epoch 9/14, Train Loss: 0.0181, Test Loss: 0.0164\n",
      "Epoch 10/14, Train Loss: 0.0178, Test Loss: 0.0170\n",
      "Epoch 11/14, Train Loss: 0.0176, Test Loss: 0.0158\n",
      "Epoch 12/14, Train Loss: 0.0176, Test Loss: 0.0169\n",
      "Epoch 13/14, Train Loss: 0.0175, Test Loss: 0.0159\n"
     ]
    },
    {
     "name": "stderr",
     "output_type": "stream",
     "text": [
      "[I 2025-03-19 11:18:54,832] Trial 64 finished with value: 0.016412074135587318 and parameters: {'num_hidden_layers': 6, 'layer_0_size': 56, 'layer_1_size': 39, 'layer_2_size': 54, 'layer_3_size': 42, 'layer_4_size': 46, 'layer_5_size': 38, 'dropout_rate': 0.11800300713228712, 'learning_rate': 0.0023057527006483665, 'batch_size': 32, 'epochs': 14}. Best is trial 63 with value: 0.014728515408933163.\n"
     ]
    },
    {
     "name": "stdout",
     "output_type": "stream",
     "text": [
      "Epoch 14/14, Train Loss: 0.0173, Test Loss: 0.0164\n",
      "Epoch 1/14, Train Loss: 0.0969, Test Loss: 0.0497\n"
     ]
    },
    {
     "name": "stderr",
     "output_type": "stream",
     "text": [
      "/var/folders/nd/fsmv2lz93k3_cjwz_1lx75j80000gn/T/ipykernel_10068/679006939.py:36: FutureWarning: suggest_uniform has been deprecated in v3.0.0. This feature will be removed in v6.0.0. See https://github.com/optuna/optuna/releases/tag/v3.0.0. Use suggest_float instead.\n",
      "  dropout_rate = trial.suggest_uniform('dropout_rate', 0.1, 0.5)\n",
      "/var/folders/nd/fsmv2lz93k3_cjwz_1lx75j80000gn/T/ipykernel_10068/679006939.py:37: FutureWarning: suggest_loguniform has been deprecated in v3.0.0. This feature will be removed in v6.0.0. See https://github.com/optuna/optuna/releases/tag/v3.0.0. Use suggest_float(..., log=True) instead.\n",
      "  learning_rate = trial.suggest_loguniform('learning_rate', 1e-5, 1e-2)\n"
     ]
    },
    {
     "name": "stdout",
     "output_type": "stream",
     "text": [
      "Epoch 2/14, Train Loss: 0.0458, Test Loss: 0.0277\n",
      "Epoch 3/14, Train Loss: 0.0336, Test Loss: 0.0237\n",
      "Epoch 4/14, Train Loss: 0.0301, Test Loss: 0.0226\n",
      "Epoch 5/14, Train Loss: 0.0279, Test Loss: 0.0217\n",
      "Epoch 6/14, Train Loss: 0.0267, Test Loss: 0.0215\n",
      "Epoch 7/14, Train Loss: 0.0258, Test Loss: 0.0208\n",
      "Epoch 8/14, Train Loss: 0.0249, Test Loss: 0.0197\n",
      "Epoch 9/14, Train Loss: 0.0245, Test Loss: 0.0198\n",
      "Epoch 10/14, Train Loss: 0.0238, Test Loss: 0.0195\n",
      "Epoch 11/14, Train Loss: 0.0233, Test Loss: 0.0192\n",
      "Epoch 12/14, Train Loss: 0.0231, Test Loss: 0.0189\n"
     ]
    },
    {
     "name": "stderr",
     "output_type": "stream",
     "text": [
      "[I 2025-03-19 11:18:56,509] Trial 65 finished with value: 0.018627560406457633 and parameters: {'num_hidden_layers': 4, 'layer_0_size': 52, 'layer_1_size': 44, 'layer_2_size': 51, 'layer_3_size': 41, 'dropout_rate': 0.16401558798552626, 'learning_rate': 0.0006761038618810453, 'batch_size': 256, 'epochs': 14}. Best is trial 63 with value: 0.014728515408933163.\n"
     ]
    },
    {
     "name": "stdout",
     "output_type": "stream",
     "text": [
      "Epoch 13/14, Train Loss: 0.0225, Test Loss: 0.0186\n",
      "Epoch 14/14, Train Loss: 0.0221, Test Loss: 0.0186\n"
     ]
    },
    {
     "name": "stderr",
     "output_type": "stream",
     "text": [
      "/var/folders/nd/fsmv2lz93k3_cjwz_1lx75j80000gn/T/ipykernel_10068/679006939.py:36: FutureWarning: suggest_uniform has been deprecated in v3.0.0. This feature will be removed in v6.0.0. See https://github.com/optuna/optuna/releases/tag/v3.0.0. Use suggest_float instead.\n",
      "  dropout_rate = trial.suggest_uniform('dropout_rate', 0.1, 0.5)\n",
      "/var/folders/nd/fsmv2lz93k3_cjwz_1lx75j80000gn/T/ipykernel_10068/679006939.py:37: FutureWarning: suggest_loguniform has been deprecated in v3.0.0. This feature will be removed in v6.0.0. See https://github.com/optuna/optuna/releases/tag/v3.0.0. Use suggest_float(..., log=True) instead.\n",
      "  learning_rate = trial.suggest_loguniform('learning_rate', 1e-5, 1e-2)\n"
     ]
    },
    {
     "name": "stdout",
     "output_type": "stream",
     "text": [
      "Epoch 1/13, Train Loss: 0.0352, Test Loss: 0.0216\n",
      "Epoch 2/13, Train Loss: 0.0235, Test Loss: 0.0190\n",
      "Epoch 3/13, Train Loss: 0.0213, Test Loss: 0.0180\n",
      "Epoch 4/13, Train Loss: 0.0203, Test Loss: 0.0182\n",
      "Epoch 5/13, Train Loss: 0.0194, Test Loss: 0.0178\n",
      "Epoch 6/13, Train Loss: 0.0188, Test Loss: 0.0171\n",
      "Epoch 7/13, Train Loss: 0.0186, Test Loss: 0.0167\n",
      "Epoch 8/13, Train Loss: 0.0178, Test Loss: 0.0185\n",
      "Epoch 9/13, Train Loss: 0.0175, Test Loss: 0.0163\n",
      "Epoch 10/13, Train Loss: 0.0173, Test Loss: 0.0157\n",
      "Epoch 11/13, Train Loss: 0.0171, Test Loss: 0.0157\n",
      "Epoch 12/13, Train Loss: 0.0169, Test Loss: 0.0171\n"
     ]
    },
    {
     "name": "stderr",
     "output_type": "stream",
     "text": [
      "[I 2025-03-19 11:19:01,420] Trial 66 finished with value: 0.01567489424269297 and parameters: {'num_hidden_layers': 5, 'layer_0_size': 62, 'layer_1_size': 50, 'layer_2_size': 58, 'layer_3_size': 33, 'layer_4_size': 60, 'dropout_rate': 0.14618468496238135, 'learning_rate': 0.0009192398014666152, 'batch_size': 32, 'epochs': 13}. Best is trial 63 with value: 0.014728515408933163.\n"
     ]
    },
    {
     "name": "stdout",
     "output_type": "stream",
     "text": [
      "Epoch 13/13, Train Loss: 0.0167, Test Loss: 0.0157\n"
     ]
    },
    {
     "name": "stderr",
     "output_type": "stream",
     "text": [
      "/var/folders/nd/fsmv2lz93k3_cjwz_1lx75j80000gn/T/ipykernel_10068/679006939.py:36: FutureWarning: suggest_uniform has been deprecated in v3.0.0. This feature will be removed in v6.0.0. See https://github.com/optuna/optuna/releases/tag/v3.0.0. Use suggest_float instead.\n",
      "  dropout_rate = trial.suggest_uniform('dropout_rate', 0.1, 0.5)\n",
      "/var/folders/nd/fsmv2lz93k3_cjwz_1lx75j80000gn/T/ipykernel_10068/679006939.py:37: FutureWarning: suggest_loguniform has been deprecated in v3.0.0. This feature will be removed in v6.0.0. See https://github.com/optuna/optuna/releases/tag/v3.0.0. Use suggest_float(..., log=True) instead.\n",
      "  learning_rate = trial.suggest_loguniform('learning_rate', 1e-5, 1e-2)\n"
     ]
    },
    {
     "name": "stdout",
     "output_type": "stream",
     "text": [
      "Epoch 1/15, Train Loss: 0.0575, Test Loss: 0.0278\n",
      "Epoch 2/15, Train Loss: 0.0349, Test Loss: 0.0324\n",
      "Epoch 3/15, Train Loss: 0.0317, Test Loss: 0.0244\n",
      "Epoch 4/15, Train Loss: 0.0308, Test Loss: 0.0264\n",
      "Epoch 5/15, Train Loss: 0.0295, Test Loss: 0.0236\n",
      "Epoch 6/15, Train Loss: 0.0282, Test Loss: 0.0236\n",
      "Epoch 7/15, Train Loss: 0.0271, Test Loss: 0.0239\n",
      "Epoch 8/15, Train Loss: 0.0267, Test Loss: 0.0217\n",
      "Epoch 9/15, Train Loss: 0.0266, Test Loss: 0.0223\n",
      "Epoch 10/15, Train Loss: 0.0262, Test Loss: 0.0211\n",
      "Epoch 11/15, Train Loss: 0.0262, Test Loss: 0.0209\n",
      "Epoch 12/15, Train Loss: 0.0260, Test Loss: 0.0196\n",
      "Epoch 13/15, Train Loss: 0.0258, Test Loss: 0.0225\n",
      "Epoch 14/15, Train Loss: 0.0261, Test Loss: 0.0196\n"
     ]
    },
    {
     "name": "stderr",
     "output_type": "stream",
     "text": [
      "[I 2025-03-19 11:19:07,757] Trial 67 finished with value: 0.019455683999694884 and parameters: {'num_hidden_layers': 6, 'layer_0_size': 54, 'layer_1_size': 45, 'layer_2_size': 44, 'layer_3_size': 28, 'layer_4_size': 54, 'layer_5_size': 16, 'dropout_rate': 0.45994382283031154, 'learning_rate': 0.0019256262200970627, 'batch_size': 32, 'epochs': 15}. Best is trial 63 with value: 0.014728515408933163.\n"
     ]
    },
    {
     "name": "stdout",
     "output_type": "stream",
     "text": [
      "Epoch 15/15, Train Loss: 0.0256, Test Loss: 0.0195\n"
     ]
    },
    {
     "name": "stderr",
     "output_type": "stream",
     "text": [
      "/var/folders/nd/fsmv2lz93k3_cjwz_1lx75j80000gn/T/ipykernel_10068/679006939.py:36: FutureWarning: suggest_uniform has been deprecated in v3.0.0. This feature will be removed in v6.0.0. See https://github.com/optuna/optuna/releases/tag/v3.0.0. Use suggest_float instead.\n",
      "  dropout_rate = trial.suggest_uniform('dropout_rate', 0.1, 0.5)\n",
      "/var/folders/nd/fsmv2lz93k3_cjwz_1lx75j80000gn/T/ipykernel_10068/679006939.py:37: FutureWarning: suggest_loguniform has been deprecated in v3.0.0. This feature will be removed in v6.0.0. See https://github.com/optuna/optuna/releases/tag/v3.0.0. Use suggest_float(..., log=True) instead.\n",
      "  learning_rate = trial.suggest_loguniform('learning_rate', 1e-5, 1e-2)\n"
     ]
    },
    {
     "name": "stdout",
     "output_type": "stream",
     "text": [
      "Epoch 1/15, Train Loss: 0.1256, Test Loss: 0.1095\n",
      "Epoch 2/15, Train Loss: 0.0967, Test Loss: 0.0821\n",
      "Epoch 3/15, Train Loss: 0.0737, Test Loss: 0.0641\n",
      "Epoch 4/15, Train Loss: 0.0658, Test Loss: 0.0603\n",
      "Epoch 5/15, Train Loss: 0.0636, Test Loss: 0.0592\n",
      "Epoch 6/15, Train Loss: 0.0629, Test Loss: 0.0591\n",
      "Epoch 7/15, Train Loss: 0.0627, Test Loss: 0.0586\n",
      "Epoch 8/15, Train Loss: 0.0617, Test Loss: 0.0584\n",
      "Epoch 9/15, Train Loss: 0.0616, Test Loss: 0.0581\n",
      "Epoch 10/15, Train Loss: 0.0603, Test Loss: 0.0577\n",
      "Epoch 11/15, Train Loss: 0.0597, Test Loss: 0.0578\n",
      "Epoch 12/15, Train Loss: 0.0589, Test Loss: 0.0574\n",
      "Epoch 13/15, Train Loss: 0.0588, Test Loss: 0.0573\n",
      "Epoch 14/15, Train Loss: 0.0583, Test Loss: 0.0568\n"
     ]
    },
    {
     "name": "stderr",
     "output_type": "stream",
     "text": [
      "[I 2025-03-19 11:19:13,418] Trial 68 finished with value: 0.056488405156414956 and parameters: {'num_hidden_layers': 5, 'layer_0_size': 16, 'layer_1_size': 51, 'layer_2_size': 39, 'layer_3_size': 44, 'layer_4_size': 49, 'dropout_rate': 0.40317856412393305, 'learning_rate': 1.7859826616876734e-05, 'batch_size': 32, 'epochs': 15}. Best is trial 63 with value: 0.014728515408933163.\n"
     ]
    },
    {
     "name": "stdout",
     "output_type": "stream",
     "text": [
      "Epoch 15/15, Train Loss: 0.0576, Test Loss: 0.0565\n"
     ]
    },
    {
     "name": "stderr",
     "output_type": "stream",
     "text": [
      "/var/folders/nd/fsmv2lz93k3_cjwz_1lx75j80000gn/T/ipykernel_10068/679006939.py:36: FutureWarning: suggest_uniform has been deprecated in v3.0.0. This feature will be removed in v6.0.0. See https://github.com/optuna/optuna/releases/tag/v3.0.0. Use suggest_float instead.\n",
      "  dropout_rate = trial.suggest_uniform('dropout_rate', 0.1, 0.5)\n",
      "/var/folders/nd/fsmv2lz93k3_cjwz_1lx75j80000gn/T/ipykernel_10068/679006939.py:37: FutureWarning: suggest_loguniform has been deprecated in v3.0.0. This feature will be removed in v6.0.0. See https://github.com/optuna/optuna/releases/tag/v3.0.0. Use suggest_float(..., log=True) instead.\n",
      "  learning_rate = trial.suggest_loguniform('learning_rate', 1e-5, 1e-2)\n"
     ]
    },
    {
     "name": "stdout",
     "output_type": "stream",
     "text": [
      "Epoch 1/18, Train Loss: 0.1375, Test Loss: 0.0485\n",
      "Epoch 2/18, Train Loss: 0.0433, Test Loss: 0.0280\n",
      "Epoch 3/18, Train Loss: 0.0318, Test Loss: 0.0240\n",
      "Epoch 4/18, Train Loss: 0.0297, Test Loss: 0.0232\n",
      "Epoch 5/18, Train Loss: 0.0282, Test Loss: 0.0221\n",
      "Epoch 6/18, Train Loss: 0.0268, Test Loss: 0.0215\n",
      "Epoch 7/18, Train Loss: 0.0254, Test Loss: 0.0207\n",
      "Epoch 8/18, Train Loss: 0.0253, Test Loss: 0.0204\n",
      "Epoch 9/18, Train Loss: 0.0243, Test Loss: 0.0200\n",
      "Epoch 10/18, Train Loss: 0.0235, Test Loss: 0.0197\n",
      "Epoch 11/18, Train Loss: 0.0233, Test Loss: 0.0192\n",
      "Epoch 12/18, Train Loss: 0.0228, Test Loss: 0.0188\n",
      "Epoch 13/18, Train Loss: 0.0223, Test Loss: 0.0188\n",
      "Epoch 14/18, Train Loss: 0.0218, Test Loss: 0.0192\n",
      "Epoch 15/18, Train Loss: 0.0216, Test Loss: 0.0184\n",
      "Epoch 16/18, Train Loss: 0.0213, Test Loss: 0.0192\n"
     ]
    },
    {
     "name": "stderr",
     "output_type": "stream",
     "text": [
      "[I 2025-03-19 11:19:15,933] Trial 69 finished with value: 0.01850316720083356 and parameters: {'num_hidden_layers': 4, 'layer_0_size': 60, 'layer_1_size': 37, 'layer_2_size': 41, 'layer_3_size': 36, 'dropout_rate': 0.11662293331607142, 'learning_rate': 0.0003693493216985559, 'batch_size': 128, 'epochs': 18}. Best is trial 63 with value: 0.014728515408933163.\n"
     ]
    },
    {
     "name": "stdout",
     "output_type": "stream",
     "text": [
      "Epoch 17/18, Train Loss: 0.0209, Test Loss: 0.0177\n",
      "Epoch 18/18, Train Loss: 0.0207, Test Loss: 0.0185\n"
     ]
    },
    {
     "name": "stderr",
     "output_type": "stream",
     "text": [
      "/var/folders/nd/fsmv2lz93k3_cjwz_1lx75j80000gn/T/ipykernel_10068/679006939.py:36: FutureWarning: suggest_uniform has been deprecated in v3.0.0. This feature will be removed in v6.0.0. See https://github.com/optuna/optuna/releases/tag/v3.0.0. Use suggest_float instead.\n",
      "  dropout_rate = trial.suggest_uniform('dropout_rate', 0.1, 0.5)\n",
      "/var/folders/nd/fsmv2lz93k3_cjwz_1lx75j80000gn/T/ipykernel_10068/679006939.py:37: FutureWarning: suggest_loguniform has been deprecated in v3.0.0. This feature will be removed in v6.0.0. See https://github.com/optuna/optuna/releases/tag/v3.0.0. Use suggest_float(..., log=True) instead.\n",
      "  learning_rate = trial.suggest_loguniform('learning_rate', 1e-5, 1e-2)\n"
     ]
    },
    {
     "name": "stdout",
     "output_type": "stream",
     "text": [
      "Epoch 1/17, Train Loss: 0.0430, Test Loss: 0.0228\n",
      "Epoch 2/17, Train Loss: 0.0275, Test Loss: 0.0224\n",
      "Epoch 3/17, Train Loss: 0.0244, Test Loss: 0.0195\n",
      "Epoch 4/17, Train Loss: 0.0226, Test Loss: 0.0187\n",
      "Epoch 5/17, Train Loss: 0.0210, Test Loss: 0.0183\n",
      "Epoch 6/17, Train Loss: 0.0201, Test Loss: 0.0185\n",
      "Epoch 7/17, Train Loss: 0.0197, Test Loss: 0.0169\n",
      "Epoch 8/17, Train Loss: 0.0193, Test Loss: 0.0171\n",
      "Epoch 9/17, Train Loss: 0.0188, Test Loss: 0.0174\n",
      "Epoch 10/17, Train Loss: 0.0186, Test Loss: 0.0163\n",
      "Epoch 11/17, Train Loss: 0.0182, Test Loss: 0.0167\n",
      "Epoch 12/17, Train Loss: 0.0182, Test Loss: 0.0159\n",
      "Epoch 13/17, Train Loss: 0.0179, Test Loss: 0.0159\n",
      "Epoch 14/17, Train Loss: 0.0179, Test Loss: 0.0161\n",
      "Epoch 15/17, Train Loss: 0.0175, Test Loss: 0.0157\n",
      "Epoch 16/17, Train Loss: 0.0174, Test Loss: 0.0154\n"
     ]
    },
    {
     "name": "stderr",
     "output_type": "stream",
     "text": [
      "[I 2025-03-19 11:19:23,087] Trial 70 finished with value: 0.016543549074413022 and parameters: {'num_hidden_layers': 6, 'layer_0_size': 51, 'layer_1_size': 54, 'layer_2_size': 56, 'layer_3_size': 39, 'layer_4_size': 64, 'layer_5_size': 28, 'dropout_rate': 0.1665197372608031, 'learning_rate': 0.0010429057406103797, 'batch_size': 32, 'epochs': 17}. Best is trial 63 with value: 0.014728515408933163.\n"
     ]
    },
    {
     "name": "stdout",
     "output_type": "stream",
     "text": [
      "Epoch 17/17, Train Loss: 0.0172, Test Loss: 0.0165\n"
     ]
    },
    {
     "name": "stderr",
     "output_type": "stream",
     "text": [
      "/var/folders/nd/fsmv2lz93k3_cjwz_1lx75j80000gn/T/ipykernel_10068/679006939.py:36: FutureWarning: suggest_uniform has been deprecated in v3.0.0. This feature will be removed in v6.0.0. See https://github.com/optuna/optuna/releases/tag/v3.0.0. Use suggest_float instead.\n",
      "  dropout_rate = trial.suggest_uniform('dropout_rate', 0.1, 0.5)\n",
      "/var/folders/nd/fsmv2lz93k3_cjwz_1lx75j80000gn/T/ipykernel_10068/679006939.py:37: FutureWarning: suggest_loguniform has been deprecated in v3.0.0. This feature will be removed in v6.0.0. See https://github.com/optuna/optuna/releases/tag/v3.0.0. Use suggest_float(..., log=True) instead.\n",
      "  learning_rate = trial.suggest_loguniform('learning_rate', 1e-5, 1e-2)\n"
     ]
    },
    {
     "name": "stdout",
     "output_type": "stream",
     "text": [
      "Epoch 1/16, Train Loss: 0.0375, Test Loss: 0.0296\n",
      "Epoch 2/16, Train Loss: 0.0243, Test Loss: 0.0241\n",
      "Epoch 3/16, Train Loss: 0.0220, Test Loss: 0.0187\n",
      "Epoch 4/16, Train Loss: 0.0207, Test Loss: 0.0191\n",
      "Epoch 5/16, Train Loss: 0.0199, Test Loss: 0.0173\n",
      "Epoch 6/16, Train Loss: 0.0193, Test Loss: 0.0178\n",
      "Epoch 7/16, Train Loss: 0.0188, Test Loss: 0.0171\n",
      "Epoch 8/16, Train Loss: 0.0182, Test Loss: 0.0174\n",
      "Epoch 9/16, Train Loss: 0.0182, Test Loss: 0.0164\n",
      "Epoch 10/16, Train Loss: 0.0178, Test Loss: 0.0174\n",
      "Epoch 11/16, Train Loss: 0.0176, Test Loss: 0.0167\n",
      "Epoch 12/16, Train Loss: 0.0177, Test Loss: 0.0165\n",
      "Epoch 13/16, Train Loss: 0.0173, Test Loss: 0.0165\n",
      "Epoch 14/16, Train Loss: 0.0175, Test Loss: 0.0154\n",
      "Epoch 15/16, Train Loss: 0.0169, Test Loss: 0.0160\n"
     ]
    },
    {
     "name": "stderr",
     "output_type": "stream",
     "text": [
      "[I 2025-03-19 11:19:30,868] Trial 71 finished with value: 0.015748404555779416 and parameters: {'num_hidden_layers': 7, 'layer_0_size': 58, 'layer_1_size': 46, 'layer_2_size': 47, 'layer_3_size': 39, 'layer_4_size': 57, 'layer_5_size': 25, 'layer_6_size': 32, 'dropout_rate': 0.1305322183772758, 'learning_rate': 0.0013204512017406945, 'batch_size': 32, 'epochs': 16}. Best is trial 63 with value: 0.014728515408933163.\n"
     ]
    },
    {
     "name": "stdout",
     "output_type": "stream",
     "text": [
      "Epoch 16/16, Train Loss: 0.0172, Test Loss: 0.0157\n"
     ]
    },
    {
     "name": "stderr",
     "output_type": "stream",
     "text": [
      "/var/folders/nd/fsmv2lz93k3_cjwz_1lx75j80000gn/T/ipykernel_10068/679006939.py:36: FutureWarning: suggest_uniform has been deprecated in v3.0.0. This feature will be removed in v6.0.0. See https://github.com/optuna/optuna/releases/tag/v3.0.0. Use suggest_float instead.\n",
      "  dropout_rate = trial.suggest_uniform('dropout_rate', 0.1, 0.5)\n",
      "/var/folders/nd/fsmv2lz93k3_cjwz_1lx75j80000gn/T/ipykernel_10068/679006939.py:37: FutureWarning: suggest_loguniform has been deprecated in v3.0.0. This feature will be removed in v6.0.0. See https://github.com/optuna/optuna/releases/tag/v3.0.0. Use suggest_float(..., log=True) instead.\n",
      "  learning_rate = trial.suggest_loguniform('learning_rate', 1e-5, 1e-2)\n"
     ]
    },
    {
     "name": "stdout",
     "output_type": "stream",
     "text": [
      "Epoch 1/16, Train Loss: 0.0386, Test Loss: 0.0250\n",
      "Epoch 2/16, Train Loss: 0.0254, Test Loss: 0.0212\n",
      "Epoch 3/16, Train Loss: 0.0225, Test Loss: 0.0218\n",
      "Epoch 4/16, Train Loss: 0.0207, Test Loss: 0.0203\n",
      "Epoch 5/16, Train Loss: 0.0199, Test Loss: 0.0182\n",
      "Epoch 6/16, Train Loss: 0.0195, Test Loss: 0.0179\n",
      "Epoch 7/16, Train Loss: 0.0191, Test Loss: 0.0171\n",
      "Epoch 8/16, Train Loss: 0.0187, Test Loss: 0.0167\n",
      "Epoch 9/16, Train Loss: 0.0184, Test Loss: 0.0171\n",
      "Epoch 10/16, Train Loss: 0.0182, Test Loss: 0.0192\n",
      "Epoch 11/16, Train Loss: 0.0182, Test Loss: 0.0166\n",
      "Epoch 12/16, Train Loss: 0.0178, Test Loss: 0.0174\n",
      "Epoch 13/16, Train Loss: 0.0179, Test Loss: 0.0163\n",
      "Epoch 14/16, Train Loss: 0.0174, Test Loss: 0.0162\n",
      "Epoch 15/16, Train Loss: 0.0174, Test Loss: 0.0155\n"
     ]
    },
    {
     "name": "stderr",
     "output_type": "stream",
     "text": [
      "[I 2025-03-19 11:19:39,229] Trial 72 finished with value: 0.016158634709427133 and parameters: {'num_hidden_layers': 8, 'layer_0_size': 59, 'layer_1_size': 43, 'layer_2_size': 52, 'layer_3_size': 30, 'layer_4_size': 54, 'layer_5_size': 33, 'layer_6_size': 49, 'layer_7_size': 53, 'dropout_rate': 0.13791553783179494, 'learning_rate': 0.001218196875236882, 'batch_size': 32, 'epochs': 16}. Best is trial 63 with value: 0.014728515408933163.\n"
     ]
    },
    {
     "name": "stdout",
     "output_type": "stream",
     "text": [
      "Epoch 16/16, Train Loss: 0.0169, Test Loss: 0.0162\n"
     ]
    },
    {
     "name": "stderr",
     "output_type": "stream",
     "text": [
      "/var/folders/nd/fsmv2lz93k3_cjwz_1lx75j80000gn/T/ipykernel_10068/679006939.py:36: FutureWarning: suggest_uniform has been deprecated in v3.0.0. This feature will be removed in v6.0.0. See https://github.com/optuna/optuna/releases/tag/v3.0.0. Use suggest_float instead.\n",
      "  dropout_rate = trial.suggest_uniform('dropout_rate', 0.1, 0.5)\n",
      "/var/folders/nd/fsmv2lz93k3_cjwz_1lx75j80000gn/T/ipykernel_10068/679006939.py:37: FutureWarning: suggest_loguniform has been deprecated in v3.0.0. This feature will be removed in v6.0.0. See https://github.com/optuna/optuna/releases/tag/v3.0.0. Use suggest_float(..., log=True) instead.\n",
      "  learning_rate = trial.suggest_loguniform('learning_rate', 1e-5, 1e-2)\n"
     ]
    },
    {
     "name": "stdout",
     "output_type": "stream",
     "text": [
      "Epoch 1/15, Train Loss: 0.0576, Test Loss: 0.0243\n",
      "Epoch 2/15, Train Loss: 0.0306, Test Loss: 0.0243\n",
      "Epoch 3/15, Train Loss: 0.0269, Test Loss: 0.0238\n",
      "Epoch 4/15, Train Loss: 0.0250, Test Loss: 0.0191\n",
      "Epoch 5/15, Train Loss: 0.0233, Test Loss: 0.0186\n",
      "Epoch 6/15, Train Loss: 0.0216, Test Loss: 0.0203\n",
      "Epoch 7/15, Train Loss: 0.0210, Test Loss: 0.0177\n",
      "Epoch 8/15, Train Loss: 0.0201, Test Loss: 0.0171\n",
      "Epoch 9/15, Train Loss: 0.0194, Test Loss: 0.0167\n",
      "Epoch 10/15, Train Loss: 0.0188, Test Loss: 0.0164\n",
      "Epoch 11/15, Train Loss: 0.0186, Test Loss: 0.0170\n",
      "Epoch 12/15, Train Loss: 0.0181, Test Loss: 0.0163\n",
      "Epoch 13/15, Train Loss: 0.0177, Test Loss: 0.0162\n",
      "Epoch 14/15, Train Loss: 0.0176, Test Loss: 0.0159\n"
     ]
    },
    {
     "name": "stderr",
     "output_type": "stream",
     "text": [
      "[I 2025-03-19 11:19:46,305] Trial 73 finished with value: 0.015744711061415728 and parameters: {'num_hidden_layers': 7, 'layer_0_size': 63, 'layer_1_size': 48, 'layer_2_size': 49, 'layer_3_size': 37, 'layer_4_size': 60, 'layer_5_size': 25, 'layer_6_size': 23, 'dropout_rate': 0.11169813963293311, 'learning_rate': 0.000779182186499587, 'batch_size': 32, 'epochs': 15}. Best is trial 63 with value: 0.014728515408933163.\n"
     ]
    },
    {
     "name": "stdout",
     "output_type": "stream",
     "text": [
      "Epoch 15/15, Train Loss: 0.0177, Test Loss: 0.0157\n"
     ]
    },
    {
     "name": "stderr",
     "output_type": "stream",
     "text": [
      "/var/folders/nd/fsmv2lz93k3_cjwz_1lx75j80000gn/T/ipykernel_10068/679006939.py:36: FutureWarning: suggest_uniform has been deprecated in v3.0.0. This feature will be removed in v6.0.0. See https://github.com/optuna/optuna/releases/tag/v3.0.0. Use suggest_float instead.\n",
      "  dropout_rate = trial.suggest_uniform('dropout_rate', 0.1, 0.5)\n",
      "/var/folders/nd/fsmv2lz93k3_cjwz_1lx75j80000gn/T/ipykernel_10068/679006939.py:37: FutureWarning: suggest_loguniform has been deprecated in v3.0.0. This feature will be removed in v6.0.0. See https://github.com/optuna/optuna/releases/tag/v3.0.0. Use suggest_float(..., log=True) instead.\n",
      "  learning_rate = trial.suggest_loguniform('learning_rate', 1e-5, 1e-2)\n"
     ]
    },
    {
     "name": "stdout",
     "output_type": "stream",
     "text": [
      "Epoch 1/17, Train Loss: 0.0366, Test Loss: 0.0201\n",
      "Epoch 2/17, Train Loss: 0.0231, Test Loss: 0.0192\n",
      "Epoch 3/17, Train Loss: 0.0212, Test Loss: 0.0199\n",
      "Epoch 4/17, Train Loss: 0.0206, Test Loss: 0.0185\n",
      "Epoch 5/17, Train Loss: 0.0199, Test Loss: 0.0206\n",
      "Epoch 6/17, Train Loss: 0.0195, Test Loss: 0.0177\n",
      "Epoch 7/17, Train Loss: 0.0190, Test Loss: 0.0193\n",
      "Epoch 8/17, Train Loss: 0.0189, Test Loss: 0.0171\n",
      "Epoch 9/17, Train Loss: 0.0186, Test Loss: 0.0182\n",
      "Epoch 10/17, Train Loss: 0.0187, Test Loss: 0.0173\n",
      "Epoch 11/17, Train Loss: 0.0181, Test Loss: 0.0171\n",
      "Epoch 12/17, Train Loss: 0.0185, Test Loss: 0.0184\n",
      "Epoch 13/17, Train Loss: 0.0182, Test Loss: 0.0157\n",
      "Epoch 14/17, Train Loss: 0.0182, Test Loss: 0.0172\n",
      "Epoch 15/17, Train Loss: 0.0182, Test Loss: 0.0166\n",
      "Epoch 16/17, Train Loss: 0.0181, Test Loss: 0.0155\n"
     ]
    },
    {
     "name": "stderr",
     "output_type": "stream",
     "text": [
      "[I 2025-03-19 11:19:53,675] Trial 74 finished with value: 0.016084555547422497 and parameters: {'num_hidden_layers': 6, 'layer_0_size': 56, 'layer_1_size': 45, 'layer_2_size': 46, 'layer_3_size': 41, 'layer_4_size': 58, 'layer_5_size': 20, 'dropout_rate': 0.12552947881376347, 'learning_rate': 0.0031962316004263518, 'batch_size': 32, 'epochs': 17}. Best is trial 63 with value: 0.014728515408933163.\n"
     ]
    },
    {
     "name": "stdout",
     "output_type": "stream",
     "text": [
      "Epoch 17/17, Train Loss: 0.0180, Test Loss: 0.0161\n"
     ]
    },
    {
     "name": "stderr",
     "output_type": "stream",
     "text": [
      "/var/folders/nd/fsmv2lz93k3_cjwz_1lx75j80000gn/T/ipykernel_10068/679006939.py:36: FutureWarning: suggest_uniform has been deprecated in v3.0.0. This feature will be removed in v6.0.0. See https://github.com/optuna/optuna/releases/tag/v3.0.0. Use suggest_float instead.\n",
      "  dropout_rate = trial.suggest_uniform('dropout_rate', 0.1, 0.5)\n",
      "/var/folders/nd/fsmv2lz93k3_cjwz_1lx75j80000gn/T/ipykernel_10068/679006939.py:37: FutureWarning: suggest_loguniform has been deprecated in v3.0.0. This feature will be removed in v6.0.0. See https://github.com/optuna/optuna/releases/tag/v3.0.0. Use suggest_float(..., log=True) instead.\n",
      "  learning_rate = trial.suggest_loguniform('learning_rate', 1e-5, 1e-2)\n"
     ]
    },
    {
     "name": "stdout",
     "output_type": "stream",
     "text": [
      "Epoch 1/14, Train Loss: 0.0611, Test Loss: 0.0582\n",
      "Epoch 2/14, Train Loss: 0.0474, Test Loss: 0.0347\n",
      "Epoch 3/14, Train Loss: 0.0358, Test Loss: 0.0291\n",
      "Epoch 4/14, Train Loss: 0.0319, Test Loss: 0.0305\n",
      "Epoch 5/14, Train Loss: 0.0307, Test Loss: 0.0242\n",
      "Epoch 6/14, Train Loss: 0.0287, Test Loss: 0.0260\n",
      "Epoch 7/14, Train Loss: 0.0282, Test Loss: 0.0273\n",
      "Epoch 8/14, Train Loss: 0.0281, Test Loss: 0.0246\n",
      "Epoch 9/14, Train Loss: 0.0270, Test Loss: 0.0225\n",
      "Epoch 10/14, Train Loss: 0.0264, Test Loss: 0.0222\n",
      "Epoch 11/14, Train Loss: 0.0263, Test Loss: 0.0239\n",
      "Epoch 12/14, Train Loss: 0.0263, Test Loss: 0.0254\n",
      "Epoch 13/14, Train Loss: 0.0260, Test Loss: 0.0208\n"
     ]
    },
    {
     "name": "stderr",
     "output_type": "stream",
     "text": [
      "[I 2025-03-19 11:20:00,287] Trial 75 finished with value: 0.02079465825954685 and parameters: {'num_hidden_layers': 7, 'layer_0_size': 61, 'layer_1_size': 40, 'layer_2_size': 53, 'layer_3_size': 33, 'layer_4_size': 53, 'layer_5_size': 30, 'layer_6_size': 37, 'dropout_rate': 0.4995889511129523, 'learning_rate': 0.0017089306505980635, 'batch_size': 32, 'epochs': 14}. Best is trial 63 with value: 0.014728515408933163.\n"
     ]
    },
    {
     "name": "stdout",
     "output_type": "stream",
     "text": [
      "Epoch 14/14, Train Loss: 0.0255, Test Loss: 0.0208\n"
     ]
    },
    {
     "name": "stderr",
     "output_type": "stream",
     "text": [
      "/var/folders/nd/fsmv2lz93k3_cjwz_1lx75j80000gn/T/ipykernel_10068/679006939.py:36: FutureWarning: suggest_uniform has been deprecated in v3.0.0. This feature will be removed in v6.0.0. See https://github.com/optuna/optuna/releases/tag/v3.0.0. Use suggest_float instead.\n",
      "  dropout_rate = trial.suggest_uniform('dropout_rate', 0.1, 0.5)\n",
      "/var/folders/nd/fsmv2lz93k3_cjwz_1lx75j80000gn/T/ipykernel_10068/679006939.py:37: FutureWarning: suggest_loguniform has been deprecated in v3.0.0. This feature will be removed in v6.0.0. See https://github.com/optuna/optuna/releases/tag/v3.0.0. Use suggest_float(..., log=True) instead.\n",
      "  learning_rate = trial.suggest_loguniform('learning_rate', 1e-5, 1e-2)\n"
     ]
    },
    {
     "name": "stdout",
     "output_type": "stream",
     "text": [
      "Epoch 1/15, Train Loss: 0.0351, Test Loss: 0.0246\n",
      "Epoch 2/15, Train Loss: 0.0229, Test Loss: 0.0201\n",
      "Epoch 3/15, Train Loss: 0.0204, Test Loss: 0.0173\n",
      "Epoch 4/15, Train Loss: 0.0199, Test Loss: 0.0176\n",
      "Epoch 5/15, Train Loss: 0.0191, Test Loss: 0.0185\n",
      "Epoch 6/15, Train Loss: 0.0188, Test Loss: 0.0169\n",
      "Epoch 7/15, Train Loss: 0.0187, Test Loss: 0.0166\n",
      "Epoch 8/15, Train Loss: 0.0182, Test Loss: 0.0160\n",
      "Epoch 9/15, Train Loss: 0.0179, Test Loss: 0.0164\n",
      "Epoch 10/15, Train Loss: 0.0181, Test Loss: 0.0214\n",
      "Epoch 11/15, Train Loss: 0.0175, Test Loss: 0.0172\n",
      "Epoch 12/15, Train Loss: 0.0175, Test Loss: 0.0158\n",
      "Epoch 13/15, Train Loss: 0.0176, Test Loss: 0.0170\n",
      "Epoch 14/15, Train Loss: 0.0175, Test Loss: 0.0170\n"
     ]
    },
    {
     "name": "stderr",
     "output_type": "stream",
     "text": [
      "[I 2025-03-19 11:20:05,973] Trial 76 finished with value: 0.01636889157089172 and parameters: {'num_hidden_layers': 5, 'layer_0_size': 58, 'layer_1_size': 42, 'layer_2_size': 44, 'layer_3_size': 26, 'layer_4_size': 62, 'dropout_rate': 0.1444875017530472, 'learning_rate': 0.002291808360854392, 'batch_size': 32, 'epochs': 15}. Best is trial 63 with value: 0.014728515408933163.\n"
     ]
    },
    {
     "name": "stdout",
     "output_type": "stream",
     "text": [
      "Epoch 15/15, Train Loss: 0.0172, Test Loss: 0.0164\n",
      "Epoch 1/16, Train Loss: 0.0535, Test Loss: 0.0257\n"
     ]
    },
    {
     "name": "stderr",
     "output_type": "stream",
     "text": [
      "/var/folders/nd/fsmv2lz93k3_cjwz_1lx75j80000gn/T/ipykernel_10068/679006939.py:36: FutureWarning: suggest_uniform has been deprecated in v3.0.0. This feature will be removed in v6.0.0. See https://github.com/optuna/optuna/releases/tag/v3.0.0. Use suggest_float instead.\n",
      "  dropout_rate = trial.suggest_uniform('dropout_rate', 0.1, 0.5)\n",
      "/var/folders/nd/fsmv2lz93k3_cjwz_1lx75j80000gn/T/ipykernel_10068/679006939.py:37: FutureWarning: suggest_loguniform has been deprecated in v3.0.0. This feature will be removed in v6.0.0. See https://github.com/optuna/optuna/releases/tag/v3.0.0. Use suggest_float(..., log=True) instead.\n",
      "  learning_rate = trial.suggest_loguniform('learning_rate', 1e-5, 1e-2)\n"
     ]
    },
    {
     "name": "stdout",
     "output_type": "stream",
     "text": [
      "Epoch 2/16, Train Loss: 0.0287, Test Loss: 0.0219\n",
      "Epoch 3/16, Train Loss: 0.0256, Test Loss: 0.0207\n",
      "Epoch 4/16, Train Loss: 0.0240, Test Loss: 0.0205\n",
      "Epoch 5/16, Train Loss: 0.0231, Test Loss: 0.0190\n",
      "Epoch 6/16, Train Loss: 0.0218, Test Loss: 0.0187\n",
      "Epoch 7/16, Train Loss: 0.0215, Test Loss: 0.0184\n",
      "Epoch 8/16, Train Loss: 0.0205, Test Loss: 0.0179\n",
      "Epoch 9/16, Train Loss: 0.0202, Test Loss: 0.0175\n",
      "Epoch 10/16, Train Loss: 0.0195, Test Loss: 0.0176\n",
      "Epoch 11/16, Train Loss: 0.0197, Test Loss: 0.0172\n",
      "Epoch 12/16, Train Loss: 0.0194, Test Loss: 0.0172\n",
      "Epoch 13/16, Train Loss: 0.0195, Test Loss: 0.0168\n",
      "Epoch 14/16, Train Loss: 0.0190, Test Loss: 0.0169\n",
      "Epoch 15/16, Train Loss: 0.0186, Test Loss: 0.0168\n"
     ]
    },
    {
     "name": "stderr",
     "output_type": "stream",
     "text": [
      "[I 2025-03-19 11:20:07,747] Trial 77 finished with value: 0.016754983633290976 and parameters: {'num_hidden_layers': 3, 'layer_0_size': 53, 'layer_1_size': 47, 'layer_2_size': 63, 'dropout_rate': 0.28806337845303753, 'learning_rate': 0.0026031190533029893, 'batch_size': 256, 'epochs': 16}. Best is trial 63 with value: 0.014728515408933163.\n"
     ]
    },
    {
     "name": "stdout",
     "output_type": "stream",
     "text": [
      "Epoch 16/16, Train Loss: 0.0183, Test Loss: 0.0168\n"
     ]
    },
    {
     "name": "stderr",
     "output_type": "stream",
     "text": [
      "/var/folders/nd/fsmv2lz93k3_cjwz_1lx75j80000gn/T/ipykernel_10068/679006939.py:36: FutureWarning: suggest_uniform has been deprecated in v3.0.0. This feature will be removed in v6.0.0. See https://github.com/optuna/optuna/releases/tag/v3.0.0. Use suggest_float instead.\n",
      "  dropout_rate = trial.suggest_uniform('dropout_rate', 0.1, 0.5)\n",
      "/var/folders/nd/fsmv2lz93k3_cjwz_1lx75j80000gn/T/ipykernel_10068/679006939.py:37: FutureWarning: suggest_loguniform has been deprecated in v3.0.0. This feature will be removed in v6.0.0. See https://github.com/optuna/optuna/releases/tag/v3.0.0. Use suggest_float(..., log=True) instead.\n",
      "  learning_rate = trial.suggest_loguniform('learning_rate', 1e-5, 1e-2)\n"
     ]
    },
    {
     "name": "stdout",
     "output_type": "stream",
     "text": [
      "Epoch 1/17, Train Loss: 0.0466, Test Loss: 0.0215\n",
      "Epoch 2/17, Train Loss: 0.0258, Test Loss: 0.0194\n",
      "Epoch 3/17, Train Loss: 0.0229, Test Loss: 0.0235\n",
      "Epoch 4/17, Train Loss: 0.0215, Test Loss: 0.0174\n",
      "Epoch 5/17, Train Loss: 0.0206, Test Loss: 0.0178\n",
      "Epoch 6/17, Train Loss: 0.0198, Test Loss: 0.0166\n",
      "Epoch 7/17, Train Loss: 0.0193, Test Loss: 0.0167\n",
      "Epoch 8/17, Train Loss: 0.0186, Test Loss: 0.0165\n",
      "Epoch 9/17, Train Loss: 0.0182, Test Loss: 0.0163\n",
      "Epoch 10/17, Train Loss: 0.0180, Test Loss: 0.0166\n",
      "Epoch 11/17, Train Loss: 0.0178, Test Loss: 0.0190\n",
      "Epoch 12/17, Train Loss: 0.0176, Test Loss: 0.0155\n",
      "Epoch 13/17, Train Loss: 0.0171, Test Loss: 0.0155\n",
      "Epoch 14/17, Train Loss: 0.0171, Test Loss: 0.0162\n",
      "Epoch 15/17, Train Loss: 0.0168, Test Loss: 0.0152\n",
      "Epoch 16/17, Train Loss: 0.0166, Test Loss: 0.0156\n"
     ]
    },
    {
     "name": "stderr",
     "output_type": "stream",
     "text": [
      "[I 2025-03-19 11:20:13,604] Trial 78 finished with value: 0.01565391561234719 and parameters: {'num_hidden_layers': 4, 'layer_0_size': 50, 'layer_1_size': 51, 'layer_2_size': 48, 'layer_3_size': 45, 'dropout_rate': 0.1549738573129308, 'learning_rate': 0.000989367784796251, 'batch_size': 32, 'epochs': 17}. Best is trial 63 with value: 0.014728515408933163.\n"
     ]
    },
    {
     "name": "stdout",
     "output_type": "stream",
     "text": [
      "Epoch 17/17, Train Loss: 0.0167, Test Loss: 0.0157\n"
     ]
    },
    {
     "name": "stderr",
     "output_type": "stream",
     "text": [
      "/var/folders/nd/fsmv2lz93k3_cjwz_1lx75j80000gn/T/ipykernel_10068/679006939.py:36: FutureWarning: suggest_uniform has been deprecated in v3.0.0. This feature will be removed in v6.0.0. See https://github.com/optuna/optuna/releases/tag/v3.0.0. Use suggest_float instead.\n",
      "  dropout_rate = trial.suggest_uniform('dropout_rate', 0.1, 0.5)\n",
      "/var/folders/nd/fsmv2lz93k3_cjwz_1lx75j80000gn/T/ipykernel_10068/679006939.py:37: FutureWarning: suggest_loguniform has been deprecated in v3.0.0. This feature will be removed in v6.0.0. See https://github.com/optuna/optuna/releases/tag/v3.0.0. Use suggest_float(..., log=True) instead.\n",
      "  learning_rate = trial.suggest_loguniform('learning_rate', 1e-5, 1e-2)\n"
     ]
    },
    {
     "name": "stdout",
     "output_type": "stream",
     "text": [
      "Epoch 1/19, Train Loss: 0.0572, Test Loss: 0.0249\n",
      "Epoch 2/19, Train Loss: 0.0301, Test Loss: 0.0227\n",
      "Epoch 3/19, Train Loss: 0.0271, Test Loss: 0.0203\n",
      "Epoch 4/19, Train Loss: 0.0250, Test Loss: 0.0194\n",
      "Epoch 5/19, Train Loss: 0.0229, Test Loss: 0.0191\n",
      "Epoch 6/19, Train Loss: 0.0220, Test Loss: 0.0183\n",
      "Epoch 7/19, Train Loss: 0.0208, Test Loss: 0.0199\n",
      "Epoch 8/19, Train Loss: 0.0201, Test Loss: 0.0171\n",
      "Epoch 9/19, Train Loss: 0.0197, Test Loss: 0.0171\n",
      "Epoch 10/19, Train Loss: 0.0190, Test Loss: 0.0177\n",
      "Epoch 11/19, Train Loss: 0.0187, Test Loss: 0.0182\n",
      "Epoch 12/19, Train Loss: 0.0184, Test Loss: 0.0165\n",
      "Epoch 13/19, Train Loss: 0.0183, Test Loss: 0.0164\n",
      "Epoch 14/19, Train Loss: 0.0180, Test Loss: 0.0161\n",
      "Epoch 15/19, Train Loss: 0.0178, Test Loss: 0.0160\n",
      "Epoch 16/19, Train Loss: 0.0175, Test Loss: 0.0160\n",
      "Epoch 17/19, Train Loss: 0.0175, Test Loss: 0.0156\n",
      "Epoch 18/19, Train Loss: 0.0174, Test Loss: 0.0155\n"
     ]
    },
    {
     "name": "stderr",
     "output_type": "stream",
     "text": [
      "[I 2025-03-19 11:20:18,749] Trial 79 finished with value: 0.01686827658340917 and parameters: {'num_hidden_layers': 3, 'layer_0_size': 56, 'layer_1_size': 44, 'layer_2_size': 40, 'dropout_rate': 0.17774857602288302, 'learning_rate': 0.0005392770814042141, 'batch_size': 32, 'epochs': 19}. Best is trial 63 with value: 0.014728515408933163.\n"
     ]
    },
    {
     "name": "stdout",
     "output_type": "stream",
     "text": [
      "Epoch 19/19, Train Loss: 0.0170, Test Loss: 0.0169\n"
     ]
    },
    {
     "name": "stderr",
     "output_type": "stream",
     "text": [
      "/var/folders/nd/fsmv2lz93k3_cjwz_1lx75j80000gn/T/ipykernel_10068/679006939.py:36: FutureWarning: suggest_uniform has been deprecated in v3.0.0. This feature will be removed in v6.0.0. See https://github.com/optuna/optuna/releases/tag/v3.0.0. Use suggest_float instead.\n",
      "  dropout_rate = trial.suggest_uniform('dropout_rate', 0.1, 0.5)\n",
      "/var/folders/nd/fsmv2lz93k3_cjwz_1lx75j80000gn/T/ipykernel_10068/679006939.py:37: FutureWarning: suggest_loguniform has been deprecated in v3.0.0. This feature will be removed in v6.0.0. See https://github.com/optuna/optuna/releases/tag/v3.0.0. Use suggest_float(..., log=True) instead.\n",
      "  learning_rate = trial.suggest_loguniform('learning_rate', 1e-5, 1e-2)\n"
     ]
    },
    {
     "name": "stdout",
     "output_type": "stream",
     "text": [
      "Epoch 1/8, Train Loss: 0.0783, Test Loss: 0.0263\n",
      "Epoch 2/8, Train Loss: 0.0337, Test Loss: 0.0305\n",
      "Epoch 3/8, Train Loss: 0.0305, Test Loss: 0.0254\n",
      "Epoch 4/8, Train Loss: 0.0286, Test Loss: 0.0226\n",
      "Epoch 5/8, Train Loss: 0.0269, Test Loss: 0.0222\n",
      "Epoch 6/8, Train Loss: 0.0261, Test Loss: 0.0204\n",
      "Epoch 7/8, Train Loss: 0.0252, Test Loss: 0.0210\n"
     ]
    },
    {
     "name": "stderr",
     "output_type": "stream",
     "text": [
      "[I 2025-03-19 11:20:22,059] Trial 80 finished with value: 0.020503047166130273 and parameters: {'num_hidden_layers': 6, 'layer_0_size': 61, 'layer_1_size': 56, 'layer_2_size': 42, 'layer_3_size': 34, 'layer_4_size': 47, 'layer_5_size': 36, 'dropout_rate': 0.13216381301488186, 'learning_rate': 0.00024351273776530545, 'batch_size': 32, 'epochs': 8}. Best is trial 63 with value: 0.014728515408933163.\n"
     ]
    },
    {
     "name": "stdout",
     "output_type": "stream",
     "text": [
      "Epoch 8/8, Train Loss: 0.0249, Test Loss: 0.0205\n"
     ]
    },
    {
     "name": "stderr",
     "output_type": "stream",
     "text": [
      "/var/folders/nd/fsmv2lz93k3_cjwz_1lx75j80000gn/T/ipykernel_10068/679006939.py:36: FutureWarning: suggest_uniform has been deprecated in v3.0.0. This feature will be removed in v6.0.0. See https://github.com/optuna/optuna/releases/tag/v3.0.0. Use suggest_float instead.\n",
      "  dropout_rate = trial.suggest_uniform('dropout_rate', 0.1, 0.5)\n",
      "/var/folders/nd/fsmv2lz93k3_cjwz_1lx75j80000gn/T/ipykernel_10068/679006939.py:37: FutureWarning: suggest_loguniform has been deprecated in v3.0.0. This feature will be removed in v6.0.0. See https://github.com/optuna/optuna/releases/tag/v3.0.0. Use suggest_float(..., log=True) instead.\n",
      "  learning_rate = trial.suggest_loguniform('learning_rate', 1e-5, 1e-2)\n"
     ]
    },
    {
     "name": "stdout",
     "output_type": "stream",
     "text": [
      "Epoch 1/18, Train Loss: 0.0337, Test Loss: 0.0218\n",
      "Epoch 2/18, Train Loss: 0.0228, Test Loss: 0.0189\n",
      "Epoch 3/18, Train Loss: 0.0206, Test Loss: 0.0180\n",
      "Epoch 4/18, Train Loss: 0.0195, Test Loss: 0.0221\n",
      "Epoch 5/18, Train Loss: 0.0186, Test Loss: 0.0174\n",
      "Epoch 6/18, Train Loss: 0.0181, Test Loss: 0.0167\n",
      "Epoch 7/18, Train Loss: 0.0177, Test Loss: 0.0165\n",
      "Epoch 8/18, Train Loss: 0.0173, Test Loss: 0.0161\n",
      "Epoch 9/18, Train Loss: 0.0171, Test Loss: 0.0163\n",
      "Epoch 10/18, Train Loss: 0.0168, Test Loss: 0.0166\n",
      "Epoch 11/18, Train Loss: 0.0167, Test Loss: 0.0157\n",
      "Epoch 12/18, Train Loss: 0.0163, Test Loss: 0.0172\n",
      "Epoch 13/18, Train Loss: 0.0164, Test Loss: 0.0155\n",
      "Epoch 14/18, Train Loss: 0.0162, Test Loss: 0.0151\n",
      "Epoch 15/18, Train Loss: 0.0163, Test Loss: 0.0151\n",
      "Epoch 16/18, Train Loss: 0.0161, Test Loss: 0.0149\n",
      "Epoch 17/18, Train Loss: 0.0159, Test Loss: 0.0163\n"
     ]
    },
    {
     "name": "stderr",
     "output_type": "stream",
     "text": [
      "[I 2025-03-19 11:20:26,683] Trial 81 finished with value: 0.016565398007514887 and parameters: {'num_hidden_layers': 3, 'layer_0_size': 59, 'layer_1_size': 32, 'layer_2_size': 57, 'dropout_rate': 0.11509554098892619, 'learning_rate': 0.0015678145773726437, 'batch_size': 32, 'epochs': 18}. Best is trial 63 with value: 0.014728515408933163.\n"
     ]
    },
    {
     "name": "stdout",
     "output_type": "stream",
     "text": [
      "Epoch 18/18, Train Loss: 0.0159, Test Loss: 0.0166\n"
     ]
    },
    {
     "name": "stderr",
     "output_type": "stream",
     "text": [
      "/var/folders/nd/fsmv2lz93k3_cjwz_1lx75j80000gn/T/ipykernel_10068/679006939.py:36: FutureWarning: suggest_uniform has been deprecated in v3.0.0. This feature will be removed in v6.0.0. See https://github.com/optuna/optuna/releases/tag/v3.0.0. Use suggest_float instead.\n",
      "  dropout_rate = trial.suggest_uniform('dropout_rate', 0.1, 0.5)\n",
      "/var/folders/nd/fsmv2lz93k3_cjwz_1lx75j80000gn/T/ipykernel_10068/679006939.py:37: FutureWarning: suggest_loguniform has been deprecated in v3.0.0. This feature will be removed in v6.0.0. See https://github.com/optuna/optuna/releases/tag/v3.0.0. Use suggest_float(..., log=True) instead.\n",
      "  learning_rate = trial.suggest_loguniform('learning_rate', 1e-5, 1e-2)\n"
     ]
    },
    {
     "name": "stdout",
     "output_type": "stream",
     "text": [
      "Epoch 1/17, Train Loss: 0.0377, Test Loss: 0.0219\n",
      "Epoch 2/17, Train Loss: 0.0244, Test Loss: 0.0195\n",
      "Epoch 3/17, Train Loss: 0.0212, Test Loss: 0.0182\n",
      "Epoch 4/17, Train Loss: 0.0204, Test Loss: 0.0179\n",
      "Epoch 5/17, Train Loss: 0.0193, Test Loss: 0.0176\n",
      "Epoch 6/17, Train Loss: 0.0187, Test Loss: 0.0178\n",
      "Epoch 7/17, Train Loss: 0.0186, Test Loss: 0.0177\n",
      "Epoch 8/17, Train Loss: 0.0180, Test Loss: 0.0162\n",
      "Epoch 9/17, Train Loss: 0.0180, Test Loss: 0.0164\n",
      "Epoch 10/17, Train Loss: 0.0177, Test Loss: 0.0163\n",
      "Epoch 11/17, Train Loss: 0.0175, Test Loss: 0.0160\n",
      "Epoch 12/17, Train Loss: 0.0173, Test Loss: 0.0166\n",
      "Epoch 13/17, Train Loss: 0.0173, Test Loss: 0.0165\n",
      "Epoch 14/17, Train Loss: 0.0171, Test Loss: 0.0158\n",
      "Epoch 15/17, Train Loss: 0.0172, Test Loss: 0.0156\n",
      "Epoch 16/17, Train Loss: 0.0167, Test Loss: 0.0159\n"
     ]
    },
    {
     "name": "stderr",
     "output_type": "stream",
     "text": [
      "[I 2025-03-19 11:20:33,192] Trial 82 finished with value: 0.01591667458342272 and parameters: {'num_hidden_layers': 5, 'layer_0_size': 39, 'layer_1_size': 42, 'layer_2_size': 50, 'layer_3_size': 42, 'layer_4_size': 41, 'dropout_rate': 0.1521896467013749, 'learning_rate': 0.0013289057927717588, 'batch_size': 32, 'epochs': 17}. Best is trial 63 with value: 0.014728515408933163.\n"
     ]
    },
    {
     "name": "stdout",
     "output_type": "stream",
     "text": [
      "Epoch 17/17, Train Loss: 0.0168, Test Loss: 0.0159\n"
     ]
    },
    {
     "name": "stderr",
     "output_type": "stream",
     "text": [
      "/var/folders/nd/fsmv2lz93k3_cjwz_1lx75j80000gn/T/ipykernel_10068/679006939.py:36: FutureWarning: suggest_uniform has been deprecated in v3.0.0. This feature will be removed in v6.0.0. See https://github.com/optuna/optuna/releases/tag/v3.0.0. Use suggest_float instead.\n",
      "  dropout_rate = trial.suggest_uniform('dropout_rate', 0.1, 0.5)\n",
      "/var/folders/nd/fsmv2lz93k3_cjwz_1lx75j80000gn/T/ipykernel_10068/679006939.py:37: FutureWarning: suggest_loguniform has been deprecated in v3.0.0. This feature will be removed in v6.0.0. See https://github.com/optuna/optuna/releases/tag/v3.0.0. Use suggest_float(..., log=True) instead.\n",
      "  learning_rate = trial.suggest_loguniform('learning_rate', 1e-5, 1e-2)\n"
     ]
    },
    {
     "name": "stdout",
     "output_type": "stream",
     "text": [
      "Epoch 1/16, Train Loss: 0.0340, Test Loss: 0.0219\n",
      "Epoch 2/16, Train Loss: 0.0219, Test Loss: 0.0212\n",
      "Epoch 3/16, Train Loss: 0.0204, Test Loss: 0.0181\n",
      "Epoch 4/16, Train Loss: 0.0191, Test Loss: 0.0189\n",
      "Epoch 5/16, Train Loss: 0.0189, Test Loss: 0.0187\n",
      "Epoch 6/16, Train Loss: 0.0185, Test Loss: 0.0185\n",
      "Epoch 7/16, Train Loss: 0.0179, Test Loss: 0.0174\n",
      "Epoch 8/16, Train Loss: 0.0177, Test Loss: 0.0163\n",
      "Epoch 9/16, Train Loss: 0.0172, Test Loss: 0.0166\n",
      "Epoch 10/16, Train Loss: 0.0172, Test Loss: 0.0166\n",
      "Epoch 11/16, Train Loss: 0.0169, Test Loss: 0.0178\n",
      "Epoch 12/16, Train Loss: 0.0168, Test Loss: 0.0156\n",
      "Epoch 13/16, Train Loss: 0.0167, Test Loss: 0.0153\n",
      "Epoch 14/16, Train Loss: 0.0166, Test Loss: 0.0160\n",
      "Epoch 15/16, Train Loss: 0.0163, Test Loss: 0.0159\n"
     ]
    },
    {
     "name": "stderr",
     "output_type": "stream",
     "text": [
      "[I 2025-03-19 11:20:38,403] Trial 83 finished with value: 0.015232126959745074 and parameters: {'num_hidden_layers': 4, 'layer_0_size': 37, 'layer_1_size': 19, 'layer_2_size': 47, 'layer_3_size': 48, 'dropout_rate': 0.10064818771765255, 'learning_rate': 0.0019261674865991706, 'batch_size': 32, 'epochs': 16}. Best is trial 63 with value: 0.014728515408933163.\n"
     ]
    },
    {
     "name": "stdout",
     "output_type": "stream",
     "text": [
      "Epoch 16/16, Train Loss: 0.0163, Test Loss: 0.0152\n"
     ]
    },
    {
     "name": "stderr",
     "output_type": "stream",
     "text": [
      "/var/folders/nd/fsmv2lz93k3_cjwz_1lx75j80000gn/T/ipykernel_10068/679006939.py:36: FutureWarning: suggest_uniform has been deprecated in v3.0.0. This feature will be removed in v6.0.0. See https://github.com/optuna/optuna/releases/tag/v3.0.0. Use suggest_float instead.\n",
      "  dropout_rate = trial.suggest_uniform('dropout_rate', 0.1, 0.5)\n",
      "/var/folders/nd/fsmv2lz93k3_cjwz_1lx75j80000gn/T/ipykernel_10068/679006939.py:37: FutureWarning: suggest_loguniform has been deprecated in v3.0.0. This feature will be removed in v6.0.0. See https://github.com/optuna/optuna/releases/tag/v3.0.0. Use suggest_float(..., log=True) instead.\n",
      "  learning_rate = trial.suggest_loguniform('learning_rate', 1e-5, 1e-2)\n"
     ]
    },
    {
     "name": "stdout",
     "output_type": "stream",
     "text": [
      "Epoch 1/16, Train Loss: 0.0336, Test Loss: 0.0218\n",
      "Epoch 2/16, Train Loss: 0.0225, Test Loss: 0.0201\n",
      "Epoch 3/16, Train Loss: 0.0207, Test Loss: 0.0197\n",
      "Epoch 4/16, Train Loss: 0.0193, Test Loss: 0.0173\n",
      "Epoch 5/16, Train Loss: 0.0190, Test Loss: 0.0184\n",
      "Epoch 6/16, Train Loss: 0.0188, Test Loss: 0.0169\n",
      "Epoch 7/16, Train Loss: 0.0179, Test Loss: 0.0176\n",
      "Epoch 8/16, Train Loss: 0.0179, Test Loss: 0.0169\n",
      "Epoch 9/16, Train Loss: 0.0178, Test Loss: 0.0176\n",
      "Epoch 10/16, Train Loss: 0.0176, Test Loss: 0.0179\n",
      "Epoch 11/16, Train Loss: 0.0176, Test Loss: 0.0159\n",
      "Epoch 12/16, Train Loss: 0.0177, Test Loss: 0.0164\n",
      "Epoch 13/16, Train Loss: 0.0174, Test Loss: 0.0166\n",
      "Epoch 14/16, Train Loss: 0.0176, Test Loss: 0.0156\n",
      "Epoch 15/16, Train Loss: 0.0176, Test Loss: 0.0160\n"
     ]
    },
    {
     "name": "stderr",
     "output_type": "stream",
     "text": [
      "[I 2025-03-19 11:20:43,318] Trial 84 finished with value: 0.016987917661026586 and parameters: {'num_hidden_layers': 4, 'layer_0_size': 36, 'layer_1_size': 19, 'layer_2_size': 46, 'layer_3_size': 49, 'dropout_rate': 0.10831614906882268, 'learning_rate': 0.0036024763212894766, 'batch_size': 32, 'epochs': 16}. Best is trial 63 with value: 0.014728515408933163.\n"
     ]
    },
    {
     "name": "stdout",
     "output_type": "stream",
     "text": [
      "Epoch 16/16, Train Loss: 0.0173, Test Loss: 0.0170\n"
     ]
    },
    {
     "name": "stderr",
     "output_type": "stream",
     "text": [
      "/var/folders/nd/fsmv2lz93k3_cjwz_1lx75j80000gn/T/ipykernel_10068/679006939.py:36: FutureWarning: suggest_uniform has been deprecated in v3.0.0. This feature will be removed in v6.0.0. See https://github.com/optuna/optuna/releases/tag/v3.0.0. Use suggest_float instead.\n",
      "  dropout_rate = trial.suggest_uniform('dropout_rate', 0.1, 0.5)\n",
      "/var/folders/nd/fsmv2lz93k3_cjwz_1lx75j80000gn/T/ipykernel_10068/679006939.py:37: FutureWarning: suggest_loguniform has been deprecated in v3.0.0. This feature will be removed in v6.0.0. See https://github.com/optuna/optuna/releases/tag/v3.0.0. Use suggest_float(..., log=True) instead.\n",
      "  learning_rate = trial.suggest_loguniform('learning_rate', 1e-5, 1e-2)\n"
     ]
    },
    {
     "name": "stdout",
     "output_type": "stream",
     "text": [
      "Epoch 1/15, Train Loss: 0.0318, Test Loss: 0.0201\n",
      "Epoch 2/15, Train Loss: 0.0217, Test Loss: 0.0179\n",
      "Epoch 3/15, Train Loss: 0.0198, Test Loss: 0.0175\n",
      "Epoch 4/15, Train Loss: 0.0192, Test Loss: 0.0173\n",
      "Epoch 5/15, Train Loss: 0.0183, Test Loss: 0.0173\n",
      "Epoch 6/15, Train Loss: 0.0180, Test Loss: 0.0171\n",
      "Epoch 7/15, Train Loss: 0.0174, Test Loss: 0.0167\n",
      "Epoch 8/15, Train Loss: 0.0171, Test Loss: 0.0153\n",
      "Epoch 9/15, Train Loss: 0.0170, Test Loss: 0.0160\n",
      "Epoch 10/15, Train Loss: 0.0167, Test Loss: 0.0156\n",
      "Epoch 11/15, Train Loss: 0.0166, Test Loss: 0.0151\n",
      "Epoch 12/15, Train Loss: 0.0163, Test Loss: 0.0154\n",
      "Epoch 13/15, Train Loss: 0.0164, Test Loss: 0.0159\n",
      "Epoch 14/15, Train Loss: 0.0161, Test Loss: 0.0149\n"
     ]
    },
    {
     "name": "stderr",
     "output_type": "stream",
     "text": [
      "[I 2025-03-19 11:20:48,375] Trial 85 finished with value: 0.014225573140720371 and parameters: {'num_hidden_layers': 4, 'layer_0_size': 63, 'layer_1_size': 45, 'layer_2_size': 44, 'layer_3_size': 55, 'dropout_rate': 0.10133800940868326, 'learning_rate': 0.0019306007440253094, 'batch_size': 32, 'epochs': 15}. Best is trial 85 with value: 0.014225573140720371.\n"
     ]
    },
    {
     "name": "stdout",
     "output_type": "stream",
     "text": [
      "Epoch 15/15, Train Loss: 0.0160, Test Loss: 0.0142\n",
      "Epoch 1/15, Train Loss: 0.0495, Test Loss: 0.0234\n"
     ]
    },
    {
     "name": "stderr",
     "output_type": "stream",
     "text": [
      "/var/folders/nd/fsmv2lz93k3_cjwz_1lx75j80000gn/T/ipykernel_10068/679006939.py:36: FutureWarning: suggest_uniform has been deprecated in v3.0.0. This feature will be removed in v6.0.0. See https://github.com/optuna/optuna/releases/tag/v3.0.0. Use suggest_float instead.\n",
      "  dropout_rate = trial.suggest_uniform('dropout_rate', 0.1, 0.5)\n",
      "/var/folders/nd/fsmv2lz93k3_cjwz_1lx75j80000gn/T/ipykernel_10068/679006939.py:37: FutureWarning: suggest_loguniform has been deprecated in v3.0.0. This feature will be removed in v6.0.0. See https://github.com/optuna/optuna/releases/tag/v3.0.0. Use suggest_float(..., log=True) instead.\n",
      "  learning_rate = trial.suggest_loguniform('learning_rate', 1e-5, 1e-2)\n"
     ]
    },
    {
     "name": "stdout",
     "output_type": "stream",
     "text": [
      "Epoch 2/15, Train Loss: 0.0270, Test Loss: 0.0226\n",
      "Epoch 3/15, Train Loss: 0.0238, Test Loss: 0.0193\n",
      "Epoch 4/15, Train Loss: 0.0221, Test Loss: 0.0186\n",
      "Epoch 5/15, Train Loss: 0.0210, Test Loss: 0.0179\n",
      "Epoch 6/15, Train Loss: 0.0202, Test Loss: 0.0173\n",
      "Epoch 7/15, Train Loss: 0.0198, Test Loss: 0.0176\n",
      "Epoch 8/15, Train Loss: 0.0194, Test Loss: 0.0177\n",
      "Epoch 9/15, Train Loss: 0.0187, Test Loss: 0.0174\n",
      "Epoch 10/15, Train Loss: 0.0188, Test Loss: 0.0171\n",
      "Epoch 11/15, Train Loss: 0.0184, Test Loss: 0.0164\n",
      "Epoch 12/15, Train Loss: 0.0179, Test Loss: 0.0162\n",
      "Epoch 13/15, Train Loss: 0.0180, Test Loss: 0.0165\n"
     ]
    },
    {
     "name": "stderr",
     "output_type": "stream",
     "text": [
      "[I 2025-03-19 11:20:50,452] Trial 86 finished with value: 0.015896581346169114 and parameters: {'num_hidden_layers': 4, 'layer_0_size': 32, 'layer_1_size': 45, 'layer_2_size': 44, 'layer_3_size': 57, 'dropout_rate': 0.12411206326514537, 'learning_rate': 0.001963411434754069, 'batch_size': 128, 'epochs': 15}. Best is trial 85 with value: 0.014225573140720371.\n"
     ]
    },
    {
     "name": "stdout",
     "output_type": "stream",
     "text": [
      "Epoch 14/15, Train Loss: 0.0173, Test Loss: 0.0161\n",
      "Epoch 15/15, Train Loss: 0.0174, Test Loss: 0.0159\n"
     ]
    },
    {
     "name": "stderr",
     "output_type": "stream",
     "text": [
      "/var/folders/nd/fsmv2lz93k3_cjwz_1lx75j80000gn/T/ipykernel_10068/679006939.py:36: FutureWarning: suggest_uniform has been deprecated in v3.0.0. This feature will be removed in v6.0.0. See https://github.com/optuna/optuna/releases/tag/v3.0.0. Use suggest_float instead.\n",
      "  dropout_rate = trial.suggest_uniform('dropout_rate', 0.1, 0.5)\n",
      "/var/folders/nd/fsmv2lz93k3_cjwz_1lx75j80000gn/T/ipykernel_10068/679006939.py:37: FutureWarning: suggest_loguniform has been deprecated in v3.0.0. This feature will be removed in v6.0.0. See https://github.com/optuna/optuna/releases/tag/v3.0.0. Use suggest_float(..., log=True) instead.\n",
      "  learning_rate = trial.suggest_loguniform('learning_rate', 1e-5, 1e-2)\n"
     ]
    },
    {
     "name": "stdout",
     "output_type": "stream",
     "text": [
      "Epoch 1/14, Train Loss: 0.0282, Test Loss: 0.0188\n",
      "Epoch 2/14, Train Loss: 0.0204, Test Loss: 0.0179\n",
      "Epoch 3/14, Train Loss: 0.0194, Test Loss: 0.0180\n",
      "Epoch 4/14, Train Loss: 0.0188, Test Loss: 0.0170\n",
      "Epoch 5/14, Train Loss: 0.0185, Test Loss: 0.0168\n",
      "Epoch 6/14, Train Loss: 0.0182, Test Loss: 0.0169\n",
      "Epoch 7/14, Train Loss: 0.0180, Test Loss: 0.0182\n",
      "Epoch 8/14, Train Loss: 0.0179, Test Loss: 0.0229\n",
      "Epoch 9/14, Train Loss: 0.0178, Test Loss: 0.0176\n",
      "Epoch 10/14, Train Loss: 0.0179, Test Loss: 0.0162\n",
      "Epoch 11/14, Train Loss: 0.0174, Test Loss: 0.0173\n",
      "Epoch 12/14, Train Loss: 0.0175, Test Loss: 0.0160\n",
      "Epoch 13/14, Train Loss: 0.0171, Test Loss: 0.0197\n"
     ]
    },
    {
     "name": "stderr",
     "output_type": "stream",
     "text": [
      "[I 2025-03-19 11:20:54,449] Trial 87 finished with value: 0.019087805216258857 and parameters: {'num_hidden_layers': 3, 'layer_0_size': 64, 'layer_1_size': 40, 'layer_2_size': 42, 'dropout_rate': 0.10012065549447798, 'learning_rate': 0.005648356522521756, 'batch_size': 32, 'epochs': 14}. Best is trial 85 with value: 0.014225573140720371.\n"
     ]
    },
    {
     "name": "stdout",
     "output_type": "stream",
     "text": [
      "Epoch 14/14, Train Loss: 0.0171, Test Loss: 0.0191\n"
     ]
    },
    {
     "name": "stderr",
     "output_type": "stream",
     "text": [
      "/var/folders/nd/fsmv2lz93k3_cjwz_1lx75j80000gn/T/ipykernel_10068/679006939.py:36: FutureWarning: suggest_uniform has been deprecated in v3.0.0. This feature will be removed in v6.0.0. See https://github.com/optuna/optuna/releases/tag/v3.0.0. Use suggest_float instead.\n",
      "  dropout_rate = trial.suggest_uniform('dropout_rate', 0.1, 0.5)\n",
      "/var/folders/nd/fsmv2lz93k3_cjwz_1lx75j80000gn/T/ipykernel_10068/679006939.py:37: FutureWarning: suggest_loguniform has been deprecated in v3.0.0. This feature will be removed in v6.0.0. See https://github.com/optuna/optuna/releases/tag/v3.0.0. Use suggest_float(..., log=True) instead.\n",
      "  learning_rate = trial.suggest_loguniform('learning_rate', 1e-5, 1e-2)\n"
     ]
    },
    {
     "name": "stdout",
     "output_type": "stream",
     "text": [
      "Epoch 1/14, Train Loss: 0.0310, Test Loss: 0.0242\n",
      "Epoch 2/14, Train Loss: 0.0233, Test Loss: 0.0202\n",
      "Epoch 3/14, Train Loss: 0.0216, Test Loss: 0.0202\n",
      "Epoch 4/14, Train Loss: 0.0213, Test Loss: 0.0187\n",
      "Epoch 5/14, Train Loss: 0.0210, Test Loss: 0.0194\n",
      "Epoch 6/14, Train Loss: 0.0206, Test Loss: 0.0193\n",
      "Epoch 7/14, Train Loss: 0.0205, Test Loss: 0.0182\n",
      "Epoch 8/14, Train Loss: 0.0208, Test Loss: 0.0178\n",
      "Epoch 9/14, Train Loss: 0.0207, Test Loss: 0.0218\n",
      "Epoch 10/14, Train Loss: 0.0201, Test Loss: 0.0188\n",
      "Epoch 11/14, Train Loss: 0.0207, Test Loss: 0.0204\n",
      "Epoch 12/14, Train Loss: 0.0202, Test Loss: 0.0176\n",
      "Epoch 13/14, Train Loss: 0.0197, Test Loss: 0.0183\n"
     ]
    },
    {
     "name": "stderr",
     "output_type": "stream",
     "text": [
      "[I 2025-03-19 11:20:59,926] Trial 88 finished with value: 0.020854300008068094 and parameters: {'num_hidden_layers': 5, 'layer_0_size': 63, 'layer_1_size': 48, 'layer_2_size': 47, 'layer_3_size': 52, 'layer_4_size': 37, 'dropout_rate': 0.1094025379364082, 'learning_rate': 0.00792495198165483, 'batch_size': 32, 'epochs': 14}. Best is trial 85 with value: 0.014225573140720371.\n"
     ]
    },
    {
     "name": "stdout",
     "output_type": "stream",
     "text": [
      "Epoch 14/14, Train Loss: 0.0203, Test Loss: 0.0209\n"
     ]
    },
    {
     "name": "stderr",
     "output_type": "stream",
     "text": [
      "/var/folders/nd/fsmv2lz93k3_cjwz_1lx75j80000gn/T/ipykernel_10068/679006939.py:36: FutureWarning: suggest_uniform has been deprecated in v3.0.0. This feature will be removed in v6.0.0. See https://github.com/optuna/optuna/releases/tag/v3.0.0. Use suggest_float instead.\n",
      "  dropout_rate = trial.suggest_uniform('dropout_rate', 0.1, 0.5)\n",
      "/var/folders/nd/fsmv2lz93k3_cjwz_1lx75j80000gn/T/ipykernel_10068/679006939.py:37: FutureWarning: suggest_loguniform has been deprecated in v3.0.0. This feature will be removed in v6.0.0. See https://github.com/optuna/optuna/releases/tag/v3.0.0. Use suggest_float(..., log=True) instead.\n",
      "  learning_rate = trial.suggest_loguniform('learning_rate', 1e-5, 1e-2)\n"
     ]
    },
    {
     "name": "stdout",
     "output_type": "stream",
     "text": [
      "Epoch 1/13, Train Loss: 0.0300, Test Loss: 0.0200\n",
      "Epoch 2/13, Train Loss: 0.0213, Test Loss: 0.0211\n",
      "Epoch 3/13, Train Loss: 0.0199, Test Loss: 0.0177\n",
      "Epoch 4/13, Train Loss: 0.0186, Test Loss: 0.0171\n",
      "Epoch 5/13, Train Loss: 0.0187, Test Loss: 0.0172\n",
      "Epoch 6/13, Train Loss: 0.0183, Test Loss: 0.0180\n",
      "Epoch 7/13, Train Loss: 0.0184, Test Loss: 0.0168\n",
      "Epoch 8/13, Train Loss: 0.0179, Test Loss: 0.0162\n",
      "Epoch 9/13, Train Loss: 0.0174, Test Loss: 0.0163\n",
      "Epoch 10/13, Train Loss: 0.0175, Test Loss: 0.0169\n",
      "Epoch 11/13, Train Loss: 0.0174, Test Loss: 0.0169\n",
      "Epoch 12/13, Train Loss: 0.0173, Test Loss: 0.0158\n"
     ]
    },
    {
     "name": "stderr",
     "output_type": "stream",
     "text": [
      "[I 2025-03-19 11:21:04,248] Trial 89 finished with value: 0.015664087663026294 and parameters: {'num_hidden_layers': 4, 'layer_0_size': 43, 'layer_1_size': 42, 'layer_2_size': 37, 'layer_3_size': 59, 'dropout_rate': 0.1193495976320874, 'learning_rate': 0.002761392224372942, 'batch_size': 32, 'epochs': 13}. Best is trial 85 with value: 0.014225573140720371.\n"
     ]
    },
    {
     "name": "stdout",
     "output_type": "stream",
     "text": [
      "Epoch 13/13, Train Loss: 0.0172, Test Loss: 0.0157\n"
     ]
    },
    {
     "name": "stderr",
     "output_type": "stream",
     "text": [
      "/var/folders/nd/fsmv2lz93k3_cjwz_1lx75j80000gn/T/ipykernel_10068/679006939.py:36: FutureWarning: suggest_uniform has been deprecated in v3.0.0. This feature will be removed in v6.0.0. See https://github.com/optuna/optuna/releases/tag/v3.0.0. Use suggest_float instead.\n",
      "  dropout_rate = trial.suggest_uniform('dropout_rate', 0.1, 0.5)\n",
      "/var/folders/nd/fsmv2lz93k3_cjwz_1lx75j80000gn/T/ipykernel_10068/679006939.py:37: FutureWarning: suggest_loguniform has been deprecated in v3.0.0. This feature will be removed in v6.0.0. See https://github.com/optuna/optuna/releases/tag/v3.0.0. Use suggest_float(..., log=True) instead.\n",
      "  learning_rate = trial.suggest_loguniform('learning_rate', 1e-5, 1e-2)\n"
     ]
    },
    {
     "name": "stdout",
     "output_type": "stream",
     "text": [
      "Epoch 1/15, Train Loss: 0.0342, Test Loss: 0.0211\n",
      "Epoch 2/15, Train Loss: 0.0231, Test Loss: 0.0202\n",
      "Epoch 3/15, Train Loss: 0.0211, Test Loss: 0.0182\n",
      "Epoch 4/15, Train Loss: 0.0197, Test Loss: 0.0174\n",
      "Epoch 5/15, Train Loss: 0.0190, Test Loss: 0.0176\n",
      "Epoch 6/15, Train Loss: 0.0189, Test Loss: 0.0171\n",
      "Epoch 7/15, Train Loss: 0.0179, Test Loss: 0.0161\n",
      "Epoch 8/15, Train Loss: 0.0177, Test Loss: 0.0177\n",
      "Epoch 9/15, Train Loss: 0.0178, Test Loss: 0.0166\n",
      "Epoch 10/15, Train Loss: 0.0173, Test Loss: 0.0162\n",
      "Epoch 11/15, Train Loss: 0.0172, Test Loss: 0.0158\n",
      "Epoch 12/15, Train Loss: 0.0171, Test Loss: 0.0159\n",
      "Epoch 13/15, Train Loss: 0.0169, Test Loss: 0.0158\n",
      "Epoch 14/15, Train Loss: 0.0168, Test Loss: 0.0161\n"
     ]
    },
    {
     "name": "stderr",
     "output_type": "stream",
     "text": [
      "[I 2025-03-19 11:21:09,152] Trial 90 finished with value: 0.015676369734137552 and parameters: {'num_hidden_layers': 4, 'layer_0_size': 54, 'layer_1_size': 21, 'layer_2_size': 45, 'layer_3_size': 47, 'dropout_rate': 0.12818974672146244, 'learning_rate': 0.0011763560909510027, 'batch_size': 32, 'epochs': 15}. Best is trial 85 with value: 0.014225573140720371.\n"
     ]
    },
    {
     "name": "stdout",
     "output_type": "stream",
     "text": [
      "Epoch 15/15, Train Loss: 0.0165, Test Loss: 0.0157\n"
     ]
    },
    {
     "name": "stderr",
     "output_type": "stream",
     "text": [
      "/var/folders/nd/fsmv2lz93k3_cjwz_1lx75j80000gn/T/ipykernel_10068/679006939.py:36: FutureWarning: suggest_uniform has been deprecated in v3.0.0. This feature will be removed in v6.0.0. See https://github.com/optuna/optuna/releases/tag/v3.0.0. Use suggest_float instead.\n",
      "  dropout_rate = trial.suggest_uniform('dropout_rate', 0.1, 0.5)\n",
      "/var/folders/nd/fsmv2lz93k3_cjwz_1lx75j80000gn/T/ipykernel_10068/679006939.py:37: FutureWarning: suggest_loguniform has been deprecated in v3.0.0. This feature will be removed in v6.0.0. See https://github.com/optuna/optuna/releases/tag/v3.0.0. Use suggest_float(..., log=True) instead.\n",
      "  learning_rate = trial.suggest_loguniform('learning_rate', 1e-5, 1e-2)\n"
     ]
    },
    {
     "name": "stdout",
     "output_type": "stream",
     "text": [
      "Epoch 1/16, Train Loss: 0.0330, Test Loss: 0.0231\n",
      "Epoch 2/16, Train Loss: 0.0227, Test Loss: 0.0192\n",
      "Epoch 3/16, Train Loss: 0.0209, Test Loss: 0.0178\n",
      "Epoch 4/16, Train Loss: 0.0199, Test Loss: 0.0175\n",
      "Epoch 5/16, Train Loss: 0.0186, Test Loss: 0.0187\n",
      "Epoch 6/16, Train Loss: 0.0185, Test Loss: 0.0171\n",
      "Epoch 7/16, Train Loss: 0.0183, Test Loss: 0.0162\n",
      "Epoch 8/16, Train Loss: 0.0177, Test Loss: 0.0167\n",
      "Epoch 9/16, Train Loss: 0.0174, Test Loss: 0.0162\n",
      "Epoch 10/16, Train Loss: 0.0176, Test Loss: 0.0159\n",
      "Epoch 11/16, Train Loss: 0.0169, Test Loss: 0.0158\n",
      "Epoch 12/16, Train Loss: 0.0170, Test Loss: 0.0154\n",
      "Epoch 13/16, Train Loss: 0.0168, Test Loss: 0.0152\n",
      "Epoch 14/16, Train Loss: 0.0167, Test Loss: 0.0155\n",
      "Epoch 15/16, Train Loss: 0.0165, Test Loss: 0.0151\n"
     ]
    },
    {
     "name": "stderr",
     "output_type": "stream",
     "text": [
      "[I 2025-03-19 11:21:13,691] Trial 91 finished with value: 0.015348007269494701 and parameters: {'num_hidden_layers': 3, 'layer_0_size': 61, 'layer_1_size': 43, 'layer_2_size': 49, 'dropout_rate': 0.1446304906457936, 'learning_rate': 0.001711897370206332, 'batch_size': 32, 'epochs': 16}. Best is trial 85 with value: 0.014225573140720371.\n"
     ]
    },
    {
     "name": "stdout",
     "output_type": "stream",
     "text": [
      "Epoch 16/16, Train Loss: 0.0161, Test Loss: 0.0153\n"
     ]
    },
    {
     "name": "stderr",
     "output_type": "stream",
     "text": [
      "/var/folders/nd/fsmv2lz93k3_cjwz_1lx75j80000gn/T/ipykernel_10068/679006939.py:36: FutureWarning: suggest_uniform has been deprecated in v3.0.0. This feature will be removed in v6.0.0. See https://github.com/optuna/optuna/releases/tag/v3.0.0. Use suggest_float instead.\n",
      "  dropout_rate = trial.suggest_uniform('dropout_rate', 0.1, 0.5)\n",
      "/var/folders/nd/fsmv2lz93k3_cjwz_1lx75j80000gn/T/ipykernel_10068/679006939.py:37: FutureWarning: suggest_loguniform has been deprecated in v3.0.0. This feature will be removed in v6.0.0. See https://github.com/optuna/optuna/releases/tag/v3.0.0. Use suggest_float(..., log=True) instead.\n",
      "  learning_rate = trial.suggest_loguniform('learning_rate', 1e-5, 1e-2)\n"
     ]
    },
    {
     "name": "stdout",
     "output_type": "stream",
     "text": [
      "Epoch 1/16, Train Loss: 0.0309, Test Loss: 0.0200\n",
      "Epoch 2/16, Train Loss: 0.0216, Test Loss: 0.0212\n",
      "Epoch 3/16, Train Loss: 0.0199, Test Loss: 0.0175\n",
      "Epoch 4/16, Train Loss: 0.0188, Test Loss: 0.0174\n",
      "Epoch 5/16, Train Loss: 0.0183, Test Loss: 0.0166\n",
      "Epoch 6/16, Train Loss: 0.0179, Test Loss: 0.0164\n",
      "Epoch 7/16, Train Loss: 0.0175, Test Loss: 0.0163\n",
      "Epoch 8/16, Train Loss: 0.0175, Test Loss: 0.0163\n",
      "Epoch 9/16, Train Loss: 0.0170, Test Loss: 0.0159\n",
      "Epoch 10/16, Train Loss: 0.0169, Test Loss: 0.0153\n",
      "Epoch 11/16, Train Loss: 0.0167, Test Loss: 0.0153\n",
      "Epoch 12/16, Train Loss: 0.0166, Test Loss: 0.0161\n",
      "Epoch 13/16, Train Loss: 0.0164, Test Loss: 0.0151\n",
      "Epoch 14/16, Train Loss: 0.0163, Test Loss: 0.0159\n",
      "Epoch 15/16, Train Loss: 0.0165, Test Loss: 0.0149\n"
     ]
    },
    {
     "name": "stderr",
     "output_type": "stream",
     "text": [
      "[I 2025-03-19 11:21:18,247] Trial 92 finished with value: 0.0153849430680566 and parameters: {'num_hidden_layers': 3, 'layer_0_size': 62, 'layer_1_size': 44, 'layer_2_size': 48, 'dropout_rate': 0.14437853000246065, 'learning_rate': 0.0017547870254947505, 'batch_size': 32, 'epochs': 16}. Best is trial 85 with value: 0.014225573140720371.\n"
     ]
    },
    {
     "name": "stdout",
     "output_type": "stream",
     "text": [
      "Epoch 16/16, Train Loss: 0.0160, Test Loss: 0.0154\n"
     ]
    },
    {
     "name": "stderr",
     "output_type": "stream",
     "text": [
      "/var/folders/nd/fsmv2lz93k3_cjwz_1lx75j80000gn/T/ipykernel_10068/679006939.py:36: FutureWarning: suggest_uniform has been deprecated in v3.0.0. This feature will be removed in v6.0.0. See https://github.com/optuna/optuna/releases/tag/v3.0.0. Use suggest_float instead.\n",
      "  dropout_rate = trial.suggest_uniform('dropout_rate', 0.1, 0.5)\n",
      "/var/folders/nd/fsmv2lz93k3_cjwz_1lx75j80000gn/T/ipykernel_10068/679006939.py:37: FutureWarning: suggest_loguniform has been deprecated in v3.0.0. This feature will be removed in v6.0.0. See https://github.com/optuna/optuna/releases/tag/v3.0.0. Use suggest_float(..., log=True) instead.\n",
      "  learning_rate = trial.suggest_loguniform('learning_rate', 1e-5, 1e-2)\n"
     ]
    },
    {
     "name": "stdout",
     "output_type": "stream",
     "text": [
      "Epoch 1/15, Train Loss: 0.0263, Test Loss: 0.0199\n",
      "Epoch 2/15, Train Loss: 0.0204, Test Loss: 0.0193\n",
      "Epoch 3/15, Train Loss: 0.0192, Test Loss: 0.0186\n",
      "Epoch 4/15, Train Loss: 0.0187, Test Loss: 0.0171\n",
      "Epoch 5/15, Train Loss: 0.0182, Test Loss: 0.0166\n",
      "Epoch 6/15, Train Loss: 0.0180, Test Loss: 0.0167\n",
      "Epoch 7/15, Train Loss: 0.0179, Test Loss: 0.0162\n",
      "Epoch 8/15, Train Loss: 0.0173, Test Loss: 0.0173\n",
      "Epoch 9/15, Train Loss: 0.0178, Test Loss: 0.0166\n",
      "Epoch 10/15, Train Loss: 0.0173, Test Loss: 0.0160\n",
      "Epoch 11/15, Train Loss: 0.0175, Test Loss: 0.0163\n",
      "Epoch 12/15, Train Loss: 0.0173, Test Loss: 0.0159\n",
      "Epoch 13/15, Train Loss: 0.0169, Test Loss: 0.0152\n",
      "Epoch 14/15, Train Loss: 0.0173, Test Loss: 0.0154\n"
     ]
    },
    {
     "name": "stderr",
     "output_type": "stream",
     "text": [
      "[I 2025-03-19 11:21:22,392] Trial 93 finished with value: 0.01562795565041597 and parameters: {'num_hidden_layers': 3, 'layer_0_size': 61, 'layer_1_size': 43, 'layer_2_size': 52, 'dropout_rate': 0.1159823709739597, 'learning_rate': 0.0043106674108081095, 'batch_size': 32, 'epochs': 15}. Best is trial 85 with value: 0.014225573140720371.\n"
     ]
    },
    {
     "name": "stdout",
     "output_type": "stream",
     "text": [
      "Epoch 15/15, Train Loss: 0.0167, Test Loss: 0.0156\n"
     ]
    },
    {
     "name": "stderr",
     "output_type": "stream",
     "text": [
      "/var/folders/nd/fsmv2lz93k3_cjwz_1lx75j80000gn/T/ipykernel_10068/679006939.py:36: FutureWarning: suggest_uniform has been deprecated in v3.0.0. This feature will be removed in v6.0.0. See https://github.com/optuna/optuna/releases/tag/v3.0.0. Use suggest_float instead.\n",
      "  dropout_rate = trial.suggest_uniform('dropout_rate', 0.1, 0.5)\n",
      "/var/folders/nd/fsmv2lz93k3_cjwz_1lx75j80000gn/T/ipykernel_10068/679006939.py:37: FutureWarning: suggest_loguniform has been deprecated in v3.0.0. This feature will be removed in v6.0.0. See https://github.com/optuna/optuna/releases/tag/v3.0.0. Use suggest_float(..., log=True) instead.\n",
      "  learning_rate = trial.suggest_loguniform('learning_rate', 1e-5, 1e-2)\n"
     ]
    },
    {
     "name": "stdout",
     "output_type": "stream",
     "text": [
      "Epoch 1/16, Train Loss: 0.0290, Test Loss: 0.0212\n",
      "Epoch 2/16, Train Loss: 0.0211, Test Loss: 0.0183\n",
      "Epoch 3/16, Train Loss: 0.0196, Test Loss: 0.0181\n",
      "Epoch 4/16, Train Loss: 0.0187, Test Loss: 0.0177\n",
      "Epoch 5/16, Train Loss: 0.0182, Test Loss: 0.0166\n",
      "Epoch 6/16, Train Loss: 0.0177, Test Loss: 0.0180\n",
      "Epoch 7/16, Train Loss: 0.0174, Test Loss: 0.0186\n",
      "Epoch 8/16, Train Loss: 0.0171, Test Loss: 0.0182\n",
      "Epoch 9/16, Train Loss: 0.0167, Test Loss: 0.0172\n",
      "Epoch 10/16, Train Loss: 0.0170, Test Loss: 0.0160\n",
      "Epoch 11/16, Train Loss: 0.0166, Test Loss: 0.0160\n",
      "Epoch 12/16, Train Loss: 0.0161, Test Loss: 0.0161\n",
      "Epoch 13/16, Train Loss: 0.0161, Test Loss: 0.0158\n",
      "Epoch 14/16, Train Loss: 0.0159, Test Loss: 0.0150\n",
      "Epoch 15/16, Train Loss: 0.0157, Test Loss: 0.0153\n"
     ]
    },
    {
     "name": "stderr",
     "output_type": "stream",
     "text": [
      "[I 2025-03-19 11:21:26,755] Trial 94 finished with value: 0.014771310135984095 and parameters: {'num_hidden_layers': 3, 'layer_0_size': 63, 'layer_1_size': 41, 'layer_2_size': 43, 'dropout_rate': 0.10804633591396236, 'learning_rate': 0.0024796109994306703, 'batch_size': 32, 'epochs': 16}. Best is trial 85 with value: 0.014225573140720371.\n"
     ]
    },
    {
     "name": "stdout",
     "output_type": "stream",
     "text": [
      "Epoch 16/16, Train Loss: 0.0159, Test Loss: 0.0148\n"
     ]
    },
    {
     "name": "stderr",
     "output_type": "stream",
     "text": [
      "/var/folders/nd/fsmv2lz93k3_cjwz_1lx75j80000gn/T/ipykernel_10068/679006939.py:36: FutureWarning: suggest_uniform has been deprecated in v3.0.0. This feature will be removed in v6.0.0. See https://github.com/optuna/optuna/releases/tag/v3.0.0. Use suggest_float instead.\n",
      "  dropout_rate = trial.suggest_uniform('dropout_rate', 0.1, 0.5)\n",
      "/var/folders/nd/fsmv2lz93k3_cjwz_1lx75j80000gn/T/ipykernel_10068/679006939.py:37: FutureWarning: suggest_loguniform has been deprecated in v3.0.0. This feature will be removed in v6.0.0. See https://github.com/optuna/optuna/releases/tag/v3.0.0. Use suggest_float(..., log=True) instead.\n",
      "  learning_rate = trial.suggest_loguniform('learning_rate', 1e-5, 1e-2)\n"
     ]
    },
    {
     "name": "stdout",
     "output_type": "stream",
     "text": [
      "Epoch 1/15, Train Loss: 0.0284, Test Loss: 0.0199\n",
      "Epoch 2/15, Train Loss: 0.0205, Test Loss: 0.0181\n",
      "Epoch 3/15, Train Loss: 0.0190, Test Loss: 0.0169\n",
      "Epoch 4/15, Train Loss: 0.0182, Test Loss: 0.0186\n",
      "Epoch 5/15, Train Loss: 0.0180, Test Loss: 0.0163\n",
      "Epoch 6/15, Train Loss: 0.0174, Test Loss: 0.0174\n",
      "Epoch 7/15, Train Loss: 0.0173, Test Loss: 0.0159\n",
      "Epoch 8/15, Train Loss: 0.0167, Test Loss: 0.0190\n",
      "Epoch 9/15, Train Loss: 0.0170, Test Loss: 0.0151\n",
      "Epoch 10/15, Train Loss: 0.0168, Test Loss: 0.0154\n",
      "Epoch 11/15, Train Loss: 0.0166, Test Loss: 0.0148\n",
      "Epoch 12/15, Train Loss: 0.0164, Test Loss: 0.0163\n",
      "Epoch 13/15, Train Loss: 0.0163, Test Loss: 0.0163\n",
      "Epoch 14/15, Train Loss: 0.0163, Test Loss: 0.0148\n"
     ]
    },
    {
     "name": "stderr",
     "output_type": "stream",
     "text": [
      "[I 2025-03-19 11:21:30,874] Trial 95 finished with value: 0.014811960452789208 and parameters: {'num_hidden_layers': 3, 'layer_0_size': 63, 'layer_1_size': 39, 'layer_2_size': 41, 'dropout_rate': 0.10597009321439887, 'learning_rate': 0.0034364938172590557, 'batch_size': 32, 'epochs': 15}. Best is trial 85 with value: 0.014225573140720371.\n"
     ]
    },
    {
     "name": "stdout",
     "output_type": "stream",
     "text": [
      "Epoch 15/15, Train Loss: 0.0162, Test Loss: 0.0148\n",
      "Epoch 1/15, Train Loss: 0.0540, Test Loss: 0.0255\n"
     ]
    },
    {
     "name": "stderr",
     "output_type": "stream",
     "text": [
      "/var/folders/nd/fsmv2lz93k3_cjwz_1lx75j80000gn/T/ipykernel_10068/679006939.py:36: FutureWarning: suggest_uniform has been deprecated in v3.0.0. This feature will be removed in v6.0.0. See https://github.com/optuna/optuna/releases/tag/v3.0.0. Use suggest_float instead.\n",
      "  dropout_rate = trial.suggest_uniform('dropout_rate', 0.1, 0.5)\n",
      "/var/folders/nd/fsmv2lz93k3_cjwz_1lx75j80000gn/T/ipykernel_10068/679006939.py:37: FutureWarning: suggest_loguniform has been deprecated in v3.0.0. This feature will be removed in v6.0.0. See https://github.com/optuna/optuna/releases/tag/v3.0.0. Use suggest_float(..., log=True) instead.\n",
      "  learning_rate = trial.suggest_loguniform('learning_rate', 1e-5, 1e-2)\n"
     ]
    },
    {
     "name": "stdout",
     "output_type": "stream",
     "text": [
      "Epoch 2/15, Train Loss: 0.0265, Test Loss: 0.0213\n",
      "Epoch 3/15, Train Loss: 0.0229, Test Loss: 0.0201\n",
      "Epoch 4/15, Train Loss: 0.0215, Test Loss: 0.0188\n",
      "Epoch 5/15, Train Loss: 0.0206, Test Loss: 0.0186\n",
      "Epoch 6/15, Train Loss: 0.0198, Test Loss: 0.0183\n",
      "Epoch 7/15, Train Loss: 0.0192, Test Loss: 0.0175\n",
      "Epoch 8/15, Train Loss: 0.0188, Test Loss: 0.0178\n",
      "Epoch 9/15, Train Loss: 0.0184, Test Loss: 0.0167\n",
      "Epoch 10/15, Train Loss: 0.0180, Test Loss: 0.0165\n",
      "Epoch 11/15, Train Loss: 0.0180, Test Loss: 0.0191\n",
      "Epoch 12/15, Train Loss: 0.0176, Test Loss: 0.0162\n",
      "Epoch 13/15, Train Loss: 0.0173, Test Loss: 0.0162\n"
     ]
    },
    {
     "name": "stderr",
     "output_type": "stream",
     "text": [
      "[I 2025-03-19 11:21:32,592] Trial 96 finished with value: 0.01633711892645806 and parameters: {'num_hidden_layers': 4, 'layer_0_size': 63, 'layer_1_size': 37, 'layer_2_size': 40, 'layer_3_size': 50, 'dropout_rate': 0.10695939563806957, 'learning_rate': 0.0034169219463992344, 'batch_size': 256, 'epochs': 15}. Best is trial 85 with value: 0.014225573140720371.\n"
     ]
    },
    {
     "name": "stdout",
     "output_type": "stream",
     "text": [
      "Epoch 14/15, Train Loss: 0.0170, Test Loss: 0.0158\n",
      "Epoch 15/15, Train Loss: 0.0168, Test Loss: 0.0163\n"
     ]
    },
    {
     "name": "stderr",
     "output_type": "stream",
     "text": [
      "/var/folders/nd/fsmv2lz93k3_cjwz_1lx75j80000gn/T/ipykernel_10068/679006939.py:36: FutureWarning: suggest_uniform has been deprecated in v3.0.0. This feature will be removed in v6.0.0. See https://github.com/optuna/optuna/releases/tag/v3.0.0. Use suggest_float instead.\n",
      "  dropout_rate = trial.suggest_uniform('dropout_rate', 0.1, 0.5)\n",
      "/var/folders/nd/fsmv2lz93k3_cjwz_1lx75j80000gn/T/ipykernel_10068/679006939.py:37: FutureWarning: suggest_loguniform has been deprecated in v3.0.0. This feature will be removed in v6.0.0. See https://github.com/optuna/optuna/releases/tag/v3.0.0. Use suggest_float(..., log=True) instead.\n",
      "  learning_rate = trial.suggest_loguniform('learning_rate', 1e-5, 1e-2)\n"
     ]
    },
    {
     "name": "stdout",
     "output_type": "stream",
     "text": [
      "Epoch 1/12, Train Loss: 0.0340, Test Loss: 0.0216\n",
      "Epoch 2/12, Train Loss: 0.0241, Test Loss: 0.0199\n",
      "Epoch 3/12, Train Loss: 0.0231, Test Loss: 0.0197\n",
      "Epoch 4/12, Train Loss: 0.0216, Test Loss: 0.0264\n",
      "Epoch 5/12, Train Loss: 0.0222, Test Loss: 0.0196\n",
      "Epoch 6/12, Train Loss: 0.0214, Test Loss: 0.0183\n",
      "Epoch 7/12, Train Loss: 0.0210, Test Loss: 0.0188\n",
      "Epoch 8/12, Train Loss: 0.0215, Test Loss: 0.0185\n",
      "Epoch 9/12, Train Loss: 0.0213, Test Loss: 0.0196\n",
      "Epoch 10/12, Train Loss: 0.0208, Test Loss: 0.0207\n",
      "Epoch 11/12, Train Loss: 0.0209, Test Loss: 0.0191\n"
     ]
    },
    {
     "name": "stderr",
     "output_type": "stream",
     "text": [
      "[I 2025-03-19 11:21:36,574] Trial 97 finished with value: 0.017566281760082347 and parameters: {'num_hidden_layers': 4, 'layer_0_size': 64, 'layer_1_size': 41, 'layer_2_size': 38, 'layer_3_size': 63, 'dropout_rate': 0.26191678468843194, 'learning_rate': 0.0045849261392823006, 'batch_size': 32, 'epochs': 12}. Best is trial 85 with value: 0.014225573140720371.\n"
     ]
    },
    {
     "name": "stdout",
     "output_type": "stream",
     "text": [
      "Epoch 12/12, Train Loss: 0.0208, Test Loss: 0.0176\n"
     ]
    },
    {
     "name": "stderr",
     "output_type": "stream",
     "text": [
      "/var/folders/nd/fsmv2lz93k3_cjwz_1lx75j80000gn/T/ipykernel_10068/679006939.py:36: FutureWarning: suggest_uniform has been deprecated in v3.0.0. This feature will be removed in v6.0.0. See https://github.com/optuna/optuna/releases/tag/v3.0.0. Use suggest_float instead.\n",
      "  dropout_rate = trial.suggest_uniform('dropout_rate', 0.1, 0.5)\n",
      "/var/folders/nd/fsmv2lz93k3_cjwz_1lx75j80000gn/T/ipykernel_10068/679006939.py:37: FutureWarning: suggest_loguniform has been deprecated in v3.0.0. This feature will be removed in v6.0.0. See https://github.com/optuna/optuna/releases/tag/v3.0.0. Use suggest_float(..., log=True) instead.\n",
      "  learning_rate = trial.suggest_loguniform('learning_rate', 1e-5, 1e-2)\n"
     ]
    },
    {
     "name": "stdout",
     "output_type": "stream",
     "text": [
      "Epoch 1/14, Train Loss: 0.0284, Test Loss: 0.0202\n",
      "Epoch 2/14, Train Loss: 0.0206, Test Loss: 0.0193\n",
      "Epoch 3/14, Train Loss: 0.0193, Test Loss: 0.0174\n",
      "Epoch 4/14, Train Loss: 0.0184, Test Loss: 0.0174\n",
      "Epoch 5/14, Train Loss: 0.0179, Test Loss: 0.0168\n",
      "Epoch 6/14, Train Loss: 0.0174, Test Loss: 0.0166\n",
      "Epoch 7/14, Train Loss: 0.0171, Test Loss: 0.0157\n",
      "Epoch 8/14, Train Loss: 0.0169, Test Loss: 0.0160\n",
      "Epoch 9/14, Train Loss: 0.0166, Test Loss: 0.0167\n",
      "Epoch 10/14, Train Loss: 0.0165, Test Loss: 0.0154\n",
      "Epoch 11/14, Train Loss: 0.0164, Test Loss: 0.0156\n",
      "Epoch 12/14, Train Loss: 0.0163, Test Loss: 0.0150\n",
      "Epoch 13/14, Train Loss: 0.0160, Test Loss: 0.0156\n"
     ]
    },
    {
     "name": "stderr",
     "output_type": "stream",
     "text": [
      "[I 2025-03-19 11:21:40,154] Trial 98 finished with value: 0.014753200048289727 and parameters: {'num_hidden_layers': 3, 'layer_0_size': 45, 'layer_1_size': 39, 'layer_2_size': 43, 'dropout_rate': 0.10093259788253209, 'learning_rate': 0.0023176653190445126, 'batch_size': 32, 'epochs': 14}. Best is trial 85 with value: 0.014225573140720371.\n"
     ]
    },
    {
     "name": "stdout",
     "output_type": "stream",
     "text": [
      "Epoch 14/14, Train Loss: 0.0159, Test Loss: 0.0148\n"
     ]
    },
    {
     "name": "stderr",
     "output_type": "stream",
     "text": [
      "/var/folders/nd/fsmv2lz93k3_cjwz_1lx75j80000gn/T/ipykernel_10068/679006939.py:36: FutureWarning: suggest_uniform has been deprecated in v3.0.0. This feature will be removed in v6.0.0. See https://github.com/optuna/optuna/releases/tag/v3.0.0. Use suggest_float instead.\n",
      "  dropout_rate = trial.suggest_uniform('dropout_rate', 0.1, 0.5)\n",
      "/var/folders/nd/fsmv2lz93k3_cjwz_1lx75j80000gn/T/ipykernel_10068/679006939.py:37: FutureWarning: suggest_loguniform has been deprecated in v3.0.0. This feature will be removed in v6.0.0. See https://github.com/optuna/optuna/releases/tag/v3.0.0. Use suggest_float(..., log=True) instead.\n",
      "  learning_rate = trial.suggest_loguniform('learning_rate', 1e-5, 1e-2)\n"
     ]
    },
    {
     "name": "stdout",
     "output_type": "stream",
     "text": [
      "Epoch 1/13, Train Loss: 0.0307, Test Loss: 0.0205\n",
      "Epoch 2/13, Train Loss: 0.0214, Test Loss: 0.0181\n",
      "Epoch 3/13, Train Loss: 0.0200, Test Loss: 0.0172\n",
      "Epoch 4/13, Train Loss: 0.0187, Test Loss: 0.0175\n",
      "Epoch 5/13, Train Loss: 0.0182, Test Loss: 0.0196\n",
      "Epoch 6/13, Train Loss: 0.0178, Test Loss: 0.0174\n",
      "Epoch 7/13, Train Loss: 0.0176, Test Loss: 0.0165\n",
      "Epoch 8/13, Train Loss: 0.0171, Test Loss: 0.0202\n",
      "Epoch 9/13, Train Loss: 0.0174, Test Loss: 0.0173\n",
      "Epoch 10/13, Train Loss: 0.0169, Test Loss: 0.0163\n",
      "Epoch 11/13, Train Loss: 0.0168, Test Loss: 0.0156\n",
      "Epoch 12/13, Train Loss: 0.0167, Test Loss: 0.0158\n"
     ]
    },
    {
     "name": "stderr",
     "output_type": "stream",
     "text": [
      "[I 2025-03-19 11:21:43,561] Trial 99 finished with value: 0.015518359949055593 and parameters: {'num_hidden_layers': 3, 'layer_0_size': 41, 'layer_1_size': 35, 'layer_2_size': 41, 'dropout_rate': 0.10062080248495561, 'learning_rate': 0.002451418834371966, 'batch_size': 32, 'epochs': 13}. Best is trial 85 with value: 0.014225573140720371.\n"
     ]
    },
    {
     "name": "stdout",
     "output_type": "stream",
     "text": [
      "Epoch 13/13, Train Loss: 0.0167, Test Loss: 0.0155\n",
      "Best trial:\n",
      "  Value: 0.014225573140720371\n",
      "  Params:\n",
      "    num_hidden_layers: 4\n",
      "    layer_0_size: 63\n",
      "    layer_1_size: 45\n",
      "    layer_2_size: 44\n",
      "    layer_3_size: 55\n",
      "    dropout_rate: 0.10133800940868326\n",
      "    learning_rate: 0.0019306007440253094\n",
      "    batch_size: 32\n",
      "    epochs: 15\n"
     ]
    }
   ],
   "source": [
    "# Creating function for training and evaluating the model\n",
    "def train_and_evaluate_model(model, train_loader, test_loader, criterion, optimizer, epochs):\n",
    "    for epoch in range(epochs):\n",
    "        model.train()\n",
    "        train_loss = 0.0\n",
    "        for inputs, targets in train_loader:\n",
    "            optimizer.zero_grad()\n",
    "            outputs = model(inputs)\n",
    "            loss = criterion(outputs, targets)\n",
    "            loss.backward()\n",
    "            optimizer.step()\n",
    "            train_loss += loss.item()\n",
    "        train_loss /= len(train_loader)\n",
    "        \n",
    "        model.eval()\n",
    "        with torch.no_grad():\n",
    "            test_loss = 0.0\n",
    "            for inputs, targets in test_loader:\n",
    "                outputs = model(inputs)\n",
    "                loss = criterion(outputs, targets)\n",
    "                test_loss += loss.item()\n",
    "            test_loss /= len(test_loader)\n",
    "        \n",
    "        print(f'Epoch {epoch + 1}/{epochs}, Train Loss: {train_loss:.4f}, Test Loss: {test_loss:.4f}')\n",
    "    \n",
    "    return test_loss\n",
    "\n",
    "# Creating function for selection of best hyperparameters \n",
    "def objective(trial):\n",
    "    # Defining hyperparameters\n",
    "    num_hidden_layers = trial.suggest_int('num_hidden_layers', 1, 10)\n",
    "    hidden_layer_sizes = [\n",
    "        trial.suggest_int(f'layer_{i}_size', 16, 64)\n",
    "        for i in range(num_hidden_layers)\n",
    "    ]\n",
    "    dropout_rate = trial.suggest_uniform('dropout_rate', 0.1, 0.5)\n",
    "    learning_rate = trial.suggest_loguniform('learning_rate', 1e-5, 1e-2)\n",
    "    batch_size = trial.suggest_categorical('batch_size', [32, 64, 128, 256])\n",
    "    epochs = trial.suggest_int('epochs', 5, 20)\n",
    "    input_size = 8\n",
    "\n",
    "    prep_df = pd.read_csv('./prep_california_housing.csv')\n",
    "\n",
    "    X = prep_df.iloc[:, :-1].values\n",
    "    y = prep_df.iloc[:, -1].values\n",
    "    y = y.reshape(-1, 1)\n",
    "\n",
    "    # Data normalization\n",
    "    scaler_X = MinMaxScaler()\n",
    "    X_scaled = scaler_X.fit_transform(X)\n",
    "\n",
    "    scaler_y = MinMaxScaler()\n",
    "    y_scaled = scaler_y.fit_transform(y)\n",
    "\n",
    "    # Splitting data into train and test\n",
    "    X_train, X_test, y_train, y_test = train_test_split(X_scaled, y_scaled, test_size=0.2, random_state=42)\n",
    "\n",
    "    # Convertation data to PyTorch tensors\n",
    "    train_features = torch.tensor(X_train, dtype=torch.float32)\n",
    "    test_features = torch.tensor(X_test, dtype=torch.float32)\n",
    "    train_targets = torch.tensor(y_train, dtype=torch.float32)\n",
    "    test_targets = torch.tensor(y_test, dtype=torch.float32)    \n",
    "\n",
    "    # Creating DataLoader\n",
    "    train_data = TensorDataset(train_features, train_targets)\n",
    "    test_data = TensorDataset(test_features, test_targets)\n",
    "\n",
    "    train_loader = DataLoader(dataset=train_data, batch_size=batch_size, shuffle=True)\n",
    "    test_loader = DataLoader(dataset=test_data, batch_size=batch_size, shuffle=False)\n",
    "\n",
    "    # Creating a model and defining of optimizer\n",
    "    model = FlexibleRegressionNN(input_size, hidden_layer_sizes, dropout_rate)\n",
    "    optimizer = optim.Adam(model.parameters(), lr=learning_rate)\n",
    "    criterion = nn.MSELoss()\n",
    "\n",
    "    # Training launch and return the test loss\n",
    "    return train_and_evaluate_model(model, train_loader, test_loader, criterion, optimizer, epochs)\n",
    "\n",
    "# Settings of searching by Optuna\n",
    "study = optuna.create_study(direction='minimize')\n",
    "study.optimize(objective, n_trials=100)\n",
    "\n",
    "# Getting the best hyperparameters\n",
    "print(\"Best trial:\")\n",
    "trial = study.best_trial\n",
    "print(f\"  Value: {trial.value}\")\n",
    "print(\"  Params:\")\n",
    "for key, value in trial.params.items():\n",
    "    print(f\"    {key}: {value}\")"
   ]
  },
  {
   "cell_type": "code",
   "execution_count": 6,
   "metadata": {},
   "outputs": [
    {
     "name": "stdout",
     "output_type": "stream",
     "text": [
      "  Value: 0.014225573140720371\n",
      "  Params:\n",
      "    num_hidden_layers: 4\n",
      "    layer_0_size: 63\n",
      "    layer_1_size: 45\n",
      "    layer_2_size: 44\n",
      "    layer_3_size: 55\n",
      "    dropout_rate: 0.10133800940868326\n",
      "    learning_rate: 0.0019306007440253094\n",
      "    batch_size: 32\n",
      "    epochs: 15\n"
     ]
    }
   ],
   "source": [
    "print(f\"  Value: {trial.value}\")\n",
    "print(\"  Params:\")\n",
    "for key, value in trial.params.items():\n",
    "    print(f\"    {key}: {value}\")"
   ]
  }
 ],
 "metadata": {
  "kernelspec": {
   "display_name": "Python 3",
   "language": "python",
   "name": "python3"
  },
  "language_info": {
   "codemirror_mode": {
    "name": "ipython",
    "version": 3
   },
   "file_extension": ".py",
   "mimetype": "text/x-python",
   "name": "python",
   "nbconvert_exporter": "python",
   "pygments_lexer": "ipython3",
   "version": "3.12.0"
  }
 },
 "nbformat": 4,
 "nbformat_minor": 2
}
