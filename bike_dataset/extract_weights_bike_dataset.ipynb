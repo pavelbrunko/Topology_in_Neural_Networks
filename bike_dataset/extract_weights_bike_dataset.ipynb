{
 "cells": [
  {
   "cell_type": "markdown",
   "metadata": {},
   "source": [
    "# Extract MLP's matrix of weights"
   ]
  },
  {
   "cell_type": "code",
   "execution_count": 63,
   "metadata": {},
   "outputs": [],
   "source": [
    "# Download all needed dependencies\n",
    "# ! pip install git+https://github.com/aimclub/eXplain-NNs &> /dev/null\n",
    "# ! pip install torchmetrics &> /dev/null\n",
    "# ! pip install giotto-ph==0.2.2 &> /dev/null\n",
    "# ! pip install giotto-tda==0.6.0 &> /dev/null\n",
    "# ! pip install umap-learn==0.5.3 &> /dev/null"
   ]
  },
  {
   "cell_type": "code",
   "execution_count": 64,
   "metadata": {},
   "outputs": [],
   "source": [
    "# Importing all necessary libraries\n",
    "import torch\n",
    "import torch.nn as nn\n",
    "import torch.optim as optim\n",
    "from torch.utils.data import DataLoader, TensorDataset\n",
    "from sklearn.model_selection import train_test_split\n",
    "from sklearn.preprocessing import MinMaxScaler\n",
    "import os\n",
    "import eXNN.topology\n",
    "import json\n",
    "\n",
    "import pandas as pd\n",
    "pd.set_option('display.max_columns', 50)\n",
    "import numpy as np\n",
    "import matplotlib.pyplot as plt"
   ]
  },
  {
   "cell_type": "code",
   "execution_count": 65,
   "metadata": {},
   "outputs": [
    {
     "data": {
      "text/html": [
       "<div>\n",
       "<style scoped>\n",
       "    .dataframe tbody tr th:only-of-type {\n",
       "        vertical-align: middle;\n",
       "    }\n",
       "\n",
       "    .dataframe tbody tr th {\n",
       "        vertical-align: top;\n",
       "    }\n",
       "\n",
       "    .dataframe thead th {\n",
       "        text-align: right;\n",
       "    }\n",
       "</style>\n",
       "<table border=\"1\" class=\"dataframe\">\n",
       "  <thead>\n",
       "    <tr style=\"text-align: right;\">\n",
       "      <th></th>\n",
       "      <th>rank(season)</th>\n",
       "      <th>yr</th>\n",
       "      <th>rank(mnth)</th>\n",
       "      <th>rank(hr)</th>\n",
       "      <th>holiday</th>\n",
       "      <th>rank(weekday)</th>\n",
       "      <th>workingday</th>\n",
       "      <th>weathersit</th>\n",
       "      <th>rank(temp)</th>\n",
       "      <th>rank(atemp)</th>\n",
       "      <th>rank(hum)</th>\n",
       "      <th>rank(windspeed)</th>\n",
       "      <th>rank(casual)</th>\n",
       "      <th>rank(registered)</th>\n",
       "      <th>cnt</th>\n",
       "    </tr>\n",
       "  </thead>\n",
       "  <tbody>\n",
       "    <tr>\n",
       "      <th>0</th>\n",
       "      <td>-1.16483</td>\n",
       "      <td>0</td>\n",
       "      <td>-1.737916</td>\n",
       "      <td>-2.035759</td>\n",
       "      <td>0</td>\n",
       "      <td>1.459083</td>\n",
       "      <td>0</td>\n",
       "      <td>1</td>\n",
       "      <td>-1.276942</td>\n",
       "      <td>-0.946560</td>\n",
       "      <td>0.770810</td>\n",
       "      <td>-1.532339</td>\n",
       "      <td>-0.774893</td>\n",
       "      <td>-1.037755</td>\n",
       "      <td>16</td>\n",
       "    </tr>\n",
       "    <tr>\n",
       "      <th>1</th>\n",
       "      <td>-1.16483</td>\n",
       "      <td>0</td>\n",
       "      <td>-1.737916</td>\n",
       "      <td>-1.533273</td>\n",
       "      <td>0</td>\n",
       "      <td>1.459083</td>\n",
       "      <td>0</td>\n",
       "      <td>1</td>\n",
       "      <td>-1.448913</td>\n",
       "      <td>-1.045073</td>\n",
       "      <td>0.734244</td>\n",
       "      <td>-1.532339</td>\n",
       "      <td>-0.356451</td>\n",
       "      <td>-0.699187</td>\n",
       "      <td>40</td>\n",
       "    </tr>\n",
       "    <tr>\n",
       "      <th>2</th>\n",
       "      <td>-1.16483</td>\n",
       "      <td>0</td>\n",
       "      <td>-1.737916</td>\n",
       "      <td>-1.259057</td>\n",
       "      <td>0</td>\n",
       "      <td>1.459083</td>\n",
       "      <td>0</td>\n",
       "      <td>1</td>\n",
       "      <td>-1.448913</td>\n",
       "      <td>-1.045073</td>\n",
       "      <td>0.734244</td>\n",
       "      <td>-1.532339</td>\n",
       "      <td>-0.564583</td>\n",
       "      <td>-0.766063</td>\n",
       "      <td>32</td>\n",
       "    </tr>\n",
       "    <tr>\n",
       "      <th>3</th>\n",
       "      <td>-1.16483</td>\n",
       "      <td>0</td>\n",
       "      <td>-1.737916</td>\n",
       "      <td>-1.059753</td>\n",
       "      <td>0</td>\n",
       "      <td>1.459083</td>\n",
       "      <td>0</td>\n",
       "      <td>1</td>\n",
       "      <td>-1.276942</td>\n",
       "      <td>-0.946560</td>\n",
       "      <td>0.509186</td>\n",
       "      <td>-1.532339</td>\n",
       "      <td>-0.774893</td>\n",
       "      <td>-1.126601</td>\n",
       "      <td>13</td>\n",
       "    </tr>\n",
       "    <tr>\n",
       "      <th>4</th>\n",
       "      <td>-1.16483</td>\n",
       "      <td>0</td>\n",
       "      <td>-1.737916</td>\n",
       "      <td>-0.897469</td>\n",
       "      <td>0</td>\n",
       "      <td>1.459083</td>\n",
       "      <td>0</td>\n",
       "      <td>1</td>\n",
       "      <td>-1.276942</td>\n",
       "      <td>-0.946560</td>\n",
       "      <td>0.509186</td>\n",
       "      <td>-1.532339</td>\n",
       "      <td>-1.690293</td>\n",
       "      <td>-2.448942</td>\n",
       "      <td>1</td>\n",
       "    </tr>\n",
       "    <tr>\n",
       "      <th>...</th>\n",
       "      <td>...</td>\n",
       "      <td>...</td>\n",
       "      <td>...</td>\n",
       "      <td>...</td>\n",
       "      <td>...</td>\n",
       "      <td>...</td>\n",
       "      <td>...</td>\n",
       "      <td>...</td>\n",
       "      <td>...</td>\n",
       "      <td>...</td>\n",
       "      <td>...</td>\n",
       "      <td>...</td>\n",
       "      <td>...</td>\n",
       "      <td>...</td>\n",
       "      <td>...</td>\n",
       "    </tr>\n",
       "    <tr>\n",
       "      <th>17374</th>\n",
       "      <td>-1.16483</td>\n",
       "      <td>1</td>\n",
       "      <td>1.720548</td>\n",
       "      <td>0.883425</td>\n",
       "      <td>0</td>\n",
       "      <td>-0.788204</td>\n",
       "      <td>1</td>\n",
       "      <td>2</td>\n",
       "      <td>-1.117398</td>\n",
       "      <td>-1.152974</td>\n",
       "      <td>-0.121890</td>\n",
       "      <td>-0.127559</td>\n",
       "      <td>-0.204644</td>\n",
       "      <td>-0.057581</td>\n",
       "      <td>119</td>\n",
       "    </tr>\n",
       "    <tr>\n",
       "      <th>17375</th>\n",
       "      <td>-1.16483</td>\n",
       "      <td>1</td>\n",
       "      <td>1.720548</td>\n",
       "      <td>1.051068</td>\n",
       "      <td>0</td>\n",
       "      <td>-0.788204</td>\n",
       "      <td>1</td>\n",
       "      <td>2</td>\n",
       "      <td>-1.117398</td>\n",
       "      <td>-1.152974</td>\n",
       "      <td>-0.121890</td>\n",
       "      <td>-0.127559</td>\n",
       "      <td>-0.356451</td>\n",
       "      <td>-0.265968</td>\n",
       "      <td>89</td>\n",
       "    </tr>\n",
       "    <tr>\n",
       "      <th>17376</th>\n",
       "      <td>-1.16483</td>\n",
       "      <td>1</td>\n",
       "      <td>1.720548</td>\n",
       "      <td>1.255084</td>\n",
       "      <td>0</td>\n",
       "      <td>-0.788204</td>\n",
       "      <td>1</td>\n",
       "      <td>1</td>\n",
       "      <td>-1.117398</td>\n",
       "      <td>-1.152974</td>\n",
       "      <td>-0.121890</td>\n",
       "      <td>-0.127559</td>\n",
       "      <td>-0.417236</td>\n",
       "      <td>-0.250236</td>\n",
       "      <td>90</td>\n",
       "    </tr>\n",
       "    <tr>\n",
       "      <th>17377</th>\n",
       "      <td>-1.16483</td>\n",
       "      <td>1</td>\n",
       "      <td>1.720548</td>\n",
       "      <td>1.531407</td>\n",
       "      <td>0</td>\n",
       "      <td>-0.788204</td>\n",
       "      <td>1</td>\n",
       "      <td>1</td>\n",
       "      <td>-1.117398</td>\n",
       "      <td>-1.045073</td>\n",
       "      <td>-0.276442</td>\n",
       "      <td>-0.384024</td>\n",
       "      <td>-0.119057</td>\n",
       "      <td>-0.537970</td>\n",
       "      <td>61</td>\n",
       "    </tr>\n",
       "    <tr>\n",
       "      <th>17378</th>\n",
       "      <td>-1.16483</td>\n",
       "      <td>1</td>\n",
       "      <td>1.720548</td>\n",
       "      <td>2.034615</td>\n",
       "      <td>0</td>\n",
       "      <td>-0.788204</td>\n",
       "      <td>1</td>\n",
       "      <td>1</td>\n",
       "      <td>-1.117398</td>\n",
       "      <td>-1.045073</td>\n",
       "      <td>0.076084</td>\n",
       "      <td>-0.384024</td>\n",
       "      <td>-0.159620</td>\n",
       "      <td>-0.643619</td>\n",
       "      <td>49</td>\n",
       "    </tr>\n",
       "  </tbody>\n",
       "</table>\n",
       "<p>17379 rows × 15 columns</p>\n",
       "</div>"
      ],
      "text/plain": [
       "       rank(season)  yr  rank(mnth)  rank(hr)  holiday  rank(weekday)  \\\n",
       "0          -1.16483   0   -1.737916 -2.035759        0       1.459083   \n",
       "1          -1.16483   0   -1.737916 -1.533273        0       1.459083   \n",
       "2          -1.16483   0   -1.737916 -1.259057        0       1.459083   \n",
       "3          -1.16483   0   -1.737916 -1.059753        0       1.459083   \n",
       "4          -1.16483   0   -1.737916 -0.897469        0       1.459083   \n",
       "...             ...  ..         ...       ...      ...            ...   \n",
       "17374      -1.16483   1    1.720548  0.883425        0      -0.788204   \n",
       "17375      -1.16483   1    1.720548  1.051068        0      -0.788204   \n",
       "17376      -1.16483   1    1.720548  1.255084        0      -0.788204   \n",
       "17377      -1.16483   1    1.720548  1.531407        0      -0.788204   \n",
       "17378      -1.16483   1    1.720548  2.034615        0      -0.788204   \n",
       "\n",
       "       workingday  weathersit  rank(temp)  rank(atemp)  rank(hum)  \\\n",
       "0               0           1   -1.276942    -0.946560   0.770810   \n",
       "1               0           1   -1.448913    -1.045073   0.734244   \n",
       "2               0           1   -1.448913    -1.045073   0.734244   \n",
       "3               0           1   -1.276942    -0.946560   0.509186   \n",
       "4               0           1   -1.276942    -0.946560   0.509186   \n",
       "...           ...         ...         ...          ...        ...   \n",
       "17374           1           2   -1.117398    -1.152974  -0.121890   \n",
       "17375           1           2   -1.117398    -1.152974  -0.121890   \n",
       "17376           1           1   -1.117398    -1.152974  -0.121890   \n",
       "17377           1           1   -1.117398    -1.045073  -0.276442   \n",
       "17378           1           1   -1.117398    -1.045073   0.076084   \n",
       "\n",
       "       rank(windspeed)  rank(casual)  rank(registered)  cnt  \n",
       "0            -1.532339     -0.774893         -1.037755   16  \n",
       "1            -1.532339     -0.356451         -0.699187   40  \n",
       "2            -1.532339     -0.564583         -0.766063   32  \n",
       "3            -1.532339     -0.774893         -1.126601   13  \n",
       "4            -1.532339     -1.690293         -2.448942    1  \n",
       "...                ...           ...               ...  ...  \n",
       "17374        -0.127559     -0.204644         -0.057581  119  \n",
       "17375        -0.127559     -0.356451         -0.265968   89  \n",
       "17376        -0.127559     -0.417236         -0.250236   90  \n",
       "17377        -0.384024     -0.119057         -0.537970   61  \n",
       "17378        -0.384024     -0.159620         -0.643619   49  \n",
       "\n",
       "[17379 rows x 15 columns]"
      ]
     },
     "execution_count": 65,
     "metadata": {},
     "output_type": "execute_result"
    }
   ],
   "source": [
    "# Read preprocessed bike dataset\n",
    "prep_bike_df = pd.read_csv('./prep_bike_data.csv')\n",
    "prep_bike_df"
   ]
  },
  {
   "cell_type": "code",
   "execution_count": 66,
   "metadata": {},
   "outputs": [],
   "source": [
    "# Create a Full-Connected Neural Network class\n",
    "class MultiLayerPerceptron(nn.Module):\n",
    "    def __init__(self, input_dim: int, output_dim: int) -> None:\n",
    "        super(MultiLayerPerceptron, self).__init__()\n",
    "\n",
    "        self.layer1 = nn.Sequential(\n",
    "            nn.Linear(input_dim, 120),\n",
    "            nn.BatchNorm1d(120),\n",
    "            nn.ReLU(),\n",
    "            nn.Dropout(0.23)\n",
    "        )\n",
    "\n",
    "        self.layer2 = nn.Sequential(\n",
    "            nn.Linear(120, 150),\n",
    "            nn.BatchNorm1d(150),\n",
    "            nn.ReLU(),\n",
    "            nn.Dropout(0.23)\n",
    "        )\n",
    "\n",
    "        self.layer3 = nn.Sequential(\n",
    "            nn.Linear(150, 140),\n",
    "            nn.BatchNorm1d(140),\n",
    "            nn.ReLU(),\n",
    "            nn.Dropout(0.23)\n",
    "        )\n",
    "\n",
    "        self.layer4 = nn.Sequential(\n",
    "            nn.Linear(140, 250),\n",
    "            nn.BatchNorm1d(250),\n",
    "            nn.ReLU(),   \n",
    "            nn.Dropout(0.23)\n",
    "        )\n",
    "\n",
    "        self.layer5 = nn.Sequential(\n",
    "            nn.Linear(250, 120),\n",
    "            nn.BatchNorm1d(120),\n",
    "            nn.ReLU(),\n",
    "            nn.Dropout(0.23)\n",
    "        )\n",
    "    \n",
    "        self.layer6 = nn.Sequential(\n",
    "            nn.Linear(120, output_dim),\n",
    "            # nn.Sigmoid()\n",
    "        )\n",
    "\n",
    "    # Define forward loop for NN\n",
    "    def forward(self, x):\n",
    "        x = nn.Flatten()(x)\n",
    "        x = self.layer1(x)\n",
    "        x = self.layer2(x)\n",
    "        x = self.layer3(x)\n",
    "        x = self.layer4(x)\n",
    "        x = self.layer5(x)\n",
    "        x = self.layer6(x)\n",
    "        return x"
   ]
  },
  {
   "cell_type": "code",
   "execution_count": 67,
   "metadata": {},
   "outputs": [],
   "source": [
    "# Define function for calculation RMSE\n",
    "def root_mean_squared_error(y_true, y_pred):\n",
    "    mse = torch.mean((y_true - y_pred) ** 2)\n",
    "    rmse = torch.sqrt(mse)\n",
    "    return rmse.item()"
   ]
  },
  {
   "cell_type": "code",
   "execution_count": 91,
   "metadata": {},
   "outputs": [],
   "source": [
    "# Define training and evaluating steps\n",
    "def train_and_evaluate_model(model, train_loader, test_loader, criterion, optimizer, scheduler, epochs, test_data, batch, out_dir):\n",
    "    home_dir = f'./bike_output/{out_dir}/weights_graphs_mlp_DataAmount{batch}/barcodes/'\n",
    "    os.makedirs(home_dir)\n",
    "    train_losses = list()\n",
    "    test_losses = list()\n",
    "    rmse_scores = list()\n",
    "    bar_datum = dict()\n",
    "    bar_evaluation = dict()\n",
    "\n",
    "    for epoch in range(epochs):\n",
    "        model.train()\n",
    "        train_loss = 0.0\n",
    "        for inputs, targets in train_loader:\n",
    "            optimizer.zero_grad()\n",
    "            outputs = model(inputs)\n",
    "            loss = criterion(outputs, targets)\n",
    "            loss.backward()\n",
    "            optimizer.step()\n",
    "            train_loss += loss.item()\n",
    "        \n",
    "        train_loss /= len(train_loader)\n",
    "        train_losses.append(train_loss)\n",
    "        \n",
    "        model.eval()\n",
    "        with torch.no_grad():\n",
    "            test_loss = 0.0\n",
    "            all_outputs = list()\n",
    "            all_targets = list()\n",
    "            for inputs, targets in test_loader:\n",
    "                outputs = model(inputs)\n",
    "                loss = criterion(outputs, targets)\n",
    "                test_loss += loss.item()\n",
    "                all_outputs.append(outputs)\n",
    "                all_targets.append(targets)\n",
    "\n",
    "            test_loss /= len(test_loader)\n",
    "            test_losses.append(test_loss)\n",
    "\n",
    "            all_outputs = torch.cat(all_outputs, dim=0)\n",
    "            all_targets = torch.cat(all_targets, dim=0)\n",
    "            rmse_value = root_mean_squared_error(all_targets, all_outputs)\n",
    "            rmse_scores.append(rmse_value)\n",
    "        scheduler.step()\n",
    "\n",
    "        # Applying some TDA methods to study the obtained network\n",
    "        model = model.to(torch.device('cpu'))\n",
    "        data = torch.stack([test_data[i][0] for i in range(100)])\n",
    "        layer_list = ['layer1', 'layer2', 'layer3', 'layer4', 'layer5', 'layer6']\n",
    "        barcodes = eXNN.topology.get_nn_barcodes(model, data, layers=layer_list, hom_type=\"standard\", coefs_type=\"2\")\n",
    "        barcodes_data = dict()\n",
    "        barcodes_eval = dict()\n",
    "        epoch_dir = home_dir + f'epoch{epoch+1}/'\n",
    "        os.makedirs(epoch_dir, exist_ok=True)\n",
    "        for i in range(1, 7):\n",
    "            barcode = barcodes[f'layer{i}']\n",
    "            # Save barcodes' info into the JSON\n",
    "            barcodes_data.setdefault(f'layer{i}', barcode)\n",
    "\n",
    "            # Obtain the barcode after epoch and saving it\n",
    "            bplot = eXNN.topology.plot_barcode(barcode)\n",
    "            save_fig_path = epoch_dir + f'layer{i}_barcode.png'\n",
    "            bplot.savefig(save_fig_path)\n",
    "\n",
    "            # Get and save evaluation for barcode into the JSON\n",
    "            bar_eval = eXNN.topology.evaluate_barcode(barcode)\n",
    "            barcodes_eval.setdefault(f'layer{i}', bar_eval)\n",
    "\n",
    "        bar_datum.setdefault(f'epoch{epoch+1}', barcodes_data)\n",
    "        bar_evaluation.setdefault(f'epoch{epoch+1}', barcodes_eval)\n",
    "\n",
    "        print(f'Epoch {epoch+1}/{epochs}, Train Loss: {train_loss:.4f}, Test Loss: {test_loss:.4f}, RMSE: {rmse_value:.4f}')\n",
    "\n",
    "    # Save dictionaries with barcodes' data and evaluation as JSON files\n",
    "    with open(f'{home_dir}barcode_data.json', 'w', encoding='utf-8') as file:\n",
    "        json.dump(bar_datum, file, indent=4)\n",
    "    \n",
    "    with open(f'{home_dir}barcode_evaluation.json', 'w', encoding='utf-8') as json_eval:\n",
    "        json.dump(bar_evaluation, json_eval, indent=4)\n",
    "\n",
    "    # Get model's weights\n",
    "    model_weights = model.state_dict()\n",
    "\n",
    "    # Loss and MAPE visualisation\n",
    "    fig = plt.figure(figsize=(10, 5))\n",
    "    plt.plot(train_losses, label='Train Loss')\n",
    "    plt.plot(test_losses, label='Test Loss')\n",
    "    plt.plot(rmse_scores, label='RMSE')\n",
    "    plt.title('Loss and RMSE over epochs')\n",
    "    plt.xlabel('Epoch')\n",
    "    plt.ylabel('Metric')\n",
    "    plt.legend()\n",
    "    plt.grid(True)\n",
    "    plt.show()\n",
    "\n",
    "    return fig, model_weights"
   ]
  },
  {
   "cell_type": "code",
   "execution_count": 87,
   "metadata": {},
   "outputs": [],
   "source": [
    "# Define function for training network on non-full data\n",
    "def batch_fit(batch_df, epochs: int, batch: int, out_dir: str):\n",
    "    # Separate data into features and targets\n",
    "    X = batch_df.iloc[:, :-1].values\n",
    "    y = batch_df.iloc[:, -1].values\n",
    "    y = y.reshape(-1, 1)\n",
    "\n",
    "    # Data normalization\n",
    "    scaler_X = MinMaxScaler()\n",
    "    X_scaled = scaler_X.fit_transform(X)\n",
    "\n",
    "    scaler_y = MinMaxScaler()\n",
    "    y_scaled = scaler_y.fit_transform(y)\n",
    "\n",
    "    # Splitting data into train and test\n",
    "    X_train, X_test, y_train, y_test = train_test_split(X_scaled, y_scaled, test_size=0.1, random_state=42)\n",
    "\n",
    "    # Convertation data to PyTorch tensors\n",
    "    train_features = torch.tensor(X_train, dtype=torch.float32)\n",
    "    test_features = torch.tensor(X_test, dtype=torch.float32)\n",
    "    train_targets = torch.tensor(y_train, dtype=torch.float32)\n",
    "    test_targets = torch.tensor(y_test, dtype=torch.float32)    \n",
    "\n",
    "    # Creating DataLoader\n",
    "    train_data = TensorDataset(train_features, train_targets)\n",
    "    test_data = TensorDataset(test_features, test_targets)\n",
    "\n",
    "    train_loader = DataLoader(dataset=train_data, batch_size=64, shuffle=True)\n",
    "    test_loader = DataLoader(dataset=test_data, batch_size=64, shuffle=False)\n",
    "\n",
    "    # Model initialization\n",
    "    model = MultiLayerPerceptron(14, 1)\n",
    "\n",
    "    # Define optimizator and loss function\n",
    "    criterion = nn.MSELoss()\n",
    "    optimizer = optim.Adam(model.parameters(), lr=6.4905716870829137e-05, weight_decay=0.1)\n",
    "    scheduler = torch.optim.lr_scheduler.ExponentialLR(optimizer, gamma=0.96)\n",
    "\n",
    "    # Perform training\n",
    "    fig, model_weights = train_and_evaluate_model(model, train_loader, test_loader, criterion, optimizer, scheduler, epochs, test_data, batch, out_dir)\n",
    "\n",
    "    return fig, model_weights"
   ]
  },
  {
   "cell_type": "code",
   "execution_count": 98,
   "metadata": {},
   "outputs": [
    {
     "name": "stderr",
     "output_type": "stream",
     "text": [
      "/Users/pavel/miniconda3/lib/python3.11/site-packages/eXNN/topology/metrics.py:128: RuntimeWarning:\n",
      "\n",
      "divide by zero encountered in scalar divide\n",
      "\n",
      "/Users/pavel/miniconda3/lib/python3.11/site-packages/eXNN/topology/metrics.py:128: RuntimeWarning:\n",
      "\n",
      "divide by zero encountered in scalar divide\n",
      "\n",
      "/Users/pavel/miniconda3/lib/python3.11/site-packages/eXNN/topology/metrics.py:128: RuntimeWarning:\n",
      "\n",
      "divide by zero encountered in scalar divide\n",
      "\n",
      "/Users/pavel/miniconda3/lib/python3.11/site-packages/eXNN/topology/metrics.py:128: RuntimeWarning:\n",
      "\n",
      "divide by zero encountered in scalar divide\n",
      "\n",
      "/Users/pavel/miniconda3/lib/python3.11/site-packages/eXNN/topology/metrics.py:128: RuntimeWarning:\n",
      "\n",
      "divide by zero encountered in scalar divide\n",
      "\n",
      "/Users/pavel/miniconda3/lib/python3.11/site-packages/eXNN/topology/metrics.py:128: RuntimeWarning:\n",
      "\n",
      "divide by zero encountered in scalar divide\n",
      "\n"
     ]
    },
    {
     "name": "stdout",
     "output_type": "stream",
     "text": [
      "Epoch 1/40, Train Loss: 0.3147, Test Loss: 0.1381, RMSE: 0.3717\n"
     ]
    },
    {
     "name": "stderr",
     "output_type": "stream",
     "text": [
      "/Users/pavel/miniconda3/lib/python3.11/site-packages/eXNN/topology/metrics.py:128: RuntimeWarning:\n",
      "\n",
      "divide by zero encountered in scalar divide\n",
      "\n",
      "/Users/pavel/miniconda3/lib/python3.11/site-packages/eXNN/topology/metrics.py:128: RuntimeWarning:\n",
      "\n",
      "divide by zero encountered in scalar divide\n",
      "\n",
      "/Users/pavel/miniconda3/lib/python3.11/site-packages/eXNN/topology/metrics.py:128: RuntimeWarning:\n",
      "\n",
      "divide by zero encountered in scalar divide\n",
      "\n",
      "/Users/pavel/miniconda3/lib/python3.11/site-packages/eXNN/topology/metrics.py:128: RuntimeWarning:\n",
      "\n",
      "divide by zero encountered in scalar divide\n",
      "\n",
      "/Users/pavel/miniconda3/lib/python3.11/site-packages/eXNN/topology/metrics.py:128: RuntimeWarning:\n",
      "\n",
      "divide by zero encountered in scalar divide\n",
      "\n",
      "/Users/pavel/miniconda3/lib/python3.11/site-packages/eXNN/topology/metrics.py:128: RuntimeWarning:\n",
      "\n",
      "divide by zero encountered in scalar divide\n",
      "\n"
     ]
    },
    {
     "name": "stdout",
     "output_type": "stream",
     "text": [
      "Epoch 2/40, Train Loss: 0.2116, Test Loss: 0.0821, RMSE: 0.2873\n"
     ]
    },
    {
     "name": "stderr",
     "output_type": "stream",
     "text": [
      "/Users/pavel/miniconda3/lib/python3.11/site-packages/eXNN/topology/metrics.py:128: RuntimeWarning:\n",
      "\n",
      "divide by zero encountered in scalar divide\n",
      "\n",
      "/Users/pavel/miniconda3/lib/python3.11/site-packages/eXNN/topology/metrics.py:128: RuntimeWarning:\n",
      "\n",
      "divide by zero encountered in scalar divide\n",
      "\n",
      "/Users/pavel/miniconda3/lib/python3.11/site-packages/eXNN/topology/metrics.py:128: RuntimeWarning:\n",
      "\n",
      "divide by zero encountered in scalar divide\n",
      "\n",
      "/Users/pavel/miniconda3/lib/python3.11/site-packages/eXNN/topology/metrics.py:128: RuntimeWarning:\n",
      "\n",
      "divide by zero encountered in scalar divide\n",
      "\n",
      "/Users/pavel/miniconda3/lib/python3.11/site-packages/eXNN/topology/metrics.py:128: RuntimeWarning:\n",
      "\n",
      "divide by zero encountered in scalar divide\n",
      "\n",
      "/Users/pavel/miniconda3/lib/python3.11/site-packages/eXNN/topology/metrics.py:128: RuntimeWarning:\n",
      "\n",
      "divide by zero encountered in scalar divide\n",
      "\n"
     ]
    },
    {
     "name": "stdout",
     "output_type": "stream",
     "text": [
      "Epoch 3/40, Train Loss: 0.1649, Test Loss: 0.0480, RMSE: 0.2196\n"
     ]
    },
    {
     "name": "stderr",
     "output_type": "stream",
     "text": [
      "/Users/pavel/miniconda3/lib/python3.11/site-packages/eXNN/topology/metrics.py:128: RuntimeWarning:\n",
      "\n",
      "divide by zero encountered in scalar divide\n",
      "\n",
      "/Users/pavel/miniconda3/lib/python3.11/site-packages/eXNN/topology/metrics.py:128: RuntimeWarning:\n",
      "\n",
      "divide by zero encountered in scalar divide\n",
      "\n",
      "/Users/pavel/miniconda3/lib/python3.11/site-packages/eXNN/topology/metrics.py:128: RuntimeWarning:\n",
      "\n",
      "divide by zero encountered in scalar divide\n",
      "\n",
      "/Users/pavel/miniconda3/lib/python3.11/site-packages/eXNN/topology/metrics.py:128: RuntimeWarning:\n",
      "\n",
      "divide by zero encountered in scalar divide\n",
      "\n",
      "/Users/pavel/miniconda3/lib/python3.11/site-packages/eXNN/topology/metrics.py:128: RuntimeWarning:\n",
      "\n",
      "divide by zero encountered in scalar divide\n",
      "\n",
      "/Users/pavel/miniconda3/lib/python3.11/site-packages/eXNN/topology/metrics.py:128: RuntimeWarning:\n",
      "\n",
      "divide by zero encountered in scalar divide\n",
      "\n"
     ]
    },
    {
     "name": "stdout",
     "output_type": "stream",
     "text": [
      "Epoch 4/40, Train Loss: 0.1280, Test Loss: 0.0334, RMSE: 0.1828\n"
     ]
    },
    {
     "name": "stderr",
     "output_type": "stream",
     "text": [
      "/Users/pavel/miniconda3/lib/python3.11/site-packages/eXNN/topology/metrics.py:128: RuntimeWarning:\n",
      "\n",
      "divide by zero encountered in scalar divide\n",
      "\n",
      "/Users/pavel/miniconda3/lib/python3.11/site-packages/eXNN/topology/metrics.py:128: RuntimeWarning:\n",
      "\n",
      "divide by zero encountered in scalar divide\n",
      "\n",
      "/Users/pavel/miniconda3/lib/python3.11/site-packages/eXNN/topology/metrics.py:128: RuntimeWarning:\n",
      "\n",
      "divide by zero encountered in scalar divide\n",
      "\n",
      "/Users/pavel/miniconda3/lib/python3.11/site-packages/eXNN/topology/metrics.py:128: RuntimeWarning:\n",
      "\n",
      "divide by zero encountered in scalar divide\n",
      "\n",
      "/Users/pavel/miniconda3/lib/python3.11/site-packages/eXNN/topology/metrics.py:128: RuntimeWarning:\n",
      "\n",
      "divide by zero encountered in scalar divide\n",
      "\n",
      "/Users/pavel/miniconda3/lib/python3.11/site-packages/eXNN/topology/metrics.py:128: RuntimeWarning:\n",
      "\n",
      "divide by zero encountered in scalar divide\n",
      "\n"
     ]
    },
    {
     "name": "stdout",
     "output_type": "stream",
     "text": [
      "Epoch 5/40, Train Loss: 0.1232, Test Loss: 0.0226, RMSE: 0.1507\n"
     ]
    },
    {
     "name": "stderr",
     "output_type": "stream",
     "text": [
      "/Users/pavel/miniconda3/lib/python3.11/site-packages/eXNN/topology/metrics.py:128: RuntimeWarning:\n",
      "\n",
      "divide by zero encountered in scalar divide\n",
      "\n",
      "/Users/pavel/miniconda3/lib/python3.11/site-packages/eXNN/topology/metrics.py:128: RuntimeWarning:\n",
      "\n",
      "divide by zero encountered in scalar divide\n",
      "\n",
      "/Users/pavel/miniconda3/lib/python3.11/site-packages/eXNN/topology/metrics.py:128: RuntimeWarning:\n",
      "\n",
      "divide by zero encountered in scalar divide\n",
      "\n",
      "/Users/pavel/miniconda3/lib/python3.11/site-packages/eXNN/topology/metrics.py:128: RuntimeWarning:\n",
      "\n",
      "divide by zero encountered in scalar divide\n",
      "\n",
      "/Users/pavel/miniconda3/lib/python3.11/site-packages/eXNN/topology/metrics.py:128: RuntimeWarning:\n",
      "\n",
      "divide by zero encountered in scalar divide\n",
      "\n",
      "/Users/pavel/miniconda3/lib/python3.11/site-packages/eXNN/topology/metrics.py:128: RuntimeWarning:\n",
      "\n",
      "divide by zero encountered in scalar divide\n",
      "\n"
     ]
    },
    {
     "name": "stdout",
     "output_type": "stream",
     "text": [
      "Epoch 6/40, Train Loss: 0.1137, Test Loss: 0.0209, RMSE: 0.1445\n"
     ]
    },
    {
     "name": "stderr",
     "output_type": "stream",
     "text": [
      "/Users/pavel/miniconda3/lib/python3.11/site-packages/eXNN/topology/metrics.py:128: RuntimeWarning:\n",
      "\n",
      "divide by zero encountered in scalar divide\n",
      "\n",
      "/Users/pavel/miniconda3/lib/python3.11/site-packages/eXNN/topology/metrics.py:128: RuntimeWarning:\n",
      "\n",
      "divide by zero encountered in scalar divide\n",
      "\n",
      "/Users/pavel/miniconda3/lib/python3.11/site-packages/eXNN/topology/metrics.py:128: RuntimeWarning:\n",
      "\n",
      "divide by zero encountered in scalar divide\n",
      "\n",
      "/Users/pavel/miniconda3/lib/python3.11/site-packages/eXNN/topology/metrics.py:128: RuntimeWarning:\n",
      "\n",
      "divide by zero encountered in scalar divide\n",
      "\n",
      "/Users/pavel/miniconda3/lib/python3.11/site-packages/eXNN/topology/metrics.py:128: RuntimeWarning:\n",
      "\n",
      "divide by zero encountered in scalar divide\n",
      "\n",
      "/Users/pavel/miniconda3/lib/python3.11/site-packages/eXNN/topology/metrics.py:128: RuntimeWarning:\n",
      "\n",
      "divide by zero encountered in scalar divide\n",
      "\n"
     ]
    },
    {
     "name": "stdout",
     "output_type": "stream",
     "text": [
      "Epoch 7/40, Train Loss: 0.1082, Test Loss: 0.0148, RMSE: 0.1217\n"
     ]
    },
    {
     "name": "stderr",
     "output_type": "stream",
     "text": [
      "/Users/pavel/miniconda3/lib/python3.11/site-packages/eXNN/topology/metrics.py:128: RuntimeWarning:\n",
      "\n",
      "divide by zero encountered in scalar divide\n",
      "\n",
      "/Users/pavel/miniconda3/lib/python3.11/site-packages/eXNN/topology/metrics.py:128: RuntimeWarning:\n",
      "\n",
      "divide by zero encountered in scalar divide\n",
      "\n",
      "/Users/pavel/miniconda3/lib/python3.11/site-packages/eXNN/topology/metrics.py:128: RuntimeWarning:\n",
      "\n",
      "divide by zero encountered in scalar divide\n",
      "\n",
      "/Users/pavel/miniconda3/lib/python3.11/site-packages/eXNN/topology/metrics.py:128: RuntimeWarning:\n",
      "\n",
      "divide by zero encountered in scalar divide\n",
      "\n",
      "/Users/pavel/miniconda3/lib/python3.11/site-packages/eXNN/topology/metrics.py:128: RuntimeWarning:\n",
      "\n",
      "divide by zero encountered in scalar divide\n",
      "\n",
      "/Users/pavel/miniconda3/lib/python3.11/site-packages/eXNN/topology/metrics.py:128: RuntimeWarning:\n",
      "\n",
      "divide by zero encountered in scalar divide\n",
      "\n"
     ]
    },
    {
     "name": "stdout",
     "output_type": "stream",
     "text": [
      "Epoch 8/40, Train Loss: 0.0981, Test Loss: 0.0159, RMSE: 0.1261\n"
     ]
    },
    {
     "name": "stderr",
     "output_type": "stream",
     "text": [
      "/Users/pavel/miniconda3/lib/python3.11/site-packages/eXNN/topology/metrics.py:128: RuntimeWarning:\n",
      "\n",
      "divide by zero encountered in scalar divide\n",
      "\n",
      "/Users/pavel/miniconda3/lib/python3.11/site-packages/eXNN/topology/metrics.py:128: RuntimeWarning:\n",
      "\n",
      "divide by zero encountered in scalar divide\n",
      "\n",
      "/Users/pavel/miniconda3/lib/python3.11/site-packages/eXNN/topology/metrics.py:128: RuntimeWarning:\n",
      "\n",
      "divide by zero encountered in scalar divide\n",
      "\n",
      "/Users/pavel/miniconda3/lib/python3.11/site-packages/eXNN/topology/metrics.py:128: RuntimeWarning:\n",
      "\n",
      "divide by zero encountered in scalar divide\n",
      "\n",
      "/Users/pavel/miniconda3/lib/python3.11/site-packages/eXNN/topology/metrics.py:128: RuntimeWarning:\n",
      "\n",
      "divide by zero encountered in scalar divide\n",
      "\n",
      "/Users/pavel/miniconda3/lib/python3.11/site-packages/eXNN/topology/metrics.py:128: RuntimeWarning:\n",
      "\n",
      "divide by zero encountered in scalar divide\n",
      "\n"
     ]
    },
    {
     "name": "stdout",
     "output_type": "stream",
     "text": [
      "Epoch 9/40, Train Loss: 0.0932, Test Loss: 0.0152, RMSE: 0.1233\n"
     ]
    },
    {
     "name": "stderr",
     "output_type": "stream",
     "text": [
      "/Users/pavel/miniconda3/lib/python3.11/site-packages/eXNN/topology/metrics.py:128: RuntimeWarning:\n",
      "\n",
      "divide by zero encountered in scalar divide\n",
      "\n",
      "/Users/pavel/miniconda3/lib/python3.11/site-packages/eXNN/topology/metrics.py:128: RuntimeWarning:\n",
      "\n",
      "divide by zero encountered in scalar divide\n",
      "\n",
      "/Users/pavel/miniconda3/lib/python3.11/site-packages/eXNN/topology/metrics.py:128: RuntimeWarning:\n",
      "\n",
      "divide by zero encountered in scalar divide\n",
      "\n",
      "/Users/pavel/miniconda3/lib/python3.11/site-packages/eXNN/topology/metrics.py:128: RuntimeWarning:\n",
      "\n",
      "divide by zero encountered in scalar divide\n",
      "\n",
      "/Users/pavel/miniconda3/lib/python3.11/site-packages/eXNN/topology/metrics.py:128: RuntimeWarning:\n",
      "\n",
      "divide by zero encountered in scalar divide\n",
      "\n",
      "/Users/pavel/miniconda3/lib/python3.11/site-packages/eXNN/topology/metrics.py:128: RuntimeWarning:\n",
      "\n",
      "divide by zero encountered in scalar divide\n",
      "\n"
     ]
    },
    {
     "name": "stdout",
     "output_type": "stream",
     "text": [
      "Epoch 10/40, Train Loss: 0.0920, Test Loss: 0.0137, RMSE: 0.1168\n"
     ]
    },
    {
     "name": "stderr",
     "output_type": "stream",
     "text": [
      "/Users/pavel/miniconda3/lib/python3.11/site-packages/eXNN/topology/metrics.py:128: RuntimeWarning:\n",
      "\n",
      "divide by zero encountered in scalar divide\n",
      "\n",
      "/Users/pavel/miniconda3/lib/python3.11/site-packages/eXNN/topology/metrics.py:128: RuntimeWarning:\n",
      "\n",
      "divide by zero encountered in scalar divide\n",
      "\n",
      "/Users/pavel/miniconda3/lib/python3.11/site-packages/eXNN/topology/metrics.py:128: RuntimeWarning:\n",
      "\n",
      "divide by zero encountered in scalar divide\n",
      "\n",
      "/Users/pavel/miniconda3/lib/python3.11/site-packages/eXNN/topology/metrics.py:128: RuntimeWarning:\n",
      "\n",
      "divide by zero encountered in scalar divide\n",
      "\n",
      "/Users/pavel/miniconda3/lib/python3.11/site-packages/eXNN/topology/metrics.py:128: RuntimeWarning:\n",
      "\n",
      "divide by zero encountered in scalar divide\n",
      "\n",
      "/Users/pavel/miniconda3/lib/python3.11/site-packages/eXNN/topology/metrics.py:128: RuntimeWarning:\n",
      "\n",
      "divide by zero encountered in scalar divide\n",
      "\n"
     ]
    },
    {
     "name": "stdout",
     "output_type": "stream",
     "text": [
      "Epoch 11/40, Train Loss: 0.0955, Test Loss: 0.0151, RMSE: 0.1224\n"
     ]
    },
    {
     "name": "stderr",
     "output_type": "stream",
     "text": [
      "/Users/pavel/miniconda3/lib/python3.11/site-packages/eXNN/topology/metrics.py:128: RuntimeWarning:\n",
      "\n",
      "divide by zero encountered in scalar divide\n",
      "\n",
      "/Users/pavel/miniconda3/lib/python3.11/site-packages/eXNN/topology/metrics.py:128: RuntimeWarning:\n",
      "\n",
      "divide by zero encountered in scalar divide\n",
      "\n",
      "/Users/pavel/miniconda3/lib/python3.11/site-packages/eXNN/topology/metrics.py:128: RuntimeWarning:\n",
      "\n",
      "divide by zero encountered in scalar divide\n",
      "\n",
      "/Users/pavel/miniconda3/lib/python3.11/site-packages/eXNN/topology/metrics.py:128: RuntimeWarning:\n",
      "\n",
      "divide by zero encountered in scalar divide\n",
      "\n",
      "/Users/pavel/miniconda3/lib/python3.11/site-packages/eXNN/topology/metrics.py:128: RuntimeWarning:\n",
      "\n",
      "divide by zero encountered in scalar divide\n",
      "\n",
      "/Users/pavel/miniconda3/lib/python3.11/site-packages/eXNN/topology/metrics.py:128: RuntimeWarning:\n",
      "\n",
      "divide by zero encountered in scalar divide\n",
      "\n"
     ]
    },
    {
     "name": "stdout",
     "output_type": "stream",
     "text": [
      "Epoch 12/40, Train Loss: 0.0845, Test Loss: 0.0135, RMSE: 0.1159\n"
     ]
    },
    {
     "name": "stderr",
     "output_type": "stream",
     "text": [
      "/Users/pavel/miniconda3/lib/python3.11/site-packages/eXNN/topology/metrics.py:128: RuntimeWarning:\n",
      "\n",
      "divide by zero encountered in scalar divide\n",
      "\n",
      "/Users/pavel/miniconda3/lib/python3.11/site-packages/eXNN/topology/metrics.py:128: RuntimeWarning:\n",
      "\n",
      "divide by zero encountered in scalar divide\n",
      "\n",
      "/Users/pavel/miniconda3/lib/python3.11/site-packages/eXNN/topology/metrics.py:128: RuntimeWarning:\n",
      "\n",
      "divide by zero encountered in scalar divide\n",
      "\n",
      "/Users/pavel/miniconda3/lib/python3.11/site-packages/eXNN/topology/metrics.py:128: RuntimeWarning:\n",
      "\n",
      "divide by zero encountered in scalar divide\n",
      "\n",
      "/Users/pavel/miniconda3/lib/python3.11/site-packages/eXNN/topology/metrics.py:128: RuntimeWarning:\n",
      "\n",
      "divide by zero encountered in scalar divide\n",
      "\n",
      "/Users/pavel/miniconda3/lib/python3.11/site-packages/eXNN/topology/metrics.py:128: RuntimeWarning:\n",
      "\n",
      "divide by zero encountered in scalar divide\n",
      "\n"
     ]
    },
    {
     "name": "stdout",
     "output_type": "stream",
     "text": [
      "Epoch 13/40, Train Loss: 0.0832, Test Loss: 0.0125, RMSE: 0.1115\n"
     ]
    },
    {
     "name": "stderr",
     "output_type": "stream",
     "text": [
      "/Users/pavel/miniconda3/lib/python3.11/site-packages/eXNN/topology/metrics.py:128: RuntimeWarning:\n",
      "\n",
      "divide by zero encountered in scalar divide\n",
      "\n",
      "/Users/pavel/miniconda3/lib/python3.11/site-packages/eXNN/topology/metrics.py:128: RuntimeWarning:\n",
      "\n",
      "divide by zero encountered in scalar divide\n",
      "\n",
      "/Users/pavel/miniconda3/lib/python3.11/site-packages/eXNN/topology/metrics.py:128: RuntimeWarning:\n",
      "\n",
      "divide by zero encountered in scalar divide\n",
      "\n",
      "/Users/pavel/miniconda3/lib/python3.11/site-packages/eXNN/topology/metrics.py:128: RuntimeWarning:\n",
      "\n",
      "divide by zero encountered in scalar divide\n",
      "\n",
      "/Users/pavel/miniconda3/lib/python3.11/site-packages/eXNN/topology/metrics.py:128: RuntimeWarning:\n",
      "\n",
      "divide by zero encountered in scalar divide\n",
      "\n",
      "/Users/pavel/miniconda3/lib/python3.11/site-packages/eXNN/topology/metrics.py:128: RuntimeWarning:\n",
      "\n",
      "divide by zero encountered in scalar divide\n",
      "\n"
     ]
    },
    {
     "name": "stdout",
     "output_type": "stream",
     "text": [
      "Epoch 14/40, Train Loss: 0.0843, Test Loss: 0.0120, RMSE: 0.1090\n"
     ]
    },
    {
     "name": "stderr",
     "output_type": "stream",
     "text": [
      "/Users/pavel/miniconda3/lib/python3.11/site-packages/eXNN/topology/metrics.py:128: RuntimeWarning:\n",
      "\n",
      "divide by zero encountered in scalar divide\n",
      "\n",
      "/Users/pavel/miniconda3/lib/python3.11/site-packages/eXNN/topology/metrics.py:128: RuntimeWarning:\n",
      "\n",
      "divide by zero encountered in scalar divide\n",
      "\n",
      "/Users/pavel/miniconda3/lib/python3.11/site-packages/eXNN/topology/metrics.py:128: RuntimeWarning:\n",
      "\n",
      "divide by zero encountered in scalar divide\n",
      "\n",
      "/Users/pavel/miniconda3/lib/python3.11/site-packages/eXNN/topology/metrics.py:128: RuntimeWarning:\n",
      "\n",
      "divide by zero encountered in scalar divide\n",
      "\n",
      "/Users/pavel/miniconda3/lib/python3.11/site-packages/eXNN/topology/metrics.py:128: RuntimeWarning:\n",
      "\n",
      "divide by zero encountered in scalar divide\n",
      "\n",
      "/Users/pavel/miniconda3/lib/python3.11/site-packages/eXNN/topology/metrics.py:128: RuntimeWarning:\n",
      "\n",
      "divide by zero encountered in scalar divide\n",
      "\n"
     ]
    },
    {
     "name": "stdout",
     "output_type": "stream",
     "text": [
      "Epoch 15/40, Train Loss: 0.0723, Test Loss: 0.0129, RMSE: 0.1132\n"
     ]
    },
    {
     "name": "stderr",
     "output_type": "stream",
     "text": [
      "/Users/pavel/miniconda3/lib/python3.11/site-packages/eXNN/topology/metrics.py:128: RuntimeWarning:\n",
      "\n",
      "divide by zero encountered in scalar divide\n",
      "\n",
      "/Users/pavel/miniconda3/lib/python3.11/site-packages/eXNN/topology/metrics.py:128: RuntimeWarning:\n",
      "\n",
      "divide by zero encountered in scalar divide\n",
      "\n",
      "/Users/pavel/miniconda3/lib/python3.11/site-packages/eXNN/topology/metrics.py:128: RuntimeWarning:\n",
      "\n",
      "divide by zero encountered in scalar divide\n",
      "\n",
      "/Users/pavel/miniconda3/lib/python3.11/site-packages/eXNN/topology/metrics.py:128: RuntimeWarning:\n",
      "\n",
      "divide by zero encountered in scalar divide\n",
      "\n",
      "/Users/pavel/miniconda3/lib/python3.11/site-packages/eXNN/topology/metrics.py:128: RuntimeWarning:\n",
      "\n",
      "divide by zero encountered in scalar divide\n",
      "\n",
      "/Users/pavel/miniconda3/lib/python3.11/site-packages/eXNN/topology/metrics.py:128: RuntimeWarning:\n",
      "\n",
      "divide by zero encountered in scalar divide\n",
      "\n"
     ]
    },
    {
     "name": "stdout",
     "output_type": "stream",
     "text": [
      "Epoch 16/40, Train Loss: 0.0776, Test Loss: 0.0116, RMSE: 0.1072\n"
     ]
    },
    {
     "name": "stderr",
     "output_type": "stream",
     "text": [
      "/Users/pavel/miniconda3/lib/python3.11/site-packages/eXNN/topology/metrics.py:128: RuntimeWarning:\n",
      "\n",
      "divide by zero encountered in scalar divide\n",
      "\n",
      "/Users/pavel/miniconda3/lib/python3.11/site-packages/eXNN/topology/metrics.py:128: RuntimeWarning:\n",
      "\n",
      "divide by zero encountered in scalar divide\n",
      "\n",
      "/Users/pavel/miniconda3/lib/python3.11/site-packages/eXNN/topology/metrics.py:128: RuntimeWarning:\n",
      "\n",
      "divide by zero encountered in scalar divide\n",
      "\n",
      "/Users/pavel/miniconda3/lib/python3.11/site-packages/eXNN/topology/metrics.py:128: RuntimeWarning:\n",
      "\n",
      "divide by zero encountered in scalar divide\n",
      "\n",
      "/Users/pavel/miniconda3/lib/python3.11/site-packages/eXNN/topology/metrics.py:128: RuntimeWarning:\n",
      "\n",
      "divide by zero encountered in scalar divide\n",
      "\n",
      "/Users/pavel/miniconda3/lib/python3.11/site-packages/eXNN/topology/metrics.py:128: RuntimeWarning:\n",
      "\n",
      "divide by zero encountered in scalar divide\n",
      "\n"
     ]
    },
    {
     "name": "stdout",
     "output_type": "stream",
     "text": [
      "Epoch 17/40, Train Loss: 0.0726, Test Loss: 0.0112, RMSE: 0.1055\n"
     ]
    },
    {
     "name": "stderr",
     "output_type": "stream",
     "text": [
      "/Users/pavel/miniconda3/lib/python3.11/site-packages/eXNN/topology/metrics.py:128: RuntimeWarning:\n",
      "\n",
      "divide by zero encountered in scalar divide\n",
      "\n",
      "/Users/pavel/miniconda3/lib/python3.11/site-packages/eXNN/topology/metrics.py:128: RuntimeWarning:\n",
      "\n",
      "divide by zero encountered in scalar divide\n",
      "\n",
      "/Users/pavel/miniconda3/lib/python3.11/site-packages/eXNN/topology/metrics.py:128: RuntimeWarning:\n",
      "\n",
      "divide by zero encountered in scalar divide\n",
      "\n",
      "/Users/pavel/miniconda3/lib/python3.11/site-packages/eXNN/topology/metrics.py:128: RuntimeWarning:\n",
      "\n",
      "divide by zero encountered in scalar divide\n",
      "\n",
      "/Users/pavel/miniconda3/lib/python3.11/site-packages/eXNN/topology/metrics.py:128: RuntimeWarning:\n",
      "\n",
      "divide by zero encountered in scalar divide\n",
      "\n",
      "/Users/pavel/miniconda3/lib/python3.11/site-packages/eXNN/topology/metrics.py:128: RuntimeWarning:\n",
      "\n",
      "divide by zero encountered in scalar divide\n",
      "\n"
     ]
    },
    {
     "name": "stdout",
     "output_type": "stream",
     "text": [
      "Epoch 18/40, Train Loss: 0.0712, Test Loss: 0.0113, RMSE: 0.1058\n"
     ]
    },
    {
     "name": "stderr",
     "output_type": "stream",
     "text": [
      "/Users/pavel/miniconda3/lib/python3.11/site-packages/eXNN/topology/metrics.py:128: RuntimeWarning:\n",
      "\n",
      "divide by zero encountered in scalar divide\n",
      "\n",
      "/Users/pavel/miniconda3/lib/python3.11/site-packages/eXNN/topology/metrics.py:128: RuntimeWarning:\n",
      "\n",
      "divide by zero encountered in scalar divide\n",
      "\n",
      "/Users/pavel/miniconda3/lib/python3.11/site-packages/eXNN/topology/metrics.py:128: RuntimeWarning:\n",
      "\n",
      "divide by zero encountered in scalar divide\n",
      "\n",
      "/Users/pavel/miniconda3/lib/python3.11/site-packages/eXNN/topology/metrics.py:128: RuntimeWarning:\n",
      "\n",
      "divide by zero encountered in scalar divide\n",
      "\n",
      "/Users/pavel/miniconda3/lib/python3.11/site-packages/eXNN/topology/metrics.py:128: RuntimeWarning:\n",
      "\n",
      "divide by zero encountered in scalar divide\n",
      "\n",
      "/Users/pavel/miniconda3/lib/python3.11/site-packages/eXNN/topology/metrics.py:128: RuntimeWarning:\n",
      "\n",
      "divide by zero encountered in scalar divide\n",
      "\n"
     ]
    },
    {
     "name": "stdout",
     "output_type": "stream",
     "text": [
      "Epoch 19/40, Train Loss: 0.0692, Test Loss: 0.0119, RMSE: 0.1091\n"
     ]
    },
    {
     "name": "stderr",
     "output_type": "stream",
     "text": [
      "/Users/pavel/miniconda3/lib/python3.11/site-packages/eXNN/topology/metrics.py:128: RuntimeWarning:\n",
      "\n",
      "divide by zero encountered in scalar divide\n",
      "\n",
      "/Users/pavel/miniconda3/lib/python3.11/site-packages/eXNN/topology/metrics.py:128: RuntimeWarning:\n",
      "\n",
      "divide by zero encountered in scalar divide\n",
      "\n",
      "/Users/pavel/miniconda3/lib/python3.11/site-packages/eXNN/topology/metrics.py:128: RuntimeWarning:\n",
      "\n",
      "divide by zero encountered in scalar divide\n",
      "\n",
      "/Users/pavel/miniconda3/lib/python3.11/site-packages/eXNN/topology/metrics.py:128: RuntimeWarning:\n",
      "\n",
      "divide by zero encountered in scalar divide\n",
      "\n",
      "/Users/pavel/miniconda3/lib/python3.11/site-packages/eXNN/topology/metrics.py:128: RuntimeWarning:\n",
      "\n",
      "divide by zero encountered in scalar divide\n",
      "\n",
      "/Users/pavel/miniconda3/lib/python3.11/site-packages/eXNN/topology/metrics.py:128: RuntimeWarning:\n",
      "\n",
      "divide by zero encountered in scalar divide\n",
      "\n"
     ]
    },
    {
     "name": "stdout",
     "output_type": "stream",
     "text": [
      "Epoch 20/40, Train Loss: 0.0661, Test Loss: 0.0116, RMSE: 0.1072\n"
     ]
    },
    {
     "name": "stderr",
     "output_type": "stream",
     "text": [
      "/Users/pavel/miniconda3/lib/python3.11/site-packages/eXNN/topology/metrics.py:128: RuntimeWarning:\n",
      "\n",
      "divide by zero encountered in scalar divide\n",
      "\n",
      "/Users/pavel/miniconda3/lib/python3.11/site-packages/eXNN/topology/metrics.py:128: RuntimeWarning:\n",
      "\n",
      "divide by zero encountered in scalar divide\n",
      "\n",
      "/Users/pavel/miniconda3/lib/python3.11/site-packages/eXNN/topology/metrics.py:128: RuntimeWarning:\n",
      "\n",
      "divide by zero encountered in scalar divide\n",
      "\n",
      "/Users/pavel/miniconda3/lib/python3.11/site-packages/eXNN/topology/metrics.py:128: RuntimeWarning:\n",
      "\n",
      "divide by zero encountered in scalar divide\n",
      "\n",
      "/Users/pavel/miniconda3/lib/python3.11/site-packages/eXNN/topology/metrics.py:128: RuntimeWarning:\n",
      "\n",
      "divide by zero encountered in scalar divide\n",
      "\n",
      "/Users/pavel/miniconda3/lib/python3.11/site-packages/eXNN/topology/metrics.py:128: RuntimeWarning:\n",
      "\n",
      "divide by zero encountered in scalar divide\n",
      "\n"
     ]
    },
    {
     "name": "stdout",
     "output_type": "stream",
     "text": [
      "Epoch 21/40, Train Loss: 0.0687, Test Loss: 0.0103, RMSE: 0.1007\n"
     ]
    },
    {
     "name": "stderr",
     "output_type": "stream",
     "text": [
      "/Users/pavel/miniconda3/lib/python3.11/site-packages/eXNN/topology/metrics.py:128: RuntimeWarning:\n",
      "\n",
      "divide by zero encountered in scalar divide\n",
      "\n",
      "/Users/pavel/miniconda3/lib/python3.11/site-packages/eXNN/topology/metrics.py:128: RuntimeWarning:\n",
      "\n",
      "divide by zero encountered in scalar divide\n",
      "\n",
      "/Users/pavel/miniconda3/lib/python3.11/site-packages/eXNN/topology/metrics.py:128: RuntimeWarning:\n",
      "\n",
      "divide by zero encountered in scalar divide\n",
      "\n",
      "/Users/pavel/miniconda3/lib/python3.11/site-packages/eXNN/topology/metrics.py:128: RuntimeWarning:\n",
      "\n",
      "divide by zero encountered in scalar divide\n",
      "\n",
      "/Users/pavel/miniconda3/lib/python3.11/site-packages/eXNN/topology/metrics.py:128: RuntimeWarning:\n",
      "\n",
      "divide by zero encountered in scalar divide\n",
      "\n",
      "/Users/pavel/miniconda3/lib/python3.11/site-packages/eXNN/topology/metrics.py:128: RuntimeWarning:\n",
      "\n",
      "divide by zero encountered in scalar divide\n",
      "\n"
     ]
    },
    {
     "name": "stdout",
     "output_type": "stream",
     "text": [
      "Epoch 22/40, Train Loss: 0.0705, Test Loss: 0.0118, RMSE: 0.1082\n"
     ]
    },
    {
     "name": "stderr",
     "output_type": "stream",
     "text": [
      "/Users/pavel/miniconda3/lib/python3.11/site-packages/eXNN/topology/metrics.py:128: RuntimeWarning:\n",
      "\n",
      "divide by zero encountered in scalar divide\n",
      "\n",
      "/Users/pavel/miniconda3/lib/python3.11/site-packages/eXNN/topology/metrics.py:128: RuntimeWarning:\n",
      "\n",
      "divide by zero encountered in scalar divide\n",
      "\n",
      "/Users/pavel/miniconda3/lib/python3.11/site-packages/eXNN/topology/metrics.py:128: RuntimeWarning:\n",
      "\n",
      "divide by zero encountered in scalar divide\n",
      "\n",
      "/Users/pavel/miniconda3/lib/python3.11/site-packages/eXNN/topology/metrics.py:128: RuntimeWarning:\n",
      "\n",
      "divide by zero encountered in scalar divide\n",
      "\n",
      "/Users/pavel/miniconda3/lib/python3.11/site-packages/eXNN/topology/metrics.py:128: RuntimeWarning:\n",
      "\n",
      "divide by zero encountered in scalar divide\n",
      "\n",
      "/Users/pavel/miniconda3/lib/python3.11/site-packages/eXNN/topology/metrics.py:128: RuntimeWarning:\n",
      "\n",
      "divide by zero encountered in scalar divide\n",
      "\n"
     ]
    },
    {
     "name": "stdout",
     "output_type": "stream",
     "text": [
      "Epoch 23/40, Train Loss: 0.0666, Test Loss: 0.0111, RMSE: 0.1049\n"
     ]
    },
    {
     "name": "stderr",
     "output_type": "stream",
     "text": [
      "/Users/pavel/miniconda3/lib/python3.11/site-packages/eXNN/topology/metrics.py:128: RuntimeWarning:\n",
      "\n",
      "divide by zero encountered in scalar divide\n",
      "\n",
      "/Users/pavel/miniconda3/lib/python3.11/site-packages/eXNN/topology/metrics.py:128: RuntimeWarning:\n",
      "\n",
      "divide by zero encountered in scalar divide\n",
      "\n",
      "/Users/pavel/miniconda3/lib/python3.11/site-packages/eXNN/topology/metrics.py:128: RuntimeWarning:\n",
      "\n",
      "divide by zero encountered in scalar divide\n",
      "\n",
      "/Users/pavel/miniconda3/lib/python3.11/site-packages/eXNN/topology/metrics.py:128: RuntimeWarning:\n",
      "\n",
      "divide by zero encountered in scalar divide\n",
      "\n",
      "/Users/pavel/miniconda3/lib/python3.11/site-packages/eXNN/topology/metrics.py:128: RuntimeWarning:\n",
      "\n",
      "divide by zero encountered in scalar divide\n",
      "\n",
      "/Users/pavel/miniconda3/lib/python3.11/site-packages/eXNN/topology/metrics.py:128: RuntimeWarning:\n",
      "\n",
      "divide by zero encountered in scalar divide\n",
      "\n"
     ]
    },
    {
     "name": "stdout",
     "output_type": "stream",
     "text": [
      "Epoch 24/40, Train Loss: 0.0630, Test Loss: 0.0106, RMSE: 0.1025\n"
     ]
    },
    {
     "name": "stderr",
     "output_type": "stream",
     "text": [
      "/Users/pavel/miniconda3/lib/python3.11/site-packages/eXNN/topology/metrics.py:128: RuntimeWarning:\n",
      "\n",
      "divide by zero encountered in scalar divide\n",
      "\n",
      "/Users/pavel/miniconda3/lib/python3.11/site-packages/eXNN/topology/metrics.py:128: RuntimeWarning:\n",
      "\n",
      "divide by zero encountered in scalar divide\n",
      "\n",
      "/Users/pavel/miniconda3/lib/python3.11/site-packages/eXNN/topology/metrics.py:128: RuntimeWarning:\n",
      "\n",
      "divide by zero encountered in scalar divide\n",
      "\n",
      "/Users/pavel/miniconda3/lib/python3.11/site-packages/eXNN/topology/metrics.py:128: RuntimeWarning:\n",
      "\n",
      "divide by zero encountered in scalar divide\n",
      "\n",
      "/Users/pavel/miniconda3/lib/python3.11/site-packages/eXNN/topology/metrics.py:128: RuntimeWarning:\n",
      "\n",
      "divide by zero encountered in scalar divide\n",
      "\n",
      "/Users/pavel/miniconda3/lib/python3.11/site-packages/eXNN/topology/metrics.py:128: RuntimeWarning:\n",
      "\n",
      "divide by zero encountered in scalar divide\n",
      "\n"
     ]
    },
    {
     "name": "stdout",
     "output_type": "stream",
     "text": [
      "Epoch 25/40, Train Loss: 0.0609, Test Loss: 0.0106, RMSE: 0.1023\n"
     ]
    },
    {
     "name": "stderr",
     "output_type": "stream",
     "text": [
      "/Users/pavel/miniconda3/lib/python3.11/site-packages/eXNN/topology/metrics.py:128: RuntimeWarning:\n",
      "\n",
      "divide by zero encountered in scalar divide\n",
      "\n",
      "/Users/pavel/miniconda3/lib/python3.11/site-packages/eXNN/topology/metrics.py:128: RuntimeWarning:\n",
      "\n",
      "divide by zero encountered in scalar divide\n",
      "\n",
      "/Users/pavel/miniconda3/lib/python3.11/site-packages/eXNN/topology/metrics.py:128: RuntimeWarning:\n",
      "\n",
      "divide by zero encountered in scalar divide\n",
      "\n",
      "/Users/pavel/miniconda3/lib/python3.11/site-packages/eXNN/topology/metrics.py:128: RuntimeWarning:\n",
      "\n",
      "divide by zero encountered in scalar divide\n",
      "\n",
      "/Users/pavel/miniconda3/lib/python3.11/site-packages/eXNN/topology/metrics.py:128: RuntimeWarning:\n",
      "\n",
      "divide by zero encountered in scalar divide\n",
      "\n",
      "/Users/pavel/miniconda3/lib/python3.11/site-packages/eXNN/topology/metrics.py:128: RuntimeWarning:\n",
      "\n",
      "divide by zero encountered in scalar divide\n",
      "\n"
     ]
    },
    {
     "name": "stdout",
     "output_type": "stream",
     "text": [
      "Epoch 26/40, Train Loss: 0.0600, Test Loss: 0.0111, RMSE: 0.1052\n"
     ]
    },
    {
     "name": "stderr",
     "output_type": "stream",
     "text": [
      "/Users/pavel/miniconda3/lib/python3.11/site-packages/eXNN/topology/metrics.py:128: RuntimeWarning:\n",
      "\n",
      "divide by zero encountered in scalar divide\n",
      "\n",
      "/Users/pavel/miniconda3/lib/python3.11/site-packages/eXNN/topology/metrics.py:128: RuntimeWarning:\n",
      "\n",
      "divide by zero encountered in scalar divide\n",
      "\n",
      "/Users/pavel/miniconda3/lib/python3.11/site-packages/eXNN/topology/metrics.py:128: RuntimeWarning:\n",
      "\n",
      "divide by zero encountered in scalar divide\n",
      "\n",
      "/Users/pavel/miniconda3/lib/python3.11/site-packages/eXNN/topology/metrics.py:128: RuntimeWarning:\n",
      "\n",
      "divide by zero encountered in scalar divide\n",
      "\n",
      "/Users/pavel/miniconda3/lib/python3.11/site-packages/eXNN/topology/metrics.py:128: RuntimeWarning:\n",
      "\n",
      "divide by zero encountered in scalar divide\n",
      "\n",
      "/Users/pavel/miniconda3/lib/python3.11/site-packages/eXNN/topology/metrics.py:128: RuntimeWarning:\n",
      "\n",
      "divide by zero encountered in scalar divide\n",
      "\n"
     ]
    },
    {
     "name": "stdout",
     "output_type": "stream",
     "text": [
      "Epoch 27/40, Train Loss: 0.0646, Test Loss: 0.0099, RMSE: 0.0991\n"
     ]
    },
    {
     "name": "stderr",
     "output_type": "stream",
     "text": [
      "/Users/pavel/miniconda3/lib/python3.11/site-packages/eXNN/topology/metrics.py:128: RuntimeWarning:\n",
      "\n",
      "divide by zero encountered in scalar divide\n",
      "\n",
      "/Users/pavel/miniconda3/lib/python3.11/site-packages/eXNN/topology/metrics.py:128: RuntimeWarning:\n",
      "\n",
      "divide by zero encountered in scalar divide\n",
      "\n",
      "/Users/pavel/miniconda3/lib/python3.11/site-packages/eXNN/topology/metrics.py:128: RuntimeWarning:\n",
      "\n",
      "divide by zero encountered in scalar divide\n",
      "\n",
      "/Users/pavel/miniconda3/lib/python3.11/site-packages/eXNN/topology/metrics.py:128: RuntimeWarning:\n",
      "\n",
      "divide by zero encountered in scalar divide\n",
      "\n",
      "/Users/pavel/miniconda3/lib/python3.11/site-packages/eXNN/topology/metrics.py:128: RuntimeWarning:\n",
      "\n",
      "divide by zero encountered in scalar divide\n",
      "\n",
      "/Users/pavel/miniconda3/lib/python3.11/site-packages/eXNN/topology/metrics.py:128: RuntimeWarning:\n",
      "\n",
      "divide by zero encountered in scalar divide\n",
      "\n"
     ]
    },
    {
     "name": "stdout",
     "output_type": "stream",
     "text": [
      "Epoch 28/40, Train Loss: 0.0627, Test Loss: 0.0105, RMSE: 0.1018\n"
     ]
    },
    {
     "name": "stderr",
     "output_type": "stream",
     "text": [
      "/Users/pavel/miniconda3/lib/python3.11/site-packages/eXNN/topology/metrics.py:128: RuntimeWarning:\n",
      "\n",
      "divide by zero encountered in scalar divide\n",
      "\n",
      "/Users/pavel/miniconda3/lib/python3.11/site-packages/eXNN/topology/metrics.py:128: RuntimeWarning:\n",
      "\n",
      "divide by zero encountered in scalar divide\n",
      "\n",
      "/Users/pavel/miniconda3/lib/python3.11/site-packages/eXNN/topology/metrics.py:128: RuntimeWarning:\n",
      "\n",
      "divide by zero encountered in scalar divide\n",
      "\n",
      "/Users/pavel/miniconda3/lib/python3.11/site-packages/eXNN/topology/metrics.py:128: RuntimeWarning:\n",
      "\n",
      "divide by zero encountered in scalar divide\n",
      "\n",
      "/Users/pavel/miniconda3/lib/python3.11/site-packages/eXNN/topology/metrics.py:128: RuntimeWarning:\n",
      "\n",
      "divide by zero encountered in scalar divide\n",
      "\n",
      "/Users/pavel/miniconda3/lib/python3.11/site-packages/eXNN/topology/metrics.py:128: RuntimeWarning:\n",
      "\n",
      "divide by zero encountered in scalar divide\n",
      "\n"
     ]
    },
    {
     "name": "stdout",
     "output_type": "stream",
     "text": [
      "Epoch 29/40, Train Loss: 0.0618, Test Loss: 0.0099, RMSE: 0.0988\n"
     ]
    },
    {
     "name": "stderr",
     "output_type": "stream",
     "text": [
      "/Users/pavel/miniconda3/lib/python3.11/site-packages/eXNN/topology/metrics.py:128: RuntimeWarning:\n",
      "\n",
      "divide by zero encountered in scalar divide\n",
      "\n",
      "/Users/pavel/miniconda3/lib/python3.11/site-packages/eXNN/topology/metrics.py:128: RuntimeWarning:\n",
      "\n",
      "divide by zero encountered in scalar divide\n",
      "\n",
      "/Users/pavel/miniconda3/lib/python3.11/site-packages/eXNN/topology/metrics.py:128: RuntimeWarning:\n",
      "\n",
      "divide by zero encountered in scalar divide\n",
      "\n",
      "/Users/pavel/miniconda3/lib/python3.11/site-packages/eXNN/topology/metrics.py:128: RuntimeWarning:\n",
      "\n",
      "divide by zero encountered in scalar divide\n",
      "\n",
      "/Users/pavel/miniconda3/lib/python3.11/site-packages/eXNN/topology/metrics.py:128: RuntimeWarning:\n",
      "\n",
      "divide by zero encountered in scalar divide\n",
      "\n",
      "/Users/pavel/miniconda3/lib/python3.11/site-packages/eXNN/topology/metrics.py:128: RuntimeWarning:\n",
      "\n",
      "divide by zero encountered in scalar divide\n",
      "\n"
     ]
    },
    {
     "name": "stdout",
     "output_type": "stream",
     "text": [
      "Epoch 30/40, Train Loss: 0.0594, Test Loss: 0.0097, RMSE: 0.0978\n"
     ]
    },
    {
     "name": "stderr",
     "output_type": "stream",
     "text": [
      "/Users/pavel/miniconda3/lib/python3.11/site-packages/eXNN/topology/metrics.py:128: RuntimeWarning:\n",
      "\n",
      "divide by zero encountered in scalar divide\n",
      "\n",
      "/Users/pavel/miniconda3/lib/python3.11/site-packages/eXNN/topology/metrics.py:128: RuntimeWarning:\n",
      "\n",
      "divide by zero encountered in scalar divide\n",
      "\n",
      "/Users/pavel/miniconda3/lib/python3.11/site-packages/eXNN/topology/metrics.py:128: RuntimeWarning:\n",
      "\n",
      "divide by zero encountered in scalar divide\n",
      "\n",
      "/Users/pavel/miniconda3/lib/python3.11/site-packages/eXNN/topology/metrics.py:128: RuntimeWarning:\n",
      "\n",
      "divide by zero encountered in scalar divide\n",
      "\n",
      "/Users/pavel/miniconda3/lib/python3.11/site-packages/eXNN/topology/metrics.py:128: RuntimeWarning:\n",
      "\n",
      "divide by zero encountered in scalar divide\n",
      "\n",
      "/Users/pavel/miniconda3/lib/python3.11/site-packages/eXNN/topology/metrics.py:128: RuntimeWarning:\n",
      "\n",
      "divide by zero encountered in scalar divide\n",
      "\n"
     ]
    },
    {
     "name": "stdout",
     "output_type": "stream",
     "text": [
      "Epoch 31/40, Train Loss: 0.0567, Test Loss: 0.0097, RMSE: 0.0982\n"
     ]
    },
    {
     "name": "stderr",
     "output_type": "stream",
     "text": [
      "/Users/pavel/miniconda3/lib/python3.11/site-packages/eXNN/topology/metrics.py:128: RuntimeWarning:\n",
      "\n",
      "divide by zero encountered in scalar divide\n",
      "\n",
      "/Users/pavel/miniconda3/lib/python3.11/site-packages/eXNN/topology/metrics.py:128: RuntimeWarning:\n",
      "\n",
      "divide by zero encountered in scalar divide\n",
      "\n",
      "/Users/pavel/miniconda3/lib/python3.11/site-packages/eXNN/topology/metrics.py:128: RuntimeWarning:\n",
      "\n",
      "divide by zero encountered in scalar divide\n",
      "\n",
      "/Users/pavel/miniconda3/lib/python3.11/site-packages/eXNN/topology/metrics.py:128: RuntimeWarning:\n",
      "\n",
      "divide by zero encountered in scalar divide\n",
      "\n",
      "/Users/pavel/miniconda3/lib/python3.11/site-packages/eXNN/topology/metrics.py:128: RuntimeWarning:\n",
      "\n",
      "divide by zero encountered in scalar divide\n",
      "\n",
      "/Users/pavel/miniconda3/lib/python3.11/site-packages/eXNN/topology/metrics.py:128: RuntimeWarning:\n",
      "\n",
      "divide by zero encountered in scalar divide\n",
      "\n"
     ]
    },
    {
     "name": "stdout",
     "output_type": "stream",
     "text": [
      "Epoch 32/40, Train Loss: 0.0556, Test Loss: 0.0097, RMSE: 0.0979\n"
     ]
    },
    {
     "name": "stderr",
     "output_type": "stream",
     "text": [
      "/Users/pavel/miniconda3/lib/python3.11/site-packages/eXNN/topology/metrics.py:128: RuntimeWarning:\n",
      "\n",
      "divide by zero encountered in scalar divide\n",
      "\n",
      "/Users/pavel/miniconda3/lib/python3.11/site-packages/eXNN/topology/metrics.py:128: RuntimeWarning:\n",
      "\n",
      "divide by zero encountered in scalar divide\n",
      "\n",
      "/Users/pavel/miniconda3/lib/python3.11/site-packages/eXNN/topology/metrics.py:128: RuntimeWarning:\n",
      "\n",
      "divide by zero encountered in scalar divide\n",
      "\n",
      "/Users/pavel/miniconda3/lib/python3.11/site-packages/eXNN/topology/metrics.py:128: RuntimeWarning:\n",
      "\n",
      "divide by zero encountered in scalar divide\n",
      "\n",
      "/Users/pavel/miniconda3/lib/python3.11/site-packages/eXNN/topology/metrics.py:128: RuntimeWarning:\n",
      "\n",
      "divide by zero encountered in scalar divide\n",
      "\n",
      "/Users/pavel/miniconda3/lib/python3.11/site-packages/eXNN/topology/metrics.py:128: RuntimeWarning:\n",
      "\n",
      "divide by zero encountered in scalar divide\n",
      "\n"
     ]
    },
    {
     "name": "stdout",
     "output_type": "stream",
     "text": [
      "Epoch 33/40, Train Loss: 0.0569, Test Loss: 0.0091, RMSE: 0.0950\n"
     ]
    },
    {
     "name": "stderr",
     "output_type": "stream",
     "text": [
      "/Users/pavel/miniconda3/lib/python3.11/site-packages/eXNN/topology/metrics.py:128: RuntimeWarning:\n",
      "\n",
      "divide by zero encountered in scalar divide\n",
      "\n",
      "/Users/pavel/miniconda3/lib/python3.11/site-packages/eXNN/topology/metrics.py:128: RuntimeWarning:\n",
      "\n",
      "divide by zero encountered in scalar divide\n",
      "\n",
      "/Users/pavel/miniconda3/lib/python3.11/site-packages/eXNN/topology/metrics.py:128: RuntimeWarning:\n",
      "\n",
      "divide by zero encountered in scalar divide\n",
      "\n",
      "/Users/pavel/miniconda3/lib/python3.11/site-packages/eXNN/topology/metrics.py:128: RuntimeWarning:\n",
      "\n",
      "divide by zero encountered in scalar divide\n",
      "\n",
      "/Users/pavel/miniconda3/lib/python3.11/site-packages/eXNN/topology/metrics.py:128: RuntimeWarning:\n",
      "\n",
      "divide by zero encountered in scalar divide\n",
      "\n",
      "/Users/pavel/miniconda3/lib/python3.11/site-packages/eXNN/topology/metrics.py:128: RuntimeWarning:\n",
      "\n",
      "divide by zero encountered in scalar divide\n",
      "\n"
     ]
    },
    {
     "name": "stdout",
     "output_type": "stream",
     "text": [
      "Epoch 34/40, Train Loss: 0.0548, Test Loss: 0.0095, RMSE: 0.0973\n"
     ]
    },
    {
     "name": "stderr",
     "output_type": "stream",
     "text": [
      "/Users/pavel/miniconda3/lib/python3.11/site-packages/eXNN/topology/metrics.py:128: RuntimeWarning:\n",
      "\n",
      "divide by zero encountered in scalar divide\n",
      "\n",
      "/Users/pavel/miniconda3/lib/python3.11/site-packages/eXNN/topology/metrics.py:128: RuntimeWarning:\n",
      "\n",
      "divide by zero encountered in scalar divide\n",
      "\n",
      "/Users/pavel/miniconda3/lib/python3.11/site-packages/eXNN/topology/metrics.py:128: RuntimeWarning:\n",
      "\n",
      "divide by zero encountered in scalar divide\n",
      "\n",
      "/Users/pavel/miniconda3/lib/python3.11/site-packages/eXNN/topology/metrics.py:128: RuntimeWarning:\n",
      "\n",
      "divide by zero encountered in scalar divide\n",
      "\n",
      "/Users/pavel/miniconda3/lib/python3.11/site-packages/eXNN/topology/metrics.py:128: RuntimeWarning:\n",
      "\n",
      "divide by zero encountered in scalar divide\n",
      "\n",
      "/Users/pavel/miniconda3/lib/python3.11/site-packages/eXNN/topology/metrics.py:128: RuntimeWarning:\n",
      "\n",
      "divide by zero encountered in scalar divide\n",
      "\n"
     ]
    },
    {
     "name": "stdout",
     "output_type": "stream",
     "text": [
      "Epoch 35/40, Train Loss: 0.0591, Test Loss: 0.0095, RMSE: 0.0969\n"
     ]
    },
    {
     "name": "stderr",
     "output_type": "stream",
     "text": [
      "/Users/pavel/miniconda3/lib/python3.11/site-packages/eXNN/topology/metrics.py:128: RuntimeWarning:\n",
      "\n",
      "divide by zero encountered in scalar divide\n",
      "\n",
      "/Users/pavel/miniconda3/lib/python3.11/site-packages/eXNN/topology/metrics.py:128: RuntimeWarning:\n",
      "\n",
      "divide by zero encountered in scalar divide\n",
      "\n",
      "/Users/pavel/miniconda3/lib/python3.11/site-packages/eXNN/topology/metrics.py:128: RuntimeWarning:\n",
      "\n",
      "divide by zero encountered in scalar divide\n",
      "\n",
      "/Users/pavel/miniconda3/lib/python3.11/site-packages/eXNN/topology/metrics.py:128: RuntimeWarning:\n",
      "\n",
      "divide by zero encountered in scalar divide\n",
      "\n",
      "/Users/pavel/miniconda3/lib/python3.11/site-packages/eXNN/topology/metrics.py:128: RuntimeWarning:\n",
      "\n",
      "divide by zero encountered in scalar divide\n",
      "\n",
      "/Users/pavel/miniconda3/lib/python3.11/site-packages/eXNN/topology/metrics.py:128: RuntimeWarning:\n",
      "\n",
      "divide by zero encountered in scalar divide\n",
      "\n"
     ]
    },
    {
     "name": "stdout",
     "output_type": "stream",
     "text": [
      "Epoch 36/40, Train Loss: 0.0536, Test Loss: 0.0091, RMSE: 0.0949\n"
     ]
    },
    {
     "name": "stderr",
     "output_type": "stream",
     "text": [
      "/Users/pavel/miniconda3/lib/python3.11/site-packages/eXNN/topology/metrics.py:128: RuntimeWarning:\n",
      "\n",
      "divide by zero encountered in scalar divide\n",
      "\n",
      "/Users/pavel/miniconda3/lib/python3.11/site-packages/eXNN/topology/metrics.py:128: RuntimeWarning:\n",
      "\n",
      "divide by zero encountered in scalar divide\n",
      "\n",
      "/Users/pavel/miniconda3/lib/python3.11/site-packages/eXNN/topology/metrics.py:128: RuntimeWarning:\n",
      "\n",
      "divide by zero encountered in scalar divide\n",
      "\n",
      "/Users/pavel/miniconda3/lib/python3.11/site-packages/eXNN/topology/metrics.py:128: RuntimeWarning:\n",
      "\n",
      "divide by zero encountered in scalar divide\n",
      "\n",
      "/Users/pavel/miniconda3/lib/python3.11/site-packages/eXNN/topology/metrics.py:128: RuntimeWarning:\n",
      "\n",
      "divide by zero encountered in scalar divide\n",
      "\n",
      "/Users/pavel/miniconda3/lib/python3.11/site-packages/eXNN/topology/metrics.py:128: RuntimeWarning:\n",
      "\n",
      "divide by zero encountered in scalar divide\n",
      "\n"
     ]
    },
    {
     "name": "stdout",
     "output_type": "stream",
     "text": [
      "Epoch 37/40, Train Loss: 0.0540, Test Loss: 0.0097, RMSE: 0.0978\n"
     ]
    },
    {
     "name": "stderr",
     "output_type": "stream",
     "text": [
      "/Users/pavel/miniconda3/lib/python3.11/site-packages/eXNN/topology/metrics.py:128: RuntimeWarning:\n",
      "\n",
      "divide by zero encountered in scalar divide\n",
      "\n",
      "/Users/pavel/miniconda3/lib/python3.11/site-packages/eXNN/topology/metrics.py:128: RuntimeWarning:\n",
      "\n",
      "divide by zero encountered in scalar divide\n",
      "\n",
      "/Users/pavel/miniconda3/lib/python3.11/site-packages/eXNN/topology/metrics.py:128: RuntimeWarning:\n",
      "\n",
      "divide by zero encountered in scalar divide\n",
      "\n",
      "/Users/pavel/miniconda3/lib/python3.11/site-packages/eXNN/topology/metrics.py:128: RuntimeWarning:\n",
      "\n",
      "divide by zero encountered in scalar divide\n",
      "\n",
      "/Users/pavel/miniconda3/lib/python3.11/site-packages/eXNN/topology/metrics.py:128: RuntimeWarning:\n",
      "\n",
      "divide by zero encountered in scalar divide\n",
      "\n",
      "/Users/pavel/miniconda3/lib/python3.11/site-packages/eXNN/topology/metrics.py:128: RuntimeWarning:\n",
      "\n",
      "divide by zero encountered in scalar divide\n",
      "\n"
     ]
    },
    {
     "name": "stdout",
     "output_type": "stream",
     "text": [
      "Epoch 38/40, Train Loss: 0.0569, Test Loss: 0.0091, RMSE: 0.0950\n"
     ]
    },
    {
     "name": "stderr",
     "output_type": "stream",
     "text": [
      "/Users/pavel/miniconda3/lib/python3.11/site-packages/eXNN/topology/metrics.py:128: RuntimeWarning:\n",
      "\n",
      "divide by zero encountered in scalar divide\n",
      "\n",
      "/Users/pavel/miniconda3/lib/python3.11/site-packages/eXNN/topology/metrics.py:128: RuntimeWarning:\n",
      "\n",
      "divide by zero encountered in scalar divide\n",
      "\n",
      "/Users/pavel/miniconda3/lib/python3.11/site-packages/eXNN/topology/metrics.py:128: RuntimeWarning:\n",
      "\n",
      "divide by zero encountered in scalar divide\n",
      "\n",
      "/Users/pavel/miniconda3/lib/python3.11/site-packages/eXNN/topology/metrics.py:128: RuntimeWarning:\n",
      "\n",
      "divide by zero encountered in scalar divide\n",
      "\n",
      "/Users/pavel/miniconda3/lib/python3.11/site-packages/eXNN/topology/metrics.py:128: RuntimeWarning:\n",
      "\n",
      "divide by zero encountered in scalar divide\n",
      "\n",
      "/Users/pavel/miniconda3/lib/python3.11/site-packages/eXNN/topology/metrics.py:128: RuntimeWarning:\n",
      "\n",
      "divide by zero encountered in scalar divide\n",
      "\n"
     ]
    },
    {
     "name": "stdout",
     "output_type": "stream",
     "text": [
      "Epoch 39/40, Train Loss: 0.0529, Test Loss: 0.0095, RMSE: 0.0973\n"
     ]
    },
    {
     "name": "stderr",
     "output_type": "stream",
     "text": [
      "/Users/pavel/miniconda3/lib/python3.11/site-packages/eXNN/topology/metrics.py:128: RuntimeWarning:\n",
      "\n",
      "divide by zero encountered in scalar divide\n",
      "\n",
      "/Users/pavel/miniconda3/lib/python3.11/site-packages/eXNN/topology/metrics.py:128: RuntimeWarning:\n",
      "\n",
      "divide by zero encountered in scalar divide\n",
      "\n",
      "/Users/pavel/miniconda3/lib/python3.11/site-packages/eXNN/topology/metrics.py:128: RuntimeWarning:\n",
      "\n",
      "divide by zero encountered in scalar divide\n",
      "\n",
      "/Users/pavel/miniconda3/lib/python3.11/site-packages/eXNN/topology/metrics.py:128: RuntimeWarning:\n",
      "\n",
      "divide by zero encountered in scalar divide\n",
      "\n",
      "/Users/pavel/miniconda3/lib/python3.11/site-packages/eXNN/topology/metrics.py:128: RuntimeWarning:\n",
      "\n",
      "divide by zero encountered in scalar divide\n",
      "\n",
      "/Users/pavel/miniconda3/lib/python3.11/site-packages/eXNN/topology/metrics.py:128: RuntimeWarning:\n",
      "\n",
      "divide by zero encountered in scalar divide\n",
      "\n"
     ]
    },
    {
     "name": "stdout",
     "output_type": "stream",
     "text": [
      "Epoch 40/40, Train Loss: 0.0516, Test Loss: 0.0091, RMSE: 0.0947\n"
     ]
    },
    {
     "data": {
      "image/png": "[encoded data removed]",
      "text/plain": [
       "<Figure size 1000x500 with 1 Axes>"
      ]
     },
     "metadata": {},
     "output_type": "display_data"
    },
    {
     "name": "stderr",
     "output_type": "stream",
     "text": [
      "/Users/pavel/miniconda3/lib/python3.11/site-packages/eXNN/topology/metrics.py:128: RuntimeWarning:\n",
      "\n",
      "divide by zero encountered in scalar divide\n",
      "\n",
      "/Users/pavel/miniconda3/lib/python3.11/site-packages/eXNN/topology/metrics.py:128: RuntimeWarning:\n",
      "\n",
      "divide by zero encountered in scalar divide\n",
      "\n",
      "/Users/pavel/miniconda3/lib/python3.11/site-packages/eXNN/topology/metrics.py:128: RuntimeWarning:\n",
      "\n",
      "divide by zero encountered in scalar divide\n",
      "\n",
      "/Users/pavel/miniconda3/lib/python3.11/site-packages/eXNN/topology/metrics.py:128: RuntimeWarning:\n",
      "\n",
      "divide by zero encountered in scalar divide\n",
      "\n",
      "/Users/pavel/miniconda3/lib/python3.11/site-packages/eXNN/topology/metrics.py:128: RuntimeWarning:\n",
      "\n",
      "divide by zero encountered in scalar divide\n",
      "\n",
      "/Users/pavel/miniconda3/lib/python3.11/site-packages/eXNN/topology/metrics.py:128: RuntimeWarning:\n",
      "\n",
      "divide by zero encountered in scalar divide\n",
      "\n"
     ]
    },
    {
     "name": "stdout",
     "output_type": "stream",
     "text": [
      "Epoch 1/40, Train Loss: 0.1862, Test Loss: 0.0301, RMSE: 0.1716\n"
     ]
    },
    {
     "name": "stderr",
     "output_type": "stream",
     "text": [
      "/Users/pavel/miniconda3/lib/python3.11/site-packages/eXNN/topology/metrics.py:128: RuntimeWarning:\n",
      "\n",
      "divide by zero encountered in scalar divide\n",
      "\n",
      "/Users/pavel/miniconda3/lib/python3.11/site-packages/eXNN/topology/metrics.py:128: RuntimeWarning:\n",
      "\n",
      "divide by zero encountered in scalar divide\n",
      "\n",
      "/Users/pavel/miniconda3/lib/python3.11/site-packages/eXNN/topology/metrics.py:128: RuntimeWarning:\n",
      "\n",
      "divide by zero encountered in scalar divide\n",
      "\n",
      "/Users/pavel/miniconda3/lib/python3.11/site-packages/eXNN/topology/metrics.py:128: RuntimeWarning:\n",
      "\n",
      "divide by zero encountered in scalar divide\n",
      "\n",
      "/Users/pavel/miniconda3/lib/python3.11/site-packages/eXNN/topology/metrics.py:128: RuntimeWarning:\n",
      "\n",
      "divide by zero encountered in scalar divide\n",
      "\n",
      "/Users/pavel/miniconda3/lib/python3.11/site-packages/eXNN/topology/metrics.py:128: RuntimeWarning:\n",
      "\n",
      "divide by zero encountered in scalar divide\n",
      "\n"
     ]
    },
    {
     "name": "stdout",
     "output_type": "stream",
     "text": [
      "Epoch 2/40, Train Loss: 0.1337, Test Loss: 0.0221, RMSE: 0.1475\n"
     ]
    },
    {
     "name": "stderr",
     "output_type": "stream",
     "text": [
      "/Users/pavel/miniconda3/lib/python3.11/site-packages/eXNN/topology/metrics.py:128: RuntimeWarning:\n",
      "\n",
      "divide by zero encountered in scalar divide\n",
      "\n",
      "/Users/pavel/miniconda3/lib/python3.11/site-packages/eXNN/topology/metrics.py:128: RuntimeWarning:\n",
      "\n",
      "divide by zero encountered in scalar divide\n",
      "\n",
      "/Users/pavel/miniconda3/lib/python3.11/site-packages/eXNN/topology/metrics.py:128: RuntimeWarning:\n",
      "\n",
      "divide by zero encountered in scalar divide\n",
      "\n",
      "/Users/pavel/miniconda3/lib/python3.11/site-packages/eXNN/topology/metrics.py:128: RuntimeWarning:\n",
      "\n",
      "divide by zero encountered in scalar divide\n",
      "\n",
      "/Users/pavel/miniconda3/lib/python3.11/site-packages/eXNN/topology/metrics.py:128: RuntimeWarning:\n",
      "\n",
      "divide by zero encountered in scalar divide\n",
      "\n",
      "/Users/pavel/miniconda3/lib/python3.11/site-packages/eXNN/topology/metrics.py:128: RuntimeWarning:\n",
      "\n",
      "divide by zero encountered in scalar divide\n",
      "\n"
     ]
    },
    {
     "name": "stdout",
     "output_type": "stream",
     "text": [
      "Epoch 3/40, Train Loss: 0.1142, Test Loss: 0.0173, RMSE: 0.1312\n"
     ]
    },
    {
     "name": "stderr",
     "output_type": "stream",
     "text": [
      "/Users/pavel/miniconda3/lib/python3.11/site-packages/eXNN/topology/metrics.py:128: RuntimeWarning:\n",
      "\n",
      "divide by zero encountered in scalar divide\n",
      "\n",
      "/Users/pavel/miniconda3/lib/python3.11/site-packages/eXNN/topology/metrics.py:128: RuntimeWarning:\n",
      "\n",
      "divide by zero encountered in scalar divide\n",
      "\n",
      "/Users/pavel/miniconda3/lib/python3.11/site-packages/eXNN/topology/metrics.py:128: RuntimeWarning:\n",
      "\n",
      "divide by zero encountered in scalar divide\n",
      "\n",
      "/Users/pavel/miniconda3/lib/python3.11/site-packages/eXNN/topology/metrics.py:128: RuntimeWarning:\n",
      "\n",
      "divide by zero encountered in scalar divide\n",
      "\n",
      "/Users/pavel/miniconda3/lib/python3.11/site-packages/eXNN/topology/metrics.py:128: RuntimeWarning:\n",
      "\n",
      "divide by zero encountered in scalar divide\n",
      "\n",
      "/Users/pavel/miniconda3/lib/python3.11/site-packages/eXNN/topology/metrics.py:128: RuntimeWarning:\n",
      "\n",
      "divide by zero encountered in scalar divide\n",
      "\n"
     ]
    },
    {
     "name": "stdout",
     "output_type": "stream",
     "text": [
      "Epoch 4/40, Train Loss: 0.0998, Test Loss: 0.0162, RMSE: 0.1268\n"
     ]
    },
    {
     "name": "stderr",
     "output_type": "stream",
     "text": [
      "/Users/pavel/miniconda3/lib/python3.11/site-packages/eXNN/topology/metrics.py:128: RuntimeWarning:\n",
      "\n",
      "divide by zero encountered in scalar divide\n",
      "\n",
      "/Users/pavel/miniconda3/lib/python3.11/site-packages/eXNN/topology/metrics.py:128: RuntimeWarning:\n",
      "\n",
      "divide by zero encountered in scalar divide\n",
      "\n",
      "/Users/pavel/miniconda3/lib/python3.11/site-packages/eXNN/topology/metrics.py:128: RuntimeWarning:\n",
      "\n",
      "divide by zero encountered in scalar divide\n",
      "\n",
      "/Users/pavel/miniconda3/lib/python3.11/site-packages/eXNN/topology/metrics.py:128: RuntimeWarning:\n",
      "\n",
      "divide by zero encountered in scalar divide\n",
      "\n",
      "/Users/pavel/miniconda3/lib/python3.11/site-packages/eXNN/topology/metrics.py:128: RuntimeWarning:\n",
      "\n",
      "divide by zero encountered in scalar divide\n",
      "\n",
      "/Users/pavel/miniconda3/lib/python3.11/site-packages/eXNN/topology/metrics.py:128: RuntimeWarning:\n",
      "\n",
      "divide by zero encountered in scalar divide\n",
      "\n"
     ]
    },
    {
     "name": "stdout",
     "output_type": "stream",
     "text": [
      "Epoch 5/40, Train Loss: 0.0920, Test Loss: 0.0146, RMSE: 0.1204\n"
     ]
    },
    {
     "name": "stderr",
     "output_type": "stream",
     "text": [
      "/Users/pavel/miniconda3/lib/python3.11/site-packages/eXNN/topology/metrics.py:128: RuntimeWarning:\n",
      "\n",
      "divide by zero encountered in scalar divide\n",
      "\n",
      "/Users/pavel/miniconda3/lib/python3.11/site-packages/eXNN/topology/metrics.py:128: RuntimeWarning:\n",
      "\n",
      "divide by zero encountered in scalar divide\n",
      "\n",
      "/Users/pavel/miniconda3/lib/python3.11/site-packages/eXNN/topology/metrics.py:128: RuntimeWarning:\n",
      "\n",
      "divide by zero encountered in scalar divide\n",
      "\n",
      "/Users/pavel/miniconda3/lib/python3.11/site-packages/eXNN/topology/metrics.py:128: RuntimeWarning:\n",
      "\n",
      "divide by zero encountered in scalar divide\n",
      "\n",
      "/Users/pavel/miniconda3/lib/python3.11/site-packages/eXNN/topology/metrics.py:128: RuntimeWarning:\n",
      "\n",
      "divide by zero encountered in scalar divide\n",
      "\n",
      "/Users/pavel/miniconda3/lib/python3.11/site-packages/eXNN/topology/metrics.py:128: RuntimeWarning:\n",
      "\n",
      "divide by zero encountered in scalar divide\n",
      "\n"
     ]
    },
    {
     "name": "stdout",
     "output_type": "stream",
     "text": [
      "Epoch 6/40, Train Loss: 0.0842, Test Loss: 0.0122, RMSE: 0.1097\n"
     ]
    },
    {
     "name": "stderr",
     "output_type": "stream",
     "text": [
      "/Users/pavel/miniconda3/lib/python3.11/site-packages/eXNN/topology/metrics.py:128: RuntimeWarning:\n",
      "\n",
      "divide by zero encountered in scalar divide\n",
      "\n",
      "/Users/pavel/miniconda3/lib/python3.11/site-packages/eXNN/topology/metrics.py:128: RuntimeWarning:\n",
      "\n",
      "divide by zero encountered in scalar divide\n",
      "\n",
      "/Users/pavel/miniconda3/lib/python3.11/site-packages/eXNN/topology/metrics.py:128: RuntimeWarning:\n",
      "\n",
      "divide by zero encountered in scalar divide\n",
      "\n",
      "/Users/pavel/miniconda3/lib/python3.11/site-packages/eXNN/topology/metrics.py:128: RuntimeWarning:\n",
      "\n",
      "divide by zero encountered in scalar divide\n",
      "\n",
      "/Users/pavel/miniconda3/lib/python3.11/site-packages/eXNN/topology/metrics.py:128: RuntimeWarning:\n",
      "\n",
      "divide by zero encountered in scalar divide\n",
      "\n",
      "/Users/pavel/miniconda3/lib/python3.11/site-packages/eXNN/topology/metrics.py:128: RuntimeWarning:\n",
      "\n",
      "divide by zero encountered in scalar divide\n",
      "\n"
     ]
    },
    {
     "name": "stdout",
     "output_type": "stream",
     "text": [
      "Epoch 7/40, Train Loss: 0.0764, Test Loss: 0.0125, RMSE: 0.1106\n"
     ]
    },
    {
     "name": "stderr",
     "output_type": "stream",
     "text": [
      "/Users/pavel/miniconda3/lib/python3.11/site-packages/eXNN/topology/metrics.py:128: RuntimeWarning:\n",
      "\n",
      "divide by zero encountered in scalar divide\n",
      "\n",
      "/Users/pavel/miniconda3/lib/python3.11/site-packages/eXNN/topology/metrics.py:128: RuntimeWarning:\n",
      "\n",
      "divide by zero encountered in scalar divide\n",
      "\n",
      "/Users/pavel/miniconda3/lib/python3.11/site-packages/eXNN/topology/metrics.py:128: RuntimeWarning:\n",
      "\n",
      "divide by zero encountered in scalar divide\n",
      "\n",
      "/Users/pavel/miniconda3/lib/python3.11/site-packages/eXNN/topology/metrics.py:128: RuntimeWarning:\n",
      "\n",
      "divide by zero encountered in scalar divide\n",
      "\n",
      "/Users/pavel/miniconda3/lib/python3.11/site-packages/eXNN/topology/metrics.py:128: RuntimeWarning:\n",
      "\n",
      "divide by zero encountered in scalar divide\n",
      "\n",
      "/Users/pavel/miniconda3/lib/python3.11/site-packages/eXNN/topology/metrics.py:128: RuntimeWarning:\n",
      "\n",
      "divide by zero encountered in scalar divide\n",
      "\n"
     ]
    },
    {
     "name": "stdout",
     "output_type": "stream",
     "text": [
      "Epoch 8/40, Train Loss: 0.0719, Test Loss: 0.0103, RMSE: 0.1001\n"
     ]
    },
    {
     "name": "stderr",
     "output_type": "stream",
     "text": [
      "/Users/pavel/miniconda3/lib/python3.11/site-packages/eXNN/topology/metrics.py:128: RuntimeWarning:\n",
      "\n",
      "divide by zero encountered in scalar divide\n",
      "\n",
      "/Users/pavel/miniconda3/lib/python3.11/site-packages/eXNN/topology/metrics.py:128: RuntimeWarning:\n",
      "\n",
      "divide by zero encountered in scalar divide\n",
      "\n",
      "/Users/pavel/miniconda3/lib/python3.11/site-packages/eXNN/topology/metrics.py:128: RuntimeWarning:\n",
      "\n",
      "divide by zero encountered in scalar divide\n",
      "\n",
      "/Users/pavel/miniconda3/lib/python3.11/site-packages/eXNN/topology/metrics.py:128: RuntimeWarning:\n",
      "\n",
      "divide by zero encountered in scalar divide\n",
      "\n",
      "/Users/pavel/miniconda3/lib/python3.11/site-packages/eXNN/topology/metrics.py:128: RuntimeWarning:\n",
      "\n",
      "divide by zero encountered in scalar divide\n",
      "\n",
      "/Users/pavel/miniconda3/lib/python3.11/site-packages/eXNN/topology/metrics.py:128: RuntimeWarning:\n",
      "\n",
      "divide by zero encountered in scalar divide\n",
      "\n"
     ]
    },
    {
     "name": "stdout",
     "output_type": "stream",
     "text": [
      "Epoch 9/40, Train Loss: 0.0669, Test Loss: 0.0094, RMSE: 0.0953\n"
     ]
    },
    {
     "name": "stderr",
     "output_type": "stream",
     "text": [
      "/Users/pavel/miniconda3/lib/python3.11/site-packages/eXNN/topology/metrics.py:128: RuntimeWarning:\n",
      "\n",
      "divide by zero encountered in scalar divide\n",
      "\n",
      "/Users/pavel/miniconda3/lib/python3.11/site-packages/eXNN/topology/metrics.py:128: RuntimeWarning:\n",
      "\n",
      "divide by zero encountered in scalar divide\n",
      "\n",
      "/Users/pavel/miniconda3/lib/python3.11/site-packages/eXNN/topology/metrics.py:128: RuntimeWarning:\n",
      "\n",
      "divide by zero encountered in scalar divide\n",
      "\n",
      "/Users/pavel/miniconda3/lib/python3.11/site-packages/eXNN/topology/metrics.py:128: RuntimeWarning:\n",
      "\n",
      "divide by zero encountered in scalar divide\n",
      "\n",
      "/Users/pavel/miniconda3/lib/python3.11/site-packages/eXNN/topology/metrics.py:128: RuntimeWarning:\n",
      "\n",
      "divide by zero encountered in scalar divide\n",
      "\n",
      "/Users/pavel/miniconda3/lib/python3.11/site-packages/eXNN/topology/metrics.py:128: RuntimeWarning:\n",
      "\n",
      "divide by zero encountered in scalar divide\n",
      "\n"
     ]
    },
    {
     "name": "stdout",
     "output_type": "stream",
     "text": [
      "Epoch 10/40, Train Loss: 0.0625, Test Loss: 0.0089, RMSE: 0.0933\n"
     ]
    },
    {
     "name": "stderr",
     "output_type": "stream",
     "text": [
      "/Users/pavel/miniconda3/lib/python3.11/site-packages/eXNN/topology/metrics.py:128: RuntimeWarning:\n",
      "\n",
      "divide by zero encountered in scalar divide\n",
      "\n",
      "/Users/pavel/miniconda3/lib/python3.11/site-packages/eXNN/topology/metrics.py:128: RuntimeWarning:\n",
      "\n",
      "divide by zero encountered in scalar divide\n",
      "\n",
      "/Users/pavel/miniconda3/lib/python3.11/site-packages/eXNN/topology/metrics.py:128: RuntimeWarning:\n",
      "\n",
      "divide by zero encountered in scalar divide\n",
      "\n",
      "/Users/pavel/miniconda3/lib/python3.11/site-packages/eXNN/topology/metrics.py:128: RuntimeWarning:\n",
      "\n",
      "divide by zero encountered in scalar divide\n",
      "\n",
      "/Users/pavel/miniconda3/lib/python3.11/site-packages/eXNN/topology/metrics.py:128: RuntimeWarning:\n",
      "\n",
      "divide by zero encountered in scalar divide\n",
      "\n",
      "/Users/pavel/miniconda3/lib/python3.11/site-packages/eXNN/topology/metrics.py:128: RuntimeWarning:\n",
      "\n",
      "divide by zero encountered in scalar divide\n",
      "\n"
     ]
    },
    {
     "name": "stdout",
     "output_type": "stream",
     "text": [
      "Epoch 11/40, Train Loss: 0.0557, Test Loss: 0.0073, RMSE: 0.0844\n"
     ]
    },
    {
     "name": "stderr",
     "output_type": "stream",
     "text": [
      "/Users/pavel/miniconda3/lib/python3.11/site-packages/eXNN/topology/metrics.py:128: RuntimeWarning:\n",
      "\n",
      "divide by zero encountered in scalar divide\n",
      "\n",
      "/Users/pavel/miniconda3/lib/python3.11/site-packages/eXNN/topology/metrics.py:128: RuntimeWarning:\n",
      "\n",
      "divide by zero encountered in scalar divide\n",
      "\n",
      "/Users/pavel/miniconda3/lib/python3.11/site-packages/eXNN/topology/metrics.py:128: RuntimeWarning:\n",
      "\n",
      "divide by zero encountered in scalar divide\n",
      "\n",
      "/Users/pavel/miniconda3/lib/python3.11/site-packages/eXNN/topology/metrics.py:128: RuntimeWarning:\n",
      "\n",
      "divide by zero encountered in scalar divide\n",
      "\n",
      "/Users/pavel/miniconda3/lib/python3.11/site-packages/eXNN/topology/metrics.py:128: RuntimeWarning:\n",
      "\n",
      "divide by zero encountered in scalar divide\n",
      "\n",
      "/Users/pavel/miniconda3/lib/python3.11/site-packages/eXNN/topology/metrics.py:128: RuntimeWarning:\n",
      "\n",
      "divide by zero encountered in scalar divide\n",
      "\n"
     ]
    },
    {
     "name": "stdout",
     "output_type": "stream",
     "text": [
      "Epoch 12/40, Train Loss: 0.0529, Test Loss: 0.0073, RMSE: 0.0846\n"
     ]
    },
    {
     "name": "stderr",
     "output_type": "stream",
     "text": [
      "/Users/pavel/miniconda3/lib/python3.11/site-packages/eXNN/topology/metrics.py:128: RuntimeWarning:\n",
      "\n",
      "divide by zero encountered in scalar divide\n",
      "\n",
      "/Users/pavel/miniconda3/lib/python3.11/site-packages/eXNN/topology/metrics.py:128: RuntimeWarning:\n",
      "\n",
      "divide by zero encountered in scalar divide\n",
      "\n",
      "/Users/pavel/miniconda3/lib/python3.11/site-packages/eXNN/topology/metrics.py:128: RuntimeWarning:\n",
      "\n",
      "divide by zero encountered in scalar divide\n",
      "\n",
      "/Users/pavel/miniconda3/lib/python3.11/site-packages/eXNN/topology/metrics.py:128: RuntimeWarning:\n",
      "\n",
      "divide by zero encountered in scalar divide\n",
      "\n",
      "/Users/pavel/miniconda3/lib/python3.11/site-packages/eXNN/topology/metrics.py:128: RuntimeWarning:\n",
      "\n",
      "divide by zero encountered in scalar divide\n",
      "\n",
      "/Users/pavel/miniconda3/lib/python3.11/site-packages/eXNN/topology/metrics.py:128: RuntimeWarning:\n",
      "\n",
      "divide by zero encountered in scalar divide\n",
      "\n"
     ]
    },
    {
     "name": "stdout",
     "output_type": "stream",
     "text": [
      "Epoch 13/40, Train Loss: 0.0528, Test Loss: 0.0066, RMSE: 0.0807\n"
     ]
    },
    {
     "name": "stderr",
     "output_type": "stream",
     "text": [
      "/Users/pavel/miniconda3/lib/python3.11/site-packages/eXNN/topology/metrics.py:128: RuntimeWarning:\n",
      "\n",
      "divide by zero encountered in scalar divide\n",
      "\n",
      "/Users/pavel/miniconda3/lib/python3.11/site-packages/eXNN/topology/metrics.py:128: RuntimeWarning:\n",
      "\n",
      "divide by zero encountered in scalar divide\n",
      "\n",
      "/Users/pavel/miniconda3/lib/python3.11/site-packages/eXNN/topology/metrics.py:128: RuntimeWarning:\n",
      "\n",
      "divide by zero encountered in scalar divide\n",
      "\n",
      "/Users/pavel/miniconda3/lib/python3.11/site-packages/eXNN/topology/metrics.py:128: RuntimeWarning:\n",
      "\n",
      "divide by zero encountered in scalar divide\n",
      "\n",
      "/Users/pavel/miniconda3/lib/python3.11/site-packages/eXNN/topology/metrics.py:128: RuntimeWarning:\n",
      "\n",
      "divide by zero encountered in scalar divide\n",
      "\n",
      "/Users/pavel/miniconda3/lib/python3.11/site-packages/eXNN/topology/metrics.py:128: RuntimeWarning:\n",
      "\n",
      "divide by zero encountered in scalar divide\n",
      "\n"
     ]
    },
    {
     "name": "stdout",
     "output_type": "stream",
     "text": [
      "Epoch 14/40, Train Loss: 0.0487, Test Loss: 0.0069, RMSE: 0.0823\n"
     ]
    },
    {
     "name": "stderr",
     "output_type": "stream",
     "text": [
      "/Users/pavel/miniconda3/lib/python3.11/site-packages/eXNN/topology/metrics.py:128: RuntimeWarning:\n",
      "\n",
      "divide by zero encountered in scalar divide\n",
      "\n",
      "/Users/pavel/miniconda3/lib/python3.11/site-packages/eXNN/topology/metrics.py:128: RuntimeWarning:\n",
      "\n",
      "divide by zero encountered in scalar divide\n",
      "\n",
      "/Users/pavel/miniconda3/lib/python3.11/site-packages/eXNN/topology/metrics.py:128: RuntimeWarning:\n",
      "\n",
      "divide by zero encountered in scalar divide\n",
      "\n",
      "/Users/pavel/miniconda3/lib/python3.11/site-packages/eXNN/topology/metrics.py:128: RuntimeWarning:\n",
      "\n",
      "divide by zero encountered in scalar divide\n",
      "\n",
      "/Users/pavel/miniconda3/lib/python3.11/site-packages/eXNN/topology/metrics.py:128: RuntimeWarning:\n",
      "\n",
      "divide by zero encountered in scalar divide\n",
      "\n",
      "/Users/pavel/miniconda3/lib/python3.11/site-packages/eXNN/topology/metrics.py:128: RuntimeWarning:\n",
      "\n",
      "divide by zero encountered in scalar divide\n",
      "\n"
     ]
    },
    {
     "name": "stdout",
     "output_type": "stream",
     "text": [
      "Epoch 15/40, Train Loss: 0.0458, Test Loss: 0.0058, RMSE: 0.0757\n"
     ]
    },
    {
     "name": "stderr",
     "output_type": "stream",
     "text": [
      "/Users/pavel/miniconda3/lib/python3.11/site-packages/eXNN/topology/metrics.py:128: RuntimeWarning:\n",
      "\n",
      "divide by zero encountered in scalar divide\n",
      "\n",
      "/Users/pavel/miniconda3/lib/python3.11/site-packages/eXNN/topology/metrics.py:128: RuntimeWarning:\n",
      "\n",
      "divide by zero encountered in scalar divide\n",
      "\n",
      "/Users/pavel/miniconda3/lib/python3.11/site-packages/eXNN/topology/metrics.py:128: RuntimeWarning:\n",
      "\n",
      "divide by zero encountered in scalar divide\n",
      "\n",
      "/Users/pavel/miniconda3/lib/python3.11/site-packages/eXNN/topology/metrics.py:128: RuntimeWarning:\n",
      "\n",
      "divide by zero encountered in scalar divide\n",
      "\n",
      "/Users/pavel/miniconda3/lib/python3.11/site-packages/eXNN/topology/metrics.py:128: RuntimeWarning:\n",
      "\n",
      "divide by zero encountered in scalar divide\n",
      "\n",
      "/Users/pavel/miniconda3/lib/python3.11/site-packages/eXNN/topology/metrics.py:128: RuntimeWarning:\n",
      "\n",
      "divide by zero encountered in scalar divide\n",
      "\n"
     ]
    },
    {
     "name": "stdout",
     "output_type": "stream",
     "text": [
      "Epoch 16/40, Train Loss: 0.0417, Test Loss: 0.0071, RMSE: 0.0840\n"
     ]
    },
    {
     "name": "stderr",
     "output_type": "stream",
     "text": [
      "/Users/pavel/miniconda3/lib/python3.11/site-packages/eXNN/topology/metrics.py:128: RuntimeWarning:\n",
      "\n",
      "divide by zero encountered in scalar divide\n",
      "\n",
      "/Users/pavel/miniconda3/lib/python3.11/site-packages/eXNN/topology/metrics.py:128: RuntimeWarning:\n",
      "\n",
      "divide by zero encountered in scalar divide\n",
      "\n",
      "/Users/pavel/miniconda3/lib/python3.11/site-packages/eXNN/topology/metrics.py:128: RuntimeWarning:\n",
      "\n",
      "divide by zero encountered in scalar divide\n",
      "\n",
      "/Users/pavel/miniconda3/lib/python3.11/site-packages/eXNN/topology/metrics.py:128: RuntimeWarning:\n",
      "\n",
      "divide by zero encountered in scalar divide\n",
      "\n",
      "/Users/pavel/miniconda3/lib/python3.11/site-packages/eXNN/topology/metrics.py:128: RuntimeWarning:\n",
      "\n",
      "divide by zero encountered in scalar divide\n",
      "\n",
      "/Users/pavel/miniconda3/lib/python3.11/site-packages/eXNN/topology/metrics.py:128: RuntimeWarning:\n",
      "\n",
      "divide by zero encountered in scalar divide\n",
      "\n"
     ]
    },
    {
     "name": "stdout",
     "output_type": "stream",
     "text": [
      "Epoch 17/40, Train Loss: 0.0398, Test Loss: 0.0079, RMSE: 0.0888\n"
     ]
    },
    {
     "name": "stderr",
     "output_type": "stream",
     "text": [
      "/Users/pavel/miniconda3/lib/python3.11/site-packages/eXNN/topology/metrics.py:128: RuntimeWarning:\n",
      "\n",
      "divide by zero encountered in scalar divide\n",
      "\n",
      "/Users/pavel/miniconda3/lib/python3.11/site-packages/eXNN/topology/metrics.py:128: RuntimeWarning:\n",
      "\n",
      "divide by zero encountered in scalar divide\n",
      "\n",
      "/Users/pavel/miniconda3/lib/python3.11/site-packages/eXNN/topology/metrics.py:128: RuntimeWarning:\n",
      "\n",
      "divide by zero encountered in scalar divide\n",
      "\n",
      "/Users/pavel/miniconda3/lib/python3.11/site-packages/eXNN/topology/metrics.py:128: RuntimeWarning:\n",
      "\n",
      "divide by zero encountered in scalar divide\n",
      "\n",
      "/Users/pavel/miniconda3/lib/python3.11/site-packages/eXNN/topology/metrics.py:128: RuntimeWarning:\n",
      "\n",
      "divide by zero encountered in scalar divide\n",
      "\n",
      "/Users/pavel/miniconda3/lib/python3.11/site-packages/eXNN/topology/metrics.py:128: RuntimeWarning:\n",
      "\n",
      "divide by zero encountered in scalar divide\n",
      "\n"
     ]
    },
    {
     "name": "stdout",
     "output_type": "stream",
     "text": [
      "Epoch 18/40, Train Loss: 0.0381, Test Loss: 0.0048, RMSE: 0.0690\n"
     ]
    },
    {
     "name": "stderr",
     "output_type": "stream",
     "text": [
      "/Users/pavel/miniconda3/lib/python3.11/site-packages/eXNN/topology/metrics.py:128: RuntimeWarning:\n",
      "\n",
      "divide by zero encountered in scalar divide\n",
      "\n",
      "/Users/pavel/miniconda3/lib/python3.11/site-packages/eXNN/topology/metrics.py:128: RuntimeWarning:\n",
      "\n",
      "divide by zero encountered in scalar divide\n",
      "\n",
      "/Users/pavel/miniconda3/lib/python3.11/site-packages/eXNN/topology/metrics.py:128: RuntimeWarning:\n",
      "\n",
      "divide by zero encountered in scalar divide\n",
      "\n",
      "/Users/pavel/miniconda3/lib/python3.11/site-packages/eXNN/topology/metrics.py:128: RuntimeWarning:\n",
      "\n",
      "divide by zero encountered in scalar divide\n",
      "\n",
      "/Users/pavel/miniconda3/lib/python3.11/site-packages/eXNN/topology/metrics.py:128: RuntimeWarning:\n",
      "\n",
      "divide by zero encountered in scalar divide\n",
      "\n",
      "/Users/pavel/miniconda3/lib/python3.11/site-packages/eXNN/topology/metrics.py:128: RuntimeWarning:\n",
      "\n",
      "divide by zero encountered in scalar divide\n",
      "\n"
     ]
    },
    {
     "name": "stdout",
     "output_type": "stream",
     "text": [
      "Epoch 19/40, Train Loss: 0.0364, Test Loss: 0.0056, RMSE: 0.0748\n"
     ]
    },
    {
     "name": "stderr",
     "output_type": "stream",
     "text": [
      "/Users/pavel/miniconda3/lib/python3.11/site-packages/eXNN/topology/metrics.py:128: RuntimeWarning:\n",
      "\n",
      "divide by zero encountered in scalar divide\n",
      "\n",
      "/Users/pavel/miniconda3/lib/python3.11/site-packages/eXNN/topology/metrics.py:128: RuntimeWarning:\n",
      "\n",
      "divide by zero encountered in scalar divide\n",
      "\n",
      "/Users/pavel/miniconda3/lib/python3.11/site-packages/eXNN/topology/metrics.py:128: RuntimeWarning:\n",
      "\n",
      "divide by zero encountered in scalar divide\n",
      "\n",
      "/Users/pavel/miniconda3/lib/python3.11/site-packages/eXNN/topology/metrics.py:128: RuntimeWarning:\n",
      "\n",
      "divide by zero encountered in scalar divide\n",
      "\n",
      "/Users/pavel/miniconda3/lib/python3.11/site-packages/eXNN/topology/metrics.py:128: RuntimeWarning:\n",
      "\n",
      "divide by zero encountered in scalar divide\n",
      "\n",
      "/Users/pavel/miniconda3/lib/python3.11/site-packages/eXNN/topology/metrics.py:128: RuntimeWarning:\n",
      "\n",
      "divide by zero encountered in scalar divide\n",
      "\n"
     ]
    },
    {
     "name": "stdout",
     "output_type": "stream",
     "text": [
      "Epoch 20/40, Train Loss: 0.0345, Test Loss: 0.0061, RMSE: 0.0774\n"
     ]
    },
    {
     "name": "stderr",
     "output_type": "stream",
     "text": [
      "/Users/pavel/miniconda3/lib/python3.11/site-packages/eXNN/topology/metrics.py:128: RuntimeWarning:\n",
      "\n",
      "divide by zero encountered in scalar divide\n",
      "\n",
      "/Users/pavel/miniconda3/lib/python3.11/site-packages/eXNN/topology/metrics.py:128: RuntimeWarning:\n",
      "\n",
      "divide by zero encountered in scalar divide\n",
      "\n",
      "/Users/pavel/miniconda3/lib/python3.11/site-packages/eXNN/topology/metrics.py:128: RuntimeWarning:\n",
      "\n",
      "divide by zero encountered in scalar divide\n",
      "\n",
      "/Users/pavel/miniconda3/lib/python3.11/site-packages/eXNN/topology/metrics.py:128: RuntimeWarning:\n",
      "\n",
      "divide by zero encountered in scalar divide\n",
      "\n",
      "/Users/pavel/miniconda3/lib/python3.11/site-packages/eXNN/topology/metrics.py:128: RuntimeWarning:\n",
      "\n",
      "divide by zero encountered in scalar divide\n",
      "\n",
      "/Users/pavel/miniconda3/lib/python3.11/site-packages/eXNN/topology/metrics.py:128: RuntimeWarning:\n",
      "\n",
      "divide by zero encountered in scalar divide\n",
      "\n"
     ]
    },
    {
     "name": "stdout",
     "output_type": "stream",
     "text": [
      "Epoch 21/40, Train Loss: 0.0318, Test Loss: 0.0069, RMSE: 0.0826\n"
     ]
    },
    {
     "name": "stderr",
     "output_type": "stream",
     "text": [
      "/Users/pavel/miniconda3/lib/python3.11/site-packages/eXNN/topology/metrics.py:128: RuntimeWarning:\n",
      "\n",
      "divide by zero encountered in scalar divide\n",
      "\n",
      "/Users/pavel/miniconda3/lib/python3.11/site-packages/eXNN/topology/metrics.py:128: RuntimeWarning:\n",
      "\n",
      "divide by zero encountered in scalar divide\n",
      "\n",
      "/Users/pavel/miniconda3/lib/python3.11/site-packages/eXNN/topology/metrics.py:128: RuntimeWarning:\n",
      "\n",
      "divide by zero encountered in scalar divide\n",
      "\n",
      "/Users/pavel/miniconda3/lib/python3.11/site-packages/eXNN/topology/metrics.py:128: RuntimeWarning:\n",
      "\n",
      "divide by zero encountered in scalar divide\n",
      "\n",
      "/Users/pavel/miniconda3/lib/python3.11/site-packages/eXNN/topology/metrics.py:128: RuntimeWarning:\n",
      "\n",
      "divide by zero encountered in scalar divide\n",
      "\n",
      "/Users/pavel/miniconda3/lib/python3.11/site-packages/eXNN/topology/metrics.py:128: RuntimeWarning:\n",
      "\n",
      "divide by zero encountered in scalar divide\n",
      "\n"
     ]
    },
    {
     "name": "stdout",
     "output_type": "stream",
     "text": [
      "Epoch 22/40, Train Loss: 0.0308, Test Loss: 0.0051, RMSE: 0.0715\n"
     ]
    },
    {
     "name": "stderr",
     "output_type": "stream",
     "text": [
      "/Users/pavel/miniconda3/lib/python3.11/site-packages/eXNN/topology/metrics.py:128: RuntimeWarning:\n",
      "\n",
      "divide by zero encountered in scalar divide\n",
      "\n",
      "/Users/pavel/miniconda3/lib/python3.11/site-packages/eXNN/topology/metrics.py:128: RuntimeWarning:\n",
      "\n",
      "divide by zero encountered in scalar divide\n",
      "\n",
      "/Users/pavel/miniconda3/lib/python3.11/site-packages/eXNN/topology/metrics.py:128: RuntimeWarning:\n",
      "\n",
      "divide by zero encountered in scalar divide\n",
      "\n",
      "/Users/pavel/miniconda3/lib/python3.11/site-packages/eXNN/topology/metrics.py:128: RuntimeWarning:\n",
      "\n",
      "divide by zero encountered in scalar divide\n",
      "\n",
      "/Users/pavel/miniconda3/lib/python3.11/site-packages/eXNN/topology/metrics.py:128: RuntimeWarning:\n",
      "\n",
      "divide by zero encountered in scalar divide\n",
      "\n",
      "/Users/pavel/miniconda3/lib/python3.11/site-packages/eXNN/topology/metrics.py:128: RuntimeWarning:\n",
      "\n",
      "divide by zero encountered in scalar divide\n",
      "\n"
     ]
    },
    {
     "name": "stdout",
     "output_type": "stream",
     "text": [
      "Epoch 23/40, Train Loss: 0.0306, Test Loss: 0.0051, RMSE: 0.0714\n"
     ]
    },
    {
     "name": "stderr",
     "output_type": "stream",
     "text": [
      "/Users/pavel/miniconda3/lib/python3.11/site-packages/eXNN/topology/metrics.py:128: RuntimeWarning:\n",
      "\n",
      "divide by zero encountered in scalar divide\n",
      "\n",
      "/Users/pavel/miniconda3/lib/python3.11/site-packages/eXNN/topology/metrics.py:128: RuntimeWarning:\n",
      "\n",
      "divide by zero encountered in scalar divide\n",
      "\n",
      "/Users/pavel/miniconda3/lib/python3.11/site-packages/eXNN/topology/metrics.py:128: RuntimeWarning:\n",
      "\n",
      "divide by zero encountered in scalar divide\n",
      "\n",
      "/Users/pavel/miniconda3/lib/python3.11/site-packages/eXNN/topology/metrics.py:128: RuntimeWarning:\n",
      "\n",
      "divide by zero encountered in scalar divide\n",
      "\n",
      "/Users/pavel/miniconda3/lib/python3.11/site-packages/eXNN/topology/metrics.py:128: RuntimeWarning:\n",
      "\n",
      "divide by zero encountered in scalar divide\n",
      "\n",
      "/Users/pavel/miniconda3/lib/python3.11/site-packages/eXNN/topology/metrics.py:128: RuntimeWarning:\n",
      "\n",
      "divide by zero encountered in scalar divide\n",
      "\n"
     ]
    },
    {
     "name": "stdout",
     "output_type": "stream",
     "text": [
      "Epoch 24/40, Train Loss: 0.0288, Test Loss: 0.0065, RMSE: 0.0802\n"
     ]
    },
    {
     "name": "stderr",
     "output_type": "stream",
     "text": [
      "/Users/pavel/miniconda3/lib/python3.11/site-packages/eXNN/topology/metrics.py:128: RuntimeWarning:\n",
      "\n",
      "divide by zero encountered in scalar divide\n",
      "\n",
      "/Users/pavel/miniconda3/lib/python3.11/site-packages/eXNN/topology/metrics.py:128: RuntimeWarning:\n",
      "\n",
      "divide by zero encountered in scalar divide\n",
      "\n",
      "/Users/pavel/miniconda3/lib/python3.11/site-packages/eXNN/topology/metrics.py:128: RuntimeWarning:\n",
      "\n",
      "divide by zero encountered in scalar divide\n",
      "\n",
      "/Users/pavel/miniconda3/lib/python3.11/site-packages/eXNN/topology/metrics.py:128: RuntimeWarning:\n",
      "\n",
      "divide by zero encountered in scalar divide\n",
      "\n",
      "/Users/pavel/miniconda3/lib/python3.11/site-packages/eXNN/topology/metrics.py:128: RuntimeWarning:\n",
      "\n",
      "divide by zero encountered in scalar divide\n",
      "\n",
      "/Users/pavel/miniconda3/lib/python3.11/site-packages/eXNN/topology/metrics.py:128: RuntimeWarning:\n",
      "\n",
      "divide by zero encountered in scalar divide\n",
      "\n"
     ]
    },
    {
     "name": "stdout",
     "output_type": "stream",
     "text": [
      "Epoch 25/40, Train Loss: 0.0257, Test Loss: 0.0049, RMSE: 0.0698\n"
     ]
    },
    {
     "name": "stderr",
     "output_type": "stream",
     "text": [
      "/Users/pavel/miniconda3/lib/python3.11/site-packages/eXNN/topology/metrics.py:128: RuntimeWarning:\n",
      "\n",
      "divide by zero encountered in scalar divide\n",
      "\n",
      "/Users/pavel/miniconda3/lib/python3.11/site-packages/eXNN/topology/metrics.py:128: RuntimeWarning:\n",
      "\n",
      "divide by zero encountered in scalar divide\n",
      "\n",
      "/Users/pavel/miniconda3/lib/python3.11/site-packages/eXNN/topology/metrics.py:128: RuntimeWarning:\n",
      "\n",
      "divide by zero encountered in scalar divide\n",
      "\n",
      "/Users/pavel/miniconda3/lib/python3.11/site-packages/eXNN/topology/metrics.py:128: RuntimeWarning:\n",
      "\n",
      "divide by zero encountered in scalar divide\n",
      "\n",
      "/Users/pavel/miniconda3/lib/python3.11/site-packages/eXNN/topology/metrics.py:128: RuntimeWarning:\n",
      "\n",
      "divide by zero encountered in scalar divide\n",
      "\n",
      "/Users/pavel/miniconda3/lib/python3.11/site-packages/eXNN/topology/metrics.py:128: RuntimeWarning:\n",
      "\n",
      "divide by zero encountered in scalar divide\n",
      "\n"
     ]
    },
    {
     "name": "stdout",
     "output_type": "stream",
     "text": [
      "Epoch 26/40, Train Loss: 0.0250, Test Loss: 0.0048, RMSE: 0.0687\n"
     ]
    },
    {
     "name": "stderr",
     "output_type": "stream",
     "text": [
      "/Users/pavel/miniconda3/lib/python3.11/site-packages/eXNN/topology/metrics.py:128: RuntimeWarning:\n",
      "\n",
      "divide by zero encountered in scalar divide\n",
      "\n",
      "/Users/pavel/miniconda3/lib/python3.11/site-packages/eXNN/topology/metrics.py:128: RuntimeWarning:\n",
      "\n",
      "divide by zero encountered in scalar divide\n",
      "\n",
      "/Users/pavel/miniconda3/lib/python3.11/site-packages/eXNN/topology/metrics.py:128: RuntimeWarning:\n",
      "\n",
      "divide by zero encountered in scalar divide\n",
      "\n",
      "/Users/pavel/miniconda3/lib/python3.11/site-packages/eXNN/topology/metrics.py:128: RuntimeWarning:\n",
      "\n",
      "divide by zero encountered in scalar divide\n",
      "\n",
      "/Users/pavel/miniconda3/lib/python3.11/site-packages/eXNN/topology/metrics.py:128: RuntimeWarning:\n",
      "\n",
      "divide by zero encountered in scalar divide\n",
      "\n",
      "/Users/pavel/miniconda3/lib/python3.11/site-packages/eXNN/topology/metrics.py:128: RuntimeWarning:\n",
      "\n",
      "divide by zero encountered in scalar divide\n",
      "\n"
     ]
    },
    {
     "name": "stdout",
     "output_type": "stream",
     "text": [
      "Epoch 27/40, Train Loss: 0.0247, Test Loss: 0.0049, RMSE: 0.0701\n"
     ]
    },
    {
     "name": "stderr",
     "output_type": "stream",
     "text": [
      "/Users/pavel/miniconda3/lib/python3.11/site-packages/eXNN/topology/metrics.py:128: RuntimeWarning:\n",
      "\n",
      "divide by zero encountered in scalar divide\n",
      "\n",
      "/Users/pavel/miniconda3/lib/python3.11/site-packages/eXNN/topology/metrics.py:128: RuntimeWarning:\n",
      "\n",
      "divide by zero encountered in scalar divide\n",
      "\n",
      "/Users/pavel/miniconda3/lib/python3.11/site-packages/eXNN/topology/metrics.py:128: RuntimeWarning:\n",
      "\n",
      "divide by zero encountered in scalar divide\n",
      "\n",
      "/Users/pavel/miniconda3/lib/python3.11/site-packages/eXNN/topology/metrics.py:128: RuntimeWarning:\n",
      "\n",
      "divide by zero encountered in scalar divide\n",
      "\n",
      "/Users/pavel/miniconda3/lib/python3.11/site-packages/eXNN/topology/metrics.py:128: RuntimeWarning:\n",
      "\n",
      "divide by zero encountered in scalar divide\n",
      "\n",
      "/Users/pavel/miniconda3/lib/python3.11/site-packages/eXNN/topology/metrics.py:128: RuntimeWarning:\n",
      "\n",
      "divide by zero encountered in scalar divide\n",
      "\n"
     ]
    },
    {
     "name": "stdout",
     "output_type": "stream",
     "text": [
      "Epoch 28/40, Train Loss: 0.0233, Test Loss: 0.0051, RMSE: 0.0710\n"
     ]
    },
    {
     "name": "stderr",
     "output_type": "stream",
     "text": [
      "/Users/pavel/miniconda3/lib/python3.11/site-packages/eXNN/topology/metrics.py:128: RuntimeWarning:\n",
      "\n",
      "divide by zero encountered in scalar divide\n",
      "\n",
      "/Users/pavel/miniconda3/lib/python3.11/site-packages/eXNN/topology/metrics.py:128: RuntimeWarning:\n",
      "\n",
      "divide by zero encountered in scalar divide\n",
      "\n",
      "/Users/pavel/miniconda3/lib/python3.11/site-packages/eXNN/topology/metrics.py:128: RuntimeWarning:\n",
      "\n",
      "divide by zero encountered in scalar divide\n",
      "\n",
      "/Users/pavel/miniconda3/lib/python3.11/site-packages/eXNN/topology/metrics.py:128: RuntimeWarning:\n",
      "\n",
      "divide by zero encountered in scalar divide\n",
      "\n",
      "/Users/pavel/miniconda3/lib/python3.11/site-packages/eXNN/topology/metrics.py:128: RuntimeWarning:\n",
      "\n",
      "divide by zero encountered in scalar divide\n",
      "\n",
      "/Users/pavel/miniconda3/lib/python3.11/site-packages/eXNN/topology/metrics.py:128: RuntimeWarning:\n",
      "\n",
      "divide by zero encountered in scalar divide\n",
      "\n"
     ]
    },
    {
     "name": "stdout",
     "output_type": "stream",
     "text": [
      "Epoch 29/40, Train Loss: 0.0233, Test Loss: 0.0043, RMSE: 0.0652\n"
     ]
    },
    {
     "name": "stderr",
     "output_type": "stream",
     "text": [
      "/Users/pavel/miniconda3/lib/python3.11/site-packages/eXNN/topology/metrics.py:128: RuntimeWarning:\n",
      "\n",
      "divide by zero encountered in scalar divide\n",
      "\n",
      "/Users/pavel/miniconda3/lib/python3.11/site-packages/eXNN/topology/metrics.py:128: RuntimeWarning:\n",
      "\n",
      "divide by zero encountered in scalar divide\n",
      "\n",
      "/Users/pavel/miniconda3/lib/python3.11/site-packages/eXNN/topology/metrics.py:128: RuntimeWarning:\n",
      "\n",
      "divide by zero encountered in scalar divide\n",
      "\n",
      "/Users/pavel/miniconda3/lib/python3.11/site-packages/eXNN/topology/metrics.py:128: RuntimeWarning:\n",
      "\n",
      "divide by zero encountered in scalar divide\n",
      "\n",
      "/Users/pavel/miniconda3/lib/python3.11/site-packages/eXNN/topology/metrics.py:128: RuntimeWarning:\n",
      "\n",
      "divide by zero encountered in scalar divide\n",
      "\n",
      "/Users/pavel/miniconda3/lib/python3.11/site-packages/eXNN/topology/metrics.py:128: RuntimeWarning:\n",
      "\n",
      "divide by zero encountered in scalar divide\n",
      "\n"
     ]
    },
    {
     "name": "stdout",
     "output_type": "stream",
     "text": [
      "Epoch 30/40, Train Loss: 0.0220, Test Loss: 0.0051, RMSE: 0.0705\n"
     ]
    },
    {
     "name": "stderr",
     "output_type": "stream",
     "text": [
      "/Users/pavel/miniconda3/lib/python3.11/site-packages/eXNN/topology/metrics.py:128: RuntimeWarning:\n",
      "\n",
      "divide by zero encountered in scalar divide\n",
      "\n",
      "/Users/pavel/miniconda3/lib/python3.11/site-packages/eXNN/topology/metrics.py:128: RuntimeWarning:\n",
      "\n",
      "divide by zero encountered in scalar divide\n",
      "\n",
      "/Users/pavel/miniconda3/lib/python3.11/site-packages/eXNN/topology/metrics.py:128: RuntimeWarning:\n",
      "\n",
      "divide by zero encountered in scalar divide\n",
      "\n",
      "/Users/pavel/miniconda3/lib/python3.11/site-packages/eXNN/topology/metrics.py:128: RuntimeWarning:\n",
      "\n",
      "divide by zero encountered in scalar divide\n",
      "\n",
      "/Users/pavel/miniconda3/lib/python3.11/site-packages/eXNN/topology/metrics.py:128: RuntimeWarning:\n",
      "\n",
      "divide by zero encountered in scalar divide\n",
      "\n",
      "/Users/pavel/miniconda3/lib/python3.11/site-packages/eXNN/topology/metrics.py:128: RuntimeWarning:\n",
      "\n",
      "divide by zero encountered in scalar divide\n",
      "\n"
     ]
    },
    {
     "name": "stdout",
     "output_type": "stream",
     "text": [
      "Epoch 31/40, Train Loss: 0.0213, Test Loss: 0.0060, RMSE: 0.0767\n"
     ]
    },
    {
     "name": "stderr",
     "output_type": "stream",
     "text": [
      "/Users/pavel/miniconda3/lib/python3.11/site-packages/eXNN/topology/metrics.py:128: RuntimeWarning:\n",
      "\n",
      "divide by zero encountered in scalar divide\n",
      "\n",
      "/Users/pavel/miniconda3/lib/python3.11/site-packages/eXNN/topology/metrics.py:128: RuntimeWarning:\n",
      "\n",
      "divide by zero encountered in scalar divide\n",
      "\n",
      "/Users/pavel/miniconda3/lib/python3.11/site-packages/eXNN/topology/metrics.py:128: RuntimeWarning:\n",
      "\n",
      "divide by zero encountered in scalar divide\n",
      "\n",
      "/Users/pavel/miniconda3/lib/python3.11/site-packages/eXNN/topology/metrics.py:128: RuntimeWarning:\n",
      "\n",
      "divide by zero encountered in scalar divide\n",
      "\n",
      "/Users/pavel/miniconda3/lib/python3.11/site-packages/eXNN/topology/metrics.py:128: RuntimeWarning:\n",
      "\n",
      "divide by zero encountered in scalar divide\n",
      "\n",
      "/Users/pavel/miniconda3/lib/python3.11/site-packages/eXNN/topology/metrics.py:128: RuntimeWarning:\n",
      "\n",
      "divide by zero encountered in scalar divide\n",
      "\n"
     ]
    },
    {
     "name": "stdout",
     "output_type": "stream",
     "text": [
      "Epoch 32/40, Train Loss: 0.0203, Test Loss: 0.0055, RMSE: 0.0735\n"
     ]
    },
    {
     "name": "stderr",
     "output_type": "stream",
     "text": [
      "/Users/pavel/miniconda3/lib/python3.11/site-packages/eXNN/topology/metrics.py:128: RuntimeWarning:\n",
      "\n",
      "divide by zero encountered in scalar divide\n",
      "\n",
      "/Users/pavel/miniconda3/lib/python3.11/site-packages/eXNN/topology/metrics.py:128: RuntimeWarning:\n",
      "\n",
      "divide by zero encountered in scalar divide\n",
      "\n",
      "/Users/pavel/miniconda3/lib/python3.11/site-packages/eXNN/topology/metrics.py:128: RuntimeWarning:\n",
      "\n",
      "divide by zero encountered in scalar divide\n",
      "\n",
      "/Users/pavel/miniconda3/lib/python3.11/site-packages/eXNN/topology/metrics.py:128: RuntimeWarning:\n",
      "\n",
      "divide by zero encountered in scalar divide\n",
      "\n",
      "/Users/pavel/miniconda3/lib/python3.11/site-packages/eXNN/topology/metrics.py:128: RuntimeWarning:\n",
      "\n",
      "divide by zero encountered in scalar divide\n",
      "\n",
      "/Users/pavel/miniconda3/lib/python3.11/site-packages/eXNN/topology/metrics.py:128: RuntimeWarning:\n",
      "\n",
      "divide by zero encountered in scalar divide\n",
      "\n"
     ]
    },
    {
     "name": "stdout",
     "output_type": "stream",
     "text": [
      "Epoch 33/40, Train Loss: 0.0196, Test Loss: 0.0052, RMSE: 0.0716\n"
     ]
    },
    {
     "name": "stderr",
     "output_type": "stream",
     "text": [
      "/Users/pavel/miniconda3/lib/python3.11/site-packages/eXNN/topology/metrics.py:128: RuntimeWarning:\n",
      "\n",
      "divide by zero encountered in scalar divide\n",
      "\n",
      "/Users/pavel/miniconda3/lib/python3.11/site-packages/eXNN/topology/metrics.py:128: RuntimeWarning:\n",
      "\n",
      "divide by zero encountered in scalar divide\n",
      "\n",
      "/Users/pavel/miniconda3/lib/python3.11/site-packages/eXNN/topology/metrics.py:128: RuntimeWarning:\n",
      "\n",
      "divide by zero encountered in scalar divide\n",
      "\n",
      "/Users/pavel/miniconda3/lib/python3.11/site-packages/eXNN/topology/metrics.py:128: RuntimeWarning:\n",
      "\n",
      "divide by zero encountered in scalar divide\n",
      "\n",
      "/Users/pavel/miniconda3/lib/python3.11/site-packages/eXNN/topology/metrics.py:128: RuntimeWarning:\n",
      "\n",
      "divide by zero encountered in scalar divide\n",
      "\n",
      "/Users/pavel/miniconda3/lib/python3.11/site-packages/eXNN/topology/metrics.py:128: RuntimeWarning:\n",
      "\n",
      "divide by zero encountered in scalar divide\n",
      "\n"
     ]
    },
    {
     "name": "stdout",
     "output_type": "stream",
     "text": [
      "Epoch 34/40, Train Loss: 0.0192, Test Loss: 0.0055, RMSE: 0.0735\n"
     ]
    },
    {
     "name": "stderr",
     "output_type": "stream",
     "text": [
      "/Users/pavel/miniconda3/lib/python3.11/site-packages/eXNN/topology/metrics.py:128: RuntimeWarning:\n",
      "\n",
      "divide by zero encountered in scalar divide\n",
      "\n",
      "/Users/pavel/miniconda3/lib/python3.11/site-packages/eXNN/topology/metrics.py:128: RuntimeWarning:\n",
      "\n",
      "divide by zero encountered in scalar divide\n",
      "\n",
      "/Users/pavel/miniconda3/lib/python3.11/site-packages/eXNN/topology/metrics.py:128: RuntimeWarning:\n",
      "\n",
      "divide by zero encountered in scalar divide\n",
      "\n",
      "/Users/pavel/miniconda3/lib/python3.11/site-packages/eXNN/topology/metrics.py:128: RuntimeWarning:\n",
      "\n",
      "divide by zero encountered in scalar divide\n",
      "\n",
      "/Users/pavel/miniconda3/lib/python3.11/site-packages/eXNN/topology/metrics.py:128: RuntimeWarning:\n",
      "\n",
      "divide by zero encountered in scalar divide\n",
      "\n",
      "/Users/pavel/miniconda3/lib/python3.11/site-packages/eXNN/topology/metrics.py:128: RuntimeWarning:\n",
      "\n",
      "divide by zero encountered in scalar divide\n",
      "\n"
     ]
    },
    {
     "name": "stdout",
     "output_type": "stream",
     "text": [
      "Epoch 35/40, Train Loss: 0.0183, Test Loss: 0.0051, RMSE: 0.0705\n"
     ]
    },
    {
     "name": "stderr",
     "output_type": "stream",
     "text": [
      "/Users/pavel/miniconda3/lib/python3.11/site-packages/eXNN/topology/metrics.py:128: RuntimeWarning:\n",
      "\n",
      "divide by zero encountered in scalar divide\n",
      "\n",
      "/Users/pavel/miniconda3/lib/python3.11/site-packages/eXNN/topology/metrics.py:128: RuntimeWarning:\n",
      "\n",
      "divide by zero encountered in scalar divide\n",
      "\n",
      "/Users/pavel/miniconda3/lib/python3.11/site-packages/eXNN/topology/metrics.py:128: RuntimeWarning:\n",
      "\n",
      "divide by zero encountered in scalar divide\n",
      "\n",
      "/Users/pavel/miniconda3/lib/python3.11/site-packages/eXNN/topology/metrics.py:128: RuntimeWarning:\n",
      "\n",
      "divide by zero encountered in scalar divide\n",
      "\n",
      "/Users/pavel/miniconda3/lib/python3.11/site-packages/eXNN/topology/metrics.py:128: RuntimeWarning:\n",
      "\n",
      "divide by zero encountered in scalar divide\n",
      "\n",
      "/Users/pavel/miniconda3/lib/python3.11/site-packages/eXNN/topology/metrics.py:128: RuntimeWarning:\n",
      "\n",
      "divide by zero encountered in scalar divide\n",
      "\n"
     ]
    },
    {
     "name": "stdout",
     "output_type": "stream",
     "text": [
      "Epoch 36/40, Train Loss: 0.0183, Test Loss: 0.0056, RMSE: 0.0745\n"
     ]
    },
    {
     "name": "stderr",
     "output_type": "stream",
     "text": [
      "/Users/pavel/miniconda3/lib/python3.11/site-packages/eXNN/topology/metrics.py:128: RuntimeWarning:\n",
      "\n",
      "divide by zero encountered in scalar divide\n",
      "\n",
      "/Users/pavel/miniconda3/lib/python3.11/site-packages/eXNN/topology/metrics.py:128: RuntimeWarning:\n",
      "\n",
      "divide by zero encountered in scalar divide\n",
      "\n",
      "/Users/pavel/miniconda3/lib/python3.11/site-packages/eXNN/topology/metrics.py:128: RuntimeWarning:\n",
      "\n",
      "divide by zero encountered in scalar divide\n",
      "\n",
      "/Users/pavel/miniconda3/lib/python3.11/site-packages/eXNN/topology/metrics.py:128: RuntimeWarning:\n",
      "\n",
      "divide by zero encountered in scalar divide\n",
      "\n",
      "/Users/pavel/miniconda3/lib/python3.11/site-packages/eXNN/topology/metrics.py:128: RuntimeWarning:\n",
      "\n",
      "divide by zero encountered in scalar divide\n",
      "\n",
      "/Users/pavel/miniconda3/lib/python3.11/site-packages/eXNN/topology/metrics.py:128: RuntimeWarning:\n",
      "\n",
      "divide by zero encountered in scalar divide\n",
      "\n"
     ]
    },
    {
     "name": "stdout",
     "output_type": "stream",
     "text": [
      "Epoch 37/40, Train Loss: 0.0176, Test Loss: 0.0060, RMSE: 0.0771\n"
     ]
    },
    {
     "name": "stderr",
     "output_type": "stream",
     "text": [
      "/Users/pavel/miniconda3/lib/python3.11/site-packages/eXNN/topology/metrics.py:128: RuntimeWarning:\n",
      "\n",
      "divide by zero encountered in scalar divide\n",
      "\n",
      "/Users/pavel/miniconda3/lib/python3.11/site-packages/eXNN/topology/metrics.py:128: RuntimeWarning:\n",
      "\n",
      "divide by zero encountered in scalar divide\n",
      "\n",
      "/Users/pavel/miniconda3/lib/python3.11/site-packages/eXNN/topology/metrics.py:128: RuntimeWarning:\n",
      "\n",
      "divide by zero encountered in scalar divide\n",
      "\n",
      "/Users/pavel/miniconda3/lib/python3.11/site-packages/eXNN/topology/metrics.py:128: RuntimeWarning:\n",
      "\n",
      "divide by zero encountered in scalar divide\n",
      "\n",
      "/Users/pavel/miniconda3/lib/python3.11/site-packages/eXNN/topology/metrics.py:128: RuntimeWarning:\n",
      "\n",
      "divide by zero encountered in scalar divide\n",
      "\n",
      "/Users/pavel/miniconda3/lib/python3.11/site-packages/eXNN/topology/metrics.py:128: RuntimeWarning:\n",
      "\n",
      "divide by zero encountered in scalar divide\n",
      "\n"
     ]
    },
    {
     "name": "stdout",
     "output_type": "stream",
     "text": [
      "Epoch 38/40, Train Loss: 0.0174, Test Loss: 0.0044, RMSE: 0.0660\n"
     ]
    },
    {
     "name": "stderr",
     "output_type": "stream",
     "text": [
      "/Users/pavel/miniconda3/lib/python3.11/site-packages/eXNN/topology/metrics.py:128: RuntimeWarning:\n",
      "\n",
      "divide by zero encountered in scalar divide\n",
      "\n",
      "/Users/pavel/miniconda3/lib/python3.11/site-packages/eXNN/topology/metrics.py:128: RuntimeWarning:\n",
      "\n",
      "divide by zero encountered in scalar divide\n",
      "\n",
      "/Users/pavel/miniconda3/lib/python3.11/site-packages/eXNN/topology/metrics.py:128: RuntimeWarning:\n",
      "\n",
      "divide by zero encountered in scalar divide\n",
      "\n",
      "/Users/pavel/miniconda3/lib/python3.11/site-packages/eXNN/topology/metrics.py:128: RuntimeWarning:\n",
      "\n",
      "divide by zero encountered in scalar divide\n",
      "\n",
      "/Users/pavel/miniconda3/lib/python3.11/site-packages/eXNN/topology/metrics.py:128: RuntimeWarning:\n",
      "\n",
      "divide by zero encountered in scalar divide\n",
      "\n",
      "/Users/pavel/miniconda3/lib/python3.11/site-packages/eXNN/topology/metrics.py:128: RuntimeWarning:\n",
      "\n",
      "divide by zero encountered in scalar divide\n",
      "\n"
     ]
    },
    {
     "name": "stdout",
     "output_type": "stream",
     "text": [
      "Epoch 39/40, Train Loss: 0.0164, Test Loss: 0.0053, RMSE: 0.0726\n"
     ]
    },
    {
     "name": "stderr",
     "output_type": "stream",
     "text": [
      "/Users/pavel/miniconda3/lib/python3.11/site-packages/eXNN/topology/metrics.py:128: RuntimeWarning:\n",
      "\n",
      "divide by zero encountered in scalar divide\n",
      "\n",
      "/Users/pavel/miniconda3/lib/python3.11/site-packages/eXNN/topology/metrics.py:128: RuntimeWarning:\n",
      "\n",
      "divide by zero encountered in scalar divide\n",
      "\n",
      "/Users/pavel/miniconda3/lib/python3.11/site-packages/eXNN/topology/metrics.py:128: RuntimeWarning:\n",
      "\n",
      "divide by zero encountered in scalar divide\n",
      "\n",
      "/Users/pavel/miniconda3/lib/python3.11/site-packages/eXNN/topology/metrics.py:128: RuntimeWarning:\n",
      "\n",
      "divide by zero encountered in scalar divide\n",
      "\n",
      "/Users/pavel/miniconda3/lib/python3.11/site-packages/eXNN/topology/metrics.py:128: RuntimeWarning:\n",
      "\n",
      "divide by zero encountered in scalar divide\n",
      "\n",
      "/Users/pavel/miniconda3/lib/python3.11/site-packages/eXNN/topology/metrics.py:128: RuntimeWarning:\n",
      "\n",
      "divide by zero encountered in scalar divide\n",
      "\n"
     ]
    },
    {
     "name": "stdout",
     "output_type": "stream",
     "text": [
      "Epoch 40/40, Train Loss: 0.0164, Test Loss: 0.0042, RMSE: 0.0645\n"
     ]
    },
    {
     "data": {
      "image/png": "[encoded data removed]",
      "text/plain": [
       "<Figure size 1000x500 with 1 Axes>"
      ]
     },
     "metadata": {},
     "output_type": "display_data"
    },
    {
     "name": "stderr",
     "output_type": "stream",
     "text": [
      "/Users/pavel/miniconda3/lib/python3.11/site-packages/eXNN/topology/metrics.py:128: RuntimeWarning:\n",
      "\n",
      "divide by zero encountered in scalar divide\n",
      "\n",
      "/Users/pavel/miniconda3/lib/python3.11/site-packages/eXNN/topology/metrics.py:128: RuntimeWarning:\n",
      "\n",
      "divide by zero encountered in scalar divide\n",
      "\n",
      "/Users/pavel/miniconda3/lib/python3.11/site-packages/eXNN/topology/metrics.py:128: RuntimeWarning:\n",
      "\n",
      "divide by zero encountered in scalar divide\n",
      "\n",
      "/Users/pavel/miniconda3/lib/python3.11/site-packages/eXNN/topology/metrics.py:128: RuntimeWarning:\n",
      "\n",
      "divide by zero encountered in scalar divide\n",
      "\n",
      "/Users/pavel/miniconda3/lib/python3.11/site-packages/eXNN/topology/metrics.py:128: RuntimeWarning:\n",
      "\n",
      "divide by zero encountered in scalar divide\n",
      "\n",
      "/Users/pavel/miniconda3/lib/python3.11/site-packages/eXNN/topology/metrics.py:128: RuntimeWarning:\n",
      "\n",
      "divide by zero encountered in scalar divide\n",
      "\n"
     ]
    },
    {
     "name": "stdout",
     "output_type": "stream",
     "text": [
      "Epoch 1/40, Train Loss: 0.1704, Test Loss: 0.0313, RMSE: 0.1810\n"
     ]
    },
    {
     "name": "stderr",
     "output_type": "stream",
     "text": [
      "/Users/pavel/miniconda3/lib/python3.11/site-packages/eXNN/topology/metrics.py:128: RuntimeWarning:\n",
      "\n",
      "divide by zero encountered in scalar divide\n",
      "\n",
      "/Users/pavel/miniconda3/lib/python3.11/site-packages/eXNN/topology/metrics.py:128: RuntimeWarning:\n",
      "\n",
      "divide by zero encountered in scalar divide\n",
      "\n",
      "/Users/pavel/miniconda3/lib/python3.11/site-packages/eXNN/topology/metrics.py:128: RuntimeWarning:\n",
      "\n",
      "divide by zero encountered in scalar divide\n",
      "\n",
      "/Users/pavel/miniconda3/lib/python3.11/site-packages/eXNN/topology/metrics.py:128: RuntimeWarning:\n",
      "\n",
      "divide by zero encountered in scalar divide\n",
      "\n",
      "/Users/pavel/miniconda3/lib/python3.11/site-packages/eXNN/topology/metrics.py:128: RuntimeWarning:\n",
      "\n",
      "divide by zero encountered in scalar divide\n",
      "\n",
      "/Users/pavel/miniconda3/lib/python3.11/site-packages/eXNN/topology/metrics.py:128: RuntimeWarning:\n",
      "\n",
      "divide by zero encountered in scalar divide\n",
      "\n"
     ]
    },
    {
     "name": "stdout",
     "output_type": "stream",
     "text": [
      "Epoch 2/40, Train Loss: 0.1113, Test Loss: 0.0200, RMSE: 0.1452\n"
     ]
    },
    {
     "name": "stderr",
     "output_type": "stream",
     "text": [
      "/Users/pavel/miniconda3/lib/python3.11/site-packages/eXNN/topology/metrics.py:128: RuntimeWarning:\n",
      "\n",
      "divide by zero encountered in scalar divide\n",
      "\n",
      "/Users/pavel/miniconda3/lib/python3.11/site-packages/eXNN/topology/metrics.py:128: RuntimeWarning:\n",
      "\n",
      "divide by zero encountered in scalar divide\n",
      "\n",
      "/Users/pavel/miniconda3/lib/python3.11/site-packages/eXNN/topology/metrics.py:128: RuntimeWarning:\n",
      "\n",
      "divide by zero encountered in scalar divide\n",
      "\n",
      "/Users/pavel/miniconda3/lib/python3.11/site-packages/eXNN/topology/metrics.py:128: RuntimeWarning:\n",
      "\n",
      "divide by zero encountered in scalar divide\n",
      "\n",
      "/Users/pavel/miniconda3/lib/python3.11/site-packages/eXNN/topology/metrics.py:128: RuntimeWarning:\n",
      "\n",
      "divide by zero encountered in scalar divide\n",
      "\n",
      "/Users/pavel/miniconda3/lib/python3.11/site-packages/eXNN/topology/metrics.py:128: RuntimeWarning:\n",
      "\n",
      "divide by zero encountered in scalar divide\n",
      "\n"
     ]
    },
    {
     "name": "stdout",
     "output_type": "stream",
     "text": [
      "Epoch 3/40, Train Loss: 0.0931, Test Loss: 0.0183, RMSE: 0.1390\n"
     ]
    },
    {
     "name": "stderr",
     "output_type": "stream",
     "text": [
      "/Users/pavel/miniconda3/lib/python3.11/site-packages/eXNN/topology/metrics.py:128: RuntimeWarning:\n",
      "\n",
      "divide by zero encountered in scalar divide\n",
      "\n",
      "/Users/pavel/miniconda3/lib/python3.11/site-packages/eXNN/topology/metrics.py:128: RuntimeWarning:\n",
      "\n",
      "divide by zero encountered in scalar divide\n",
      "\n",
      "/Users/pavel/miniconda3/lib/python3.11/site-packages/eXNN/topology/metrics.py:128: RuntimeWarning:\n",
      "\n",
      "divide by zero encountered in scalar divide\n",
      "\n",
      "/Users/pavel/miniconda3/lib/python3.11/site-packages/eXNN/topology/metrics.py:128: RuntimeWarning:\n",
      "\n",
      "divide by zero encountered in scalar divide\n",
      "\n",
      "/Users/pavel/miniconda3/lib/python3.11/site-packages/eXNN/topology/metrics.py:128: RuntimeWarning:\n",
      "\n",
      "divide by zero encountered in scalar divide\n",
      "\n",
      "/Users/pavel/miniconda3/lib/python3.11/site-packages/eXNN/topology/metrics.py:128: RuntimeWarning:\n",
      "\n",
      "divide by zero encountered in scalar divide\n",
      "\n"
     ]
    },
    {
     "name": "stdout",
     "output_type": "stream",
     "text": [
      "Epoch 4/40, Train Loss: 0.0809, Test Loss: 0.0138, RMSE: 0.1206\n"
     ]
    },
    {
     "name": "stderr",
     "output_type": "stream",
     "text": [
      "/Users/pavel/miniconda3/lib/python3.11/site-packages/eXNN/topology/metrics.py:128: RuntimeWarning:\n",
      "\n",
      "divide by zero encountered in scalar divide\n",
      "\n",
      "/Users/pavel/miniconda3/lib/python3.11/site-packages/eXNN/topology/metrics.py:128: RuntimeWarning:\n",
      "\n",
      "divide by zero encountered in scalar divide\n",
      "\n",
      "/Users/pavel/miniconda3/lib/python3.11/site-packages/eXNN/topology/metrics.py:128: RuntimeWarning:\n",
      "\n",
      "divide by zero encountered in scalar divide\n",
      "\n",
      "/Users/pavel/miniconda3/lib/python3.11/site-packages/eXNN/topology/metrics.py:128: RuntimeWarning:\n",
      "\n",
      "divide by zero encountered in scalar divide\n",
      "\n",
      "/Users/pavel/miniconda3/lib/python3.11/site-packages/eXNN/topology/metrics.py:128: RuntimeWarning:\n",
      "\n",
      "divide by zero encountered in scalar divide\n",
      "\n",
      "/Users/pavel/miniconda3/lib/python3.11/site-packages/eXNN/topology/metrics.py:128: RuntimeWarning:\n",
      "\n",
      "divide by zero encountered in scalar divide\n",
      "\n"
     ]
    },
    {
     "name": "stdout",
     "output_type": "stream",
     "text": [
      "Epoch 5/40, Train Loss: 0.0707, Test Loss: 0.0125, RMSE: 0.1149\n"
     ]
    },
    {
     "name": "stderr",
     "output_type": "stream",
     "text": [
      "/Users/pavel/miniconda3/lib/python3.11/site-packages/eXNN/topology/metrics.py:128: RuntimeWarning:\n",
      "\n",
      "divide by zero encountered in scalar divide\n",
      "\n",
      "/Users/pavel/miniconda3/lib/python3.11/site-packages/eXNN/topology/metrics.py:128: RuntimeWarning:\n",
      "\n",
      "divide by zero encountered in scalar divide\n",
      "\n",
      "/Users/pavel/miniconda3/lib/python3.11/site-packages/eXNN/topology/metrics.py:128: RuntimeWarning:\n",
      "\n",
      "divide by zero encountered in scalar divide\n",
      "\n",
      "/Users/pavel/miniconda3/lib/python3.11/site-packages/eXNN/topology/metrics.py:128: RuntimeWarning:\n",
      "\n",
      "divide by zero encountered in scalar divide\n",
      "\n",
      "/Users/pavel/miniconda3/lib/python3.11/site-packages/eXNN/topology/metrics.py:128: RuntimeWarning:\n",
      "\n",
      "divide by zero encountered in scalar divide\n",
      "\n",
      "/Users/pavel/miniconda3/lib/python3.11/site-packages/eXNN/topology/metrics.py:128: RuntimeWarning:\n",
      "\n",
      "divide by zero encountered in scalar divide\n",
      "\n"
     ]
    },
    {
     "name": "stdout",
     "output_type": "stream",
     "text": [
      "Epoch 6/40, Train Loss: 0.0618, Test Loss: 0.0096, RMSE: 0.1006\n"
     ]
    },
    {
     "name": "stderr",
     "output_type": "stream",
     "text": [
      "/Users/pavel/miniconda3/lib/python3.11/site-packages/eXNN/topology/metrics.py:128: RuntimeWarning:\n",
      "\n",
      "divide by zero encountered in scalar divide\n",
      "\n",
      "/Users/pavel/miniconda3/lib/python3.11/site-packages/eXNN/topology/metrics.py:128: RuntimeWarning:\n",
      "\n",
      "divide by zero encountered in scalar divide\n",
      "\n",
      "/Users/pavel/miniconda3/lib/python3.11/site-packages/eXNN/topology/metrics.py:128: RuntimeWarning:\n",
      "\n",
      "divide by zero encountered in scalar divide\n",
      "\n",
      "/Users/pavel/miniconda3/lib/python3.11/site-packages/eXNN/topology/metrics.py:128: RuntimeWarning:\n",
      "\n",
      "divide by zero encountered in scalar divide\n",
      "\n",
      "/Users/pavel/miniconda3/lib/python3.11/site-packages/eXNN/topology/metrics.py:128: RuntimeWarning:\n",
      "\n",
      "divide by zero encountered in scalar divide\n",
      "\n",
      "/Users/pavel/miniconda3/lib/python3.11/site-packages/eXNN/topology/metrics.py:128: RuntimeWarning:\n",
      "\n",
      "divide by zero encountered in scalar divide\n",
      "\n"
     ]
    },
    {
     "name": "stdout",
     "output_type": "stream",
     "text": [
      "Epoch 7/40, Train Loss: 0.0556, Test Loss: 0.0095, RMSE: 0.1001\n"
     ]
    },
    {
     "name": "stderr",
     "output_type": "stream",
     "text": [
      "/Users/pavel/miniconda3/lib/python3.11/site-packages/eXNN/topology/metrics.py:128: RuntimeWarning:\n",
      "\n",
      "divide by zero encountered in scalar divide\n",
      "\n",
      "/Users/pavel/miniconda3/lib/python3.11/site-packages/eXNN/topology/metrics.py:128: RuntimeWarning:\n",
      "\n",
      "divide by zero encountered in scalar divide\n",
      "\n",
      "/Users/pavel/miniconda3/lib/python3.11/site-packages/eXNN/topology/metrics.py:128: RuntimeWarning:\n",
      "\n",
      "divide by zero encountered in scalar divide\n",
      "\n",
      "/Users/pavel/miniconda3/lib/python3.11/site-packages/eXNN/topology/metrics.py:128: RuntimeWarning:\n",
      "\n",
      "divide by zero encountered in scalar divide\n",
      "\n",
      "/Users/pavel/miniconda3/lib/python3.11/site-packages/eXNN/topology/metrics.py:128: RuntimeWarning:\n",
      "\n",
      "divide by zero encountered in scalar divide\n",
      "\n",
      "/Users/pavel/miniconda3/lib/python3.11/site-packages/eXNN/topology/metrics.py:128: RuntimeWarning:\n",
      "\n",
      "divide by zero encountered in scalar divide\n",
      "\n"
     ]
    },
    {
     "name": "stdout",
     "output_type": "stream",
     "text": [
      "Epoch 8/40, Train Loss: 0.0497, Test Loss: 0.0089, RMSE: 0.0972\n"
     ]
    },
    {
     "name": "stderr",
     "output_type": "stream",
     "text": [
      "/Users/pavel/miniconda3/lib/python3.11/site-packages/eXNN/topology/metrics.py:128: RuntimeWarning:\n",
      "\n",
      "divide by zero encountered in scalar divide\n",
      "\n",
      "/Users/pavel/miniconda3/lib/python3.11/site-packages/eXNN/topology/metrics.py:128: RuntimeWarning:\n",
      "\n",
      "divide by zero encountered in scalar divide\n",
      "\n",
      "/Users/pavel/miniconda3/lib/python3.11/site-packages/eXNN/topology/metrics.py:128: RuntimeWarning:\n",
      "\n",
      "divide by zero encountered in scalar divide\n",
      "\n",
      "/Users/pavel/miniconda3/lib/python3.11/site-packages/eXNN/topology/metrics.py:128: RuntimeWarning:\n",
      "\n",
      "divide by zero encountered in scalar divide\n",
      "\n",
      "/Users/pavel/miniconda3/lib/python3.11/site-packages/eXNN/topology/metrics.py:128: RuntimeWarning:\n",
      "\n",
      "divide by zero encountered in scalar divide\n",
      "\n",
      "/Users/pavel/miniconda3/lib/python3.11/site-packages/eXNN/topology/metrics.py:128: RuntimeWarning:\n",
      "\n",
      "divide by zero encountered in scalar divide\n",
      "\n"
     ]
    },
    {
     "name": "stdout",
     "output_type": "stream",
     "text": [
      "Epoch 9/40, Train Loss: 0.0461, Test Loss: 0.0073, RMSE: 0.0879\n"
     ]
    },
    {
     "name": "stderr",
     "output_type": "stream",
     "text": [
      "/Users/pavel/miniconda3/lib/python3.11/site-packages/eXNN/topology/metrics.py:128: RuntimeWarning:\n",
      "\n",
      "divide by zero encountered in scalar divide\n",
      "\n",
      "/Users/pavel/miniconda3/lib/python3.11/site-packages/eXNN/topology/metrics.py:128: RuntimeWarning:\n",
      "\n",
      "divide by zero encountered in scalar divide\n",
      "\n",
      "/Users/pavel/miniconda3/lib/python3.11/site-packages/eXNN/topology/metrics.py:128: RuntimeWarning:\n",
      "\n",
      "divide by zero encountered in scalar divide\n",
      "\n",
      "/Users/pavel/miniconda3/lib/python3.11/site-packages/eXNN/topology/metrics.py:128: RuntimeWarning:\n",
      "\n",
      "divide by zero encountered in scalar divide\n",
      "\n",
      "/Users/pavel/miniconda3/lib/python3.11/site-packages/eXNN/topology/metrics.py:128: RuntimeWarning:\n",
      "\n",
      "divide by zero encountered in scalar divide\n",
      "\n",
      "/Users/pavel/miniconda3/lib/python3.11/site-packages/eXNN/topology/metrics.py:128: RuntimeWarning:\n",
      "\n",
      "divide by zero encountered in scalar divide\n",
      "\n"
     ]
    },
    {
     "name": "stdout",
     "output_type": "stream",
     "text": [
      "Epoch 10/40, Train Loss: 0.0409, Test Loss: 0.0071, RMSE: 0.0856\n"
     ]
    },
    {
     "name": "stderr",
     "output_type": "stream",
     "text": [
      "/Users/pavel/miniconda3/lib/python3.11/site-packages/eXNN/topology/metrics.py:128: RuntimeWarning:\n",
      "\n",
      "divide by zero encountered in scalar divide\n",
      "\n",
      "/Users/pavel/miniconda3/lib/python3.11/site-packages/eXNN/topology/metrics.py:128: RuntimeWarning:\n",
      "\n",
      "divide by zero encountered in scalar divide\n",
      "\n",
      "/Users/pavel/miniconda3/lib/python3.11/site-packages/eXNN/topology/metrics.py:128: RuntimeWarning:\n",
      "\n",
      "divide by zero encountered in scalar divide\n",
      "\n",
      "/Users/pavel/miniconda3/lib/python3.11/site-packages/eXNN/topology/metrics.py:128: RuntimeWarning:\n",
      "\n",
      "divide by zero encountered in scalar divide\n",
      "\n",
      "/Users/pavel/miniconda3/lib/python3.11/site-packages/eXNN/topology/metrics.py:128: RuntimeWarning:\n",
      "\n",
      "divide by zero encountered in scalar divide\n",
      "\n",
      "/Users/pavel/miniconda3/lib/python3.11/site-packages/eXNN/topology/metrics.py:128: RuntimeWarning:\n",
      "\n",
      "divide by zero encountered in scalar divide\n",
      "\n"
     ]
    },
    {
     "name": "stdout",
     "output_type": "stream",
     "text": [
      "Epoch 11/40, Train Loss: 0.0374, Test Loss: 0.0060, RMSE: 0.0787\n"
     ]
    },
    {
     "name": "stderr",
     "output_type": "stream",
     "text": [
      "/Users/pavel/miniconda3/lib/python3.11/site-packages/eXNN/topology/metrics.py:128: RuntimeWarning:\n",
      "\n",
      "divide by zero encountered in scalar divide\n",
      "\n",
      "/Users/pavel/miniconda3/lib/python3.11/site-packages/eXNN/topology/metrics.py:128: RuntimeWarning:\n",
      "\n",
      "divide by zero encountered in scalar divide\n",
      "\n",
      "/Users/pavel/miniconda3/lib/python3.11/site-packages/eXNN/topology/metrics.py:128: RuntimeWarning:\n",
      "\n",
      "divide by zero encountered in scalar divide\n",
      "\n",
      "/Users/pavel/miniconda3/lib/python3.11/site-packages/eXNN/topology/metrics.py:128: RuntimeWarning:\n",
      "\n",
      "divide by zero encountered in scalar divide\n",
      "\n",
      "/Users/pavel/miniconda3/lib/python3.11/site-packages/eXNN/topology/metrics.py:128: RuntimeWarning:\n",
      "\n",
      "divide by zero encountered in scalar divide\n",
      "\n",
      "/Users/pavel/miniconda3/lib/python3.11/site-packages/eXNN/topology/metrics.py:128: RuntimeWarning:\n",
      "\n",
      "divide by zero encountered in scalar divide\n",
      "\n"
     ]
    },
    {
     "name": "stdout",
     "output_type": "stream",
     "text": [
      "Epoch 12/40, Train Loss: 0.0354, Test Loss: 0.0078, RMSE: 0.0907\n"
     ]
    },
    {
     "name": "stderr",
     "output_type": "stream",
     "text": [
      "/Users/pavel/miniconda3/lib/python3.11/site-packages/eXNN/topology/metrics.py:128: RuntimeWarning:\n",
      "\n",
      "divide by zero encountered in scalar divide\n",
      "\n",
      "/Users/pavel/miniconda3/lib/python3.11/site-packages/eXNN/topology/metrics.py:128: RuntimeWarning:\n",
      "\n",
      "divide by zero encountered in scalar divide\n",
      "\n",
      "/Users/pavel/miniconda3/lib/python3.11/site-packages/eXNN/topology/metrics.py:128: RuntimeWarning:\n",
      "\n",
      "divide by zero encountered in scalar divide\n",
      "\n",
      "/Users/pavel/miniconda3/lib/python3.11/site-packages/eXNN/topology/metrics.py:128: RuntimeWarning:\n",
      "\n",
      "divide by zero encountered in scalar divide\n",
      "\n",
      "/Users/pavel/miniconda3/lib/python3.11/site-packages/eXNN/topology/metrics.py:128: RuntimeWarning:\n",
      "\n",
      "divide by zero encountered in scalar divide\n",
      "\n",
      "/Users/pavel/miniconda3/lib/python3.11/site-packages/eXNN/topology/metrics.py:128: RuntimeWarning:\n",
      "\n",
      "divide by zero encountered in scalar divide\n",
      "\n"
     ]
    },
    {
     "name": "stdout",
     "output_type": "stream",
     "text": [
      "Epoch 13/40, Train Loss: 0.0315, Test Loss: 0.0074, RMSE: 0.0874\n"
     ]
    },
    {
     "name": "stderr",
     "output_type": "stream",
     "text": [
      "/Users/pavel/miniconda3/lib/python3.11/site-packages/eXNN/topology/metrics.py:128: RuntimeWarning:\n",
      "\n",
      "divide by zero encountered in scalar divide\n",
      "\n",
      "/Users/pavel/miniconda3/lib/python3.11/site-packages/eXNN/topology/metrics.py:128: RuntimeWarning:\n",
      "\n",
      "divide by zero encountered in scalar divide\n",
      "\n",
      "/Users/pavel/miniconda3/lib/python3.11/site-packages/eXNN/topology/metrics.py:128: RuntimeWarning:\n",
      "\n",
      "divide by zero encountered in scalar divide\n",
      "\n",
      "/Users/pavel/miniconda3/lib/python3.11/site-packages/eXNN/topology/metrics.py:128: RuntimeWarning:\n",
      "\n",
      "divide by zero encountered in scalar divide\n",
      "\n",
      "/Users/pavel/miniconda3/lib/python3.11/site-packages/eXNN/topology/metrics.py:128: RuntimeWarning:\n",
      "\n",
      "divide by zero encountered in scalar divide\n",
      "\n",
      "/Users/pavel/miniconda3/lib/python3.11/site-packages/eXNN/topology/metrics.py:128: RuntimeWarning:\n",
      "\n",
      "divide by zero encountered in scalar divide\n",
      "\n"
     ]
    },
    {
     "name": "stdout",
     "output_type": "stream",
     "text": [
      "Epoch 14/40, Train Loss: 0.0284, Test Loss: 0.0057, RMSE: 0.0774\n"
     ]
    },
    {
     "name": "stderr",
     "output_type": "stream",
     "text": [
      "/Users/pavel/miniconda3/lib/python3.11/site-packages/eXNN/topology/metrics.py:128: RuntimeWarning:\n",
      "\n",
      "divide by zero encountered in scalar divide\n",
      "\n",
      "/Users/pavel/miniconda3/lib/python3.11/site-packages/eXNN/topology/metrics.py:128: RuntimeWarning:\n",
      "\n",
      "divide by zero encountered in scalar divide\n",
      "\n",
      "/Users/pavel/miniconda3/lib/python3.11/site-packages/eXNN/topology/metrics.py:128: RuntimeWarning:\n",
      "\n",
      "divide by zero encountered in scalar divide\n",
      "\n",
      "/Users/pavel/miniconda3/lib/python3.11/site-packages/eXNN/topology/metrics.py:128: RuntimeWarning:\n",
      "\n",
      "divide by zero encountered in scalar divide\n",
      "\n",
      "/Users/pavel/miniconda3/lib/python3.11/site-packages/eXNN/topology/metrics.py:128: RuntimeWarning:\n",
      "\n",
      "divide by zero encountered in scalar divide\n",
      "\n",
      "/Users/pavel/miniconda3/lib/python3.11/site-packages/eXNN/topology/metrics.py:128: RuntimeWarning:\n",
      "\n",
      "divide by zero encountered in scalar divide\n",
      "\n"
     ]
    },
    {
     "name": "stdout",
     "output_type": "stream",
     "text": [
      "Epoch 15/40, Train Loss: 0.0261, Test Loss: 0.0051, RMSE: 0.0728\n"
     ]
    },
    {
     "name": "stderr",
     "output_type": "stream",
     "text": [
      "/Users/pavel/miniconda3/lib/python3.11/site-packages/eXNN/topology/metrics.py:128: RuntimeWarning:\n",
      "\n",
      "divide by zero encountered in scalar divide\n",
      "\n",
      "/Users/pavel/miniconda3/lib/python3.11/site-packages/eXNN/topology/metrics.py:128: RuntimeWarning:\n",
      "\n",
      "divide by zero encountered in scalar divide\n",
      "\n",
      "/Users/pavel/miniconda3/lib/python3.11/site-packages/eXNN/topology/metrics.py:128: RuntimeWarning:\n",
      "\n",
      "divide by zero encountered in scalar divide\n",
      "\n",
      "/Users/pavel/miniconda3/lib/python3.11/site-packages/eXNN/topology/metrics.py:128: RuntimeWarning:\n",
      "\n",
      "divide by zero encountered in scalar divide\n",
      "\n",
      "/Users/pavel/miniconda3/lib/python3.11/site-packages/eXNN/topology/metrics.py:128: RuntimeWarning:\n",
      "\n",
      "divide by zero encountered in scalar divide\n",
      "\n",
      "/Users/pavel/miniconda3/lib/python3.11/site-packages/eXNN/topology/metrics.py:128: RuntimeWarning:\n",
      "\n",
      "divide by zero encountered in scalar divide\n",
      "\n"
     ]
    },
    {
     "name": "stdout",
     "output_type": "stream",
     "text": [
      "Epoch 16/40, Train Loss: 0.0241, Test Loss: 0.0044, RMSE: 0.0679\n"
     ]
    },
    {
     "name": "stderr",
     "output_type": "stream",
     "text": [
      "/Users/pavel/miniconda3/lib/python3.11/site-packages/eXNN/topology/metrics.py:128: RuntimeWarning:\n",
      "\n",
      "divide by zero encountered in scalar divide\n",
      "\n",
      "/Users/pavel/miniconda3/lib/python3.11/site-packages/eXNN/topology/metrics.py:128: RuntimeWarning:\n",
      "\n",
      "divide by zero encountered in scalar divide\n",
      "\n",
      "/Users/pavel/miniconda3/lib/python3.11/site-packages/eXNN/topology/metrics.py:128: RuntimeWarning:\n",
      "\n",
      "divide by zero encountered in scalar divide\n",
      "\n",
      "/Users/pavel/miniconda3/lib/python3.11/site-packages/eXNN/topology/metrics.py:128: RuntimeWarning:\n",
      "\n",
      "divide by zero encountered in scalar divide\n",
      "\n",
      "/Users/pavel/miniconda3/lib/python3.11/site-packages/eXNN/topology/metrics.py:128: RuntimeWarning:\n",
      "\n",
      "divide by zero encountered in scalar divide\n",
      "\n",
      "/Users/pavel/miniconda3/lib/python3.11/site-packages/eXNN/topology/metrics.py:128: RuntimeWarning:\n",
      "\n",
      "divide by zero encountered in scalar divide\n",
      "\n"
     ]
    },
    {
     "name": "stdout",
     "output_type": "stream",
     "text": [
      "Epoch 17/40, Train Loss: 0.0231, Test Loss: 0.0054, RMSE: 0.0751\n"
     ]
    },
    {
     "name": "stderr",
     "output_type": "stream",
     "text": [
      "/Users/pavel/miniconda3/lib/python3.11/site-packages/eXNN/topology/metrics.py:128: RuntimeWarning:\n",
      "\n",
      "divide by zero encountered in scalar divide\n",
      "\n",
      "/Users/pavel/miniconda3/lib/python3.11/site-packages/eXNN/topology/metrics.py:128: RuntimeWarning:\n",
      "\n",
      "divide by zero encountered in scalar divide\n",
      "\n",
      "/Users/pavel/miniconda3/lib/python3.11/site-packages/eXNN/topology/metrics.py:128: RuntimeWarning:\n",
      "\n",
      "divide by zero encountered in scalar divide\n",
      "\n",
      "/Users/pavel/miniconda3/lib/python3.11/site-packages/eXNN/topology/metrics.py:128: RuntimeWarning:\n",
      "\n",
      "divide by zero encountered in scalar divide\n",
      "\n",
      "/Users/pavel/miniconda3/lib/python3.11/site-packages/eXNN/topology/metrics.py:128: RuntimeWarning:\n",
      "\n",
      "divide by zero encountered in scalar divide\n",
      "\n",
      "/Users/pavel/miniconda3/lib/python3.11/site-packages/eXNN/topology/metrics.py:128: RuntimeWarning:\n",
      "\n",
      "divide by zero encountered in scalar divide\n",
      "\n"
     ]
    },
    {
     "name": "stdout",
     "output_type": "stream",
     "text": [
      "Epoch 18/40, Train Loss: 0.0210, Test Loss: 0.0046, RMSE: 0.0695\n"
     ]
    },
    {
     "name": "stderr",
     "output_type": "stream",
     "text": [
      "/Users/pavel/miniconda3/lib/python3.11/site-packages/eXNN/topology/metrics.py:128: RuntimeWarning:\n",
      "\n",
      "divide by zero encountered in scalar divide\n",
      "\n",
      "/Users/pavel/miniconda3/lib/python3.11/site-packages/eXNN/topology/metrics.py:128: RuntimeWarning:\n",
      "\n",
      "divide by zero encountered in scalar divide\n",
      "\n",
      "/Users/pavel/miniconda3/lib/python3.11/site-packages/eXNN/topology/metrics.py:128: RuntimeWarning:\n",
      "\n",
      "divide by zero encountered in scalar divide\n",
      "\n",
      "/Users/pavel/miniconda3/lib/python3.11/site-packages/eXNN/topology/metrics.py:128: RuntimeWarning:\n",
      "\n",
      "divide by zero encountered in scalar divide\n",
      "\n",
      "/Users/pavel/miniconda3/lib/python3.11/site-packages/eXNN/topology/metrics.py:128: RuntimeWarning:\n",
      "\n",
      "divide by zero encountered in scalar divide\n",
      "\n",
      "/Users/pavel/miniconda3/lib/python3.11/site-packages/eXNN/topology/metrics.py:128: RuntimeWarning:\n",
      "\n",
      "divide by zero encountered in scalar divide\n",
      "\n"
     ]
    },
    {
     "name": "stdout",
     "output_type": "stream",
     "text": [
      "Epoch 19/40, Train Loss: 0.0196, Test Loss: 0.0045, RMSE: 0.0682\n"
     ]
    },
    {
     "name": "stderr",
     "output_type": "stream",
     "text": [
      "/Users/pavel/miniconda3/lib/python3.11/site-packages/eXNN/topology/metrics.py:128: RuntimeWarning:\n",
      "\n",
      "divide by zero encountered in scalar divide\n",
      "\n",
      "/Users/pavel/miniconda3/lib/python3.11/site-packages/eXNN/topology/metrics.py:128: RuntimeWarning:\n",
      "\n",
      "divide by zero encountered in scalar divide\n",
      "\n",
      "/Users/pavel/miniconda3/lib/python3.11/site-packages/eXNN/topology/metrics.py:128: RuntimeWarning:\n",
      "\n",
      "divide by zero encountered in scalar divide\n",
      "\n",
      "/Users/pavel/miniconda3/lib/python3.11/site-packages/eXNN/topology/metrics.py:128: RuntimeWarning:\n",
      "\n",
      "divide by zero encountered in scalar divide\n",
      "\n",
      "/Users/pavel/miniconda3/lib/python3.11/site-packages/eXNN/topology/metrics.py:128: RuntimeWarning:\n",
      "\n",
      "divide by zero encountered in scalar divide\n",
      "\n",
      "/Users/pavel/miniconda3/lib/python3.11/site-packages/eXNN/topology/metrics.py:128: RuntimeWarning:\n",
      "\n",
      "divide by zero encountered in scalar divide\n",
      "\n"
     ]
    },
    {
     "name": "stdout",
     "output_type": "stream",
     "text": [
      "Epoch 20/40, Train Loss: 0.0178, Test Loss: 0.0035, RMSE: 0.0601\n"
     ]
    },
    {
     "name": "stderr",
     "output_type": "stream",
     "text": [
      "/Users/pavel/miniconda3/lib/python3.11/site-packages/eXNN/topology/metrics.py:128: RuntimeWarning:\n",
      "\n",
      "divide by zero encountered in scalar divide\n",
      "\n",
      "/Users/pavel/miniconda3/lib/python3.11/site-packages/eXNN/topology/metrics.py:128: RuntimeWarning:\n",
      "\n",
      "divide by zero encountered in scalar divide\n",
      "\n",
      "/Users/pavel/miniconda3/lib/python3.11/site-packages/eXNN/topology/metrics.py:128: RuntimeWarning:\n",
      "\n",
      "divide by zero encountered in scalar divide\n",
      "\n",
      "/Users/pavel/miniconda3/lib/python3.11/site-packages/eXNN/topology/metrics.py:128: RuntimeWarning:\n",
      "\n",
      "divide by zero encountered in scalar divide\n",
      "\n",
      "/Users/pavel/miniconda3/lib/python3.11/site-packages/eXNN/topology/metrics.py:128: RuntimeWarning:\n",
      "\n",
      "divide by zero encountered in scalar divide\n",
      "\n",
      "/Users/pavel/miniconda3/lib/python3.11/site-packages/eXNN/topology/metrics.py:128: RuntimeWarning:\n",
      "\n",
      "divide by zero encountered in scalar divide\n",
      "\n"
     ]
    },
    {
     "name": "stdout",
     "output_type": "stream",
     "text": [
      "Epoch 21/40, Train Loss: 0.0172, Test Loss: 0.0042, RMSE: 0.0656\n"
     ]
    },
    {
     "name": "stderr",
     "output_type": "stream",
     "text": [
      "/Users/pavel/miniconda3/lib/python3.11/site-packages/eXNN/topology/metrics.py:128: RuntimeWarning:\n",
      "\n",
      "divide by zero encountered in scalar divide\n",
      "\n",
      "/Users/pavel/miniconda3/lib/python3.11/site-packages/eXNN/topology/metrics.py:128: RuntimeWarning:\n",
      "\n",
      "divide by zero encountered in scalar divide\n",
      "\n",
      "/Users/pavel/miniconda3/lib/python3.11/site-packages/eXNN/topology/metrics.py:128: RuntimeWarning:\n",
      "\n",
      "divide by zero encountered in scalar divide\n",
      "\n",
      "/Users/pavel/miniconda3/lib/python3.11/site-packages/eXNN/topology/metrics.py:128: RuntimeWarning:\n",
      "\n",
      "divide by zero encountered in scalar divide\n",
      "\n",
      "/Users/pavel/miniconda3/lib/python3.11/site-packages/eXNN/topology/metrics.py:128: RuntimeWarning:\n",
      "\n",
      "divide by zero encountered in scalar divide\n",
      "\n",
      "/Users/pavel/miniconda3/lib/python3.11/site-packages/eXNN/topology/metrics.py:128: RuntimeWarning:\n",
      "\n",
      "divide by zero encountered in scalar divide\n",
      "\n"
     ]
    },
    {
     "name": "stdout",
     "output_type": "stream",
     "text": [
      "Epoch 22/40, Train Loss: 0.0157, Test Loss: 0.0042, RMSE: 0.0664\n"
     ]
    },
    {
     "name": "stderr",
     "output_type": "stream",
     "text": [
      "/Users/pavel/miniconda3/lib/python3.11/site-packages/eXNN/topology/metrics.py:128: RuntimeWarning:\n",
      "\n",
      "divide by zero encountered in scalar divide\n",
      "\n",
      "/Users/pavel/miniconda3/lib/python3.11/site-packages/eXNN/topology/metrics.py:128: RuntimeWarning:\n",
      "\n",
      "divide by zero encountered in scalar divide\n",
      "\n",
      "/Users/pavel/miniconda3/lib/python3.11/site-packages/eXNN/topology/metrics.py:128: RuntimeWarning:\n",
      "\n",
      "divide by zero encountered in scalar divide\n",
      "\n",
      "/Users/pavel/miniconda3/lib/python3.11/site-packages/eXNN/topology/metrics.py:128: RuntimeWarning:\n",
      "\n",
      "divide by zero encountered in scalar divide\n",
      "\n",
      "/Users/pavel/miniconda3/lib/python3.11/site-packages/eXNN/topology/metrics.py:128: RuntimeWarning:\n",
      "\n",
      "divide by zero encountered in scalar divide\n",
      "\n",
      "/Users/pavel/miniconda3/lib/python3.11/site-packages/eXNN/topology/metrics.py:128: RuntimeWarning:\n",
      "\n",
      "divide by zero encountered in scalar divide\n",
      "\n"
     ]
    },
    {
     "name": "stdout",
     "output_type": "stream",
     "text": [
      "Epoch 23/40, Train Loss: 0.0151, Test Loss: 0.0037, RMSE: 0.0620\n"
     ]
    },
    {
     "name": "stderr",
     "output_type": "stream",
     "text": [
      "/Users/pavel/miniconda3/lib/python3.11/site-packages/eXNN/topology/metrics.py:128: RuntimeWarning:\n",
      "\n",
      "divide by zero encountered in scalar divide\n",
      "\n",
      "/Users/pavel/miniconda3/lib/python3.11/site-packages/eXNN/topology/metrics.py:128: RuntimeWarning:\n",
      "\n",
      "divide by zero encountered in scalar divide\n",
      "\n",
      "/Users/pavel/miniconda3/lib/python3.11/site-packages/eXNN/topology/metrics.py:128: RuntimeWarning:\n",
      "\n",
      "divide by zero encountered in scalar divide\n",
      "\n",
      "/Users/pavel/miniconda3/lib/python3.11/site-packages/eXNN/topology/metrics.py:128: RuntimeWarning:\n",
      "\n",
      "divide by zero encountered in scalar divide\n",
      "\n",
      "/Users/pavel/miniconda3/lib/python3.11/site-packages/eXNN/topology/metrics.py:128: RuntimeWarning:\n",
      "\n",
      "divide by zero encountered in scalar divide\n",
      "\n",
      "/Users/pavel/miniconda3/lib/python3.11/site-packages/eXNN/topology/metrics.py:128: RuntimeWarning:\n",
      "\n",
      "divide by zero encountered in scalar divide\n",
      "\n"
     ]
    },
    {
     "name": "stdout",
     "output_type": "stream",
     "text": [
      "Epoch 24/40, Train Loss: 0.0147, Test Loss: 0.0042, RMSE: 0.0661\n"
     ]
    },
    {
     "name": "stderr",
     "output_type": "stream",
     "text": [
      "/Users/pavel/miniconda3/lib/python3.11/site-packages/eXNN/topology/metrics.py:128: RuntimeWarning:\n",
      "\n",
      "divide by zero encountered in scalar divide\n",
      "\n",
      "/Users/pavel/miniconda3/lib/python3.11/site-packages/eXNN/topology/metrics.py:128: RuntimeWarning:\n",
      "\n",
      "divide by zero encountered in scalar divide\n",
      "\n",
      "/Users/pavel/miniconda3/lib/python3.11/site-packages/eXNN/topology/metrics.py:128: RuntimeWarning:\n",
      "\n",
      "divide by zero encountered in scalar divide\n",
      "\n",
      "/Users/pavel/miniconda3/lib/python3.11/site-packages/eXNN/topology/metrics.py:128: RuntimeWarning:\n",
      "\n",
      "divide by zero encountered in scalar divide\n",
      "\n",
      "/Users/pavel/miniconda3/lib/python3.11/site-packages/eXNN/topology/metrics.py:128: RuntimeWarning:\n",
      "\n",
      "divide by zero encountered in scalar divide\n",
      "\n",
      "/Users/pavel/miniconda3/lib/python3.11/site-packages/eXNN/topology/metrics.py:128: RuntimeWarning:\n",
      "\n",
      "divide by zero encountered in scalar divide\n",
      "\n"
     ]
    },
    {
     "name": "stdout",
     "output_type": "stream",
     "text": [
      "Epoch 25/40, Train Loss: 0.0136, Test Loss: 0.0028, RMSE: 0.0544\n"
     ]
    },
    {
     "name": "stderr",
     "output_type": "stream",
     "text": [
      "/Users/pavel/miniconda3/lib/python3.11/site-packages/eXNN/topology/metrics.py:128: RuntimeWarning:\n",
      "\n",
      "divide by zero encountered in scalar divide\n",
      "\n",
      "/Users/pavel/miniconda3/lib/python3.11/site-packages/eXNN/topology/metrics.py:128: RuntimeWarning:\n",
      "\n",
      "divide by zero encountered in scalar divide\n",
      "\n",
      "/Users/pavel/miniconda3/lib/python3.11/site-packages/eXNN/topology/metrics.py:128: RuntimeWarning:\n",
      "\n",
      "divide by zero encountered in scalar divide\n",
      "\n",
      "/Users/pavel/miniconda3/lib/python3.11/site-packages/eXNN/topology/metrics.py:128: RuntimeWarning:\n",
      "\n",
      "divide by zero encountered in scalar divide\n",
      "\n",
      "/Users/pavel/miniconda3/lib/python3.11/site-packages/eXNN/topology/metrics.py:128: RuntimeWarning:\n",
      "\n",
      "divide by zero encountered in scalar divide\n",
      "\n",
      "/Users/pavel/miniconda3/lib/python3.11/site-packages/eXNN/topology/metrics.py:128: RuntimeWarning:\n",
      "\n",
      "divide by zero encountered in scalar divide\n",
      "\n"
     ]
    },
    {
     "name": "stdout",
     "output_type": "stream",
     "text": [
      "Epoch 26/40, Train Loss: 0.0135, Test Loss: 0.0032, RMSE: 0.0579\n"
     ]
    },
    {
     "name": "stderr",
     "output_type": "stream",
     "text": [
      "/Users/pavel/miniconda3/lib/python3.11/site-packages/eXNN/topology/metrics.py:128: RuntimeWarning:\n",
      "\n",
      "divide by zero encountered in scalar divide\n",
      "\n",
      "/Users/pavel/miniconda3/lib/python3.11/site-packages/eXNN/topology/metrics.py:128: RuntimeWarning:\n",
      "\n",
      "divide by zero encountered in scalar divide\n",
      "\n",
      "/Users/pavel/miniconda3/lib/python3.11/site-packages/eXNN/topology/metrics.py:128: RuntimeWarning:\n",
      "\n",
      "divide by zero encountered in scalar divide\n",
      "\n",
      "/Users/pavel/miniconda3/lib/python3.11/site-packages/eXNN/topology/metrics.py:128: RuntimeWarning:\n",
      "\n",
      "divide by zero encountered in scalar divide\n",
      "\n",
      "/Users/pavel/miniconda3/lib/python3.11/site-packages/eXNN/topology/metrics.py:128: RuntimeWarning:\n",
      "\n",
      "divide by zero encountered in scalar divide\n",
      "\n",
      "/Users/pavel/miniconda3/lib/python3.11/site-packages/eXNN/topology/metrics.py:128: RuntimeWarning:\n",
      "\n",
      "divide by zero encountered in scalar divide\n",
      "\n"
     ]
    },
    {
     "name": "stdout",
     "output_type": "stream",
     "text": [
      "Epoch 27/40, Train Loss: 0.0120, Test Loss: 0.0034, RMSE: 0.0591\n"
     ]
    },
    {
     "name": "stderr",
     "output_type": "stream",
     "text": [
      "/Users/pavel/miniconda3/lib/python3.11/site-packages/eXNN/topology/metrics.py:128: RuntimeWarning:\n",
      "\n",
      "divide by zero encountered in scalar divide\n",
      "\n",
      "/Users/pavel/miniconda3/lib/python3.11/site-packages/eXNN/topology/metrics.py:128: RuntimeWarning:\n",
      "\n",
      "divide by zero encountered in scalar divide\n",
      "\n",
      "/Users/pavel/miniconda3/lib/python3.11/site-packages/eXNN/topology/metrics.py:128: RuntimeWarning:\n",
      "\n",
      "divide by zero encountered in scalar divide\n",
      "\n",
      "/Users/pavel/miniconda3/lib/python3.11/site-packages/eXNN/topology/metrics.py:128: RuntimeWarning:\n",
      "\n",
      "divide by zero encountered in scalar divide\n",
      "\n",
      "/Users/pavel/miniconda3/lib/python3.11/site-packages/eXNN/topology/metrics.py:128: RuntimeWarning:\n",
      "\n",
      "divide by zero encountered in scalar divide\n",
      "\n",
      "/Users/pavel/miniconda3/lib/python3.11/site-packages/eXNN/topology/metrics.py:128: RuntimeWarning:\n",
      "\n",
      "divide by zero encountered in scalar divide\n",
      "\n"
     ]
    },
    {
     "name": "stdout",
     "output_type": "stream",
     "text": [
      "Epoch 28/40, Train Loss: 0.0116, Test Loss: 0.0023, RMSE: 0.0488\n"
     ]
    },
    {
     "name": "stderr",
     "output_type": "stream",
     "text": [
      "/Users/pavel/miniconda3/lib/python3.11/site-packages/eXNN/topology/metrics.py:128: RuntimeWarning:\n",
      "\n",
      "divide by zero encountered in scalar divide\n",
      "\n",
      "/Users/pavel/miniconda3/lib/python3.11/site-packages/eXNN/topology/metrics.py:128: RuntimeWarning:\n",
      "\n",
      "divide by zero encountered in scalar divide\n",
      "\n",
      "/Users/pavel/miniconda3/lib/python3.11/site-packages/eXNN/topology/metrics.py:128: RuntimeWarning:\n",
      "\n",
      "divide by zero encountered in scalar divide\n",
      "\n",
      "/Users/pavel/miniconda3/lib/python3.11/site-packages/eXNN/topology/metrics.py:128: RuntimeWarning:\n",
      "\n",
      "divide by zero encountered in scalar divide\n",
      "\n",
      "/Users/pavel/miniconda3/lib/python3.11/site-packages/eXNN/topology/metrics.py:128: RuntimeWarning:\n",
      "\n",
      "divide by zero encountered in scalar divide\n",
      "\n",
      "/Users/pavel/miniconda3/lib/python3.11/site-packages/eXNN/topology/metrics.py:128: RuntimeWarning:\n",
      "\n",
      "divide by zero encountered in scalar divide\n",
      "\n"
     ]
    },
    {
     "name": "stdout",
     "output_type": "stream",
     "text": [
      "Epoch 29/40, Train Loss: 0.0116, Test Loss: 0.0032, RMSE: 0.0574\n"
     ]
    },
    {
     "name": "stderr",
     "output_type": "stream",
     "text": [
      "/Users/pavel/miniconda3/lib/python3.11/site-packages/eXNN/topology/metrics.py:128: RuntimeWarning:\n",
      "\n",
      "divide by zero encountered in scalar divide\n",
      "\n",
      "/Users/pavel/miniconda3/lib/python3.11/site-packages/eXNN/topology/metrics.py:128: RuntimeWarning:\n",
      "\n",
      "divide by zero encountered in scalar divide\n",
      "\n",
      "/Users/pavel/miniconda3/lib/python3.11/site-packages/eXNN/topology/metrics.py:128: RuntimeWarning:\n",
      "\n",
      "divide by zero encountered in scalar divide\n",
      "\n",
      "/Users/pavel/miniconda3/lib/python3.11/site-packages/eXNN/topology/metrics.py:128: RuntimeWarning:\n",
      "\n",
      "divide by zero encountered in scalar divide\n",
      "\n",
      "/Users/pavel/miniconda3/lib/python3.11/site-packages/eXNN/topology/metrics.py:128: RuntimeWarning:\n",
      "\n",
      "divide by zero encountered in scalar divide\n",
      "\n",
      "/Users/pavel/miniconda3/lib/python3.11/site-packages/eXNN/topology/metrics.py:128: RuntimeWarning:\n",
      "\n",
      "divide by zero encountered in scalar divide\n",
      "\n"
     ]
    },
    {
     "name": "stdout",
     "output_type": "stream",
     "text": [
      "Epoch 30/40, Train Loss: 0.0111, Test Loss: 0.0033, RMSE: 0.0580\n"
     ]
    },
    {
     "name": "stderr",
     "output_type": "stream",
     "text": [
      "/Users/pavel/miniconda3/lib/python3.11/site-packages/eXNN/topology/metrics.py:128: RuntimeWarning:\n",
      "\n",
      "divide by zero encountered in scalar divide\n",
      "\n",
      "/Users/pavel/miniconda3/lib/python3.11/site-packages/eXNN/topology/metrics.py:128: RuntimeWarning:\n",
      "\n",
      "divide by zero encountered in scalar divide\n",
      "\n",
      "/Users/pavel/miniconda3/lib/python3.11/site-packages/eXNN/topology/metrics.py:128: RuntimeWarning:\n",
      "\n",
      "divide by zero encountered in scalar divide\n",
      "\n",
      "/Users/pavel/miniconda3/lib/python3.11/site-packages/eXNN/topology/metrics.py:128: RuntimeWarning:\n",
      "\n",
      "divide by zero encountered in scalar divide\n",
      "\n",
      "/Users/pavel/miniconda3/lib/python3.11/site-packages/eXNN/topology/metrics.py:128: RuntimeWarning:\n",
      "\n",
      "divide by zero encountered in scalar divide\n",
      "\n",
      "/Users/pavel/miniconda3/lib/python3.11/site-packages/eXNN/topology/metrics.py:128: RuntimeWarning:\n",
      "\n",
      "divide by zero encountered in scalar divide\n",
      "\n"
     ]
    },
    {
     "name": "stdout",
     "output_type": "stream",
     "text": [
      "Epoch 31/40, Train Loss: 0.0105, Test Loss: 0.0025, RMSE: 0.0506\n"
     ]
    },
    {
     "name": "stderr",
     "output_type": "stream",
     "text": [
      "/Users/pavel/miniconda3/lib/python3.11/site-packages/eXNN/topology/metrics.py:128: RuntimeWarning:\n",
      "\n",
      "divide by zero encountered in scalar divide\n",
      "\n",
      "/Users/pavel/miniconda3/lib/python3.11/site-packages/eXNN/topology/metrics.py:128: RuntimeWarning:\n",
      "\n",
      "divide by zero encountered in scalar divide\n",
      "\n",
      "/Users/pavel/miniconda3/lib/python3.11/site-packages/eXNN/topology/metrics.py:128: RuntimeWarning:\n",
      "\n",
      "divide by zero encountered in scalar divide\n",
      "\n",
      "/Users/pavel/miniconda3/lib/python3.11/site-packages/eXNN/topology/metrics.py:128: RuntimeWarning:\n",
      "\n",
      "divide by zero encountered in scalar divide\n",
      "\n",
      "/Users/pavel/miniconda3/lib/python3.11/site-packages/eXNN/topology/metrics.py:128: RuntimeWarning:\n",
      "\n",
      "divide by zero encountered in scalar divide\n",
      "\n",
      "/Users/pavel/miniconda3/lib/python3.11/site-packages/eXNN/topology/metrics.py:128: RuntimeWarning:\n",
      "\n",
      "divide by zero encountered in scalar divide\n",
      "\n"
     ]
    },
    {
     "name": "stdout",
     "output_type": "stream",
     "text": [
      "Epoch 32/40, Train Loss: 0.0104, Test Loss: 0.0031, RMSE: 0.0564\n"
     ]
    },
    {
     "name": "stderr",
     "output_type": "stream",
     "text": [
      "/Users/pavel/miniconda3/lib/python3.11/site-packages/eXNN/topology/metrics.py:128: RuntimeWarning:\n",
      "\n",
      "divide by zero encountered in scalar divide\n",
      "\n",
      "/Users/pavel/miniconda3/lib/python3.11/site-packages/eXNN/topology/metrics.py:128: RuntimeWarning:\n",
      "\n",
      "divide by zero encountered in scalar divide\n",
      "\n",
      "/Users/pavel/miniconda3/lib/python3.11/site-packages/eXNN/topology/metrics.py:128: RuntimeWarning:\n",
      "\n",
      "divide by zero encountered in scalar divide\n",
      "\n",
      "/Users/pavel/miniconda3/lib/python3.11/site-packages/eXNN/topology/metrics.py:128: RuntimeWarning:\n",
      "\n",
      "divide by zero encountered in scalar divide\n",
      "\n",
      "/Users/pavel/miniconda3/lib/python3.11/site-packages/eXNN/topology/metrics.py:128: RuntimeWarning:\n",
      "\n",
      "divide by zero encountered in scalar divide\n",
      "\n",
      "/Users/pavel/miniconda3/lib/python3.11/site-packages/eXNN/topology/metrics.py:128: RuntimeWarning:\n",
      "\n",
      "divide by zero encountered in scalar divide\n",
      "\n"
     ]
    },
    {
     "name": "stdout",
     "output_type": "stream",
     "text": [
      "Epoch 33/40, Train Loss: 0.0101, Test Loss: 0.0021, RMSE: 0.0463\n"
     ]
    },
    {
     "name": "stderr",
     "output_type": "stream",
     "text": [
      "/Users/pavel/miniconda3/lib/python3.11/site-packages/eXNN/topology/metrics.py:128: RuntimeWarning:\n",
      "\n",
      "divide by zero encountered in scalar divide\n",
      "\n",
      "/Users/pavel/miniconda3/lib/python3.11/site-packages/eXNN/topology/metrics.py:128: RuntimeWarning:\n",
      "\n",
      "divide by zero encountered in scalar divide\n",
      "\n",
      "/Users/pavel/miniconda3/lib/python3.11/site-packages/eXNN/topology/metrics.py:128: RuntimeWarning:\n",
      "\n",
      "divide by zero encountered in scalar divide\n",
      "\n",
      "/Users/pavel/miniconda3/lib/python3.11/site-packages/eXNN/topology/metrics.py:128: RuntimeWarning:\n",
      "\n",
      "divide by zero encountered in scalar divide\n",
      "\n",
      "/Users/pavel/miniconda3/lib/python3.11/site-packages/eXNN/topology/metrics.py:128: RuntimeWarning:\n",
      "\n",
      "divide by zero encountered in scalar divide\n",
      "\n",
      "/Users/pavel/miniconda3/lib/python3.11/site-packages/eXNN/topology/metrics.py:128: RuntimeWarning:\n",
      "\n",
      "divide by zero encountered in scalar divide\n",
      "\n"
     ]
    },
    {
     "name": "stdout",
     "output_type": "stream",
     "text": [
      "Epoch 34/40, Train Loss: 0.0096, Test Loss: 0.0041, RMSE: 0.0646\n"
     ]
    },
    {
     "name": "stderr",
     "output_type": "stream",
     "text": [
      "/Users/pavel/miniconda3/lib/python3.11/site-packages/eXNN/topology/metrics.py:128: RuntimeWarning:\n",
      "\n",
      "divide by zero encountered in scalar divide\n",
      "\n",
      "/Users/pavel/miniconda3/lib/python3.11/site-packages/eXNN/topology/metrics.py:128: RuntimeWarning:\n",
      "\n",
      "divide by zero encountered in scalar divide\n",
      "\n",
      "/Users/pavel/miniconda3/lib/python3.11/site-packages/eXNN/topology/metrics.py:128: RuntimeWarning:\n",
      "\n",
      "divide by zero encountered in scalar divide\n",
      "\n",
      "/Users/pavel/miniconda3/lib/python3.11/site-packages/eXNN/topology/metrics.py:128: RuntimeWarning:\n",
      "\n",
      "divide by zero encountered in scalar divide\n",
      "\n",
      "/Users/pavel/miniconda3/lib/python3.11/site-packages/eXNN/topology/metrics.py:128: RuntimeWarning:\n",
      "\n",
      "divide by zero encountered in scalar divide\n",
      "\n",
      "/Users/pavel/miniconda3/lib/python3.11/site-packages/eXNN/topology/metrics.py:128: RuntimeWarning:\n",
      "\n",
      "divide by zero encountered in scalar divide\n",
      "\n"
     ]
    },
    {
     "name": "stdout",
     "output_type": "stream",
     "text": [
      "Epoch 35/40, Train Loss: 0.0095, Test Loss: 0.0032, RMSE: 0.0576\n"
     ]
    },
    {
     "name": "stderr",
     "output_type": "stream",
     "text": [
      "/Users/pavel/miniconda3/lib/python3.11/site-packages/eXNN/topology/metrics.py:128: RuntimeWarning:\n",
      "\n",
      "divide by zero encountered in scalar divide\n",
      "\n",
      "/Users/pavel/miniconda3/lib/python3.11/site-packages/eXNN/topology/metrics.py:128: RuntimeWarning:\n",
      "\n",
      "divide by zero encountered in scalar divide\n",
      "\n",
      "/Users/pavel/miniconda3/lib/python3.11/site-packages/eXNN/topology/metrics.py:128: RuntimeWarning:\n",
      "\n",
      "divide by zero encountered in scalar divide\n",
      "\n",
      "/Users/pavel/miniconda3/lib/python3.11/site-packages/eXNN/topology/metrics.py:128: RuntimeWarning:\n",
      "\n",
      "divide by zero encountered in scalar divide\n",
      "\n",
      "/Users/pavel/miniconda3/lib/python3.11/site-packages/eXNN/topology/metrics.py:128: RuntimeWarning:\n",
      "\n",
      "divide by zero encountered in scalar divide\n",
      "\n",
      "/Users/pavel/miniconda3/lib/python3.11/site-packages/eXNN/topology/metrics.py:128: RuntimeWarning:\n",
      "\n",
      "divide by zero encountered in scalar divide\n",
      "\n"
     ]
    },
    {
     "name": "stdout",
     "output_type": "stream",
     "text": [
      "Epoch 36/40, Train Loss: 0.0091, Test Loss: 0.0026, RMSE: 0.0518\n"
     ]
    },
    {
     "name": "stderr",
     "output_type": "stream",
     "text": [
      "/Users/pavel/miniconda3/lib/python3.11/site-packages/eXNN/topology/metrics.py:128: RuntimeWarning:\n",
      "\n",
      "divide by zero encountered in scalar divide\n",
      "\n",
      "/Users/pavel/miniconda3/lib/python3.11/site-packages/eXNN/topology/metrics.py:128: RuntimeWarning:\n",
      "\n",
      "divide by zero encountered in scalar divide\n",
      "\n",
      "/Users/pavel/miniconda3/lib/python3.11/site-packages/eXNN/topology/metrics.py:128: RuntimeWarning:\n",
      "\n",
      "divide by zero encountered in scalar divide\n",
      "\n",
      "/Users/pavel/miniconda3/lib/python3.11/site-packages/eXNN/topology/metrics.py:128: RuntimeWarning:\n",
      "\n",
      "divide by zero encountered in scalar divide\n",
      "\n",
      "/Users/pavel/miniconda3/lib/python3.11/site-packages/eXNN/topology/metrics.py:128: RuntimeWarning:\n",
      "\n",
      "divide by zero encountered in scalar divide\n",
      "\n",
      "/Users/pavel/miniconda3/lib/python3.11/site-packages/eXNN/topology/metrics.py:128: RuntimeWarning:\n",
      "\n",
      "divide by zero encountered in scalar divide\n",
      "\n"
     ]
    },
    {
     "name": "stdout",
     "output_type": "stream",
     "text": [
      "Epoch 37/40, Train Loss: 0.0089, Test Loss: 0.0048, RMSE: 0.0698\n"
     ]
    },
    {
     "name": "stderr",
     "output_type": "stream",
     "text": [
      "/Users/pavel/miniconda3/lib/python3.11/site-packages/eXNN/topology/metrics.py:128: RuntimeWarning:\n",
      "\n",
      "divide by zero encountered in scalar divide\n",
      "\n",
      "/Users/pavel/miniconda3/lib/python3.11/site-packages/eXNN/topology/metrics.py:128: RuntimeWarning:\n",
      "\n",
      "divide by zero encountered in scalar divide\n",
      "\n",
      "/Users/pavel/miniconda3/lib/python3.11/site-packages/eXNN/topology/metrics.py:128: RuntimeWarning:\n",
      "\n",
      "divide by zero encountered in scalar divide\n",
      "\n",
      "/Users/pavel/miniconda3/lib/python3.11/site-packages/eXNN/topology/metrics.py:128: RuntimeWarning:\n",
      "\n",
      "divide by zero encountered in scalar divide\n",
      "\n",
      "/Users/pavel/miniconda3/lib/python3.11/site-packages/eXNN/topology/metrics.py:128: RuntimeWarning:\n",
      "\n",
      "divide by zero encountered in scalar divide\n",
      "\n",
      "/Users/pavel/miniconda3/lib/python3.11/site-packages/eXNN/topology/metrics.py:128: RuntimeWarning:\n",
      "\n",
      "divide by zero encountered in scalar divide\n",
      "\n"
     ]
    },
    {
     "name": "stdout",
     "output_type": "stream",
     "text": [
      "Epoch 38/40, Train Loss: 0.0085, Test Loss: 0.0031, RMSE: 0.0569\n"
     ]
    },
    {
     "name": "stderr",
     "output_type": "stream",
     "text": [
      "/Users/pavel/miniconda3/lib/python3.11/site-packages/eXNN/topology/metrics.py:128: RuntimeWarning:\n",
      "\n",
      "divide by zero encountered in scalar divide\n",
      "\n",
      "/Users/pavel/miniconda3/lib/python3.11/site-packages/eXNN/topology/metrics.py:128: RuntimeWarning:\n",
      "\n",
      "divide by zero encountered in scalar divide\n",
      "\n",
      "/Users/pavel/miniconda3/lib/python3.11/site-packages/eXNN/topology/metrics.py:128: RuntimeWarning:\n",
      "\n",
      "divide by zero encountered in scalar divide\n",
      "\n",
      "/Users/pavel/miniconda3/lib/python3.11/site-packages/eXNN/topology/metrics.py:128: RuntimeWarning:\n",
      "\n",
      "divide by zero encountered in scalar divide\n",
      "\n",
      "/Users/pavel/miniconda3/lib/python3.11/site-packages/eXNN/topology/metrics.py:128: RuntimeWarning:\n",
      "\n",
      "divide by zero encountered in scalar divide\n",
      "\n",
      "/Users/pavel/miniconda3/lib/python3.11/site-packages/eXNN/topology/metrics.py:128: RuntimeWarning:\n",
      "\n",
      "divide by zero encountered in scalar divide\n",
      "\n"
     ]
    },
    {
     "name": "stdout",
     "output_type": "stream",
     "text": [
      "Epoch 39/40, Train Loss: 0.0086, Test Loss: 0.0029, RMSE: 0.0545\n"
     ]
    },
    {
     "name": "stderr",
     "output_type": "stream",
     "text": [
      "/Users/pavel/miniconda3/lib/python3.11/site-packages/eXNN/topology/metrics.py:128: RuntimeWarning:\n",
      "\n",
      "divide by zero encountered in scalar divide\n",
      "\n",
      "/Users/pavel/miniconda3/lib/python3.11/site-packages/eXNN/topology/metrics.py:128: RuntimeWarning:\n",
      "\n",
      "divide by zero encountered in scalar divide\n",
      "\n",
      "/Users/pavel/miniconda3/lib/python3.11/site-packages/eXNN/topology/metrics.py:128: RuntimeWarning:\n",
      "\n",
      "divide by zero encountered in scalar divide\n",
      "\n",
      "/Users/pavel/miniconda3/lib/python3.11/site-packages/eXNN/topology/metrics.py:128: RuntimeWarning:\n",
      "\n",
      "divide by zero encountered in scalar divide\n",
      "\n",
      "/Users/pavel/miniconda3/lib/python3.11/site-packages/eXNN/topology/metrics.py:128: RuntimeWarning:\n",
      "\n",
      "divide by zero encountered in scalar divide\n",
      "\n",
      "/Users/pavel/miniconda3/lib/python3.11/site-packages/eXNN/topology/metrics.py:128: RuntimeWarning:\n",
      "\n",
      "divide by zero encountered in scalar divide\n",
      "\n"
     ]
    },
    {
     "name": "stdout",
     "output_type": "stream",
     "text": [
      "Epoch 40/40, Train Loss: 0.0081, Test Loss: 0.0025, RMSE: 0.0502\n"
     ]
    },
    {
     "data": {
      "image/png": "[encoded data removed]",
      "text/plain": [
       "<Figure size 1000x500 with 1 Axes>"
      ]
     },
     "metadata": {},
     "output_type": "display_data"
    },
    {
     "name": "stderr",
     "output_type": "stream",
     "text": [
      "/Users/pavel/miniconda3/lib/python3.11/site-packages/eXNN/topology/metrics.py:128: RuntimeWarning:\n",
      "\n",
      "divide by zero encountered in scalar divide\n",
      "\n",
      "/Users/pavel/miniconda3/lib/python3.11/site-packages/eXNN/topology/metrics.py:128: RuntimeWarning:\n",
      "\n",
      "divide by zero encountered in scalar divide\n",
      "\n",
      "/Users/pavel/miniconda3/lib/python3.11/site-packages/eXNN/topology/metrics.py:128: RuntimeWarning:\n",
      "\n",
      "divide by zero encountered in scalar divide\n",
      "\n",
      "/Users/pavel/miniconda3/lib/python3.11/site-packages/eXNN/topology/metrics.py:128: RuntimeWarning:\n",
      "\n",
      "divide by zero encountered in scalar divide\n",
      "\n",
      "/Users/pavel/miniconda3/lib/python3.11/site-packages/eXNN/topology/metrics.py:128: RuntimeWarning:\n",
      "\n",
      "divide by zero encountered in scalar divide\n",
      "\n",
      "/Users/pavel/miniconda3/lib/python3.11/site-packages/eXNN/topology/metrics.py:128: RuntimeWarning:\n",
      "\n",
      "divide by zero encountered in scalar divide\n",
      "\n"
     ]
    },
    {
     "name": "stdout",
     "output_type": "stream",
     "text": [
      "Epoch 1/40, Train Loss: 0.2545, Test Loss: 0.0243, RMSE: 0.1554\n"
     ]
    },
    {
     "name": "stderr",
     "output_type": "stream",
     "text": [
      "/Users/pavel/miniconda3/lib/python3.11/site-packages/eXNN/topology/metrics.py:128: RuntimeWarning:\n",
      "\n",
      "divide by zero encountered in scalar divide\n",
      "\n",
      "/Users/pavel/miniconda3/lib/python3.11/site-packages/eXNN/topology/metrics.py:128: RuntimeWarning:\n",
      "\n",
      "divide by zero encountered in scalar divide\n",
      "\n",
      "/Users/pavel/miniconda3/lib/python3.11/site-packages/eXNN/topology/metrics.py:128: RuntimeWarning:\n",
      "\n",
      "divide by zero encountered in scalar divide\n",
      "\n",
      "/Users/pavel/miniconda3/lib/python3.11/site-packages/eXNN/topology/metrics.py:128: RuntimeWarning:\n",
      "\n",
      "divide by zero encountered in scalar divide\n",
      "\n",
      "/Users/pavel/miniconda3/lib/python3.11/site-packages/eXNN/topology/metrics.py:128: RuntimeWarning:\n",
      "\n",
      "divide by zero encountered in scalar divide\n",
      "\n",
      "/Users/pavel/miniconda3/lib/python3.11/site-packages/eXNN/topology/metrics.py:128: RuntimeWarning:\n",
      "\n",
      "divide by zero encountered in scalar divide\n",
      "\n"
     ]
    },
    {
     "name": "stdout",
     "output_type": "stream",
     "text": [
      "Epoch 2/40, Train Loss: 0.1136, Test Loss: 0.0165, RMSE: 0.1279\n"
     ]
    },
    {
     "name": "stderr",
     "output_type": "stream",
     "text": [
      "/Users/pavel/miniconda3/lib/python3.11/site-packages/eXNN/topology/metrics.py:128: RuntimeWarning:\n",
      "\n",
      "divide by zero encountered in scalar divide\n",
      "\n",
      "/Users/pavel/miniconda3/lib/python3.11/site-packages/eXNN/topology/metrics.py:128: RuntimeWarning:\n",
      "\n",
      "divide by zero encountered in scalar divide\n",
      "\n",
      "/Users/pavel/miniconda3/lib/python3.11/site-packages/eXNN/topology/metrics.py:128: RuntimeWarning:\n",
      "\n",
      "divide by zero encountered in scalar divide\n",
      "\n",
      "/Users/pavel/miniconda3/lib/python3.11/site-packages/eXNN/topology/metrics.py:128: RuntimeWarning:\n",
      "\n",
      "divide by zero encountered in scalar divide\n",
      "\n",
      "/Users/pavel/miniconda3/lib/python3.11/site-packages/eXNN/topology/metrics.py:128: RuntimeWarning:\n",
      "\n",
      "divide by zero encountered in scalar divide\n",
      "\n",
      "/Users/pavel/miniconda3/lib/python3.11/site-packages/eXNN/topology/metrics.py:128: RuntimeWarning:\n",
      "\n",
      "divide by zero encountered in scalar divide\n",
      "\n"
     ]
    },
    {
     "name": "stdout",
     "output_type": "stream",
     "text": [
      "Epoch 3/40, Train Loss: 0.0914, Test Loss: 0.0152, RMSE: 0.1230\n"
     ]
    },
    {
     "name": "stderr",
     "output_type": "stream",
     "text": [
      "/Users/pavel/miniconda3/lib/python3.11/site-packages/eXNN/topology/metrics.py:128: RuntimeWarning:\n",
      "\n",
      "divide by zero encountered in scalar divide\n",
      "\n",
      "/Users/pavel/miniconda3/lib/python3.11/site-packages/eXNN/topology/metrics.py:128: RuntimeWarning:\n",
      "\n",
      "divide by zero encountered in scalar divide\n",
      "\n",
      "/Users/pavel/miniconda3/lib/python3.11/site-packages/eXNN/topology/metrics.py:128: RuntimeWarning:\n",
      "\n",
      "divide by zero encountered in scalar divide\n",
      "\n",
      "/Users/pavel/miniconda3/lib/python3.11/site-packages/eXNN/topology/metrics.py:128: RuntimeWarning:\n",
      "\n",
      "divide by zero encountered in scalar divide\n",
      "\n",
      "/Users/pavel/miniconda3/lib/python3.11/site-packages/eXNN/topology/metrics.py:128: RuntimeWarning:\n",
      "\n",
      "divide by zero encountered in scalar divide\n",
      "\n",
      "/Users/pavel/miniconda3/lib/python3.11/site-packages/eXNN/topology/metrics.py:128: RuntimeWarning:\n",
      "\n",
      "divide by zero encountered in scalar divide\n",
      "\n"
     ]
    },
    {
     "name": "stdout",
     "output_type": "stream",
     "text": [
      "Epoch 4/40, Train Loss: 0.0775, Test Loss: 0.0121, RMSE: 0.1097\n"
     ]
    },
    {
     "name": "stderr",
     "output_type": "stream",
     "text": [
      "/Users/pavel/miniconda3/lib/python3.11/site-packages/eXNN/topology/metrics.py:128: RuntimeWarning:\n",
      "\n",
      "divide by zero encountered in scalar divide\n",
      "\n",
      "/Users/pavel/miniconda3/lib/python3.11/site-packages/eXNN/topology/metrics.py:128: RuntimeWarning:\n",
      "\n",
      "divide by zero encountered in scalar divide\n",
      "\n",
      "/Users/pavel/miniconda3/lib/python3.11/site-packages/eXNN/topology/metrics.py:128: RuntimeWarning:\n",
      "\n",
      "divide by zero encountered in scalar divide\n",
      "\n",
      "/Users/pavel/miniconda3/lib/python3.11/site-packages/eXNN/topology/metrics.py:128: RuntimeWarning:\n",
      "\n",
      "divide by zero encountered in scalar divide\n",
      "\n",
      "/Users/pavel/miniconda3/lib/python3.11/site-packages/eXNN/topology/metrics.py:128: RuntimeWarning:\n",
      "\n",
      "divide by zero encountered in scalar divide\n",
      "\n",
      "/Users/pavel/miniconda3/lib/python3.11/site-packages/eXNN/topology/metrics.py:128: RuntimeWarning:\n",
      "\n",
      "divide by zero encountered in scalar divide\n",
      "\n"
     ]
    },
    {
     "name": "stdout",
     "output_type": "stream",
     "text": [
      "Epoch 5/40, Train Loss: 0.0686, Test Loss: 0.0128, RMSE: 0.1126\n"
     ]
    },
    {
     "name": "stderr",
     "output_type": "stream",
     "text": [
      "/Users/pavel/miniconda3/lib/python3.11/site-packages/eXNN/topology/metrics.py:128: RuntimeWarning:\n",
      "\n",
      "divide by zero encountered in scalar divide\n",
      "\n",
      "/Users/pavel/miniconda3/lib/python3.11/site-packages/eXNN/topology/metrics.py:128: RuntimeWarning:\n",
      "\n",
      "divide by zero encountered in scalar divide\n",
      "\n",
      "/Users/pavel/miniconda3/lib/python3.11/site-packages/eXNN/topology/metrics.py:128: RuntimeWarning:\n",
      "\n",
      "divide by zero encountered in scalar divide\n",
      "\n",
      "/Users/pavel/miniconda3/lib/python3.11/site-packages/eXNN/topology/metrics.py:128: RuntimeWarning:\n",
      "\n",
      "divide by zero encountered in scalar divide\n",
      "\n",
      "/Users/pavel/miniconda3/lib/python3.11/site-packages/eXNN/topology/metrics.py:128: RuntimeWarning:\n",
      "\n",
      "divide by zero encountered in scalar divide\n",
      "\n",
      "/Users/pavel/miniconda3/lib/python3.11/site-packages/eXNN/topology/metrics.py:128: RuntimeWarning:\n",
      "\n",
      "divide by zero encountered in scalar divide\n",
      "\n"
     ]
    },
    {
     "name": "stdout",
     "output_type": "stream",
     "text": [
      "Epoch 6/40, Train Loss: 0.0607, Test Loss: 0.0103, RMSE: 0.1011\n"
     ]
    },
    {
     "name": "stderr",
     "output_type": "stream",
     "text": [
      "/Users/pavel/miniconda3/lib/python3.11/site-packages/eXNN/topology/metrics.py:128: RuntimeWarning:\n",
      "\n",
      "divide by zero encountered in scalar divide\n",
      "\n",
      "/Users/pavel/miniconda3/lib/python3.11/site-packages/eXNN/topology/metrics.py:128: RuntimeWarning:\n",
      "\n",
      "divide by zero encountered in scalar divide\n",
      "\n",
      "/Users/pavel/miniconda3/lib/python3.11/site-packages/eXNN/topology/metrics.py:128: RuntimeWarning:\n",
      "\n",
      "divide by zero encountered in scalar divide\n",
      "\n",
      "/Users/pavel/miniconda3/lib/python3.11/site-packages/eXNN/topology/metrics.py:128: RuntimeWarning:\n",
      "\n",
      "divide by zero encountered in scalar divide\n",
      "\n",
      "/Users/pavel/miniconda3/lib/python3.11/site-packages/eXNN/topology/metrics.py:128: RuntimeWarning:\n",
      "\n",
      "divide by zero encountered in scalar divide\n",
      "\n",
      "/Users/pavel/miniconda3/lib/python3.11/site-packages/eXNN/topology/metrics.py:128: RuntimeWarning:\n",
      "\n",
      "divide by zero encountered in scalar divide\n",
      "\n"
     ]
    },
    {
     "name": "stdout",
     "output_type": "stream",
     "text": [
      "Epoch 7/40, Train Loss: 0.0544, Test Loss: 0.0096, RMSE: 0.0977\n"
     ]
    },
    {
     "name": "stderr",
     "output_type": "stream",
     "text": [
      "/Users/pavel/miniconda3/lib/python3.11/site-packages/eXNN/topology/metrics.py:128: RuntimeWarning:\n",
      "\n",
      "divide by zero encountered in scalar divide\n",
      "\n",
      "/Users/pavel/miniconda3/lib/python3.11/site-packages/eXNN/topology/metrics.py:128: RuntimeWarning:\n",
      "\n",
      "divide by zero encountered in scalar divide\n",
      "\n",
      "/Users/pavel/miniconda3/lib/python3.11/site-packages/eXNN/topology/metrics.py:128: RuntimeWarning:\n",
      "\n",
      "divide by zero encountered in scalar divide\n",
      "\n",
      "/Users/pavel/miniconda3/lib/python3.11/site-packages/eXNN/topology/metrics.py:128: RuntimeWarning:\n",
      "\n",
      "divide by zero encountered in scalar divide\n",
      "\n",
      "/Users/pavel/miniconda3/lib/python3.11/site-packages/eXNN/topology/metrics.py:128: RuntimeWarning:\n",
      "\n",
      "divide by zero encountered in scalar divide\n",
      "\n",
      "/Users/pavel/miniconda3/lib/python3.11/site-packages/eXNN/topology/metrics.py:128: RuntimeWarning:\n",
      "\n",
      "divide by zero encountered in scalar divide\n",
      "\n"
     ]
    },
    {
     "name": "stdout",
     "output_type": "stream",
     "text": [
      "Epoch 8/40, Train Loss: 0.0460, Test Loss: 0.0088, RMSE: 0.0933\n"
     ]
    },
    {
     "name": "stderr",
     "output_type": "stream",
     "text": [
      "/Users/pavel/miniconda3/lib/python3.11/site-packages/eXNN/topology/metrics.py:128: RuntimeWarning:\n",
      "\n",
      "divide by zero encountered in scalar divide\n",
      "\n",
      "/Users/pavel/miniconda3/lib/python3.11/site-packages/eXNN/topology/metrics.py:128: RuntimeWarning:\n",
      "\n",
      "divide by zero encountered in scalar divide\n",
      "\n",
      "/Users/pavel/miniconda3/lib/python3.11/site-packages/eXNN/topology/metrics.py:128: RuntimeWarning:\n",
      "\n",
      "divide by zero encountered in scalar divide\n",
      "\n",
      "/Users/pavel/miniconda3/lib/python3.11/site-packages/eXNN/topology/metrics.py:128: RuntimeWarning:\n",
      "\n",
      "divide by zero encountered in scalar divide\n",
      "\n",
      "/Users/pavel/miniconda3/lib/python3.11/site-packages/eXNN/topology/metrics.py:128: RuntimeWarning:\n",
      "\n",
      "divide by zero encountered in scalar divide\n",
      "\n",
      "/Users/pavel/miniconda3/lib/python3.11/site-packages/eXNN/topology/metrics.py:128: RuntimeWarning:\n",
      "\n",
      "divide by zero encountered in scalar divide\n",
      "\n"
     ]
    },
    {
     "name": "stdout",
     "output_type": "stream",
     "text": [
      "Epoch 9/40, Train Loss: 0.0403, Test Loss: 0.0077, RMSE: 0.0872\n"
     ]
    },
    {
     "name": "stderr",
     "output_type": "stream",
     "text": [
      "/Users/pavel/miniconda3/lib/python3.11/site-packages/eXNN/topology/metrics.py:128: RuntimeWarning:\n",
      "\n",
      "divide by zero encountered in scalar divide\n",
      "\n",
      "/Users/pavel/miniconda3/lib/python3.11/site-packages/eXNN/topology/metrics.py:128: RuntimeWarning:\n",
      "\n",
      "divide by zero encountered in scalar divide\n",
      "\n",
      "/Users/pavel/miniconda3/lib/python3.11/site-packages/eXNN/topology/metrics.py:128: RuntimeWarning:\n",
      "\n",
      "divide by zero encountered in scalar divide\n",
      "\n",
      "/Users/pavel/miniconda3/lib/python3.11/site-packages/eXNN/topology/metrics.py:128: RuntimeWarning:\n",
      "\n",
      "divide by zero encountered in scalar divide\n",
      "\n",
      "/Users/pavel/miniconda3/lib/python3.11/site-packages/eXNN/topology/metrics.py:128: RuntimeWarning:\n",
      "\n",
      "divide by zero encountered in scalar divide\n",
      "\n",
      "/Users/pavel/miniconda3/lib/python3.11/site-packages/eXNN/topology/metrics.py:128: RuntimeWarning:\n",
      "\n",
      "divide by zero encountered in scalar divide\n",
      "\n"
     ]
    },
    {
     "name": "stdout",
     "output_type": "stream",
     "text": [
      "Epoch 10/40, Train Loss: 0.0356, Test Loss: 0.0078, RMSE: 0.0880\n"
     ]
    },
    {
     "name": "stderr",
     "output_type": "stream",
     "text": [
      "/Users/pavel/miniconda3/lib/python3.11/site-packages/eXNN/topology/metrics.py:128: RuntimeWarning:\n",
      "\n",
      "divide by zero encountered in scalar divide\n",
      "\n",
      "/Users/pavel/miniconda3/lib/python3.11/site-packages/eXNN/topology/metrics.py:128: RuntimeWarning:\n",
      "\n",
      "divide by zero encountered in scalar divide\n",
      "\n",
      "/Users/pavel/miniconda3/lib/python3.11/site-packages/eXNN/topology/metrics.py:128: RuntimeWarning:\n",
      "\n",
      "divide by zero encountered in scalar divide\n",
      "\n",
      "/Users/pavel/miniconda3/lib/python3.11/site-packages/eXNN/topology/metrics.py:128: RuntimeWarning:\n",
      "\n",
      "divide by zero encountered in scalar divide\n",
      "\n",
      "/Users/pavel/miniconda3/lib/python3.11/site-packages/eXNN/topology/metrics.py:128: RuntimeWarning:\n",
      "\n",
      "divide by zero encountered in scalar divide\n",
      "\n",
      "/Users/pavel/miniconda3/lib/python3.11/site-packages/eXNN/topology/metrics.py:128: RuntimeWarning:\n",
      "\n",
      "divide by zero encountered in scalar divide\n",
      "\n"
     ]
    },
    {
     "name": "stdout",
     "output_type": "stream",
     "text": [
      "Epoch 11/40, Train Loss: 0.0301, Test Loss: 0.0063, RMSE: 0.0791\n"
     ]
    },
    {
     "name": "stderr",
     "output_type": "stream",
     "text": [
      "/Users/pavel/miniconda3/lib/python3.11/site-packages/eXNN/topology/metrics.py:128: RuntimeWarning:\n",
      "\n",
      "divide by zero encountered in scalar divide\n",
      "\n",
      "/Users/pavel/miniconda3/lib/python3.11/site-packages/eXNN/topology/metrics.py:128: RuntimeWarning:\n",
      "\n",
      "divide by zero encountered in scalar divide\n",
      "\n",
      "/Users/pavel/miniconda3/lib/python3.11/site-packages/eXNN/topology/metrics.py:128: RuntimeWarning:\n",
      "\n",
      "divide by zero encountered in scalar divide\n",
      "\n",
      "/Users/pavel/miniconda3/lib/python3.11/site-packages/eXNN/topology/metrics.py:128: RuntimeWarning:\n",
      "\n",
      "divide by zero encountered in scalar divide\n",
      "\n",
      "/Users/pavel/miniconda3/lib/python3.11/site-packages/eXNN/topology/metrics.py:128: RuntimeWarning:\n",
      "\n",
      "divide by zero encountered in scalar divide\n",
      "\n",
      "/Users/pavel/miniconda3/lib/python3.11/site-packages/eXNN/topology/metrics.py:128: RuntimeWarning:\n",
      "\n",
      "divide by zero encountered in scalar divide\n",
      "\n"
     ]
    },
    {
     "name": "stdout",
     "output_type": "stream",
     "text": [
      "Epoch 12/40, Train Loss: 0.0265, Test Loss: 0.0059, RMSE: 0.0764\n"
     ]
    },
    {
     "name": "stderr",
     "output_type": "stream",
     "text": [
      "/Users/pavel/miniconda3/lib/python3.11/site-packages/eXNN/topology/metrics.py:128: RuntimeWarning:\n",
      "\n",
      "divide by zero encountered in scalar divide\n",
      "\n",
      "/Users/pavel/miniconda3/lib/python3.11/site-packages/eXNN/topology/metrics.py:128: RuntimeWarning:\n",
      "\n",
      "divide by zero encountered in scalar divide\n",
      "\n",
      "/Users/pavel/miniconda3/lib/python3.11/site-packages/eXNN/topology/metrics.py:128: RuntimeWarning:\n",
      "\n",
      "divide by zero encountered in scalar divide\n",
      "\n",
      "/Users/pavel/miniconda3/lib/python3.11/site-packages/eXNN/topology/metrics.py:128: RuntimeWarning:\n",
      "\n",
      "divide by zero encountered in scalar divide\n",
      "\n",
      "/Users/pavel/miniconda3/lib/python3.11/site-packages/eXNN/topology/metrics.py:128: RuntimeWarning:\n",
      "\n",
      "divide by zero encountered in scalar divide\n",
      "\n",
      "/Users/pavel/miniconda3/lib/python3.11/site-packages/eXNN/topology/metrics.py:128: RuntimeWarning:\n",
      "\n",
      "divide by zero encountered in scalar divide\n",
      "\n"
     ]
    },
    {
     "name": "stdout",
     "output_type": "stream",
     "text": [
      "Epoch 13/40, Train Loss: 0.0237, Test Loss: 0.0046, RMSE: 0.0678\n"
     ]
    },
    {
     "name": "stderr",
     "output_type": "stream",
     "text": [
      "/Users/pavel/miniconda3/lib/python3.11/site-packages/eXNN/topology/metrics.py:128: RuntimeWarning:\n",
      "\n",
      "divide by zero encountered in scalar divide\n",
      "\n",
      "/Users/pavel/miniconda3/lib/python3.11/site-packages/eXNN/topology/metrics.py:128: RuntimeWarning:\n",
      "\n",
      "divide by zero encountered in scalar divide\n",
      "\n",
      "/Users/pavel/miniconda3/lib/python3.11/site-packages/eXNN/topology/metrics.py:128: RuntimeWarning:\n",
      "\n",
      "divide by zero encountered in scalar divide\n",
      "\n",
      "/Users/pavel/miniconda3/lib/python3.11/site-packages/eXNN/topology/metrics.py:128: RuntimeWarning:\n",
      "\n",
      "divide by zero encountered in scalar divide\n",
      "\n",
      "/Users/pavel/miniconda3/lib/python3.11/site-packages/eXNN/topology/metrics.py:128: RuntimeWarning:\n",
      "\n",
      "divide by zero encountered in scalar divide\n",
      "\n",
      "/Users/pavel/miniconda3/lib/python3.11/site-packages/eXNN/topology/metrics.py:128: RuntimeWarning:\n",
      "\n",
      "divide by zero encountered in scalar divide\n",
      "\n"
     ]
    },
    {
     "name": "stdout",
     "output_type": "stream",
     "text": [
      "Epoch 14/40, Train Loss: 0.0211, Test Loss: 0.0046, RMSE: 0.0674\n"
     ]
    },
    {
     "name": "stderr",
     "output_type": "stream",
     "text": [
      "/Users/pavel/miniconda3/lib/python3.11/site-packages/eXNN/topology/metrics.py:128: RuntimeWarning:\n",
      "\n",
      "divide by zero encountered in scalar divide\n",
      "\n",
      "/Users/pavel/miniconda3/lib/python3.11/site-packages/eXNN/topology/metrics.py:128: RuntimeWarning:\n",
      "\n",
      "divide by zero encountered in scalar divide\n",
      "\n",
      "/Users/pavel/miniconda3/lib/python3.11/site-packages/eXNN/topology/metrics.py:128: RuntimeWarning:\n",
      "\n",
      "divide by zero encountered in scalar divide\n",
      "\n",
      "/Users/pavel/miniconda3/lib/python3.11/site-packages/eXNN/topology/metrics.py:128: RuntimeWarning:\n",
      "\n",
      "divide by zero encountered in scalar divide\n",
      "\n",
      "/Users/pavel/miniconda3/lib/python3.11/site-packages/eXNN/topology/metrics.py:128: RuntimeWarning:\n",
      "\n",
      "divide by zero encountered in scalar divide\n",
      "\n",
      "/Users/pavel/miniconda3/lib/python3.11/site-packages/eXNN/topology/metrics.py:128: RuntimeWarning:\n",
      "\n",
      "divide by zero encountered in scalar divide\n",
      "\n"
     ]
    },
    {
     "name": "stdout",
     "output_type": "stream",
     "text": [
      "Epoch 15/40, Train Loss: 0.0184, Test Loss: 0.0048, RMSE: 0.0686\n"
     ]
    },
    {
     "name": "stderr",
     "output_type": "stream",
     "text": [
      "/Users/pavel/miniconda3/lib/python3.11/site-packages/eXNN/topology/metrics.py:128: RuntimeWarning:\n",
      "\n",
      "divide by zero encountered in scalar divide\n",
      "\n",
      "/Users/pavel/miniconda3/lib/python3.11/site-packages/eXNN/topology/metrics.py:128: RuntimeWarning:\n",
      "\n",
      "divide by zero encountered in scalar divide\n",
      "\n",
      "/Users/pavel/miniconda3/lib/python3.11/site-packages/eXNN/topology/metrics.py:128: RuntimeWarning:\n",
      "\n",
      "divide by zero encountered in scalar divide\n",
      "\n",
      "/Users/pavel/miniconda3/lib/python3.11/site-packages/eXNN/topology/metrics.py:128: RuntimeWarning:\n",
      "\n",
      "divide by zero encountered in scalar divide\n",
      "\n",
      "/Users/pavel/miniconda3/lib/python3.11/site-packages/eXNN/topology/metrics.py:128: RuntimeWarning:\n",
      "\n",
      "divide by zero encountered in scalar divide\n",
      "\n",
      "/Users/pavel/miniconda3/lib/python3.11/site-packages/eXNN/topology/metrics.py:128: RuntimeWarning:\n",
      "\n",
      "divide by zero encountered in scalar divide\n",
      "\n"
     ]
    },
    {
     "name": "stdout",
     "output_type": "stream",
     "text": [
      "Epoch 16/40, Train Loss: 0.0166, Test Loss: 0.0045, RMSE: 0.0665\n"
     ]
    },
    {
     "name": "stderr",
     "output_type": "stream",
     "text": [
      "/Users/pavel/miniconda3/lib/python3.11/site-packages/eXNN/topology/metrics.py:128: RuntimeWarning:\n",
      "\n",
      "divide by zero encountered in scalar divide\n",
      "\n",
      "/Users/pavel/miniconda3/lib/python3.11/site-packages/eXNN/topology/metrics.py:128: RuntimeWarning:\n",
      "\n",
      "divide by zero encountered in scalar divide\n",
      "\n",
      "/Users/pavel/miniconda3/lib/python3.11/site-packages/eXNN/topology/metrics.py:128: RuntimeWarning:\n",
      "\n",
      "divide by zero encountered in scalar divide\n",
      "\n",
      "/Users/pavel/miniconda3/lib/python3.11/site-packages/eXNN/topology/metrics.py:128: RuntimeWarning:\n",
      "\n",
      "divide by zero encountered in scalar divide\n",
      "\n",
      "/Users/pavel/miniconda3/lib/python3.11/site-packages/eXNN/topology/metrics.py:128: RuntimeWarning:\n",
      "\n",
      "divide by zero encountered in scalar divide\n",
      "\n",
      "/Users/pavel/miniconda3/lib/python3.11/site-packages/eXNN/topology/metrics.py:128: RuntimeWarning:\n",
      "\n",
      "divide by zero encountered in scalar divide\n",
      "\n"
     ]
    },
    {
     "name": "stdout",
     "output_type": "stream",
     "text": [
      "Epoch 17/40, Train Loss: 0.0147, Test Loss: 0.0040, RMSE: 0.0628\n"
     ]
    },
    {
     "name": "stderr",
     "output_type": "stream",
     "text": [
      "/Users/pavel/miniconda3/lib/python3.11/site-packages/eXNN/topology/metrics.py:128: RuntimeWarning:\n",
      "\n",
      "divide by zero encountered in scalar divide\n",
      "\n",
      "/Users/pavel/miniconda3/lib/python3.11/site-packages/eXNN/topology/metrics.py:128: RuntimeWarning:\n",
      "\n",
      "divide by zero encountered in scalar divide\n",
      "\n",
      "/Users/pavel/miniconda3/lib/python3.11/site-packages/eXNN/topology/metrics.py:128: RuntimeWarning:\n",
      "\n",
      "divide by zero encountered in scalar divide\n",
      "\n",
      "/Users/pavel/miniconda3/lib/python3.11/site-packages/eXNN/topology/metrics.py:128: RuntimeWarning:\n",
      "\n",
      "divide by zero encountered in scalar divide\n",
      "\n",
      "/Users/pavel/miniconda3/lib/python3.11/site-packages/eXNN/topology/metrics.py:128: RuntimeWarning:\n",
      "\n",
      "divide by zero encountered in scalar divide\n",
      "\n",
      "/Users/pavel/miniconda3/lib/python3.11/site-packages/eXNN/topology/metrics.py:128: RuntimeWarning:\n",
      "\n",
      "divide by zero encountered in scalar divide\n",
      "\n"
     ]
    },
    {
     "name": "stdout",
     "output_type": "stream",
     "text": [
      "Epoch 18/40, Train Loss: 0.0137, Test Loss: 0.0039, RMSE: 0.0625\n"
     ]
    },
    {
     "name": "stderr",
     "output_type": "stream",
     "text": [
      "/Users/pavel/miniconda3/lib/python3.11/site-packages/eXNN/topology/metrics.py:128: RuntimeWarning:\n",
      "\n",
      "divide by zero encountered in scalar divide\n",
      "\n",
      "/Users/pavel/miniconda3/lib/python3.11/site-packages/eXNN/topology/metrics.py:128: RuntimeWarning:\n",
      "\n",
      "divide by zero encountered in scalar divide\n",
      "\n",
      "/Users/pavel/miniconda3/lib/python3.11/site-packages/eXNN/topology/metrics.py:128: RuntimeWarning:\n",
      "\n",
      "divide by zero encountered in scalar divide\n",
      "\n",
      "/Users/pavel/miniconda3/lib/python3.11/site-packages/eXNN/topology/metrics.py:128: RuntimeWarning:\n",
      "\n",
      "divide by zero encountered in scalar divide\n",
      "\n",
      "/Users/pavel/miniconda3/lib/python3.11/site-packages/eXNN/topology/metrics.py:128: RuntimeWarning:\n",
      "\n",
      "divide by zero encountered in scalar divide\n",
      "\n",
      "/Users/pavel/miniconda3/lib/python3.11/site-packages/eXNN/topology/metrics.py:128: RuntimeWarning:\n",
      "\n",
      "divide by zero encountered in scalar divide\n",
      "\n"
     ]
    },
    {
     "name": "stdout",
     "output_type": "stream",
     "text": [
      "Epoch 19/40, Train Loss: 0.0130, Test Loss: 0.0029, RMSE: 0.0539\n"
     ]
    },
    {
     "name": "stderr",
     "output_type": "stream",
     "text": [
      "/Users/pavel/miniconda3/lib/python3.11/site-packages/eXNN/topology/metrics.py:128: RuntimeWarning:\n",
      "\n",
      "divide by zero encountered in scalar divide\n",
      "\n",
      "/Users/pavel/miniconda3/lib/python3.11/site-packages/eXNN/topology/metrics.py:128: RuntimeWarning:\n",
      "\n",
      "divide by zero encountered in scalar divide\n",
      "\n",
      "/Users/pavel/miniconda3/lib/python3.11/site-packages/eXNN/topology/metrics.py:128: RuntimeWarning:\n",
      "\n",
      "divide by zero encountered in scalar divide\n",
      "\n",
      "/Users/pavel/miniconda3/lib/python3.11/site-packages/eXNN/topology/metrics.py:128: RuntimeWarning:\n",
      "\n",
      "divide by zero encountered in scalar divide\n",
      "\n",
      "/Users/pavel/miniconda3/lib/python3.11/site-packages/eXNN/topology/metrics.py:128: RuntimeWarning:\n",
      "\n",
      "divide by zero encountered in scalar divide\n",
      "\n",
      "/Users/pavel/miniconda3/lib/python3.11/site-packages/eXNN/topology/metrics.py:128: RuntimeWarning:\n",
      "\n",
      "divide by zero encountered in scalar divide\n",
      "\n"
     ]
    },
    {
     "name": "stdout",
     "output_type": "stream",
     "text": [
      "Epoch 20/40, Train Loss: 0.0124, Test Loss: 0.0034, RMSE: 0.0579\n"
     ]
    },
    {
     "name": "stderr",
     "output_type": "stream",
     "text": [
      "/Users/pavel/miniconda3/lib/python3.11/site-packages/eXNN/topology/metrics.py:128: RuntimeWarning:\n",
      "\n",
      "divide by zero encountered in scalar divide\n",
      "\n",
      "/Users/pavel/miniconda3/lib/python3.11/site-packages/eXNN/topology/metrics.py:128: RuntimeWarning:\n",
      "\n",
      "divide by zero encountered in scalar divide\n",
      "\n",
      "/Users/pavel/miniconda3/lib/python3.11/site-packages/eXNN/topology/metrics.py:128: RuntimeWarning:\n",
      "\n",
      "divide by zero encountered in scalar divide\n",
      "\n",
      "/Users/pavel/miniconda3/lib/python3.11/site-packages/eXNN/topology/metrics.py:128: RuntimeWarning:\n",
      "\n",
      "divide by zero encountered in scalar divide\n",
      "\n",
      "/Users/pavel/miniconda3/lib/python3.11/site-packages/eXNN/topology/metrics.py:128: RuntimeWarning:\n",
      "\n",
      "divide by zero encountered in scalar divide\n",
      "\n",
      "/Users/pavel/miniconda3/lib/python3.11/site-packages/eXNN/topology/metrics.py:128: RuntimeWarning:\n",
      "\n",
      "divide by zero encountered in scalar divide\n",
      "\n"
     ]
    },
    {
     "name": "stdout",
     "output_type": "stream",
     "text": [
      "Epoch 21/40, Train Loss: 0.0111, Test Loss: 0.0029, RMSE: 0.0532\n"
     ]
    },
    {
     "name": "stderr",
     "output_type": "stream",
     "text": [
      "/Users/pavel/miniconda3/lib/python3.11/site-packages/eXNN/topology/metrics.py:128: RuntimeWarning:\n",
      "\n",
      "divide by zero encountered in scalar divide\n",
      "\n",
      "/Users/pavel/miniconda3/lib/python3.11/site-packages/eXNN/topology/metrics.py:128: RuntimeWarning:\n",
      "\n",
      "divide by zero encountered in scalar divide\n",
      "\n",
      "/Users/pavel/miniconda3/lib/python3.11/site-packages/eXNN/topology/metrics.py:128: RuntimeWarning:\n",
      "\n",
      "divide by zero encountered in scalar divide\n",
      "\n",
      "/Users/pavel/miniconda3/lib/python3.11/site-packages/eXNN/topology/metrics.py:128: RuntimeWarning:\n",
      "\n",
      "divide by zero encountered in scalar divide\n",
      "\n",
      "/Users/pavel/miniconda3/lib/python3.11/site-packages/eXNN/topology/metrics.py:128: RuntimeWarning:\n",
      "\n",
      "divide by zero encountered in scalar divide\n",
      "\n",
      "/Users/pavel/miniconda3/lib/python3.11/site-packages/eXNN/topology/metrics.py:128: RuntimeWarning:\n",
      "\n",
      "divide by zero encountered in scalar divide\n",
      "\n"
     ]
    },
    {
     "name": "stdout",
     "output_type": "stream",
     "text": [
      "Epoch 22/40, Train Loss: 0.0104, Test Loss: 0.0025, RMSE: 0.0498\n"
     ]
    },
    {
     "name": "stderr",
     "output_type": "stream",
     "text": [
      "/Users/pavel/miniconda3/lib/python3.11/site-packages/eXNN/topology/metrics.py:128: RuntimeWarning:\n",
      "\n",
      "divide by zero encountered in scalar divide\n",
      "\n",
      "/Users/pavel/miniconda3/lib/python3.11/site-packages/eXNN/topology/metrics.py:128: RuntimeWarning:\n",
      "\n",
      "divide by zero encountered in scalar divide\n",
      "\n",
      "/Users/pavel/miniconda3/lib/python3.11/site-packages/eXNN/topology/metrics.py:128: RuntimeWarning:\n",
      "\n",
      "divide by zero encountered in scalar divide\n",
      "\n",
      "/Users/pavel/miniconda3/lib/python3.11/site-packages/eXNN/topology/metrics.py:128: RuntimeWarning:\n",
      "\n",
      "divide by zero encountered in scalar divide\n",
      "\n",
      "/Users/pavel/miniconda3/lib/python3.11/site-packages/eXNN/topology/metrics.py:128: RuntimeWarning:\n",
      "\n",
      "divide by zero encountered in scalar divide\n",
      "\n",
      "/Users/pavel/miniconda3/lib/python3.11/site-packages/eXNN/topology/metrics.py:128: RuntimeWarning:\n",
      "\n",
      "divide by zero encountered in scalar divide\n",
      "\n"
     ]
    },
    {
     "name": "stdout",
     "output_type": "stream",
     "text": [
      "Epoch 23/40, Train Loss: 0.0099, Test Loss: 0.0033, RMSE: 0.0571\n"
     ]
    },
    {
     "name": "stderr",
     "output_type": "stream",
     "text": [
      "/Users/pavel/miniconda3/lib/python3.11/site-packages/eXNN/topology/metrics.py:128: RuntimeWarning:\n",
      "\n",
      "divide by zero encountered in scalar divide\n",
      "\n",
      "/Users/pavel/miniconda3/lib/python3.11/site-packages/eXNN/topology/metrics.py:128: RuntimeWarning:\n",
      "\n",
      "divide by zero encountered in scalar divide\n",
      "\n",
      "/Users/pavel/miniconda3/lib/python3.11/site-packages/eXNN/topology/metrics.py:128: RuntimeWarning:\n",
      "\n",
      "divide by zero encountered in scalar divide\n",
      "\n",
      "/Users/pavel/miniconda3/lib/python3.11/site-packages/eXNN/topology/metrics.py:128: RuntimeWarning:\n",
      "\n",
      "divide by zero encountered in scalar divide\n",
      "\n",
      "/Users/pavel/miniconda3/lib/python3.11/site-packages/eXNN/topology/metrics.py:128: RuntimeWarning:\n",
      "\n",
      "divide by zero encountered in scalar divide\n",
      "\n",
      "/Users/pavel/miniconda3/lib/python3.11/site-packages/eXNN/topology/metrics.py:128: RuntimeWarning:\n",
      "\n",
      "divide by zero encountered in scalar divide\n",
      "\n"
     ]
    },
    {
     "name": "stdout",
     "output_type": "stream",
     "text": [
      "Epoch 24/40, Train Loss: 0.0096, Test Loss: 0.0046, RMSE: 0.0672\n"
     ]
    },
    {
     "name": "stderr",
     "output_type": "stream",
     "text": [
      "/Users/pavel/miniconda3/lib/python3.11/site-packages/eXNN/topology/metrics.py:128: RuntimeWarning:\n",
      "\n",
      "divide by zero encountered in scalar divide\n",
      "\n",
      "/Users/pavel/miniconda3/lib/python3.11/site-packages/eXNN/topology/metrics.py:128: RuntimeWarning:\n",
      "\n",
      "divide by zero encountered in scalar divide\n",
      "\n",
      "/Users/pavel/miniconda3/lib/python3.11/site-packages/eXNN/topology/metrics.py:128: RuntimeWarning:\n",
      "\n",
      "divide by zero encountered in scalar divide\n",
      "\n",
      "/Users/pavel/miniconda3/lib/python3.11/site-packages/eXNN/topology/metrics.py:128: RuntimeWarning:\n",
      "\n",
      "divide by zero encountered in scalar divide\n",
      "\n",
      "/Users/pavel/miniconda3/lib/python3.11/site-packages/eXNN/topology/metrics.py:128: RuntimeWarning:\n",
      "\n",
      "divide by zero encountered in scalar divide\n",
      "\n",
      "/Users/pavel/miniconda3/lib/python3.11/site-packages/eXNN/topology/metrics.py:128: RuntimeWarning:\n",
      "\n",
      "divide by zero encountered in scalar divide\n",
      "\n"
     ]
    },
    {
     "name": "stdout",
     "output_type": "stream",
     "text": [
      "Epoch 25/40, Train Loss: 0.0091, Test Loss: 0.0031, RMSE: 0.0552\n"
     ]
    },
    {
     "name": "stderr",
     "output_type": "stream",
     "text": [
      "/Users/pavel/miniconda3/lib/python3.11/site-packages/eXNN/topology/metrics.py:128: RuntimeWarning:\n",
      "\n",
      "divide by zero encountered in scalar divide\n",
      "\n",
      "/Users/pavel/miniconda3/lib/python3.11/site-packages/eXNN/topology/metrics.py:128: RuntimeWarning:\n",
      "\n",
      "divide by zero encountered in scalar divide\n",
      "\n",
      "/Users/pavel/miniconda3/lib/python3.11/site-packages/eXNN/topology/metrics.py:128: RuntimeWarning:\n",
      "\n",
      "divide by zero encountered in scalar divide\n",
      "\n",
      "/Users/pavel/miniconda3/lib/python3.11/site-packages/eXNN/topology/metrics.py:128: RuntimeWarning:\n",
      "\n",
      "divide by zero encountered in scalar divide\n",
      "\n",
      "/Users/pavel/miniconda3/lib/python3.11/site-packages/eXNN/topology/metrics.py:128: RuntimeWarning:\n",
      "\n",
      "divide by zero encountered in scalar divide\n",
      "\n",
      "/Users/pavel/miniconda3/lib/python3.11/site-packages/eXNN/topology/metrics.py:128: RuntimeWarning:\n",
      "\n",
      "divide by zero encountered in scalar divide\n",
      "\n"
     ]
    },
    {
     "name": "stdout",
     "output_type": "stream",
     "text": [
      "Epoch 26/40, Train Loss: 0.0084, Test Loss: 0.0024, RMSE: 0.0491\n"
     ]
    },
    {
     "name": "stderr",
     "output_type": "stream",
     "text": [
      "/Users/pavel/miniconda3/lib/python3.11/site-packages/eXNN/topology/metrics.py:128: RuntimeWarning:\n",
      "\n",
      "divide by zero encountered in scalar divide\n",
      "\n",
      "/Users/pavel/miniconda3/lib/python3.11/site-packages/eXNN/topology/metrics.py:128: RuntimeWarning:\n",
      "\n",
      "divide by zero encountered in scalar divide\n",
      "\n",
      "/Users/pavel/miniconda3/lib/python3.11/site-packages/eXNN/topology/metrics.py:128: RuntimeWarning:\n",
      "\n",
      "divide by zero encountered in scalar divide\n",
      "\n",
      "/Users/pavel/miniconda3/lib/python3.11/site-packages/eXNN/topology/metrics.py:128: RuntimeWarning:\n",
      "\n",
      "divide by zero encountered in scalar divide\n",
      "\n",
      "/Users/pavel/miniconda3/lib/python3.11/site-packages/eXNN/topology/metrics.py:128: RuntimeWarning:\n",
      "\n",
      "divide by zero encountered in scalar divide\n",
      "\n",
      "/Users/pavel/miniconda3/lib/python3.11/site-packages/eXNN/topology/metrics.py:128: RuntimeWarning:\n",
      "\n",
      "divide by zero encountered in scalar divide\n",
      "\n"
     ]
    },
    {
     "name": "stdout",
     "output_type": "stream",
     "text": [
      "Epoch 27/40, Train Loss: 0.0080, Test Loss: 0.0042, RMSE: 0.0641\n"
     ]
    },
    {
     "name": "stderr",
     "output_type": "stream",
     "text": [
      "/Users/pavel/miniconda3/lib/python3.11/site-packages/eXNN/topology/metrics.py:128: RuntimeWarning:\n",
      "\n",
      "divide by zero encountered in scalar divide\n",
      "\n",
      "/Users/pavel/miniconda3/lib/python3.11/site-packages/eXNN/topology/metrics.py:128: RuntimeWarning:\n",
      "\n",
      "divide by zero encountered in scalar divide\n",
      "\n",
      "/Users/pavel/miniconda3/lib/python3.11/site-packages/eXNN/topology/metrics.py:128: RuntimeWarning:\n",
      "\n",
      "divide by zero encountered in scalar divide\n",
      "\n",
      "/Users/pavel/miniconda3/lib/python3.11/site-packages/eXNN/topology/metrics.py:128: RuntimeWarning:\n",
      "\n",
      "divide by zero encountered in scalar divide\n",
      "\n",
      "/Users/pavel/miniconda3/lib/python3.11/site-packages/eXNN/topology/metrics.py:128: RuntimeWarning:\n",
      "\n",
      "divide by zero encountered in scalar divide\n",
      "\n",
      "/Users/pavel/miniconda3/lib/python3.11/site-packages/eXNN/topology/metrics.py:128: RuntimeWarning:\n",
      "\n",
      "divide by zero encountered in scalar divide\n",
      "\n"
     ]
    },
    {
     "name": "stdout",
     "output_type": "stream",
     "text": [
      "Epoch 28/40, Train Loss: 0.0077, Test Loss: 0.0028, RMSE: 0.0525\n"
     ]
    },
    {
     "name": "stderr",
     "output_type": "stream",
     "text": [
      "/Users/pavel/miniconda3/lib/python3.11/site-packages/eXNN/topology/metrics.py:128: RuntimeWarning:\n",
      "\n",
      "divide by zero encountered in scalar divide\n",
      "\n",
      "/Users/pavel/miniconda3/lib/python3.11/site-packages/eXNN/topology/metrics.py:128: RuntimeWarning:\n",
      "\n",
      "divide by zero encountered in scalar divide\n",
      "\n",
      "/Users/pavel/miniconda3/lib/python3.11/site-packages/eXNN/topology/metrics.py:128: RuntimeWarning:\n",
      "\n",
      "divide by zero encountered in scalar divide\n",
      "\n",
      "/Users/pavel/miniconda3/lib/python3.11/site-packages/eXNN/topology/metrics.py:128: RuntimeWarning:\n",
      "\n",
      "divide by zero encountered in scalar divide\n",
      "\n",
      "/Users/pavel/miniconda3/lib/python3.11/site-packages/eXNN/topology/metrics.py:128: RuntimeWarning:\n",
      "\n",
      "divide by zero encountered in scalar divide\n",
      "\n",
      "/Users/pavel/miniconda3/lib/python3.11/site-packages/eXNN/topology/metrics.py:128: RuntimeWarning:\n",
      "\n",
      "divide by zero encountered in scalar divide\n",
      "\n"
     ]
    },
    {
     "name": "stdout",
     "output_type": "stream",
     "text": [
      "Epoch 29/40, Train Loss: 0.0073, Test Loss: 0.0013, RMSE: 0.0360\n"
     ]
    },
    {
     "name": "stderr",
     "output_type": "stream",
     "text": [
      "/Users/pavel/miniconda3/lib/python3.11/site-packages/eXNN/topology/metrics.py:128: RuntimeWarning:\n",
      "\n",
      "divide by zero encountered in scalar divide\n",
      "\n",
      "/Users/pavel/miniconda3/lib/python3.11/site-packages/eXNN/topology/metrics.py:128: RuntimeWarning:\n",
      "\n",
      "divide by zero encountered in scalar divide\n",
      "\n",
      "/Users/pavel/miniconda3/lib/python3.11/site-packages/eXNN/topology/metrics.py:128: RuntimeWarning:\n",
      "\n",
      "divide by zero encountered in scalar divide\n",
      "\n",
      "/Users/pavel/miniconda3/lib/python3.11/site-packages/eXNN/topology/metrics.py:128: RuntimeWarning:\n",
      "\n",
      "divide by zero encountered in scalar divide\n",
      "\n",
      "/Users/pavel/miniconda3/lib/python3.11/site-packages/eXNN/topology/metrics.py:128: RuntimeWarning:\n",
      "\n",
      "divide by zero encountered in scalar divide\n",
      "\n",
      "/Users/pavel/miniconda3/lib/python3.11/site-packages/eXNN/topology/metrics.py:128: RuntimeWarning:\n",
      "\n",
      "divide by zero encountered in scalar divide\n",
      "\n"
     ]
    },
    {
     "name": "stdout",
     "output_type": "stream",
     "text": [
      "Epoch 30/40, Train Loss: 0.0068, Test Loss: 0.0022, RMSE: 0.0468\n"
     ]
    },
    {
     "name": "stderr",
     "output_type": "stream",
     "text": [
      "/Users/pavel/miniconda3/lib/python3.11/site-packages/eXNN/topology/metrics.py:128: RuntimeWarning:\n",
      "\n",
      "divide by zero encountered in scalar divide\n",
      "\n",
      "/Users/pavel/miniconda3/lib/python3.11/site-packages/eXNN/topology/metrics.py:128: RuntimeWarning:\n",
      "\n",
      "divide by zero encountered in scalar divide\n",
      "\n",
      "/Users/pavel/miniconda3/lib/python3.11/site-packages/eXNN/topology/metrics.py:128: RuntimeWarning:\n",
      "\n",
      "divide by zero encountered in scalar divide\n",
      "\n",
      "/Users/pavel/miniconda3/lib/python3.11/site-packages/eXNN/topology/metrics.py:128: RuntimeWarning:\n",
      "\n",
      "divide by zero encountered in scalar divide\n",
      "\n",
      "/Users/pavel/miniconda3/lib/python3.11/site-packages/eXNN/topology/metrics.py:128: RuntimeWarning:\n",
      "\n",
      "divide by zero encountered in scalar divide\n",
      "\n",
      "/Users/pavel/miniconda3/lib/python3.11/site-packages/eXNN/topology/metrics.py:128: RuntimeWarning:\n",
      "\n",
      "divide by zero encountered in scalar divide\n",
      "\n"
     ]
    },
    {
     "name": "stdout",
     "output_type": "stream",
     "text": [
      "Epoch 31/40, Train Loss: 0.0069, Test Loss: 0.0029, RMSE: 0.0534\n"
     ]
    },
    {
     "name": "stderr",
     "output_type": "stream",
     "text": [
      "/Users/pavel/miniconda3/lib/python3.11/site-packages/eXNN/topology/metrics.py:128: RuntimeWarning:\n",
      "\n",
      "divide by zero encountered in scalar divide\n",
      "\n",
      "/Users/pavel/miniconda3/lib/python3.11/site-packages/eXNN/topology/metrics.py:128: RuntimeWarning:\n",
      "\n",
      "divide by zero encountered in scalar divide\n",
      "\n",
      "/Users/pavel/miniconda3/lib/python3.11/site-packages/eXNN/topology/metrics.py:128: RuntimeWarning:\n",
      "\n",
      "divide by zero encountered in scalar divide\n",
      "\n",
      "/Users/pavel/miniconda3/lib/python3.11/site-packages/eXNN/topology/metrics.py:128: RuntimeWarning:\n",
      "\n",
      "divide by zero encountered in scalar divide\n",
      "\n",
      "/Users/pavel/miniconda3/lib/python3.11/site-packages/eXNN/topology/metrics.py:128: RuntimeWarning:\n",
      "\n",
      "divide by zero encountered in scalar divide\n",
      "\n",
      "/Users/pavel/miniconda3/lib/python3.11/site-packages/eXNN/topology/metrics.py:128: RuntimeWarning:\n",
      "\n",
      "divide by zero encountered in scalar divide\n",
      "\n"
     ]
    },
    {
     "name": "stdout",
     "output_type": "stream",
     "text": [
      "Epoch 32/40, Train Loss: 0.0062, Test Loss: 0.0018, RMSE: 0.0425\n"
     ]
    },
    {
     "name": "stderr",
     "output_type": "stream",
     "text": [
      "/Users/pavel/miniconda3/lib/python3.11/site-packages/eXNN/topology/metrics.py:128: RuntimeWarning:\n",
      "\n",
      "divide by zero encountered in scalar divide\n",
      "\n",
      "/Users/pavel/miniconda3/lib/python3.11/site-packages/eXNN/topology/metrics.py:128: RuntimeWarning:\n",
      "\n",
      "divide by zero encountered in scalar divide\n",
      "\n",
      "/Users/pavel/miniconda3/lib/python3.11/site-packages/eXNN/topology/metrics.py:128: RuntimeWarning:\n",
      "\n",
      "divide by zero encountered in scalar divide\n",
      "\n",
      "/Users/pavel/miniconda3/lib/python3.11/site-packages/eXNN/topology/metrics.py:128: RuntimeWarning:\n",
      "\n",
      "divide by zero encountered in scalar divide\n",
      "\n",
      "/Users/pavel/miniconda3/lib/python3.11/site-packages/eXNN/topology/metrics.py:128: RuntimeWarning:\n",
      "\n",
      "divide by zero encountered in scalar divide\n",
      "\n",
      "/Users/pavel/miniconda3/lib/python3.11/site-packages/eXNN/topology/metrics.py:128: RuntimeWarning:\n",
      "\n",
      "divide by zero encountered in scalar divide\n",
      "\n"
     ]
    },
    {
     "name": "stdout",
     "output_type": "stream",
     "text": [
      "Epoch 33/40, Train Loss: 0.0062, Test Loss: 0.0033, RMSE: 0.0571\n"
     ]
    },
    {
     "name": "stderr",
     "output_type": "stream",
     "text": [
      "/Users/pavel/miniconda3/lib/python3.11/site-packages/eXNN/topology/metrics.py:128: RuntimeWarning:\n",
      "\n",
      "divide by zero encountered in scalar divide\n",
      "\n",
      "/Users/pavel/miniconda3/lib/python3.11/site-packages/eXNN/topology/metrics.py:128: RuntimeWarning:\n",
      "\n",
      "divide by zero encountered in scalar divide\n",
      "\n",
      "/Users/pavel/miniconda3/lib/python3.11/site-packages/eXNN/topology/metrics.py:128: RuntimeWarning:\n",
      "\n",
      "divide by zero encountered in scalar divide\n",
      "\n",
      "/Users/pavel/miniconda3/lib/python3.11/site-packages/eXNN/topology/metrics.py:128: RuntimeWarning:\n",
      "\n",
      "divide by zero encountered in scalar divide\n",
      "\n",
      "/Users/pavel/miniconda3/lib/python3.11/site-packages/eXNN/topology/metrics.py:128: RuntimeWarning:\n",
      "\n",
      "divide by zero encountered in scalar divide\n",
      "\n",
      "/Users/pavel/miniconda3/lib/python3.11/site-packages/eXNN/topology/metrics.py:128: RuntimeWarning:\n",
      "\n",
      "divide by zero encountered in scalar divide\n",
      "\n"
     ]
    },
    {
     "name": "stdout",
     "output_type": "stream",
     "text": [
      "Epoch 34/40, Train Loss: 0.0058, Test Loss: 0.0023, RMSE: 0.0475\n"
     ]
    },
    {
     "name": "stderr",
     "output_type": "stream",
     "text": [
      "/Users/pavel/miniconda3/lib/python3.11/site-packages/eXNN/topology/metrics.py:128: RuntimeWarning:\n",
      "\n",
      "divide by zero encountered in scalar divide\n",
      "\n",
      "/Users/pavel/miniconda3/lib/python3.11/site-packages/eXNN/topology/metrics.py:128: RuntimeWarning:\n",
      "\n",
      "divide by zero encountered in scalar divide\n",
      "\n",
      "/Users/pavel/miniconda3/lib/python3.11/site-packages/eXNN/topology/metrics.py:128: RuntimeWarning:\n",
      "\n",
      "divide by zero encountered in scalar divide\n",
      "\n",
      "/Users/pavel/miniconda3/lib/python3.11/site-packages/eXNN/topology/metrics.py:128: RuntimeWarning:\n",
      "\n",
      "divide by zero encountered in scalar divide\n",
      "\n",
      "/Users/pavel/miniconda3/lib/python3.11/site-packages/eXNN/topology/metrics.py:128: RuntimeWarning:\n",
      "\n",
      "divide by zero encountered in scalar divide\n",
      "\n",
      "/Users/pavel/miniconda3/lib/python3.11/site-packages/eXNN/topology/metrics.py:128: RuntimeWarning:\n",
      "\n",
      "divide by zero encountered in scalar divide\n",
      "\n"
     ]
    },
    {
     "name": "stdout",
     "output_type": "stream",
     "text": [
      "Epoch 35/40, Train Loss: 0.0056, Test Loss: 0.0020, RMSE: 0.0440\n"
     ]
    },
    {
     "name": "stderr",
     "output_type": "stream",
     "text": [
      "/Users/pavel/miniconda3/lib/python3.11/site-packages/eXNN/topology/metrics.py:128: RuntimeWarning:\n",
      "\n",
      "divide by zero encountered in scalar divide\n",
      "\n",
      "/Users/pavel/miniconda3/lib/python3.11/site-packages/eXNN/topology/metrics.py:128: RuntimeWarning:\n",
      "\n",
      "divide by zero encountered in scalar divide\n",
      "\n",
      "/Users/pavel/miniconda3/lib/python3.11/site-packages/eXNN/topology/metrics.py:128: RuntimeWarning:\n",
      "\n",
      "divide by zero encountered in scalar divide\n",
      "\n",
      "/Users/pavel/miniconda3/lib/python3.11/site-packages/eXNN/topology/metrics.py:128: RuntimeWarning:\n",
      "\n",
      "divide by zero encountered in scalar divide\n",
      "\n",
      "/Users/pavel/miniconda3/lib/python3.11/site-packages/eXNN/topology/metrics.py:128: RuntimeWarning:\n",
      "\n",
      "divide by zero encountered in scalar divide\n",
      "\n",
      "/Users/pavel/miniconda3/lib/python3.11/site-packages/eXNN/topology/metrics.py:128: RuntimeWarning:\n",
      "\n",
      "divide by zero encountered in scalar divide\n",
      "\n"
     ]
    },
    {
     "name": "stdout",
     "output_type": "stream",
     "text": [
      "Epoch 36/40, Train Loss: 0.0052, Test Loss: 0.0021, RMSE: 0.0459\n"
     ]
    },
    {
     "name": "stderr",
     "output_type": "stream",
     "text": [
      "/Users/pavel/miniconda3/lib/python3.11/site-packages/eXNN/topology/metrics.py:128: RuntimeWarning:\n",
      "\n",
      "divide by zero encountered in scalar divide\n",
      "\n",
      "/Users/pavel/miniconda3/lib/python3.11/site-packages/eXNN/topology/metrics.py:128: RuntimeWarning:\n",
      "\n",
      "divide by zero encountered in scalar divide\n",
      "\n",
      "/Users/pavel/miniconda3/lib/python3.11/site-packages/eXNN/topology/metrics.py:128: RuntimeWarning:\n",
      "\n",
      "divide by zero encountered in scalar divide\n",
      "\n",
      "/Users/pavel/miniconda3/lib/python3.11/site-packages/eXNN/topology/metrics.py:128: RuntimeWarning:\n",
      "\n",
      "divide by zero encountered in scalar divide\n",
      "\n",
      "/Users/pavel/miniconda3/lib/python3.11/site-packages/eXNN/topology/metrics.py:128: RuntimeWarning:\n",
      "\n",
      "divide by zero encountered in scalar divide\n",
      "\n",
      "/Users/pavel/miniconda3/lib/python3.11/site-packages/eXNN/topology/metrics.py:128: RuntimeWarning:\n",
      "\n",
      "divide by zero encountered in scalar divide\n",
      "\n"
     ]
    },
    {
     "name": "stdout",
     "output_type": "stream",
     "text": [
      "Epoch 37/40, Train Loss: 0.0050, Test Loss: 0.0012, RMSE: 0.0338\n"
     ]
    },
    {
     "name": "stderr",
     "output_type": "stream",
     "text": [
      "/Users/pavel/miniconda3/lib/python3.11/site-packages/eXNN/topology/metrics.py:128: RuntimeWarning:\n",
      "\n",
      "divide by zero encountered in scalar divide\n",
      "\n",
      "/Users/pavel/miniconda3/lib/python3.11/site-packages/eXNN/topology/metrics.py:128: RuntimeWarning:\n",
      "\n",
      "divide by zero encountered in scalar divide\n",
      "\n",
      "/Users/pavel/miniconda3/lib/python3.11/site-packages/eXNN/topology/metrics.py:128: RuntimeWarning:\n",
      "\n",
      "divide by zero encountered in scalar divide\n",
      "\n",
      "/Users/pavel/miniconda3/lib/python3.11/site-packages/eXNN/topology/metrics.py:128: RuntimeWarning:\n",
      "\n",
      "divide by zero encountered in scalar divide\n",
      "\n",
      "/Users/pavel/miniconda3/lib/python3.11/site-packages/eXNN/topology/metrics.py:128: RuntimeWarning:\n",
      "\n",
      "divide by zero encountered in scalar divide\n",
      "\n",
      "/Users/pavel/miniconda3/lib/python3.11/site-packages/eXNN/topology/metrics.py:128: RuntimeWarning:\n",
      "\n",
      "divide by zero encountered in scalar divide\n",
      "\n"
     ]
    },
    {
     "name": "stdout",
     "output_type": "stream",
     "text": [
      "Epoch 38/40, Train Loss: 0.0047, Test Loss: 0.0015, RMSE: 0.0385\n"
     ]
    },
    {
     "name": "stderr",
     "output_type": "stream",
     "text": [
      "/Users/pavel/miniconda3/lib/python3.11/site-packages/eXNN/topology/metrics.py:128: RuntimeWarning:\n",
      "\n",
      "divide by zero encountered in scalar divide\n",
      "\n",
      "/Users/pavel/miniconda3/lib/python3.11/site-packages/eXNN/topology/metrics.py:128: RuntimeWarning:\n",
      "\n",
      "divide by zero encountered in scalar divide\n",
      "\n",
      "/Users/pavel/miniconda3/lib/python3.11/site-packages/eXNN/topology/metrics.py:128: RuntimeWarning:\n",
      "\n",
      "divide by zero encountered in scalar divide\n",
      "\n",
      "/Users/pavel/miniconda3/lib/python3.11/site-packages/eXNN/topology/metrics.py:128: RuntimeWarning:\n",
      "\n",
      "divide by zero encountered in scalar divide\n",
      "\n",
      "/Users/pavel/miniconda3/lib/python3.11/site-packages/eXNN/topology/metrics.py:128: RuntimeWarning:\n",
      "\n",
      "divide by zero encountered in scalar divide\n",
      "\n",
      "/Users/pavel/miniconda3/lib/python3.11/site-packages/eXNN/topology/metrics.py:128: RuntimeWarning:\n",
      "\n",
      "divide by zero encountered in scalar divide\n",
      "\n"
     ]
    },
    {
     "name": "stdout",
     "output_type": "stream",
     "text": [
      "Epoch 39/40, Train Loss: 0.0046, Test Loss: 0.0013, RMSE: 0.0354\n"
     ]
    },
    {
     "name": "stderr",
     "output_type": "stream",
     "text": [
      "/Users/pavel/miniconda3/lib/python3.11/site-packages/eXNN/topology/metrics.py:128: RuntimeWarning:\n",
      "\n",
      "divide by zero encountered in scalar divide\n",
      "\n",
      "/Users/pavel/miniconda3/lib/python3.11/site-packages/eXNN/topology/metrics.py:128: RuntimeWarning:\n",
      "\n",
      "divide by zero encountered in scalar divide\n",
      "\n",
      "/Users/pavel/miniconda3/lib/python3.11/site-packages/eXNN/topology/metrics.py:128: RuntimeWarning:\n",
      "\n",
      "divide by zero encountered in scalar divide\n",
      "\n",
      "/Users/pavel/miniconda3/lib/python3.11/site-packages/eXNN/topology/metrics.py:128: RuntimeWarning:\n",
      "\n",
      "divide by zero encountered in scalar divide\n",
      "\n",
      "/Users/pavel/miniconda3/lib/python3.11/site-packages/eXNN/topology/metrics.py:128: RuntimeWarning:\n",
      "\n",
      "divide by zero encountered in scalar divide\n",
      "\n",
      "/Users/pavel/miniconda3/lib/python3.11/site-packages/eXNN/topology/metrics.py:128: RuntimeWarning:\n",
      "\n",
      "divide by zero encountered in scalar divide\n",
      "\n"
     ]
    },
    {
     "name": "stdout",
     "output_type": "stream",
     "text": [
      "Epoch 40/40, Train Loss: 0.0048, Test Loss: 0.0021, RMSE: 0.0453\n"
     ]
    },
    {
     "data": {
      "image/png": "[encoded data removed]",
      "text/plain": [
       "<Figure size 1000x500 with 1 Axes>"
      ]
     },
     "metadata": {},
     "output_type": "display_data"
    },
    {
     "name": "stderr",
     "output_type": "stream",
     "text": [
      "/Users/pavel/miniconda3/lib/python3.11/site-packages/eXNN/topology/metrics.py:128: RuntimeWarning:\n",
      "\n",
      "divide by zero encountered in scalar divide\n",
      "\n",
      "/Users/pavel/miniconda3/lib/python3.11/site-packages/eXNN/topology/metrics.py:128: RuntimeWarning:\n",
      "\n",
      "divide by zero encountered in scalar divide\n",
      "\n",
      "/Users/pavel/miniconda3/lib/python3.11/site-packages/eXNN/topology/metrics.py:128: RuntimeWarning:\n",
      "\n",
      "divide by zero encountered in scalar divide\n",
      "\n",
      "/Users/pavel/miniconda3/lib/python3.11/site-packages/eXNN/topology/metrics.py:128: RuntimeWarning:\n",
      "\n",
      "divide by zero encountered in scalar divide\n",
      "\n",
      "/Users/pavel/miniconda3/lib/python3.11/site-packages/eXNN/topology/metrics.py:128: RuntimeWarning:\n",
      "\n",
      "divide by zero encountered in scalar divide\n",
      "\n",
      "/Users/pavel/miniconda3/lib/python3.11/site-packages/eXNN/topology/metrics.py:128: RuntimeWarning:\n",
      "\n",
      "divide by zero encountered in scalar divide\n",
      "\n"
     ]
    },
    {
     "name": "stdout",
     "output_type": "stream",
     "text": [
      "Epoch 1/40, Train Loss: 0.1302, Test Loss: 0.0200, RMSE: 0.1413\n"
     ]
    },
    {
     "name": "stderr",
     "output_type": "stream",
     "text": [
      "/Users/pavel/miniconda3/lib/python3.11/site-packages/eXNN/topology/metrics.py:128: RuntimeWarning:\n",
      "\n",
      "divide by zero encountered in scalar divide\n",
      "\n",
      "/Users/pavel/miniconda3/lib/python3.11/site-packages/eXNN/topology/metrics.py:128: RuntimeWarning:\n",
      "\n",
      "divide by zero encountered in scalar divide\n",
      "\n",
      "/Users/pavel/miniconda3/lib/python3.11/site-packages/eXNN/topology/metrics.py:128: RuntimeWarning:\n",
      "\n",
      "divide by zero encountered in scalar divide\n",
      "\n",
      "/Users/pavel/miniconda3/lib/python3.11/site-packages/eXNN/topology/metrics.py:128: RuntimeWarning:\n",
      "\n",
      "divide by zero encountered in scalar divide\n",
      "\n",
      "/Users/pavel/miniconda3/lib/python3.11/site-packages/eXNN/topology/metrics.py:128: RuntimeWarning:\n",
      "\n",
      "divide by zero encountered in scalar divide\n",
      "\n",
      "/Users/pavel/miniconda3/lib/python3.11/site-packages/eXNN/topology/metrics.py:128: RuntimeWarning:\n",
      "\n",
      "divide by zero encountered in scalar divide\n",
      "\n"
     ]
    },
    {
     "name": "stdout",
     "output_type": "stream",
     "text": [
      "Epoch 2/40, Train Loss: 0.0846, Test Loss: 0.0156, RMSE: 0.1244\n"
     ]
    },
    {
     "name": "stderr",
     "output_type": "stream",
     "text": [
      "/Users/pavel/miniconda3/lib/python3.11/site-packages/eXNN/topology/metrics.py:128: RuntimeWarning:\n",
      "\n",
      "divide by zero encountered in scalar divide\n",
      "\n",
      "/Users/pavel/miniconda3/lib/python3.11/site-packages/eXNN/topology/metrics.py:128: RuntimeWarning:\n",
      "\n",
      "divide by zero encountered in scalar divide\n",
      "\n",
      "/Users/pavel/miniconda3/lib/python3.11/site-packages/eXNN/topology/metrics.py:128: RuntimeWarning:\n",
      "\n",
      "divide by zero encountered in scalar divide\n",
      "\n",
      "/Users/pavel/miniconda3/lib/python3.11/site-packages/eXNN/topology/metrics.py:128: RuntimeWarning:\n",
      "\n",
      "divide by zero encountered in scalar divide\n",
      "\n",
      "/Users/pavel/miniconda3/lib/python3.11/site-packages/eXNN/topology/metrics.py:128: RuntimeWarning:\n",
      "\n",
      "divide by zero encountered in scalar divide\n",
      "\n",
      "/Users/pavel/miniconda3/lib/python3.11/site-packages/eXNN/topology/metrics.py:128: RuntimeWarning:\n",
      "\n",
      "divide by zero encountered in scalar divide\n",
      "\n"
     ]
    },
    {
     "name": "stdout",
     "output_type": "stream",
     "text": [
      "Epoch 3/40, Train Loss: 0.0660, Test Loss: 0.0146, RMSE: 0.1206\n"
     ]
    },
    {
     "name": "stderr",
     "output_type": "stream",
     "text": [
      "/Users/pavel/miniconda3/lib/python3.11/site-packages/eXNN/topology/metrics.py:128: RuntimeWarning:\n",
      "\n",
      "divide by zero encountered in scalar divide\n",
      "\n",
      "/Users/pavel/miniconda3/lib/python3.11/site-packages/eXNN/topology/metrics.py:128: RuntimeWarning:\n",
      "\n",
      "divide by zero encountered in scalar divide\n",
      "\n",
      "/Users/pavel/miniconda3/lib/python3.11/site-packages/eXNN/topology/metrics.py:128: RuntimeWarning:\n",
      "\n",
      "divide by zero encountered in scalar divide\n",
      "\n",
      "/Users/pavel/miniconda3/lib/python3.11/site-packages/eXNN/topology/metrics.py:128: RuntimeWarning:\n",
      "\n",
      "divide by zero encountered in scalar divide\n",
      "\n",
      "/Users/pavel/miniconda3/lib/python3.11/site-packages/eXNN/topology/metrics.py:128: RuntimeWarning:\n",
      "\n",
      "divide by zero encountered in scalar divide\n",
      "\n",
      "/Users/pavel/miniconda3/lib/python3.11/site-packages/eXNN/topology/metrics.py:128: RuntimeWarning:\n",
      "\n",
      "divide by zero encountered in scalar divide\n",
      "\n"
     ]
    },
    {
     "name": "stdout",
     "output_type": "stream",
     "text": [
      "Epoch 4/40, Train Loss: 0.0528, Test Loss: 0.0123, RMSE: 0.1106\n"
     ]
    },
    {
     "name": "stderr",
     "output_type": "stream",
     "text": [
      "/Users/pavel/miniconda3/lib/python3.11/site-packages/eXNN/topology/metrics.py:128: RuntimeWarning:\n",
      "\n",
      "divide by zero encountered in scalar divide\n",
      "\n",
      "/Users/pavel/miniconda3/lib/python3.11/site-packages/eXNN/topology/metrics.py:128: RuntimeWarning:\n",
      "\n",
      "divide by zero encountered in scalar divide\n",
      "\n",
      "/Users/pavel/miniconda3/lib/python3.11/site-packages/eXNN/topology/metrics.py:128: RuntimeWarning:\n",
      "\n",
      "divide by zero encountered in scalar divide\n",
      "\n",
      "/Users/pavel/miniconda3/lib/python3.11/site-packages/eXNN/topology/metrics.py:128: RuntimeWarning:\n",
      "\n",
      "divide by zero encountered in scalar divide\n",
      "\n",
      "/Users/pavel/miniconda3/lib/python3.11/site-packages/eXNN/topology/metrics.py:128: RuntimeWarning:\n",
      "\n",
      "divide by zero encountered in scalar divide\n",
      "\n",
      "/Users/pavel/miniconda3/lib/python3.11/site-packages/eXNN/topology/metrics.py:128: RuntimeWarning:\n",
      "\n",
      "divide by zero encountered in scalar divide\n",
      "\n"
     ]
    },
    {
     "name": "stdout",
     "output_type": "stream",
     "text": [
      "Epoch 5/40, Train Loss: 0.0438, Test Loss: 0.0096, RMSE: 0.0977\n"
     ]
    },
    {
     "name": "stderr",
     "output_type": "stream",
     "text": [
      "/Users/pavel/miniconda3/lib/python3.11/site-packages/eXNN/topology/metrics.py:128: RuntimeWarning:\n",
      "\n",
      "divide by zero encountered in scalar divide\n",
      "\n",
      "/Users/pavel/miniconda3/lib/python3.11/site-packages/eXNN/topology/metrics.py:128: RuntimeWarning:\n",
      "\n",
      "divide by zero encountered in scalar divide\n",
      "\n",
      "/Users/pavel/miniconda3/lib/python3.11/site-packages/eXNN/topology/metrics.py:128: RuntimeWarning:\n",
      "\n",
      "divide by zero encountered in scalar divide\n",
      "\n",
      "/Users/pavel/miniconda3/lib/python3.11/site-packages/eXNN/topology/metrics.py:128: RuntimeWarning:\n",
      "\n",
      "divide by zero encountered in scalar divide\n",
      "\n",
      "/Users/pavel/miniconda3/lib/python3.11/site-packages/eXNN/topology/metrics.py:128: RuntimeWarning:\n",
      "\n",
      "divide by zero encountered in scalar divide\n",
      "\n",
      "/Users/pavel/miniconda3/lib/python3.11/site-packages/eXNN/topology/metrics.py:128: RuntimeWarning:\n",
      "\n",
      "divide by zero encountered in scalar divide\n",
      "\n"
     ]
    },
    {
     "name": "stdout",
     "output_type": "stream",
     "text": [
      "Epoch 6/40, Train Loss: 0.0359, Test Loss: 0.0089, RMSE: 0.0942\n"
     ]
    },
    {
     "name": "stderr",
     "output_type": "stream",
     "text": [
      "/Users/pavel/miniconda3/lib/python3.11/site-packages/eXNN/topology/metrics.py:128: RuntimeWarning:\n",
      "\n",
      "divide by zero encountered in scalar divide\n",
      "\n",
      "/Users/pavel/miniconda3/lib/python3.11/site-packages/eXNN/topology/metrics.py:128: RuntimeWarning:\n",
      "\n",
      "divide by zero encountered in scalar divide\n",
      "\n",
      "/Users/pavel/miniconda3/lib/python3.11/site-packages/eXNN/topology/metrics.py:128: RuntimeWarning:\n",
      "\n",
      "divide by zero encountered in scalar divide\n",
      "\n",
      "/Users/pavel/miniconda3/lib/python3.11/site-packages/eXNN/topology/metrics.py:128: RuntimeWarning:\n",
      "\n",
      "divide by zero encountered in scalar divide\n",
      "\n",
      "/Users/pavel/miniconda3/lib/python3.11/site-packages/eXNN/topology/metrics.py:128: RuntimeWarning:\n",
      "\n",
      "divide by zero encountered in scalar divide\n",
      "\n",
      "/Users/pavel/miniconda3/lib/python3.11/site-packages/eXNN/topology/metrics.py:128: RuntimeWarning:\n",
      "\n",
      "divide by zero encountered in scalar divide\n",
      "\n"
     ]
    },
    {
     "name": "stdout",
     "output_type": "stream",
     "text": [
      "Epoch 7/40, Train Loss: 0.0291, Test Loss: 0.0071, RMSE: 0.0845\n"
     ]
    },
    {
     "name": "stderr",
     "output_type": "stream",
     "text": [
      "/Users/pavel/miniconda3/lib/python3.11/site-packages/eXNN/topology/metrics.py:128: RuntimeWarning:\n",
      "\n",
      "divide by zero encountered in scalar divide\n",
      "\n",
      "/Users/pavel/miniconda3/lib/python3.11/site-packages/eXNN/topology/metrics.py:128: RuntimeWarning:\n",
      "\n",
      "divide by zero encountered in scalar divide\n",
      "\n",
      "/Users/pavel/miniconda3/lib/python3.11/site-packages/eXNN/topology/metrics.py:128: RuntimeWarning:\n",
      "\n",
      "divide by zero encountered in scalar divide\n",
      "\n",
      "/Users/pavel/miniconda3/lib/python3.11/site-packages/eXNN/topology/metrics.py:128: RuntimeWarning:\n",
      "\n",
      "divide by zero encountered in scalar divide\n",
      "\n",
      "/Users/pavel/miniconda3/lib/python3.11/site-packages/eXNN/topology/metrics.py:128: RuntimeWarning:\n",
      "\n",
      "divide by zero encountered in scalar divide\n",
      "\n",
      "/Users/pavel/miniconda3/lib/python3.11/site-packages/eXNN/topology/metrics.py:128: RuntimeWarning:\n",
      "\n",
      "divide by zero encountered in scalar divide\n",
      "\n"
     ]
    },
    {
     "name": "stdout",
     "output_type": "stream",
     "text": [
      "Epoch 8/40, Train Loss: 0.0242, Test Loss: 0.0071, RMSE: 0.0846\n"
     ]
    },
    {
     "name": "stderr",
     "output_type": "stream",
     "text": [
      "/Users/pavel/miniconda3/lib/python3.11/site-packages/eXNN/topology/metrics.py:128: RuntimeWarning:\n",
      "\n",
      "divide by zero encountered in scalar divide\n",
      "\n",
      "/Users/pavel/miniconda3/lib/python3.11/site-packages/eXNN/topology/metrics.py:128: RuntimeWarning:\n",
      "\n",
      "divide by zero encountered in scalar divide\n",
      "\n",
      "/Users/pavel/miniconda3/lib/python3.11/site-packages/eXNN/topology/metrics.py:128: RuntimeWarning:\n",
      "\n",
      "divide by zero encountered in scalar divide\n",
      "\n",
      "/Users/pavel/miniconda3/lib/python3.11/site-packages/eXNN/topology/metrics.py:128: RuntimeWarning:\n",
      "\n",
      "divide by zero encountered in scalar divide\n",
      "\n",
      "/Users/pavel/miniconda3/lib/python3.11/site-packages/eXNN/topology/metrics.py:128: RuntimeWarning:\n",
      "\n",
      "divide by zero encountered in scalar divide\n",
      "\n",
      "/Users/pavel/miniconda3/lib/python3.11/site-packages/eXNN/topology/metrics.py:128: RuntimeWarning:\n",
      "\n",
      "divide by zero encountered in scalar divide\n",
      "\n"
     ]
    },
    {
     "name": "stdout",
     "output_type": "stream",
     "text": [
      "Epoch 9/40, Train Loss: 0.0197, Test Loss: 0.0081, RMSE: 0.0904\n"
     ]
    },
    {
     "name": "stderr",
     "output_type": "stream",
     "text": [
      "/Users/pavel/miniconda3/lib/python3.11/site-packages/eXNN/topology/metrics.py:128: RuntimeWarning:\n",
      "\n",
      "divide by zero encountered in scalar divide\n",
      "\n",
      "/Users/pavel/miniconda3/lib/python3.11/site-packages/eXNN/topology/metrics.py:128: RuntimeWarning:\n",
      "\n",
      "divide by zero encountered in scalar divide\n",
      "\n",
      "/Users/pavel/miniconda3/lib/python3.11/site-packages/eXNN/topology/metrics.py:128: RuntimeWarning:\n",
      "\n",
      "divide by zero encountered in scalar divide\n",
      "\n",
      "/Users/pavel/miniconda3/lib/python3.11/site-packages/eXNN/topology/metrics.py:128: RuntimeWarning:\n",
      "\n",
      "divide by zero encountered in scalar divide\n",
      "\n",
      "/Users/pavel/miniconda3/lib/python3.11/site-packages/eXNN/topology/metrics.py:128: RuntimeWarning:\n",
      "\n",
      "divide by zero encountered in scalar divide\n",
      "\n",
      "/Users/pavel/miniconda3/lib/python3.11/site-packages/eXNN/topology/metrics.py:128: RuntimeWarning:\n",
      "\n",
      "divide by zero encountered in scalar divide\n",
      "\n"
     ]
    },
    {
     "name": "stdout",
     "output_type": "stream",
     "text": [
      "Epoch 10/40, Train Loss: 0.0171, Test Loss: 0.0053, RMSE: 0.0734\n"
     ]
    },
    {
     "name": "stderr",
     "output_type": "stream",
     "text": [
      "/Users/pavel/miniconda3/lib/python3.11/site-packages/eXNN/topology/metrics.py:128: RuntimeWarning:\n",
      "\n",
      "divide by zero encountered in scalar divide\n",
      "\n",
      "/Users/pavel/miniconda3/lib/python3.11/site-packages/eXNN/topology/metrics.py:128: RuntimeWarning:\n",
      "\n",
      "divide by zero encountered in scalar divide\n",
      "\n",
      "/Users/pavel/miniconda3/lib/python3.11/site-packages/eXNN/topology/metrics.py:128: RuntimeWarning:\n",
      "\n",
      "divide by zero encountered in scalar divide\n",
      "\n",
      "/Users/pavel/miniconda3/lib/python3.11/site-packages/eXNN/topology/metrics.py:128: RuntimeWarning:\n",
      "\n",
      "divide by zero encountered in scalar divide\n",
      "\n",
      "/Users/pavel/miniconda3/lib/python3.11/site-packages/eXNN/topology/metrics.py:128: RuntimeWarning:\n",
      "\n",
      "divide by zero encountered in scalar divide\n",
      "\n",
      "/Users/pavel/miniconda3/lib/python3.11/site-packages/eXNN/topology/metrics.py:128: RuntimeWarning:\n",
      "\n",
      "divide by zero encountered in scalar divide\n",
      "\n"
     ]
    },
    {
     "name": "stdout",
     "output_type": "stream",
     "text": [
      "Epoch 11/40, Train Loss: 0.0148, Test Loss: 0.0048, RMSE: 0.0699\n"
     ]
    },
    {
     "name": "stderr",
     "output_type": "stream",
     "text": [
      "/Users/pavel/miniconda3/lib/python3.11/site-packages/eXNN/topology/metrics.py:128: RuntimeWarning:\n",
      "\n",
      "divide by zero encountered in scalar divide\n",
      "\n",
      "/Users/pavel/miniconda3/lib/python3.11/site-packages/eXNN/topology/metrics.py:128: RuntimeWarning:\n",
      "\n",
      "divide by zero encountered in scalar divide\n",
      "\n",
      "/Users/pavel/miniconda3/lib/python3.11/site-packages/eXNN/topology/metrics.py:128: RuntimeWarning:\n",
      "\n",
      "divide by zero encountered in scalar divide\n",
      "\n",
      "/Users/pavel/miniconda3/lib/python3.11/site-packages/eXNN/topology/metrics.py:128: RuntimeWarning:\n",
      "\n",
      "divide by zero encountered in scalar divide\n",
      "\n",
      "/Users/pavel/miniconda3/lib/python3.11/site-packages/eXNN/topology/metrics.py:128: RuntimeWarning:\n",
      "\n",
      "divide by zero encountered in scalar divide\n",
      "\n",
      "/Users/pavel/miniconda3/lib/python3.11/site-packages/eXNN/topology/metrics.py:128: RuntimeWarning:\n",
      "\n",
      "divide by zero encountered in scalar divide\n",
      "\n"
     ]
    },
    {
     "name": "stdout",
     "output_type": "stream",
     "text": [
      "Epoch 12/40, Train Loss: 0.0134, Test Loss: 0.0046, RMSE: 0.0684\n"
     ]
    },
    {
     "name": "stderr",
     "output_type": "stream",
     "text": [
      "/Users/pavel/miniconda3/lib/python3.11/site-packages/eXNN/topology/metrics.py:128: RuntimeWarning:\n",
      "\n",
      "divide by zero encountered in scalar divide\n",
      "\n",
      "/Users/pavel/miniconda3/lib/python3.11/site-packages/eXNN/topology/metrics.py:128: RuntimeWarning:\n",
      "\n",
      "divide by zero encountered in scalar divide\n",
      "\n",
      "/Users/pavel/miniconda3/lib/python3.11/site-packages/eXNN/topology/metrics.py:128: RuntimeWarning:\n",
      "\n",
      "divide by zero encountered in scalar divide\n",
      "\n",
      "/Users/pavel/miniconda3/lib/python3.11/site-packages/eXNN/topology/metrics.py:128: RuntimeWarning:\n",
      "\n",
      "divide by zero encountered in scalar divide\n",
      "\n",
      "/Users/pavel/miniconda3/lib/python3.11/site-packages/eXNN/topology/metrics.py:128: RuntimeWarning:\n",
      "\n",
      "divide by zero encountered in scalar divide\n",
      "\n",
      "/Users/pavel/miniconda3/lib/python3.11/site-packages/eXNN/topology/metrics.py:128: RuntimeWarning:\n",
      "\n",
      "divide by zero encountered in scalar divide\n",
      "\n"
     ]
    },
    {
     "name": "stdout",
     "output_type": "stream",
     "text": [
      "Epoch 13/40, Train Loss: 0.0116, Test Loss: 0.0038, RMSE: 0.0614\n"
     ]
    },
    {
     "name": "stderr",
     "output_type": "stream",
     "text": [
      "/Users/pavel/miniconda3/lib/python3.11/site-packages/eXNN/topology/metrics.py:128: RuntimeWarning:\n",
      "\n",
      "divide by zero encountered in scalar divide\n",
      "\n",
      "/Users/pavel/miniconda3/lib/python3.11/site-packages/eXNN/topology/metrics.py:128: RuntimeWarning:\n",
      "\n",
      "divide by zero encountered in scalar divide\n",
      "\n",
      "/Users/pavel/miniconda3/lib/python3.11/site-packages/eXNN/topology/metrics.py:128: RuntimeWarning:\n",
      "\n",
      "divide by zero encountered in scalar divide\n",
      "\n",
      "/Users/pavel/miniconda3/lib/python3.11/site-packages/eXNN/topology/metrics.py:128: RuntimeWarning:\n",
      "\n",
      "divide by zero encountered in scalar divide\n",
      "\n",
      "/Users/pavel/miniconda3/lib/python3.11/site-packages/eXNN/topology/metrics.py:128: RuntimeWarning:\n",
      "\n",
      "divide by zero encountered in scalar divide\n",
      "\n",
      "/Users/pavel/miniconda3/lib/python3.11/site-packages/eXNN/topology/metrics.py:128: RuntimeWarning:\n",
      "\n",
      "divide by zero encountered in scalar divide\n",
      "\n"
     ]
    },
    {
     "name": "stdout",
     "output_type": "stream",
     "text": [
      "Epoch 14/40, Train Loss: 0.0106, Test Loss: 0.0023, RMSE: 0.0482\n"
     ]
    },
    {
     "name": "stderr",
     "output_type": "stream",
     "text": [
      "/Users/pavel/miniconda3/lib/python3.11/site-packages/eXNN/topology/metrics.py:128: RuntimeWarning:\n",
      "\n",
      "divide by zero encountered in scalar divide\n",
      "\n",
      "/Users/pavel/miniconda3/lib/python3.11/site-packages/eXNN/topology/metrics.py:128: RuntimeWarning:\n",
      "\n",
      "divide by zero encountered in scalar divide\n",
      "\n",
      "/Users/pavel/miniconda3/lib/python3.11/site-packages/eXNN/topology/metrics.py:128: RuntimeWarning:\n",
      "\n",
      "divide by zero encountered in scalar divide\n",
      "\n",
      "/Users/pavel/miniconda3/lib/python3.11/site-packages/eXNN/topology/metrics.py:128: RuntimeWarning:\n",
      "\n",
      "divide by zero encountered in scalar divide\n",
      "\n",
      "/Users/pavel/miniconda3/lib/python3.11/site-packages/eXNN/topology/metrics.py:128: RuntimeWarning:\n",
      "\n",
      "divide by zero encountered in scalar divide\n",
      "\n",
      "/Users/pavel/miniconda3/lib/python3.11/site-packages/eXNN/topology/metrics.py:128: RuntimeWarning:\n",
      "\n",
      "divide by zero encountered in scalar divide\n",
      "\n"
     ]
    },
    {
     "name": "stdout",
     "output_type": "stream",
     "text": [
      "Epoch 15/40, Train Loss: 0.0097, Test Loss: 0.0028, RMSE: 0.0527\n"
     ]
    },
    {
     "name": "stderr",
     "output_type": "stream",
     "text": [
      "/Users/pavel/miniconda3/lib/python3.11/site-packages/eXNN/topology/metrics.py:128: RuntimeWarning:\n",
      "\n",
      "divide by zero encountered in scalar divide\n",
      "\n",
      "/Users/pavel/miniconda3/lib/python3.11/site-packages/eXNN/topology/metrics.py:128: RuntimeWarning:\n",
      "\n",
      "divide by zero encountered in scalar divide\n",
      "\n",
      "/Users/pavel/miniconda3/lib/python3.11/site-packages/eXNN/topology/metrics.py:128: RuntimeWarning:\n",
      "\n",
      "divide by zero encountered in scalar divide\n",
      "\n",
      "/Users/pavel/miniconda3/lib/python3.11/site-packages/eXNN/topology/metrics.py:128: RuntimeWarning:\n",
      "\n",
      "divide by zero encountered in scalar divide\n",
      "\n",
      "/Users/pavel/miniconda3/lib/python3.11/site-packages/eXNN/topology/metrics.py:128: RuntimeWarning:\n",
      "\n",
      "divide by zero encountered in scalar divide\n",
      "\n",
      "/Users/pavel/miniconda3/lib/python3.11/site-packages/eXNN/topology/metrics.py:128: RuntimeWarning:\n",
      "\n",
      "divide by zero encountered in scalar divide\n",
      "\n"
     ]
    },
    {
     "name": "stdout",
     "output_type": "stream",
     "text": [
      "Epoch 16/40, Train Loss: 0.0092, Test Loss: 0.0028, RMSE: 0.0530\n"
     ]
    },
    {
     "name": "stderr",
     "output_type": "stream",
     "text": [
      "/Users/pavel/miniconda3/lib/python3.11/site-packages/eXNN/topology/metrics.py:128: RuntimeWarning:\n",
      "\n",
      "divide by zero encountered in scalar divide\n",
      "\n",
      "/Users/pavel/miniconda3/lib/python3.11/site-packages/eXNN/topology/metrics.py:128: RuntimeWarning:\n",
      "\n",
      "divide by zero encountered in scalar divide\n",
      "\n",
      "/Users/pavel/miniconda3/lib/python3.11/site-packages/eXNN/topology/metrics.py:128: RuntimeWarning:\n",
      "\n",
      "divide by zero encountered in scalar divide\n",
      "\n",
      "/Users/pavel/miniconda3/lib/python3.11/site-packages/eXNN/topology/metrics.py:128: RuntimeWarning:\n",
      "\n",
      "divide by zero encountered in scalar divide\n",
      "\n",
      "/Users/pavel/miniconda3/lib/python3.11/site-packages/eXNN/topology/metrics.py:128: RuntimeWarning:\n",
      "\n",
      "divide by zero encountered in scalar divide\n",
      "\n",
      "/Users/pavel/miniconda3/lib/python3.11/site-packages/eXNN/topology/metrics.py:128: RuntimeWarning:\n",
      "\n",
      "divide by zero encountered in scalar divide\n",
      "\n"
     ]
    },
    {
     "name": "stdout",
     "output_type": "stream",
     "text": [
      "Epoch 17/40, Train Loss: 0.0082, Test Loss: 0.0029, RMSE: 0.0542\n"
     ]
    },
    {
     "name": "stderr",
     "output_type": "stream",
     "text": [
      "/Users/pavel/miniconda3/lib/python3.11/site-packages/eXNN/topology/metrics.py:128: RuntimeWarning:\n",
      "\n",
      "divide by zero encountered in scalar divide\n",
      "\n",
      "/Users/pavel/miniconda3/lib/python3.11/site-packages/eXNN/topology/metrics.py:128: RuntimeWarning:\n",
      "\n",
      "divide by zero encountered in scalar divide\n",
      "\n",
      "/Users/pavel/miniconda3/lib/python3.11/site-packages/eXNN/topology/metrics.py:128: RuntimeWarning:\n",
      "\n",
      "divide by zero encountered in scalar divide\n",
      "\n",
      "/Users/pavel/miniconda3/lib/python3.11/site-packages/eXNN/topology/metrics.py:128: RuntimeWarning:\n",
      "\n",
      "divide by zero encountered in scalar divide\n",
      "\n",
      "/Users/pavel/miniconda3/lib/python3.11/site-packages/eXNN/topology/metrics.py:128: RuntimeWarning:\n",
      "\n",
      "divide by zero encountered in scalar divide\n",
      "\n",
      "/Users/pavel/miniconda3/lib/python3.11/site-packages/eXNN/topology/metrics.py:128: RuntimeWarning:\n",
      "\n",
      "divide by zero encountered in scalar divide\n",
      "\n"
     ]
    },
    {
     "name": "stdout",
     "output_type": "stream",
     "text": [
      "Epoch 18/40, Train Loss: 0.0076, Test Loss: 0.0037, RMSE: 0.0606\n"
     ]
    },
    {
     "name": "stderr",
     "output_type": "stream",
     "text": [
      "/Users/pavel/miniconda3/lib/python3.11/site-packages/eXNN/topology/metrics.py:128: RuntimeWarning:\n",
      "\n",
      "divide by zero encountered in scalar divide\n",
      "\n",
      "/Users/pavel/miniconda3/lib/python3.11/site-packages/eXNN/topology/metrics.py:128: RuntimeWarning:\n",
      "\n",
      "divide by zero encountered in scalar divide\n",
      "\n",
      "/Users/pavel/miniconda3/lib/python3.11/site-packages/eXNN/topology/metrics.py:128: RuntimeWarning:\n",
      "\n",
      "divide by zero encountered in scalar divide\n",
      "\n",
      "/Users/pavel/miniconda3/lib/python3.11/site-packages/eXNN/topology/metrics.py:128: RuntimeWarning:\n",
      "\n",
      "divide by zero encountered in scalar divide\n",
      "\n",
      "/Users/pavel/miniconda3/lib/python3.11/site-packages/eXNN/topology/metrics.py:128: RuntimeWarning:\n",
      "\n",
      "divide by zero encountered in scalar divide\n",
      "\n",
      "/Users/pavel/miniconda3/lib/python3.11/site-packages/eXNN/topology/metrics.py:128: RuntimeWarning:\n",
      "\n",
      "divide by zero encountered in scalar divide\n",
      "\n"
     ]
    },
    {
     "name": "stdout",
     "output_type": "stream",
     "text": [
      "Epoch 19/40, Train Loss: 0.0074, Test Loss: 0.0023, RMSE: 0.0481\n"
     ]
    },
    {
     "name": "stderr",
     "output_type": "stream",
     "text": [
      "/Users/pavel/miniconda3/lib/python3.11/site-packages/eXNN/topology/metrics.py:128: RuntimeWarning:\n",
      "\n",
      "divide by zero encountered in scalar divide\n",
      "\n",
      "/Users/pavel/miniconda3/lib/python3.11/site-packages/eXNN/topology/metrics.py:128: RuntimeWarning:\n",
      "\n",
      "divide by zero encountered in scalar divide\n",
      "\n",
      "/Users/pavel/miniconda3/lib/python3.11/site-packages/eXNN/topology/metrics.py:128: RuntimeWarning:\n",
      "\n",
      "divide by zero encountered in scalar divide\n",
      "\n",
      "/Users/pavel/miniconda3/lib/python3.11/site-packages/eXNN/topology/metrics.py:128: RuntimeWarning:\n",
      "\n",
      "divide by zero encountered in scalar divide\n",
      "\n",
      "/Users/pavel/miniconda3/lib/python3.11/site-packages/eXNN/topology/metrics.py:128: RuntimeWarning:\n",
      "\n",
      "divide by zero encountered in scalar divide\n",
      "\n",
      "/Users/pavel/miniconda3/lib/python3.11/site-packages/eXNN/topology/metrics.py:128: RuntimeWarning:\n",
      "\n",
      "divide by zero encountered in scalar divide\n",
      "\n"
     ]
    },
    {
     "name": "stdout",
     "output_type": "stream",
     "text": [
      "Epoch 20/40, Train Loss: 0.0068, Test Loss: 0.0028, RMSE: 0.0527\n"
     ]
    },
    {
     "name": "stderr",
     "output_type": "stream",
     "text": [
      "/Users/pavel/miniconda3/lib/python3.11/site-packages/eXNN/topology/metrics.py:128: RuntimeWarning:\n",
      "\n",
      "divide by zero encountered in scalar divide\n",
      "\n",
      "/Users/pavel/miniconda3/lib/python3.11/site-packages/eXNN/topology/metrics.py:128: RuntimeWarning:\n",
      "\n",
      "divide by zero encountered in scalar divide\n",
      "\n",
      "/Users/pavel/miniconda3/lib/python3.11/site-packages/eXNN/topology/metrics.py:128: RuntimeWarning:\n",
      "\n",
      "divide by zero encountered in scalar divide\n",
      "\n",
      "/Users/pavel/miniconda3/lib/python3.11/site-packages/eXNN/topology/metrics.py:128: RuntimeWarning:\n",
      "\n",
      "divide by zero encountered in scalar divide\n",
      "\n",
      "/Users/pavel/miniconda3/lib/python3.11/site-packages/eXNN/topology/metrics.py:128: RuntimeWarning:\n",
      "\n",
      "divide by zero encountered in scalar divide\n",
      "\n",
      "/Users/pavel/miniconda3/lib/python3.11/site-packages/eXNN/topology/metrics.py:128: RuntimeWarning:\n",
      "\n",
      "divide by zero encountered in scalar divide\n",
      "\n"
     ]
    },
    {
     "name": "stdout",
     "output_type": "stream",
     "text": [
      "Epoch 21/40, Train Loss: 0.0064, Test Loss: 0.0019, RMSE: 0.0431\n"
     ]
    },
    {
     "name": "stderr",
     "output_type": "stream",
     "text": [
      "/Users/pavel/miniconda3/lib/python3.11/site-packages/eXNN/topology/metrics.py:128: RuntimeWarning:\n",
      "\n",
      "divide by zero encountered in scalar divide\n",
      "\n",
      "/Users/pavel/miniconda3/lib/python3.11/site-packages/eXNN/topology/metrics.py:128: RuntimeWarning:\n",
      "\n",
      "divide by zero encountered in scalar divide\n",
      "\n",
      "/Users/pavel/miniconda3/lib/python3.11/site-packages/eXNN/topology/metrics.py:128: RuntimeWarning:\n",
      "\n",
      "divide by zero encountered in scalar divide\n",
      "\n",
      "/Users/pavel/miniconda3/lib/python3.11/site-packages/eXNN/topology/metrics.py:128: RuntimeWarning:\n",
      "\n",
      "divide by zero encountered in scalar divide\n",
      "\n",
      "/Users/pavel/miniconda3/lib/python3.11/site-packages/eXNN/topology/metrics.py:128: RuntimeWarning:\n",
      "\n",
      "divide by zero encountered in scalar divide\n",
      "\n",
      "/Users/pavel/miniconda3/lib/python3.11/site-packages/eXNN/topology/metrics.py:128: RuntimeWarning:\n",
      "\n",
      "divide by zero encountered in scalar divide\n",
      "\n"
     ]
    },
    {
     "name": "stdout",
     "output_type": "stream",
     "text": [
      "Epoch 22/40, Train Loss: 0.0057, Test Loss: 0.0024, RMSE: 0.0492\n"
     ]
    },
    {
     "name": "stderr",
     "output_type": "stream",
     "text": [
      "/Users/pavel/miniconda3/lib/python3.11/site-packages/eXNN/topology/metrics.py:128: RuntimeWarning:\n",
      "\n",
      "divide by zero encountered in scalar divide\n",
      "\n",
      "/Users/pavel/miniconda3/lib/python3.11/site-packages/eXNN/topology/metrics.py:128: RuntimeWarning:\n",
      "\n",
      "divide by zero encountered in scalar divide\n",
      "\n",
      "/Users/pavel/miniconda3/lib/python3.11/site-packages/eXNN/topology/metrics.py:128: RuntimeWarning:\n",
      "\n",
      "divide by zero encountered in scalar divide\n",
      "\n",
      "/Users/pavel/miniconda3/lib/python3.11/site-packages/eXNN/topology/metrics.py:128: RuntimeWarning:\n",
      "\n",
      "divide by zero encountered in scalar divide\n",
      "\n",
      "/Users/pavel/miniconda3/lib/python3.11/site-packages/eXNN/topology/metrics.py:128: RuntimeWarning:\n",
      "\n",
      "divide by zero encountered in scalar divide\n",
      "\n",
      "/Users/pavel/miniconda3/lib/python3.11/site-packages/eXNN/topology/metrics.py:128: RuntimeWarning:\n",
      "\n",
      "divide by zero encountered in scalar divide\n",
      "\n"
     ]
    },
    {
     "name": "stdout",
     "output_type": "stream",
     "text": [
      "Epoch 23/40, Train Loss: 0.0057, Test Loss: 0.0021, RMSE: 0.0460\n"
     ]
    },
    {
     "name": "stderr",
     "output_type": "stream",
     "text": [
      "/Users/pavel/miniconda3/lib/python3.11/site-packages/eXNN/topology/metrics.py:128: RuntimeWarning:\n",
      "\n",
      "divide by zero encountered in scalar divide\n",
      "\n",
      "/Users/pavel/miniconda3/lib/python3.11/site-packages/eXNN/topology/metrics.py:128: RuntimeWarning:\n",
      "\n",
      "divide by zero encountered in scalar divide\n",
      "\n",
      "/Users/pavel/miniconda3/lib/python3.11/site-packages/eXNN/topology/metrics.py:128: RuntimeWarning:\n",
      "\n",
      "divide by zero encountered in scalar divide\n",
      "\n",
      "/Users/pavel/miniconda3/lib/python3.11/site-packages/eXNN/topology/metrics.py:128: RuntimeWarning:\n",
      "\n",
      "divide by zero encountered in scalar divide\n",
      "\n",
      "/Users/pavel/miniconda3/lib/python3.11/site-packages/eXNN/topology/metrics.py:128: RuntimeWarning:\n",
      "\n",
      "divide by zero encountered in scalar divide\n",
      "\n",
      "/Users/pavel/miniconda3/lib/python3.11/site-packages/eXNN/topology/metrics.py:128: RuntimeWarning:\n",
      "\n",
      "divide by zero encountered in scalar divide\n",
      "\n"
     ]
    },
    {
     "name": "stdout",
     "output_type": "stream",
     "text": [
      "Epoch 24/40, Train Loss: 0.0058, Test Loss: 0.0015, RMSE: 0.0385\n"
     ]
    },
    {
     "name": "stderr",
     "output_type": "stream",
     "text": [
      "/Users/pavel/miniconda3/lib/python3.11/site-packages/eXNN/topology/metrics.py:128: RuntimeWarning:\n",
      "\n",
      "divide by zero encountered in scalar divide\n",
      "\n",
      "/Users/pavel/miniconda3/lib/python3.11/site-packages/eXNN/topology/metrics.py:128: RuntimeWarning:\n",
      "\n",
      "divide by zero encountered in scalar divide\n",
      "\n",
      "/Users/pavel/miniconda3/lib/python3.11/site-packages/eXNN/topology/metrics.py:128: RuntimeWarning:\n",
      "\n",
      "divide by zero encountered in scalar divide\n",
      "\n",
      "/Users/pavel/miniconda3/lib/python3.11/site-packages/eXNN/topology/metrics.py:128: RuntimeWarning:\n",
      "\n",
      "divide by zero encountered in scalar divide\n",
      "\n",
      "/Users/pavel/miniconda3/lib/python3.11/site-packages/eXNN/topology/metrics.py:128: RuntimeWarning:\n",
      "\n",
      "divide by zero encountered in scalar divide\n",
      "\n",
      "/Users/pavel/miniconda3/lib/python3.11/site-packages/eXNN/topology/metrics.py:128: RuntimeWarning:\n",
      "\n",
      "divide by zero encountered in scalar divide\n",
      "\n"
     ]
    },
    {
     "name": "stdout",
     "output_type": "stream",
     "text": [
      "Epoch 25/40, Train Loss: 0.0053, Test Loss: 0.0023, RMSE: 0.0473\n"
     ]
    },
    {
     "name": "stderr",
     "output_type": "stream",
     "text": [
      "/Users/pavel/miniconda3/lib/python3.11/site-packages/eXNN/topology/metrics.py:128: RuntimeWarning:\n",
      "\n",
      "divide by zero encountered in scalar divide\n",
      "\n",
      "/Users/pavel/miniconda3/lib/python3.11/site-packages/eXNN/topology/metrics.py:128: RuntimeWarning:\n",
      "\n",
      "divide by zero encountered in scalar divide\n",
      "\n",
      "/Users/pavel/miniconda3/lib/python3.11/site-packages/eXNN/topology/metrics.py:128: RuntimeWarning:\n",
      "\n",
      "divide by zero encountered in scalar divide\n",
      "\n",
      "/Users/pavel/miniconda3/lib/python3.11/site-packages/eXNN/topology/metrics.py:128: RuntimeWarning:\n",
      "\n",
      "divide by zero encountered in scalar divide\n",
      "\n",
      "/Users/pavel/miniconda3/lib/python3.11/site-packages/eXNN/topology/metrics.py:128: RuntimeWarning:\n",
      "\n",
      "divide by zero encountered in scalar divide\n",
      "\n",
      "/Users/pavel/miniconda3/lib/python3.11/site-packages/eXNN/topology/metrics.py:128: RuntimeWarning:\n",
      "\n",
      "divide by zero encountered in scalar divide\n",
      "\n"
     ]
    },
    {
     "name": "stdout",
     "output_type": "stream",
     "text": [
      "Epoch 26/40, Train Loss: 0.0053, Test Loss: 0.0015, RMSE: 0.0385\n"
     ]
    },
    {
     "name": "stderr",
     "output_type": "stream",
     "text": [
      "/Users/pavel/miniconda3/lib/python3.11/site-packages/eXNN/topology/metrics.py:128: RuntimeWarning:\n",
      "\n",
      "divide by zero encountered in scalar divide\n",
      "\n",
      "/Users/pavel/miniconda3/lib/python3.11/site-packages/eXNN/topology/metrics.py:128: RuntimeWarning:\n",
      "\n",
      "divide by zero encountered in scalar divide\n",
      "\n",
      "/Users/pavel/miniconda3/lib/python3.11/site-packages/eXNN/topology/metrics.py:128: RuntimeWarning:\n",
      "\n",
      "divide by zero encountered in scalar divide\n",
      "\n",
      "/Users/pavel/miniconda3/lib/python3.11/site-packages/eXNN/topology/metrics.py:128: RuntimeWarning:\n",
      "\n",
      "divide by zero encountered in scalar divide\n",
      "\n",
      "/Users/pavel/miniconda3/lib/python3.11/site-packages/eXNN/topology/metrics.py:128: RuntimeWarning:\n",
      "\n",
      "divide by zero encountered in scalar divide\n",
      "\n",
      "/Users/pavel/miniconda3/lib/python3.11/site-packages/eXNN/topology/metrics.py:128: RuntimeWarning:\n",
      "\n",
      "divide by zero encountered in scalar divide\n",
      "\n"
     ]
    },
    {
     "name": "stdout",
     "output_type": "stream",
     "text": [
      "Epoch 27/40, Train Loss: 0.0050, Test Loss: 0.0014, RMSE: 0.0377\n"
     ]
    },
    {
     "name": "stderr",
     "output_type": "stream",
     "text": [
      "/Users/pavel/miniconda3/lib/python3.11/site-packages/eXNN/topology/metrics.py:128: RuntimeWarning:\n",
      "\n",
      "divide by zero encountered in scalar divide\n",
      "\n",
      "/Users/pavel/miniconda3/lib/python3.11/site-packages/eXNN/topology/metrics.py:128: RuntimeWarning:\n",
      "\n",
      "divide by zero encountered in scalar divide\n",
      "\n",
      "/Users/pavel/miniconda3/lib/python3.11/site-packages/eXNN/topology/metrics.py:128: RuntimeWarning:\n",
      "\n",
      "divide by zero encountered in scalar divide\n",
      "\n",
      "/Users/pavel/miniconda3/lib/python3.11/site-packages/eXNN/topology/metrics.py:128: RuntimeWarning:\n",
      "\n",
      "divide by zero encountered in scalar divide\n",
      "\n",
      "/Users/pavel/miniconda3/lib/python3.11/site-packages/eXNN/topology/metrics.py:128: RuntimeWarning:\n",
      "\n",
      "divide by zero encountered in scalar divide\n",
      "\n",
      "/Users/pavel/miniconda3/lib/python3.11/site-packages/eXNN/topology/metrics.py:128: RuntimeWarning:\n",
      "\n",
      "divide by zero encountered in scalar divide\n",
      "\n"
     ]
    },
    {
     "name": "stdout",
     "output_type": "stream",
     "text": [
      "Epoch 28/40, Train Loss: 0.0044, Test Loss: 0.0018, RMSE: 0.0422\n"
     ]
    },
    {
     "name": "stderr",
     "output_type": "stream",
     "text": [
      "/Users/pavel/miniconda3/lib/python3.11/site-packages/eXNN/topology/metrics.py:128: RuntimeWarning:\n",
      "\n",
      "divide by zero encountered in scalar divide\n",
      "\n",
      "/Users/pavel/miniconda3/lib/python3.11/site-packages/eXNN/topology/metrics.py:128: RuntimeWarning:\n",
      "\n",
      "divide by zero encountered in scalar divide\n",
      "\n",
      "/Users/pavel/miniconda3/lib/python3.11/site-packages/eXNN/topology/metrics.py:128: RuntimeWarning:\n",
      "\n",
      "divide by zero encountered in scalar divide\n",
      "\n",
      "/Users/pavel/miniconda3/lib/python3.11/site-packages/eXNN/topology/metrics.py:128: RuntimeWarning:\n",
      "\n",
      "divide by zero encountered in scalar divide\n",
      "\n",
      "/Users/pavel/miniconda3/lib/python3.11/site-packages/eXNN/topology/metrics.py:128: RuntimeWarning:\n",
      "\n",
      "divide by zero encountered in scalar divide\n",
      "\n",
      "/Users/pavel/miniconda3/lib/python3.11/site-packages/eXNN/topology/metrics.py:128: RuntimeWarning:\n",
      "\n",
      "divide by zero encountered in scalar divide\n",
      "\n"
     ]
    },
    {
     "name": "stdout",
     "output_type": "stream",
     "text": [
      "Epoch 29/40, Train Loss: 0.0042, Test Loss: 0.0015, RMSE: 0.0386\n"
     ]
    },
    {
     "name": "stderr",
     "output_type": "stream",
     "text": [
      "/Users/pavel/miniconda3/lib/python3.11/site-packages/eXNN/topology/metrics.py:128: RuntimeWarning:\n",
      "\n",
      "divide by zero encountered in scalar divide\n",
      "\n",
      "/Users/pavel/miniconda3/lib/python3.11/site-packages/eXNN/topology/metrics.py:128: RuntimeWarning:\n",
      "\n",
      "divide by zero encountered in scalar divide\n",
      "\n",
      "/Users/pavel/miniconda3/lib/python3.11/site-packages/eXNN/topology/metrics.py:128: RuntimeWarning:\n",
      "\n",
      "divide by zero encountered in scalar divide\n",
      "\n",
      "/Users/pavel/miniconda3/lib/python3.11/site-packages/eXNN/topology/metrics.py:128: RuntimeWarning:\n",
      "\n",
      "divide by zero encountered in scalar divide\n",
      "\n",
      "/Users/pavel/miniconda3/lib/python3.11/site-packages/eXNN/topology/metrics.py:128: RuntimeWarning:\n",
      "\n",
      "divide by zero encountered in scalar divide\n",
      "\n",
      "/Users/pavel/miniconda3/lib/python3.11/site-packages/eXNN/topology/metrics.py:128: RuntimeWarning:\n",
      "\n",
      "divide by zero encountered in scalar divide\n",
      "\n"
     ]
    },
    {
     "name": "stdout",
     "output_type": "stream",
     "text": [
      "Epoch 30/40, Train Loss: 0.0043, Test Loss: 0.0020, RMSE: 0.0445\n"
     ]
    },
    {
     "name": "stderr",
     "output_type": "stream",
     "text": [
      "/Users/pavel/miniconda3/lib/python3.11/site-packages/eXNN/topology/metrics.py:128: RuntimeWarning:\n",
      "\n",
      "divide by zero encountered in scalar divide\n",
      "\n",
      "/Users/pavel/miniconda3/lib/python3.11/site-packages/eXNN/topology/metrics.py:128: RuntimeWarning:\n",
      "\n",
      "divide by zero encountered in scalar divide\n",
      "\n",
      "/Users/pavel/miniconda3/lib/python3.11/site-packages/eXNN/topology/metrics.py:128: RuntimeWarning:\n",
      "\n",
      "divide by zero encountered in scalar divide\n",
      "\n",
      "/Users/pavel/miniconda3/lib/python3.11/site-packages/eXNN/topology/metrics.py:128: RuntimeWarning:\n",
      "\n",
      "divide by zero encountered in scalar divide\n",
      "\n",
      "/Users/pavel/miniconda3/lib/python3.11/site-packages/eXNN/topology/metrics.py:128: RuntimeWarning:\n",
      "\n",
      "divide by zero encountered in scalar divide\n",
      "\n",
      "/Users/pavel/miniconda3/lib/python3.11/site-packages/eXNN/topology/metrics.py:128: RuntimeWarning:\n",
      "\n",
      "divide by zero encountered in scalar divide\n",
      "\n"
     ]
    },
    {
     "name": "stdout",
     "output_type": "stream",
     "text": [
      "Epoch 31/40, Train Loss: 0.0041, Test Loss: 0.0026, RMSE: 0.0507\n"
     ]
    },
    {
     "name": "stderr",
     "output_type": "stream",
     "text": [
      "/Users/pavel/miniconda3/lib/python3.11/site-packages/eXNN/topology/metrics.py:128: RuntimeWarning:\n",
      "\n",
      "divide by zero encountered in scalar divide\n",
      "\n",
      "/Users/pavel/miniconda3/lib/python3.11/site-packages/eXNN/topology/metrics.py:128: RuntimeWarning:\n",
      "\n",
      "divide by zero encountered in scalar divide\n",
      "\n",
      "/Users/pavel/miniconda3/lib/python3.11/site-packages/eXNN/topology/metrics.py:128: RuntimeWarning:\n",
      "\n",
      "divide by zero encountered in scalar divide\n",
      "\n",
      "/Users/pavel/miniconda3/lib/python3.11/site-packages/eXNN/topology/metrics.py:128: RuntimeWarning:\n",
      "\n",
      "divide by zero encountered in scalar divide\n",
      "\n",
      "/Users/pavel/miniconda3/lib/python3.11/site-packages/eXNN/topology/metrics.py:128: RuntimeWarning:\n",
      "\n",
      "divide by zero encountered in scalar divide\n",
      "\n",
      "/Users/pavel/miniconda3/lib/python3.11/site-packages/eXNN/topology/metrics.py:128: RuntimeWarning:\n",
      "\n",
      "divide by zero encountered in scalar divide\n",
      "\n"
     ]
    },
    {
     "name": "stdout",
     "output_type": "stream",
     "text": [
      "Epoch 32/40, Train Loss: 0.0038, Test Loss: 0.0024, RMSE: 0.0488\n"
     ]
    },
    {
     "name": "stderr",
     "output_type": "stream",
     "text": [
      "/Users/pavel/miniconda3/lib/python3.11/site-packages/eXNN/topology/metrics.py:128: RuntimeWarning:\n",
      "\n",
      "divide by zero encountered in scalar divide\n",
      "\n",
      "/Users/pavel/miniconda3/lib/python3.11/site-packages/eXNN/topology/metrics.py:128: RuntimeWarning:\n",
      "\n",
      "divide by zero encountered in scalar divide\n",
      "\n",
      "/Users/pavel/miniconda3/lib/python3.11/site-packages/eXNN/topology/metrics.py:128: RuntimeWarning:\n",
      "\n",
      "divide by zero encountered in scalar divide\n",
      "\n",
      "/Users/pavel/miniconda3/lib/python3.11/site-packages/eXNN/topology/metrics.py:128: RuntimeWarning:\n",
      "\n",
      "divide by zero encountered in scalar divide\n",
      "\n",
      "/Users/pavel/miniconda3/lib/python3.11/site-packages/eXNN/topology/metrics.py:128: RuntimeWarning:\n",
      "\n",
      "divide by zero encountered in scalar divide\n",
      "\n",
      "/Users/pavel/miniconda3/lib/python3.11/site-packages/eXNN/topology/metrics.py:128: RuntimeWarning:\n",
      "\n",
      "divide by zero encountered in scalar divide\n",
      "\n"
     ]
    },
    {
     "name": "stdout",
     "output_type": "stream",
     "text": [
      "Epoch 33/40, Train Loss: 0.0038, Test Loss: 0.0025, RMSE: 0.0504\n"
     ]
    },
    {
     "name": "stderr",
     "output_type": "stream",
     "text": [
      "/Users/pavel/miniconda3/lib/python3.11/site-packages/eXNN/topology/metrics.py:128: RuntimeWarning:\n",
      "\n",
      "divide by zero encountered in scalar divide\n",
      "\n",
      "/Users/pavel/miniconda3/lib/python3.11/site-packages/eXNN/topology/metrics.py:128: RuntimeWarning:\n",
      "\n",
      "divide by zero encountered in scalar divide\n",
      "\n",
      "/Users/pavel/miniconda3/lib/python3.11/site-packages/eXNN/topology/metrics.py:128: RuntimeWarning:\n",
      "\n",
      "divide by zero encountered in scalar divide\n",
      "\n",
      "/Users/pavel/miniconda3/lib/python3.11/site-packages/eXNN/topology/metrics.py:128: RuntimeWarning:\n",
      "\n",
      "divide by zero encountered in scalar divide\n",
      "\n",
      "/Users/pavel/miniconda3/lib/python3.11/site-packages/eXNN/topology/metrics.py:128: RuntimeWarning:\n",
      "\n",
      "divide by zero encountered in scalar divide\n",
      "\n",
      "/Users/pavel/miniconda3/lib/python3.11/site-packages/eXNN/topology/metrics.py:128: RuntimeWarning:\n",
      "\n",
      "divide by zero encountered in scalar divide\n",
      "\n"
     ]
    },
    {
     "name": "stdout",
     "output_type": "stream",
     "text": [
      "Epoch 34/40, Train Loss: 0.0036, Test Loss: 0.0016, RMSE: 0.0401\n"
     ]
    },
    {
     "name": "stderr",
     "output_type": "stream",
     "text": [
      "/Users/pavel/miniconda3/lib/python3.11/site-packages/eXNN/topology/metrics.py:128: RuntimeWarning:\n",
      "\n",
      "divide by zero encountered in scalar divide\n",
      "\n",
      "/Users/pavel/miniconda3/lib/python3.11/site-packages/eXNN/topology/metrics.py:128: RuntimeWarning:\n",
      "\n",
      "divide by zero encountered in scalar divide\n",
      "\n",
      "/Users/pavel/miniconda3/lib/python3.11/site-packages/eXNN/topology/metrics.py:128: RuntimeWarning:\n",
      "\n",
      "divide by zero encountered in scalar divide\n",
      "\n",
      "/Users/pavel/miniconda3/lib/python3.11/site-packages/eXNN/topology/metrics.py:128: RuntimeWarning:\n",
      "\n",
      "divide by zero encountered in scalar divide\n",
      "\n",
      "/Users/pavel/miniconda3/lib/python3.11/site-packages/eXNN/topology/metrics.py:128: RuntimeWarning:\n",
      "\n",
      "divide by zero encountered in scalar divide\n",
      "\n",
      "/Users/pavel/miniconda3/lib/python3.11/site-packages/eXNN/topology/metrics.py:128: RuntimeWarning:\n",
      "\n",
      "divide by zero encountered in scalar divide\n",
      "\n"
     ]
    },
    {
     "name": "stdout",
     "output_type": "stream",
     "text": [
      "Epoch 35/40, Train Loss: 0.0037, Test Loss: 0.0021, RMSE: 0.0463\n"
     ]
    },
    {
     "name": "stderr",
     "output_type": "stream",
     "text": [
      "/Users/pavel/miniconda3/lib/python3.11/site-packages/eXNN/topology/metrics.py:128: RuntimeWarning:\n",
      "\n",
      "divide by zero encountered in scalar divide\n",
      "\n",
      "/Users/pavel/miniconda3/lib/python3.11/site-packages/eXNN/topology/metrics.py:128: RuntimeWarning:\n",
      "\n",
      "divide by zero encountered in scalar divide\n",
      "\n",
      "/Users/pavel/miniconda3/lib/python3.11/site-packages/eXNN/topology/metrics.py:128: RuntimeWarning:\n",
      "\n",
      "divide by zero encountered in scalar divide\n",
      "\n",
      "/Users/pavel/miniconda3/lib/python3.11/site-packages/eXNN/topology/metrics.py:128: RuntimeWarning:\n",
      "\n",
      "divide by zero encountered in scalar divide\n",
      "\n",
      "/Users/pavel/miniconda3/lib/python3.11/site-packages/eXNN/topology/metrics.py:128: RuntimeWarning:\n",
      "\n",
      "divide by zero encountered in scalar divide\n",
      "\n",
      "/Users/pavel/miniconda3/lib/python3.11/site-packages/eXNN/topology/metrics.py:128: RuntimeWarning:\n",
      "\n",
      "divide by zero encountered in scalar divide\n",
      "\n"
     ]
    },
    {
     "name": "stdout",
     "output_type": "stream",
     "text": [
      "Epoch 36/40, Train Loss: 0.0032, Test Loss: 0.0013, RMSE: 0.0367\n"
     ]
    },
    {
     "name": "stderr",
     "output_type": "stream",
     "text": [
      "/Users/pavel/miniconda3/lib/python3.11/site-packages/eXNN/topology/metrics.py:128: RuntimeWarning:\n",
      "\n",
      "divide by zero encountered in scalar divide\n",
      "\n",
      "/Users/pavel/miniconda3/lib/python3.11/site-packages/eXNN/topology/metrics.py:128: RuntimeWarning:\n",
      "\n",
      "divide by zero encountered in scalar divide\n",
      "\n",
      "/Users/pavel/miniconda3/lib/python3.11/site-packages/eXNN/topology/metrics.py:128: RuntimeWarning:\n",
      "\n",
      "divide by zero encountered in scalar divide\n",
      "\n",
      "/Users/pavel/miniconda3/lib/python3.11/site-packages/eXNN/topology/metrics.py:128: RuntimeWarning:\n",
      "\n",
      "divide by zero encountered in scalar divide\n",
      "\n",
      "/Users/pavel/miniconda3/lib/python3.11/site-packages/eXNN/topology/metrics.py:128: RuntimeWarning:\n",
      "\n",
      "divide by zero encountered in scalar divide\n",
      "\n",
      "/Users/pavel/miniconda3/lib/python3.11/site-packages/eXNN/topology/metrics.py:128: RuntimeWarning:\n",
      "\n",
      "divide by zero encountered in scalar divide\n",
      "\n"
     ]
    },
    {
     "name": "stdout",
     "output_type": "stream",
     "text": [
      "Epoch 37/40, Train Loss: 0.0031, Test Loss: 0.0024, RMSE: 0.0485\n"
     ]
    },
    {
     "name": "stderr",
     "output_type": "stream",
     "text": [
      "/Users/pavel/miniconda3/lib/python3.11/site-packages/eXNN/topology/metrics.py:128: RuntimeWarning:\n",
      "\n",
      "divide by zero encountered in scalar divide\n",
      "\n",
      "/Users/pavel/miniconda3/lib/python3.11/site-packages/eXNN/topology/metrics.py:128: RuntimeWarning:\n",
      "\n",
      "divide by zero encountered in scalar divide\n",
      "\n",
      "/Users/pavel/miniconda3/lib/python3.11/site-packages/eXNN/topology/metrics.py:128: RuntimeWarning:\n",
      "\n",
      "divide by zero encountered in scalar divide\n",
      "\n",
      "/Users/pavel/miniconda3/lib/python3.11/site-packages/eXNN/topology/metrics.py:128: RuntimeWarning:\n",
      "\n",
      "divide by zero encountered in scalar divide\n",
      "\n",
      "/Users/pavel/miniconda3/lib/python3.11/site-packages/eXNN/topology/metrics.py:128: RuntimeWarning:\n",
      "\n",
      "divide by zero encountered in scalar divide\n",
      "\n",
      "/Users/pavel/miniconda3/lib/python3.11/site-packages/eXNN/topology/metrics.py:128: RuntimeWarning:\n",
      "\n",
      "divide by zero encountered in scalar divide\n",
      "\n"
     ]
    },
    {
     "name": "stdout",
     "output_type": "stream",
     "text": [
      "Epoch 38/40, Train Loss: 0.0030, Test Loss: 0.0018, RMSE: 0.0425\n"
     ]
    },
    {
     "name": "stderr",
     "output_type": "stream",
     "text": [
      "/Users/pavel/miniconda3/lib/python3.11/site-packages/eXNN/topology/metrics.py:128: RuntimeWarning:\n",
      "\n",
      "divide by zero encountered in scalar divide\n",
      "\n",
      "/Users/pavel/miniconda3/lib/python3.11/site-packages/eXNN/topology/metrics.py:128: RuntimeWarning:\n",
      "\n",
      "divide by zero encountered in scalar divide\n",
      "\n",
      "/Users/pavel/miniconda3/lib/python3.11/site-packages/eXNN/topology/metrics.py:128: RuntimeWarning:\n",
      "\n",
      "divide by zero encountered in scalar divide\n",
      "\n",
      "/Users/pavel/miniconda3/lib/python3.11/site-packages/eXNN/topology/metrics.py:128: RuntimeWarning:\n",
      "\n",
      "divide by zero encountered in scalar divide\n",
      "\n",
      "/Users/pavel/miniconda3/lib/python3.11/site-packages/eXNN/topology/metrics.py:128: RuntimeWarning:\n",
      "\n",
      "divide by zero encountered in scalar divide\n",
      "\n",
      "/Users/pavel/miniconda3/lib/python3.11/site-packages/eXNN/topology/metrics.py:128: RuntimeWarning:\n",
      "\n",
      "divide by zero encountered in scalar divide\n",
      "\n"
     ]
    },
    {
     "name": "stdout",
     "output_type": "stream",
     "text": [
      "Epoch 39/40, Train Loss: 0.0029, Test Loss: 0.0031, RMSE: 0.0553\n"
     ]
    },
    {
     "name": "stderr",
     "output_type": "stream",
     "text": [
      "/Users/pavel/miniconda3/lib/python3.11/site-packages/eXNN/topology/metrics.py:128: RuntimeWarning:\n",
      "\n",
      "divide by zero encountered in scalar divide\n",
      "\n",
      "/Users/pavel/miniconda3/lib/python3.11/site-packages/eXNN/topology/metrics.py:128: RuntimeWarning:\n",
      "\n",
      "divide by zero encountered in scalar divide\n",
      "\n",
      "/Users/pavel/miniconda3/lib/python3.11/site-packages/eXNN/topology/metrics.py:128: RuntimeWarning:\n",
      "\n",
      "divide by zero encountered in scalar divide\n",
      "\n",
      "/Users/pavel/miniconda3/lib/python3.11/site-packages/eXNN/topology/metrics.py:128: RuntimeWarning:\n",
      "\n",
      "divide by zero encountered in scalar divide\n",
      "\n",
      "/Users/pavel/miniconda3/lib/python3.11/site-packages/eXNN/topology/metrics.py:128: RuntimeWarning:\n",
      "\n",
      "divide by zero encountered in scalar divide\n",
      "\n",
      "/Users/pavel/miniconda3/lib/python3.11/site-packages/eXNN/topology/metrics.py:128: RuntimeWarning:\n",
      "\n",
      "divide by zero encountered in scalar divide\n",
      "\n"
     ]
    },
    {
     "name": "stdout",
     "output_type": "stream",
     "text": [
      "Epoch 40/40, Train Loss: 0.0031, Test Loss: 0.0032, RMSE: 0.0571\n"
     ]
    },
    {
     "data": {
      "image/png": "[encoded data removed]",
      "text/plain": [
       "<Figure size 1000x500 with 1 Axes>"
      ]
     },
     "metadata": {},
     "output_type": "display_data"
    },
    {
     "name": "stderr",
     "output_type": "stream",
     "text": [
      "/Users/pavel/miniconda3/lib/python3.11/site-packages/eXNN/topology/metrics.py:128: RuntimeWarning:\n",
      "\n",
      "divide by zero encountered in scalar divide\n",
      "\n",
      "/Users/pavel/miniconda3/lib/python3.11/site-packages/eXNN/topology/metrics.py:128: RuntimeWarning:\n",
      "\n",
      "divide by zero encountered in scalar divide\n",
      "\n",
      "/Users/pavel/miniconda3/lib/python3.11/site-packages/eXNN/topology/metrics.py:128: RuntimeWarning:\n",
      "\n",
      "divide by zero encountered in scalar divide\n",
      "\n",
      "/Users/pavel/miniconda3/lib/python3.11/site-packages/eXNN/topology/metrics.py:128: RuntimeWarning:\n",
      "\n",
      "divide by zero encountered in scalar divide\n",
      "\n",
      "/Users/pavel/miniconda3/lib/python3.11/site-packages/eXNN/topology/metrics.py:128: RuntimeWarning:\n",
      "\n",
      "divide by zero encountered in scalar divide\n",
      "\n",
      "/Users/pavel/miniconda3/lib/python3.11/site-packages/eXNN/topology/metrics.py:128: RuntimeWarning:\n",
      "\n",
      "divide by zero encountered in scalar divide\n",
      "\n"
     ]
    },
    {
     "name": "stdout",
     "output_type": "stream",
     "text": [
      "Epoch 1/40, Train Loss: 0.1164, Test Loss: 0.0229, RMSE: 0.1524\n"
     ]
    },
    {
     "name": "stderr",
     "output_type": "stream",
     "text": [
      "/Users/pavel/miniconda3/lib/python3.11/site-packages/eXNN/topology/metrics.py:128: RuntimeWarning:\n",
      "\n",
      "divide by zero encountered in scalar divide\n",
      "\n",
      "/Users/pavel/miniconda3/lib/python3.11/site-packages/eXNN/topology/metrics.py:128: RuntimeWarning:\n",
      "\n",
      "divide by zero encountered in scalar divide\n",
      "\n",
      "/Users/pavel/miniconda3/lib/python3.11/site-packages/eXNN/topology/metrics.py:128: RuntimeWarning:\n",
      "\n",
      "divide by zero encountered in scalar divide\n",
      "\n",
      "/Users/pavel/miniconda3/lib/python3.11/site-packages/eXNN/topology/metrics.py:128: RuntimeWarning:\n",
      "\n",
      "divide by zero encountered in scalar divide\n",
      "\n",
      "/Users/pavel/miniconda3/lib/python3.11/site-packages/eXNN/topology/metrics.py:128: RuntimeWarning:\n",
      "\n",
      "divide by zero encountered in scalar divide\n",
      "\n",
      "/Users/pavel/miniconda3/lib/python3.11/site-packages/eXNN/topology/metrics.py:128: RuntimeWarning:\n",
      "\n",
      "divide by zero encountered in scalar divide\n",
      "\n"
     ]
    },
    {
     "name": "stdout",
     "output_type": "stream",
     "text": [
      "Epoch 2/40, Train Loss: 0.0758, Test Loss: 0.0158, RMSE: 0.1271\n"
     ]
    },
    {
     "name": "stderr",
     "output_type": "stream",
     "text": [
      "/Users/pavel/miniconda3/lib/python3.11/site-packages/eXNN/topology/metrics.py:128: RuntimeWarning:\n",
      "\n",
      "divide by zero encountered in scalar divide\n",
      "\n",
      "/Users/pavel/miniconda3/lib/python3.11/site-packages/eXNN/topology/metrics.py:128: RuntimeWarning:\n",
      "\n",
      "divide by zero encountered in scalar divide\n",
      "\n",
      "/Users/pavel/miniconda3/lib/python3.11/site-packages/eXNN/topology/metrics.py:128: RuntimeWarning:\n",
      "\n",
      "divide by zero encountered in scalar divide\n",
      "\n",
      "/Users/pavel/miniconda3/lib/python3.11/site-packages/eXNN/topology/metrics.py:128: RuntimeWarning:\n",
      "\n",
      "divide by zero encountered in scalar divide\n",
      "\n",
      "/Users/pavel/miniconda3/lib/python3.11/site-packages/eXNN/topology/metrics.py:128: RuntimeWarning:\n",
      "\n",
      "divide by zero encountered in scalar divide\n",
      "\n",
      "/Users/pavel/miniconda3/lib/python3.11/site-packages/eXNN/topology/metrics.py:128: RuntimeWarning:\n",
      "\n",
      "divide by zero encountered in scalar divide\n",
      "\n"
     ]
    },
    {
     "name": "stdout",
     "output_type": "stream",
     "text": [
      "Epoch 3/40, Train Loss: 0.0571, Test Loss: 0.0123, RMSE: 0.1124\n"
     ]
    },
    {
     "name": "stderr",
     "output_type": "stream",
     "text": [
      "/Users/pavel/miniconda3/lib/python3.11/site-packages/eXNN/topology/metrics.py:128: RuntimeWarning:\n",
      "\n",
      "divide by zero encountered in scalar divide\n",
      "\n",
      "/Users/pavel/miniconda3/lib/python3.11/site-packages/eXNN/topology/metrics.py:128: RuntimeWarning:\n",
      "\n",
      "divide by zero encountered in scalar divide\n",
      "\n",
      "/Users/pavel/miniconda3/lib/python3.11/site-packages/eXNN/topology/metrics.py:128: RuntimeWarning:\n",
      "\n",
      "divide by zero encountered in scalar divide\n",
      "\n",
      "/Users/pavel/miniconda3/lib/python3.11/site-packages/eXNN/topology/metrics.py:128: RuntimeWarning:\n",
      "\n",
      "divide by zero encountered in scalar divide\n",
      "\n",
      "/Users/pavel/miniconda3/lib/python3.11/site-packages/eXNN/topology/metrics.py:128: RuntimeWarning:\n",
      "\n",
      "divide by zero encountered in scalar divide\n",
      "\n",
      "/Users/pavel/miniconda3/lib/python3.11/site-packages/eXNN/topology/metrics.py:128: RuntimeWarning:\n",
      "\n",
      "divide by zero encountered in scalar divide\n",
      "\n"
     ]
    },
    {
     "name": "stdout",
     "output_type": "stream",
     "text": [
      "Epoch 4/40, Train Loss: 0.0468, Test Loss: 0.0104, RMSE: 0.1033\n"
     ]
    },
    {
     "name": "stderr",
     "output_type": "stream",
     "text": [
      "/Users/pavel/miniconda3/lib/python3.11/site-packages/eXNN/topology/metrics.py:128: RuntimeWarning:\n",
      "\n",
      "divide by zero encountered in scalar divide\n",
      "\n",
      "/Users/pavel/miniconda3/lib/python3.11/site-packages/eXNN/topology/metrics.py:128: RuntimeWarning:\n",
      "\n",
      "divide by zero encountered in scalar divide\n",
      "\n",
      "/Users/pavel/miniconda3/lib/python3.11/site-packages/eXNN/topology/metrics.py:128: RuntimeWarning:\n",
      "\n",
      "divide by zero encountered in scalar divide\n",
      "\n",
      "/Users/pavel/miniconda3/lib/python3.11/site-packages/eXNN/topology/metrics.py:128: RuntimeWarning:\n",
      "\n",
      "divide by zero encountered in scalar divide\n",
      "\n",
      "/Users/pavel/miniconda3/lib/python3.11/site-packages/eXNN/topology/metrics.py:128: RuntimeWarning:\n",
      "\n",
      "divide by zero encountered in scalar divide\n",
      "\n",
      "/Users/pavel/miniconda3/lib/python3.11/site-packages/eXNN/topology/metrics.py:128: RuntimeWarning:\n",
      "\n",
      "divide by zero encountered in scalar divide\n",
      "\n"
     ]
    },
    {
     "name": "stdout",
     "output_type": "stream",
     "text": [
      "Epoch 5/40, Train Loss: 0.0369, Test Loss: 0.0083, RMSE: 0.0920\n"
     ]
    },
    {
     "name": "stderr",
     "output_type": "stream",
     "text": [
      "/Users/pavel/miniconda3/lib/python3.11/site-packages/eXNN/topology/metrics.py:128: RuntimeWarning:\n",
      "\n",
      "divide by zero encountered in scalar divide\n",
      "\n",
      "/Users/pavel/miniconda3/lib/python3.11/site-packages/eXNN/topology/metrics.py:128: RuntimeWarning:\n",
      "\n",
      "divide by zero encountered in scalar divide\n",
      "\n",
      "/Users/pavel/miniconda3/lib/python3.11/site-packages/eXNN/topology/metrics.py:128: RuntimeWarning:\n",
      "\n",
      "divide by zero encountered in scalar divide\n",
      "\n",
      "/Users/pavel/miniconda3/lib/python3.11/site-packages/eXNN/topology/metrics.py:128: RuntimeWarning:\n",
      "\n",
      "divide by zero encountered in scalar divide\n",
      "\n",
      "/Users/pavel/miniconda3/lib/python3.11/site-packages/eXNN/topology/metrics.py:128: RuntimeWarning:\n",
      "\n",
      "divide by zero encountered in scalar divide\n",
      "\n",
      "/Users/pavel/miniconda3/lib/python3.11/site-packages/eXNN/topology/metrics.py:128: RuntimeWarning:\n",
      "\n",
      "divide by zero encountered in scalar divide\n",
      "\n"
     ]
    },
    {
     "name": "stdout",
     "output_type": "stream",
     "text": [
      "Epoch 6/40, Train Loss: 0.0297, Test Loss: 0.0065, RMSE: 0.0816\n"
     ]
    },
    {
     "name": "stderr",
     "output_type": "stream",
     "text": [
      "/Users/pavel/miniconda3/lib/python3.11/site-packages/eXNN/topology/metrics.py:128: RuntimeWarning:\n",
      "\n",
      "divide by zero encountered in scalar divide\n",
      "\n",
      "/Users/pavel/miniconda3/lib/python3.11/site-packages/eXNN/topology/metrics.py:128: RuntimeWarning:\n",
      "\n",
      "divide by zero encountered in scalar divide\n",
      "\n",
      "/Users/pavel/miniconda3/lib/python3.11/site-packages/eXNN/topology/metrics.py:128: RuntimeWarning:\n",
      "\n",
      "divide by zero encountered in scalar divide\n",
      "\n",
      "/Users/pavel/miniconda3/lib/python3.11/site-packages/eXNN/topology/metrics.py:128: RuntimeWarning:\n",
      "\n",
      "divide by zero encountered in scalar divide\n",
      "\n",
      "/Users/pavel/miniconda3/lib/python3.11/site-packages/eXNN/topology/metrics.py:128: RuntimeWarning:\n",
      "\n",
      "divide by zero encountered in scalar divide\n",
      "\n",
      "/Users/pavel/miniconda3/lib/python3.11/site-packages/eXNN/topology/metrics.py:128: RuntimeWarning:\n",
      "\n",
      "divide by zero encountered in scalar divide\n",
      "\n"
     ]
    },
    {
     "name": "stdout",
     "output_type": "stream",
     "text": [
      "Epoch 7/40, Train Loss: 0.0241, Test Loss: 0.0063, RMSE: 0.0808\n"
     ]
    },
    {
     "name": "stderr",
     "output_type": "stream",
     "text": [
      "/Users/pavel/miniconda3/lib/python3.11/site-packages/eXNN/topology/metrics.py:128: RuntimeWarning:\n",
      "\n",
      "divide by zero encountered in scalar divide\n",
      "\n",
      "/Users/pavel/miniconda3/lib/python3.11/site-packages/eXNN/topology/metrics.py:128: RuntimeWarning:\n",
      "\n",
      "divide by zero encountered in scalar divide\n",
      "\n",
      "/Users/pavel/miniconda3/lib/python3.11/site-packages/eXNN/topology/metrics.py:128: RuntimeWarning:\n",
      "\n",
      "divide by zero encountered in scalar divide\n",
      "\n",
      "/Users/pavel/miniconda3/lib/python3.11/site-packages/eXNN/topology/metrics.py:128: RuntimeWarning:\n",
      "\n",
      "divide by zero encountered in scalar divide\n",
      "\n",
      "/Users/pavel/miniconda3/lib/python3.11/site-packages/eXNN/topology/metrics.py:128: RuntimeWarning:\n",
      "\n",
      "divide by zero encountered in scalar divide\n",
      "\n",
      "/Users/pavel/miniconda3/lib/python3.11/site-packages/eXNN/topology/metrics.py:128: RuntimeWarning:\n",
      "\n",
      "divide by zero encountered in scalar divide\n",
      "\n"
     ]
    },
    {
     "name": "stdout",
     "output_type": "stream",
     "text": [
      "Epoch 8/40, Train Loss: 0.0187, Test Loss: 0.0052, RMSE: 0.0733\n"
     ]
    },
    {
     "name": "stderr",
     "output_type": "stream",
     "text": [
      "/Users/pavel/miniconda3/lib/python3.11/site-packages/eXNN/topology/metrics.py:128: RuntimeWarning:\n",
      "\n",
      "divide by zero encountered in scalar divide\n",
      "\n",
      "/Users/pavel/miniconda3/lib/python3.11/site-packages/eXNN/topology/metrics.py:128: RuntimeWarning:\n",
      "\n",
      "divide by zero encountered in scalar divide\n",
      "\n",
      "/Users/pavel/miniconda3/lib/python3.11/site-packages/eXNN/topology/metrics.py:128: RuntimeWarning:\n",
      "\n",
      "divide by zero encountered in scalar divide\n",
      "\n",
      "/Users/pavel/miniconda3/lib/python3.11/site-packages/eXNN/topology/metrics.py:128: RuntimeWarning:\n",
      "\n",
      "divide by zero encountered in scalar divide\n",
      "\n",
      "/Users/pavel/miniconda3/lib/python3.11/site-packages/eXNN/topology/metrics.py:128: RuntimeWarning:\n",
      "\n",
      "divide by zero encountered in scalar divide\n",
      "\n",
      "/Users/pavel/miniconda3/lib/python3.11/site-packages/eXNN/topology/metrics.py:128: RuntimeWarning:\n",
      "\n",
      "divide by zero encountered in scalar divide\n",
      "\n"
     ]
    },
    {
     "name": "stdout",
     "output_type": "stream",
     "text": [
      "Epoch 9/40, Train Loss: 0.0150, Test Loss: 0.0042, RMSE: 0.0656\n"
     ]
    },
    {
     "name": "stderr",
     "output_type": "stream",
     "text": [
      "/Users/pavel/miniconda3/lib/python3.11/site-packages/eXNN/topology/metrics.py:128: RuntimeWarning:\n",
      "\n",
      "divide by zero encountered in scalar divide\n",
      "\n",
      "/Users/pavel/miniconda3/lib/python3.11/site-packages/eXNN/topology/metrics.py:128: RuntimeWarning:\n",
      "\n",
      "divide by zero encountered in scalar divide\n",
      "\n",
      "/Users/pavel/miniconda3/lib/python3.11/site-packages/eXNN/topology/metrics.py:128: RuntimeWarning:\n",
      "\n",
      "divide by zero encountered in scalar divide\n",
      "\n",
      "/Users/pavel/miniconda3/lib/python3.11/site-packages/eXNN/topology/metrics.py:128: RuntimeWarning:\n",
      "\n",
      "divide by zero encountered in scalar divide\n",
      "\n",
      "/Users/pavel/miniconda3/lib/python3.11/site-packages/eXNN/topology/metrics.py:128: RuntimeWarning:\n",
      "\n",
      "divide by zero encountered in scalar divide\n",
      "\n",
      "/Users/pavel/miniconda3/lib/python3.11/site-packages/eXNN/topology/metrics.py:128: RuntimeWarning:\n",
      "\n",
      "divide by zero encountered in scalar divide\n",
      "\n"
     ]
    },
    {
     "name": "stdout",
     "output_type": "stream",
     "text": [
      "Epoch 10/40, Train Loss: 0.0122, Test Loss: 0.0044, RMSE: 0.0676\n"
     ]
    },
    {
     "name": "stderr",
     "output_type": "stream",
     "text": [
      "/Users/pavel/miniconda3/lib/python3.11/site-packages/eXNN/topology/metrics.py:128: RuntimeWarning:\n",
      "\n",
      "divide by zero encountered in scalar divide\n",
      "\n",
      "/Users/pavel/miniconda3/lib/python3.11/site-packages/eXNN/topology/metrics.py:128: RuntimeWarning:\n",
      "\n",
      "divide by zero encountered in scalar divide\n",
      "\n",
      "/Users/pavel/miniconda3/lib/python3.11/site-packages/eXNN/topology/metrics.py:128: RuntimeWarning:\n",
      "\n",
      "divide by zero encountered in scalar divide\n",
      "\n",
      "/Users/pavel/miniconda3/lib/python3.11/site-packages/eXNN/topology/metrics.py:128: RuntimeWarning:\n",
      "\n",
      "divide by zero encountered in scalar divide\n",
      "\n",
      "/Users/pavel/miniconda3/lib/python3.11/site-packages/eXNN/topology/metrics.py:128: RuntimeWarning:\n",
      "\n",
      "divide by zero encountered in scalar divide\n",
      "\n",
      "/Users/pavel/miniconda3/lib/python3.11/site-packages/eXNN/topology/metrics.py:128: RuntimeWarning:\n",
      "\n",
      "divide by zero encountered in scalar divide\n",
      "\n"
     ]
    },
    {
     "name": "stdout",
     "output_type": "stream",
     "text": [
      "Epoch 11/40, Train Loss: 0.0107, Test Loss: 0.0037, RMSE: 0.0611\n"
     ]
    },
    {
     "name": "stderr",
     "output_type": "stream",
     "text": [
      "/Users/pavel/miniconda3/lib/python3.11/site-packages/eXNN/topology/metrics.py:128: RuntimeWarning:\n",
      "\n",
      "divide by zero encountered in scalar divide\n",
      "\n",
      "/Users/pavel/miniconda3/lib/python3.11/site-packages/eXNN/topology/metrics.py:128: RuntimeWarning:\n",
      "\n",
      "divide by zero encountered in scalar divide\n",
      "\n",
      "/Users/pavel/miniconda3/lib/python3.11/site-packages/eXNN/topology/metrics.py:128: RuntimeWarning:\n",
      "\n",
      "divide by zero encountered in scalar divide\n",
      "\n",
      "/Users/pavel/miniconda3/lib/python3.11/site-packages/eXNN/topology/metrics.py:128: RuntimeWarning:\n",
      "\n",
      "divide by zero encountered in scalar divide\n",
      "\n",
      "/Users/pavel/miniconda3/lib/python3.11/site-packages/eXNN/topology/metrics.py:128: RuntimeWarning:\n",
      "\n",
      "divide by zero encountered in scalar divide\n",
      "\n",
      "/Users/pavel/miniconda3/lib/python3.11/site-packages/eXNN/topology/metrics.py:128: RuntimeWarning:\n",
      "\n",
      "divide by zero encountered in scalar divide\n",
      "\n"
     ]
    },
    {
     "name": "stdout",
     "output_type": "stream",
     "text": [
      "Epoch 12/40, Train Loss: 0.0097, Test Loss: 0.0028, RMSE: 0.0532\n"
     ]
    },
    {
     "name": "stderr",
     "output_type": "stream",
     "text": [
      "/Users/pavel/miniconda3/lib/python3.11/site-packages/eXNN/topology/metrics.py:128: RuntimeWarning:\n",
      "\n",
      "divide by zero encountered in scalar divide\n",
      "\n",
      "/Users/pavel/miniconda3/lib/python3.11/site-packages/eXNN/topology/metrics.py:128: RuntimeWarning:\n",
      "\n",
      "divide by zero encountered in scalar divide\n",
      "\n",
      "/Users/pavel/miniconda3/lib/python3.11/site-packages/eXNN/topology/metrics.py:128: RuntimeWarning:\n",
      "\n",
      "divide by zero encountered in scalar divide\n",
      "\n",
      "/Users/pavel/miniconda3/lib/python3.11/site-packages/eXNN/topology/metrics.py:128: RuntimeWarning:\n",
      "\n",
      "divide by zero encountered in scalar divide\n",
      "\n",
      "/Users/pavel/miniconda3/lib/python3.11/site-packages/eXNN/topology/metrics.py:128: RuntimeWarning:\n",
      "\n",
      "divide by zero encountered in scalar divide\n",
      "\n",
      "/Users/pavel/miniconda3/lib/python3.11/site-packages/eXNN/topology/metrics.py:128: RuntimeWarning:\n",
      "\n",
      "divide by zero encountered in scalar divide\n",
      "\n"
     ]
    },
    {
     "name": "stdout",
     "output_type": "stream",
     "text": [
      "Epoch 13/40, Train Loss: 0.0086, Test Loss: 0.0031, RMSE: 0.0565\n"
     ]
    },
    {
     "name": "stderr",
     "output_type": "stream",
     "text": [
      "/Users/pavel/miniconda3/lib/python3.11/site-packages/eXNN/topology/metrics.py:128: RuntimeWarning:\n",
      "\n",
      "divide by zero encountered in scalar divide\n",
      "\n",
      "/Users/pavel/miniconda3/lib/python3.11/site-packages/eXNN/topology/metrics.py:128: RuntimeWarning:\n",
      "\n",
      "divide by zero encountered in scalar divide\n",
      "\n",
      "/Users/pavel/miniconda3/lib/python3.11/site-packages/eXNN/topology/metrics.py:128: RuntimeWarning:\n",
      "\n",
      "divide by zero encountered in scalar divide\n",
      "\n",
      "/Users/pavel/miniconda3/lib/python3.11/site-packages/eXNN/topology/metrics.py:128: RuntimeWarning:\n",
      "\n",
      "divide by zero encountered in scalar divide\n",
      "\n",
      "/Users/pavel/miniconda3/lib/python3.11/site-packages/eXNN/topology/metrics.py:128: RuntimeWarning:\n",
      "\n",
      "divide by zero encountered in scalar divide\n",
      "\n",
      "/Users/pavel/miniconda3/lib/python3.11/site-packages/eXNN/topology/metrics.py:128: RuntimeWarning:\n",
      "\n",
      "divide by zero encountered in scalar divide\n",
      "\n"
     ]
    },
    {
     "name": "stdout",
     "output_type": "stream",
     "text": [
      "Epoch 14/40, Train Loss: 0.0081, Test Loss: 0.0044, RMSE: 0.0672\n"
     ]
    },
    {
     "name": "stderr",
     "output_type": "stream",
     "text": [
      "/Users/pavel/miniconda3/lib/python3.11/site-packages/eXNN/topology/metrics.py:128: RuntimeWarning:\n",
      "\n",
      "divide by zero encountered in scalar divide\n",
      "\n",
      "/Users/pavel/miniconda3/lib/python3.11/site-packages/eXNN/topology/metrics.py:128: RuntimeWarning:\n",
      "\n",
      "divide by zero encountered in scalar divide\n",
      "\n",
      "/Users/pavel/miniconda3/lib/python3.11/site-packages/eXNN/topology/metrics.py:128: RuntimeWarning:\n",
      "\n",
      "divide by zero encountered in scalar divide\n",
      "\n",
      "/Users/pavel/miniconda3/lib/python3.11/site-packages/eXNN/topology/metrics.py:128: RuntimeWarning:\n",
      "\n",
      "divide by zero encountered in scalar divide\n",
      "\n",
      "/Users/pavel/miniconda3/lib/python3.11/site-packages/eXNN/topology/metrics.py:128: RuntimeWarning:\n",
      "\n",
      "divide by zero encountered in scalar divide\n",
      "\n",
      "/Users/pavel/miniconda3/lib/python3.11/site-packages/eXNN/topology/metrics.py:128: RuntimeWarning:\n",
      "\n",
      "divide by zero encountered in scalar divide\n",
      "\n"
     ]
    },
    {
     "name": "stdout",
     "output_type": "stream",
     "text": [
      "Epoch 15/40, Train Loss: 0.0073, Test Loss: 0.0028, RMSE: 0.0529\n"
     ]
    },
    {
     "name": "stderr",
     "output_type": "stream",
     "text": [
      "/Users/pavel/miniconda3/lib/python3.11/site-packages/eXNN/topology/metrics.py:128: RuntimeWarning:\n",
      "\n",
      "divide by zero encountered in scalar divide\n",
      "\n",
      "/Users/pavel/miniconda3/lib/python3.11/site-packages/eXNN/topology/metrics.py:128: RuntimeWarning:\n",
      "\n",
      "divide by zero encountered in scalar divide\n",
      "\n",
      "/Users/pavel/miniconda3/lib/python3.11/site-packages/eXNN/topology/metrics.py:128: RuntimeWarning:\n",
      "\n",
      "divide by zero encountered in scalar divide\n",
      "\n",
      "/Users/pavel/miniconda3/lib/python3.11/site-packages/eXNN/topology/metrics.py:128: RuntimeWarning:\n",
      "\n",
      "divide by zero encountered in scalar divide\n",
      "\n",
      "/Users/pavel/miniconda3/lib/python3.11/site-packages/eXNN/topology/metrics.py:128: RuntimeWarning:\n",
      "\n",
      "divide by zero encountered in scalar divide\n",
      "\n",
      "/Users/pavel/miniconda3/lib/python3.11/site-packages/eXNN/topology/metrics.py:128: RuntimeWarning:\n",
      "\n",
      "divide by zero encountered in scalar divide\n",
      "\n"
     ]
    },
    {
     "name": "stdout",
     "output_type": "stream",
     "text": [
      "Epoch 16/40, Train Loss: 0.0069, Test Loss: 0.0019, RMSE: 0.0436\n"
     ]
    },
    {
     "name": "stderr",
     "output_type": "stream",
     "text": [
      "/Users/pavel/miniconda3/lib/python3.11/site-packages/eXNN/topology/metrics.py:128: RuntimeWarning:\n",
      "\n",
      "divide by zero encountered in scalar divide\n",
      "\n",
      "/Users/pavel/miniconda3/lib/python3.11/site-packages/eXNN/topology/metrics.py:128: RuntimeWarning:\n",
      "\n",
      "divide by zero encountered in scalar divide\n",
      "\n",
      "/Users/pavel/miniconda3/lib/python3.11/site-packages/eXNN/topology/metrics.py:128: RuntimeWarning:\n",
      "\n",
      "divide by zero encountered in scalar divide\n",
      "\n",
      "/Users/pavel/miniconda3/lib/python3.11/site-packages/eXNN/topology/metrics.py:128: RuntimeWarning:\n",
      "\n",
      "divide by zero encountered in scalar divide\n",
      "\n",
      "/Users/pavel/miniconda3/lib/python3.11/site-packages/eXNN/topology/metrics.py:128: RuntimeWarning:\n",
      "\n",
      "divide by zero encountered in scalar divide\n",
      "\n",
      "/Users/pavel/miniconda3/lib/python3.11/site-packages/eXNN/topology/metrics.py:128: RuntimeWarning:\n",
      "\n",
      "divide by zero encountered in scalar divide\n",
      "\n"
     ]
    },
    {
     "name": "stdout",
     "output_type": "stream",
     "text": [
      "Epoch 17/40, Train Loss: 0.0064, Test Loss: 0.0011, RMSE: 0.0340\n"
     ]
    },
    {
     "name": "stderr",
     "output_type": "stream",
     "text": [
      "/Users/pavel/miniconda3/lib/python3.11/site-packages/eXNN/topology/metrics.py:128: RuntimeWarning:\n",
      "\n",
      "divide by zero encountered in scalar divide\n",
      "\n",
      "/Users/pavel/miniconda3/lib/python3.11/site-packages/eXNN/topology/metrics.py:128: RuntimeWarning:\n",
      "\n",
      "divide by zero encountered in scalar divide\n",
      "\n",
      "/Users/pavel/miniconda3/lib/python3.11/site-packages/eXNN/topology/metrics.py:128: RuntimeWarning:\n",
      "\n",
      "divide by zero encountered in scalar divide\n",
      "\n",
      "/Users/pavel/miniconda3/lib/python3.11/site-packages/eXNN/topology/metrics.py:128: RuntimeWarning:\n",
      "\n",
      "divide by zero encountered in scalar divide\n",
      "\n",
      "/Users/pavel/miniconda3/lib/python3.11/site-packages/eXNN/topology/metrics.py:128: RuntimeWarning:\n",
      "\n",
      "divide by zero encountered in scalar divide\n",
      "\n",
      "/Users/pavel/miniconda3/lib/python3.11/site-packages/eXNN/topology/metrics.py:128: RuntimeWarning:\n",
      "\n",
      "divide by zero encountered in scalar divide\n",
      "\n"
     ]
    },
    {
     "name": "stdout",
     "output_type": "stream",
     "text": [
      "Epoch 18/40, Train Loss: 0.0059, Test Loss: 0.0025, RMSE: 0.0505\n"
     ]
    },
    {
     "name": "stderr",
     "output_type": "stream",
     "text": [
      "/Users/pavel/miniconda3/lib/python3.11/site-packages/eXNN/topology/metrics.py:128: RuntimeWarning:\n",
      "\n",
      "divide by zero encountered in scalar divide\n",
      "\n",
      "/Users/pavel/miniconda3/lib/python3.11/site-packages/eXNN/topology/metrics.py:128: RuntimeWarning:\n",
      "\n",
      "divide by zero encountered in scalar divide\n",
      "\n",
      "/Users/pavel/miniconda3/lib/python3.11/site-packages/eXNN/topology/metrics.py:128: RuntimeWarning:\n",
      "\n",
      "divide by zero encountered in scalar divide\n",
      "\n",
      "/Users/pavel/miniconda3/lib/python3.11/site-packages/eXNN/topology/metrics.py:128: RuntimeWarning:\n",
      "\n",
      "divide by zero encountered in scalar divide\n",
      "\n",
      "/Users/pavel/miniconda3/lib/python3.11/site-packages/eXNN/topology/metrics.py:128: RuntimeWarning:\n",
      "\n",
      "divide by zero encountered in scalar divide\n",
      "\n",
      "/Users/pavel/miniconda3/lib/python3.11/site-packages/eXNN/topology/metrics.py:128: RuntimeWarning:\n",
      "\n",
      "divide by zero encountered in scalar divide\n",
      "\n"
     ]
    },
    {
     "name": "stdout",
     "output_type": "stream",
     "text": [
      "Epoch 19/40, Train Loss: 0.0053, Test Loss: 0.0012, RMSE: 0.0344\n"
     ]
    },
    {
     "name": "stderr",
     "output_type": "stream",
     "text": [
      "/Users/pavel/miniconda3/lib/python3.11/site-packages/eXNN/topology/metrics.py:128: RuntimeWarning:\n",
      "\n",
      "divide by zero encountered in scalar divide\n",
      "\n",
      "/Users/pavel/miniconda3/lib/python3.11/site-packages/eXNN/topology/metrics.py:128: RuntimeWarning:\n",
      "\n",
      "divide by zero encountered in scalar divide\n",
      "\n",
      "/Users/pavel/miniconda3/lib/python3.11/site-packages/eXNN/topology/metrics.py:128: RuntimeWarning:\n",
      "\n",
      "divide by zero encountered in scalar divide\n",
      "\n",
      "/Users/pavel/miniconda3/lib/python3.11/site-packages/eXNN/topology/metrics.py:128: RuntimeWarning:\n",
      "\n",
      "divide by zero encountered in scalar divide\n",
      "\n",
      "/Users/pavel/miniconda3/lib/python3.11/site-packages/eXNN/topology/metrics.py:128: RuntimeWarning:\n",
      "\n",
      "divide by zero encountered in scalar divide\n",
      "\n",
      "/Users/pavel/miniconda3/lib/python3.11/site-packages/eXNN/topology/metrics.py:128: RuntimeWarning:\n",
      "\n",
      "divide by zero encountered in scalar divide\n",
      "\n"
     ]
    },
    {
     "name": "stdout",
     "output_type": "stream",
     "text": [
      "Epoch 20/40, Train Loss: 0.0050, Test Loss: 0.0009, RMSE: 0.0294\n"
     ]
    },
    {
     "name": "stderr",
     "output_type": "stream",
     "text": [
      "/Users/pavel/miniconda3/lib/python3.11/site-packages/eXNN/topology/metrics.py:128: RuntimeWarning:\n",
      "\n",
      "divide by zero encountered in scalar divide\n",
      "\n",
      "/Users/pavel/miniconda3/lib/python3.11/site-packages/eXNN/topology/metrics.py:128: RuntimeWarning:\n",
      "\n",
      "divide by zero encountered in scalar divide\n",
      "\n",
      "/Users/pavel/miniconda3/lib/python3.11/site-packages/eXNN/topology/metrics.py:128: RuntimeWarning:\n",
      "\n",
      "divide by zero encountered in scalar divide\n",
      "\n",
      "/Users/pavel/miniconda3/lib/python3.11/site-packages/eXNN/topology/metrics.py:128: RuntimeWarning:\n",
      "\n",
      "divide by zero encountered in scalar divide\n",
      "\n",
      "/Users/pavel/miniconda3/lib/python3.11/site-packages/eXNN/topology/metrics.py:128: RuntimeWarning:\n",
      "\n",
      "divide by zero encountered in scalar divide\n",
      "\n",
      "/Users/pavel/miniconda3/lib/python3.11/site-packages/eXNN/topology/metrics.py:128: RuntimeWarning:\n",
      "\n",
      "divide by zero encountered in scalar divide\n",
      "\n"
     ]
    },
    {
     "name": "stdout",
     "output_type": "stream",
     "text": [
      "Epoch 21/40, Train Loss: 0.0048, Test Loss: 0.0013, RMSE: 0.0358\n"
     ]
    },
    {
     "name": "stderr",
     "output_type": "stream",
     "text": [
      "/Users/pavel/miniconda3/lib/python3.11/site-packages/eXNN/topology/metrics.py:128: RuntimeWarning:\n",
      "\n",
      "divide by zero encountered in scalar divide\n",
      "\n",
      "/Users/pavel/miniconda3/lib/python3.11/site-packages/eXNN/topology/metrics.py:128: RuntimeWarning:\n",
      "\n",
      "divide by zero encountered in scalar divide\n",
      "\n",
      "/Users/pavel/miniconda3/lib/python3.11/site-packages/eXNN/topology/metrics.py:128: RuntimeWarning:\n",
      "\n",
      "divide by zero encountered in scalar divide\n",
      "\n",
      "/Users/pavel/miniconda3/lib/python3.11/site-packages/eXNN/topology/metrics.py:128: RuntimeWarning:\n",
      "\n",
      "divide by zero encountered in scalar divide\n",
      "\n",
      "/Users/pavel/miniconda3/lib/python3.11/site-packages/eXNN/topology/metrics.py:128: RuntimeWarning:\n",
      "\n",
      "divide by zero encountered in scalar divide\n",
      "\n",
      "/Users/pavel/miniconda3/lib/python3.11/site-packages/eXNN/topology/metrics.py:128: RuntimeWarning:\n",
      "\n",
      "divide by zero encountered in scalar divide\n",
      "\n"
     ]
    },
    {
     "name": "stdout",
     "output_type": "stream",
     "text": [
      "Epoch 22/40, Train Loss: 0.0044, Test Loss: 0.0009, RMSE: 0.0297\n"
     ]
    },
    {
     "name": "stderr",
     "output_type": "stream",
     "text": [
      "/Users/pavel/miniconda3/lib/python3.11/site-packages/eXNN/topology/metrics.py:128: RuntimeWarning:\n",
      "\n",
      "divide by zero encountered in scalar divide\n",
      "\n",
      "/Users/pavel/miniconda3/lib/python3.11/site-packages/eXNN/topology/metrics.py:128: RuntimeWarning:\n",
      "\n",
      "divide by zero encountered in scalar divide\n",
      "\n",
      "/Users/pavel/miniconda3/lib/python3.11/site-packages/eXNN/topology/metrics.py:128: RuntimeWarning:\n",
      "\n",
      "divide by zero encountered in scalar divide\n",
      "\n",
      "/Users/pavel/miniconda3/lib/python3.11/site-packages/eXNN/topology/metrics.py:128: RuntimeWarning:\n",
      "\n",
      "divide by zero encountered in scalar divide\n",
      "\n",
      "/Users/pavel/miniconda3/lib/python3.11/site-packages/eXNN/topology/metrics.py:128: RuntimeWarning:\n",
      "\n",
      "divide by zero encountered in scalar divide\n",
      "\n",
      "/Users/pavel/miniconda3/lib/python3.11/site-packages/eXNN/topology/metrics.py:128: RuntimeWarning:\n",
      "\n",
      "divide by zero encountered in scalar divide\n",
      "\n"
     ]
    },
    {
     "name": "stdout",
     "output_type": "stream",
     "text": [
      "Epoch 23/40, Train Loss: 0.0041, Test Loss: 0.0011, RMSE: 0.0328\n"
     ]
    },
    {
     "name": "stderr",
     "output_type": "stream",
     "text": [
      "/Users/pavel/miniconda3/lib/python3.11/site-packages/eXNN/topology/metrics.py:128: RuntimeWarning:\n",
      "\n",
      "divide by zero encountered in scalar divide\n",
      "\n",
      "/Users/pavel/miniconda3/lib/python3.11/site-packages/eXNN/topology/metrics.py:128: RuntimeWarning:\n",
      "\n",
      "divide by zero encountered in scalar divide\n",
      "\n",
      "/Users/pavel/miniconda3/lib/python3.11/site-packages/eXNN/topology/metrics.py:128: RuntimeWarning:\n",
      "\n",
      "divide by zero encountered in scalar divide\n",
      "\n",
      "/Users/pavel/miniconda3/lib/python3.11/site-packages/eXNN/topology/metrics.py:128: RuntimeWarning:\n",
      "\n",
      "divide by zero encountered in scalar divide\n",
      "\n",
      "/Users/pavel/miniconda3/lib/python3.11/site-packages/eXNN/topology/metrics.py:128: RuntimeWarning:\n",
      "\n",
      "divide by zero encountered in scalar divide\n",
      "\n",
      "/Users/pavel/miniconda3/lib/python3.11/site-packages/eXNN/topology/metrics.py:128: RuntimeWarning:\n",
      "\n",
      "divide by zero encountered in scalar divide\n",
      "\n"
     ]
    },
    {
     "name": "stdout",
     "output_type": "stream",
     "text": [
      "Epoch 24/40, Train Loss: 0.0041, Test Loss: 0.0017, RMSE: 0.0412\n"
     ]
    },
    {
     "name": "stderr",
     "output_type": "stream",
     "text": [
      "/Users/pavel/miniconda3/lib/python3.11/site-packages/eXNN/topology/metrics.py:128: RuntimeWarning:\n",
      "\n",
      "divide by zero encountered in scalar divide\n",
      "\n",
      "/Users/pavel/miniconda3/lib/python3.11/site-packages/eXNN/topology/metrics.py:128: RuntimeWarning:\n",
      "\n",
      "divide by zero encountered in scalar divide\n",
      "\n",
      "/Users/pavel/miniconda3/lib/python3.11/site-packages/eXNN/topology/metrics.py:128: RuntimeWarning:\n",
      "\n",
      "divide by zero encountered in scalar divide\n",
      "\n",
      "/Users/pavel/miniconda3/lib/python3.11/site-packages/eXNN/topology/metrics.py:128: RuntimeWarning:\n",
      "\n",
      "divide by zero encountered in scalar divide\n",
      "\n",
      "/Users/pavel/miniconda3/lib/python3.11/site-packages/eXNN/topology/metrics.py:128: RuntimeWarning:\n",
      "\n",
      "divide by zero encountered in scalar divide\n",
      "\n",
      "/Users/pavel/miniconda3/lib/python3.11/site-packages/eXNN/topology/metrics.py:128: RuntimeWarning:\n",
      "\n",
      "divide by zero encountered in scalar divide\n",
      "\n"
     ]
    },
    {
     "name": "stdout",
     "output_type": "stream",
     "text": [
      "Epoch 25/40, Train Loss: 0.0037, Test Loss: 0.0009, RMSE: 0.0297\n"
     ]
    },
    {
     "name": "stderr",
     "output_type": "stream",
     "text": [
      "/Users/pavel/miniconda3/lib/python3.11/site-packages/eXNN/topology/metrics.py:128: RuntimeWarning:\n",
      "\n",
      "divide by zero encountered in scalar divide\n",
      "\n",
      "/Users/pavel/miniconda3/lib/python3.11/site-packages/eXNN/topology/metrics.py:128: RuntimeWarning:\n",
      "\n",
      "divide by zero encountered in scalar divide\n",
      "\n",
      "/Users/pavel/miniconda3/lib/python3.11/site-packages/eXNN/topology/metrics.py:128: RuntimeWarning:\n",
      "\n",
      "divide by zero encountered in scalar divide\n",
      "\n",
      "/Users/pavel/miniconda3/lib/python3.11/site-packages/eXNN/topology/metrics.py:128: RuntimeWarning:\n",
      "\n",
      "divide by zero encountered in scalar divide\n",
      "\n",
      "/Users/pavel/miniconda3/lib/python3.11/site-packages/eXNN/topology/metrics.py:128: RuntimeWarning:\n",
      "\n",
      "divide by zero encountered in scalar divide\n",
      "\n",
      "/Users/pavel/miniconda3/lib/python3.11/site-packages/eXNN/topology/metrics.py:128: RuntimeWarning:\n",
      "\n",
      "divide by zero encountered in scalar divide\n",
      "\n"
     ]
    },
    {
     "name": "stdout",
     "output_type": "stream",
     "text": [
      "Epoch 26/40, Train Loss: 0.0039, Test Loss: 0.0011, RMSE: 0.0341\n"
     ]
    },
    {
     "name": "stderr",
     "output_type": "stream",
     "text": [
      "/Users/pavel/miniconda3/lib/python3.11/site-packages/eXNN/topology/metrics.py:128: RuntimeWarning:\n",
      "\n",
      "divide by zero encountered in scalar divide\n",
      "\n",
      "/Users/pavel/miniconda3/lib/python3.11/site-packages/eXNN/topology/metrics.py:128: RuntimeWarning:\n",
      "\n",
      "divide by zero encountered in scalar divide\n",
      "\n",
      "/Users/pavel/miniconda3/lib/python3.11/site-packages/eXNN/topology/metrics.py:128: RuntimeWarning:\n",
      "\n",
      "divide by zero encountered in scalar divide\n",
      "\n",
      "/Users/pavel/miniconda3/lib/python3.11/site-packages/eXNN/topology/metrics.py:128: RuntimeWarning:\n",
      "\n",
      "divide by zero encountered in scalar divide\n",
      "\n",
      "/Users/pavel/miniconda3/lib/python3.11/site-packages/eXNN/topology/metrics.py:128: RuntimeWarning:\n",
      "\n",
      "divide by zero encountered in scalar divide\n",
      "\n",
      "/Users/pavel/miniconda3/lib/python3.11/site-packages/eXNN/topology/metrics.py:128: RuntimeWarning:\n",
      "\n",
      "divide by zero encountered in scalar divide\n",
      "\n"
     ]
    },
    {
     "name": "stdout",
     "output_type": "stream",
     "text": [
      "Epoch 27/40, Train Loss: 0.0035, Test Loss: 0.0019, RMSE: 0.0437\n"
     ]
    },
    {
     "name": "stderr",
     "output_type": "stream",
     "text": [
      "/Users/pavel/miniconda3/lib/python3.11/site-packages/eXNN/topology/metrics.py:128: RuntimeWarning:\n",
      "\n",
      "divide by zero encountered in scalar divide\n",
      "\n",
      "/Users/pavel/miniconda3/lib/python3.11/site-packages/eXNN/topology/metrics.py:128: RuntimeWarning:\n",
      "\n",
      "divide by zero encountered in scalar divide\n",
      "\n",
      "/Users/pavel/miniconda3/lib/python3.11/site-packages/eXNN/topology/metrics.py:128: RuntimeWarning:\n",
      "\n",
      "divide by zero encountered in scalar divide\n",
      "\n",
      "/Users/pavel/miniconda3/lib/python3.11/site-packages/eXNN/topology/metrics.py:128: RuntimeWarning:\n",
      "\n",
      "divide by zero encountered in scalar divide\n",
      "\n",
      "/Users/pavel/miniconda3/lib/python3.11/site-packages/eXNN/topology/metrics.py:128: RuntimeWarning:\n",
      "\n",
      "divide by zero encountered in scalar divide\n",
      "\n",
      "/Users/pavel/miniconda3/lib/python3.11/site-packages/eXNN/topology/metrics.py:128: RuntimeWarning:\n",
      "\n",
      "divide by zero encountered in scalar divide\n",
      "\n"
     ]
    },
    {
     "name": "stdout",
     "output_type": "stream",
     "text": [
      "Epoch 28/40, Train Loss: 0.0034, Test Loss: 0.0020, RMSE: 0.0449\n"
     ]
    },
    {
     "name": "stderr",
     "output_type": "stream",
     "text": [
      "/Users/pavel/miniconda3/lib/python3.11/site-packages/eXNN/topology/metrics.py:128: RuntimeWarning:\n",
      "\n",
      "divide by zero encountered in scalar divide\n",
      "\n",
      "/Users/pavel/miniconda3/lib/python3.11/site-packages/eXNN/topology/metrics.py:128: RuntimeWarning:\n",
      "\n",
      "divide by zero encountered in scalar divide\n",
      "\n",
      "/Users/pavel/miniconda3/lib/python3.11/site-packages/eXNN/topology/metrics.py:128: RuntimeWarning:\n",
      "\n",
      "divide by zero encountered in scalar divide\n",
      "\n",
      "/Users/pavel/miniconda3/lib/python3.11/site-packages/eXNN/topology/metrics.py:128: RuntimeWarning:\n",
      "\n",
      "divide by zero encountered in scalar divide\n",
      "\n",
      "/Users/pavel/miniconda3/lib/python3.11/site-packages/eXNN/topology/metrics.py:128: RuntimeWarning:\n",
      "\n",
      "divide by zero encountered in scalar divide\n",
      "\n",
      "/Users/pavel/miniconda3/lib/python3.11/site-packages/eXNN/topology/metrics.py:128: RuntimeWarning:\n",
      "\n",
      "divide by zero encountered in scalar divide\n",
      "\n"
     ]
    },
    {
     "name": "stdout",
     "output_type": "stream",
     "text": [
      "Epoch 29/40, Train Loss: 0.0033, Test Loss: 0.0009, RMSE: 0.0299\n"
     ]
    },
    {
     "name": "stderr",
     "output_type": "stream",
     "text": [
      "/Users/pavel/miniconda3/lib/python3.11/site-packages/eXNN/topology/metrics.py:128: RuntimeWarning:\n",
      "\n",
      "divide by zero encountered in scalar divide\n",
      "\n",
      "/Users/pavel/miniconda3/lib/python3.11/site-packages/eXNN/topology/metrics.py:128: RuntimeWarning:\n",
      "\n",
      "divide by zero encountered in scalar divide\n",
      "\n",
      "/Users/pavel/miniconda3/lib/python3.11/site-packages/eXNN/topology/metrics.py:128: RuntimeWarning:\n",
      "\n",
      "divide by zero encountered in scalar divide\n",
      "\n",
      "/Users/pavel/miniconda3/lib/python3.11/site-packages/eXNN/topology/metrics.py:128: RuntimeWarning:\n",
      "\n",
      "divide by zero encountered in scalar divide\n",
      "\n",
      "/Users/pavel/miniconda3/lib/python3.11/site-packages/eXNN/topology/metrics.py:128: RuntimeWarning:\n",
      "\n",
      "divide by zero encountered in scalar divide\n",
      "\n",
      "/Users/pavel/miniconda3/lib/python3.11/site-packages/eXNN/topology/metrics.py:128: RuntimeWarning:\n",
      "\n",
      "divide by zero encountered in scalar divide\n",
      "\n"
     ]
    },
    {
     "name": "stdout",
     "output_type": "stream",
     "text": [
      "Epoch 30/40, Train Loss: 0.0033, Test Loss: 0.0015, RMSE: 0.0391\n"
     ]
    },
    {
     "name": "stderr",
     "output_type": "stream",
     "text": [
      "/Users/pavel/miniconda3/lib/python3.11/site-packages/eXNN/topology/metrics.py:128: RuntimeWarning:\n",
      "\n",
      "divide by zero encountered in scalar divide\n",
      "\n",
      "/Users/pavel/miniconda3/lib/python3.11/site-packages/eXNN/topology/metrics.py:128: RuntimeWarning:\n",
      "\n",
      "divide by zero encountered in scalar divide\n",
      "\n",
      "/Users/pavel/miniconda3/lib/python3.11/site-packages/eXNN/topology/metrics.py:128: RuntimeWarning:\n",
      "\n",
      "divide by zero encountered in scalar divide\n",
      "\n",
      "/Users/pavel/miniconda3/lib/python3.11/site-packages/eXNN/topology/metrics.py:128: RuntimeWarning:\n",
      "\n",
      "divide by zero encountered in scalar divide\n",
      "\n",
      "/Users/pavel/miniconda3/lib/python3.11/site-packages/eXNN/topology/metrics.py:128: RuntimeWarning:\n",
      "\n",
      "divide by zero encountered in scalar divide\n",
      "\n",
      "/Users/pavel/miniconda3/lib/python3.11/site-packages/eXNN/topology/metrics.py:128: RuntimeWarning:\n",
      "\n",
      "divide by zero encountered in scalar divide\n",
      "\n"
     ]
    },
    {
     "name": "stdout",
     "output_type": "stream",
     "text": [
      "Epoch 31/40, Train Loss: 0.0031, Test Loss: 0.0019, RMSE: 0.0437\n"
     ]
    },
    {
     "name": "stderr",
     "output_type": "stream",
     "text": [
      "/Users/pavel/miniconda3/lib/python3.11/site-packages/eXNN/topology/metrics.py:128: RuntimeWarning:\n",
      "\n",
      "divide by zero encountered in scalar divide\n",
      "\n",
      "/Users/pavel/miniconda3/lib/python3.11/site-packages/eXNN/topology/metrics.py:128: RuntimeWarning:\n",
      "\n",
      "divide by zero encountered in scalar divide\n",
      "\n",
      "/Users/pavel/miniconda3/lib/python3.11/site-packages/eXNN/topology/metrics.py:128: RuntimeWarning:\n",
      "\n",
      "divide by zero encountered in scalar divide\n",
      "\n",
      "/Users/pavel/miniconda3/lib/python3.11/site-packages/eXNN/topology/metrics.py:128: RuntimeWarning:\n",
      "\n",
      "divide by zero encountered in scalar divide\n",
      "\n",
      "/Users/pavel/miniconda3/lib/python3.11/site-packages/eXNN/topology/metrics.py:128: RuntimeWarning:\n",
      "\n",
      "divide by zero encountered in scalar divide\n",
      "\n",
      "/Users/pavel/miniconda3/lib/python3.11/site-packages/eXNN/topology/metrics.py:128: RuntimeWarning:\n",
      "\n",
      "divide by zero encountered in scalar divide\n",
      "\n"
     ]
    },
    {
     "name": "stdout",
     "output_type": "stream",
     "text": [
      "Epoch 32/40, Train Loss: 0.0031, Test Loss: 0.0018, RMSE: 0.0430\n"
     ]
    },
    {
     "name": "stderr",
     "output_type": "stream",
     "text": [
      "/Users/pavel/miniconda3/lib/python3.11/site-packages/eXNN/topology/metrics.py:128: RuntimeWarning:\n",
      "\n",
      "divide by zero encountered in scalar divide\n",
      "\n",
      "/Users/pavel/miniconda3/lib/python3.11/site-packages/eXNN/topology/metrics.py:128: RuntimeWarning:\n",
      "\n",
      "divide by zero encountered in scalar divide\n",
      "\n",
      "/Users/pavel/miniconda3/lib/python3.11/site-packages/eXNN/topology/metrics.py:128: RuntimeWarning:\n",
      "\n",
      "divide by zero encountered in scalar divide\n",
      "\n",
      "/Users/pavel/miniconda3/lib/python3.11/site-packages/eXNN/topology/metrics.py:128: RuntimeWarning:\n",
      "\n",
      "divide by zero encountered in scalar divide\n",
      "\n",
      "/Users/pavel/miniconda3/lib/python3.11/site-packages/eXNN/topology/metrics.py:128: RuntimeWarning:\n",
      "\n",
      "divide by zero encountered in scalar divide\n",
      "\n",
      "/Users/pavel/miniconda3/lib/python3.11/site-packages/eXNN/topology/metrics.py:128: RuntimeWarning:\n",
      "\n",
      "divide by zero encountered in scalar divide\n",
      "\n"
     ]
    },
    {
     "name": "stdout",
     "output_type": "stream",
     "text": [
      "Epoch 33/40, Train Loss: 0.0029, Test Loss: 0.0020, RMSE: 0.0452\n"
     ]
    },
    {
     "name": "stderr",
     "output_type": "stream",
     "text": [
      "/Users/pavel/miniconda3/lib/python3.11/site-packages/eXNN/topology/metrics.py:128: RuntimeWarning:\n",
      "\n",
      "divide by zero encountered in scalar divide\n",
      "\n",
      "/Users/pavel/miniconda3/lib/python3.11/site-packages/eXNN/topology/metrics.py:128: RuntimeWarning:\n",
      "\n",
      "divide by zero encountered in scalar divide\n",
      "\n",
      "/Users/pavel/miniconda3/lib/python3.11/site-packages/eXNN/topology/metrics.py:128: RuntimeWarning:\n",
      "\n",
      "divide by zero encountered in scalar divide\n",
      "\n",
      "/Users/pavel/miniconda3/lib/python3.11/site-packages/eXNN/topology/metrics.py:128: RuntimeWarning:\n",
      "\n",
      "divide by zero encountered in scalar divide\n",
      "\n",
      "/Users/pavel/miniconda3/lib/python3.11/site-packages/eXNN/topology/metrics.py:128: RuntimeWarning:\n",
      "\n",
      "divide by zero encountered in scalar divide\n",
      "\n",
      "/Users/pavel/miniconda3/lib/python3.11/site-packages/eXNN/topology/metrics.py:128: RuntimeWarning:\n",
      "\n",
      "divide by zero encountered in scalar divide\n",
      "\n"
     ]
    },
    {
     "name": "stdout",
     "output_type": "stream",
     "text": [
      "Epoch 34/40, Train Loss: 0.0027, Test Loss: 0.0011, RMSE: 0.0338\n"
     ]
    },
    {
     "name": "stderr",
     "output_type": "stream",
     "text": [
      "/Users/pavel/miniconda3/lib/python3.11/site-packages/eXNN/topology/metrics.py:128: RuntimeWarning:\n",
      "\n",
      "divide by zero encountered in scalar divide\n",
      "\n",
      "/Users/pavel/miniconda3/lib/python3.11/site-packages/eXNN/topology/metrics.py:128: RuntimeWarning:\n",
      "\n",
      "divide by zero encountered in scalar divide\n",
      "\n",
      "/Users/pavel/miniconda3/lib/python3.11/site-packages/eXNN/topology/metrics.py:128: RuntimeWarning:\n",
      "\n",
      "divide by zero encountered in scalar divide\n",
      "\n",
      "/Users/pavel/miniconda3/lib/python3.11/site-packages/eXNN/topology/metrics.py:128: RuntimeWarning:\n",
      "\n",
      "divide by zero encountered in scalar divide\n",
      "\n",
      "/Users/pavel/miniconda3/lib/python3.11/site-packages/eXNN/topology/metrics.py:128: RuntimeWarning:\n",
      "\n",
      "divide by zero encountered in scalar divide\n",
      "\n",
      "/Users/pavel/miniconda3/lib/python3.11/site-packages/eXNN/topology/metrics.py:128: RuntimeWarning:\n",
      "\n",
      "divide by zero encountered in scalar divide\n",
      "\n"
     ]
    },
    {
     "name": "stdout",
     "output_type": "stream",
     "text": [
      "Epoch 35/40, Train Loss: 0.0025, Test Loss: 0.0015, RMSE: 0.0388\n"
     ]
    },
    {
     "name": "stderr",
     "output_type": "stream",
     "text": [
      "/Users/pavel/miniconda3/lib/python3.11/site-packages/eXNN/topology/metrics.py:128: RuntimeWarning:\n",
      "\n",
      "divide by zero encountered in scalar divide\n",
      "\n",
      "/Users/pavel/miniconda3/lib/python3.11/site-packages/eXNN/topology/metrics.py:128: RuntimeWarning:\n",
      "\n",
      "divide by zero encountered in scalar divide\n",
      "\n",
      "/Users/pavel/miniconda3/lib/python3.11/site-packages/eXNN/topology/metrics.py:128: RuntimeWarning:\n",
      "\n",
      "divide by zero encountered in scalar divide\n",
      "\n",
      "/Users/pavel/miniconda3/lib/python3.11/site-packages/eXNN/topology/metrics.py:128: RuntimeWarning:\n",
      "\n",
      "divide by zero encountered in scalar divide\n",
      "\n",
      "/Users/pavel/miniconda3/lib/python3.11/site-packages/eXNN/topology/metrics.py:128: RuntimeWarning:\n",
      "\n",
      "divide by zero encountered in scalar divide\n",
      "\n",
      "/Users/pavel/miniconda3/lib/python3.11/site-packages/eXNN/topology/metrics.py:128: RuntimeWarning:\n",
      "\n",
      "divide by zero encountered in scalar divide\n",
      "\n"
     ]
    },
    {
     "name": "stdout",
     "output_type": "stream",
     "text": [
      "Epoch 36/40, Train Loss: 0.0026, Test Loss: 0.0012, RMSE: 0.0347\n"
     ]
    },
    {
     "name": "stderr",
     "output_type": "stream",
     "text": [
      "/Users/pavel/miniconda3/lib/python3.11/site-packages/eXNN/topology/metrics.py:128: RuntimeWarning:\n",
      "\n",
      "divide by zero encountered in scalar divide\n",
      "\n",
      "/Users/pavel/miniconda3/lib/python3.11/site-packages/eXNN/topology/metrics.py:128: RuntimeWarning:\n",
      "\n",
      "divide by zero encountered in scalar divide\n",
      "\n",
      "/Users/pavel/miniconda3/lib/python3.11/site-packages/eXNN/topology/metrics.py:128: RuntimeWarning:\n",
      "\n",
      "divide by zero encountered in scalar divide\n",
      "\n",
      "/Users/pavel/miniconda3/lib/python3.11/site-packages/eXNN/topology/metrics.py:128: RuntimeWarning:\n",
      "\n",
      "divide by zero encountered in scalar divide\n",
      "\n",
      "/Users/pavel/miniconda3/lib/python3.11/site-packages/eXNN/topology/metrics.py:128: RuntimeWarning:\n",
      "\n",
      "divide by zero encountered in scalar divide\n",
      "\n",
      "/Users/pavel/miniconda3/lib/python3.11/site-packages/eXNN/topology/metrics.py:128: RuntimeWarning:\n",
      "\n",
      "divide by zero encountered in scalar divide\n",
      "\n"
     ]
    },
    {
     "name": "stdout",
     "output_type": "stream",
     "text": [
      "Epoch 37/40, Train Loss: 0.0026, Test Loss: 0.0014, RMSE: 0.0380\n"
     ]
    },
    {
     "name": "stderr",
     "output_type": "stream",
     "text": [
      "/Users/pavel/miniconda3/lib/python3.11/site-packages/eXNN/topology/metrics.py:128: RuntimeWarning:\n",
      "\n",
      "divide by zero encountered in scalar divide\n",
      "\n",
      "/Users/pavel/miniconda3/lib/python3.11/site-packages/eXNN/topology/metrics.py:128: RuntimeWarning:\n",
      "\n",
      "divide by zero encountered in scalar divide\n",
      "\n",
      "/Users/pavel/miniconda3/lib/python3.11/site-packages/eXNN/topology/metrics.py:128: RuntimeWarning:\n",
      "\n",
      "divide by zero encountered in scalar divide\n",
      "\n",
      "/Users/pavel/miniconda3/lib/python3.11/site-packages/eXNN/topology/metrics.py:128: RuntimeWarning:\n",
      "\n",
      "divide by zero encountered in scalar divide\n",
      "\n",
      "/Users/pavel/miniconda3/lib/python3.11/site-packages/eXNN/topology/metrics.py:128: RuntimeWarning:\n",
      "\n",
      "divide by zero encountered in scalar divide\n",
      "\n",
      "/Users/pavel/miniconda3/lib/python3.11/site-packages/eXNN/topology/metrics.py:128: RuntimeWarning:\n",
      "\n",
      "divide by zero encountered in scalar divide\n",
      "\n"
     ]
    },
    {
     "name": "stdout",
     "output_type": "stream",
     "text": [
      "Epoch 38/40, Train Loss: 0.0026, Test Loss: 0.0013, RMSE: 0.0367\n"
     ]
    },
    {
     "name": "stderr",
     "output_type": "stream",
     "text": [
      "/Users/pavel/miniconda3/lib/python3.11/site-packages/eXNN/topology/metrics.py:128: RuntimeWarning:\n",
      "\n",
      "divide by zero encountered in scalar divide\n",
      "\n",
      "/Users/pavel/miniconda3/lib/python3.11/site-packages/eXNN/topology/metrics.py:128: RuntimeWarning:\n",
      "\n",
      "divide by zero encountered in scalar divide\n",
      "\n",
      "/Users/pavel/miniconda3/lib/python3.11/site-packages/eXNN/topology/metrics.py:128: RuntimeWarning:\n",
      "\n",
      "divide by zero encountered in scalar divide\n",
      "\n",
      "/Users/pavel/miniconda3/lib/python3.11/site-packages/eXNN/topology/metrics.py:128: RuntimeWarning:\n",
      "\n",
      "divide by zero encountered in scalar divide\n",
      "\n",
      "/Users/pavel/miniconda3/lib/python3.11/site-packages/eXNN/topology/metrics.py:128: RuntimeWarning:\n",
      "\n",
      "divide by zero encountered in scalar divide\n",
      "\n",
      "/Users/pavel/miniconda3/lib/python3.11/site-packages/eXNN/topology/metrics.py:128: RuntimeWarning:\n",
      "\n",
      "divide by zero encountered in scalar divide\n",
      "\n"
     ]
    },
    {
     "name": "stdout",
     "output_type": "stream",
     "text": [
      "Epoch 39/40, Train Loss: 0.0023, Test Loss: 0.0018, RMSE: 0.0428\n"
     ]
    },
    {
     "name": "stderr",
     "output_type": "stream",
     "text": [
      "/Users/pavel/miniconda3/lib/python3.11/site-packages/eXNN/topology/metrics.py:128: RuntimeWarning:\n",
      "\n",
      "divide by zero encountered in scalar divide\n",
      "\n",
      "/Users/pavel/miniconda3/lib/python3.11/site-packages/eXNN/topology/metrics.py:128: RuntimeWarning:\n",
      "\n",
      "divide by zero encountered in scalar divide\n",
      "\n",
      "/Users/pavel/miniconda3/lib/python3.11/site-packages/eXNN/topology/metrics.py:128: RuntimeWarning:\n",
      "\n",
      "divide by zero encountered in scalar divide\n",
      "\n",
      "/Users/pavel/miniconda3/lib/python3.11/site-packages/eXNN/topology/metrics.py:128: RuntimeWarning:\n",
      "\n",
      "divide by zero encountered in scalar divide\n",
      "\n",
      "/Users/pavel/miniconda3/lib/python3.11/site-packages/eXNN/topology/metrics.py:128: RuntimeWarning:\n",
      "\n",
      "divide by zero encountered in scalar divide\n",
      "\n",
      "/Users/pavel/miniconda3/lib/python3.11/site-packages/eXNN/topology/metrics.py:128: RuntimeWarning:\n",
      "\n",
      "divide by zero encountered in scalar divide\n",
      "\n"
     ]
    },
    {
     "name": "stdout",
     "output_type": "stream",
     "text": [
      "Epoch 40/40, Train Loss: 0.0024, Test Loss: 0.0009, RMSE: 0.0302\n"
     ]
    },
    {
     "data": {
      "image/png": "[encoded data removed]",
      "text/plain": [
       "<Figure size 1000x500 with 1 Axes>"
      ]
     },
     "metadata": {},
     "output_type": "display_data"
    }
   ],
   "source": [
    "# Create a name for output folder\n",
    "out_dir = 'exp_1'\n",
    "\n",
    "# Create cycle for training network with different amounts of data\n",
    "for batch in range(3000, len(prep_bike_df), 3000):\n",
    "    base_dir = f'./bike_output/{out_dir}/weights_graphs_mlp_DataAmount{batch}/'\n",
    "    # Getting part of the dataset\n",
    "    df_batch = prep_bike_df.head(batch)\n",
    "\n",
    "    # Training model and getting it's weights\n",
    "    fig, model_weights = batch_fit(df_batch, 40, batch, out_dir)\n",
    "\n",
    "    # Saving weights, loss function and RMSE\n",
    "    torch.save(model_weights, f'{base_dir}weights_mlp_DataAmount{batch}.pth')\n",
    "    fig.savefig(f'{base_dir}loss_and_rmse_mlp_DataAmount{batch}.png', dpi=300, bbox_inches='tight')\n",
    "    \n",
    "\n",
    "# Getting part of the dataset\n",
    "df_batch = prep_bike_df.head(len(prep_bike_df))\n",
    "last_dir = f'./bike_output/{out_dir}/weights_graphs_mlp_DataAmount{len(prep_bike_df)}/'\n",
    "\n",
    "# Training model and getting it's weights\n",
    "fig, model_weights = batch_fit(df_batch, 40, len(prep_bike_df), out_dir)\n",
    "\n",
    "# Saving weights and losses\n",
    "torch.save(model_weights, f'{last_dir}weights_mlp_DataAmount{len(prep_bike_df)}.pth')\n",
    "fig.savefig(f'{last_dir}loss_and_rmse_mlp_DataAmount{len(prep_bike_df)}.png', dpi=300, bbox_inches='tight')"
   ]
  }
 ],
 "metadata": {
  "kernelspec": {
   "display_name": "base",
   "language": "python",
   "name": "python3"
  },
  "language_info": {
   "codemirror_mode": {
    "name": "ipython",
    "version": 3
   },
   "file_extension": ".py",
   "mimetype": "text/x-python",
   "name": "python",
   "nbconvert_exporter": "python",
   "pygments_lexer": "ipython3",
   "version": "3.11.5"
  }
 },
 "nbformat": 4,
 "nbformat_minor": 2
}
