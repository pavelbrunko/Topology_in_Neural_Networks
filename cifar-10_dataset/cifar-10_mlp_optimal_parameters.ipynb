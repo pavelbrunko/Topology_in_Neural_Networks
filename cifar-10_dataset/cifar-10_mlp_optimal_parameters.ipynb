{
 "cells": [
  {
   "cell_type": "markdown",
   "metadata": {},
   "source": [
    "# Setting optimal MLP's hiperparameters for bike dataset"
   ]
  },
  {
   "cell_type": "code",
   "execution_count": 5,
   "metadata": {},
   "outputs": [],
   "source": [
    "# Importing all necessary libraries\n",
    "import torch\n",
    "import torch.nn as nn\n",
    "import torch.optim as optim\n",
    "import optuna\n",
    "import pandas as pd\n",
    "\n",
    "from torch.utils.data import DataLoader, TensorDataset\n",
    "from sklearn.model_selection import train_test_split\n",
    "from sklearn.preprocessing import MinMaxScaler\n",
    "from torch.utils.data import DataLoader\n",
    "from torchvision import datasets, transforms\n",
    "\n",
    "pd.set_option('display.max_columns', 50)"
   ]
  },
  {
   "cell_type": "code",
   "execution_count": 23,
   "metadata": {},
   "outputs": [],
   "source": [
    "# Create a Neural Network class with flexible settings\n",
    "class FlexibleRegressionNN(nn.Module):\n",
    "    def __init__(self, input_size: int, hidden_layers_sizes: list, dropout_rate: float) -> None:\n",
    "        super(FlexibleRegressionNN, self).__init__()\n",
    "        layers = list()\n",
    "\n",
    "        # Define first and n-1 hidden layers\n",
    "        neuron_num = input_size\n",
    "        for size in hidden_layers_sizes:\n",
    "            layers.append(nn.Linear(neuron_num, size))\n",
    "            layers.append(nn.ReLU())\n",
    "            layers.append(nn.Dropout(dropout_rate))\n",
    "            neuron_num = size\n",
    "\n",
    "        layers.append(nn.Linear(neuron_num, 10))\n",
    "        self.model = nn.Sequential(*layers)\n",
    "\n",
    "    # Define forward loop for NN\n",
    "    def forward(self, x):\n",
    "        x = nn.Flatten()(x)\n",
    "        return self.model(x)"
   ]
  },
  {
   "cell_type": "code",
   "execution_count": 18,
   "metadata": {},
   "outputs": [],
   "source": [
    "# Define function for calculation RMSE\n",
    "def root_mean_squared_error(y_true, y_pred):\n",
    "    mse = torch.mean((y_true - y_pred) ** 2)\n",
    "    rmse = torch.sqrt(mse)\n",
    "    return rmse.item()"
   ]
  },
  {
   "cell_type": "code",
   "execution_count": 24,
   "metadata": {},
   "outputs": [],
   "source": [
    "# Creating function for training and evaluating the model\n",
    "def train_and_evaluate_model(model, train_loader, test_loader, criterion, optimizer, epochs):\n",
    "    for epoch in range(epochs):\n",
    "        model.train()\n",
    "        train_loss = 0.0\n",
    "        for inputs, targets in train_loader:\n",
    "            optimizer.zero_grad()\n",
    "            outputs = model(inputs)\n",
    "            loss = criterion(outputs, targets)\n",
    "            loss.backward()\n",
    "            optimizer.step()\n",
    "            train_loss += loss.item()\n",
    "        train_loss /= len(train_loader)\n",
    "        \n",
    "        model.eval()\n",
    "        with torch.no_grad():\n",
    "            test_loss = 0.0\n",
    "            for inputs, targets in test_loader:\n",
    "                outputs = model(inputs)\n",
    "                loss = criterion(outputs, targets)\n",
    "                test_loss += loss.item()\n",
    "            test_loss /= len(test_loader)\n",
    "        \n",
    "        print(f'Epoch {epoch + 1}/{epochs}, Train Loss: {train_loss:.4f}, Test Loss: {test_loss:.4f}')\n",
    "    \n",
    "    return test_loss\n",
    "\n",
    "# Creating function for selection of best hyperparameters \n",
    "def objective(trial):\n",
    "    # Defining hyperparameters\n",
    "    hidden_layer_sizes = [\n",
    "        1024,\n",
    "        1024,\n",
    "        1024,\n",
    "        1024\n",
    "    ]\n",
    "    dropout_rate = trial.suggest_uniform('dropout_rate', 0.1, 0.5)\n",
    "    learning_rate = trial.suggest_loguniform('learning_rate', 1e-5, 1e-2)\n",
    "    batch_size = trial.suggest_categorical('batch_size', [32, 64, 128, 256])\n",
    "    epochs = trial.suggest_int('epochs', 5, 30)\n",
    "    input_size = 3072\n",
    "\n",
    "    # Creating a model and defining of optimizer\n",
    "    model = FlexibleRegressionNN(input_size, hidden_layer_sizes, dropout_rate)\n",
    "    optimizer = optim.Adam(model.parameters(), lr=learning_rate)\n",
    "    criterion = nn.CrossEntropyLoss()\n",
    "\n",
    "    # Convert images to tensors\n",
    "    transform = transforms.Compose([\n",
    "        transforms.ToTensor(),\n",
    "        transforms.Normalize((0.5, 0.5, 0.5), (0.5, 0.5, 0.5))\n",
    "    ])\n",
    "\n",
    "    # Load datasets\n",
    "    train_set = datasets.CIFAR10(root='data', train=True, download=True, transform=transform)\n",
    "    test_set = datasets.CIFAR10(root='data', train=False, download=True, transform=transform)\n",
    "\n",
    "    # Create DataLoaders\n",
    "    train_loader = DataLoader(train_set, batch_size=batch_size, shuffle=True)\n",
    "    test_loader = DataLoader(test_set, batch_size=batch_size, shuffle=False)\n",
    "\n",
    "    # Training launch and return the test loss\n",
    "    return train_and_evaluate_model(model, train_loader, test_loader, criterion, optimizer, epochs)"
   ]
  },
  {
   "cell_type": "code",
   "execution_count": 26,
   "metadata": {},
   "outputs": [
    {
     "name": "stderr",
     "output_type": "stream",
     "text": [
      "[I 2025-03-12 20:19:23,994] A new study created in memory with name: no-name-366270bc-4072-4bda-b544-cd852958aae4\n",
      "/var/folders/nd/fsmv2lz93k3_cjwz_1lx75j80000gn/T/ipykernel_62341/2147386946.py:37: FutureWarning: suggest_uniform has been deprecated in v3.0.0. This feature will be removed in v6.0.0. See https://github.com/optuna/optuna/releases/tag/v3.0.0. Use suggest_float instead.\n",
      "  dropout_rate = trial.suggest_uniform('dropout_rate', 0.1, 0.5)\n",
      "/var/folders/nd/fsmv2lz93k3_cjwz_1lx75j80000gn/T/ipykernel_62341/2147386946.py:38: FutureWarning: suggest_loguniform has been deprecated in v3.0.0. This feature will be removed in v6.0.0. See https://github.com/optuna/optuna/releases/tag/v3.0.0. Use suggest_float(..., log=True) instead.\n",
      "  learning_rate = trial.suggest_loguniform('learning_rate', 1e-5, 1e-2)\n"
     ]
    },
    {
     "name": "stdout",
     "output_type": "stream",
     "text": [
      "Files already downloaded and verified\n",
      "Files already downloaded and verified\n",
      "Epoch 1/30, Train Loss: 2.9785, Test Loss: 2.2704\n",
      "Epoch 2/30, Train Loss: 2.2564, Test Loss: 2.2341\n",
      "Epoch 3/30, Train Loss: 2.2494, Test Loss: 2.2332\n",
      "Epoch 4/30, Train Loss: 2.2674, Test Loss: 2.2049\n",
      "Epoch 5/30, Train Loss: 2.2533, Test Loss: 2.1900\n",
      "Epoch 6/30, Train Loss: 2.3252, Test Loss: 2.2987\n",
      "Epoch 7/30, Train Loss: 2.2995, Test Loss: 2.2954\n",
      "Epoch 8/30, Train Loss: 2.2867, Test Loss: 2.2757\n",
      "Epoch 9/30, Train Loss: 2.2766, Test Loss: 2.2258\n",
      "Epoch 10/30, Train Loss: 2.3324, Test Loss: 2.2395\n",
      "Epoch 11/30, Train Loss: 2.2636, Test Loss: 2.2280\n",
      "Epoch 12/30, Train Loss: 2.3049, Test Loss: 2.2711\n",
      "Epoch 13/30, Train Loss: 2.2739, Test Loss: 2.2432\n",
      "Epoch 14/30, Train Loss: 2.2823, Test Loss: 2.2344\n",
      "Epoch 15/30, Train Loss: 2.2527, Test Loss: 2.1931\n",
      "Epoch 16/30, Train Loss: 2.3066, Test Loss: 2.2576\n",
      "Epoch 17/30, Train Loss: 2.2799, Test Loss: 2.2704\n",
      "Epoch 18/30, Train Loss: 2.4253, Test Loss: 2.2723\n",
      "Epoch 19/30, Train Loss: 2.2781, Test Loss: 2.2698\n",
      "Epoch 20/30, Train Loss: 2.3052, Test Loss: 2.2915\n",
      "Epoch 21/30, Train Loss: 2.2933, Test Loss: 2.2810\n",
      "Epoch 22/30, Train Loss: 2.2913, Test Loss: 2.2917\n",
      "Epoch 23/30, Train Loss: 2.2937, Test Loss: 2.2856\n",
      "Epoch 24/30, Train Loss: 2.2960, Test Loss: 2.2930\n",
      "Epoch 25/30, Train Loss: 2.2976, Test Loss: 2.2864\n",
      "Epoch 26/30, Train Loss: 2.2968, Test Loss: 2.2852\n",
      "Epoch 27/30, Train Loss: 2.2932, Test Loss: 2.2831\n",
      "Epoch 28/30, Train Loss: 2.2920, Test Loss: 2.2840\n",
      "Epoch 29/30, Train Loss: 2.2919, Test Loss: 2.2842\n"
     ]
    },
    {
     "name": "stderr",
     "output_type": "stream",
     "text": [
      "[I 2025-03-12 20:25:21,675] Trial 0 finished with value: 2.290281867980957 and parameters: {'dropout_rate': 0.333365745661491, 'learning_rate': 0.009130887451985831, 'batch_size': 256, 'epochs': 30}. Best is trial 0 with value: 2.290281867980957.\n"
     ]
    },
    {
     "name": "stdout",
     "output_type": "stream",
     "text": [
      "Epoch 30/30, Train Loss: 2.3263, Test Loss: 2.2903\n",
      "Files already downloaded and verified\n",
      "Files already downloaded and verified\n",
      "Epoch 1/20, Train Loss: 1.8253, Test Loss: 1.6744\n",
      "Epoch 2/20, Train Loss: 1.6976, Test Loss: 1.5942\n",
      "Epoch 3/20, Train Loss: 1.6421, Test Loss: 1.5381\n",
      "Epoch 4/20, Train Loss: 1.6076, Test Loss: 1.5291\n",
      "Epoch 5/20, Train Loss: 1.5797, Test Loss: 1.5479\n",
      "Epoch 6/20, Train Loss: 1.5475, Test Loss: 1.5069\n",
      "Epoch 7/20, Train Loss: 1.5336, Test Loss: 1.4707\n",
      "Epoch 8/20, Train Loss: 1.5117, Test Loss: 1.4961\n",
      "Epoch 9/20, Train Loss: 1.4953, Test Loss: 1.4436\n",
      "Epoch 10/20, Train Loss: 1.4664, Test Loss: 1.4220\n",
      "Epoch 11/20, Train Loss: 1.4578, Test Loss: 1.4407\n",
      "Epoch 12/20, Train Loss: 1.4391, Test Loss: 1.4516\n",
      "Epoch 13/20, Train Loss: 1.4234, Test Loss: 1.4344\n",
      "Epoch 14/20, Train Loss: 1.4144, Test Loss: 1.4273\n",
      "Epoch 15/20, Train Loss: 1.3895, Test Loss: 1.4044\n",
      "Epoch 16/20, Train Loss: 1.3825, Test Loss: 1.4262\n",
      "Epoch 17/20, Train Loss: 1.3670, Test Loss: 1.4200\n",
      "Epoch 18/20, Train Loss: 1.3484, Test Loss: 1.4116\n",
      "Epoch 19/20, Train Loss: 1.3438, Test Loss: 1.4139\n"
     ]
    },
    {
     "name": "stderr",
     "output_type": "stream",
     "text": [
      "[I 2025-03-12 20:30:29,564] Trial 1 finished with value: 1.4095968340016618 and parameters: {'dropout_rate': 0.2909498069603536, 'learning_rate': 0.001579813513647417, 'batch_size': 128, 'epochs': 20}. Best is trial 1 with value: 1.4095968340016618.\n"
     ]
    },
    {
     "name": "stdout",
     "output_type": "stream",
     "text": [
      "Epoch 20/20, Train Loss: 1.3218, Test Loss: 1.4096\n",
      "Files already downloaded and verified\n",
      "Files already downloaded and verified\n",
      "Epoch 1/28, Train Loss: 1.8633, Test Loss: 1.6713\n",
      "Epoch 2/28, Train Loss: 1.7348, Test Loss: 1.6034\n",
      "Epoch 3/28, Train Loss: 1.6934, Test Loss: 1.5719\n",
      "Epoch 4/28, Train Loss: 1.6702, Test Loss: 1.5818\n",
      "Epoch 5/28, Train Loss: 1.6491, Test Loss: 1.5639\n",
      "Epoch 6/28, Train Loss: 1.6378, Test Loss: 1.5689\n",
      "Epoch 7/28, Train Loss: 1.6241, Test Loss: 1.5626\n",
      "Epoch 8/28, Train Loss: 1.6153, Test Loss: 1.5302\n",
      "Epoch 9/28, Train Loss: 1.6037, Test Loss: 1.5214\n",
      "Epoch 10/28, Train Loss: 1.5931, Test Loss: 1.5323\n",
      "Epoch 11/28, Train Loss: 1.5896, Test Loss: 1.5283\n",
      "Epoch 12/28, Train Loss: 1.5749, Test Loss: 1.5538\n",
      "Epoch 13/28, Train Loss: 1.5794, Test Loss: 1.5299\n",
      "Epoch 14/28, Train Loss: 1.5622, Test Loss: 1.5178\n",
      "Epoch 15/28, Train Loss: 1.5583, Test Loss: 1.5186\n",
      "Epoch 16/28, Train Loss: 1.5449, Test Loss: 1.5059\n",
      "Epoch 17/28, Train Loss: 1.5465, Test Loss: 1.5095\n",
      "Epoch 18/28, Train Loss: 1.5366, Test Loss: 1.5161\n",
      "Epoch 19/28, Train Loss: 1.5397, Test Loss: 1.5117\n",
      "Epoch 20/28, Train Loss: 1.5167, Test Loss: 1.4620\n",
      "Epoch 21/28, Train Loss: 1.5242, Test Loss: 1.5141\n",
      "Epoch 22/28, Train Loss: 1.5134, Test Loss: 1.4902\n",
      "Epoch 23/28, Train Loss: 1.5115, Test Loss: 1.4949\n",
      "Epoch 24/28, Train Loss: 1.5055, Test Loss: 1.4612\n",
      "Epoch 25/28, Train Loss: 1.4892, Test Loss: 1.4719\n",
      "Epoch 26/28, Train Loss: 1.4888, Test Loss: 1.4688\n",
      "Epoch 27/28, Train Loss: 1.4775, Test Loss: 1.4748\n"
     ]
    },
    {
     "name": "stderr",
     "output_type": "stream",
     "text": [
      "[I 2025-03-12 20:37:37,030] Trial 2 finished with value: 1.4784900116015085 and parameters: {'dropout_rate': 0.4729161319384496, 'learning_rate': 0.0010062163069490056, 'batch_size': 128, 'epochs': 28}. Best is trial 1 with value: 1.4095968340016618.\n"
     ]
    },
    {
     "name": "stdout",
     "output_type": "stream",
     "text": [
      "Epoch 28/28, Train Loss: 1.4701, Test Loss: 1.4785\n",
      "Files already downloaded and verified\n",
      "Files already downloaded and verified\n",
      "Epoch 1/24, Train Loss: 1.8150, Test Loss: 1.6002\n",
      "Epoch 2/24, Train Loss: 1.5572, Test Loss: 1.4752\n",
      "Epoch 3/24, Train Loss: 1.4448, Test Loss: 1.4163\n",
      "Epoch 4/24, Train Loss: 1.3731, Test Loss: 1.3651\n",
      "Epoch 5/24, Train Loss: 1.3077, Test Loss: 1.3556\n",
      "Epoch 6/24, Train Loss: 1.2539, Test Loss: 1.3130\n",
      "Epoch 7/24, Train Loss: 1.1995, Test Loss: 1.2767\n",
      "Epoch 8/24, Train Loss: 1.1580, Test Loss: 1.2607\n",
      "Epoch 9/24, Train Loss: 1.1070, Test Loss: 1.2650\n",
      "Epoch 10/24, Train Loss: 1.0727, Test Loss: 1.2462\n",
      "Epoch 11/24, Train Loss: 1.0256, Test Loss: 1.2343\n",
      "Epoch 12/24, Train Loss: 0.9880, Test Loss: 1.2421\n",
      "Epoch 13/24, Train Loss: 0.9561, Test Loss: 1.2436\n",
      "Epoch 14/24, Train Loss: 0.9110, Test Loss: 1.2445\n",
      "Epoch 15/24, Train Loss: 0.8789, Test Loss: 1.2325\n",
      "Epoch 16/24, Train Loss: 0.8370, Test Loss: 1.2496\n",
      "Epoch 17/24, Train Loss: 0.8092, Test Loss: 1.2565\n",
      "Epoch 18/24, Train Loss: 0.7818, Test Loss: 1.2941\n",
      "Epoch 19/24, Train Loss: 0.7498, Test Loss: 1.2744\n",
      "Epoch 20/24, Train Loss: 0.7238, Test Loss: 1.3104\n",
      "Epoch 21/24, Train Loss: 0.6925, Test Loss: 1.2942\n",
      "Epoch 22/24, Train Loss: 0.6607, Test Loss: 1.3249\n",
      "Epoch 23/24, Train Loss: 0.6396, Test Loss: 1.3310\n"
     ]
    },
    {
     "name": "stderr",
     "output_type": "stream",
     "text": [
      "[I 2025-03-12 20:42:20,376] Trial 3 finished with value: 1.3581074237823487 and parameters: {'dropout_rate': 0.25762354493132866, 'learning_rate': 0.00013639792464553385, 'batch_size': 256, 'epochs': 24}. Best is trial 3 with value: 1.3581074237823487.\n"
     ]
    },
    {
     "name": "stdout",
     "output_type": "stream",
     "text": [
      "Epoch 24/24, Train Loss: 0.6123, Test Loss: 1.3581\n",
      "Files already downloaded and verified\n",
      "Files already downloaded and verified\n",
      "Epoch 1/7, Train Loss: 1.7825, Test Loss: 1.5965\n",
      "Epoch 2/7, Train Loss: 1.6154, Test Loss: 1.5075\n",
      "Epoch 3/7, Train Loss: 1.5409, Test Loss: 1.4757\n",
      "Epoch 4/7, Train Loss: 1.4866, Test Loss: 1.4462\n",
      "Epoch 5/7, Train Loss: 1.4511, Test Loss: 1.4360\n",
      "Epoch 6/7, Train Loss: 1.4123, Test Loss: 1.4238\n"
     ]
    },
    {
     "name": "stderr",
     "output_type": "stream",
     "text": [
      "[I 2025-03-12 20:46:27,793] Trial 4 finished with value: 1.3874131096437716 and parameters: {'dropout_rate': 0.2546928965561005, 'learning_rate': 0.0006277938559391448, 'batch_size': 32, 'epochs': 7}. Best is trial 3 with value: 1.3581074237823487.\n"
     ]
    },
    {
     "name": "stdout",
     "output_type": "stream",
     "text": [
      "Epoch 7/7, Train Loss: 1.3849, Test Loss: 1.3874\n",
      "Files already downloaded and verified\n",
      "Files already downloaded and verified\n",
      "Epoch 1/28, Train Loss: 1.7481, Test Loss: 1.5827\n",
      "Epoch 2/28, Train Loss: 1.5440, Test Loss: 1.4859\n",
      "Epoch 3/28, Train Loss: 1.4436, Test Loss: 1.4638\n",
      "Epoch 4/28, Train Loss: 1.3699, Test Loss: 1.4033\n",
      "Epoch 5/28, Train Loss: 1.3113, Test Loss: 1.3684\n",
      "Epoch 6/28, Train Loss: 1.2553, Test Loss: 1.3759\n",
      "Epoch 7/28, Train Loss: 1.2088, Test Loss: 1.3425\n",
      "Epoch 8/28, Train Loss: 1.1547, Test Loss: 1.3547\n",
      "Epoch 9/28, Train Loss: 1.1155, Test Loss: 1.3496\n",
      "Epoch 10/28, Train Loss: 1.0756, Test Loss: 1.3498\n",
      "Epoch 11/28, Train Loss: 1.0367, Test Loss: 1.3818\n",
      "Epoch 12/28, Train Loss: 0.9965, Test Loss: 1.3585\n",
      "Epoch 13/28, Train Loss: 0.9642, Test Loss: 1.4155\n",
      "Epoch 14/28, Train Loss: 0.9346, Test Loss: 1.4367\n",
      "Epoch 15/28, Train Loss: 0.9075, Test Loss: 1.4067\n",
      "Epoch 16/28, Train Loss: 0.8729, Test Loss: 1.3824\n",
      "Epoch 17/28, Train Loss: 0.8503, Test Loss: 1.4512\n",
      "Epoch 18/28, Train Loss: 0.8275, Test Loss: 1.4753\n",
      "Epoch 19/28, Train Loss: 0.7991, Test Loss: 1.4774\n",
      "Epoch 20/28, Train Loss: 0.7771, Test Loss: 1.4865\n",
      "Epoch 21/28, Train Loss: 0.7547, Test Loss: 1.4998\n",
      "Epoch 22/28, Train Loss: 0.7258, Test Loss: 1.5454\n",
      "Epoch 23/28, Train Loss: 0.7172, Test Loss: 1.5687\n",
      "Epoch 24/28, Train Loss: 0.6933, Test Loss: 1.5772\n",
      "Epoch 25/28, Train Loss: 0.6803, Test Loss: 1.6267\n",
      "Epoch 26/28, Train Loss: 0.6644, Test Loss: 1.6540\n",
      "Epoch 27/28, Train Loss: 0.6466, Test Loss: 1.6380\n"
     ]
    },
    {
     "name": "stderr",
     "output_type": "stream",
     "text": [
      "[I 2025-03-12 20:53:35,841] Trial 5 finished with value: 1.6255577515952195 and parameters: {'dropout_rate': 0.14788680410858174, 'learning_rate': 0.0010914627081956608, 'batch_size': 128, 'epochs': 28}. Best is trial 3 with value: 1.3581074237823487.\n"
     ]
    },
    {
     "name": "stdout",
     "output_type": "stream",
     "text": [
      "Epoch 28/28, Train Loss: 0.6345, Test Loss: 1.6256\n",
      "Files already downloaded and verified\n",
      "Files already downloaded and verified\n",
      "Epoch 1/26, Train Loss: 1.8223, Test Loss: 1.5945\n",
      "Epoch 2/26, Train Loss: 1.5877, Test Loss: 1.5019\n",
      "Epoch 3/26, Train Loss: 1.4871, Test Loss: 1.4237\n",
      "Epoch 4/26, Train Loss: 1.4119, Test Loss: 1.3870\n",
      "Epoch 5/26, Train Loss: 1.3558, Test Loss: 1.3507\n",
      "Epoch 6/26, Train Loss: 1.3079, Test Loss: 1.3209\n",
      "Epoch 7/26, Train Loss: 1.2604, Test Loss: 1.3160\n",
      "Epoch 8/26, Train Loss: 1.2249, Test Loss: 1.2945\n",
      "Epoch 9/26, Train Loss: 1.1811, Test Loss: 1.2814\n",
      "Epoch 10/26, Train Loss: 1.1523, Test Loss: 1.2629\n",
      "Epoch 11/26, Train Loss: 1.1154, Test Loss: 1.2604\n",
      "Epoch 12/26, Train Loss: 1.0833, Test Loss: 1.2550\n",
      "Epoch 13/26, Train Loss: 1.0504, Test Loss: 1.2426\n",
      "Epoch 14/26, Train Loss: 1.0232, Test Loss: 1.2448\n",
      "Epoch 15/26, Train Loss: 0.9926, Test Loss: 1.2324\n",
      "Epoch 16/26, Train Loss: 0.9672, Test Loss: 1.2560\n",
      "Epoch 17/26, Train Loss: 0.9385, Test Loss: 1.2387\n",
      "Epoch 18/26, Train Loss: 0.9099, Test Loss: 1.2422\n",
      "Epoch 19/26, Train Loss: 0.8864, Test Loss: 1.2405\n",
      "Epoch 20/26, Train Loss: 0.8639, Test Loss: 1.2677\n",
      "Epoch 21/26, Train Loss: 0.8367, Test Loss: 1.2503\n",
      "Epoch 22/26, Train Loss: 0.8102, Test Loss: 1.2498\n",
      "Epoch 23/26, Train Loss: 0.7887, Test Loss: 1.2638\n",
      "Epoch 24/26, Train Loss: 0.7681, Test Loss: 1.2525\n",
      "Epoch 25/26, Train Loss: 0.7413, Test Loss: 1.2702\n"
     ]
    },
    {
     "name": "stderr",
     "output_type": "stream",
     "text": [
      "[I 2025-03-12 21:09:20,182] Trial 6 finished with value: 1.2768478968653816 and parameters: {'dropout_rate': 0.2842649220502864, 'learning_rate': 2.991838113186728e-05, 'batch_size': 32, 'epochs': 26}. Best is trial 6 with value: 1.2768478968653816.\n"
     ]
    },
    {
     "name": "stdout",
     "output_type": "stream",
     "text": [
      "Epoch 26/26, Train Loss: 0.7262, Test Loss: 1.2768\n",
      "Files already downloaded and verified\n",
      "Files already downloaded and verified\n",
      "Epoch 1/29, Train Loss: 2.0742, Test Loss: 1.8370\n",
      "Epoch 2/29, Train Loss: 1.7809, Test Loss: 1.6803\n",
      "Epoch 3/29, Train Loss: 1.6764, Test Loss: 1.6064\n",
      "Epoch 4/29, Train Loss: 1.6167, Test Loss: 1.5680\n",
      "Epoch 5/29, Train Loss: 1.5698, Test Loss: 1.5238\n",
      "Epoch 6/29, Train Loss: 1.5291, Test Loss: 1.4932\n",
      "Epoch 7/29, Train Loss: 1.4926, Test Loss: 1.4667\n",
      "Epoch 8/29, Train Loss: 1.4622, Test Loss: 1.4411\n",
      "Epoch 9/29, Train Loss: 1.4300, Test Loss: 1.4231\n",
      "Epoch 10/29, Train Loss: 1.4028, Test Loss: 1.4088\n",
      "Epoch 11/29, Train Loss: 1.3780, Test Loss: 1.3893\n",
      "Epoch 12/29, Train Loss: 1.3573, Test Loss: 1.3819\n",
      "Epoch 13/29, Train Loss: 1.3351, Test Loss: 1.3616\n",
      "Epoch 14/29, Train Loss: 1.3128, Test Loss: 1.3542\n",
      "Epoch 15/29, Train Loss: 1.2931, Test Loss: 1.3431\n",
      "Epoch 16/29, Train Loss: 1.2744, Test Loss: 1.3321\n",
      "Epoch 17/29, Train Loss: 1.2555, Test Loss: 1.3274\n",
      "Epoch 18/29, Train Loss: 1.2385, Test Loss: 1.3209\n",
      "Epoch 19/29, Train Loss: 1.2191, Test Loss: 1.3158\n",
      "Epoch 20/29, Train Loss: 1.2010, Test Loss: 1.3054\n",
      "Epoch 21/29, Train Loss: 1.1863, Test Loss: 1.3006\n",
      "Epoch 22/29, Train Loss: 1.1674, Test Loss: 1.2973\n",
      "Epoch 23/29, Train Loss: 1.1510, Test Loss: 1.2977\n",
      "Epoch 24/29, Train Loss: 1.1379, Test Loss: 1.2898\n",
      "Epoch 25/29, Train Loss: 1.1209, Test Loss: 1.2825\n",
      "Epoch 26/29, Train Loss: 1.1024, Test Loss: 1.2863\n",
      "Epoch 27/29, Train Loss: 1.0937, Test Loss: 1.2832\n",
      "Epoch 28/29, Train Loss: 1.0744, Test Loss: 1.2753\n"
     ]
    },
    {
     "name": "stderr",
     "output_type": "stream",
     "text": [
      "[I 2025-03-12 21:16:49,161] Trial 7 finished with value: 1.2763768940032283 and parameters: {'dropout_rate': 0.20108979727935555, 'learning_rate': 1.1904900479893294e-05, 'batch_size': 128, 'epochs': 29}. Best is trial 7 with value: 1.2763768940032283.\n"
     ]
    },
    {
     "name": "stdout",
     "output_type": "stream",
     "text": [
      "Epoch 29/29, Train Loss: 1.0626, Test Loss: 1.2764\n",
      "Files already downloaded and verified\n",
      "Files already downloaded and verified\n",
      "Epoch 1/16, Train Loss: 1.9730, Test Loss: 1.8415\n",
      "Epoch 2/16, Train Loss: 1.9718, Test Loss: 1.8068\n",
      "Epoch 3/16, Train Loss: 1.9881, Test Loss: 1.8523\n",
      "Epoch 4/16, Train Loss: 1.9924, Test Loss: 1.8346\n",
      "Epoch 5/16, Train Loss: 1.9805, Test Loss: 1.8151\n",
      "Epoch 6/16, Train Loss: 1.9740, Test Loss: 1.8292\n",
      "Epoch 7/16, Train Loss: 1.9791, Test Loss: 1.8720\n",
      "Epoch 8/16, Train Loss: 1.9802, Test Loss: 1.8232\n",
      "Epoch 9/16, Train Loss: 1.9691, Test Loss: 1.8504\n",
      "Epoch 10/16, Train Loss: 1.9946, Test Loss: 1.8808\n",
      "Epoch 11/16, Train Loss: 1.9977, Test Loss: 1.8394\n",
      "Epoch 12/16, Train Loss: 1.9877, Test Loss: 1.8363\n",
      "Epoch 13/16, Train Loss: 2.0002, Test Loss: 1.8934\n",
      "Epoch 14/16, Train Loss: 2.0147, Test Loss: 1.8634\n",
      "Epoch 15/16, Train Loss: 2.0051, Test Loss: 1.8607\n"
     ]
    },
    {
     "name": "stderr",
     "output_type": "stream",
     "text": [
      "[I 2025-03-12 21:20:53,523] Trial 8 finished with value: 1.9139650094358227 and parameters: {'dropout_rate': 0.4763048288793984, 'learning_rate': 0.0019329703651455516, 'batch_size': 128, 'epochs': 16}. Best is trial 7 with value: 1.2763768940032283.\n"
     ]
    },
    {
     "name": "stdout",
     "output_type": "stream",
     "text": [
      "Epoch 16/16, Train Loss: 2.0387, Test Loss: 1.9140\n",
      "Files already downloaded and verified\n",
      "Files already downloaded and verified\n",
      "Epoch 1/9, Train Loss: 1.9718, Test Loss: 1.8090\n",
      "Epoch 2/9, Train Loss: 1.9277, Test Loss: 1.8718\n",
      "Epoch 3/9, Train Loss: 1.9257, Test Loss: 1.8243\n",
      "Epoch 4/9, Train Loss: 1.8758, Test Loss: 1.7611\n",
      "Epoch 5/9, Train Loss: 1.8704, Test Loss: 1.7598\n",
      "Epoch 6/9, Train Loss: 1.8545, Test Loss: 1.7710\n",
      "Epoch 7/9, Train Loss: 1.8526, Test Loss: 1.7089\n",
      "Epoch 8/9, Train Loss: 1.8391, Test Loss: 1.7401\n"
     ]
    },
    {
     "name": "stderr",
     "output_type": "stream",
     "text": [
      "[I 2025-03-12 21:23:14,085] Trial 9 finished with value: 1.7576974766163886 and parameters: {'dropout_rate': 0.27332433984459925, 'learning_rate': 0.003319838335895418, 'batch_size': 128, 'epochs': 9}. Best is trial 7 with value: 1.2763768940032283.\n"
     ]
    },
    {
     "name": "stdout",
     "output_type": "stream",
     "text": [
      "Epoch 9/9, Train Loss: 1.8369, Test Loss: 1.7577\n",
      "Files already downloaded and verified\n",
      "Files already downloaded and verified\n",
      "Epoch 1/14, Train Loss: 1.9196, Test Loss: 1.6905\n",
      "Epoch 2/14, Train Loss: 1.6492, Test Loss: 1.5747\n",
      "Epoch 3/14, Train Loss: 1.5539, Test Loss: 1.5008\n",
      "Epoch 4/14, Train Loss: 1.4853, Test Loss: 1.4572\n",
      "Epoch 5/14, Train Loss: 1.4266, Test Loss: 1.4124\n",
      "Epoch 6/14, Train Loss: 1.3805, Test Loss: 1.3935\n",
      "Epoch 7/14, Train Loss: 1.3403, Test Loss: 1.3769\n",
      "Epoch 8/14, Train Loss: 1.3012, Test Loss: 1.3499\n",
      "Epoch 9/14, Train Loss: 1.2686, Test Loss: 1.3340\n",
      "Epoch 10/14, Train Loss: 1.2341, Test Loss: 1.3216\n",
      "Epoch 11/14, Train Loss: 1.2037, Test Loss: 1.3143\n",
      "Epoch 12/14, Train Loss: 1.1744, Test Loss: 1.3046\n",
      "Epoch 13/14, Train Loss: 1.1427, Test Loss: 1.2874\n"
     ]
    },
    {
     "name": "stderr",
     "output_type": "stream",
     "text": [
      "[I 2025-03-12 21:28:30,644] Trial 10 finished with value: 1.2923916331522025 and parameters: {'dropout_rate': 0.12036329420438074, 'learning_rate': 1.455719275574615e-05, 'batch_size': 64, 'epochs': 14}. Best is trial 7 with value: 1.2763768940032283.\n"
     ]
    },
    {
     "name": "stdout",
     "output_type": "stream",
     "text": [
      "Epoch 14/14, Train Loss: 1.1174, Test Loss: 1.2924\n",
      "Files already downloaded and verified\n",
      "Files already downloaded and verified\n",
      "Epoch 1/23, Train Loss: 1.9368, Test Loss: 1.7103\n",
      "Epoch 2/23, Train Loss: 1.6800, Test Loss: 1.5959\n",
      "Epoch 3/23, Train Loss: 1.5908, Test Loss: 1.5346\n",
      "Epoch 4/23, Train Loss: 1.5269, Test Loss: 1.4826\n",
      "Epoch 5/23, Train Loss: 1.4723, Test Loss: 1.4437\n",
      "Epoch 6/23, Train Loss: 1.4288, Test Loss: 1.4138\n",
      "Epoch 7/23, Train Loss: 1.3837, Test Loss: 1.3845\n",
      "Epoch 8/23, Train Loss: 1.3503, Test Loss: 1.3717\n",
      "Epoch 9/23, Train Loss: 1.3151, Test Loss: 1.3466\n",
      "Epoch 10/23, Train Loss: 1.2855, Test Loss: 1.3404\n",
      "Epoch 11/23, Train Loss: 1.2541, Test Loss: 1.3248\n",
      "Epoch 12/23, Train Loss: 1.2321, Test Loss: 1.3157\n",
      "Epoch 13/23, Train Loss: 1.2035, Test Loss: 1.2946\n",
      "Epoch 14/23, Train Loss: 1.1746, Test Loss: 1.2940\n",
      "Epoch 15/23, Train Loss: 1.1521, Test Loss: 1.2932\n",
      "Epoch 16/23, Train Loss: 1.1268, Test Loss: 1.2859\n",
      "Epoch 17/23, Train Loss: 1.1036, Test Loss: 1.2773\n",
      "Epoch 18/23, Train Loss: 1.0773, Test Loss: 1.2732\n",
      "Epoch 19/23, Train Loss: 1.0554, Test Loss: 1.2786\n",
      "Epoch 20/23, Train Loss: 1.0353, Test Loss: 1.2775\n",
      "Epoch 21/23, Train Loss: 1.0149, Test Loss: 1.2658\n",
      "Epoch 22/23, Train Loss: 0.9929, Test Loss: 1.2788\n"
     ]
    },
    {
     "name": "stderr",
     "output_type": "stream",
     "text": [
      "[I 2025-03-12 21:46:19,852] Trial 11 finished with value: 1.2696276579421168 and parameters: {'dropout_rate': 0.19375967051869036, 'learning_rate': 1.0687306466689992e-05, 'batch_size': 32, 'epochs': 23}. Best is trial 11 with value: 1.2696276579421168.\n"
     ]
    },
    {
     "name": "stdout",
     "output_type": "stream",
     "text": [
      "Epoch 23/23, Train Loss: 0.9688, Test Loss: 1.2696\n",
      "Files already downloaded and verified\n",
      "Files already downloaded and verified\n",
      "Epoch 1/21, Train Loss: 1.7203, Test Loss: 1.5184\n",
      "Epoch 2/21, Train Loss: 1.4862, Test Loss: 1.4225\n",
      "Epoch 3/21, Train Loss: 1.3795, Test Loss: 1.3563\n",
      "Epoch 4/21, Train Loss: 1.2974, Test Loss: 1.3227\n",
      "Epoch 5/21, Train Loss: 1.2276, Test Loss: 1.2941\n",
      "Epoch 6/21, Train Loss: 1.1632, Test Loss: 1.2775\n",
      "Epoch 7/21, Train Loss: 1.1078, Test Loss: 1.2797\n",
      "Epoch 8/21, Train Loss: 1.0496, Test Loss: 1.2699\n",
      "Epoch 9/21, Train Loss: 1.0012, Test Loss: 1.2510\n",
      "Epoch 10/21, Train Loss: 0.9487, Test Loss: 1.2628\n",
      "Epoch 11/21, Train Loss: 0.8984, Test Loss: 1.2610\n",
      "Epoch 12/21, Train Loss: 0.8551, Test Loss: 1.2522\n",
      "Epoch 13/21, Train Loss: 0.8069, Test Loss: 1.2730\n",
      "Epoch 14/21, Train Loss: 0.7643, Test Loss: 1.3026\n",
      "Epoch 15/21, Train Loss: 0.7238, Test Loss: 1.3558\n",
      "Epoch 16/21, Train Loss: 0.6862, Test Loss: 1.3212\n",
      "Epoch 17/21, Train Loss: 0.6431, Test Loss: 1.3650\n",
      "Epoch 18/21, Train Loss: 0.6100, Test Loss: 1.4032\n",
      "Epoch 19/21, Train Loss: 0.5748, Test Loss: 1.4170\n",
      "Epoch 20/21, Train Loss: 0.5484, Test Loss: 1.4287\n"
     ]
    },
    {
     "name": "stderr",
     "output_type": "stream",
     "text": [
      "[I 2025-03-12 21:59:30,057] Trial 12 finished with value: 1.4438927525910326 and parameters: {'dropout_rate': 0.18506764258574182, 'learning_rate': 5.482578992097647e-05, 'batch_size': 32, 'epochs': 21}. Best is trial 11 with value: 1.2696276579421168.\n"
     ]
    },
    {
     "name": "stdout",
     "output_type": "stream",
     "text": [
      "Epoch 21/21, Train Loss: 0.5179, Test Loss: 1.4439\n",
      "Files already downloaded and verified\n",
      "Files already downloaded and verified\n",
      "Epoch 1/24, Train Loss: 2.0060, Test Loss: 1.7802\n",
      "Epoch 2/24, Train Loss: 1.7345, Test Loss: 1.6421\n",
      "Epoch 3/24, Train Loss: 1.6425, Test Loss: 1.5750\n",
      "Epoch 4/24, Train Loss: 1.5832, Test Loss: 1.5312\n",
      "Epoch 5/24, Train Loss: 1.5332, Test Loss: 1.4973\n",
      "Epoch 6/24, Train Loss: 1.4907, Test Loss: 1.4587\n",
      "Epoch 7/24, Train Loss: 1.4537, Test Loss: 1.4392\n",
      "Epoch 8/24, Train Loss: 1.4218, Test Loss: 1.4157\n",
      "Epoch 9/24, Train Loss: 1.3905, Test Loss: 1.3938\n",
      "Epoch 10/24, Train Loss: 1.3616, Test Loss: 1.3880\n",
      "Epoch 11/24, Train Loss: 1.3372, Test Loss: 1.3624\n",
      "Epoch 12/24, Train Loss: 1.3162, Test Loss: 1.3496\n",
      "Epoch 13/24, Train Loss: 1.2882, Test Loss: 1.3461\n",
      "Epoch 14/24, Train Loss: 1.2665, Test Loss: 1.3266\n",
      "Epoch 15/24, Train Loss: 1.2447, Test Loss: 1.3173\n",
      "Epoch 16/24, Train Loss: 1.2232, Test Loss: 1.3099\n",
      "Epoch 17/24, Train Loss: 1.2025, Test Loss: 1.3103\n",
      "Epoch 18/24, Train Loss: 1.1844, Test Loss: 1.2965\n",
      "Epoch 19/24, Train Loss: 1.1632, Test Loss: 1.2978\n",
      "Epoch 20/24, Train Loss: 1.1460, Test Loss: 1.2883\n",
      "Epoch 21/24, Train Loss: 1.1245, Test Loss: 1.2775\n",
      "Epoch 22/24, Train Loss: 1.1114, Test Loss: 1.2848\n",
      "Epoch 23/24, Train Loss: 1.0903, Test Loss: 1.2829\n"
     ]
    },
    {
     "name": "stderr",
     "output_type": "stream",
     "text": [
      "[I 2025-03-12 22:08:57,902] Trial 13 finished with value: 1.2764761945244614 and parameters: {'dropout_rate': 0.1924973720399301, 'learning_rate': 1.0308150486448362e-05, 'batch_size': 64, 'epochs': 24}. Best is trial 11 with value: 1.2696276579421168.\n"
     ]
    },
    {
     "name": "stdout",
     "output_type": "stream",
     "text": [
      "Epoch 24/24, Train Loss: 1.0736, Test Loss: 1.2765\n",
      "Files already downloaded and verified\n",
      "Files already downloaded and verified\n",
      "Epoch 1/21, Train Loss: 1.7032, Test Loss: 1.5393\n",
      "Epoch 2/21, Train Loss: 1.4828, Test Loss: 1.4335\n",
      "Epoch 3/21, Train Loss: 1.3731, Test Loss: 1.3505\n",
      "Epoch 4/21, Train Loss: 1.2857, Test Loss: 1.3399\n",
      "Epoch 5/21, Train Loss: 1.2151, Test Loss: 1.3010\n",
      "Epoch 6/21, Train Loss: 1.1476, Test Loss: 1.2800\n",
      "Epoch 7/21, Train Loss: 1.0818, Test Loss: 1.2723\n",
      "Epoch 8/21, Train Loss: 1.0242, Test Loss: 1.2591\n",
      "Epoch 9/21, Train Loss: 0.9657, Test Loss: 1.2613\n",
      "Epoch 10/21, Train Loss: 0.9096, Test Loss: 1.2774\n",
      "Epoch 11/21, Train Loss: 0.8595, Test Loss: 1.2655\n",
      "Epoch 12/21, Train Loss: 0.8094, Test Loss: 1.3365\n",
      "Epoch 13/21, Train Loss: 0.7607, Test Loss: 1.3130\n",
      "Epoch 14/21, Train Loss: 0.7156, Test Loss: 1.3437\n",
      "Epoch 15/21, Train Loss: 0.6730, Test Loss: 1.3525\n",
      "Epoch 16/21, Train Loss: 0.6368, Test Loss: 1.4204\n",
      "Epoch 17/21, Train Loss: 0.5984, Test Loss: 1.4499\n",
      "Epoch 18/21, Train Loss: 0.5653, Test Loss: 1.4617\n",
      "Epoch 19/21, Train Loss: 0.5365, Test Loss: 1.4974\n",
      "Epoch 20/21, Train Loss: 0.5079, Test Loss: 1.4713\n"
     ]
    },
    {
     "name": "stderr",
     "output_type": "stream",
     "text": [
      "[I 2025-03-12 22:23:51,984] Trial 14 finished with value: 1.5015752759223548 and parameters: {'dropout_rate': 0.2129972232681842, 'learning_rate': 0.000133162844132438, 'batch_size': 32, 'epochs': 21}. Best is trial 11 with value: 1.2696276579421168.\n"
     ]
    },
    {
     "name": "stdout",
     "output_type": "stream",
     "text": [
      "Epoch 21/21, Train Loss: 0.4809, Test Loss: 1.5016\n",
      "Files already downloaded and verified\n",
      "Files already downloaded and verified\n",
      "Epoch 1/30, Train Loss: 1.8560, Test Loss: 1.6114\n",
      "Epoch 2/30, Train Loss: 1.6164, Test Loss: 1.5105\n",
      "Epoch 3/30, Train Loss: 1.5233, Test Loss: 1.4421\n",
      "Epoch 4/30, Train Loss: 1.4550, Test Loss: 1.3962\n",
      "Epoch 5/30, Train Loss: 1.3965, Test Loss: 1.3653\n",
      "Epoch 6/30, Train Loss: 1.3519, Test Loss: 1.3312\n",
      "Epoch 7/30, Train Loss: 1.3095, Test Loss: 1.3288\n",
      "Epoch 8/30, Train Loss: 1.2758, Test Loss: 1.2942\n",
      "Epoch 9/30, Train Loss: 1.2443, Test Loss: 1.2853\n",
      "Epoch 10/30, Train Loss: 1.2097, Test Loss: 1.2703\n",
      "Epoch 11/30, Train Loss: 1.1794, Test Loss: 1.2674\n",
      "Epoch 12/30, Train Loss: 1.1517, Test Loss: 1.2473\n",
      "Epoch 13/30, Train Loss: 1.1210, Test Loss: 1.2499\n",
      "Epoch 14/30, Train Loss: 1.0990, Test Loss: 1.2398\n",
      "Epoch 15/30, Train Loss: 1.0718, Test Loss: 1.2347\n",
      "Epoch 16/30, Train Loss: 1.0481, Test Loss: 1.2290\n",
      "Epoch 17/30, Train Loss: 1.0244, Test Loss: 1.2340\n",
      "Epoch 18/30, Train Loss: 1.0007, Test Loss: 1.2191\n",
      "Epoch 19/30, Train Loss: 0.9779, Test Loss: 1.2338\n",
      "Epoch 20/30, Train Loss: 0.9616, Test Loss: 1.2281\n",
      "Epoch 21/30, Train Loss: 0.9372, Test Loss: 1.2195\n",
      "Epoch 22/30, Train Loss: 0.9131, Test Loss: 1.2543\n",
      "Epoch 23/30, Train Loss: 0.8984, Test Loss: 1.2429\n",
      "Epoch 24/30, Train Loss: 0.8773, Test Loss: 1.2269\n",
      "Epoch 25/30, Train Loss: 0.8636, Test Loss: 1.2442\n",
      "Epoch 26/30, Train Loss: 0.8433, Test Loss: 1.2188\n",
      "Epoch 27/30, Train Loss: 0.8265, Test Loss: 1.2269\n",
      "Epoch 28/30, Train Loss: 0.8066, Test Loss: 1.2516\n",
      "Epoch 29/30, Train Loss: 0.7882, Test Loss: 1.2530\n"
     ]
    },
    {
     "name": "stderr",
     "output_type": "stream",
     "text": [
      "[I 2025-03-12 22:42:04,589] Trial 15 finished with value: 1.2638119375362944 and parameters: {'dropout_rate': 0.3662574368488039, 'learning_rate': 3.4076051745532796e-05, 'batch_size': 32, 'epochs': 30}. Best is trial 15 with value: 1.2638119375362944.\n"
     ]
    },
    {
     "name": "stdout",
     "output_type": "stream",
     "text": [
      "Epoch 30/30, Train Loss: 0.7779, Test Loss: 1.2638\n",
      "Files already downloaded and verified\n",
      "Files already downloaded and verified\n",
      "Epoch 1/13, Train Loss: 1.8326, Test Loss: 1.6039\n",
      "Epoch 2/13, Train Loss: 1.6079, Test Loss: 1.4896\n",
      "Epoch 3/13, Train Loss: 1.5136, Test Loss: 1.4317\n",
      "Epoch 4/13, Train Loss: 1.4440, Test Loss: 1.3857\n",
      "Epoch 5/13, Train Loss: 1.3889, Test Loss: 1.3423\n",
      "Epoch 6/13, Train Loss: 1.3424, Test Loss: 1.3282\n",
      "Epoch 7/13, Train Loss: 1.3026, Test Loss: 1.2991\n",
      "Epoch 8/13, Train Loss: 1.2634, Test Loss: 1.2877\n",
      "Epoch 9/13, Train Loss: 1.2306, Test Loss: 1.2796\n",
      "Epoch 10/13, Train Loss: 1.1959, Test Loss: 1.2604\n",
      "Epoch 11/13, Train Loss: 1.1690, Test Loss: 1.2410\n",
      "Epoch 12/13, Train Loss: 1.1365, Test Loss: 1.2475\n"
     ]
    },
    {
     "name": "stderr",
     "output_type": "stream",
     "text": [
      "[I 2025-03-12 22:49:53,974] Trial 16 finished with value: 1.2398939077465678 and parameters: {'dropout_rate': 0.3774649201144163, 'learning_rate': 4.272294839819793e-05, 'batch_size': 32, 'epochs': 13}. Best is trial 16 with value: 1.2398939077465678.\n"
     ]
    },
    {
     "name": "stdout",
     "output_type": "stream",
     "text": [
      "Epoch 13/13, Train Loss: 1.1133, Test Loss: 1.2399\n",
      "Files already downloaded and verified\n",
      "Files already downloaded and verified\n",
      "Epoch 1/12, Train Loss: 1.8048, Test Loss: 1.5723\n",
      "Epoch 2/12, Train Loss: 1.5845, Test Loss: 1.4775\n",
      "Epoch 3/12, Train Loss: 1.4896, Test Loss: 1.4037\n",
      "Epoch 4/12, Train Loss: 1.4225, Test Loss: 1.3656\n",
      "Epoch 5/12, Train Loss: 1.3738, Test Loss: 1.3434\n",
      "Epoch 6/12, Train Loss: 1.3256, Test Loss: 1.3273\n",
      "Epoch 7/12, Train Loss: 1.2854, Test Loss: 1.2969\n",
      "Epoch 8/12, Train Loss: 1.2432, Test Loss: 1.2863\n",
      "Epoch 9/12, Train Loss: 1.2136, Test Loss: 1.2554\n",
      "Epoch 10/12, Train Loss: 1.1804, Test Loss: 1.2571\n",
      "Epoch 11/12, Train Loss: 1.1539, Test Loss: 1.2364\n"
     ]
    },
    {
     "name": "stderr",
     "output_type": "stream",
     "text": [
      "[I 2025-03-12 22:57:04,429] Trial 17 finished with value: 1.2487118407941094 and parameters: {'dropout_rate': 0.3800923900607591, 'learning_rate': 5.7872089767785095e-05, 'batch_size': 32, 'epochs': 12}. Best is trial 16 with value: 1.2398939077465678.\n"
     ]
    },
    {
     "name": "stdout",
     "output_type": "stream",
     "text": [
      "Epoch 12/12, Train Loss: 1.1218, Test Loss: 1.2487\n",
      "Files already downloaded and verified\n",
      "Files already downloaded and verified\n",
      "Epoch 1/12, Train Loss: 1.7807, Test Loss: 1.5714\n",
      "Epoch 2/12, Train Loss: 1.5906, Test Loss: 1.4717\n",
      "Epoch 3/12, Train Loss: 1.5057, Test Loss: 1.4208\n",
      "Epoch 4/12, Train Loss: 1.4449, Test Loss: 1.3808\n",
      "Epoch 5/12, Train Loss: 1.3934, Test Loss: 1.3472\n",
      "Epoch 6/12, Train Loss: 1.3463, Test Loss: 1.3413\n",
      "Epoch 7/12, Train Loss: 1.3101, Test Loss: 1.3150\n",
      "Epoch 8/12, Train Loss: 1.2783, Test Loss: 1.2982\n",
      "Epoch 9/12, Train Loss: 1.2475, Test Loss: 1.3082\n",
      "Epoch 10/12, Train Loss: 1.2197, Test Loss: 1.2668\n",
      "Epoch 11/12, Train Loss: 1.1893, Test Loss: 1.2674\n"
     ]
    },
    {
     "name": "stderr",
     "output_type": "stream",
     "text": [
      "[I 2025-03-12 23:03:58,569] Trial 18 finished with value: 1.2567855174929952 and parameters: {'dropout_rate': 0.4105196461640471, 'learning_rate': 0.00019062181219105684, 'batch_size': 32, 'epochs': 12}. Best is trial 16 with value: 1.2398939077465678.\n"
     ]
    },
    {
     "name": "stdout",
     "output_type": "stream",
     "text": [
      "Epoch 12/12, Train Loss: 1.1607, Test Loss: 1.2568\n",
      "Files already downloaded and verified\n",
      "Files already downloaded and verified\n",
      "Epoch 1/11, Train Loss: 1.8113, Test Loss: 1.5924\n",
      "Epoch 2/11, Train Loss: 1.5931, Test Loss: 1.4788\n",
      "Epoch 3/11, Train Loss: 1.5021, Test Loss: 1.4244\n",
      "Epoch 4/11, Train Loss: 1.4344, Test Loss: 1.3851\n",
      "Epoch 5/11, Train Loss: 1.3868, Test Loss: 1.3429\n",
      "Epoch 6/11, Train Loss: 1.3371, Test Loss: 1.3266\n",
      "Epoch 7/11, Train Loss: 1.3008, Test Loss: 1.3098\n",
      "Epoch 8/11, Train Loss: 1.2646, Test Loss: 1.2949\n",
      "Epoch 9/11, Train Loss: 1.2317, Test Loss: 1.2648\n",
      "Epoch 10/11, Train Loss: 1.1962, Test Loss: 1.2677\n"
     ]
    },
    {
     "name": "stderr",
     "output_type": "stream",
     "text": [
      "[I 2025-03-12 23:10:25,226] Trial 19 finished with value: 1.2569161457375597 and parameters: {'dropout_rate': 0.4069025701799568, 'learning_rate': 6.803749291388015e-05, 'batch_size': 32, 'epochs': 11}. Best is trial 16 with value: 1.2398939077465678.\n"
     ]
    },
    {
     "name": "stdout",
     "output_type": "stream",
     "text": [
      "Epoch 11/11, Train Loss: 1.1710, Test Loss: 1.2569\n",
      "Files already downloaded and verified\n",
      "Files already downloaded and verified\n",
      "Epoch 1/5, Train Loss: 1.8274, Test Loss: 1.5882\n",
      "Epoch 2/5, Train Loss: 1.6145, Test Loss: 1.4959\n",
      "Epoch 3/5, Train Loss: 1.5224, Test Loss: 1.4360\n",
      "Epoch 4/5, Train Loss: 1.4568, Test Loss: 1.3961\n"
     ]
    },
    {
     "name": "stderr",
     "output_type": "stream",
     "text": [
      "[I 2025-03-12 23:11:25,893] Trial 20 finished with value: 1.3767249315977097 and parameters: {'dropout_rate': 0.42428444613492866, 'learning_rate': 0.00032653716787740627, 'batch_size': 256, 'epochs': 5}. Best is trial 16 with value: 1.2398939077465678.\n"
     ]
    },
    {
     "name": "stdout",
     "output_type": "stream",
     "text": [
      "Epoch 5/5, Train Loss: 1.4060, Test Loss: 1.3767\n",
      "Files already downloaded and verified\n",
      "Files already downloaded and verified\n",
      "Epoch 1/12, Train Loss: 1.7597, Test Loss: 1.5618\n",
      "Epoch 2/12, Train Loss: 1.5723, Test Loss: 1.4625\n",
      "Epoch 3/12, Train Loss: 1.4841, Test Loss: 1.4138\n",
      "Epoch 4/12, Train Loss: 1.4226, Test Loss: 1.3999\n",
      "Epoch 5/12, Train Loss: 1.3712, Test Loss: 1.3443\n",
      "Epoch 6/12, Train Loss: 1.3251, Test Loss: 1.3237\n",
      "Epoch 7/12, Train Loss: 1.2819, Test Loss: 1.3194\n",
      "Epoch 8/12, Train Loss: 1.2486, Test Loss: 1.2875\n",
      "Epoch 9/12, Train Loss: 1.2127, Test Loss: 1.2904\n",
      "Epoch 10/12, Train Loss: 1.1814, Test Loss: 1.2589\n",
      "Epoch 11/12, Train Loss: 1.1460, Test Loss: 1.2634\n"
     ]
    },
    {
     "name": "stderr",
     "output_type": "stream",
     "text": [
      "[I 2025-03-12 23:17:59,929] Trial 21 finished with value: 1.2591003276669561 and parameters: {'dropout_rate': 0.37673669762287626, 'learning_rate': 0.00020483961139701955, 'batch_size': 32, 'epochs': 12}. Best is trial 16 with value: 1.2398939077465678.\n"
     ]
    },
    {
     "name": "stdout",
     "output_type": "stream",
     "text": [
      "Epoch 12/12, Train Loss: 1.1151, Test Loss: 1.2591\n",
      "Files already downloaded and verified\n",
      "Files already downloaded and verified\n",
      "Epoch 1/17, Train Loss: 1.8052, Test Loss: 1.5849\n",
      "Epoch 2/17, Train Loss: 1.6021, Test Loss: 1.4808\n",
      "Epoch 3/17, Train Loss: 1.5119, Test Loss: 1.4170\n",
      "Epoch 4/17, Train Loss: 1.4462, Test Loss: 1.3736\n",
      "Epoch 5/17, Train Loss: 1.3984, Test Loss: 1.3522\n",
      "Epoch 6/17, Train Loss: 1.3505, Test Loss: 1.3255\n",
      "Epoch 7/17, Train Loss: 1.3123, Test Loss: 1.2990\n",
      "Epoch 8/17, Train Loss: 1.2763, Test Loss: 1.2809\n",
      "Epoch 9/17, Train Loss: 1.2450, Test Loss: 1.2721\n",
      "Epoch 10/17, Train Loss: 1.2168, Test Loss: 1.2633\n",
      "Epoch 11/17, Train Loss: 1.1816, Test Loss: 1.2565\n",
      "Epoch 12/17, Train Loss: 1.1621, Test Loss: 1.2504\n",
      "Epoch 13/17, Train Loss: 1.1339, Test Loss: 1.2439\n",
      "Epoch 14/17, Train Loss: 1.1089, Test Loss: 1.2358\n",
      "Epoch 15/17, Train Loss: 1.0859, Test Loss: 1.2293\n",
      "Epoch 16/17, Train Loss: 1.0628, Test Loss: 1.2331\n"
     ]
    },
    {
     "name": "stderr",
     "output_type": "stream",
     "text": [
      "[I 2025-03-12 23:27:31,221] Trial 22 finished with value: 1.2245700648798348 and parameters: {'dropout_rate': 0.4260925986352141, 'learning_rate': 7.943583085722407e-05, 'batch_size': 32, 'epochs': 17}. Best is trial 22 with value: 1.2245700648798348.\n"
     ]
    },
    {
     "name": "stdout",
     "output_type": "stream",
     "text": [
      "Epoch 17/17, Train Loss: 1.0357, Test Loss: 1.2246\n",
      "Files already downloaded and verified\n",
      "Files already downloaded and verified\n",
      "Epoch 1/17, Train Loss: 1.8376, Test Loss: 1.6061\n",
      "Epoch 2/17, Train Loss: 1.6181, Test Loss: 1.4994\n",
      "Epoch 3/17, Train Loss: 1.5266, Test Loss: 1.4355\n",
      "Epoch 4/17, Train Loss: 1.4651, Test Loss: 1.4112\n",
      "Epoch 5/17, Train Loss: 1.4180, Test Loss: 1.3520\n",
      "Epoch 6/17, Train Loss: 1.3738, Test Loss: 1.3423\n",
      "Epoch 7/17, Train Loss: 1.3360, Test Loss: 1.3241\n",
      "Epoch 8/17, Train Loss: 1.3032, Test Loss: 1.2977\n",
      "Epoch 9/17, Train Loss: 1.2739, Test Loss: 1.2833\n",
      "Epoch 10/17, Train Loss: 1.2375, Test Loss: 1.2748\n",
      "Epoch 11/17, Train Loss: 1.2160, Test Loss: 1.2684\n",
      "Epoch 12/17, Train Loss: 1.1872, Test Loss: 1.2567\n",
      "Epoch 13/17, Train Loss: 1.1640, Test Loss: 1.2483\n",
      "Epoch 14/17, Train Loss: 1.1430, Test Loss: 1.2420\n",
      "Epoch 15/17, Train Loss: 1.1168, Test Loss: 1.2417\n",
      "Epoch 16/17, Train Loss: 1.0989, Test Loss: 1.2267\n"
     ]
    },
    {
     "name": "stderr",
     "output_type": "stream",
     "text": [
      "[I 2025-03-12 23:38:01,169] Trial 23 finished with value: 1.217714543731068 and parameters: {'dropout_rate': 0.4475615345461506, 'learning_rate': 6.946825371559575e-05, 'batch_size': 32, 'epochs': 17}. Best is trial 23 with value: 1.217714543731068.\n"
     ]
    },
    {
     "name": "stdout",
     "output_type": "stream",
     "text": [
      "Epoch 17/17, Train Loss: 1.0740, Test Loss: 1.2177\n",
      "Files already downloaded and verified\n",
      "Files already downloaded and verified\n",
      "Epoch 1/18, Train Loss: 1.9901, Test Loss: 1.7401\n",
      "Epoch 2/18, Train Loss: 1.7345, Test Loss: 1.6054\n",
      "Epoch 3/18, Train Loss: 1.6402, Test Loss: 1.5389\n",
      "Epoch 4/18, Train Loss: 1.5733, Test Loss: 1.4809\n",
      "Epoch 5/18, Train Loss: 1.5243, Test Loss: 1.4538\n",
      "Epoch 6/18, Train Loss: 1.4817, Test Loss: 1.4202\n",
      "Epoch 7/18, Train Loss: 1.4444, Test Loss: 1.3844\n",
      "Epoch 8/18, Train Loss: 1.4150, Test Loss: 1.3700\n",
      "Epoch 9/18, Train Loss: 1.3802, Test Loss: 1.3534\n",
      "Epoch 10/18, Train Loss: 1.3546, Test Loss: 1.3377\n",
      "Epoch 11/18, Train Loss: 1.3300, Test Loss: 1.3208\n",
      "Epoch 12/18, Train Loss: 1.3058, Test Loss: 1.3149\n",
      "Epoch 13/18, Train Loss: 1.2810, Test Loss: 1.2960\n",
      "Epoch 14/18, Train Loss: 1.2607, Test Loss: 1.2905\n",
      "Epoch 15/18, Train Loss: 1.2452, Test Loss: 1.2810\n",
      "Epoch 16/18, Train Loss: 1.2230, Test Loss: 1.2715\n",
      "Epoch 17/18, Train Loss: 1.2052, Test Loss: 1.2706\n"
     ]
    },
    {
     "name": "stderr",
     "output_type": "stream",
     "text": [
      "[I 2025-03-12 23:44:35,457] Trial 24 finished with value: 1.2550725382604417 and parameters: {'dropout_rate': 0.44722114155226383, 'learning_rate': 2.8130985275925405e-05, 'batch_size': 64, 'epochs': 18}. Best is trial 23 with value: 1.217714543731068.\n"
     ]
    },
    {
     "name": "stdout",
     "output_type": "stream",
     "text": [
      "Epoch 18/18, Train Loss: 1.1788, Test Loss: 1.2551\n",
      "Files already downloaded and verified\n",
      "Files already downloaded and verified\n",
      "Epoch 1/16, Train Loss: 1.8524, Test Loss: 1.6117\n",
      "Epoch 2/16, Train Loss: 1.6507, Test Loss: 1.5217\n",
      "Epoch 3/16, Train Loss: 1.5651, Test Loss: 1.4539\n",
      "Epoch 4/16, Train Loss: 1.5046, Test Loss: 1.4246\n",
      "Epoch 5/16, Train Loss: 1.4580, Test Loss: 1.3821\n",
      "Epoch 6/16, Train Loss: 1.4189, Test Loss: 1.3701\n",
      "Epoch 7/16, Train Loss: 1.3874, Test Loss: 1.3444\n",
      "Epoch 8/16, Train Loss: 1.3509, Test Loss: 1.3278\n",
      "Epoch 9/16, Train Loss: 1.3233, Test Loss: 1.3113\n",
      "Epoch 10/16, Train Loss: 1.2969, Test Loss: 1.2933\n",
      "Epoch 11/16, Train Loss: 1.2736, Test Loss: 1.2902\n",
      "Epoch 12/16, Train Loss: 1.2511, Test Loss: 1.2604\n",
      "Epoch 13/16, Train Loss: 1.2294, Test Loss: 1.2676\n",
      "Epoch 14/16, Train Loss: 1.2129, Test Loss: 1.2652\n",
      "Epoch 15/16, Train Loss: 1.1937, Test Loss: 1.2505\n"
     ]
    },
    {
     "name": "stderr",
     "output_type": "stream",
     "text": [
      "[I 2025-03-12 23:54:41,702] Trial 25 finished with value: 1.2374618438105234 and parameters: {'dropout_rate': 0.4995391068202746, 'learning_rate': 9.543608464530425e-05, 'batch_size': 32, 'epochs': 16}. Best is trial 23 with value: 1.217714543731068.\n"
     ]
    },
    {
     "name": "stdout",
     "output_type": "stream",
     "text": [
      "Epoch 16/16, Train Loss: 1.1726, Test Loss: 1.2375\n",
      "Files already downloaded and verified\n",
      "Files already downloaded and verified\n",
      "Epoch 1/16, Train Loss: 1.8414, Test Loss: 1.6037\n",
      "Epoch 2/16, Train Loss: 1.6419, Test Loss: 1.5060\n",
      "Epoch 3/16, Train Loss: 1.5617, Test Loss: 1.4553\n",
      "Epoch 4/16, Train Loss: 1.5029, Test Loss: 1.4203\n",
      "Epoch 5/16, Train Loss: 1.4591, Test Loss: 1.3987\n",
      "Epoch 6/16, Train Loss: 1.4156, Test Loss: 1.3652\n",
      "Epoch 7/16, Train Loss: 1.3809, Test Loss: 1.3380\n",
      "Epoch 8/16, Train Loss: 1.3516, Test Loss: 1.3366\n",
      "Epoch 9/16, Train Loss: 1.3185, Test Loss: 1.3028\n",
      "Epoch 10/16, Train Loss: 1.2941, Test Loss: 1.3077\n",
      "Epoch 11/16, Train Loss: 1.2703, Test Loss: 1.2913\n",
      "Epoch 12/16, Train Loss: 1.2513, Test Loss: 1.2775\n",
      "Epoch 13/16, Train Loss: 1.2255, Test Loss: 1.2698\n",
      "Epoch 14/16, Train Loss: 1.2049, Test Loss: 1.2592\n",
      "Epoch 15/16, Train Loss: 1.1859, Test Loss: 1.2624\n"
     ]
    },
    {
     "name": "stderr",
     "output_type": "stream",
     "text": [
      "[I 2025-03-13 00:04:21,739] Trial 26 finished with value: 1.2506041776257963 and parameters: {'dropout_rate': 0.49711647087595173, 'learning_rate': 0.0001030807914567875, 'batch_size': 32, 'epochs': 16}. Best is trial 23 with value: 1.217714543731068.\n"
     ]
    },
    {
     "name": "stdout",
     "output_type": "stream",
     "text": [
      "Epoch 16/16, Train Loss: 1.1689, Test Loss: 1.2506\n",
      "Files already downloaded and verified\n",
      "Files already downloaded and verified\n",
      "Epoch 1/18, Train Loss: 1.8112, Test Loss: 1.6204\n",
      "Epoch 2/18, Train Loss: 1.6510, Test Loss: 1.5180\n",
      "Epoch 3/18, Train Loss: 1.5807, Test Loss: 1.4823\n",
      "Epoch 4/18, Train Loss: 1.5331, Test Loss: 1.4474\n",
      "Epoch 5/18, Train Loss: 1.4989, Test Loss: 1.4365\n",
      "Epoch 6/18, Train Loss: 1.4728, Test Loss: 1.4187\n",
      "Epoch 7/18, Train Loss: 1.4420, Test Loss: 1.4170\n",
      "Epoch 8/18, Train Loss: 1.4203, Test Loss: 1.4229\n",
      "Epoch 9/18, Train Loss: 1.4007, Test Loss: 1.3977\n",
      "Epoch 10/18, Train Loss: 1.3842, Test Loss: 1.3990\n",
      "Epoch 11/18, Train Loss: 1.3643, Test Loss: 1.3671\n",
      "Epoch 12/18, Train Loss: 1.3500, Test Loss: 1.3752\n",
      "Epoch 13/18, Train Loss: 1.3383, Test Loss: 1.3844\n",
      "Epoch 14/18, Train Loss: 1.3254, Test Loss: 1.3610\n",
      "Epoch 15/18, Train Loss: 1.3136, Test Loss: 1.3702\n",
      "Epoch 16/18, Train Loss: 1.2991, Test Loss: 1.3514\n",
      "Epoch 17/18, Train Loss: 1.2947, Test Loss: 1.3532\n"
     ]
    },
    {
     "name": "stderr",
     "output_type": "stream",
     "text": [
      "[I 2025-03-13 00:15:14,218] Trial 27 finished with value: 1.368939348303091 and parameters: {'dropout_rate': 0.44274854723647145, 'learning_rate': 0.00033830979851172995, 'batch_size': 32, 'epochs': 18}. Best is trial 23 with value: 1.217714543731068.\n"
     ]
    },
    {
     "name": "stdout",
     "output_type": "stream",
     "text": [
      "Epoch 18/18, Train Loss: 1.2785, Test Loss: 1.3689\n",
      "Files already downloaded and verified\n",
      "Files already downloaded and verified\n",
      "Epoch 1/15, Train Loss: 1.7590, Test Loss: 1.5481\n",
      "Epoch 2/15, Train Loss: 1.5421, Test Loss: 1.4540\n",
      "Epoch 3/15, Train Loss: 1.4463, Test Loss: 1.3942\n",
      "Epoch 4/15, Train Loss: 1.3815, Test Loss: 1.3608\n",
      "Epoch 5/15, Train Loss: 1.3174, Test Loss: 1.3142\n",
      "Epoch 6/15, Train Loss: 1.2690, Test Loss: 1.2879\n",
      "Epoch 7/15, Train Loss: 1.2217, Test Loss: 1.2803\n",
      "Epoch 8/15, Train Loss: 1.1771, Test Loss: 1.2642\n",
      "Epoch 9/15, Train Loss: 1.1389, Test Loss: 1.2491\n",
      "Epoch 10/15, Train Loss: 1.1043, Test Loss: 1.2442\n",
      "Epoch 11/15, Train Loss: 1.0668, Test Loss: 1.2579\n",
      "Epoch 12/15, Train Loss: 1.0292, Test Loss: 1.2380\n",
      "Epoch 13/15, Train Loss: 0.9987, Test Loss: 1.2260\n",
      "Epoch 14/15, Train Loss: 0.9704, Test Loss: 1.2414\n"
     ]
    },
    {
     "name": "stderr",
     "output_type": "stream",
     "text": [
      "[I 2025-03-13 00:24:35,945] Trial 28 finished with value: 1.2377227095369332 and parameters: {'dropout_rate': 0.33842866050137466, 'learning_rate': 9.105512712390449e-05, 'batch_size': 32, 'epochs': 15}. Best is trial 23 with value: 1.217714543731068.\n"
     ]
    },
    {
     "name": "stdout",
     "output_type": "stream",
     "text": [
      "Epoch 15/15, Train Loss: 0.9411, Test Loss: 1.2377\n",
      "Files already downloaded and verified\n",
      "Files already downloaded and verified\n",
      "Epoch 1/19, Train Loss: 2.2185, Test Loss: 2.0157\n",
      "Epoch 2/19, Train Loss: 1.9518, Test Loss: 1.8337\n",
      "Epoch 3/19, Train Loss: 1.8395, Test Loss: 1.7382\n",
      "Epoch 4/19, Train Loss: 1.7695, Test Loss: 1.6695\n",
      "Epoch 5/19, Train Loss: 1.7166, Test Loss: 1.6181\n",
      "Epoch 6/19, Train Loss: 1.6770, Test Loss: 1.5842\n",
      "Epoch 7/19, Train Loss: 1.6404, Test Loss: 1.5603\n",
      "Epoch 8/19, Train Loss: 1.6110, Test Loss: 1.5265\n",
      "Epoch 9/19, Train Loss: 1.5828, Test Loss: 1.5027\n",
      "Epoch 10/19, Train Loss: 1.5568, Test Loss: 1.4789\n",
      "Epoch 11/19, Train Loss: 1.5320, Test Loss: 1.4653\n",
      "Epoch 12/19, Train Loss: 1.5091, Test Loss: 1.4482\n",
      "Epoch 13/19, Train Loss: 1.4936, Test Loss: 1.4329\n",
      "Epoch 14/19, Train Loss: 1.4741, Test Loss: 1.4188\n",
      "Epoch 15/19, Train Loss: 1.4505, Test Loss: 1.4059\n",
      "Epoch 16/19, Train Loss: 1.4403, Test Loss: 1.3981\n",
      "Epoch 17/19, Train Loss: 1.4203, Test Loss: 1.3875\n",
      "Epoch 18/19, Train Loss: 1.4061, Test Loss: 1.3742\n"
     ]
    },
    {
     "name": "stderr",
     "output_type": "stream",
     "text": [
      "[I 2025-03-13 00:28:25,596] Trial 29 finished with value: 1.3639053016901017 and parameters: {'dropout_rate': 0.49870176892741713, 'learning_rate': 2.207613427025209e-05, 'batch_size': 256, 'epochs': 19}. Best is trial 23 with value: 1.217714543731068.\n"
     ]
    },
    {
     "name": "stdout",
     "output_type": "stream",
     "text": [
      "Epoch 19/19, Train Loss: 1.3921, Test Loss: 1.3639\n",
      "Files already downloaded and verified\n",
      "Files already downloaded and verified\n",
      "Epoch 1/16, Train Loss: 2.3880, Test Loss: 2.2189\n",
      "Epoch 2/16, Train Loss: 2.2945, Test Loss: 2.2936\n",
      "Epoch 3/16, Train Loss: 2.3300, Test Loss: 2.2318\n",
      "Epoch 4/16, Train Loss: 2.2850, Test Loss: 2.2915\n",
      "Epoch 5/16, Train Loss: 2.2971, Test Loss: 2.2889\n",
      "Epoch 6/16, Train Loss: 2.2975, Test Loss: 2.2984\n",
      "Epoch 7/16, Train Loss: 2.2947, Test Loss: 2.2693\n",
      "Epoch 8/16, Train Loss: 2.2826, Test Loss: 2.2424\n",
      "Epoch 9/16, Train Loss: 2.2726, Test Loss: 2.2494\n",
      "Epoch 10/16, Train Loss: 2.2710, Test Loss: 2.2467\n",
      "Epoch 11/16, Train Loss: 2.2721, Test Loss: 2.2484\n",
      "Epoch 12/16, Train Loss: 2.2694, Test Loss: 2.2448\n",
      "Epoch 13/16, Train Loss: 2.2727, Test Loss: 2.2464\n",
      "Epoch 14/16, Train Loss: 2.2731, Test Loss: 2.2533\n",
      "Epoch 15/16, Train Loss: 2.2780, Test Loss: 2.2518\n"
     ]
    },
    {
     "name": "stderr",
     "output_type": "stream",
     "text": [
      "[I 2025-03-13 00:34:33,989] Trial 30 finished with value: 2.2543674213871077 and parameters: {'dropout_rate': 0.33096160326276713, 'learning_rate': 0.008731015293696413, 'batch_size': 64, 'epochs': 16}. Best is trial 23 with value: 1.217714543731068.\n"
     ]
    },
    {
     "name": "stdout",
     "output_type": "stream",
     "text": [
      "Epoch 16/16, Train Loss: 2.2777, Test Loss: 2.2544\n",
      "Files already downloaded and verified\n",
      "Files already downloaded and verified\n",
      "Epoch 1/15, Train Loss: 1.8220, Test Loss: 1.5906\n",
      "Epoch 2/15, Train Loss: 1.6168, Test Loss: 1.4922\n",
      "Epoch 3/15, Train Loss: 1.5293, Test Loss: 1.4365\n",
      "Epoch 4/15, Train Loss: 1.4681, Test Loss: 1.4043\n",
      "Epoch 5/15, Train Loss: 1.4197, Test Loss: 1.3662\n",
      "Epoch 6/15, Train Loss: 1.3755, Test Loss: 1.3346\n",
      "Epoch 7/15, Train Loss: 1.3427, Test Loss: 1.3301\n",
      "Epoch 8/15, Train Loss: 1.3059, Test Loss: 1.2931\n",
      "Epoch 9/15, Train Loss: 1.2702, Test Loss: 1.2954\n",
      "Epoch 10/15, Train Loss: 1.2438, Test Loss: 1.2759\n",
      "Epoch 11/15, Train Loss: 1.2204, Test Loss: 1.2710\n",
      "Epoch 12/15, Train Loss: 1.1939, Test Loss: 1.2483\n",
      "Epoch 13/15, Train Loss: 1.1664, Test Loss: 1.2484\n",
      "Epoch 14/15, Train Loss: 1.1443, Test Loss: 1.2472\n"
     ]
    },
    {
     "name": "stderr",
     "output_type": "stream",
     "text": [
      "[I 2025-03-13 00:43:34,092] Trial 31 finished with value: 1.2328802520474686 and parameters: {'dropout_rate': 0.4535506874219979, 'learning_rate': 8.874565952832254e-05, 'batch_size': 32, 'epochs': 15}. Best is trial 23 with value: 1.217714543731068.\n"
     ]
    },
    {
     "name": "stdout",
     "output_type": "stream",
     "text": [
      "Epoch 15/15, Train Loss: 1.1209, Test Loss: 1.2329\n",
      "Files already downloaded and verified\n",
      "Files already downloaded and verified\n",
      "Epoch 1/17, Train Loss: 1.8110, Test Loss: 1.6067\n",
      "Epoch 2/17, Train Loss: 1.6286, Test Loss: 1.5144\n",
      "Epoch 3/17, Train Loss: 1.5564, Test Loss: 1.4599\n",
      "Epoch 4/17, Train Loss: 1.4967, Test Loss: 1.4202\n",
      "Epoch 5/17, Train Loss: 1.4543, Test Loss: 1.3975\n",
      "Epoch 6/17, Train Loss: 1.4154, Test Loss: 1.3732\n",
      "Epoch 7/17, Train Loss: 1.3828, Test Loss: 1.3514\n",
      "Epoch 8/17, Train Loss: 1.3510, Test Loss: 1.3471\n",
      "Epoch 9/17, Train Loss: 1.3225, Test Loss: 1.3352\n",
      "Epoch 10/17, Train Loss: 1.3002, Test Loss: 1.3173\n",
      "Epoch 11/17, Train Loss: 1.2754, Test Loss: 1.3068\n",
      "Epoch 12/17, Train Loss: 1.2634, Test Loss: 1.2943\n",
      "Epoch 13/17, Train Loss: 1.2430, Test Loss: 1.2987\n",
      "Epoch 14/17, Train Loss: 1.2153, Test Loss: 1.2962\n",
      "Epoch 15/17, Train Loss: 1.2040, Test Loss: 1.2786\n",
      "Epoch 16/17, Train Loss: 1.1845, Test Loss: 1.2836\n"
     ]
    },
    {
     "name": "stderr",
     "output_type": "stream",
     "text": [
      "[I 2025-03-13 00:54:15,482] Trial 32 finished with value: 1.2733162270186427 and parameters: {'dropout_rate': 0.46512109351445724, 'learning_rate': 0.00020756464078809306, 'batch_size': 32, 'epochs': 17}. Best is trial 23 with value: 1.217714543731068.\n"
     ]
    },
    {
     "name": "stdout",
     "output_type": "stream",
     "text": [
      "Epoch 17/17, Train Loss: 1.1723, Test Loss: 1.2733\n",
      "Files already downloaded and verified\n",
      "Files already downloaded and verified\n",
      "Epoch 1/20, Train Loss: 1.8122, Test Loss: 1.5913\n",
      "Epoch 2/20, Train Loss: 1.6087, Test Loss: 1.4915\n",
      "Epoch 3/20, Train Loss: 1.5222, Test Loss: 1.4268\n",
      "Epoch 4/20, Train Loss: 1.4577, Test Loss: 1.3832\n",
      "Epoch 5/20, Train Loss: 1.4070, Test Loss: 1.3660\n",
      "Epoch 6/20, Train Loss: 1.3644, Test Loss: 1.3313\n",
      "Epoch 7/20, Train Loss: 1.3235, Test Loss: 1.3167\n",
      "Epoch 8/20, Train Loss: 1.2862, Test Loss: 1.2882\n",
      "Epoch 9/20, Train Loss: 1.2564, Test Loss: 1.2814\n",
      "Epoch 10/20, Train Loss: 1.2263, Test Loss: 1.2546\n",
      "Epoch 11/20, Train Loss: 1.2022, Test Loss: 1.2647\n",
      "Epoch 12/20, Train Loss: 1.1768, Test Loss: 1.2498\n",
      "Epoch 13/20, Train Loss: 1.1504, Test Loss: 1.2488\n",
      "Epoch 14/20, Train Loss: 1.1228, Test Loss: 1.2280\n",
      "Epoch 15/20, Train Loss: 1.1027, Test Loss: 1.2270\n",
      "Epoch 16/20, Train Loss: 1.0839, Test Loss: 1.2319\n",
      "Epoch 17/20, Train Loss: 1.0565, Test Loss: 1.2326\n",
      "Epoch 18/20, Train Loss: 1.0373, Test Loss: 1.2219\n",
      "Epoch 19/20, Train Loss: 1.0181, Test Loss: 1.2226\n"
     ]
    },
    {
     "name": "stderr",
     "output_type": "stream",
     "text": [
      "[I 2025-03-13 01:06:21,664] Trial 33 finished with value: 1.2149787535682655 and parameters: {'dropout_rate': 0.43999374377714207, 'learning_rate': 8.563695992322964e-05, 'batch_size': 32, 'epochs': 20}. Best is trial 33 with value: 1.2149787535682655.\n"
     ]
    },
    {
     "name": "stdout",
     "output_type": "stream",
     "text": [
      "Epoch 20/20, Train Loss: 0.9981, Test Loss: 1.2150\n",
      "Files already downloaded and verified\n",
      "Files already downloaded and verified\n",
      "Epoch 1/21, Train Loss: 2.1811, Test Loss: 1.9640\n",
      "Epoch 2/21, Train Loss: 1.9109, Test Loss: 1.7918\n",
      "Epoch 3/21, Train Loss: 1.7936, Test Loss: 1.6986\n",
      "Epoch 4/21, Train Loss: 1.7231, Test Loss: 1.6286\n",
      "Epoch 5/21, Train Loss: 1.6699, Test Loss: 1.5886\n",
      "Epoch 6/21, Train Loss: 1.6335, Test Loss: 1.5540\n",
      "Epoch 7/21, Train Loss: 1.5935, Test Loss: 1.5223\n",
      "Epoch 8/21, Train Loss: 1.5645, Test Loss: 1.4954\n",
      "Epoch 9/21, Train Loss: 1.5366, Test Loss: 1.4781\n",
      "Epoch 10/21, Train Loss: 1.5094, Test Loss: 1.4527\n",
      "Epoch 11/21, Train Loss: 1.4848, Test Loss: 1.4396\n",
      "Epoch 12/21, Train Loss: 1.4623, Test Loss: 1.4218\n",
      "Epoch 13/21, Train Loss: 1.4442, Test Loss: 1.4086\n",
      "Epoch 14/21, Train Loss: 1.4282, Test Loss: 1.3959\n",
      "Epoch 15/21, Train Loss: 1.4057, Test Loss: 1.3876\n",
      "Epoch 16/21, Train Loss: 1.3915, Test Loss: 1.3771\n",
      "Epoch 17/21, Train Loss: 1.3738, Test Loss: 1.3631\n",
      "Epoch 18/21, Train Loss: 1.3586, Test Loss: 1.3503\n",
      "Epoch 19/21, Train Loss: 1.3423, Test Loss: 1.3470\n",
      "Epoch 20/21, Train Loss: 1.3288, Test Loss: 1.3374\n"
     ]
    },
    {
     "name": "stderr",
     "output_type": "stream",
     "text": [
      "[I 2025-03-13 01:10:27,167] Trial 34 finished with value: 1.3250978320837021 and parameters: {'dropout_rate': 0.42538198736406374, 'learning_rate': 2.0479809989302947e-05, 'batch_size': 256, 'epochs': 21}. Best is trial 33 with value: 1.2149787535682655.\n"
     ]
    },
    {
     "name": "stdout",
     "output_type": "stream",
     "text": [
      "Epoch 21/21, Train Loss: 1.3173, Test Loss: 1.3251\n",
      "Files already downloaded and verified\n",
      "Files already downloaded and verified\n",
      "Epoch 1/19, Train Loss: 1.8287, Test Loss: 1.6550\n",
      "Epoch 2/19, Train Loss: 1.6823, Test Loss: 1.6036\n",
      "Epoch 3/19, Train Loss: 1.6303, Test Loss: 1.5426\n",
      "Epoch 4/19, Train Loss: 1.5884, Test Loss: 1.5024\n",
      "Epoch 5/19, Train Loss: 1.5534, Test Loss: 1.4900\n",
      "Epoch 6/19, Train Loss: 1.5364, Test Loss: 1.4888\n",
      "Epoch 7/19, Train Loss: 1.5147, Test Loss: 1.4707\n",
      "Epoch 8/19, Train Loss: 1.4932, Test Loss: 1.4505\n",
      "Epoch 9/19, Train Loss: 1.4809, Test Loss: 1.4650\n",
      "Epoch 10/19, Train Loss: 1.4735, Test Loss: 1.4719\n",
      "Epoch 11/19, Train Loss: 1.4637, Test Loss: 1.4897\n",
      "Epoch 12/19, Train Loss: 1.4460, Test Loss: 1.4805\n",
      "Epoch 13/19, Train Loss: 1.4428, Test Loss: 1.4590\n",
      "Epoch 14/19, Train Loss: 1.4310, Test Loss: 1.4353\n",
      "Epoch 15/19, Train Loss: 1.4177, Test Loss: 1.4373\n",
      "Epoch 16/19, Train Loss: 1.4093, Test Loss: 1.4389\n",
      "Epoch 17/19, Train Loss: 1.4108, Test Loss: 1.4557\n",
      "Epoch 18/19, Train Loss: 1.4043, Test Loss: 1.4692\n"
     ]
    },
    {
     "name": "stderr",
     "output_type": "stream",
     "text": [
      "[I 2025-03-13 01:21:38,066] Trial 35 finished with value: 1.425133107569271 and parameters: {'dropout_rate': 0.4400100564827578, 'learning_rate': 0.00043749868953434583, 'batch_size': 32, 'epochs': 19}. Best is trial 33 with value: 1.2149787535682655.\n"
     ]
    },
    {
     "name": "stdout",
     "output_type": "stream",
     "text": [
      "Epoch 19/19, Train Loss: 1.3909, Test Loss: 1.4251\n",
      "Files already downloaded and verified\n",
      "Files already downloaded and verified\n",
      "Epoch 1/14, Train Loss: 1.8385, Test Loss: 1.6111\n",
      "Epoch 2/14, Train Loss: 1.6294, Test Loss: 1.5091\n",
      "Epoch 3/14, Train Loss: 1.5427, Test Loss: 1.4514\n",
      "Epoch 4/14, Train Loss: 1.4838, Test Loss: 1.3952\n",
      "Epoch 5/14, Train Loss: 1.4333, Test Loss: 1.3792\n",
      "Epoch 6/14, Train Loss: 1.3858, Test Loss: 1.3409\n",
      "Epoch 7/14, Train Loss: 1.3508, Test Loss: 1.3210\n",
      "Epoch 8/14, Train Loss: 1.3112, Test Loss: 1.3110\n",
      "Epoch 9/14, Train Loss: 1.2863, Test Loss: 1.3009\n",
      "Epoch 10/14, Train Loss: 1.2604, Test Loss: 1.2841\n",
      "Epoch 11/14, Train Loss: 1.2284, Test Loss: 1.2689\n",
      "Epoch 12/14, Train Loss: 1.2037, Test Loss: 1.2541\n",
      "Epoch 13/14, Train Loss: 1.1794, Test Loss: 1.2542\n"
     ]
    },
    {
     "name": "stderr",
     "output_type": "stream",
     "text": [
      "[I 2025-03-13 01:30:05,448] Trial 36 finished with value: 1.2407502937621582 and parameters: {'dropout_rate': 0.46066529163222436, 'learning_rate': 7.292401838036117e-05, 'batch_size': 32, 'epochs': 14}. Best is trial 33 with value: 1.2149787535682655.\n"
     ]
    },
    {
     "name": "stdout",
     "output_type": "stream",
     "text": [
      "Epoch 14/14, Train Loss: 1.1563, Test Loss: 1.2408\n",
      "Files already downloaded and verified\n",
      "Files already downloaded and verified\n",
      "Epoch 1/23, Train Loss: 1.7713, Test Loss: 1.5726\n",
      "Epoch 2/23, Train Loss: 1.5801, Test Loss: 1.4656\n",
      "Epoch 3/23, Train Loss: 1.4872, Test Loss: 1.4198\n",
      "Epoch 4/23, Train Loss: 1.4229, Test Loss: 1.3750\n",
      "Epoch 5/23, Train Loss: 1.3756, Test Loss: 1.3404\n",
      "Epoch 6/23, Train Loss: 1.3291, Test Loss: 1.3105\n",
      "Epoch 7/23, Train Loss: 1.2857, Test Loss: 1.2961\n",
      "Epoch 8/23, Train Loss: 1.2484, Test Loss: 1.2911\n",
      "Epoch 9/23, Train Loss: 1.2153, Test Loss: 1.2766\n",
      "Epoch 10/23, Train Loss: 1.1850, Test Loss: 1.2686\n",
      "Epoch 11/23, Train Loss: 1.1514, Test Loss: 1.2548\n",
      "Epoch 12/23, Train Loss: 1.1227, Test Loss: 1.2380\n",
      "Epoch 13/23, Train Loss: 1.0960, Test Loss: 1.2434\n",
      "Epoch 14/23, Train Loss: 1.0662, Test Loss: 1.2494\n",
      "Epoch 15/23, Train Loss: 1.0413, Test Loss: 1.2315\n",
      "Epoch 16/23, Train Loss: 1.0218, Test Loss: 1.2273\n",
      "Epoch 17/23, Train Loss: 0.9954, Test Loss: 1.2426\n",
      "Epoch 18/23, Train Loss: 0.9785, Test Loss: 1.2322\n",
      "Epoch 19/23, Train Loss: 0.9522, Test Loss: 1.2418\n",
      "Epoch 20/23, Train Loss: 0.9416, Test Loss: 1.2289\n",
      "Epoch 21/23, Train Loss: 0.9158, Test Loss: 1.2458\n",
      "Epoch 22/23, Train Loss: 0.8926, Test Loss: 1.2321\n"
     ]
    },
    {
     "name": "stderr",
     "output_type": "stream",
     "text": [
      "[I 2025-03-13 01:44:13,950] Trial 37 finished with value: 1.2417020176927123 and parameters: {'dropout_rate': 0.3969711301277583, 'learning_rate': 0.00014929307190173838, 'batch_size': 32, 'epochs': 23}. Best is trial 33 with value: 1.2149787535682655.\n"
     ]
    },
    {
     "name": "stdout",
     "output_type": "stream",
     "text": [
      "Epoch 23/23, Train Loss: 0.8832, Test Loss: 1.2417\n",
      "Files already downloaded and verified\n",
      "Files already downloaded and verified\n",
      "Epoch 1/10, Train Loss: 1.9983, Test Loss: 1.7358\n",
      "Epoch 2/10, Train Loss: 1.7033, Test Loss: 1.5987\n",
      "Epoch 3/10, Train Loss: 1.6060, Test Loss: 1.5148\n",
      "Epoch 4/10, Train Loss: 1.5342, Test Loss: 1.4627\n",
      "Epoch 5/10, Train Loss: 1.4790, Test Loss: 1.4239\n",
      "Epoch 6/10, Train Loss: 1.4276, Test Loss: 1.3965\n",
      "Epoch 7/10, Train Loss: 1.3863, Test Loss: 1.3616\n",
      "Epoch 8/10, Train Loss: 1.3517, Test Loss: 1.3452\n",
      "Epoch 9/10, Train Loss: 1.3148, Test Loss: 1.3337\n"
     ]
    },
    {
     "name": "stderr",
     "output_type": "stream",
     "text": [
      "[I 2025-03-13 01:46:13,740] Trial 38 finished with value: 1.3139315366744995 and parameters: {'dropout_rate': 0.33152907521549346, 'learning_rate': 4.5203445388266254e-05, 'batch_size': 256, 'epochs': 10}. Best is trial 33 with value: 1.2149787535682655.\n"
     ]
    },
    {
     "name": "stdout",
     "output_type": "stream",
     "text": [
      "Epoch 10/10, Train Loss: 1.2876, Test Loss: 1.3139\n",
      "Files already downloaded and verified\n",
      "Files already downloaded and verified\n",
      "Epoch 1/22, Train Loss: 1.8706, Test Loss: 1.7475\n",
      "Epoch 2/22, Train Loss: 1.7558, Test Loss: 1.6956\n",
      "Epoch 3/22, Train Loss: 1.7142, Test Loss: 1.6099\n",
      "Epoch 4/22, Train Loss: 1.6950, Test Loss: 1.6075\n",
      "Epoch 5/22, Train Loss: 1.6804, Test Loss: 1.6077\n",
      "Epoch 6/22, Train Loss: 1.6705, Test Loss: 1.6324\n",
      "Epoch 7/22, Train Loss: 1.6579, Test Loss: 1.5808\n",
      "Epoch 8/22, Train Loss: 1.6500, Test Loss: 1.5937\n",
      "Epoch 9/22, Train Loss: 1.6470, Test Loss: 1.5659\n",
      "Epoch 10/22, Train Loss: 1.6393, Test Loss: 1.5955\n",
      "Epoch 11/22, Train Loss: 1.6334, Test Loss: 1.6238\n",
      "Epoch 12/22, Train Loss: 1.6353, Test Loss: 1.6072\n",
      "Epoch 13/22, Train Loss: 1.6307, Test Loss: 1.6391\n",
      "Epoch 14/22, Train Loss: 1.6213, Test Loss: 1.6070\n",
      "Epoch 15/22, Train Loss: 1.6130, Test Loss: 1.5833\n",
      "Epoch 16/22, Train Loss: 1.6105, Test Loss: 1.5893\n",
      "Epoch 17/22, Train Loss: 1.6075, Test Loss: 1.5893\n",
      "Epoch 18/22, Train Loss: 1.5931, Test Loss: 1.5547\n",
      "Epoch 19/22, Train Loss: 1.5871, Test Loss: 1.5455\n",
      "Epoch 20/22, Train Loss: 1.5794, Test Loss: 1.5583\n",
      "Epoch 21/22, Train Loss: 1.5807, Test Loss: 1.5245\n"
     ]
    },
    {
     "name": "stderr",
     "output_type": "stream",
     "text": [
      "[I 2025-03-13 01:59:29,108] Trial 39 finished with value: 1.5420180768631517 and parameters: {'dropout_rate': 0.4781048208520567, 'learning_rate': 0.000548385674176955, 'batch_size': 32, 'epochs': 22}. Best is trial 33 with value: 1.2149787535682655.\n"
     ]
    },
    {
     "name": "stdout",
     "output_type": "stream",
     "text": [
      "Epoch 22/22, Train Loss: 1.5690, Test Loss: 1.5420\n",
      "Files already downloaded and verified\n",
      "Files already downloaded and verified\n",
      "Epoch 1/19, Train Loss: 1.8549, Test Loss: 1.6224\n",
      "Epoch 2/19, Train Loss: 1.6199, Test Loss: 1.4985\n",
      "Epoch 3/19, Train Loss: 1.5304, Test Loss: 1.4379\n",
      "Epoch 4/19, Train Loss: 1.4630, Test Loss: 1.3931\n",
      "Epoch 5/19, Train Loss: 1.4128, Test Loss: 1.3494\n",
      "Epoch 6/19, Train Loss: 1.3723, Test Loss: 1.3366\n",
      "Epoch 7/19, Train Loss: 1.3316, Test Loss: 1.3136\n",
      "Epoch 8/19, Train Loss: 1.2961, Test Loss: 1.3108\n",
      "Epoch 9/19, Train Loss: 1.2608, Test Loss: 1.2759\n",
      "Epoch 10/19, Train Loss: 1.2297, Test Loss: 1.2710\n",
      "Epoch 11/19, Train Loss: 1.1998, Test Loss: 1.2533\n",
      "Epoch 12/19, Train Loss: 1.1780, Test Loss: 1.2573\n",
      "Epoch 13/19, Train Loss: 1.1502, Test Loss: 1.2351\n",
      "Epoch 14/19, Train Loss: 1.1254, Test Loss: 1.2415\n",
      "Epoch 15/19, Train Loss: 1.1018, Test Loss: 1.2285\n",
      "Epoch 16/19, Train Loss: 1.0827, Test Loss: 1.2303\n",
      "Epoch 17/19, Train Loss: 1.0623, Test Loss: 1.2208\n",
      "Epoch 18/19, Train Loss: 1.0383, Test Loss: 1.2162\n"
     ]
    },
    {
     "name": "stderr",
     "output_type": "stream",
     "text": [
      "[I 2025-03-13 02:04:18,917] Trial 40 finished with value: 1.218946453891223 and parameters: {'dropout_rate': 0.43247831536248516, 'learning_rate': 0.0001250789194592375, 'batch_size': 128, 'epochs': 19}. Best is trial 33 with value: 1.2149787535682655.\n"
     ]
    },
    {
     "name": "stdout",
     "output_type": "stream",
     "text": [
      "Epoch 19/19, Train Loss: 1.0140, Test Loss: 1.2189\n",
      "Files already downloaded and verified\n",
      "Files already downloaded and verified\n",
      "Epoch 1/19, Train Loss: 1.8410, Test Loss: 1.5985\n",
      "Epoch 2/19, Train Loss: 1.6109, Test Loss: 1.4877\n",
      "Epoch 3/19, Train Loss: 1.5203, Test Loss: 1.4554\n",
      "Epoch 4/19, Train Loss: 1.4554, Test Loss: 1.3781\n",
      "Epoch 5/19, Train Loss: 1.4029, Test Loss: 1.3608\n",
      "Epoch 6/19, Train Loss: 1.3589, Test Loss: 1.3385\n",
      "Epoch 7/19, Train Loss: 1.3181, Test Loss: 1.3107\n",
      "Epoch 8/19, Train Loss: 1.2813, Test Loss: 1.2901\n",
      "Epoch 9/19, Train Loss: 1.2510, Test Loss: 1.2780\n",
      "Epoch 10/19, Train Loss: 1.2206, Test Loss: 1.2677\n",
      "Epoch 11/19, Train Loss: 1.1867, Test Loss: 1.2519\n",
      "Epoch 12/19, Train Loss: 1.1635, Test Loss: 1.2570\n",
      "Epoch 13/19, Train Loss: 1.1414, Test Loss: 1.2449\n",
      "Epoch 14/19, Train Loss: 1.1070, Test Loss: 1.2280\n",
      "Epoch 15/19, Train Loss: 1.0859, Test Loss: 1.2289\n",
      "Epoch 16/19, Train Loss: 1.0622, Test Loss: 1.2367\n",
      "Epoch 17/19, Train Loss: 1.0380, Test Loss: 1.2297\n",
      "Epoch 18/19, Train Loss: 1.0181, Test Loss: 1.2337\n"
     ]
    },
    {
     "name": "stderr",
     "output_type": "stream",
     "text": [
      "[I 2025-03-13 02:09:24,091] Trial 41 finished with value: 1.2266468903686427 and parameters: {'dropout_rate': 0.42626322548618795, 'learning_rate': 0.00014366605447753693, 'batch_size': 128, 'epochs': 19}. Best is trial 33 with value: 1.2149787535682655.\n"
     ]
    },
    {
     "name": "stdout",
     "output_type": "stream",
     "text": [
      "Epoch 19/19, Train Loss: 0.9981, Test Loss: 1.2266\n",
      "Files already downloaded and verified\n",
      "Files already downloaded and verified\n",
      "Epoch 1/19, Train Loss: 1.8349, Test Loss: 1.5957\n",
      "Epoch 2/19, Train Loss: 1.6143, Test Loss: 1.5112\n",
      "Epoch 3/19, Train Loss: 1.5221, Test Loss: 1.4347\n",
      "Epoch 4/19, Train Loss: 1.4557, Test Loss: 1.3804\n",
      "Epoch 5/19, Train Loss: 1.4001, Test Loss: 1.3552\n",
      "Epoch 6/19, Train Loss: 1.3599, Test Loss: 1.3388\n",
      "Epoch 7/19, Train Loss: 1.3178, Test Loss: 1.3127\n",
      "Epoch 8/19, Train Loss: 1.2797, Test Loss: 1.2944\n",
      "Epoch 9/19, Train Loss: 1.2518, Test Loss: 1.2819\n",
      "Epoch 10/19, Train Loss: 1.2186, Test Loss: 1.2737\n",
      "Epoch 11/19, Train Loss: 1.1895, Test Loss: 1.2557\n",
      "Epoch 12/19, Train Loss: 1.1633, Test Loss: 1.2359\n",
      "Epoch 13/19, Train Loss: 1.1315, Test Loss: 1.2275\n",
      "Epoch 14/19, Train Loss: 1.1107, Test Loss: 1.2381\n",
      "Epoch 15/19, Train Loss: 1.0930, Test Loss: 1.2300\n",
      "Epoch 16/19, Train Loss: 1.0583, Test Loss: 1.2171\n",
      "Epoch 17/19, Train Loss: 1.0370, Test Loss: 1.2190\n",
      "Epoch 18/19, Train Loss: 1.0169, Test Loss: 1.2269\n"
     ]
    },
    {
     "name": "stderr",
     "output_type": "stream",
     "text": [
      "[I 2025-03-13 02:14:16,275] Trial 42 finished with value: 1.2276109426836423 and parameters: {'dropout_rate': 0.4254738938506793, 'learning_rate': 0.00016060141626697856, 'batch_size': 128, 'epochs': 19}. Best is trial 33 with value: 1.2149787535682655.\n"
     ]
    },
    {
     "name": "stdout",
     "output_type": "stream",
     "text": [
      "Epoch 19/19, Train Loss: 0.9993, Test Loss: 1.2276\n",
      "Files already downloaded and verified\n",
      "Files already downloaded and verified\n",
      "Epoch 1/26, Train Loss: 1.7769, Test Loss: 1.5703\n",
      "Epoch 2/26, Train Loss: 1.5616, Test Loss: 1.4717\n",
      "Epoch 3/26, Train Loss: 1.4675, Test Loss: 1.4019\n",
      "Epoch 4/26, Train Loss: 1.4003, Test Loss: 1.3714\n",
      "Epoch 5/26, Train Loss: 1.3420, Test Loss: 1.3424\n",
      "Epoch 6/26, Train Loss: 1.2919, Test Loss: 1.3122\n",
      "Epoch 7/26, Train Loss: 1.2481, Test Loss: 1.2908\n",
      "Epoch 8/26, Train Loss: 1.2089, Test Loss: 1.2735\n",
      "Epoch 9/26, Train Loss: 1.1645, Test Loss: 1.2658\n",
      "Epoch 10/26, Train Loss: 1.1290, Test Loss: 1.2614\n",
      "Epoch 11/26, Train Loss: 1.0954, Test Loss: 1.2352\n",
      "Epoch 12/26, Train Loss: 1.0658, Test Loss: 1.2348\n",
      "Epoch 13/26, Train Loss: 1.0287, Test Loss: 1.2391\n",
      "Epoch 14/26, Train Loss: 0.9978, Test Loss: 1.2311\n",
      "Epoch 15/26, Train Loss: 0.9724, Test Loss: 1.2413\n",
      "Epoch 16/26, Train Loss: 0.9403, Test Loss: 1.2466\n",
      "Epoch 17/26, Train Loss: 0.9160, Test Loss: 1.2388\n",
      "Epoch 18/26, Train Loss: 0.8914, Test Loss: 1.2366\n",
      "Epoch 19/26, Train Loss: 0.8623, Test Loss: 1.2603\n",
      "Epoch 20/26, Train Loss: 0.8424, Test Loss: 1.2546\n",
      "Epoch 21/26, Train Loss: 0.8174, Test Loss: 1.2733\n",
      "Epoch 22/26, Train Loss: 0.8031, Test Loss: 1.2756\n",
      "Epoch 23/26, Train Loss: 0.7775, Test Loss: 1.2628\n",
      "Epoch 24/26, Train Loss: 0.7557, Test Loss: 1.2768\n",
      "Epoch 25/26, Train Loss: 0.7381, Test Loss: 1.2757\n"
     ]
    },
    {
     "name": "stderr",
     "output_type": "stream",
     "text": [
      "[I 2025-03-13 02:20:49,471] Trial 43 finished with value: 1.307562456855291 and parameters: {'dropout_rate': 0.35945500037229594, 'learning_rate': 0.0002528592134286193, 'batch_size': 128, 'epochs': 26}. Best is trial 33 with value: 1.2149787535682655.\n"
     ]
    },
    {
     "name": "stdout",
     "output_type": "stream",
     "text": [
      "Epoch 26/26, Train Loss: 0.7204, Test Loss: 1.3076\n",
      "Files already downloaded and verified\n",
      "Files already downloaded and verified\n",
      "Epoch 1/20, Train Loss: 1.8320, Test Loss: 1.5924\n",
      "Epoch 2/20, Train Loss: 1.6005, Test Loss: 1.4824\n",
      "Epoch 3/20, Train Loss: 1.5063, Test Loss: 1.4309\n",
      "Epoch 4/20, Train Loss: 1.4369, Test Loss: 1.3960\n",
      "Epoch 5/20, Train Loss: 1.3844, Test Loss: 1.3664\n",
      "Epoch 6/20, Train Loss: 1.3392, Test Loss: 1.3206\n",
      "Epoch 7/20, Train Loss: 1.2972, Test Loss: 1.3128\n",
      "Epoch 8/20, Train Loss: 1.2609, Test Loss: 1.2895\n",
      "Epoch 9/20, Train Loss: 1.2243, Test Loss: 1.2714\n",
      "Epoch 10/20, Train Loss: 1.1911, Test Loss: 1.2516\n",
      "Epoch 11/20, Train Loss: 1.1639, Test Loss: 1.2628\n",
      "Epoch 12/20, Train Loss: 1.1345, Test Loss: 1.2428\n",
      "Epoch 13/20, Train Loss: 1.1031, Test Loss: 1.2403\n",
      "Epoch 14/20, Train Loss: 1.0740, Test Loss: 1.2426\n",
      "Epoch 15/20, Train Loss: 1.0495, Test Loss: 1.2423\n",
      "Epoch 16/20, Train Loss: 1.0263, Test Loss: 1.2213\n",
      "Epoch 17/20, Train Loss: 0.9998, Test Loss: 1.2283\n",
      "Epoch 18/20, Train Loss: 0.9806, Test Loss: 1.2161\n",
      "Epoch 19/20, Train Loss: 0.9522, Test Loss: 1.2206\n"
     ]
    },
    {
     "name": "stderr",
     "output_type": "stream",
     "text": [
      "[I 2025-03-13 02:25:54,833] Trial 44 finished with value: 1.2226637903648088 and parameters: {'dropout_rate': 0.3933097076194569, 'learning_rate': 0.00011973269162349837, 'batch_size': 128, 'epochs': 20}. Best is trial 33 with value: 1.2149787535682655.\n"
     ]
    },
    {
     "name": "stdout",
     "output_type": "stream",
     "text": [
      "Epoch 20/20, Train Loss: 0.9353, Test Loss: 1.2227\n",
      "Files already downloaded and verified\n",
      "Files already downloaded and verified\n",
      "Epoch 1/17, Train Loss: 1.9769, Test Loss: 1.7208\n",
      "Epoch 2/17, Train Loss: 1.7061, Test Loss: 1.5852\n",
      "Epoch 3/17, Train Loss: 1.6078, Test Loss: 1.5214\n",
      "Epoch 4/17, Train Loss: 1.5361, Test Loss: 1.4564\n",
      "Epoch 5/17, Train Loss: 1.4806, Test Loss: 1.4162\n",
      "Epoch 6/17, Train Loss: 1.4422, Test Loss: 1.3879\n",
      "Epoch 7/17, Train Loss: 1.3998, Test Loss: 1.3618\n",
      "Epoch 8/17, Train Loss: 1.3655, Test Loss: 1.3446\n",
      "Epoch 9/17, Train Loss: 1.3345, Test Loss: 1.3254\n",
      "Epoch 10/17, Train Loss: 1.3073, Test Loss: 1.3128\n",
      "Epoch 11/17, Train Loss: 1.2798, Test Loss: 1.2954\n",
      "Epoch 12/17, Train Loss: 1.2553, Test Loss: 1.2844\n",
      "Epoch 13/17, Train Loss: 1.2313, Test Loss: 1.2792\n",
      "Epoch 14/17, Train Loss: 1.2024, Test Loss: 1.2714\n",
      "Epoch 15/17, Train Loss: 1.1787, Test Loss: 1.2695\n",
      "Epoch 16/17, Train Loss: 1.1610, Test Loss: 1.2558\n"
     ]
    },
    {
     "name": "stderr",
     "output_type": "stream",
     "text": [
      "[I 2025-03-13 02:30:11,289] Trial 45 finished with value: 1.2509566470037532 and parameters: {'dropout_rate': 0.4000111948698421, 'learning_rate': 4.0469641692609044e-05, 'batch_size': 128, 'epochs': 17}. Best is trial 33 with value: 1.2149787535682655.\n"
     ]
    },
    {
     "name": "stdout",
     "output_type": "stream",
     "text": [
      "Epoch 17/17, Train Loss: 1.1446, Test Loss: 1.2510\n",
      "Files already downloaded and verified\n",
      "Files already downloaded and verified\n",
      "Epoch 1/20, Train Loss: 1.8900, Test Loss: 1.6212\n",
      "Epoch 2/20, Train Loss: 1.6591, Test Loss: 1.5172\n",
      "Epoch 3/20, Train Loss: 1.5659, Test Loss: 1.4565\n",
      "Epoch 4/20, Train Loss: 1.5007, Test Loss: 1.4176\n",
      "Epoch 5/20, Train Loss: 1.4505, Test Loss: 1.3761\n",
      "Epoch 6/20, Train Loss: 1.4070, Test Loss: 1.3563\n",
      "Epoch 7/20, Train Loss: 1.3714, Test Loss: 1.3407\n",
      "Epoch 8/20, Train Loss: 1.3387, Test Loss: 1.3273\n",
      "Epoch 9/20, Train Loss: 1.3069, Test Loss: 1.2993\n",
      "Epoch 10/20, Train Loss: 1.2782, Test Loss: 1.2904\n",
      "Epoch 11/20, Train Loss: 1.2528, Test Loss: 1.2825\n",
      "Epoch 12/20, Train Loss: 1.2317, Test Loss: 1.2677\n",
      "Epoch 13/20, Train Loss: 1.2124, Test Loss: 1.2616\n",
      "Epoch 14/20, Train Loss: 1.1850, Test Loss: 1.2518\n",
      "Epoch 15/20, Train Loss: 1.1631, Test Loss: 1.2512\n",
      "Epoch 16/20, Train Loss: 1.1440, Test Loss: 1.2467\n",
      "Epoch 17/20, Train Loss: 1.1224, Test Loss: 1.2357\n",
      "Epoch 18/20, Train Loss: 1.1022, Test Loss: 1.2324\n",
      "Epoch 19/20, Train Loss: 1.0847, Test Loss: 1.2245\n"
     ]
    },
    {
     "name": "stderr",
     "output_type": "stream",
     "text": [
      "[I 2025-03-13 02:35:23,812] Trial 46 finished with value: 1.2179034337212769 and parameters: {'dropout_rate': 0.47327342524668004, 'learning_rate': 0.00011237709906739258, 'batch_size': 128, 'epochs': 20}. Best is trial 33 with value: 1.2149787535682655.\n"
     ]
    },
    {
     "name": "stdout",
     "output_type": "stream",
     "text": [
      "Epoch 20/20, Train Loss: 1.0713, Test Loss: 1.2179\n",
      "Files already downloaded and verified\n",
      "Files already downloaded and verified\n",
      "Epoch 1/25, Train Loss: 1.8939, Test Loss: 1.6386\n",
      "Epoch 2/25, Train Loss: 1.6638, Test Loss: 1.5283\n",
      "Epoch 3/25, Train Loss: 1.5727, Test Loss: 1.4778\n",
      "Epoch 4/25, Train Loss: 1.5121, Test Loss: 1.4332\n",
      "Epoch 5/25, Train Loss: 1.4660, Test Loss: 1.3896\n",
      "Epoch 6/25, Train Loss: 1.4158, Test Loss: 1.3527\n",
      "Epoch 7/25, Train Loss: 1.3830, Test Loss: 1.3483\n",
      "Epoch 8/25, Train Loss: 1.3502, Test Loss: 1.3273\n",
      "Epoch 9/25, Train Loss: 1.3196, Test Loss: 1.3004\n",
      "Epoch 10/25, Train Loss: 1.2911, Test Loss: 1.2982\n",
      "Epoch 11/25, Train Loss: 1.2639, Test Loss: 1.2977\n",
      "Epoch 12/25, Train Loss: 1.2392, Test Loss: 1.2726\n",
      "Epoch 13/25, Train Loss: 1.2172, Test Loss: 1.2819\n",
      "Epoch 14/25, Train Loss: 1.1900, Test Loss: 1.2633\n",
      "Epoch 15/25, Train Loss: 1.1731, Test Loss: 1.2467\n",
      "Epoch 16/25, Train Loss: 1.1597, Test Loss: 1.2450\n",
      "Epoch 17/25, Train Loss: 1.1328, Test Loss: 1.2418\n",
      "Epoch 18/25, Train Loss: 1.1131, Test Loss: 1.2287\n",
      "Epoch 19/25, Train Loss: 1.1009, Test Loss: 1.2288\n",
      "Epoch 20/25, Train Loss: 1.0786, Test Loss: 1.2291\n",
      "Epoch 21/25, Train Loss: 1.0624, Test Loss: 1.2207\n",
      "Epoch 22/25, Train Loss: 1.0471, Test Loss: 1.2222\n",
      "Epoch 23/25, Train Loss: 1.0350, Test Loss: 1.2116\n",
      "Epoch 24/25, Train Loss: 1.0188, Test Loss: 1.2167\n"
     ]
    },
    {
     "name": "stderr",
     "output_type": "stream",
     "text": [
      "[I 2025-03-13 02:41:49,059] Trial 47 finished with value: 1.224051473261435 and parameters: {'dropout_rate': 0.48369843886464836, 'learning_rate': 0.00011566114056761124, 'batch_size': 128, 'epochs': 25}. Best is trial 33 with value: 1.2149787535682655.\n"
     ]
    },
    {
     "name": "stdout",
     "output_type": "stream",
     "text": [
      "Epoch 25/25, Train Loss: 1.0001, Test Loss: 1.2241\n",
      "Files already downloaded and verified\n",
      "Files already downloaded and verified\n",
      "Epoch 1/20, Train Loss: 1.9849, Test Loss: 1.7199\n",
      "Epoch 2/20, Train Loss: 1.7186, Test Loss: 1.5885\n",
      "Epoch 3/20, Train Loss: 1.6269, Test Loss: 1.5253\n",
      "Epoch 4/20, Train Loss: 1.5577, Test Loss: 1.4699\n",
      "Epoch 5/20, Train Loss: 1.5009, Test Loss: 1.4271\n",
      "Epoch 6/20, Train Loss: 1.4599, Test Loss: 1.3926\n",
      "Epoch 7/20, Train Loss: 1.4244, Test Loss: 1.3707\n",
      "Epoch 8/20, Train Loss: 1.3921, Test Loss: 1.3489\n",
      "Epoch 9/20, Train Loss: 1.3632, Test Loss: 1.3322\n",
      "Epoch 10/20, Train Loss: 1.3329, Test Loss: 1.3223\n",
      "Epoch 11/20, Train Loss: 1.3075, Test Loss: 1.3085\n",
      "Epoch 12/20, Train Loss: 1.2815, Test Loss: 1.2949\n",
      "Epoch 13/20, Train Loss: 1.2604, Test Loss: 1.2839\n",
      "Epoch 14/20, Train Loss: 1.2419, Test Loss: 1.2818\n",
      "Epoch 15/20, Train Loss: 1.2187, Test Loss: 1.2667\n",
      "Epoch 16/20, Train Loss: 1.1992, Test Loss: 1.2615\n",
      "Epoch 17/20, Train Loss: 1.1830, Test Loss: 1.2522\n",
      "Epoch 18/20, Train Loss: 1.1600, Test Loss: 1.2558\n",
      "Epoch 19/20, Train Loss: 1.1489, Test Loss: 1.2440\n"
     ]
    },
    {
     "name": "stderr",
     "output_type": "stream",
     "text": [
      "[I 2025-03-13 02:47:11,701] Trial 48 finished with value: 1.237855089616172 and parameters: {'dropout_rate': 0.46650271569011303, 'learning_rate': 5.1528048246759715e-05, 'batch_size': 128, 'epochs': 20}. Best is trial 33 with value: 1.2149787535682655.\n"
     ]
    },
    {
     "name": "stdout",
     "output_type": "stream",
     "text": [
      "Epoch 20/20, Train Loss: 1.1272, Test Loss: 1.2379\n",
      "Files already downloaded and verified\n",
      "Files already downloaded and verified\n",
      "Epoch 1/22, Train Loss: 1.7615, Test Loss: 1.6038\n",
      "Epoch 2/22, Train Loss: 1.5812, Test Loss: 1.4857\n",
      "Epoch 3/22, Train Loss: 1.4966, Test Loss: 1.4498\n",
      "Epoch 4/22, Train Loss: 1.4355, Test Loss: 1.4118\n",
      "Epoch 5/22, Train Loss: 1.3906, Test Loss: 1.4007\n",
      "Epoch 6/22, Train Loss: 1.3458, Test Loss: 1.3650\n",
      "Epoch 7/22, Train Loss: 1.3013, Test Loss: 1.3819\n",
      "Epoch 8/22, Train Loss: 1.2682, Test Loss: 1.3492\n",
      "Epoch 9/22, Train Loss: 1.2351, Test Loss: 1.3607\n",
      "Epoch 10/22, Train Loss: 1.2054, Test Loss: 1.3550\n",
      "Epoch 11/22, Train Loss: 1.1857, Test Loss: 1.3454\n",
      "Epoch 12/22, Train Loss: 1.1501, Test Loss: 1.3185\n",
      "Epoch 13/22, Train Loss: 1.1248, Test Loss: 1.3561\n",
      "Epoch 14/22, Train Loss: 1.1056, Test Loss: 1.3198\n",
      "Epoch 15/22, Train Loss: 1.0735, Test Loss: 1.3440\n",
      "Epoch 16/22, Train Loss: 1.0639, Test Loss: 1.3318\n",
      "Epoch 17/22, Train Loss: 1.0427, Test Loss: 1.3470\n",
      "Epoch 18/22, Train Loss: 1.0136, Test Loss: 1.3749\n",
      "Epoch 19/22, Train Loss: 0.9920, Test Loss: 1.3539\n",
      "Epoch 20/22, Train Loss: 0.9762, Test Loss: 1.3584\n",
      "Epoch 21/22, Train Loss: 0.9586, Test Loss: 1.3737\n"
     ]
    },
    {
     "name": "stderr",
     "output_type": "stream",
     "text": [
      "[I 2025-03-13 02:52:52,760] Trial 49 finished with value: 1.3673747144167936 and parameters: {'dropout_rate': 0.23940480478152393, 'learning_rate': 0.001023270771627014, 'batch_size': 128, 'epochs': 22}. Best is trial 33 with value: 1.2149787535682655.\n"
     ]
    },
    {
     "name": "stdout",
     "output_type": "stream",
     "text": [
      "Epoch 22/22, Train Loss: 0.9433, Test Loss: 1.3674\n",
      "Best trial:\n",
      "  Value: 1.2149787535682655\n",
      "  Params:\n",
      "    dropout_rate: 0.43999374377714207\n",
      "    learning_rate: 8.563695992322964e-05\n",
      "    batch_size: 32\n",
      "    epochs: 20\n"
     ]
    }
   ],
   "source": [
    "# Settings of searching by Optuna\n",
    "study = optuna.create_study(direction='minimize')\n",
    "study.optimize(objective, n_trials=50)\n",
    "\n",
    "# Getting the best hyperparameters\n",
    "print(\"Best trial:\")\n",
    "trial = study.best_trial\n",
    "print(f\"  Value: {trial.value}\")\n",
    "print(\"  Params:\")\n",
    "for key, value in trial.params.items():\n",
    "    print(f\"    {key}: {value}\")"
   ]
  }
 ],
 "metadata": {
  "kernelspec": {
   "display_name": "Python 3",
   "language": "python",
   "name": "python3"
  },
  "language_info": {
   "codemirror_mode": {
    "name": "ipython",
    "version": 3
   },
   "file_extension": ".py",
   "mimetype": "text/x-python",
   "name": "python",
   "nbconvert_exporter": "python",
   "pygments_lexer": "ipython3",
   "version": "3.12.0"
  }
 },
 "nbformat": 4,
 "nbformat_minor": 2
}
